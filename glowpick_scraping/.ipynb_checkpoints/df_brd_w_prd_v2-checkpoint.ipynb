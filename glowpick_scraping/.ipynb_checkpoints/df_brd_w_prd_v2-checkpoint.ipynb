{
 "cells": [
  {
   "cell_type": "markdown",
   "id": "b0dc99b3-40e8-487c-a0a6-0ab7e2adc6fa",
   "metadata": {},
   "source": [
    "# df_brd_w_prd_v2"
   ]
  },
  {
   "cell_type": "code",
   "execution_count": 1,
   "id": "77c0cfac-b280-4336-aea5-93068f954ab9",
   "metadata": {},
   "outputs": [],
   "source": [
    "import os\n",
    "import re\n",
    "import pandas as pd\n",
    "import pickle\n",
    "import collections\n",
    "import numpy as np\n",
    "import math\n",
    "from ast import literal_eval\n",
    "from time import gmtime, strftime\n",
    "import re\n",
    "import time\n",
    "from bs4 import BeautifulSoup\n",
    "#$from tqdm import tnrange, tqdm_notebook\n",
    "from tqdm.auto import tqdm\n",
    "\n",
    "# Scrapping\n",
    "import selenium\n",
    "from selenium import webdriver\n",
    "from selenium.webdriver.common.keys import Keys\n",
    "from selenium.webdriver.support.ui import WebDriverWait\n",
    "from selenium.webdriver.support import expected_conditions as EC\n",
    "from webdriver_manager.chrome import ChromeDriverManager\n",
    "from selenium.webdriver.common.by import By\n",
    "from selenium.webdriver.chrome.options import Options\n",
    "from fake_useragent import UserAgent\n",
    "\n",
    "# Error Handling\n",
    "import socket\n",
    "import urllib3\n",
    "import urllib.request\n",
    "from urllib.request import urlopen\n",
    "from urllib.parse import quote_plus\n",
    "from urllib.request import urlretrieve\n",
    "from selenium.common.exceptions import NoSuchElementException, ElementNotInteractableException, ElementClickInterceptedException\n",
    "import warnings\n",
    "warnings.filterwarnings('ignore')\n",
    "\n",
    "from collections import defaultdict"
   ]
  },
  {
   "cell_type": "markdown",
   "id": "c678b579-0e6b-4b6e-8f56-dfed034ea0a9",
   "metadata": {},
   "source": [
    "# 1. 크롤링해서 받아온 dictionary를 brd_info에 붙이기"
   ]
  },
  {
   "cell_type": "code",
   "execution_count": 2,
   "id": "c9387ad7-69fc-44f6-be48-46ef085c3293",
   "metadata": {},
   "outputs": [
    {
     "name": "stdout",
     "output_type": "stream",
     "text": [
      "Current working directory :  G:\\내 드라이브\\Internship-2021F\\glowpick_scraping\n"
     ]
    }
   ],
   "source": [
    "import os\n",
    "\n",
    "print(\"Current working directory : \", os.getcwd())"
   ]
  },
  {
   "cell_type": "code",
   "execution_count": 9,
   "id": "cee0eb38-eb75-4e1f-a8ff-a5cdaeb49326",
   "metadata": {},
   "outputs": [],
   "source": [
    "import pickle\n",
    "\n",
    "with open(\"dict_prd_link_v2.txt\", \"rb\") as fp:\n",
    "    dict_prd_link_v2 = pickle.load(fp)\n",
    "    \n",
    "with open(\"dict_prd_name_v2.txt\", \"rb\") as fp:\n",
    "    dict_prd_name_v2 = pickle.load(fp)"
   ]
  },
  {
   "cell_type": "code",
   "execution_count": 6,
   "id": "dbf9b0f2-03e1-4837-b961-0c09f1825476",
   "metadata": {},
   "outputs": [],
   "source": [
    "df_brd = pd.read_csv(\"brd_info.csv\")\n",
    "df_brd = df_brd.iloc[:, 1:]"
   ]
  },
  {
   "cell_type": "code",
   "execution_count": 15,
   "id": "aabd8633-72fe-4b7f-93d0-ea647b8d1793",
   "metadata": {},
   "outputs": [],
   "source": [
    "df_brd['product_link'] = df_brd['brand_name'].map(dict_prd_link_v2)\n",
    "df_brd['product_name'] = df_brd['brand_name'].map(dict_prd_name_v2)"
   ]
  },
  {
   "cell_type": "code",
   "execution_count": 18,
   "id": "12386228-fecc-4e15-ad71-ba705703f05f",
   "metadata": {},
   "outputs": [],
   "source": [
    "df_brd_w_prd_v2 = df_brd.copy()"
   ]
  },
  {
   "cell_type": "markdown",
   "id": "6bda6fa0-3534-454b-96e5-c73571dc68d4",
   "metadata": {},
   "source": [
    "# 2. 결측값(nan), 빈리스트([]) 파악"
   ]
  },
  {
   "cell_type": "code",
   "execution_count": 8,
   "id": "016889db-0e7d-433b-8265-158efe765708",
   "metadata": {
    "collapsed": true,
    "jupyter": {
     "outputs_hidden": true
    },
    "tags": []
   },
   "outputs": [
    {
     "data": {
      "text/html": [
       "<div>\n",
       "<style scoped>\n",
       "    .dataframe tbody tr th:only-of-type {\n",
       "        vertical-align: middle;\n",
       "    }\n",
       "\n",
       "    .dataframe tbody tr th {\n",
       "        vertical-align: top;\n",
       "    }\n",
       "\n",
       "    .dataframe thead th {\n",
       "        text-align: right;\n",
       "    }\n",
       "</style>\n",
       "<table border=\"1\" class=\"dataframe\">\n",
       "  <thead>\n",
       "    <tr style=\"text-align: right;\">\n",
       "      <th></th>\n",
       "      <th>Unnamed: 0</th>\n",
       "      <th>brand_code</th>\n",
       "      <th>brand_name</th>\n",
       "      <th>category</th>\n",
       "      <th>product_link</th>\n",
       "      <th>product_name</th>\n",
       "    </tr>\n",
       "  </thead>\n",
       "  <tbody>\n",
       "    <tr>\n",
       "      <th>0</th>\n",
       "      <td>False</td>\n",
       "      <td>False</td>\n",
       "      <td>False</td>\n",
       "      <td>False</td>\n",
       "      <td>False</td>\n",
       "      <td>False</td>\n",
       "    </tr>\n",
       "    <tr>\n",
       "      <th>1</th>\n",
       "      <td>False</td>\n",
       "      <td>False</td>\n",
       "      <td>False</td>\n",
       "      <td>False</td>\n",
       "      <td>False</td>\n",
       "      <td>False</td>\n",
       "    </tr>\n",
       "    <tr>\n",
       "      <th>2</th>\n",
       "      <td>False</td>\n",
       "      <td>False</td>\n",
       "      <td>False</td>\n",
       "      <td>False</td>\n",
       "      <td>False</td>\n",
       "      <td>False</td>\n",
       "    </tr>\n",
       "    <tr>\n",
       "      <th>3</th>\n",
       "      <td>False</td>\n",
       "      <td>False</td>\n",
       "      <td>False</td>\n",
       "      <td>False</td>\n",
       "      <td>False</td>\n",
       "      <td>False</td>\n",
       "    </tr>\n",
       "    <tr>\n",
       "      <th>4</th>\n",
       "      <td>False</td>\n",
       "      <td>False</td>\n",
       "      <td>False</td>\n",
       "      <td>False</td>\n",
       "      <td>False</td>\n",
       "      <td>False</td>\n",
       "    </tr>\n",
       "    <tr>\n",
       "      <th>...</th>\n",
       "      <td>...</td>\n",
       "      <td>...</td>\n",
       "      <td>...</td>\n",
       "      <td>...</td>\n",
       "      <td>...</td>\n",
       "      <td>...</td>\n",
       "    </tr>\n",
       "    <tr>\n",
       "      <th>8047</th>\n",
       "      <td>False</td>\n",
       "      <td>False</td>\n",
       "      <td>False</td>\n",
       "      <td>False</td>\n",
       "      <td>False</td>\n",
       "      <td>False</td>\n",
       "    </tr>\n",
       "    <tr>\n",
       "      <th>8048</th>\n",
       "      <td>False</td>\n",
       "      <td>False</td>\n",
       "      <td>False</td>\n",
       "      <td>False</td>\n",
       "      <td>False</td>\n",
       "      <td>False</td>\n",
       "    </tr>\n",
       "    <tr>\n",
       "      <th>8049</th>\n",
       "      <td>False</td>\n",
       "      <td>False</td>\n",
       "      <td>False</td>\n",
       "      <td>False</td>\n",
       "      <td>False</td>\n",
       "      <td>False</td>\n",
       "    </tr>\n",
       "    <tr>\n",
       "      <th>8050</th>\n",
       "      <td>False</td>\n",
       "      <td>False</td>\n",
       "      <td>False</td>\n",
       "      <td>False</td>\n",
       "      <td>False</td>\n",
       "      <td>False</td>\n",
       "    </tr>\n",
       "    <tr>\n",
       "      <th>8051</th>\n",
       "      <td>False</td>\n",
       "      <td>False</td>\n",
       "      <td>False</td>\n",
       "      <td>False</td>\n",
       "      <td>False</td>\n",
       "      <td>False</td>\n",
       "    </tr>\n",
       "  </tbody>\n",
       "</table>\n",
       "<p>8052 rows × 6 columns</p>\n",
       "</div>"
      ],
      "text/plain": [
       "      Unnamed: 0  brand_code  brand_name  category  product_link  product_name\n",
       "0          False       False       False     False         False         False\n",
       "1          False       False       False     False         False         False\n",
       "2          False       False       False     False         False         False\n",
       "3          False       False       False     False         False         False\n",
       "4          False       False       False     False         False         False\n",
       "...          ...         ...         ...       ...           ...           ...\n",
       "8047       False       False       False     False         False         False\n",
       "8048       False       False       False     False         False         False\n",
       "8049       False       False       False     False         False         False\n",
       "8050       False       False       False     False         False         False\n",
       "8051       False       False       False     False         False         False\n",
       "\n",
       "[8052 rows x 6 columns]"
      ]
     },
     "execution_count": 8,
     "metadata": {},
     "output_type": "execute_result"
    }
   ],
   "source": [
    "df_brd_w_prd_v2.isnull()"
   ]
  },
  {
   "cell_type": "code",
   "execution_count": 53,
   "id": "f306ef7b-af10-473e-967e-4d853ccd43a0",
   "metadata": {},
   "outputs": [],
   "source": [
    "nan = df_brd_w_prd_v2[df_brd_w_prd_v2['product_link'].isnull()].index"
   ]
  },
  {
   "cell_type": "code",
   "execution_count": 50,
   "id": "c01ad313-9641-4dfb-a03b-1b0f8b6f3978",
   "metadata": {},
   "outputs": [
    {
     "data": {
      "text/html": [
       "<div>\n",
       "<style scoped>\n",
       "    .dataframe tbody tr th:only-of-type {\n",
       "        vertical-align: middle;\n",
       "    }\n",
       "\n",
       "    .dataframe tbody tr th {\n",
       "        vertical-align: top;\n",
       "    }\n",
       "\n",
       "    .dataframe thead th {\n",
       "        text-align: right;\n",
       "    }\n",
       "</style>\n",
       "<table border=\"1\" class=\"dataframe\">\n",
       "  <thead>\n",
       "    <tr style=\"text-align: right;\">\n",
       "      <th></th>\n",
       "      <th>brand_code</th>\n",
       "      <th>brand_name</th>\n",
       "      <th>category</th>\n",
       "      <th>product_link</th>\n",
       "      <th>product_name</th>\n",
       "    </tr>\n",
       "  </thead>\n",
       "  <tbody>\n",
       "  </tbody>\n",
       "</table>\n",
       "</div>"
      ],
      "text/plain": [
       "Empty DataFrame\n",
       "Columns: [brand_code, brand_name, category, product_link, product_name]\n",
       "Index: []"
      ]
     },
     "execution_count": 50,
     "metadata": {},
     "output_type": "execute_result"
    }
   ],
   "source": [
    "df_brd_w_prd_v2[df_brd_w_prd_v2['product_name'].isnull()]"
   ]
  },
  {
   "cell_type": "code",
   "execution_count": 38,
   "id": "a42407b0-58cc-4540-b978-64c40d0413c8",
   "metadata": {},
   "outputs": [
    {
     "data": {
      "text/plain": [
       "list"
      ]
     },
     "execution_count": 38,
     "metadata": {},
     "output_type": "execute_result"
    }
   ],
   "source": [
    "type(df_brd_w_prd_v2.loc[8003, 'product_link'])"
   ]
  },
  {
   "cell_type": "code",
   "execution_count": 36,
   "id": "13ffb147-87b7-455d-81d5-512240e2dc49",
   "metadata": {
    "collapsed": true,
    "jupyter": {
     "outputs_hidden": true
    },
    "tags": []
   },
   "outputs": [
    {
     "data": {
      "text/html": [
       "<div>\n",
       "<style scoped>\n",
       "    .dataframe tbody tr th:only-of-type {\n",
       "        vertical-align: middle;\n",
       "    }\n",
       "\n",
       "    .dataframe tbody tr th {\n",
       "        vertical-align: top;\n",
       "    }\n",
       "\n",
       "    .dataframe thead th {\n",
       "        text-align: right;\n",
       "    }\n",
       "</style>\n",
       "<table border=\"1\" class=\"dataframe\">\n",
       "  <thead>\n",
       "    <tr style=\"text-align: right;\">\n",
       "      <th></th>\n",
       "      <th>brand_code</th>\n",
       "      <th>brand_name</th>\n",
       "      <th>category</th>\n",
       "      <th>product_link</th>\n",
       "      <th>product_name</th>\n",
       "    </tr>\n",
       "  </thead>\n",
       "  <tbody>\n",
       "    <tr>\n",
       "      <th>8002</th>\n",
       "      <td>https://www.glowpick.com/brands/7740</td>\n",
       "      <td>TMTR</td>\n",
       "      <td>['마스크/팩']</td>\n",
       "      <td>[https://www.glowpick.com/products/102000]</td>\n",
       "      <td>[눈꽃 마스크팩]</td>\n",
       "    </tr>\n",
       "    <tr>\n",
       "      <th>8003</th>\n",
       "      <td>https://www.glowpick.com/brands/10295</td>\n",
       "      <td>TRUE LIFE</td>\n",
       "      <td>['이너뷰티']</td>\n",
       "      <td>[]</td>\n",
       "      <td>[]</td>\n",
       "    </tr>\n",
       "    <tr>\n",
       "      <th>8004</th>\n",
       "      <td>https://www.glowpick.com/brands/11764</td>\n",
       "      <td>TNU</td>\n",
       "      <td>['스킨케어', '생활용품']</td>\n",
       "      <td>[https://www.glowpick.com/products/146975, htt...</td>\n",
       "      <td>[락토멜리아 마일드 폼 워시, 락토멜리아 프로바이오발란스 리페어 크림]</td>\n",
       "    </tr>\n",
       "    <tr>\n",
       "      <th>8005</th>\n",
       "      <td>https://www.glowpick.com/brands/3793</td>\n",
       "      <td>TS</td>\n",
       "      <td>['이너뷰티', '아이메이크업', '클렌징', '마스크/팩', '배쓰&amp;바디', '헤...</td>\n",
       "      <td>[https://www.glowpick.com/products/95342, http...</td>\n",
       "      <td>[TS래쉬, TS마스크팩, 올뉴TS샴푸, TS헤어팩, 프리미엄TS트리트먼트, TS착...</td>\n",
       "    </tr>\n",
       "    <tr>\n",
       "      <th>8006</th>\n",
       "      <td>https://www.glowpick.com/brands/6397</td>\n",
       "      <td>TSS</td>\n",
       "      <td>['아이메이크업']</td>\n",
       "      <td>[https://www.glowpick.com/products/85482]</td>\n",
       "      <td>[타투 아이브로우]</td>\n",
       "    </tr>\n",
       "    <tr>\n",
       "      <th>8007</th>\n",
       "      <td>https://www.glowpick.com/brands/7120</td>\n",
       "      <td>TSW</td>\n",
       "      <td>['페이스메이크업', '립메이크업', '아이메이크업']</td>\n",
       "      <td>[https://www.glowpick.com/products/108099, htt...</td>\n",
       "      <td>[매트 핏 올킬 립스틱, 매직 아이틴트, 매직 워터틴트, 올킬 붓펜 아이라이너, 모...</td>\n",
       "    </tr>\n",
       "    <tr>\n",
       "      <th>8008</th>\n",
       "      <td>https://www.glowpick.com/brands/11613</td>\n",
       "      <td>TZ코스메틱</td>\n",
       "      <td>['스킨케어']</td>\n",
       "      <td>[https://www.glowpick.com/products/144953]</td>\n",
       "      <td>[물푸레 맑은 수분 토너]</td>\n",
       "    </tr>\n",
       "    <tr>\n",
       "      <th>8009</th>\n",
       "      <td>https://www.glowpick.com/brands/11544</td>\n",
       "      <td>UUUUU</td>\n",
       "      <td>['네일']</td>\n",
       "      <td>[https://www.glowpick.com/products/144230, htt...</td>\n",
       "      <td>[젤 네일, (젬스톤 컬렉션) 젤 네일]</td>\n",
       "    </tr>\n",
       "    <tr>\n",
       "      <th>8010</th>\n",
       "      <td>https://www.glowpick.com/brands/11</td>\n",
       "      <td>VDL</td>\n",
       "      <td>['스킨케어', '페이스메이크업', '립메이크업', '아이메이크업', '컨투어링',...</td>\n",
       "      <td>[https://www.glowpick.com/products/92409, http...</td>\n",
       "      <td>[엑스퍼트 아이밤 부스팅 픽서, 페스티벌 블러셔, 엑스퍼트 컬러 프라이머 포 아이즈...</td>\n",
       "    </tr>\n",
       "    <tr>\n",
       "      <th>8011</th>\n",
       "      <td>https://www.glowpick.com/brands/6652</td>\n",
       "      <td>VT COSMETICS</td>\n",
       "      <td>['스킨케어', '페이스메이크업', '립메이크업', '아이메이크업', '컨투어링',...</td>\n",
       "      <td>[https://www.glowpick.com/products/106938, htt...</td>\n",
       "      <td>[스팟 패치, 시카 마스크 팩, 프로그로스 콜라겐 팩트 [SPF50+/PA++++]...</td>\n",
       "    </tr>\n",
       "    <tr>\n",
       "      <th>8012</th>\n",
       "      <td>https://www.glowpick.com/brands/7436</td>\n",
       "      <td>W.SKIN LABORATORY</td>\n",
       "      <td>['스킨케어', '마스크/팩', '선케어', '배쓰&amp;바디', '프래그런스']</td>\n",
       "      <td>[]</td>\n",
       "      <td>[]</td>\n",
       "    </tr>\n",
       "    <tr>\n",
       "      <th>8013</th>\n",
       "      <td>https://www.glowpick.com/brands/2304</td>\n",
       "      <td>W7</td>\n",
       "      <td>['아이메이크업', '컨투어링']</td>\n",
       "      <td>[https://www.glowpick.com/products/129542, htt...</td>\n",
       "      <td>[소셜라이트 아이섀도우 팔레트, 블레이진 아이섀도우 팔레트, 인 더 버프 아이 컬러...</td>\n",
       "    </tr>\n",
       "    <tr>\n",
       "      <th>8014</th>\n",
       "      <td>https://www.glowpick.com/brands/2454</td>\n",
       "      <td>WHY</td>\n",
       "      <td>['스킨케어', '클렌징', '배쓰&amp;바디', '헤어']</td>\n",
       "      <td>[https://www.glowpick.com/products/39831, http...</td>\n",
       "      <td>[프렌치부케 샴푸, 퓨리파잉 내추럴 프로그래밍 에센스, 딜라이트 로즈 바디로션, 아...</td>\n",
       "    </tr>\n",
       "    <tr>\n",
       "      <th>8015</th>\n",
       "      <td>https://www.glowpick.com/brands/661</td>\n",
       "      <td>XTM</td>\n",
       "      <td>['남성화장품', '뷰티툴']</td>\n",
       "      <td>[https://www.glowpick.com/products/116276, htt...</td>\n",
       "      <td>[멀티 비비 스틱 [SPF50+/PA++++], 퍼퓸건, 이지 헤어라이너, 올인원 ...</td>\n",
       "    </tr>\n",
       "    <tr>\n",
       "      <th>8016</th>\n",
       "      <td>https://www.glowpick.com/brands/9408</td>\n",
       "      <td>YNM</td>\n",
       "      <td>['립메이크업', '컨투어링', '클렌징', '마스크/팩', '배쓰&amp;바디']</td>\n",
       "      <td>[https://www.glowpick.com/products/120915, htt...</td>\n",
       "      <td>[레인보우 허니 립 밤, 캔디 허니 립밤, 퀵 모닝 앤 나이트 케어 마스크, 립트리...</td>\n",
       "    </tr>\n",
       "    <tr>\n",
       "      <th>8017</th>\n",
       "      <td>https://www.glowpick.com/brands/6009</td>\n",
       "      <td>YS solution</td>\n",
       "      <td>['스킨케어', '선케어']</td>\n",
       "      <td>[]</td>\n",
       "      <td>[]</td>\n",
       "    </tr>\n",
       "    <tr>\n",
       "      <th>8018</th>\n",
       "      <td>https://www.glowpick.com/brands/11352</td>\n",
       "      <td>YSJ cosmetics</td>\n",
       "      <td>['스킨케어']</td>\n",
       "      <td>[]</td>\n",
       "      <td>[]</td>\n",
       "    </tr>\n",
       "    <tr>\n",
       "      <th>8019</th>\n",
       "      <td>https://www.glowpick.com/brands/3641</td>\n",
       "      <td>ZARA</td>\n",
       "      <td>['립메이크업', '아이메이크업', '컨투어링', '프래그런스']</td>\n",
       "      <td>[https://www.glowpick.com/products/135201, htt...</td>\n",
       "      <td>[자라 X 조말론 [베티버 팜플무스], 자라 X 조말론 [에보니 우드], 자라 X ...</td>\n",
       "    </tr>\n",
       "    <tr>\n",
       "      <th>8020</th>\n",
       "      <td>https://www.glowpick.com/brands/9780</td>\n",
       "      <td>ZWC</td>\n",
       "      <td>['스킨케어']</td>\n",
       "      <td>[https://www.glowpick.com/products/125442]</td>\n",
       "      <td>[아이크리미골드세럼 올페이스 81]</td>\n",
       "    </tr>\n",
       "    <tr>\n",
       "      <th>8021</th>\n",
       "      <td>https://www.glowpick.com/brands/6829</td>\n",
       "      <td>0720</td>\n",
       "      <td>['페이스메이크업', '립메이크업', '아이메이크업', '컨투어링', '뷰티툴', ...</td>\n",
       "      <td>[https://www.glowpick.com/products/97145, http...</td>\n",
       "      <td>[베이비 라이크 블러셔, 올백 쿠션 [SPF50+/PA+++], 오일크러쉬 팩트, ...</td>\n",
       "    </tr>\n",
       "    <tr>\n",
       "      <th>8022</th>\n",
       "      <td>https://www.glowpick.com/brands/7696</td>\n",
       "      <td>1.618</td>\n",
       "      <td>['스킨케어', '클렌징', '마스크/팩']</td>\n",
       "      <td>[https://www.glowpick.com/products/101364, htt...</td>\n",
       "      <td>[골드 인텐시브 링클케어 크림, 히알루론산 앰플 토너, 화산송이 클레이 블랙헤드 마...</td>\n",
       "    </tr>\n",
       "    <tr>\n",
       "      <th>8023</th>\n",
       "      <td>https://www.glowpick.com/brands/6812</td>\n",
       "      <td>1028 VISUAL THERAPY</td>\n",
       "      <td>['페이스메이크업', '아이메이크업']</td>\n",
       "      <td>[https://www.glowpick.com/products/92080, http...</td>\n",
       "      <td>[1028 마카롱 아이섀도우 키트, 얼티메이트 오일 컨트롤 파우더]</td>\n",
       "    </tr>\n",
       "    <tr>\n",
       "      <th>8024</th>\n",
       "      <td>https://www.glowpick.com/brands/8584</td>\n",
       "      <td>10mgRx</td>\n",
       "      <td>['스킨케어', '페이스메이크업', '뷰티툴', '클렌징']</td>\n",
       "      <td>[https://www.glowpick.com/products/106275, htt...</td>\n",
       "      <td>[나이아신아마이드5.0 미백 앰플, 프로폴리스50진정토너, 하이드라 비비크림, 울트...</td>\n",
       "    </tr>\n",
       "    <tr>\n",
       "      <th>8025</th>\n",
       "      <td>https://www.glowpick.com/brands/2006</td>\n",
       "      <td>16BRAND</td>\n",
       "      <td>['스킨케어', '페이스메이크업', '립메이크업', '아이메이크업', '컨투어링',...</td>\n",
       "      <td>[https://www.glowpick.com/products/112878, htt...</td>\n",
       "      <td>[16 치크 샷, 16 만능 슈퍼 클렌징 밤, 16 마이 매거진, 알 유 16 테이...</td>\n",
       "    </tr>\n",
       "    <tr>\n",
       "      <th>8026</th>\n",
       "      <td>https://www.glowpick.com/brands/729</td>\n",
       "      <td>1960NY</td>\n",
       "      <td>['스킨케어', '페이스메이크업', '남성화장품', '클렌징']</td>\n",
       "      <td>[https://www.glowpick.com/products/20041, http...</td>\n",
       "      <td>[수퍼 리치 크림, 인텐시브 리바이탈 크림, 모이스처 액티베이트 크림, 퓨어 뷰티 ...</td>\n",
       "    </tr>\n",
       "    <tr>\n",
       "      <th>8027</th>\n",
       "      <td>https://www.glowpick.com/brands/10680</td>\n",
       "      <td>1am</td>\n",
       "      <td>['이너뷰티']</td>\n",
       "      <td>[https://www.glowpick.com/products/137730]</td>\n",
       "      <td>[깔롱젤리그린]</td>\n",
       "    </tr>\n",
       "    <tr>\n",
       "      <th>8028</th>\n",
       "      <td>https://www.glowpick.com/brands/10397</td>\n",
       "      <td>2080</td>\n",
       "      <td>['생활용품']</td>\n",
       "      <td>[https://www.glowpick.com/products/134382, htt...</td>\n",
       "      <td>[동의청은차고은진 치약, 시그니처 토탈블루 치약, 오리지날 치약 [알파블루], 퓨어...</td>\n",
       "    </tr>\n",
       "    <tr>\n",
       "      <th>8029</th>\n",
       "      <td>https://www.glowpick.com/brands/9076</td>\n",
       "      <td>21세기 센트리</td>\n",
       "      <td>['이너뷰티']</td>\n",
       "      <td>[https://www.glowpick.com/products/116480, htt...</td>\n",
       "      <td>[애시도필러스 프로바이오틱 블렌드, 센트리 시니어 여성 종합비타민 및 미네랄]</td>\n",
       "    </tr>\n",
       "    <tr>\n",
       "      <th>8030</th>\n",
       "      <td>https://www.glowpick.com/brands/9801</td>\n",
       "      <td>2202</td>\n",
       "      <td>['스킨케어']</td>\n",
       "      <td>[https://www.glowpick.com/products/125809, htt...</td>\n",
       "      <td>[노시트 마스크팩, 레디언스 시카 토닉 에센스]</td>\n",
       "    </tr>\n",
       "    <tr>\n",
       "      <th>8031</th>\n",
       "      <td>https://www.glowpick.com/brands/2</td>\n",
       "      <td>23 years old</td>\n",
       "      <td>['스킨케어', '페이스메이크업', '클렌징', '마스크/팩', '선케어', '배쓰...</td>\n",
       "      <td>[https://www.glowpick.com/products/46945, http...</td>\n",
       "      <td>[코쿤 윌로우 실키 마스크, 바데카실P, 바데카실 더마실 마스크, CXDX더마에어톡...</td>\n",
       "    </tr>\n",
       "    <tr>\n",
       "      <th>8032</th>\n",
       "      <td>https://www.glowpick.com/brands/8871</td>\n",
       "      <td>236:)</td>\n",
       "      <td>['배쓰&amp;바디', '생활용품']</td>\n",
       "      <td>[]</td>\n",
       "      <td>[]</td>\n",
       "    </tr>\n",
       "    <tr>\n",
       "      <th>8033</th>\n",
       "      <td>https://www.glowpick.com/brands/5708</td>\n",
       "      <td>44401</td>\n",
       "      <td>['스킨케어', '립메이크업']</td>\n",
       "      <td>[]</td>\n",
       "      <td>[]</td>\n",
       "    </tr>\n",
       "    <tr>\n",
       "      <th>8034</th>\n",
       "      <td>https://www.glowpick.com/brands/9426</td>\n",
       "      <td>24MIRACLE</td>\n",
       "      <td>['마스크/팩']</td>\n",
       "      <td>[https://www.glowpick.com/products/121107]</td>\n",
       "      <td>[아쿠아 앰플 마스크]</td>\n",
       "    </tr>\n",
       "    <tr>\n",
       "      <th>8035</th>\n",
       "      <td>https://www.glowpick.com/brands/2005</td>\n",
       "      <td>252코스메틱</td>\n",
       "      <td>['클렌징', '마스크/팩']</td>\n",
       "      <td>[https://www.glowpick.com/products/33438, http...</td>\n",
       "      <td>[252울트라보어이팩트 (화이트), 252 라이크유]</td>\n",
       "    </tr>\n",
       "    <tr>\n",
       "      <th>8036</th>\n",
       "      <td>https://www.glowpick.com/brands/7123</td>\n",
       "      <td>29데이즈</td>\n",
       "      <td>['생활용품']</td>\n",
       "      <td>[https://www.glowpick.com/products/93246, http...</td>\n",
       "      <td>[중형 날개형, 대형 날개형, 팬티라이너롱, 약산성 여성청결제]</td>\n",
       "    </tr>\n",
       "    <tr>\n",
       "      <th>8037</th>\n",
       "      <td>https://www.glowpick.com/brands/5747</td>\n",
       "      <td>2교시피클</td>\n",
       "      <td>['클렌징']</td>\n",
       "      <td>[https://www.glowpick.com/products/76349]</td>\n",
       "      <td>[[단종]  AC컨트롤 클렌징폼]</td>\n",
       "    </tr>\n",
       "    <tr>\n",
       "      <th>8038</th>\n",
       "      <td>https://www.glowpick.com/brands/7722</td>\n",
       "      <td>302화이트</td>\n",
       "      <td>['스킨케어', '클렌징', '마스크/팩']</td>\n",
       "      <td>[https://www.glowpick.com/products/107581, htt...</td>\n",
       "      <td>[아이스브레이킹 크림, 스킨글로우 솔루션1, 투스텝 멜팅 마스크, 스킨글로우 솔루션...</td>\n",
       "    </tr>\n",
       "    <tr>\n",
       "      <th>8039</th>\n",
       "      <td>https://www.glowpick.com/brands/9006</td>\n",
       "      <td>31도씨</td>\n",
       "      <td>['스킨케어']</td>\n",
       "      <td>[https://www.glowpick.com/products/115826, htt...</td>\n",
       "      <td>[스프라웃 아일랜드 모이스처 크림, 스프라웃 아일랜드 골든시위드 페이셜 미스트, 스...</td>\n",
       "    </tr>\n",
       "    <tr>\n",
       "      <th>8040</th>\n",
       "      <td>https://www.glowpick.com/brands/11862</td>\n",
       "      <td>365더건강</td>\n",
       "      <td>['이너뷰티']</td>\n",
       "      <td>[https://www.glowpick.com/products/147882]</td>\n",
       "      <td>[에버뷰티 석류 콜라겐 젤리]</td>\n",
       "    </tr>\n",
       "    <tr>\n",
       "      <th>8041</th>\n",
       "      <td>https://www.glowpick.com/brands/143</td>\n",
       "      <td>3CE</td>\n",
       "      <td>['스킨케어', '페이스메이크업', '립메이크업', '아이메이크업', '컨투어링',...</td>\n",
       "      <td>[https://www.glowpick.com/products/99990, http...</td>\n",
       "      <td>[무드 레시피 페이스 블러쉬, 아이 스위치, 무드 레시피 멀티 아이 컬러 팔레트 [...</td>\n",
       "    </tr>\n",
       "    <tr>\n",
       "      <th>8042</th>\n",
       "      <td>https://www.glowpick.com/brands/7049</td>\n",
       "      <td>3INA</td>\n",
       "      <td>['립메이크업']</td>\n",
       "      <td>[https://www.glowpick.com/products/92714]</td>\n",
       "      <td>[더 처비 립스틱]</td>\n",
       "    </tr>\n",
       "    <tr>\n",
       "      <th>8043</th>\n",
       "      <td>https://www.glowpick.com/brands/2148</td>\n",
       "      <td>3M 넥스케어™</td>\n",
       "      <td>['스킨케어', '남성화장품', '마스크/팩', '배쓰&amp;바디', '생활용품']</td>\n",
       "      <td>[https://www.glowpick.com/products/129966, htt...</td>\n",
       "      <td>[블레미쉬 패치 케어, 블레미쉬 클리어 커버 릴리프, 위생 마스크, 새니타이저 43...</td>\n",
       "    </tr>\n",
       "    <tr>\n",
       "      <th>8044</th>\n",
       "      <td>https://www.glowpick.com/brands/11950</td>\n",
       "      <td>3pages</td>\n",
       "      <td>['스킨케어', '마스크/팩']</td>\n",
       "      <td>[https://www.glowpick.com/products/148581, htt...</td>\n",
       "      <td>[오버나이트 트리트먼트 펩타이드 크림, 하이드로 락 펩타이드 카밍 패드, 오버나이트...</td>\n",
       "    </tr>\n",
       "    <tr>\n",
       "      <th>8045</th>\n",
       "      <td>https://www.glowpick.com/brands/4596</td>\n",
       "      <td>3W 크리닉</td>\n",
       "      <td>['스킨케어', '페이스메이크업', '컨투어링', '클렌징', '선케어', '배쓰&amp;...</td>\n",
       "      <td>[https://www.glowpick.com/products/86262, http...</td>\n",
       "      <td>[모이스처라이징 올리브 핸드크림, 3존 키트, 알로에 베라 수딩젤, 모이스처라이징 ...</td>\n",
       "    </tr>\n",
       "    <tr>\n",
       "      <th>8046</th>\n",
       "      <td>https://www.glowpick.com/brands/10843</td>\n",
       "      <td>3초</td>\n",
       "      <td>['생활용품']</td>\n",
       "      <td>[https://www.glowpick.com/products/138922]</td>\n",
       "      <td>[여성 청결 미스트]</td>\n",
       "    </tr>\n",
       "    <tr>\n",
       "      <th>8047</th>\n",
       "      <td>https://www.glowpick.com/brands/490</td>\n",
       "      <td>4711</td>\n",
       "      <td>['프래그런스']</td>\n",
       "      <td>[https://www.glowpick.com/products/1622, https...</td>\n",
       "      <td>[아쿠아 콜로니아 블러드 오렌지 &amp; 바즐 오 드 코롱, 누보 콜로뉴 오드코롱, 아쿠...</td>\n",
       "    </tr>\n",
       "    <tr>\n",
       "      <th>8048</th>\n",
       "      <td>https://www.glowpick.com/brands/10747</td>\n",
       "      <td>5.2뉴트리션</td>\n",
       "      <td>['이너뷰티']</td>\n",
       "      <td>[https://www.glowpick.com/products/138092]</td>\n",
       "      <td>[다이어트 베이스 [초코맛]]</td>\n",
       "    </tr>\n",
       "    <tr>\n",
       "      <th>8049</th>\n",
       "      <td>https://www.glowpick.com/brands/10183</td>\n",
       "      <td>76N1</td>\n",
       "      <td>['스킨케어', '클렌징', '마스크/팩']</td>\n",
       "      <td>[https://www.glowpick.com/products/140014, htt...</td>\n",
       "      <td>[비 해피 더블 액션 미스트, 비 해피 오일 [대마씨 &amp; 동백], 슈퍼듀퍼 파우더 ...</td>\n",
       "    </tr>\n",
       "    <tr>\n",
       "      <th>8050</th>\n",
       "      <td>https://www.glowpick.com/brands/6814</td>\n",
       "      <td>87발렌타인</td>\n",
       "      <td>['배쓰&amp;바디']</td>\n",
       "      <td>[https://www.glowpick.com/products/89547]</td>\n",
       "      <td>[이상훈의 제모크림]</td>\n",
       "    </tr>\n",
       "    <tr>\n",
       "      <th>8051</th>\n",
       "      <td>https://www.glowpick.com/brands/6151</td>\n",
       "      <td>9컴플렉스</td>\n",
       "      <td>['뷰티툴']</td>\n",
       "      <td>[https://www.glowpick.com/products/81570]</td>\n",
       "      <td>[아이래쉬 뷰러]</td>\n",
       "    </tr>\n",
       "  </tbody>\n",
       "</table>\n",
       "</div>"
      ],
      "text/plain": [
       "                                 brand_code           brand_name  \\\n",
       "8002   https://www.glowpick.com/brands/7740                 TMTR   \n",
       "8003  https://www.glowpick.com/brands/10295            TRUE LIFE   \n",
       "8004  https://www.glowpick.com/brands/11764                  TNU   \n",
       "8005   https://www.glowpick.com/brands/3793                   TS   \n",
       "8006   https://www.glowpick.com/brands/6397                  TSS   \n",
       "8007   https://www.glowpick.com/brands/7120                  TSW   \n",
       "8008  https://www.glowpick.com/brands/11613               TZ코스메틱   \n",
       "8009  https://www.glowpick.com/brands/11544                UUUUU   \n",
       "8010     https://www.glowpick.com/brands/11                  VDL   \n",
       "8011   https://www.glowpick.com/brands/6652         VT COSMETICS   \n",
       "8012   https://www.glowpick.com/brands/7436    W.SKIN LABORATORY   \n",
       "8013   https://www.glowpick.com/brands/2304                   W7   \n",
       "8014   https://www.glowpick.com/brands/2454                  WHY   \n",
       "8015    https://www.glowpick.com/brands/661                  XTM   \n",
       "8016   https://www.glowpick.com/brands/9408                  YNM   \n",
       "8017   https://www.glowpick.com/brands/6009          YS solution   \n",
       "8018  https://www.glowpick.com/brands/11352        YSJ cosmetics   \n",
       "8019   https://www.glowpick.com/brands/3641                 ZARA   \n",
       "8020   https://www.glowpick.com/brands/9780                  ZWC   \n",
       "8021   https://www.glowpick.com/brands/6829                 0720   \n",
       "8022   https://www.glowpick.com/brands/7696                1.618   \n",
       "8023   https://www.glowpick.com/brands/6812  1028 VISUAL THERAPY   \n",
       "8024   https://www.glowpick.com/brands/8584               10mgRx   \n",
       "8025   https://www.glowpick.com/brands/2006              16BRAND   \n",
       "8026    https://www.glowpick.com/brands/729               1960NY   \n",
       "8027  https://www.glowpick.com/brands/10680                  1am   \n",
       "8028  https://www.glowpick.com/brands/10397                 2080   \n",
       "8029   https://www.glowpick.com/brands/9076             21세기 센트리   \n",
       "8030   https://www.glowpick.com/brands/9801                 2202   \n",
       "8031      https://www.glowpick.com/brands/2         23 years old   \n",
       "8032   https://www.glowpick.com/brands/8871                236:)   \n",
       "8033   https://www.glowpick.com/brands/5708                44401   \n",
       "8034   https://www.glowpick.com/brands/9426            24MIRACLE   \n",
       "8035   https://www.glowpick.com/brands/2005              252코스메틱   \n",
       "8036   https://www.glowpick.com/brands/7123                29데이즈   \n",
       "8037   https://www.glowpick.com/brands/5747                2교시피클   \n",
       "8038   https://www.glowpick.com/brands/7722               302화이트   \n",
       "8039   https://www.glowpick.com/brands/9006                 31도씨   \n",
       "8040  https://www.glowpick.com/brands/11862               365더건강   \n",
       "8041    https://www.glowpick.com/brands/143                  3CE   \n",
       "8042   https://www.glowpick.com/brands/7049                 3INA   \n",
       "8043   https://www.glowpick.com/brands/2148             3M 넥스케어™   \n",
       "8044  https://www.glowpick.com/brands/11950               3pages   \n",
       "8045   https://www.glowpick.com/brands/4596               3W 크리닉   \n",
       "8046  https://www.glowpick.com/brands/10843                   3초   \n",
       "8047    https://www.glowpick.com/brands/490                 4711   \n",
       "8048  https://www.glowpick.com/brands/10747              5.2뉴트리션   \n",
       "8049  https://www.glowpick.com/brands/10183                 76N1   \n",
       "8050   https://www.glowpick.com/brands/6814               87발렌타인   \n",
       "8051   https://www.glowpick.com/brands/6151                9컴플렉스   \n",
       "\n",
       "                                               category  \\\n",
       "8002                                          ['마스크/팩']   \n",
       "8003                                           ['이너뷰티']   \n",
       "8004                                   ['스킨케어', '생활용품']   \n",
       "8005  ['이너뷰티', '아이메이크업', '클렌징', '마스크/팩', '배쓰&바디', '헤...   \n",
       "8006                                         ['아이메이크업']   \n",
       "8007                     ['페이스메이크업', '립메이크업', '아이메이크업']   \n",
       "8008                                           ['스킨케어']   \n",
       "8009                                             ['네일']   \n",
       "8010  ['스킨케어', '페이스메이크업', '립메이크업', '아이메이크업', '컨투어링',...   \n",
       "8011  ['스킨케어', '페이스메이크업', '립메이크업', '아이메이크업', '컨투어링',...   \n",
       "8012         ['스킨케어', '마스크/팩', '선케어', '배쓰&바디', '프래그런스']   \n",
       "8013                                 ['아이메이크업', '컨투어링']   \n",
       "8014                     ['스킨케어', '클렌징', '배쓰&바디', '헤어']   \n",
       "8015                                   ['남성화장품', '뷰티툴']   \n",
       "8016         ['립메이크업', '컨투어링', '클렌징', '마스크/팩', '배쓰&바디']   \n",
       "8017                                    ['스킨케어', '선케어']   \n",
       "8018                                           ['스킨케어']   \n",
       "8019               ['립메이크업', '아이메이크업', '컨투어링', '프래그런스']   \n",
       "8020                                           ['스킨케어']   \n",
       "8021  ['페이스메이크업', '립메이크업', '아이메이크업', '컨투어링', '뷰티툴', ...   \n",
       "8022                           ['스킨케어', '클렌징', '마스크/팩']   \n",
       "8023                              ['페이스메이크업', '아이메이크업']   \n",
       "8024                  ['스킨케어', '페이스메이크업', '뷰티툴', '클렌징']   \n",
       "8025  ['스킨케어', '페이스메이크업', '립메이크업', '아이메이크업', '컨투어링',...   \n",
       "8026                ['스킨케어', '페이스메이크업', '남성화장품', '클렌징']   \n",
       "8027                                           ['이너뷰티']   \n",
       "8028                                           ['생활용품']   \n",
       "8029                                           ['이너뷰티']   \n",
       "8030                                           ['스킨케어']   \n",
       "8031  ['스킨케어', '페이스메이크업', '클렌징', '마스크/팩', '선케어', '배쓰...   \n",
       "8032                                  ['배쓰&바디', '생활용품']   \n",
       "8033                                  ['스킨케어', '립메이크업']   \n",
       "8034                                          ['마스크/팩']   \n",
       "8035                                   ['클렌징', '마스크/팩']   \n",
       "8036                                           ['생활용품']   \n",
       "8037                                            ['클렌징']   \n",
       "8038                           ['스킨케어', '클렌징', '마스크/팩']   \n",
       "8039                                           ['스킨케어']   \n",
       "8040                                           ['이너뷰티']   \n",
       "8041  ['스킨케어', '페이스메이크업', '립메이크업', '아이메이크업', '컨투어링',...   \n",
       "8042                                          ['립메이크업']   \n",
       "8043        ['스킨케어', '남성화장품', '마스크/팩', '배쓰&바디', '생활용품']   \n",
       "8044                                  ['스킨케어', '마스크/팩']   \n",
       "8045  ['스킨케어', '페이스메이크업', '컨투어링', '클렌징', '선케어', '배쓰&...   \n",
       "8046                                           ['생활용품']   \n",
       "8047                                          ['프래그런스']   \n",
       "8048                                           ['이너뷰티']   \n",
       "8049                           ['스킨케어', '클렌징', '마스크/팩']   \n",
       "8050                                          ['배쓰&바디']   \n",
       "8051                                            ['뷰티툴']   \n",
       "\n",
       "                                           product_link  \\\n",
       "8002         [https://www.glowpick.com/products/102000]   \n",
       "8003                                                 []   \n",
       "8004  [https://www.glowpick.com/products/146975, htt...   \n",
       "8005  [https://www.glowpick.com/products/95342, http...   \n",
       "8006          [https://www.glowpick.com/products/85482]   \n",
       "8007  [https://www.glowpick.com/products/108099, htt...   \n",
       "8008         [https://www.glowpick.com/products/144953]   \n",
       "8009  [https://www.glowpick.com/products/144230, htt...   \n",
       "8010  [https://www.glowpick.com/products/92409, http...   \n",
       "8011  [https://www.glowpick.com/products/106938, htt...   \n",
       "8012                                                 []   \n",
       "8013  [https://www.glowpick.com/products/129542, htt...   \n",
       "8014  [https://www.glowpick.com/products/39831, http...   \n",
       "8015  [https://www.glowpick.com/products/116276, htt...   \n",
       "8016  [https://www.glowpick.com/products/120915, htt...   \n",
       "8017                                                 []   \n",
       "8018                                                 []   \n",
       "8019  [https://www.glowpick.com/products/135201, htt...   \n",
       "8020         [https://www.glowpick.com/products/125442]   \n",
       "8021  [https://www.glowpick.com/products/97145, http...   \n",
       "8022  [https://www.glowpick.com/products/101364, htt...   \n",
       "8023  [https://www.glowpick.com/products/92080, http...   \n",
       "8024  [https://www.glowpick.com/products/106275, htt...   \n",
       "8025  [https://www.glowpick.com/products/112878, htt...   \n",
       "8026  [https://www.glowpick.com/products/20041, http...   \n",
       "8027         [https://www.glowpick.com/products/137730]   \n",
       "8028  [https://www.glowpick.com/products/134382, htt...   \n",
       "8029  [https://www.glowpick.com/products/116480, htt...   \n",
       "8030  [https://www.glowpick.com/products/125809, htt...   \n",
       "8031  [https://www.glowpick.com/products/46945, http...   \n",
       "8032                                                 []   \n",
       "8033                                                 []   \n",
       "8034         [https://www.glowpick.com/products/121107]   \n",
       "8035  [https://www.glowpick.com/products/33438, http...   \n",
       "8036  [https://www.glowpick.com/products/93246, http...   \n",
       "8037          [https://www.glowpick.com/products/76349]   \n",
       "8038  [https://www.glowpick.com/products/107581, htt...   \n",
       "8039  [https://www.glowpick.com/products/115826, htt...   \n",
       "8040         [https://www.glowpick.com/products/147882]   \n",
       "8041  [https://www.glowpick.com/products/99990, http...   \n",
       "8042          [https://www.glowpick.com/products/92714]   \n",
       "8043  [https://www.glowpick.com/products/129966, htt...   \n",
       "8044  [https://www.glowpick.com/products/148581, htt...   \n",
       "8045  [https://www.glowpick.com/products/86262, http...   \n",
       "8046         [https://www.glowpick.com/products/138922]   \n",
       "8047  [https://www.glowpick.com/products/1622, https...   \n",
       "8048         [https://www.glowpick.com/products/138092]   \n",
       "8049  [https://www.glowpick.com/products/140014, htt...   \n",
       "8050          [https://www.glowpick.com/products/89547]   \n",
       "8051          [https://www.glowpick.com/products/81570]   \n",
       "\n",
       "                                           product_name  \n",
       "8002                                          [눈꽃 마스크팩]  \n",
       "8003                                                 []  \n",
       "8004            [락토멜리아 마일드 폼 워시, 락토멜리아 프로바이오발란스 리페어 크림]  \n",
       "8005  [TS래쉬, TS마스크팩, 올뉴TS샴푸, TS헤어팩, 프리미엄TS트리트먼트, TS착...  \n",
       "8006                                         [타투 아이브로우]  \n",
       "8007  [매트 핏 올킬 립스틱, 매직 아이틴트, 매직 워터틴트, 올킬 붓펜 아이라이너, 모...  \n",
       "8008                                     [물푸레 맑은 수분 토너]  \n",
       "8009                             [젤 네일, (젬스톤 컬렉션) 젤 네일]  \n",
       "8010  [엑스퍼트 아이밤 부스팅 픽서, 페스티벌 블러셔, 엑스퍼트 컬러 프라이머 포 아이즈...  \n",
       "8011  [스팟 패치, 시카 마스크 팩, 프로그로스 콜라겐 팩트 [SPF50+/PA++++]...  \n",
       "8012                                                 []  \n",
       "8013  [소셜라이트 아이섀도우 팔레트, 블레이진 아이섀도우 팔레트, 인 더 버프 아이 컬러...  \n",
       "8014  [프렌치부케 샴푸, 퓨리파잉 내추럴 프로그래밍 에센스, 딜라이트 로즈 바디로션, 아...  \n",
       "8015  [멀티 비비 스틱 [SPF50+/PA++++], 퍼퓸건, 이지 헤어라이너, 올인원 ...  \n",
       "8016  [레인보우 허니 립 밤, 캔디 허니 립밤, 퀵 모닝 앤 나이트 케어 마스크, 립트리...  \n",
       "8017                                                 []  \n",
       "8018                                                 []  \n",
       "8019  [자라 X 조말론 [베티버 팜플무스], 자라 X 조말론 [에보니 우드], 자라 X ...  \n",
       "8020                                [아이크리미골드세럼 올페이스 81]  \n",
       "8021  [베이비 라이크 블러셔, 올백 쿠션 [SPF50+/PA+++], 오일크러쉬 팩트, ...  \n",
       "8022  [골드 인텐시브 링클케어 크림, 히알루론산 앰플 토너, 화산송이 클레이 블랙헤드 마...  \n",
       "8023              [1028 마카롱 아이섀도우 키트, 얼티메이트 오일 컨트롤 파우더]  \n",
       "8024  [나이아신아마이드5.0 미백 앰플, 프로폴리스50진정토너, 하이드라 비비크림, 울트...  \n",
       "8025  [16 치크 샷, 16 만능 슈퍼 클렌징 밤, 16 마이 매거진, 알 유 16 테이...  \n",
       "8026  [수퍼 리치 크림, 인텐시브 리바이탈 크림, 모이스처 액티베이트 크림, 퓨어 뷰티 ...  \n",
       "8027                                           [깔롱젤리그린]  \n",
       "8028  [동의청은차고은진 치약, 시그니처 토탈블루 치약, 오리지날 치약 [알파블루], 퓨어...  \n",
       "8029        [애시도필러스 프로바이오틱 블렌드, 센트리 시니어 여성 종합비타민 및 미네랄]  \n",
       "8030                         [노시트 마스크팩, 레디언스 시카 토닉 에센스]  \n",
       "8031  [코쿤 윌로우 실키 마스크, 바데카실P, 바데카실 더마실 마스크, CXDX더마에어톡...  \n",
       "8032                                                 []  \n",
       "8033                                                 []  \n",
       "8034                                       [아쿠아 앰플 마스크]  \n",
       "8035                      [252울트라보어이팩트 (화이트), 252 라이크유]  \n",
       "8036                [중형 날개형, 대형 날개형, 팬티라이너롱, 약산성 여성청결제]  \n",
       "8037                                 [[단종]  AC컨트롤 클렌징폼]  \n",
       "8038  [아이스브레이킹 크림, 스킨글로우 솔루션1, 투스텝 멜팅 마스크, 스킨글로우 솔루션...  \n",
       "8039  [스프라웃 아일랜드 모이스처 크림, 스프라웃 아일랜드 골든시위드 페이셜 미스트, 스...  \n",
       "8040                                   [에버뷰티 석류 콜라겐 젤리]  \n",
       "8041  [무드 레시피 페이스 블러쉬, 아이 스위치, 무드 레시피 멀티 아이 컬러 팔레트 [...  \n",
       "8042                                         [더 처비 립스틱]  \n",
       "8043  [블레미쉬 패치 케어, 블레미쉬 클리어 커버 릴리프, 위생 마스크, 새니타이저 43...  \n",
       "8044  [오버나이트 트리트먼트 펩타이드 크림, 하이드로 락 펩타이드 카밍 패드, 오버나이트...  \n",
       "8045  [모이스처라이징 올리브 핸드크림, 3존 키트, 알로에 베라 수딩젤, 모이스처라이징 ...  \n",
       "8046                                        [여성 청결 미스트]  \n",
       "8047  [아쿠아 콜로니아 블러드 오렌지 & 바즐 오 드 코롱, 누보 콜로뉴 오드코롱, 아쿠...  \n",
       "8048                                   [다이어트 베이스 [초코맛]]  \n",
       "8049  [비 해피 더블 액션 미스트, 비 해피 오일 [대마씨 & 동백], 슈퍼듀퍼 파우더 ...  \n",
       "8050                                        [이상훈의 제모크림]  \n",
       "8051                                          [아이래쉬 뷰러]  "
      ]
     },
     "execution_count": 36,
     "metadata": {},
     "output_type": "execute_result"
    }
   ],
   "source": [
    "df_brd_w_prd_v2.tail(50)"
   ]
  },
  {
   "cell_type": "code",
   "execution_count": 54,
   "id": "8419971e-03c9-403f-aeff-6e40036fc6f0",
   "metadata": {},
   "outputs": [],
   "source": [
    "empty_lst = []\n",
    "for _ in range(len(df_brd_w_prd_v2)):\n",
    "    if df_brd_w_prd_v2.loc[_, 'product_name'] == [] or df_brd_w_prd_v2.loc[_, 'product_link'] == []:\n",
    "        empty_lst.append(_)"
   ]
  },
  {
   "cell_type": "code",
   "execution_count": 66,
   "id": "20959deb-0666-4443-961a-d833d7354ccc",
   "metadata": {},
   "outputs": [],
   "source": [
    "nan.sort()"
   ]
  },
  {
   "cell_type": "code",
   "execution_count": 77,
   "id": "44812f13-2386-45ba-bb92-c7d0a9bf9d77",
   "metadata": {},
   "outputs": [],
   "source": [
    "nan_brd_lst = list(df_brd_w_prd_v2.loc[nan, 'brand_name'])"
   ]
  },
  {
   "cell_type": "code",
   "execution_count": 78,
   "id": "cb9d91d3-bf81-4b20-9ebe-7eadc06dab14",
   "metadata": {
    "collapsed": true,
    "jupyter": {
     "outputs_hidden": true
    },
    "tags": []
   },
   "outputs": [
    {
     "data": {
      "text/plain": [
       "['금호전기',\n",
       " '네이처셋',\n",
       " '네츄럴 아일랜드',\n",
       " '누트릴로',\n",
       " '달토니',\n",
       " '더블이펙트',\n",
       " '데자이안',\n",
       " '디어테크',\n",
       " '라피오리',\n",
       " '레스파라',\n",
       " '로그네이처',\n",
       " '로베르토 카발리',\n",
       " '리슈브',\n",
       " '릴문',\n",
       " '마드레랩스',\n",
       " '마리나드브루봉',\n",
       " '메디치코리아',\n",
       " '미뮤즈',\n",
       " '바디컷',\n",
       " '보니힐',\n",
       " '비움',\n",
       " '셀로니아',\n",
       " '스위스 나뚜리치',\n",
       " '스티펠',\n",
       " '슬림워크',\n",
       " '아리즈웰',\n",
       " '앤수',\n",
       " '에띠앙',\n",
       " '에비앙',\n",
       " '에스코',\n",
       " '에포나',\n",
       " '에프에이',\n",
       " '엔스킨',\n",
       " '엘레팡드코',\n",
       " '엘렌실라',\n",
       " '엘앤씨바이오',\n",
       " '엠도씨',\n",
       " '영시',\n",
       " '오렌즈',\n",
       " '오로라',\n",
       " '오스킨랩',\n",
       " '오일릴리',\n",
       " '오지',\n",
       " '올가플러스',\n",
       " '올댓투애니즈',\n",
       " '올로르',\n",
       " '올리브영',\n",
       " '와이엠',\n",
       " '왕타',\n",
       " '용카',\n",
       " '우드윅',\n",
       " '원포인트 네이쳐',\n",
       " '웰츄럴',\n",
       " '유브이랩',\n",
       " '유어썸',\n",
       " '유하다베베',\n",
       " '유하트',\n",
       " '율립',\n",
       " '이너브랜',\n",
       " '이너스랩',\n",
       " '이노센스',\n",
       " '이니카',\n",
       " '이뎀',\n",
       " '이브롬',\n",
       " '이파랑',\n",
       " '이프리트',\n",
       " '이플래쉬',\n",
       " '인그람스',\n",
       " '일루미나주',\n",
       " '잇코스메틱스',\n",
       " '잇툴즈',\n",
       " '자빈드서울',\n",
       " '자연그대로',\n",
       " '자연이랑',\n",
       " '자올',\n",
       " '자이모겐',\n",
       " '잔다셀',\n",
       " '젊젊',\n",
       " '정원가게',\n",
       " '정원삼',\n",
       " '정직한실험실',\n",
       " '제이엠 코스메틱',\n",
       " '젤리쉬',\n",
       " '젤팡',\n",
       " '조일론',\n",
       " '존마스터스오가닉',\n",
       " '종근당바이오',\n",
       " '줄리스립',\n",
       " '쥬리아',\n",
       " '지엠바이오',\n",
       " '지투온',\n",
       " '청춘예찬',\n",
       " '치카이치코',\n",
       " '친구랑',\n",
       " '칠링힐링',\n",
       " '칼리즈메이',\n",
       " '캐롤프랑크',\n",
       " '캐시캣',\n",
       " '캐트릭스',\n",
       " '캔디오레이디',\n",
       " '케어온',\n",
       " '케어팜',\n",
       " '케이비 코스메틱',\n",
       " '케일린',\n",
       " '코코리제주',\n",
       " '콸코스',\n",
       " '클린 투 클린',\n",
       " '킨',\n",
       " '팬콧',\n",
       " '페넬로페',\n",
       " '퓨어체크',\n",
       " '픽시바이페트라',\n",
       " '하우스킨',\n",
       " '헤이',\n",
       " '헬로판다',\n",
       " '현대약품',\n",
       " 'CJ CHEILJEDANG',\n",
       " 'CUSKIN',\n",
       " 'DK COSMETIC',\n",
       " 'DS LAB',\n",
       " 'EGFOLOGY',\n",
       " 'JCK',\n",
       " 'JHP Cosmetic',\n",
       " 'JMsolution',\n",
       " 'JY innocent',\n",
       " 'KVD VEGAN BEAUTY',\n",
       " 'LC PROFESSIONAL',\n",
       " 'Meet Your Mate',\n",
       " 'OBUIZI',\n",
       " 'SD HAIR',\n",
       " 'TMR cosmetics',\n",
       " 'TRUE LIFE',\n",
       " 'W.SKIN LABORATORY',\n",
       " 'YS solution',\n",
       " 'YSJ cosmetics',\n",
       " '236:)',\n",
       " '44401']"
      ]
     },
     "execution_count": 78,
     "metadata": {},
     "output_type": "execute_result"
    }
   ],
   "source": [
    "nan_brd_lst"
   ]
  },
  {
   "cell_type": "markdown",
   "id": "a4875287-f0b4-4897-ae40-a7e8f98dacdb",
   "metadata": {},
   "source": [
    "# 3. 유실값 재수집"
   ]
  },
  {
   "cell_type": "code",
   "execution_count": 82,
   "id": "f3ff28ea-7dc3-41f8-a427-2a138fa0c03d",
   "metadata": {},
   "outputs": [],
   "source": [
    "dict_prd_link_nan = {}\n",
    "dict_prd_name_nan = defaultdict(list)\n",
    "no_such_element_exception = []\n",
    "unknown_exception = []"
   ]
  },
  {
   "cell_type": "code",
   "execution_count": 83,
   "id": "5a363763-6e02-4681-a07e-33a78eda208a",
   "metadata": {
    "tags": []
   },
   "outputs": [],
   "source": [
    "def scrap_product_link(brd_name):\n",
    "    \n",
    "    try: \n",
    "        options = Options()\n",
    "        ua = UserAgent()\n",
    "        userAgent = ua.random\n",
    "        print(userAgent)\n",
    "\n",
    "        options.add_argument('headless')\n",
    "        options.add_argument('window-size=1920x1080')\n",
    "        options.add_argument(\"disable-gpu\")\n",
    "        options.add_argument(f'user-agent={userAgent}')\n",
    "        wd = webdriver.Chrome(ChromeDriverManager().install(), chrome_options=options)\n",
    "\n",
    "        socket.setdefaulttimeout(30)\n",
    "\n",
    "        url = 'https:/www.glowpick.com/searches/keywords'\n",
    "        wd.get(url)\n",
    "        time.sleep(5)\n",
    "\n",
    "        wd.find_element_by_xpath(\"//*[@id='default-layout']/div/div[1]/span/div/div[2]/div[2]/button[2]\").click()\n",
    "        wd.maximize_window()\n",
    "        time.sleep(3)\n",
    "\n",
    "        brd_input = wd.find_element_by_xpath(\"//*[@id='default-layout']/div/div[2]/div/div/div/input\")\n",
    "        brd_input.send_keys(brd_name)\n",
    "        brd_input.send_keys(Keys.ENTER)\n",
    "        time.sleep(3)\n",
    "\n",
    "        def parsing_html_with_class(parsing_info = '.products'):\n",
    "            html = wd.page_source\n",
    "            soup = soup = BeautifulSoup(html, \"html.parser\")\n",
    "            interm_r = soup.select(parsing_info)\n",
    "            return interm_r\n",
    "\n",
    "        try:\n",
    "            while True:\n",
    "                prd_link = []\n",
    "                prd_name = []\n",
    "\n",
    "                product_lst = parsing_html_with_class()\n",
    "                product_len = len(re.findall('<div class=\"products__product product\" (.*?)', str(product_lst[0])))\n",
    "                \n",
    "                #while wd.find_elements_by_class_name('details__brand')[product_len].text[:len(brd_name)] == brd_name:\n",
    "\n",
    "                element = wd.find_element_by_xpath('/html/body/div/div/div/div/main/div/section/div[2]/div/div[1]/span/div[{}]'.format(product_len - 1))\n",
    "                wd.execute_script(\"arguments[0].scrollIntoView(true);\", element)\n",
    "                time.sleep(2)\n",
    "\n",
    "                product_lst_2 = parsing_html_with_class()\n",
    "\n",
    "                if product_lst == product_lst_2:\n",
    "                    for i in range(product_len):\n",
    "                        if (re.sub(r'\\([^)]*\\)', '', wd.find_elements_by_class_name('details__brand')[i].text).strip()) == brd_name:\n",
    "                            code = re.findall('<div class=\"products__product product\" (.*?)id=\"(.*?)\">', str(product_lst[0]))[i][1].split('-')[-1]\n",
    "                            link = 'https://www.glowpick.com/products/' + code\n",
    "                            prd_link.append(link)\n",
    "                            dict_prd_name[brd_name].append(wd.find_elements_by_class_name('details__product')[i].text)\n",
    "                    dict_prd_link[brd_name] = prd_link\n",
    "                    break\n",
    "\n",
    "        except NoSuchElementException:\n",
    "            for i in range(product_len):\n",
    "                if (re.sub(r'\\([^)]*\\)', '', wd.find_elements_by_class_name('details__brand')[i].text).strip()) == brd_name:\n",
    "                    code = re.findall('<div class=\"products__product product\" (.*?)id=\"(.*?)\">', str(product_lst[0]))[i][1].split('-')[-1]\n",
    "                    link = 'https://www.glowpick.com/products/' + code\n",
    "                    prd_link.append(link)\n",
    "                    dict_prd_name[brd_name].append(wd.find_elements_by_class_name('details__product')[i].text)\n",
    "            dict_prd_link[brd_name] = prd_link\n",
    "        \n",
    "    except NoSuchElementException:\n",
    "        no_such_element_exception.append(brd_name)\n",
    "        print(\"brand name: {}\".format(brd_name), \"NoSuchElementException\")\n",
    "        pass\n",
    "\n",
    "    except Exception as e:\n",
    "        unknown_exception.append(brd_name)\n",
    "        print(\"brand name: {}\".format(brd_name), e)\n",
    "        pass\n",
    "    "
   ]
  },
  {
   "cell_type": "code",
   "execution_count": 84,
   "id": "99768743-e958-44e2-832d-87b3cc79ac7d",
   "metadata": {
    "collapsed": true,
    "jupyter": {
     "outputs_hidden": true
    },
    "tags": []
   },
   "outputs": [
    {
     "name": "stderr",
     "output_type": "stream",
     "text": [
      "  0%|                                                   | 0/137 [00:00<?, ?it/s]\n",
      "\n",
      "====== WebDriver manager ======\n",
      "Current google-chrome version is 93.0.4577\n",
      "Get LATEST driver version for 93.0.4577\n"
     ]
    },
    {
     "name": "stdout",
     "output_type": "stream",
     "text": [
      "Mozilla/5.0 (Windows NT 5.1) AppleWebKit/537.36 (KHTML, like Gecko) Chrome/35.0.3319.102 Safari/537.36\n"
     ]
    },
    {
     "name": "stderr",
     "output_type": "stream",
     "text": [
      "Get LATEST driver version for 93.0.4577\n",
      "Trying to download new driver from https://chromedriver.storage.googleapis.com/93.0.4577.63/chromedriver_mac64.zip\n",
      "Driver has been saved in cache [/Users/kimjisoo/.wdm/drivers/chromedriver/mac64/93.0.4577.63]\n",
      "  1%|▎                                          | 1/137 [00:18<40:56, 18.06s/it]\n",
      "\n",
      "====== WebDriver manager ======\n",
      "Current google-chrome version is 93.0.4577\n",
      "Get LATEST driver version for 93.0.4577\n",
      "Driver [/Users/kimjisoo/.wdm/drivers/chromedriver/mac64/93.0.4577.63/chromedriver] found in cache\n"
     ]
    },
    {
     "name": "stdout",
     "output_type": "stream",
     "text": [
      "Mozilla/5.0 (X11; OpenBSD i386) AppleWebKit/537.36 (KHTML, like Gecko) Chrome/36.0.1985.125 Safari/537.36\n"
     ]
    },
    {
     "name": "stderr",
     "output_type": "stream",
     "text": [
      "  1%|▋                                          | 2/137 [00:32<36:15, 16.12s/it]\n",
      "\n",
      "====== WebDriver manager ======\n",
      "Current google-chrome version is 93.0.4577\n",
      "Get LATEST driver version for 93.0.4577\n",
      "Driver [/Users/kimjisoo/.wdm/drivers/chromedriver/mac64/93.0.4577.63/chromedriver] found in cache\n"
     ]
    },
    {
     "name": "stdout",
     "output_type": "stream",
     "text": [
      "Mozilla/5.0 (Windows NT 6.1) AppleWebKit/537.36 (KHTML, like Gecko) Chrome/28.0.1468.0 Safari/537.36\n"
     ]
    },
    {
     "name": "stderr",
     "output_type": "stream",
     "text": [
      "  2%|▉                                          | 3/137 [00:47<34:16, 15.35s/it]\n",
      "\n",
      "====== WebDriver manager ======\n",
      "Current google-chrome version is 93.0.4577\n",
      "Get LATEST driver version for 93.0.4577\n",
      "Driver [/Users/kimjisoo/.wdm/drivers/chromedriver/mac64/93.0.4577.63/chromedriver] found in cache\n"
     ]
    },
    {
     "name": "stdout",
     "output_type": "stream",
     "text": [
      "Mozilla/5.0 (Windows NT 6.1; WOW64) AppleWebKit/537.36 (KHTML, like Gecko) Chrome/36.0.1985.67 Safari/537.36\n"
     ]
    },
    {
     "name": "stderr",
     "output_type": "stream",
     "text": [
      "  3%|█▎                                         | 4/137 [01:01<33:03, 14.91s/it]\n",
      "\n",
      "====== WebDriver manager ======\n",
      "Current google-chrome version is 93.0.4577\n",
      "Get LATEST driver version for 93.0.4577\n",
      "Driver [/Users/kimjisoo/.wdm/drivers/chromedriver/mac64/93.0.4577.63/chromedriver] found in cache\n"
     ]
    },
    {
     "name": "stdout",
     "output_type": "stream",
     "text": [
      "Mozilla/5.0 (compatible; MSIE 10.0; Windows NT 6.1; WOW64; Trident/6.0)\n"
     ]
    },
    {
     "name": "stderr",
     "output_type": "stream",
     "text": [
      "  4%|█▌                                         | 5/137 [01:18<34:25, 15.65s/it]\n",
      "\n",
      "====== WebDriver manager ======\n",
      "Current google-chrome version is 93.0.4577\n",
      "Get LATEST driver version for 93.0.4577\n"
     ]
    },
    {
     "name": "stdout",
     "output_type": "stream",
     "text": [
      "Mozilla/5.0 (Macintosh; Intel Mac OS X 10_8_2) AppleWebKit/537.17 (KHTML, like Gecko) Chrome/24.0.1309.0 Safari/537.17\n"
     ]
    },
    {
     "name": "stderr",
     "output_type": "stream",
     "text": [
      "Driver [/Users/kimjisoo/.wdm/drivers/chromedriver/mac64/93.0.4577.63/chromedriver] found in cache\n",
      "  4%|█▉                                         | 6/137 [01:43<41:09, 18.85s/it]\n",
      "\n",
      "====== WebDriver manager ======\n",
      "Current google-chrome version is 93.0.4577\n",
      "Get LATEST driver version for 93.0.4577\n",
      "Driver [/Users/kimjisoo/.wdm/drivers/chromedriver/mac64/93.0.4577.63/chromedriver] found in cache\n"
     ]
    },
    {
     "name": "stdout",
     "output_type": "stream",
     "text": [
      "Mozilla/5.0 (compatible; MSIE 10.0; Windows NT 6.1; Trident/4.0; InfoPath.2; SV1; .NET CLR 2.0.50727; WOW64)\n"
     ]
    },
    {
     "name": "stderr",
     "output_type": "stream",
     "text": [
      "  5%|██▏                                        | 7/137 [01:52<33:45, 15.58s/it]\n",
      "\n",
      "====== WebDriver manager ======\n",
      "Current google-chrome version is 93.0.4577\n",
      "Get LATEST driver version for 93.0.4577\n"
     ]
    },
    {
     "name": "stdout",
     "output_type": "stream",
     "text": [
      "brand name: 데자이안 NoSuchElementException\n",
      "Mozilla/5.0 (Windows NT 6.1) AppleWebKit/537.36 (KHTML, like Gecko) Chrome/28.0.1468.0 Safari/537.36\n"
     ]
    },
    {
     "name": "stderr",
     "output_type": "stream",
     "text": [
      "Driver [/Users/kimjisoo/.wdm/drivers/chromedriver/mac64/93.0.4577.63/chromedriver] found in cache\n",
      "  6%|██▌                                        | 8/137 [02:06<32:37, 15.18s/it]\n",
      "\n",
      "====== WebDriver manager ======\n",
      "Current google-chrome version is 93.0.4577\n",
      "Get LATEST driver version for 93.0.4577\n",
      "Driver [/Users/kimjisoo/.wdm/drivers/chromedriver/mac64/93.0.4577.63/chromedriver] found in cache\n"
     ]
    },
    {
     "name": "stdout",
     "output_type": "stream",
     "text": [
      "Mozilla/5.0 (Macintosh; Intel Mac OS X 10_8_3) AppleWebKit/537.36 (KHTML, like Gecko) Chrome/27.0.1453.93 Safari/537.36\n"
     ]
    },
    {
     "name": "stderr",
     "output_type": "stream",
     "text": [
      "  7%|██▊                                        | 9/137 [02:25<35:03, 16.43s/it]\n",
      "\n",
      "====== WebDriver manager ======\n",
      "Current google-chrome version is 93.0.4577\n",
      "Get LATEST driver version for 93.0.4577\n",
      "Driver [/Users/kimjisoo/.wdm/drivers/chromedriver/mac64/93.0.4577.63/chromedriver] found in cache\n"
     ]
    },
    {
     "name": "stdout",
     "output_type": "stream",
     "text": [
      "Mozilla/5.0 (Macintosh; Intel Mac OS X 10_10_1) AppleWebKit/537.36 (KHTML, like Gecko) Chrome/41.0.2227.1 Safari/537.36\n"
     ]
    },
    {
     "name": "stderr",
     "output_type": "stream",
     "text": [
      "  7%|███                                       | 10/137 [02:39<32:54, 15.55s/it]\n",
      "\n",
      "====== WebDriver manager ======\n",
      "Current google-chrome version is 93.0.4577\n",
      "Get LATEST driver version for 93.0.4577\n",
      "Driver [/Users/kimjisoo/.wdm/drivers/chromedriver/mac64/93.0.4577.63/chromedriver] found in cache\n"
     ]
    },
    {
     "name": "stdout",
     "output_type": "stream",
     "text": [
      "Mozilla/5.0 (Macintosh; Intel Mac OS X 10_8_3) AppleWebKit/537.36 (KHTML, like Gecko) Chrome/27.0.1453.93 Safari/537.36\n"
     ]
    },
    {
     "name": "stderr",
     "output_type": "stream",
     "text": [
      "  8%|███▎                                      | 11/137 [02:54<32:06, 15.29s/it]\n",
      "\n",
      "====== WebDriver manager ======\n",
      "Current google-chrome version is 93.0.4577\n",
      "Get LATEST driver version for 93.0.4577\n",
      "Driver [/Users/kimjisoo/.wdm/drivers/chromedriver/mac64/93.0.4577.63/chromedriver] found in cache\n"
     ]
    },
    {
     "name": "stdout",
     "output_type": "stream",
     "text": [
      "Mozilla/5.0 (Macintosh; Intel Mac OS X 10_9_0) AppleWebKit/537.36 (KHTML, like Gecko) Chrome/32.0.1664.3 Safari/537.36\n"
     ]
    },
    {
     "name": "stderr",
     "output_type": "stream",
     "text": [
      "  9%|███▋                                      | 12/137 [03:08<31:29, 15.11s/it]\n",
      "\n",
      "====== WebDriver manager ======\n",
      "Current google-chrome version is 93.0.4577\n",
      "Get LATEST driver version for 93.0.4577\n",
      "Driver [/Users/kimjisoo/.wdm/drivers/chromedriver/mac64/93.0.4577.63/chromedriver] found in cache\n"
     ]
    },
    {
     "name": "stdout",
     "output_type": "stream",
     "text": [
      "Mozilla/5.0 (Windows NT 5.1) AppleWebKit/537.36 (KHTML, like Gecko) Chrome/35.0.3319.102 Safari/537.36\n"
     ]
    },
    {
     "name": "stderr",
     "output_type": "stream",
     "text": [
      "  9%|███▉                                      | 13/137 [03:23<30:43, 14.87s/it]\n",
      "\n",
      "====== WebDriver manager ======\n",
      "Current google-chrome version is 93.0.4577\n",
      "Get LATEST driver version for 93.0.4577\n",
      "Driver [/Users/kimjisoo/.wdm/drivers/chromedriver/mac64/93.0.4577.63/chromedriver] found in cache\n"
     ]
    },
    {
     "name": "stdout",
     "output_type": "stream",
     "text": [
      "Mozilla/5.0 (X11; Linux x86_64; rv:28.0) Gecko/20100101  Firefox/28.0\n"
     ]
    },
    {
     "name": "stderr",
     "output_type": "stream",
     "text": [
      " 10%|████▎                                     | 14/137 [03:39<31:28, 15.35s/it]\n",
      "\n",
      "====== WebDriver manager ======\n",
      "Current google-chrome version is 93.0.4577\n",
      "Get LATEST driver version for 93.0.4577\n",
      "Driver [/Users/kimjisoo/.wdm/drivers/chromedriver/mac64/93.0.4577.63/chromedriver] found in cache\n"
     ]
    },
    {
     "name": "stdout",
     "output_type": "stream",
     "text": [
      "Mozilla/5.0 (Windows NT 5.1; rv:21.0) Gecko/20130331 Firefox/21.0\n"
     ]
    },
    {
     "name": "stderr",
     "output_type": "stream",
     "text": [
      " 11%|████▌                                     | 15/137 [03:53<30:12, 14.86s/it]\n",
      "\n",
      "====== WebDriver manager ======\n",
      "Current google-chrome version is 93.0.4577\n",
      "Get LATEST driver version for 93.0.4577\n",
      "Driver [/Users/kimjisoo/.wdm/drivers/chromedriver/mac64/93.0.4577.63/chromedriver] found in cache\n"
     ]
    },
    {
     "name": "stdout",
     "output_type": "stream",
     "text": [
      "Mozilla/5.0 (Windows NT 5.1) AppleWebKit/537.36 (KHTML, like Gecko) Chrome/34.0.1866.237 Safari/537.36\n"
     ]
    },
    {
     "name": "stderr",
     "output_type": "stream",
     "text": [
      " 12%|████▉                                     | 16/137 [04:07<29:47, 14.78s/it]\n",
      "\n",
      "====== WebDriver manager ======\n",
      "Current google-chrome version is 93.0.4577\n",
      "Get LATEST driver version for 93.0.4577\n",
      "Driver [/Users/kimjisoo/.wdm/drivers/chromedriver/mac64/93.0.4577.63/chromedriver] found in cache\n"
     ]
    },
    {
     "name": "stdout",
     "output_type": "stream",
     "text": [
      "Mozilla/5.0 (Macintosh; Intel Mac OS X 10_9_2) AppleWebKit/537.36 (KHTML, like Gecko) Chrome/36.0.1944.0 Safari/537.36\n"
     ]
    },
    {
     "name": "stderr",
     "output_type": "stream",
     "text": [
      " 12%|█████▏                                    | 17/137 [04:22<29:31, 14.76s/it]\n",
      "\n",
      "====== WebDriver manager ======\n",
      "Current google-chrome version is 93.0.4577\n",
      "Get LATEST driver version for 93.0.4577\n",
      "Driver [/Users/kimjisoo/.wdm/drivers/chromedriver/mac64/93.0.4577.63/chromedriver] found in cache\n"
     ]
    },
    {
     "name": "stdout",
     "output_type": "stream",
     "text": [
      "Mozilla/5.0 (Macintosh; Intel Mac OS X 10_9_0) AppleWebKit/537.36 (KHTML, like Gecko) Chrome/32.0.1664.3 Safari/537.36\n"
     ]
    },
    {
     "name": "stderr",
     "output_type": "stream",
     "text": [
      " 13%|█████▌                                    | 18/137 [04:37<29:03, 14.65s/it]\n",
      "\n",
      "====== WebDriver manager ======\n",
      "Current google-chrome version is 93.0.4577\n",
      "Get LATEST driver version for 93.0.4577\n",
      "Driver [/Users/kimjisoo/.wdm/drivers/chromedriver/mac64/93.0.4577.63/chromedriver] found in cache\n"
     ]
    },
    {
     "name": "stdout",
     "output_type": "stream",
     "text": [
      "Mozilla/5.0 (Windows NT 6.2; WOW64) AppleWebKit/537.14 (KHTML, like Gecko) Chrome/24.0.1292.0 Safari/537.14\n"
     ]
    },
    {
     "name": "stderr",
     "output_type": "stream",
     "text": [
      " 14%|█████▊                                    | 19/137 [04:51<28:42, 14.60s/it]\n",
      "\n",
      "====== WebDriver manager ======\n",
      "Current google-chrome version is 93.0.4577\n",
      "Get LATEST driver version for 93.0.4577\n",
      "Driver [/Users/kimjisoo/.wdm/drivers/chromedriver/mac64/93.0.4577.63/chromedriver] found in cache\n"
     ]
    },
    {
     "name": "stdout",
     "output_type": "stream",
     "text": [
      "Mozilla/5.0 (Windows NT 6.1) AppleWebKit/537.36 (KHTML, like Gecko) Chrome/28.0.1468.0 Safari/537.36\n"
     ]
    },
    {
     "name": "stderr",
     "output_type": "stream",
     "text": [
      " 15%|██████▏                                   | 20/137 [05:06<28:31, 14.63s/it]\n",
      "\n",
      "====== WebDriver manager ======\n",
      "Current google-chrome version is 93.0.4577\n",
      "Get LATEST driver version for 93.0.4577\n",
      "Driver [/Users/kimjisoo/.wdm/drivers/chromedriver/mac64/93.0.4577.63/chromedriver] found in cache\n"
     ]
    },
    {
     "name": "stdout",
     "output_type": "stream",
     "text": [
      "Mozilla/5.0 (Windows NT 6.3; WOW64) AppleWebKit/537.36 (KHTML, like Gecko) Chrome/41.0.2225.0 Safari/537.36\n"
     ]
    },
    {
     "name": "stderr",
     "output_type": "stream",
     "text": [
      " 15%|██████▍                                   | 21/137 [05:25<30:49, 15.95s/it]\n",
      "\n",
      "====== WebDriver manager ======\n",
      "Current google-chrome version is 93.0.4577\n",
      "Get LATEST driver version for 93.0.4577\n",
      "Driver [/Users/kimjisoo/.wdm/drivers/chromedriver/mac64/93.0.4577.63/chromedriver] found in cache\n"
     ]
    },
    {
     "name": "stdout",
     "output_type": "stream",
     "text": [
      "Mozilla/5.0 (Windows NT 6.2; WOW64) AppleWebKit/537.36 (KHTML, like Gecko) Chrome/29.0.1547.2 Safari/537.36\n"
     ]
    },
    {
     "name": "stderr",
     "output_type": "stream",
     "text": [
      " 16%|██████▋                                   | 22/137 [05:44<32:38, 17.03s/it]\n",
      "\n",
      "====== WebDriver manager ======\n",
      "Current google-chrome version is 93.0.4577\n",
      "Get LATEST driver version for 93.0.4577\n",
      "Driver [/Users/kimjisoo/.wdm/drivers/chromedriver/mac64/93.0.4577.63/chromedriver] found in cache\n"
     ]
    },
    {
     "name": "stdout",
     "output_type": "stream",
     "text": [
      "Mozilla/5.0 (Windows NT 6.1; WOW64) AppleWebKit/537.36 (KHTML, like Gecko) Chrome/29.0.1547.62 Safari/537.36\n"
     ]
    },
    {
     "name": "stderr",
     "output_type": "stream",
     "text": [
      " 17%|███████                                   | 23/137 [05:58<30:17, 15.94s/it]\n",
      "\n",
      "====== WebDriver manager ======\n",
      "Current google-chrome version is 93.0.4577\n",
      "Get LATEST driver version for 93.0.4577\n",
      "Driver [/Users/kimjisoo/.wdm/drivers/chromedriver/mac64/93.0.4577.63/chromedriver] found in cache\n"
     ]
    },
    {
     "name": "stdout",
     "output_type": "stream",
     "text": [
      "Mozilla/5.0 (Macintosh; Intel Mac OS X 10_9_2) AppleWebKit/537.36 (KHTML, like Gecko) Chrome/36.0.1944.0 Safari/537.36\n"
     ]
    },
    {
     "name": "stderr",
     "output_type": "stream",
     "text": [
      " 18%|███████▎                                  | 24/137 [06:12<29:13, 15.52s/it]\n",
      "\n",
      "====== WebDriver manager ======\n",
      "Current google-chrome version is 93.0.4577\n",
      "Get LATEST driver version for 93.0.4577\n",
      "Driver [/Users/kimjisoo/.wdm/drivers/chromedriver/mac64/93.0.4577.63/chromedriver] found in cache\n"
     ]
    },
    {
     "name": "stdout",
     "output_type": "stream",
     "text": [
      "Mozilla/5.0 (Microsoft Windows NT 6.2.9200.0); rv:22.0) Gecko/20130405 Firefox/22.0\n"
     ]
    },
    {
     "name": "stderr",
     "output_type": "stream",
     "text": [
      " 18%|███████▋                                  | 25/137 [06:26<28:09, 15.09s/it]\n",
      "\n",
      "====== WebDriver manager ======\n",
      "Current google-chrome version is 93.0.4577\n",
      "Get LATEST driver version for 93.0.4577\n",
      "Driver [/Users/kimjisoo/.wdm/drivers/chromedriver/mac64/93.0.4577.63/chromedriver] found in cache\n"
     ]
    },
    {
     "name": "stdout",
     "output_type": "stream",
     "text": [
      "Mozilla/5.0 (Windows NT 6.2; WOW64) AppleWebKit/537.14 (KHTML, like Gecko) Chrome/24.0.1292.0 Safari/537.14\n"
     ]
    },
    {
     "name": "stderr",
     "output_type": "stream",
     "text": [
      " 19%|███████▉                                  | 26/137 [06:41<27:37, 14.94s/it]\n",
      "\n",
      "====== WebDriver manager ======\n",
      "Current google-chrome version is 93.0.4577\n",
      "Get LATEST driver version for 93.0.4577\n"
     ]
    },
    {
     "name": "stdout",
     "output_type": "stream",
     "text": [
      "Mozilla/5.0 (Windows NT 6.3; WOW64) AppleWebKit/537.36 (KHTML, like Gecko) Chrome/41.0.2225.0 Safari/537.36\n"
     ]
    },
    {
     "name": "stderr",
     "output_type": "stream",
     "text": [
      "Driver [/Users/kimjisoo/.wdm/drivers/chromedriver/mac64/93.0.4577.63/chromedriver] found in cache\n",
      " 20%|████████▎                                 | 27/137 [07:02<30:40, 16.73s/it]\n",
      "\n",
      "====== WebDriver manager ======\n",
      "Current google-chrome version is 93.0.4577\n",
      "Get LATEST driver version for 93.0.4577\n",
      "Driver [/Users/kimjisoo/.wdm/drivers/chromedriver/mac64/93.0.4577.63/chromedriver] found in cache\n"
     ]
    },
    {
     "name": "stdout",
     "output_type": "stream",
     "text": [
      "Mozilla/5.0 (Windows NT 6.3; Win64; x64) AppleWebKit/537.36 (KHTML, like Gecko) Chrome/37.0.2049.0 Safari/537.36\n"
     ]
    },
    {
     "name": "stderr",
     "output_type": "stream",
     "text": [
      " 20%|████████▌                                 | 28/137 [07:18<30:16, 16.67s/it]\n",
      "\n",
      "====== WebDriver manager ======\n",
      "Current google-chrome version is 93.0.4577\n",
      "Get LATEST driver version for 93.0.4577\n",
      "Driver [/Users/kimjisoo/.wdm/drivers/chromedriver/mac64/93.0.4577.63/chromedriver] found in cache\n"
     ]
    },
    {
     "name": "stdout",
     "output_type": "stream",
     "text": [
      "Mozilla/5.0 (Macintosh; Intel Mac OS X 10_10_1) AppleWebKit/537.36 (KHTML, like Gecko) Chrome/37.0.2062.124 Safari/537.36\n"
     ]
    },
    {
     "name": "stderr",
     "output_type": "stream",
     "text": [
      " 21%|████████▉                                 | 29/137 [07:38<31:26, 17.47s/it]\n",
      "\n",
      "====== WebDriver manager ======\n",
      "Current google-chrome version is 93.0.4577\n",
      "Get LATEST driver version for 93.0.4577\n",
      "Driver [/Users/kimjisoo/.wdm/drivers/chromedriver/mac64/93.0.4577.63/chromedriver] found in cache\n"
     ]
    },
    {
     "name": "stdout",
     "output_type": "stream",
     "text": [
      "Mozilla/5.0 (Windows NT 6.2; Win64; x64) AppleWebKit/537.36 (KHTML, like Gecko) Chrome/32.0.1667.0 Safari/537.36\n"
     ]
    },
    {
     "name": "stderr",
     "output_type": "stream",
     "text": [
      " 22%|█████████▏                                | 30/137 [07:56<31:51, 17.87s/it]\n",
      "\n",
      "====== WebDriver manager ======\n",
      "Current google-chrome version is 93.0.4577\n",
      "Get LATEST driver version for 93.0.4577\n",
      "Driver [/Users/kimjisoo/.wdm/drivers/chromedriver/mac64/93.0.4577.63/chromedriver] found in cache\n"
     ]
    },
    {
     "name": "stdout",
     "output_type": "stream",
     "text": [
      "Mozilla/5.0 (Macintosh; Intel Mac OS X 10_10_1) AppleWebKit/537.36 (KHTML, like Gecko) Chrome/41.0.2227.1 Safari/537.36\n"
     ]
    },
    {
     "name": "stderr",
     "output_type": "stream",
     "text": [
      " 23%|█████████▌                                | 31/137 [08:12<30:24, 17.22s/it]\n",
      "\n",
      "====== WebDriver manager ======\n",
      "Current google-chrome version is 93.0.4577\n",
      "Get LATEST driver version for 93.0.4577\n",
      "Driver [/Users/kimjisoo/.wdm/drivers/chromedriver/mac64/93.0.4577.63/chromedriver] found in cache\n"
     ]
    },
    {
     "name": "stdout",
     "output_type": "stream",
     "text": [
      "Mozilla/5.0 (Windows NT 6.2; WOW64) AppleWebKit/537.15 (KHTML, like Gecko) Chrome/24.0.1295.0 Safari/537.15\n"
     ]
    },
    {
     "name": "stderr",
     "output_type": "stream",
     "text": [
      " 23%|█████████▊                                | 32/137 [08:31<30:54, 17.66s/it]\n",
      "\n",
      "====== WebDriver manager ======\n",
      "Current google-chrome version is 93.0.4577\n",
      "Get LATEST driver version for 93.0.4577\n",
      "Driver [/Users/kimjisoo/.wdm/drivers/chromedriver/mac64/93.0.4577.63/chromedriver] found in cache\n"
     ]
    },
    {
     "name": "stdout",
     "output_type": "stream",
     "text": [
      "Mozilla/5.0 (Windows NT 6.3; WOW64) AppleWebKit/537.36 (KHTML, like Gecko) Chrome/41.0.2226.0 Safari/537.36\n"
     ]
    },
    {
     "name": "stderr",
     "output_type": "stream",
     "text": [
      " 24%|██████████                                | 33/137 [08:47<29:35, 17.08s/it]\n",
      "\n",
      "====== WebDriver manager ======\n",
      "Current google-chrome version is 93.0.4577\n",
      "Get LATEST driver version for 93.0.4577\n",
      "Driver [/Users/kimjisoo/.wdm/drivers/chromedriver/mac64/93.0.4577.63/chromedriver] found in cache\n"
     ]
    },
    {
     "name": "stdout",
     "output_type": "stream",
     "text": [
      "Mozilla/5.0 (Windows NT 6.2; WOW64) AppleWebKit/537.36 (KHTML, like Gecko) Chrome/27.0.1453.93 Safari/537.36\n"
     ]
    },
    {
     "name": "stderr",
     "output_type": "stream",
     "text": [
      " 25%|██████████▍                               | 34/137 [09:02<28:20, 16.51s/it]\n",
      "\n",
      "====== WebDriver manager ======\n",
      "Current google-chrome version is 93.0.4577\n",
      "Get LATEST driver version for 93.0.4577\n",
      "Driver [/Users/kimjisoo/.wdm/drivers/chromedriver/mac64/93.0.4577.63/chromedriver] found in cache\n"
     ]
    },
    {
     "name": "stdout",
     "output_type": "stream",
     "text": [
      "Mozilla/5.0 (Macintosh; Intel Mac OS X 10_8_2) AppleWebKit/537.17 (KHTML, like Gecko) Chrome/24.0.1309.0 Safari/537.17\n"
     ]
    },
    {
     "name": "stderr",
     "output_type": "stream",
     "text": [
      " 26%|██████████▋                               | 35/137 [09:31<34:32, 20.32s/it]\n",
      "\n",
      "====== WebDriver manager ======\n",
      "Current google-chrome version is 93.0.4577\n",
      "Get LATEST driver version for 93.0.4577\n",
      "Driver [/Users/kimjisoo/.wdm/drivers/chromedriver/mac64/93.0.4577.63/chromedriver] found in cache\n"
     ]
    },
    {
     "name": "stdout",
     "output_type": "stream",
     "text": [
      "Mozilla/5.0 (X11; CrOS i686 3912.101.0) AppleWebKit/537.36 (KHTML, like Gecko) Chrome/27.0.1453.116 Safari/537.36\n"
     ]
    },
    {
     "name": "stderr",
     "output_type": "stream",
     "text": [
      " 26%|███████████                               | 36/137 [09:46<31:17, 18.59s/it]\n",
      "\n",
      "====== WebDriver manager ======\n",
      "Current google-chrome version is 93.0.4577\n",
      "Get LATEST driver version for 93.0.4577\n"
     ]
    },
    {
     "name": "stdout",
     "output_type": "stream",
     "text": [
      "Mozilla/5.0 (Windows NT 4.0; WOW64) AppleWebKit/537.36 (KHTML, like Gecko) Chrome/37.0.2049.0 Safari/537.36\n"
     ]
    },
    {
     "name": "stderr",
     "output_type": "stream",
     "text": [
      "Driver [/Users/kimjisoo/.wdm/drivers/chromedriver/mac64/93.0.4577.63/chromedriver] found in cache\n",
      " 27%|███████████▎                              | 37/137 [10:09<33:19, 20.00s/it]\n",
      "\n",
      "====== WebDriver manager ======\n",
      "Current google-chrome version is 93.0.4577\n",
      "Get LATEST driver version for 93.0.4577\n",
      "Driver [/Users/kimjisoo/.wdm/drivers/chromedriver/mac64/93.0.4577.63/chromedriver] found in cache\n"
     ]
    },
    {
     "name": "stdout",
     "output_type": "stream",
     "text": [
      "Mozilla/5.0 (Macintosh; Intel Mac OS X 10.6; rv:25.0) Gecko/20100101 Firefox/25.0\n"
     ]
    },
    {
     "name": "stderr",
     "output_type": "stream",
     "text": [
      " 28%|███████████▋                              | 38/137 [10:26<31:34, 19.13s/it]\n",
      "\n",
      "====== WebDriver manager ======\n",
      "Current google-chrome version is 93.0.4577\n",
      "Get LATEST driver version for 93.0.4577\n",
      "Driver [/Users/kimjisoo/.wdm/drivers/chromedriver/mac64/93.0.4577.63/chromedriver] found in cache\n"
     ]
    },
    {
     "name": "stdout",
     "output_type": "stream",
     "text": [
      "Mozilla/5.0 (Windows NT 6.1) AppleWebKit/537.36 (KHTML, like Gecko) Chrome/28.0.1468.0 Safari/537.36\n"
     ]
    },
    {
     "name": "stderr",
     "output_type": "stream",
     "text": [
      " 28%|███████████                            | 39/137 [16:49<3:29:33, 128.30s/it]\n",
      "\n",
      "====== WebDriver manager ======\n",
      "Current google-chrome version is 93.0.4577\n",
      "Get LATEST driver version for 93.0.4577\n",
      "Driver [/Users/kimjisoo/.wdm/drivers/chromedriver/mac64/93.0.4577.63/chromedriver] found in cache\n"
     ]
    },
    {
     "name": "stdout",
     "output_type": "stream",
     "text": [
      "Mozilla/5.0 (Windows NT 6.2) AppleWebKit/537.36 (KHTML, like Gecko) Chrome/28.0.1464.0 Safari/537.36\n"
     ]
    },
    {
     "name": "stderr",
     "output_type": "stream",
     "text": [
      " 29%|███████████▍                           | 40/137 [17:29<2:44:28, 101.74s/it]\n",
      "\n",
      "====== WebDriver manager ======\n",
      "Current google-chrome version is 93.0.4577\n",
      "Get LATEST driver version for 93.0.4577\n"
     ]
    },
    {
     "name": "stdout",
     "output_type": "stream",
     "text": [
      "Mozilla/5.0 (Windows NT 5.1) AppleWebKit/537.36 (KHTML, like Gecko) Chrome/35.0.2309.372 Safari/537.36\n"
     ]
    },
    {
     "name": "stderr",
     "output_type": "stream",
     "text": [
      "Driver [/Users/kimjisoo/.wdm/drivers/chromedriver/mac64/93.0.4577.63/chromedriver] found in cache\n",
      " 30%|███████████▉                            | 41/137 [17:44<2:01:13, 75.77s/it]\n",
      "\n",
      "====== WebDriver manager ======\n",
      "Current google-chrome version is 93.0.4577\n",
      "Get LATEST driver version for 93.0.4577\n",
      "Driver [/Users/kimjisoo/.wdm/drivers/chromedriver/mac64/93.0.4577.63/chromedriver] found in cache\n"
     ]
    },
    {
     "name": "stdout",
     "output_type": "stream",
     "text": [
      "Mozilla/5.0 (X11; Linux x86_64) AppleWebKit/537.36 (KHTML, like Gecko) Chrome/33.0.1750.517 Safari/537.36\n"
     ]
    },
    {
     "name": "stderr",
     "output_type": "stream",
     "text": [
      " 31%|████████████▎                           | 42/137 [17:59<1:31:12, 57.60s/it]\n",
      "\n",
      "====== WebDriver manager ======\n",
      "Current google-chrome version is 93.0.4577\n",
      "Get LATEST driver version for 93.0.4577\n",
      "Driver [/Users/kimjisoo/.wdm/drivers/chromedriver/mac64/93.0.4577.63/chromedriver] found in cache\n"
     ]
    },
    {
     "name": "stdout",
     "output_type": "stream",
     "text": [
      "Mozilla/5.0 (X11; CrOS i686 3912.101.0) AppleWebKit/537.36 (KHTML, like Gecko) Chrome/27.0.1453.116 Safari/537.36\n"
     ]
    },
    {
     "name": "stderr",
     "output_type": "stream",
     "text": [
      " 31%|████████████▌                           | 43/137 [18:43<1:23:43, 53.44s/it]\n",
      "\n",
      "====== WebDriver manager ======\n",
      "Current google-chrome version is 93.0.4577\n",
      "Get LATEST driver version for 93.0.4577\n",
      "Driver [/Users/kimjisoo/.wdm/drivers/chromedriver/mac64/93.0.4577.63/chromedriver] found in cache\n"
     ]
    },
    {
     "name": "stdout",
     "output_type": "stream",
     "text": [
      "Mozilla/5.0 (X11; Linux i586; rv:31.0) Gecko/20100101 Firefox/31.0\n"
     ]
    },
    {
     "name": "stderr",
     "output_type": "stream",
     "text": [
      " 32%|████████████▊                           | 44/137 [19:00<1:05:46, 42.43s/it]\n",
      "\n",
      "====== WebDriver manager ======\n",
      "Current google-chrome version is 93.0.4577\n",
      "Get LATEST driver version for 93.0.4577\n",
      "Driver [/Users/kimjisoo/.wdm/drivers/chromedriver/mac64/93.0.4577.63/chromedriver] found in cache\n"
     ]
    },
    {
     "name": "stdout",
     "output_type": "stream",
     "text": [
      "Mozilla/5.0 (Macintosh; Intel Mac OS X 10_10_1) AppleWebKit/537.36 (KHTML, like Gecko) Chrome/41.0.2227.1 Safari/537.36\n"
     ]
    },
    {
     "name": "stderr",
     "output_type": "stream",
     "text": [
      " 33%|█████████████▊                            | 45/137 [19:15<52:51, 34.47s/it]\n",
      "\n",
      "====== WebDriver manager ======\n",
      "Current google-chrome version is 93.0.4577\n",
      "Get LATEST driver version for 93.0.4577\n",
      "Driver [/Users/kimjisoo/.wdm/drivers/chromedriver/mac64/93.0.4577.63/chromedriver] found in cache\n"
     ]
    },
    {
     "name": "stdout",
     "output_type": "stream",
     "text": [
      "Mozilla/5.0 (Windows; U; Windows NT 6.1; tr-TR) AppleWebKit/533.20.25 (KHTML, like Gecko) Version/5.0.4 Safari/533.20.27\n"
     ]
    },
    {
     "name": "stderr",
     "output_type": "stream",
     "text": [
      " 34%|██████████████                            | 46/137 [19:30<43:05, 28.42s/it]\n",
      "\n",
      "====== WebDriver manager ======\n",
      "Current google-chrome version is 93.0.4577\n",
      "Get LATEST driver version for 93.0.4577\n",
      "Driver [/Users/kimjisoo/.wdm/drivers/chromedriver/mac64/93.0.4577.63/chromedriver] found in cache\n"
     ]
    },
    {
     "name": "stdout",
     "output_type": "stream",
     "text": [
      "Mozilla/5.0 (Windows; U; Windows NT 5.1; ru-RU) AppleWebKit/533.19.4 (KHTML, like Gecko) Version/5.0.3 Safari/533.19.4\n"
     ]
    },
    {
     "name": "stderr",
     "output_type": "stream",
     "text": [
      " 34%|██████████████▍                           | 47/137 [20:17<51:07, 34.08s/it]\n",
      "\n",
      "====== WebDriver manager ======\n",
      "Current google-chrome version is 93.0.4577\n",
      "Get LATEST driver version for 93.0.4577\n",
      "Driver [/Users/kimjisoo/.wdm/drivers/chromedriver/mac64/93.0.4577.63/chromedriver] found in cache\n"
     ]
    },
    {
     "name": "stdout",
     "output_type": "stream",
     "text": [
      "Mozilla/5.0 (Windows NT 5.1) AppleWebKit/537.36 (KHTML, like Gecko) Chrome/27.0.1453.93 Safari/537.36\n"
     ]
    },
    {
     "name": "stderr",
     "output_type": "stream",
     "text": [
      " 35%|██████████████▋                           | 48/137 [20:34<43:01, 29.01s/it]\n",
      "\n",
      "====== WebDriver manager ======\n",
      "Current google-chrome version is 93.0.4577\n",
      "Get LATEST driver version for 93.0.4577\n"
     ]
    },
    {
     "name": "stdout",
     "output_type": "stream",
     "text": [
      "Mozilla/5.0 (Windows NT 5.1) AppleWebKit/537.36 (KHTML, like Gecko) Chrome/35.0.2309.372 Safari/537.36\n"
     ]
    },
    {
     "name": "stderr",
     "output_type": "stream",
     "text": [
      "Driver [/Users/kimjisoo/.wdm/drivers/chromedriver/mac64/93.0.4577.63/chromedriver] found in cache\n",
      " 36%|███████████████                           | 49/137 [20:51<37:15, 25.40s/it]\n",
      "\n",
      "====== WebDriver manager ======\n",
      "Current google-chrome version is 93.0.4577\n",
      "Get LATEST driver version for 93.0.4577\n",
      "Driver [/Users/kimjisoo/.wdm/drivers/chromedriver/mac64/93.0.4577.63/chromedriver] found in cache\n"
     ]
    },
    {
     "name": "stdout",
     "output_type": "stream",
     "text": [
      "Mozilla/5.0 (Windows NT 5.1) AppleWebKit/537.36 (KHTML, like Gecko) Chrome/31.0.1650.16 Safari/537.36\n"
     ]
    },
    {
     "name": "stderr",
     "output_type": "stream",
     "text": [
      " 36%|███████████████▎                          | 50/137 [21:15<35:57, 24.80s/it]\n",
      "\n",
      "====== WebDriver manager ======\n",
      "Current google-chrome version is 93.0.4577\n",
      "Get LATEST driver version for 93.0.4577\n",
      "Driver [/Users/kimjisoo/.wdm/drivers/chromedriver/mac64/93.0.4577.63/chromedriver] found in cache\n"
     ]
    },
    {
     "name": "stdout",
     "output_type": "stream",
     "text": [
      "Mozilla/5.0 (Windows NT 6.1; WOW64) AppleWebKit/537.36 (KHTML, like Gecko) Chrome/36.0.1985.67 Safari/537.36\n"
     ]
    },
    {
     "name": "stderr",
     "output_type": "stream",
     "text": [
      " 37%|███████████████▋                          | 51/137 [21:44<37:24, 26.10s/it]\n",
      "\n",
      "====== WebDriver manager ======\n",
      "Current google-chrome version is 93.0.4577\n",
      "Get LATEST driver version for 93.0.4577\n",
      "Driver [/Users/kimjisoo/.wdm/drivers/chromedriver/mac64/93.0.4577.63/chromedriver] found in cache\n"
     ]
    },
    {
     "name": "stdout",
     "output_type": "stream",
     "text": [
      "Mozilla/5.0 (Windows NT 6.2; WOW64) AppleWebKit/537.36 (KHTML, like Gecko) Chrome/27.0.1453.93 Safari/537.36\n"
     ]
    },
    {
     "name": "stderr",
     "output_type": "stream",
     "text": [
      " 38%|███████████████▉                          | 52/137 [22:04<34:17, 24.21s/it]\n",
      "\n",
      "====== WebDriver manager ======\n",
      "Current google-chrome version is 93.0.4577\n",
      "Get LATEST driver version for 93.0.4577\n",
      "Driver [/Users/kimjisoo/.wdm/drivers/chromedriver/mac64/93.0.4577.63/chromedriver] found in cache\n"
     ]
    },
    {
     "name": "stdout",
     "output_type": "stream",
     "text": [
      "Mozilla/5.0 (Windows NT 6.2) AppleWebKit/537.36 (KHTML, like Gecko) Chrome/28.0.1464.0 Safari/537.36\n"
     ]
    },
    {
     "name": "stderr",
     "output_type": "stream",
     "text": [
      " 39%|████████████████▏                         | 53/137 [22:18<29:45, 21.25s/it]\n",
      "\n",
      "====== WebDriver manager ======\n",
      "Current google-chrome version is 93.0.4577\n",
      "Get LATEST driver version for 93.0.4577\n",
      "Driver [/Users/kimjisoo/.wdm/drivers/chromedriver/mac64/93.0.4577.63/chromedriver] found in cache\n"
     ]
    },
    {
     "name": "stdout",
     "output_type": "stream",
     "text": [
      "Mozilla/5.0 (Windows NT 5.1) AppleWebKit/537.36 (KHTML, like Gecko) Chrome/35.0.3319.102 Safari/537.36\n"
     ]
    },
    {
     "name": "stderr",
     "output_type": "stream",
     "text": [
      " 39%|████████████████▌                         | 54/137 [22:35<27:35, 19.95s/it]\n",
      "\n",
      "====== WebDriver manager ======\n",
      "Current google-chrome version is 93.0.4577\n",
      "Get LATEST driver version for 93.0.4577\n"
     ]
    },
    {
     "name": "stdout",
     "output_type": "stream",
     "text": [
      "Mozilla/5.0 (Macintosh; Intel Mac OS X 10_9_3) AppleWebKit/537.36 (KHTML, like Gecko) Chrome/35.0.1916.47 Safari/537.36\n"
     ]
    },
    {
     "name": "stderr",
     "output_type": "stream",
     "text": [
      "Driver [/Users/kimjisoo/.wdm/drivers/chromedriver/mac64/93.0.4577.63/chromedriver] found in cache\n",
      " 40%|████████████████▊                         | 55/137 [22:50<25:09, 18.41s/it]\n",
      "\n",
      "====== WebDriver manager ======\n",
      "Current google-chrome version is 93.0.4577\n",
      "Get LATEST driver version for 93.0.4577\n",
      "Driver [/Users/kimjisoo/.wdm/drivers/chromedriver/mac64/93.0.4577.63/chromedriver] found in cache\n"
     ]
    },
    {
     "name": "stdout",
     "output_type": "stream",
     "text": [
      "Mozilla/5.0 (Windows NT 5.1) AppleWebKit/537.36 (KHTML, like Gecko) Chrome/27.0.1453.93 Safari/537.36\n"
     ]
    },
    {
     "name": "stderr",
     "output_type": "stream",
     "text": [
      " 41%|█████████████████▏                        | 56/137 [23:06<23:59, 17.78s/it]\n",
      "\n",
      "====== WebDriver manager ======\n",
      "Current google-chrome version is 93.0.4577\n",
      "Get LATEST driver version for 93.0.4577\n",
      "Driver [/Users/kimjisoo/.wdm/drivers/chromedriver/mac64/93.0.4577.63/chromedriver] found in cache\n"
     ]
    },
    {
     "name": "stdout",
     "output_type": "stream",
     "text": [
      "Mozilla/5.0 (Macintosh; Intel Mac OS X 10_7_3) AppleWebKit/534.55.3 (KHTML, like Gecko) Version/5.1.3 Safari/534.53.10\n"
     ]
    },
    {
     "name": "stderr",
     "output_type": "stream",
     "text": [
      " 42%|█████████████████▍                        | 57/137 [23:25<24:24, 18.31s/it]\n",
      "\n",
      "====== WebDriver manager ======\n",
      "Current google-chrome version is 93.0.4577\n",
      "Get LATEST driver version for 93.0.4577\n",
      "Driver [/Users/kimjisoo/.wdm/drivers/chromedriver/mac64/93.0.4577.63/chromedriver] found in cache\n"
     ]
    },
    {
     "name": "stdout",
     "output_type": "stream",
     "text": [
      "Mozilla/5.0 (Windows NT 4.0; WOW64) AppleWebKit/537.36 (KHTML, like Gecko) Chrome/37.0.2049.0 Safari/537.36\n"
     ]
    },
    {
     "name": "stderr",
     "output_type": "stream",
     "text": [
      " 42%|█████████████████▊                        | 58/137 [23:42<23:34, 17.91s/it]\n",
      "\n",
      "====== WebDriver manager ======\n",
      "Current google-chrome version is 93.0.4577\n",
      "Get LATEST driver version for 93.0.4577\n",
      "Driver [/Users/kimjisoo/.wdm/drivers/chromedriver/mac64/93.0.4577.63/chromedriver] found in cache\n"
     ]
    },
    {
     "name": "stdout",
     "output_type": "stream",
     "text": [
      "Mozilla/5.0 (Macintosh; Intel Mac OS X 10_10_1) AppleWebKit/537.36 (KHTML, like Gecko) Chrome/37.0.2062.124 Safari/537.36\n"
     ]
    },
    {
     "name": "stderr",
     "output_type": "stream",
     "text": [
      " 43%|██████████████████                        | 59/137 [23:59<22:44, 17.50s/it]\n",
      "\n",
      "====== WebDriver manager ======\n",
      "Current google-chrome version is 93.0.4577\n",
      "Get LATEST driver version for 93.0.4577\n",
      "Driver [/Users/kimjisoo/.wdm/drivers/chromedriver/mac64/93.0.4577.63/chromedriver] found in cache\n"
     ]
    },
    {
     "name": "stdout",
     "output_type": "stream",
     "text": [
      "Mozilla/5.0 (Windows NT 6.4; WOW64) AppleWebKit/537.36 (KHTML, like Gecko) Chrome/41.0.2225.0 Safari/537.36\n"
     ]
    },
    {
     "name": "stderr",
     "output_type": "stream",
     "text": [
      " 44%|██████████████████▍                       | 60/137 [24:15<21:49, 17.01s/it]\n",
      "\n",
      "====== WebDriver manager ======\n",
      "Current google-chrome version is 93.0.4577\n",
      "Get LATEST driver version for 93.0.4577\n",
      "Driver [/Users/kimjisoo/.wdm/drivers/chromedriver/mac64/93.0.4577.63/chromedriver] found in cache\n"
     ]
    },
    {
     "name": "stdout",
     "output_type": "stream",
     "text": [
      "Mozilla/5.0 (Windows NT 6.1) AppleWebKit/537.36 (KHTML, like Gecko) Chrome/41.0.2228.0 Safari/537.36\n"
     ]
    },
    {
     "name": "stderr",
     "output_type": "stream",
     "text": [
      " 45%|██████████████████▋                       | 61/137 [24:33<22:01, 17.39s/it]\n",
      "\n",
      "====== WebDriver manager ======\n",
      "Current google-chrome version is 93.0.4577\n",
      "Get LATEST driver version for 93.0.4577\n",
      "Driver [/Users/kimjisoo/.wdm/drivers/chromedriver/mac64/93.0.4577.63/chromedriver] found in cache\n"
     ]
    },
    {
     "name": "stdout",
     "output_type": "stream",
     "text": [
      "Mozilla/5.0 (Windows NT 6.1; WOW64) AppleWebKit/537.36 (KHTML, like Gecko) Chrome/29.0.1547.62 Safari/537.36\n"
     ]
    },
    {
     "name": "stderr",
     "output_type": "stream",
     "text": [
      " 45%|███████████████████                       | 62/137 [24:48<20:46, 16.62s/it]\n",
      "\n",
      "====== WebDriver manager ======\n",
      "Current google-chrome version is 93.0.4577\n",
      "Get LATEST driver version for 93.0.4577\n",
      "Driver [/Users/kimjisoo/.wdm/drivers/chromedriver/mac64/93.0.4577.63/chromedriver] found in cache\n"
     ]
    },
    {
     "name": "stdout",
     "output_type": "stream",
     "text": [
      "Mozilla/5.0 (Windows NT 6.3; WOW64) AppleWebKit/537.36 (KHTML, like Gecko) Chrome/41.0.2226.0 Safari/537.36\n"
     ]
    },
    {
     "name": "stderr",
     "output_type": "stream",
     "text": [
      " 46%|███████████████████▎                      | 63/137 [25:04<20:10, 16.35s/it]\n",
      "\n",
      "====== WebDriver manager ======\n",
      "Current google-chrome version is 93.0.4577\n",
      "Get LATEST driver version for 93.0.4577\n"
     ]
    },
    {
     "name": "stdout",
     "output_type": "stream",
     "text": [
      "Mozilla/5.0 (Windows NT 6.2; Win64; x64) AppleWebKit/537.36 (KHTML, like Gecko) Chrome/32.0.1667.0 Safari/537.36\n"
     ]
    },
    {
     "name": "stderr",
     "output_type": "stream",
     "text": [
      "Driver [/Users/kimjisoo/.wdm/drivers/chromedriver/mac64/93.0.4577.63/chromedriver] found in cache\n",
      " 47%|███████████████████▌                      | 64/137 [25:27<22:27, 18.46s/it]\n",
      "\n",
      "====== WebDriver manager ======\n",
      "Current google-chrome version is 93.0.4577\n",
      "Get LATEST driver version for 93.0.4577\n",
      "Driver [/Users/kimjisoo/.wdm/drivers/chromedriver/mac64/93.0.4577.63/chromedriver] found in cache\n"
     ]
    },
    {
     "name": "stdout",
     "output_type": "stream",
     "text": [
      "Mozilla/5.0 (Macintosh; Intel Mac OS X 10_9_0) AppleWebKit/537.36 (KHTML, like Gecko) Chrome/32.0.1664.3 Safari/537.36\n"
     ]
    },
    {
     "name": "stderr",
     "output_type": "stream",
     "text": [
      " 47%|███████████████████▉                      | 65/137 [25:43<21:12, 17.67s/it]\n",
      "\n",
      "====== WebDriver manager ======\n",
      "Current google-chrome version is 93.0.4577\n",
      "Get LATEST driver version for 93.0.4577\n"
     ]
    },
    {
     "name": "stdout",
     "output_type": "stream",
     "text": [
      "Mozilla/5.0 (Macintosh; Intel Mac OS X 10_9_3) AppleWebKit/537.36 (KHTML, like Gecko) Chrome/35.0.1916.47 Safari/537.36\n"
     ]
    },
    {
     "name": "stderr",
     "output_type": "stream",
     "text": [
      "Driver [/Users/kimjisoo/.wdm/drivers/chromedriver/mac64/93.0.4577.63/chromedriver] found in cache\n",
      " 48%|████████████████████▏                     | 66/137 [26:00<20:35, 17.41s/it]\n",
      "\n",
      "====== WebDriver manager ======\n",
      "Current google-chrome version is 93.0.4577\n",
      "Get LATEST driver version for 93.0.4577\n",
      "Driver [/Users/kimjisoo/.wdm/drivers/chromedriver/mac64/93.0.4577.63/chromedriver] found in cache\n"
     ]
    },
    {
     "name": "stdout",
     "output_type": "stream",
     "text": [
      "Mozilla/5.0 (Windows NT 6.1; WOW64) AppleWebKit/537.36 (KHTML, like Gecko) Chrome/31.0.1623.0 Safari/537.36\n"
     ]
    },
    {
     "name": "stderr",
     "output_type": "stream",
     "text": [
      " 49%|████████████████████▌                     | 67/137 [26:20<21:14, 18.20s/it]\n",
      "\n",
      "====== WebDriver manager ======\n",
      "Current google-chrome version is 93.0.4577\n",
      "Get LATEST driver version for 93.0.4577\n",
      "Driver [/Users/kimjisoo/.wdm/drivers/chromedriver/mac64/93.0.4577.63/chromedriver] found in cache\n"
     ]
    },
    {
     "name": "stdout",
     "output_type": "stream",
     "text": [
      "Mozilla/5.0 (X11; Linux x86_64) AppleWebKit/537.36 (KHTML, like Gecko) Chrome/34.0.1847.137 Safari/4E423F\n"
     ]
    },
    {
     "name": "stderr",
     "output_type": "stream",
     "text": [
      " 50%|████████████████████▊                     | 68/137 [26:37<20:30, 17.83s/it]\n",
      "\n",
      "====== WebDriver manager ======\n",
      "Current google-chrome version is 93.0.4577\n",
      "Get LATEST driver version for 93.0.4577\n",
      "Driver [/Users/kimjisoo/.wdm/drivers/chromedriver/mac64/93.0.4577.63/chromedriver] found in cache\n"
     ]
    },
    {
     "name": "stdout",
     "output_type": "stream",
     "text": [
      "Mozilla/5.0 (Windows; U; Windows NT 5.1; ja-JP) AppleWebKit/533.20.25 (KHTML, like Gecko) Version/5.0.3 Safari/533.19.4\n"
     ]
    },
    {
     "name": "stderr",
     "output_type": "stream",
     "text": [
      " 50%|█████████████████████▏                    | 69/137 [26:51<19:03, 16.82s/it]\n",
      "\n",
      "====== WebDriver manager ======\n",
      "Current google-chrome version is 93.0.4577\n",
      "Get LATEST driver version for 93.0.4577\n",
      "Driver [/Users/kimjisoo/.wdm/drivers/chromedriver/mac64/93.0.4577.63/chromedriver] found in cache\n"
     ]
    },
    {
     "name": "stdout",
     "output_type": "stream",
     "text": [
      "Mozilla/5.0 (Windows NT 5.1) AppleWebKit/537.36 (KHTML, like Gecko) Chrome/27.0.1453.93 Safari/537.36\n"
     ]
    },
    {
     "name": "stderr",
     "output_type": "stream",
     "text": [
      " 51%|█████████████████████▍                    | 70/137 [27:08<18:47, 16.83s/it]\n",
      "\n",
      "====== WebDriver manager ======\n",
      "Current google-chrome version is 93.0.4577\n",
      "Get LATEST driver version for 93.0.4577\n",
      "Driver [/Users/kimjisoo/.wdm/drivers/chromedriver/mac64/93.0.4577.63/chromedriver] found in cache\n"
     ]
    },
    {
     "name": "stdout",
     "output_type": "stream",
     "text": [
      "Mozilla/5.0 (Windows NT 6.3; WOW64) AppleWebKit/537.36 (KHTML, like Gecko) Chrome/41.0.2226.0 Safari/537.36\n"
     ]
    },
    {
     "name": "stderr",
     "output_type": "stream",
     "text": [
      " 52%|█████████████████████▊                    | 71/137 [27:24<18:15, 16.60s/it]\n",
      "\n",
      "====== WebDriver manager ======\n",
      "Current google-chrome version is 93.0.4577\n",
      "Get LATEST driver version for 93.0.4577\n",
      "Driver [/Users/kimjisoo/.wdm/drivers/chromedriver/mac64/93.0.4577.63/chromedriver] found in cache\n"
     ]
    },
    {
     "name": "stdout",
     "output_type": "stream",
     "text": [
      "Mozilla/5.0 (Windows NT 6.1; WOW64) AppleWebKit/537.36 (KHTML, like Gecko) Chrome/36.0.1985.67 Safari/537.36\n"
     ]
    },
    {
     "name": "stderr",
     "output_type": "stream",
     "text": [
      " 53%|██████████████████████                    | 72/137 [27:49<20:35, 19.01s/it]\n",
      "\n",
      "====== WebDriver manager ======\n",
      "Current google-chrome version is 93.0.4577\n",
      "Get LATEST driver version for 93.0.4577\n",
      "Driver [/Users/kimjisoo/.wdm/drivers/chromedriver/mac64/93.0.4577.63/chromedriver] found in cache\n"
     ]
    },
    {
     "name": "stdout",
     "output_type": "stream",
     "text": [
      "Mozilla/5.0 (Windows NT 5.1) AppleWebKit/537.36 (KHTML, like Gecko) Chrome/34.0.1866.237 Safari/537.36\n"
     ]
    },
    {
     "name": "stderr",
     "output_type": "stream",
     "text": [
      " 53%|██████████████████████▍                   | 73/137 [28:09<20:37, 19.34s/it]\n",
      "\n",
      "====== WebDriver manager ======\n",
      "Current google-chrome version is 93.0.4577\n",
      "Get LATEST driver version for 93.0.4577\n",
      "Driver [/Users/kimjisoo/.wdm/drivers/chromedriver/mac64/93.0.4577.63/chromedriver] found in cache\n"
     ]
    },
    {
     "name": "stdout",
     "output_type": "stream",
     "text": [
      "Mozilla/5.0 (Windows NT 6.2; WOW64) AppleWebKit/537.36 (KHTML, like Gecko) Chrome/30.0.1599.17 Safari/537.36\n"
     ]
    },
    {
     "name": "stderr",
     "output_type": "stream",
     "text": [
      " 54%|██████████████████████▋                   | 74/137 [28:26<19:28, 18.55s/it]\n",
      "\n",
      "====== WebDriver manager ======\n",
      "Current google-chrome version is 93.0.4577\n",
      "Get LATEST driver version for 93.0.4577\n",
      "Driver [/Users/kimjisoo/.wdm/drivers/chromedriver/mac64/93.0.4577.63/chromedriver] found in cache\n"
     ]
    },
    {
     "name": "stdout",
     "output_type": "stream",
     "text": [
      "Mozilla/5.0 (Windows NT 5.1) AppleWebKit/537.36 (KHTML, like Gecko) Chrome/34.0.1866.237 Safari/537.36\n"
     ]
    },
    {
     "name": "stderr",
     "output_type": "stream",
     "text": [
      " 55%|██████████████████████▉                   | 75/137 [28:42<18:33, 17.96s/it]\n",
      "\n",
      "====== WebDriver manager ======\n",
      "Current google-chrome version is 93.0.4577\n",
      "Get LATEST driver version for 93.0.4577\n",
      "Driver [/Users/kimjisoo/.wdm/drivers/chromedriver/mac64/93.0.4577.63/chromedriver] found in cache\n"
     ]
    },
    {
     "name": "stdout",
     "output_type": "stream",
     "text": [
      "Mozilla/5.0 (Windows NT 6.1; rv:27.3) Gecko/20130101 Firefox/27.3\n"
     ]
    },
    {
     "name": "stderr",
     "output_type": "stream",
     "text": [
      " 55%|███████████████████████▎                  | 76/137 [29:06<19:57, 19.63s/it]\n",
      "\n",
      "====== WebDriver manager ======\n",
      "Current google-chrome version is 93.0.4577\n",
      "Get LATEST driver version for 93.0.4577\n",
      "Driver [/Users/kimjisoo/.wdm/drivers/chromedriver/mac64/93.0.4577.63/chromedriver] found in cache\n"
     ]
    },
    {
     "name": "stdout",
     "output_type": "stream",
     "text": [
      "Mozilla/5.0 (X11; OpenBSD i386) AppleWebKit/537.36 (KHTML, like Gecko) Chrome/36.0.1985.125 Safari/537.36\n"
     ]
    },
    {
     "name": "stderr",
     "output_type": "stream",
     "text": [
      " 56%|███████████████████████▌                  | 77/137 [29:20<18:06, 18.11s/it]\n",
      "\n",
      "====== WebDriver manager ======\n",
      "Current google-chrome version is 93.0.4577\n",
      "Get LATEST driver version for 93.0.4577\n"
     ]
    },
    {
     "name": "stdout",
     "output_type": "stream",
     "text": [
      "Mozilla/5.0 (Windows NT 5.1) AppleWebKit/537.36 (KHTML, like Gecko) Chrome/27.0.1453.93 Safari/537.36\n"
     ]
    },
    {
     "name": "stderr",
     "output_type": "stream",
     "text": [
      "Driver [/Users/kimjisoo/.wdm/drivers/chromedriver/mac64/93.0.4577.63/chromedriver] found in cache\n",
      " 57%|███████████████████████▉                  | 78/137 [29:35<16:43, 17.01s/it]\n",
      "\n",
      "====== WebDriver manager ======\n",
      "Current google-chrome version is 93.0.4577\n",
      "Get LATEST driver version for 93.0.4577\n",
      "Driver [/Users/kimjisoo/.wdm/drivers/chromedriver/mac64/93.0.4577.63/chromedriver] found in cache\n"
     ]
    },
    {
     "name": "stdout",
     "output_type": "stream",
     "text": [
      "Mozilla/5.0 (X11; NetBSD) AppleWebKit/537.36 (KHTML, like Gecko) Chrome/27.0.1453.116 Safari/537.36\n"
     ]
    },
    {
     "name": "stderr",
     "output_type": "stream",
     "text": [
      " 58%|████████████████████████▏                 | 79/137 [30:05<20:23, 21.09s/it]\n",
      "\n",
      "====== WebDriver manager ======\n",
      "Current google-chrome version is 93.0.4577\n",
      "Get LATEST driver version for 93.0.4577\n",
      "Driver [/Users/kimjisoo/.wdm/drivers/chromedriver/mac64/93.0.4577.63/chromedriver] found in cache\n"
     ]
    },
    {
     "name": "stdout",
     "output_type": "stream",
     "text": [
      "Mozilla/5.0 (Macintosh; Intel Mac OS X 10_8_3) AppleWebKit/537.36 (KHTML, like Gecko) Chrome/27.0.1453.93 Safari/537.36\n"
     ]
    },
    {
     "name": "stderr",
     "output_type": "stream",
     "text": [
      " 58%|████████████████████████▌                 | 80/137 [30:22<18:50, 19.84s/it]\n",
      "\n",
      "====== WebDriver manager ======\n",
      "Current google-chrome version is 93.0.4577\n",
      "Get LATEST driver version for 93.0.4577\n",
      "Driver [/Users/kimjisoo/.wdm/drivers/chromedriver/mac64/93.0.4577.63/chromedriver] found in cache\n"
     ]
    },
    {
     "name": "stdout",
     "output_type": "stream",
     "text": [
      "Mozilla/5.0 (Windows NT 5.1) AppleWebKit/537.36 (KHTML, like Gecko) Chrome/35.0.3319.102 Safari/537.36\n"
     ]
    },
    {
     "name": "stderr",
     "output_type": "stream",
     "text": [
      " 59%|████████████████████████▊                 | 81/137 [30:39<17:36, 18.86s/it]\n",
      "\n",
      "====== WebDriver manager ======\n",
      "Current google-chrome version is 93.0.4577\n",
      "Get LATEST driver version for 93.0.4577\n",
      "Driver [/Users/kimjisoo/.wdm/drivers/chromedriver/mac64/93.0.4577.63/chromedriver] found in cache\n"
     ]
    },
    {
     "name": "stdout",
     "output_type": "stream",
     "text": [
      "Mozilla/5.0 (Macintosh; Intel Mac OS X 10_9_0) AppleWebKit/537.36 (KHTML, like Gecko) Chrome/32.0.1664.3 Safari/537.36\n"
     ]
    },
    {
     "name": "stderr",
     "output_type": "stream",
     "text": [
      " 60%|█████████████████████████▏                | 82/137 [30:54<16:10, 17.65s/it]\n",
      "\n",
      "====== WebDriver manager ======\n",
      "Current google-chrome version is 93.0.4577\n",
      "Get LATEST driver version for 93.0.4577\n",
      "Driver [/Users/kimjisoo/.wdm/drivers/chromedriver/mac64/93.0.4577.63/chromedriver] found in cache\n"
     ]
    },
    {
     "name": "stdout",
     "output_type": "stream",
     "text": [
      "Mozilla/5.0 (Windows NT 6.1; WOW64) AppleWebKit/537.36 (KHTML, like Gecko) Chrome/27.0.1453.93 Safari/537.36\n"
     ]
    },
    {
     "name": "stderr",
     "output_type": "stream",
     "text": [
      " 61%|█████████████████████████▍                | 83/137 [31:10<15:38, 17.38s/it]\n",
      "\n",
      "====== WebDriver manager ======\n",
      "Current google-chrome version is 93.0.4577\n",
      "Get LATEST driver version for 93.0.4577\n",
      "Driver [/Users/kimjisoo/.wdm/drivers/chromedriver/mac64/93.0.4577.63/chromedriver] found in cache\n"
     ]
    },
    {
     "name": "stdout",
     "output_type": "stream",
     "text": [
      "Mozilla/5.0 (X11; CrOS i686 3912.101.0) AppleWebKit/537.36 (KHTML, like Gecko) Chrome/27.0.1453.116 Safari/537.36\n"
     ]
    },
    {
     "name": "stderr",
     "output_type": "stream",
     "text": [
      " 61%|█████████████████████████▊                | 84/137 [31:24<14:29, 16.40s/it]\n",
      "\n",
      "====== WebDriver manager ======\n",
      "Current google-chrome version is 93.0.4577\n",
      "Get LATEST driver version for 93.0.4577\n",
      "Driver [/Users/kimjisoo/.wdm/drivers/chromedriver/mac64/93.0.4577.63/chromedriver] found in cache\n"
     ]
    },
    {
     "name": "stdout",
     "output_type": "stream",
     "text": [
      "Mozilla/5.0 (Windows NT 6.1; WOW64) AppleWebKit/537.36 (KHTML, like Gecko) Chrome/31.0.1623.0 Safari/537.36\n"
     ]
    },
    {
     "name": "stderr",
     "output_type": "stream",
     "text": [
      " 62%|██████████████████████████                | 85/137 [31:39<13:49, 15.95s/it]\n",
      "\n",
      "====== WebDriver manager ======\n",
      "Current google-chrome version is 93.0.4577\n",
      "Get LATEST driver version for 93.0.4577\n",
      "Driver [/Users/kimjisoo/.wdm/drivers/chromedriver/mac64/93.0.4577.63/chromedriver] found in cache\n"
     ]
    },
    {
     "name": "stdout",
     "output_type": "stream",
     "text": [
      "Mozilla/5.0 (Macintosh; Intel Mac OS X 10_10_1) AppleWebKit/537.36 (KHTML, like Gecko) Chrome/37.0.2062.124 Safari/537.36\n"
     ]
    },
    {
     "name": "stderr",
     "output_type": "stream",
     "text": [
      " 63%|██████████████████████████▎               | 86/137 [32:08<16:43, 19.68s/it]\n",
      "\n",
      "====== WebDriver manager ======\n",
      "Current google-chrome version is 93.0.4577\n",
      "Get LATEST driver version for 93.0.4577\n",
      "Driver [/Users/kimjisoo/.wdm/drivers/chromedriver/mac64/93.0.4577.63/chromedriver] found in cache\n"
     ]
    },
    {
     "name": "stdout",
     "output_type": "stream",
     "text": [
      "Mozilla/5.0 (Windows NT 6.2; WOW64) AppleWebKit/537.14 (KHTML, like Gecko) Chrome/24.0.1292.0 Safari/537.14\n"
     ]
    },
    {
     "name": "stderr",
     "output_type": "stream",
     "text": [
      " 64%|██████████████████████████▋               | 87/137 [32:24<15:36, 18.73s/it]\n",
      "\n",
      "====== WebDriver manager ======\n",
      "Current google-chrome version is 93.0.4577\n",
      "Get LATEST driver version for 93.0.4577\n",
      "Driver [/Users/kimjisoo/.wdm/drivers/chromedriver/mac64/93.0.4577.63/chromedriver] found in cache\n"
     ]
    },
    {
     "name": "stdout",
     "output_type": "stream",
     "text": [
      "Mozilla/5.0 (Windows NT 6.2; WOW64) AppleWebKit/537.14 (KHTML, like Gecko) Chrome/24.0.1292.0 Safari/537.14\n"
     ]
    },
    {
     "name": "stderr",
     "output_type": "stream",
     "text": [
      " 64%|██████████████████████████▉               | 88/137 [32:41<14:42, 18.00s/it]\n",
      "\n",
      "====== WebDriver manager ======\n",
      "Current google-chrome version is 93.0.4577\n",
      "Get LATEST driver version for 93.0.4577\n",
      "Driver [/Users/kimjisoo/.wdm/drivers/chromedriver/mac64/93.0.4577.63/chromedriver] found in cache\n"
     ]
    },
    {
     "name": "stdout",
     "output_type": "stream",
     "text": [
      "Mozilla/5.0 (Macintosh; Intel Mac OS X 10_9_0) AppleWebKit/537.36 (KHTML, like Gecko) Chrome/32.0.1664.3 Safari/537.36\n"
     ]
    },
    {
     "name": "stderr",
     "output_type": "stream",
     "text": [
      " 65%|███████████████████████████▎              | 89/137 [32:57<14:02, 17.56s/it]\n",
      "\n",
      "====== WebDriver manager ======\n",
      "Current google-chrome version is 93.0.4577\n",
      "Get LATEST driver version for 93.0.4577\n",
      "Driver [/Users/kimjisoo/.wdm/drivers/chromedriver/mac64/93.0.4577.63/chromedriver] found in cache\n"
     ]
    },
    {
     "name": "stdout",
     "output_type": "stream",
     "text": [
      "Mozilla/5.0 (Windows NT 6.1; WOW64) AppleWebKit/537.36 (KHTML, like Gecko) Chrome/31.0.1623.0 Safari/537.36\n"
     ]
    },
    {
     "name": "stderr",
     "output_type": "stream",
     "text": [
      " 66%|███████████████████████████▌              | 90/137 [33:12<13:03, 16.67s/it]\n",
      "\n",
      "====== WebDriver manager ======\n",
      "Current google-chrome version is 93.0.4577\n",
      "Get LATEST driver version for 93.0.4577\n",
      "Driver [/Users/kimjisoo/.wdm/drivers/chromedriver/mac64/93.0.4577.63/chromedriver] found in cache\n"
     ]
    },
    {
     "name": "stdout",
     "output_type": "stream",
     "text": [
      "Mozilla/5.0 (Windows NT 6.2; WOW64) AppleWebKit/537.15 (KHTML, like Gecko) Chrome/24.0.1295.0 Safari/537.15\n"
     ]
    },
    {
     "name": "stderr",
     "output_type": "stream",
     "text": [
      " 66%|███████████████████████████▉              | 91/137 [33:26<12:18, 16.04s/it]\n",
      "\n",
      "====== WebDriver manager ======\n",
      "Current google-chrome version is 93.0.4577\n",
      "Get LATEST driver version for 93.0.4577\n",
      "Driver [/Users/kimjisoo/.wdm/drivers/chromedriver/mac64/93.0.4577.63/chromedriver] found in cache\n"
     ]
    },
    {
     "name": "stdout",
     "output_type": "stream",
     "text": [
      "Mozilla/5.0 (Windows NT 6.1; rv:22.0) Gecko/20130405 Firefox/22.0\n"
     ]
    },
    {
     "name": "stderr",
     "output_type": "stream",
     "text": [
      " 67%|████████████████████████████▏             | 92/137 [33:43<12:13, 16.30s/it]\n",
      "\n",
      "====== WebDriver manager ======\n",
      "Current google-chrome version is 93.0.4577\n",
      "Get LATEST driver version for 93.0.4577\n",
      "Driver [/Users/kimjisoo/.wdm/drivers/chromedriver/mac64/93.0.4577.63/chromedriver] found in cache\n"
     ]
    },
    {
     "name": "stdout",
     "output_type": "stream",
     "text": [
      "Mozilla/5.0 (X11; Linux x86_64) AppleWebKit/537.36 (KHTML, like Gecko) Chrome/34.0.1847.137 Safari/4E423F\n"
     ]
    },
    {
     "name": "stderr",
     "output_type": "stream",
     "text": [
      " 68%|████████████████████████████▌             | 93/137 [34:11<14:27, 19.71s/it]\n",
      "\n",
      "====== WebDriver manager ======\n",
      "Current google-chrome version is 93.0.4577\n",
      "Get LATEST driver version for 93.0.4577\n",
      "Driver [/Users/kimjisoo/.wdm/drivers/chromedriver/mac64/93.0.4577.63/chromedriver] found in cache\n"
     ]
    },
    {
     "name": "stdout",
     "output_type": "stream",
     "text": [
      "Mozilla/5.0 (Macintosh; Intel Mac OS X 10_8_0) AppleWebKit/537.36 (KHTML, like Gecko) Chrome/32.0.1664.3 Safari/537.36\n"
     ]
    },
    {
     "name": "stderr",
     "output_type": "stream",
     "text": [
      " 69%|████████████████████████████▊             | 94/137 [34:30<14:05, 19.67s/it]\n",
      "\n",
      "====== WebDriver manager ======\n",
      "Current google-chrome version is 93.0.4577\n",
      "Get LATEST driver version for 93.0.4577\n",
      "Driver [/Users/kimjisoo/.wdm/drivers/chromedriver/mac64/93.0.4577.63/chromedriver] found in cache\n"
     ]
    },
    {
     "name": "stdout",
     "output_type": "stream",
     "text": [
      "Mozilla/5.0 (Windows NT 6.2) AppleWebKit/537.36 (KHTML, like Gecko) Chrome/28.0.1464.0 Safari/537.36\n"
     ]
    },
    {
     "name": "stderr",
     "output_type": "stream",
     "text": [
      " 69%|█████████████████████████████             | 95/137 [34:45<12:36, 18.02s/it]\n",
      "\n",
      "====== WebDriver manager ======\n",
      "Current google-chrome version is 93.0.4577\n",
      "Get LATEST driver version for 93.0.4577\n"
     ]
    },
    {
     "name": "stdout",
     "output_type": "stream",
     "text": [
      "Mozilla/5.0 (Windows NT 6.2; WOW64) AppleWebKit/537.36 (KHTML, like Gecko) Chrome/29.0.1547.2 Safari/537.36\n"
     ]
    },
    {
     "name": "stderr",
     "output_type": "stream",
     "text": [
      "Driver [/Users/kimjisoo/.wdm/drivers/chromedriver/mac64/93.0.4577.63/chromedriver] found in cache\n",
      " 70%|█████████████████████████████▍            | 96/137 [35:01<12:01, 17.60s/it]\n",
      "\n",
      "====== WebDriver manager ======\n",
      "Current google-chrome version is 93.0.4577\n",
      "Get LATEST driver version for 93.0.4577\n",
      "Driver [/Users/kimjisoo/.wdm/drivers/chromedriver/mac64/93.0.4577.63/chromedriver] found in cache\n"
     ]
    },
    {
     "name": "stdout",
     "output_type": "stream",
     "text": [
      "Mozilla/5.0 (Windows NT 6.2; WOW64) AppleWebKit/537.36 (KHTML, like Gecko) Chrome/30.0.1599.17 Safari/537.36\n"
     ]
    },
    {
     "name": "stderr",
     "output_type": "stream",
     "text": [
      " 71%|█████████████████████████████▋            | 97/137 [35:20<12:03, 18.08s/it]\n",
      "\n",
      "====== WebDriver manager ======\n",
      "Current google-chrome version is 93.0.4577\n",
      "Get LATEST driver version for 93.0.4577\n",
      "Driver [/Users/kimjisoo/.wdm/drivers/chromedriver/mac64/93.0.4577.63/chromedriver] found in cache\n"
     ]
    },
    {
     "name": "stdout",
     "output_type": "stream",
     "text": [
      "Mozilla/5.0 (X11; CrOS i686 4319.74.0) AppleWebKit/537.36 (KHTML, like Gecko) Chrome/29.0.1547.57 Safari/537.36\n"
     ]
    },
    {
     "name": "stderr",
     "output_type": "stream",
     "text": [
      " 72%|██████████████████████████████            | 98/137 [35:54<14:50, 22.84s/it]\n",
      "\n",
      "====== WebDriver manager ======\n",
      "Current google-chrome version is 93.0.4577\n",
      "Get LATEST driver version for 93.0.4577\n",
      "Driver [/Users/kimjisoo/.wdm/drivers/chromedriver/mac64/93.0.4577.63/chromedriver] found in cache\n"
     ]
    },
    {
     "name": "stdout",
     "output_type": "stream",
     "text": [
      "Mozilla/5.0 (Macintosh; Intel Mac OS X 10_10_1) AppleWebKit/537.36 (KHTML, like Gecko) Chrome/37.0.2062.124 Safari/537.36\n"
     ]
    },
    {
     "name": "stderr",
     "output_type": "stream",
     "text": [
      " 72%|██████████████████████████████▎           | 99/137 [36:09<12:50, 20.27s/it]\n",
      "\n",
      "====== WebDriver manager ======\n",
      "Current google-chrome version is 93.0.4577\n",
      "Get LATEST driver version for 93.0.4577\n",
      "Driver [/Users/kimjisoo/.wdm/drivers/chromedriver/mac64/93.0.4577.63/chromedriver] found in cache\n"
     ]
    },
    {
     "name": "stdout",
     "output_type": "stream",
     "text": [
      "Mozilla/5.0 (Windows NT 6.3; WOW64) AppleWebKit/537.36 (KHTML, like Gecko) Chrome/41.0.2226.0 Safari/537.36\n"
     ]
    },
    {
     "name": "stderr",
     "output_type": "stream",
     "text": [
      " 73%|█████████████████████████████▉           | 100/137 [36:27<12:06, 19.63s/it]\n",
      "\n",
      "====== WebDriver manager ======\n",
      "Current google-chrome version is 93.0.4577\n",
      "Get LATEST driver version for 93.0.4577\n",
      "Driver [/Users/kimjisoo/.wdm/drivers/chromedriver/mac64/93.0.4577.63/chromedriver] found in cache\n"
     ]
    },
    {
     "name": "stdout",
     "output_type": "stream",
     "text": [
      "Mozilla/5.0 (Windows NT 6.1; rv:6.0) Gecko/20100101 Firefox/19.0\n"
     ]
    },
    {
     "name": "stderr",
     "output_type": "stream",
     "text": [
      " 74%|██████████████████████████████▏          | 101/137 [36:44<11:18, 18.85s/it]\n",
      "\n",
      "====== WebDriver manager ======\n",
      "Current google-chrome version is 93.0.4577\n",
      "Get LATEST driver version for 93.0.4577\n"
     ]
    },
    {
     "name": "stdout",
     "output_type": "stream",
     "text": [
      "Mozilla/5.0 (Windows NT 5.1) AppleWebKit/537.36 (KHTML, like Gecko) Chrome/35.0.3319.102 Safari/537.36\n"
     ]
    },
    {
     "name": "stderr",
     "output_type": "stream",
     "text": [
      "Driver [/Users/kimjisoo/.wdm/drivers/chromedriver/mac64/93.0.4577.63/chromedriver] found in cache\n",
      " 74%|██████████████████████████████▌          | 102/137 [36:58<10:15, 17.57s/it]\n",
      "\n",
      "====== WebDriver manager ======\n",
      "Current google-chrome version is 93.0.4577\n",
      "Get LATEST driver version for 93.0.4577\n",
      "Driver [/Users/kimjisoo/.wdm/drivers/chromedriver/mac64/93.0.4577.63/chromedriver] found in cache\n"
     ]
    },
    {
     "name": "stdout",
     "output_type": "stream",
     "text": [
      "Mozilla/5.0 (Windows NT 6.2; WOW64) AppleWebKit/537.36 (KHTML, like Gecko) Chrome/27.0.1500.55 Safari/537.36\n"
     ]
    },
    {
     "name": "stderr",
     "output_type": "stream",
     "text": [
      " 75%|██████████████████████████████▊          | 103/137 [37:13<09:27, 16.68s/it]\n",
      "\n",
      "====== WebDriver manager ======\n",
      "Current google-chrome version is 93.0.4577\n",
      "Get LATEST driver version for 93.0.4577\n",
      "Driver [/Users/kimjisoo/.wdm/drivers/chromedriver/mac64/93.0.4577.63/chromedriver] found in cache\n"
     ]
    },
    {
     "name": "stdout",
     "output_type": "stream",
     "text": [
      "Mozilla/5.0 (Macintosh; Intel Mac OS X 10_9_0) AppleWebKit/537.36 (KHTML, like Gecko) Chrome/32.0.1664.3 Safari/537.36\n"
     ]
    },
    {
     "name": "stderr",
     "output_type": "stream",
     "text": [
      " 76%|███████████████████████████████          | 104/137 [37:28<08:55, 16.24s/it]\n",
      "\n",
      "====== WebDriver manager ======\n",
      "Current google-chrome version is 93.0.4577\n",
      "Get LATEST driver version for 93.0.4577\n",
      "Driver [/Users/kimjisoo/.wdm/drivers/chromedriver/mac64/93.0.4577.63/chromedriver] found in cache\n"
     ]
    },
    {
     "name": "stdout",
     "output_type": "stream",
     "text": [
      "Mozilla/5.0 (Windows NT 6.0; WOW64; rv:24.0) Gecko/20100101 Firefox/24.0\n"
     ]
    },
    {
     "name": "stderr",
     "output_type": "stream",
     "text": [
      " 77%|███████████████████████████████▍         | 105/137 [37:42<08:20, 15.66s/it]\n",
      "\n",
      "====== WebDriver manager ======\n",
      "Current google-chrome version is 93.0.4577\n",
      "Get LATEST driver version for 93.0.4577\n",
      "Driver [/Users/kimjisoo/.wdm/drivers/chromedriver/mac64/93.0.4577.63/chromedriver] found in cache\n"
     ]
    },
    {
     "name": "stdout",
     "output_type": "stream",
     "text": [
      "Mozilla/5.0 (Windows NT 6.2; WOW64) AppleWebKit/537.36 (KHTML, like Gecko) Chrome/30.0.1599.17 Safari/537.36\n"
     ]
    },
    {
     "name": "stderr",
     "output_type": "stream",
     "text": [
      " 77%|███████████████████████████████▋         | 106/137 [37:57<07:54, 15.29s/it]\n",
      "\n",
      "====== WebDriver manager ======\n",
      "Current google-chrome version is 93.0.4577\n",
      "Get LATEST driver version for 93.0.4577\n",
      "Driver [/Users/kimjisoo/.wdm/drivers/chromedriver/mac64/93.0.4577.63/chromedriver] found in cache\n"
     ]
    },
    {
     "name": "stdout",
     "output_type": "stream",
     "text": [
      "Mozilla/5.0 (Windows NT 6.2; WOW64) AppleWebKit/537.15 (KHTML, like Gecko) Chrome/24.0.1295.0 Safari/537.15\n"
     ]
    },
    {
     "name": "stderr",
     "output_type": "stream",
     "text": [
      " 78%|████████████████████████████████         | 107/137 [38:11<07:31, 15.06s/it]\n",
      "\n",
      "====== WebDriver manager ======\n",
      "Current google-chrome version is 93.0.4577\n",
      "Get LATEST driver version for 93.0.4577\n",
      "Driver [/Users/kimjisoo/.wdm/drivers/chromedriver/mac64/93.0.4577.63/chromedriver] found in cache\n"
     ]
    },
    {
     "name": "stdout",
     "output_type": "stream",
     "text": [
      "Mozilla/5.0 (Windows NT 5.1; rv:21.0) Gecko/20130331 Firefox/21.0\n"
     ]
    },
    {
     "name": "stderr",
     "output_type": "stream",
     "text": [
      " 79%|██████████████████████████▊       | 108/137 [3:35:51<25:50:43, 3208.40s/it]\n",
      "\n",
      "====== WebDriver manager ======\n",
      "Current google-chrome version is 93.0.4577\n",
      "Get LATEST driver version for 93.0.4577\n"
     ]
    },
    {
     "name": "stdout",
     "output_type": "stream",
     "text": [
      "brand name: 킨 HTTPConnectionPool(host='127.0.0.1', port=65507): Max retries exceeded with url: /session/8f4a8b96cfc9b7c5a5f5526c47e4fa27/source (Caused by ReadTimeoutError(\"HTTPConnectionPool(host='127.0.0.1', port=65507): Read timed out. (read timeout=<object object at 0x7faa609592b0>)\"))\n",
      "Mozilla/5.0 (Windows; U; Windows NT 6.1; fr-FR) AppleWebKit/533.20.25 (KHTML, like Gecko) Version/5.0.4 Safari/533.20.27\n"
     ]
    },
    {
     "name": "stderr",
     "output_type": "stream",
     "text": [
      "Driver [/Users/kimjisoo/.wdm/drivers/chromedriver/mac64/93.0.4577.63/chromedriver] found in cache\n",
      " 80%|███████████████████████████       | 109/137 [3:36:07<17:30:23, 2250.83s/it]\n",
      "\n",
      "====== WebDriver manager ======\n",
      "Current google-chrome version is 93.0.4577\n",
      "Get LATEST driver version for 93.0.4577\n",
      "Driver [/Users/kimjisoo/.wdm/drivers/chromedriver/mac64/93.0.4577.63/chromedriver] found in cache\n"
     ]
    },
    {
     "name": "stdout",
     "output_type": "stream",
     "text": [
      "Mozilla/5.0 (Windows NT 6.3; WOW64) AppleWebKit/537.36 (KHTML, like Gecko) Chrome/41.0.2226.0 Safari/537.36\n"
     ]
    },
    {
     "name": "stderr",
     "output_type": "stream",
     "text": [
      " 80%|███████████████████████████▎      | 110/137 [3:36:21<11:50:51, 1579.67s/it]\n",
      "\n",
      "====== WebDriver manager ======\n",
      "Current google-chrome version is 93.0.4577\n",
      "Get LATEST driver version for 93.0.4577\n"
     ]
    },
    {
     "name": "stdout",
     "output_type": "stream",
     "text": [
      "Mozilla/5.0 (Windows NT 6.2; rv:22.0) Gecko/20130405 Firefox/22.0\n"
     ]
    },
    {
     "name": "stderr",
     "output_type": "stream",
     "text": [
      "Driver [/Users/kimjisoo/.wdm/drivers/chromedriver/mac64/93.0.4577.63/chromedriver] found in cache\n",
      " 81%|████████████████████████████▎      | 111/137 [3:36:36<8:01:02, 1110.11s/it]\n",
      "\n",
      "====== WebDriver manager ======\n",
      "Current google-chrome version is 93.0.4577\n",
      "Get LATEST driver version for 93.0.4577\n"
     ]
    },
    {
     "name": "stdout",
     "output_type": "stream",
     "text": [
      "Mozilla/5.0 (Windows NT 6.1; WOW64) AppleWebKit/537.36 (KHTML, like Gecko) Chrome/31.0.1623.0 Safari/537.36\n"
     ]
    },
    {
     "name": "stderr",
     "output_type": "stream",
     "text": [
      "Driver [/Users/kimjisoo/.wdm/drivers/chromedriver/mac64/93.0.4577.63/chromedriver] found in cache\n",
      " 82%|█████████████████████████████▍      | 112/137 [3:36:51<5:25:41, 781.65s/it]\n",
      "\n",
      "====== WebDriver manager ======\n",
      "Current google-chrome version is 93.0.4577\n",
      "Get LATEST driver version for 93.0.4577\n"
     ]
    },
    {
     "name": "stdout",
     "output_type": "stream",
     "text": [
      "Mozilla/5.0 (Windows NT 6.3; WOW64) AppleWebKit/537.36 (KHTML, like Gecko) Chrome/41.0.2226.0 Safari/537.36\n"
     ]
    },
    {
     "name": "stderr",
     "output_type": "stream",
     "text": [
      "Driver [/Users/kimjisoo/.wdm/drivers/chromedriver/mac64/93.0.4577.63/chromedriver] found in cache\n",
      " 82%|█████████████████████████████▋      | 113/137 [3:37:05<3:40:34, 551.44s/it]\n",
      "\n",
      "====== WebDriver manager ======\n",
      "Current google-chrome version is 93.0.4577\n",
      "Get LATEST driver version for 93.0.4577\n",
      "Driver [/Users/kimjisoo/.wdm/drivers/chromedriver/mac64/93.0.4577.63/chromedriver] found in cache\n"
     ]
    },
    {
     "name": "stdout",
     "output_type": "stream",
     "text": [
      "Mozilla/5.0 (Windows NT 6.1; WOW64) AppleWebKit/537.36 (KHTML, like Gecko) Chrome/27.0.1453.93 Safari/537.36\n"
     ]
    },
    {
     "name": "stderr",
     "output_type": "stream",
     "text": [
      " 83%|█████████████████████████████▉      | 114/137 [3:38:28<2:37:29, 410.86s/it]\n",
      "\n",
      "====== WebDriver manager ======\n",
      "Current google-chrome version is 93.0.4577\n",
      "Get LATEST driver version for 93.0.4577\n"
     ]
    },
    {
     "name": "stdout",
     "output_type": "stream",
     "text": [
      "Mozilla/5.0 (Windows NT 6.1) AppleWebKit/537.36 (KHTML, like Gecko) Chrome/27.0.1453.93 Safari/537.36\n"
     ]
    },
    {
     "name": "stderr",
     "output_type": "stream",
     "text": [
      "Driver [/Users/kimjisoo/.wdm/drivers/chromedriver/mac64/93.0.4577.63/chromedriver] found in cache\n",
      " 84%|██████████████████████████████▏     | 115/137 [3:38:43<1:47:04, 292.02s/it]\n",
      "\n",
      "====== WebDriver manager ======\n",
      "Current google-chrome version is 93.0.4577\n",
      "Get LATEST driver version for 93.0.4577\n",
      "Driver [/Users/kimjisoo/.wdm/drivers/chromedriver/mac64/93.0.4577.63/chromedriver] found in cache\n"
     ]
    },
    {
     "name": "stdout",
     "output_type": "stream",
     "text": [
      "Mozilla/5.0 (X11; Linux x86_64) AppleWebKit/537.36 (KHTML, like Gecko) Chrome/33.0.1750.517 Safari/537.36\n"
     ]
    },
    {
     "name": "stderr",
     "output_type": "stream",
     "text": [
      " 85%|██████████████████████████████▍     | 116/137 [3:38:57<1:13:06, 208.86s/it]\n",
      "\n",
      "====== WebDriver manager ======\n",
      "Current google-chrome version is 93.0.4577\n",
      "Get LATEST driver version for 93.0.4577\n",
      "Driver [/Users/kimjisoo/.wdm/drivers/chromedriver/mac64/93.0.4577.63/chromedriver] found in cache\n"
     ]
    },
    {
     "name": "stdout",
     "output_type": "stream",
     "text": [
      "Mozilla/5.0 (Windows NT 6.1; Win64; x64; rv:23.0) Gecko/20131011 Firefox/23.0\n"
     ]
    },
    {
     "name": "stderr",
     "output_type": "stream",
     "text": [
      " 85%|████████████████████████████████▍     | 117/137 [3:39:14<50:24, 151.21s/it]\n",
      "\n",
      "====== WebDriver manager ======\n",
      "Current google-chrome version is 93.0.4577\n",
      "Get LATEST driver version for 93.0.4577\n"
     ]
    },
    {
     "name": "stdout",
     "output_type": "stream",
     "text": [
      "Mozilla/5.0 (Macintosh; Intel Mac OS X 10_10_1) AppleWebKit/537.36 (KHTML, like Gecko) Chrome/37.0.2062.124 Safari/537.36\n"
     ]
    },
    {
     "name": "stderr",
     "output_type": "stream",
     "text": [
      "Driver [/Users/kimjisoo/.wdm/drivers/chromedriver/mac64/93.0.4577.63/chromedriver] found in cache\n",
      " 86%|████████████████████████████████▋     | 118/137 [3:39:33<35:20, 111.62s/it]\n",
      "\n",
      "====== WebDriver manager ======\n",
      "Current google-chrome version is 93.0.4577\n",
      "Get LATEST driver version for 93.0.4577\n",
      "Driver [/Users/kimjisoo/.wdm/drivers/chromedriver/mac64/93.0.4577.63/chromedriver] found in cache\n"
     ]
    },
    {
     "name": "stdout",
     "output_type": "stream",
     "text": [
      "Mozilla/5.0 (Windows NT 6.1; WOW64) AppleWebKit/537.36 (KHTML, like Gecko) Chrome/41.0.2227.0 Safari/537.36\n"
     ]
    },
    {
     "name": "stderr",
     "output_type": "stream",
     "text": [
      " 87%|█████████████████████████████████▉     | 119/137 [3:39:50<24:53, 82.98s/it]\n",
      "\n",
      "====== WebDriver manager ======\n",
      "Current google-chrome version is 93.0.4577\n",
      "Get LATEST driver version for 93.0.4577\n",
      "Driver [/Users/kimjisoo/.wdm/drivers/chromedriver/mac64/93.0.4577.63/chromedriver] found in cache\n"
     ]
    },
    {
     "name": "stdout",
     "output_type": "stream",
     "text": [
      "Mozilla/5.0 (Windows NT 6.1) AppleWebKit/537.36 (KHTML, like Gecko) Chrome/28.0.1468.0 Safari/537.36\n"
     ]
    },
    {
     "name": "stderr",
     "output_type": "stream",
     "text": [
      " 88%|██████████████████████████████████▏    | 120/137 [3:40:06<17:52, 63.07s/it]\n",
      "\n",
      "====== WebDriver manager ======\n",
      "Current google-chrome version is 93.0.4577\n",
      "Get LATEST driver version for 93.0.4577\n",
      "Driver [/Users/kimjisoo/.wdm/drivers/chromedriver/mac64/93.0.4577.63/chromedriver] found in cache\n"
     ]
    },
    {
     "name": "stdout",
     "output_type": "stream",
     "text": [
      "Mozilla/5.0 (Macintosh; Intel Mac OS X 10_9_0) AppleWebKit/537.36 (KHTML, like Gecko) Chrome/32.0.1664.3 Safari/537.36\n"
     ]
    },
    {
     "name": "stderr",
     "output_type": "stream",
     "text": [
      " 88%|██████████████████████████████████▍    | 121/137 [3:40:23<13:08, 49.25s/it]\n",
      "\n",
      "====== WebDriver manager ======\n",
      "Current google-chrome version is 93.0.4577\n",
      "Get LATEST driver version for 93.0.4577\n",
      "Driver [/Users/kimjisoo/.wdm/drivers/chromedriver/mac64/93.0.4577.63/chromedriver] found in cache\n"
     ]
    },
    {
     "name": "stdout",
     "output_type": "stream",
     "text": [
      "Mozilla/5.0 (Windows NT 6.3; WOW64) AppleWebKit/537.36 (KHTML, like Gecko) Chrome/41.0.2226.0 Safari/537.36\n"
     ]
    },
    {
     "name": "stderr",
     "output_type": "stream",
     "text": [
      " 89%|██████████████████████████████████▋    | 122/137 [3:40:39<09:47, 39.15s/it]\n",
      "\n",
      "====== WebDriver manager ======\n",
      "Current google-chrome version is 93.0.4577\n",
      "Get LATEST driver version for 93.0.4577\n",
      "Driver [/Users/kimjisoo/.wdm/drivers/chromedriver/mac64/93.0.4577.63/chromedriver] found in cache\n"
     ]
    },
    {
     "name": "stdout",
     "output_type": "stream",
     "text": [
      "Mozilla/5.0 (Windows NT 6.1; WOW64; rv:40.0) Gecko/20100101 Firefox/40.1\n"
     ]
    },
    {
     "name": "stderr",
     "output_type": "stream",
     "text": [
      " 90%|███████████████████████████████████    | 123/137 [3:40:55<07:33, 32.41s/it]\n",
      "\n",
      "====== WebDriver manager ======\n",
      "Current google-chrome version is 93.0.4577\n",
      "Get LATEST driver version for 93.0.4577\n",
      "Driver [/Users/kimjisoo/.wdm/drivers/chromedriver/mac64/93.0.4577.63/chromedriver] found in cache\n"
     ]
    },
    {
     "name": "stdout",
     "output_type": "stream",
     "text": [
      "Mozilla/5.0 (Windows NT 6.3; Win64; x64) AppleWebKit/537.36 (KHTML, like Gecko) Chrome/37.0.2049.0 Safari/537.36\n"
     ]
    },
    {
     "name": "stderr",
     "output_type": "stream",
     "text": [
      " 91%|███████████████████████████████████▎   | 124/137 [3:42:17<10:11, 47.02s/it]\n",
      "\n",
      "====== WebDriver manager ======\n",
      "Current google-chrome version is 93.0.4577\n",
      "Get LATEST driver version for 93.0.4577\n",
      "Driver [/Users/kimjisoo/.wdm/drivers/chromedriver/mac64/93.0.4577.63/chromedriver] found in cache\n"
     ]
    },
    {
     "name": "stdout",
     "output_type": "stream",
     "text": [
      "Mozilla/5.0 (Windows NT 6.2) AppleWebKit/537.36 (KHTML, like Gecko) Chrome/28.0.1464.0 Safari/537.36\n"
     ]
    },
    {
     "name": "stderr",
     "output_type": "stream",
     "text": [
      " 91%|███████████████████████████████████▌   | 125/137 [3:42:34<07:36, 38.05s/it]\n",
      "\n",
      "====== WebDriver manager ======\n",
      "Current google-chrome version is 93.0.4577\n",
      "Get LATEST driver version for 93.0.4577\n"
     ]
    },
    {
     "name": "stdout",
     "output_type": "stream",
     "text": [
      "Mozilla/5.0 (Macintosh; Intel Mac OS X 10_10_1) AppleWebKit/537.36 (KHTML, like Gecko) Chrome/37.0.2062.124 Safari/537.36\n"
     ]
    },
    {
     "name": "stderr",
     "output_type": "stream",
     "text": [
      "Driver [/Users/kimjisoo/.wdm/drivers/chromedriver/mac64/93.0.4577.63/chromedriver] found in cache\n",
      " 92%|███████████████████████████████████▊   | 126/137 [3:42:54<06:00, 32.79s/it]\n",
      "\n",
      "====== WebDriver manager ======\n",
      "Current google-chrome version is 93.0.4577\n",
      "Get LATEST driver version for 93.0.4577\n"
     ]
    },
    {
     "name": "stdout",
     "output_type": "stream",
     "text": [
      "Mozilla/5.0 (X11; Linux x86_64) AppleWebKit/537.36 (KHTML, like Gecko) Chrome/33.0.1750.517 Safari/537.36\n"
     ]
    },
    {
     "name": "stderr",
     "output_type": "stream",
     "text": [
      "Driver [/Users/kimjisoo/.wdm/drivers/chromedriver/mac64/93.0.4577.63/chromedriver] found in cache\n",
      " 93%|████████████████████████████████████▏  | 127/137 [3:43:14<04:49, 28.95s/it]\n",
      "\n",
      "====== WebDriver manager ======\n",
      "Current google-chrome version is 93.0.4577\n",
      "Get LATEST driver version for 93.0.4577\n",
      "Driver [/Users/kimjisoo/.wdm/drivers/chromedriver/mac64/93.0.4577.63/chromedriver] found in cache\n"
     ]
    },
    {
     "name": "stdout",
     "output_type": "stream",
     "text": [
      "Mozilla/5.0 (Windows NT 6.4; WOW64) AppleWebKit/537.36 (KHTML, like Gecko) Chrome/41.0.2225.0 Safari/537.36\n"
     ]
    },
    {
     "name": "stderr",
     "output_type": "stream",
     "text": [
      " 93%|████████████████████████████████████▍  | 128/137 [3:43:30<03:45, 25.07s/it]\n",
      "\n",
      "====== WebDriver manager ======\n",
      "Current google-chrome version is 93.0.4577\n",
      "Get LATEST driver version for 93.0.4577\n"
     ]
    },
    {
     "name": "stdout",
     "output_type": "stream",
     "text": [
      "Mozilla/5.0 (Windows NT 6.1; WOW64; rv:23.0) Gecko/20130406 Firefox/23.0\n"
     ]
    },
    {
     "name": "stderr",
     "output_type": "stream",
     "text": [
      "Driver [/Users/kimjisoo/.wdm/drivers/chromedriver/mac64/93.0.4577.63/chromedriver] found in cache\n",
      " 94%|████████████████████████████████████▋  | 129/137 [3:43:48<03:02, 22.78s/it]\n",
      "\n",
      "====== WebDriver manager ======\n",
      "Current google-chrome version is 93.0.4577\n",
      "Get LATEST driver version for 93.0.4577\n",
      "Driver [/Users/kimjisoo/.wdm/drivers/chromedriver/mac64/93.0.4577.63/chromedriver] found in cache\n"
     ]
    },
    {
     "name": "stdout",
     "output_type": "stream",
     "text": [
      "Mozilla/5.0 (Windows NT 6.2; WOW64) AppleWebKit/537.36 (KHTML, like Gecko) Chrome/27.0.1453.93 Safari/537.36\n"
     ]
    },
    {
     "name": "stderr",
     "output_type": "stream",
     "text": [
      " 95%|█████████████████████████████████████  | 130/137 [3:44:04<02:25, 20.86s/it]\n",
      "\n",
      "====== WebDriver manager ======\n",
      "Current google-chrome version is 93.0.4577\n",
      "Get LATEST driver version for 93.0.4577\n",
      "Driver [/Users/kimjisoo/.wdm/drivers/chromedriver/mac64/93.0.4577.63/chromedriver] found in cache\n"
     ]
    },
    {
     "name": "stdout",
     "output_type": "stream",
     "text": [
      "Mozilla/5.0 (Windows NT 5.1) AppleWebKit/537.36 (KHTML, like Gecko) Chrome/36.0.1985.67 Safari/537.36\n"
     ]
    },
    {
     "name": "stderr",
     "output_type": "stream",
     "text": [
      " 96%|█████████████████████████████████████▎ | 131/137 [3:44:21<01:59, 19.85s/it]\n",
      "\n",
      "====== WebDriver manager ======\n",
      "Current google-chrome version is 93.0.4577\n",
      "Get LATEST driver version for 93.0.4577\n"
     ]
    },
    {
     "name": "stdout",
     "output_type": "stream",
     "text": [
      "Mozilla/5.0 (Windows NT 5.1) AppleWebKit/537.36 (KHTML, like Gecko) Chrome/35.0.3319.102 Safari/537.36\n"
     ]
    },
    {
     "name": "stderr",
     "output_type": "stream",
     "text": [
      "Driver [/Users/kimjisoo/.wdm/drivers/chromedriver/mac64/93.0.4577.63/chromedriver] found in cache\n",
      " 96%|█████████████████████████████████████▌ | 132/137 [3:44:37<01:32, 18.57s/it]\n",
      "\n",
      "====== WebDriver manager ======\n",
      "Current google-chrome version is 93.0.4577\n",
      "Get LATEST driver version for 93.0.4577\n",
      "Driver [/Users/kimjisoo/.wdm/drivers/chromedriver/mac64/93.0.4577.63/chromedriver] found in cache\n"
     ]
    },
    {
     "name": "stdout",
     "output_type": "stream",
     "text": [
      "Mozilla/5.0 (Windows NT 5.1) AppleWebKit/537.36 (KHTML, like Gecko) Chrome/27.0.1453.93 Safari/537.36\n"
     ]
    },
    {
     "name": "stderr",
     "output_type": "stream",
     "text": [
      " 97%|█████████████████████████████████████▊ | 133/137 [3:45:00<01:19, 19.76s/it]\n",
      "\n",
      "====== WebDriver manager ======\n",
      "Current google-chrome version is 93.0.4577\n",
      "Get LATEST driver version for 93.0.4577\n",
      "Driver [/Users/kimjisoo/.wdm/drivers/chromedriver/mac64/93.0.4577.63/chromedriver] found in cache\n"
     ]
    },
    {
     "name": "stdout",
     "output_type": "stream",
     "text": [
      "Mozilla/5.0 (compatible; MSIE 9.0; Windows NT 6.1; Win64; x64; Trident/5.0; .NET CLR 2.0.50727; SLCC2; .NET CLR 3.5.30729; .NET CLR 3.0.30729; Media Center PC 6.0; Zune 4.0; Tablet PC 2.0; InfoPath.3; .NET4.0C; .NET4.0E)\n"
     ]
    },
    {
     "name": "stderr",
     "output_type": "stream",
     "text": [
      " 98%|██████████████████████████████████████▏| 134/137 [3:45:17<00:56, 18.99s/it]\n",
      "\n",
      "====== WebDriver manager ======\n",
      "Current google-chrome version is 93.0.4577\n",
      "Get LATEST driver version for 93.0.4577\n",
      "Driver [/Users/kimjisoo/.wdm/drivers/chromedriver/mac64/93.0.4577.63/chromedriver] found in cache\n"
     ]
    },
    {
     "name": "stdout",
     "output_type": "stream",
     "text": [
      "Mozilla/5.0 (Windows NT 5.1) AppleWebKit/537.36 (KHTML, like Gecko) Chrome/34.0.1866.237 Safari/537.36\n"
     ]
    },
    {
     "name": "stderr",
     "output_type": "stream",
     "text": [
      " 99%|██████████████████████████████████████▍| 135/137 [3:45:32<00:35, 17.74s/it]\n",
      "\n",
      "====== WebDriver manager ======\n",
      "Current google-chrome version is 93.0.4577\n",
      "Get LATEST driver version for 93.0.4577\n",
      "Driver [/Users/kimjisoo/.wdm/drivers/chromedriver/mac64/93.0.4577.63/chromedriver] found in cache\n"
     ]
    },
    {
     "name": "stdout",
     "output_type": "stream",
     "text": [
      "Mozilla/5.0 (Windows NT 6.1; WOW64) AppleWebKit/537.17 (KHTML, like Gecko) Chrome/24.0.1312.60 Safari/537.17\n"
     ]
    },
    {
     "name": "stderr",
     "output_type": "stream",
     "text": [
      " 99%|██████████████████████████████████████▋| 136/137 [3:45:45<00:16, 16.46s/it]\n",
      "\n",
      "====== WebDriver manager ======\n",
      "Current google-chrome version is 93.0.4577\n",
      "Get LATEST driver version for 93.0.4577\n",
      "Driver [/Users/kimjisoo/.wdm/drivers/chromedriver/mac64/93.0.4577.63/chromedriver] found in cache\n"
     ]
    },
    {
     "name": "stdout",
     "output_type": "stream",
     "text": [
      "Mozilla/5.0 (Windows NT 6.1; rv:21.0) Gecko/20130328 Firefox/21.0\n"
     ]
    },
    {
     "name": "stderr",
     "output_type": "stream",
     "text": [
      "100%|███████████████████████████████████████| 137/137 [3:46:00<00:00, 98.98s/it]\n"
     ]
    }
   ],
   "source": [
    "for i in trange(len(nan_brd_lst)):\n",
    "    scrap_product_link(nan_brd_lst[i])"
   ]
  },
  {
   "cell_type": "code",
   "execution_count": 94,
   "id": "1f6e6405-1f5a-4444-aff3-b132d864ff73",
   "metadata": {},
   "outputs": [],
   "source": [
    "df_brd_ = df_brd.copy()"
   ]
  },
  {
   "cell_type": "code",
   "execution_count": null,
   "id": "b7a2d782-d02c-45bf-a96b-09cd635a005c",
   "metadata": {},
   "outputs": [],
   "source": [
    "for i in range(len(df_brd_)):\n",
    "    if df_brd_.loc[i, 'brand_name'] in dict_prd_link.keys():\n",
    "        df_brd.loc[i, 'product_link']"
   ]
  },
  {
   "cell_type": "code",
   "execution_count": 138,
   "id": "c46f5ae8-cbd1-4a33-9297-fea53e76a0f4",
   "metadata": {
    "collapsed": true,
    "jupyter": {
     "outputs_hidden": true
    },
    "tags": []
   },
   "outputs": [
    {
     "data": {
      "text/html": [
       "<div>\n",
       "<style scoped>\n",
       "    .dataframe tbody tr th:only-of-type {\n",
       "        vertical-align: middle;\n",
       "    }\n",
       "\n",
       "    .dataframe tbody tr th {\n",
       "        vertical-align: top;\n",
       "    }\n",
       "\n",
       "    .dataframe thead th {\n",
       "        text-align: right;\n",
       "    }\n",
       "</style>\n",
       "<table border=\"1\" class=\"dataframe\">\n",
       "  <thead>\n",
       "    <tr style=\"text-align: right;\">\n",
       "      <th></th>\n",
       "      <th>brand_code</th>\n",
       "      <th>brand_name</th>\n",
       "      <th>category</th>\n",
       "      <th>product_link</th>\n",
       "      <th>product_name</th>\n",
       "    </tr>\n",
       "  </thead>\n",
       "  <tbody>\n",
       "    <tr>\n",
       "      <th>0</th>\n",
       "      <td>https://www.glowpick.com/brands/8016</td>\n",
       "      <td>가가알로에</td>\n",
       "      <td>['스킨케어']</td>\n",
       "      <td>[https://www.glowpick.com/products/104713]</td>\n",
       "      <td>[라율 나이트 케어 너리싱 젤]</td>\n",
       "    </tr>\n",
       "    <tr>\n",
       "      <th>1</th>\n",
       "      <td>https://www.glowpick.com/brands/1265</td>\n",
       "      <td>가그린</td>\n",
       "      <td>['생활용품']</td>\n",
       "      <td>[https://www.glowpick.com/products/134403, htt...</td>\n",
       "      <td>[제로, 오리지널, 라임, 스트롱, 블라스트 치약 라임민트, 어린이용 [사과], 잇...</td>\n",
       "    </tr>\n",
       "    <tr>\n",
       "      <th>2</th>\n",
       "      <td>https://www.glowpick.com/brands/2077</td>\n",
       "      <td>가네보</td>\n",
       "      <td>['페이스메이크업', '립메이크업', '컨투어링', '클렌징', '배쓰&amp;바디', '...</td>\n",
       "      <td>[https://www.glowpick.com/products/101993, htt...</td>\n",
       "      <td>[페이스업 파우더 밀라노 콜렉션 2018 [SPF14/PA+], 코프레도르 스마일업...</td>\n",
       "    </tr>\n",
       "    <tr>\n",
       "      <th>3</th>\n",
       "      <td>https://www.glowpick.com/brands/11100</td>\n",
       "      <td>가드맨</td>\n",
       "      <td>['생활용품']</td>\n",
       "      <td>[https://www.glowpick.com/products/140699]</td>\n",
       "      <td>[안심 황사 마스크 KF80]</td>\n",
       "    </tr>\n",
       "    <tr>\n",
       "      <th>4</th>\n",
       "      <td>https://www.glowpick.com/brands/8724</td>\n",
       "      <td>가드미</td>\n",
       "      <td>['네일']</td>\n",
       "      <td>[https://www.glowpick.com/products/112824, htt...</td>\n",
       "      <td>[큐티클 클리너, 네일 큐티클 호호바 오일]</td>\n",
       "    </tr>\n",
       "    <tr>\n",
       "      <th>...</th>\n",
       "      <td>...</td>\n",
       "      <td>...</td>\n",
       "      <td>...</td>\n",
       "      <td>...</td>\n",
       "      <td>...</td>\n",
       "    </tr>\n",
       "    <tr>\n",
       "      <th>8047</th>\n",
       "      <td>https://www.glowpick.com/brands/490</td>\n",
       "      <td>4711</td>\n",
       "      <td>['프래그런스']</td>\n",
       "      <td>[https://www.glowpick.com/products/1622, https...</td>\n",
       "      <td>[아쿠아 콜로니아 블러드 오렌지 &amp; 바즐 오 드 코롱, 누보 콜로뉴 오드코롱, 아쿠...</td>\n",
       "    </tr>\n",
       "    <tr>\n",
       "      <th>8048</th>\n",
       "      <td>https://www.glowpick.com/brands/10747</td>\n",
       "      <td>5.2뉴트리션</td>\n",
       "      <td>['이너뷰티']</td>\n",
       "      <td>[https://www.glowpick.com/products/138092]</td>\n",
       "      <td>[다이어트 베이스 [초코맛]]</td>\n",
       "    </tr>\n",
       "    <tr>\n",
       "      <th>8049</th>\n",
       "      <td>https://www.glowpick.com/brands/10183</td>\n",
       "      <td>76N1</td>\n",
       "      <td>['스킨케어', '클렌징', '마스크/팩']</td>\n",
       "      <td>[https://www.glowpick.com/products/140014, htt...</td>\n",
       "      <td>[비 해피 더블 액션 미스트, 비 해피 오일 [대마씨 &amp; 동백], 슈퍼듀퍼 파우더 ...</td>\n",
       "    </tr>\n",
       "    <tr>\n",
       "      <th>8050</th>\n",
       "      <td>https://www.glowpick.com/brands/6814</td>\n",
       "      <td>87발렌타인</td>\n",
       "      <td>['배쓰&amp;바디']</td>\n",
       "      <td>[https://www.glowpick.com/products/89547]</td>\n",
       "      <td>[이상훈의 제모크림]</td>\n",
       "    </tr>\n",
       "    <tr>\n",
       "      <th>8051</th>\n",
       "      <td>https://www.glowpick.com/brands/6151</td>\n",
       "      <td>9컴플렉스</td>\n",
       "      <td>['뷰티툴']</td>\n",
       "      <td>[https://www.glowpick.com/products/81570]</td>\n",
       "      <td>[아이래쉬 뷰러]</td>\n",
       "    </tr>\n",
       "  </tbody>\n",
       "</table>\n",
       "<p>8052 rows × 5 columns</p>\n",
       "</div>"
      ],
      "text/plain": [
       "                                 brand_code brand_name  \\\n",
       "0      https://www.glowpick.com/brands/8016      가가알로에   \n",
       "1      https://www.glowpick.com/brands/1265        가그린   \n",
       "2      https://www.glowpick.com/brands/2077        가네보   \n",
       "3     https://www.glowpick.com/brands/11100        가드맨   \n",
       "4      https://www.glowpick.com/brands/8724        가드미   \n",
       "...                                     ...        ...   \n",
       "8047    https://www.glowpick.com/brands/490       4711   \n",
       "8048  https://www.glowpick.com/brands/10747    5.2뉴트리션   \n",
       "8049  https://www.glowpick.com/brands/10183       76N1   \n",
       "8050   https://www.glowpick.com/brands/6814     87발렌타인   \n",
       "8051   https://www.glowpick.com/brands/6151      9컴플렉스   \n",
       "\n",
       "                                               category  \\\n",
       "0                                              ['스킨케어']   \n",
       "1                                              ['생활용품']   \n",
       "2     ['페이스메이크업', '립메이크업', '컨투어링', '클렌징', '배쓰&바디', '...   \n",
       "3                                              ['생활용품']   \n",
       "4                                                ['네일']   \n",
       "...                                                 ...   \n",
       "8047                                          ['프래그런스']   \n",
       "8048                                           ['이너뷰티']   \n",
       "8049                           ['스킨케어', '클렌징', '마스크/팩']   \n",
       "8050                                          ['배쓰&바디']   \n",
       "8051                                            ['뷰티툴']   \n",
       "\n",
       "                                           product_link  \\\n",
       "0            [https://www.glowpick.com/products/104713]   \n",
       "1     [https://www.glowpick.com/products/134403, htt...   \n",
       "2     [https://www.glowpick.com/products/101993, htt...   \n",
       "3            [https://www.glowpick.com/products/140699]   \n",
       "4     [https://www.glowpick.com/products/112824, htt...   \n",
       "...                                                 ...   \n",
       "8047  [https://www.glowpick.com/products/1622, https...   \n",
       "8048         [https://www.glowpick.com/products/138092]   \n",
       "8049  [https://www.glowpick.com/products/140014, htt...   \n",
       "8050          [https://www.glowpick.com/products/89547]   \n",
       "8051          [https://www.glowpick.com/products/81570]   \n",
       "\n",
       "                                           product_name  \n",
       "0                                     [라율 나이트 케어 너리싱 젤]  \n",
       "1     [제로, 오리지널, 라임, 스트롱, 블라스트 치약 라임민트, 어린이용 [사과], 잇...  \n",
       "2     [페이스업 파우더 밀라노 콜렉션 2018 [SPF14/PA+], 코프레도르 스마일업...  \n",
       "3                                      [안심 황사 마스크 KF80]  \n",
       "4                              [큐티클 클리너, 네일 큐티클 호호바 오일]  \n",
       "...                                                 ...  \n",
       "8047  [아쿠아 콜로니아 블러드 오렌지 & 바즐 오 드 코롱, 누보 콜로뉴 오드코롱, 아쿠...  \n",
       "8048                                   [다이어트 베이스 [초코맛]]  \n",
       "8049  [비 해피 더블 액션 미스트, 비 해피 오일 [대마씨 & 동백], 슈퍼듀퍼 파우더 ...  \n",
       "8050                                        [이상훈의 제모크림]  \n",
       "8051                                          [아이래쉬 뷰러]  \n",
       "\n",
       "[8052 rows x 5 columns]"
      ]
     },
     "execution_count": 138,
     "metadata": {},
     "output_type": "execute_result"
    }
   ],
   "source": [
    "df_brd_"
   ]
  },
  {
   "cell_type": "code",
   "execution_count": 96,
   "id": "8cf0b2ee-f7d6-41ef-8b49-ac9d54217362",
   "metadata": {},
   "outputs": [
    {
     "data": {
      "text/plain": [
       "135"
      ]
     },
     "execution_count": 96,
     "metadata": {},
     "output_type": "execute_result"
    }
   ],
   "source": [
    "len(dict_prd_link.items())"
   ]
  },
  {
   "cell_type": "code",
   "execution_count": 134,
   "id": "5c168573-91bb-44ec-9a6e-a3beabfcdb62",
   "metadata": {},
   "outputs": [],
   "source": [
    "for _ in range(80):\n",
    "    dict_prd_name_nan[list(dict(dict_prd_name).keys())[_]] = list(dict(dict_prd_name).values())[_]"
   ]
  },
  {
   "cell_type": "code",
   "execution_count": 158,
   "id": "00ccf62b-75d0-4b6e-ad78-3fffd1429c67",
   "metadata": {
    "tags": []
   },
   "outputs": [
    {
     "data": {
      "text/plain": [
       "135"
      ]
     },
     "execution_count": 158,
     "metadata": {},
     "output_type": "execute_result"
    }
   ],
   "source": [
    "len(dict_prd_link_nan)"
   ]
  },
  {
   "cell_type": "code",
   "execution_count": 152,
   "id": "4410d565-2a3c-44dd-a99c-d23868ffd468",
   "metadata": {},
   "outputs": [],
   "source": [
    "dict_prd_link_nan = dict_prd_link"
   ]
  },
  {
   "cell_type": "code",
   "execution_count": 172,
   "id": "b1dd9c16-347d-4791-bd2d-8be1620a386b",
   "metadata": {},
   "outputs": [],
   "source": [
    "for _ in range(len(df_brd_)):\n",
    "    if df_brd_.loc[_, 'brand_name'] in list(dict_prd_link_nan.keys()):\n",
    "        df_brd_.loc[_, 'product_link'] = dict_prd_link_nan.get(df_brd_.loc[_, 'brand_name'])\n",
    "        if df_brd_.loc[_, 'brand_name'] in list(dict_prd_name_nan.keys()):\n",
    "            df_brd_.loc[_, 'product_name'] = dict_prd_name_nan.get(df_brd_.loc[_, 'brand_name'])"
   ]
  },
  {
   "cell_type": "code",
   "execution_count": 176,
   "id": "14d1aeb9-00fb-4ca7-a307-e339ed60f3ea",
   "metadata": {},
   "outputs": [
    {
     "data": {
      "text/plain": [
       "brand_code      0\n",
       "brand_name      0\n",
       "category        0\n",
       "product_link    1\n",
       "product_name    0\n",
       "dtype: int64"
      ]
     },
     "execution_count": 176,
     "metadata": {},
     "output_type": "execute_result"
    }
   ],
   "source": [
    "df_brd_.isnull().sum()"
   ]
  },
  {
   "cell_type": "code",
   "execution_count": 278,
   "id": "d8b78efc-3702-40da-ba13-818ccf22fc61",
   "metadata": {},
   "outputs": [],
   "source": [
    "nan = []\n",
    "for _ in range(len(df_brd_)):\n",
    "    if df_brd_.loc[_, 'product_name'] == [] or df_brd_.loc[_, 'product_link'] == []:\n",
    "        nan.append(_)"
   ]
  },
  {
   "cell_type": "code",
   "execution_count": 267,
   "id": "f691535d-0903-4c95-88ce-ab88713d5983",
   "metadata": {
    "jupyter": {
     "source_hidden": true
    },
    "tags": []
   },
   "outputs": [
    {
     "name": "stderr",
     "output_type": "stream",
     "text": [
      "\n",
      "\n",
      "====== WebDriver manager ======\n",
      "Current google-chrome version is 93.0.4577\n",
      "Get LATEST driver version for 93.0.4577\n",
      "Driver [/Users/kimjisoo/.wdm/drivers/chromedriver/mac64/93.0.4577.63/chromedriver] found in cache\n"
     ]
    },
    {
     "name": "stdout",
     "output_type": "stream",
     "text": [
      "Mozilla/5.0 (X11; CrOS i686 3912.101.0) AppleWebKit/537.36 (KHTML, like Gecko) Chrome/27.0.1453.116 Safari/537.36\n"
     ]
    }
   ],
   "source": [
    "brd_name = '236:'\n",
    "dict_prd_link_tmp = {}\n",
    "dict_prd_name_tmp = defaultdict(list)\n",
    "\n",
    "options = Options()\n",
    "ua = UserAgent()\n",
    "userAgent = ua.random\n",
    "print(userAgent)\n",
    "\n",
    "options.add_argument('headless')\n",
    "options.add_argument('window-size=1920x1080')\n",
    "options.add_argument(\"disable-gpu\")\n",
    "options.add_argument(f'user-agent={userAgent}')\n",
    "wd = webdriver.Chrome(ChromeDriverManager().install(), chrome_options=options)\n",
    "\n",
    "socket.setdefaulttimeout(30)\n",
    "\n",
    "url = 'https:/www.glowpick.com/searches/keywords'\n",
    "wd.get(url)\n",
    "time.sleep(5)\n",
    "\n",
    "wd.find_element_by_xpath(\"//*[@id='default-layout']/div/div[1]/span/div/div[2]/div[2]/button[2]\").click()\n",
    "wd.maximize_window()\n",
    "time.sleep(3)\n",
    "\n",
    "brd_input = wd.find_element_by_xpath(\"//*[@id='default-layout']/div/div[2]/div/div/div/input\")\n",
    "brd_input.send_keys(brd_name)\n",
    "brd_input.send_keys(Keys.ENTER)\n",
    "time.sleep(3)\n",
    "\n",
    "def parsing_html_with_class(parsing_info = '.products'):\n",
    "    html = wd.page_source\n",
    "    soup = soup = BeautifulSoup(html, \"html.parser\")\n",
    "    interm_r = soup.select(parsing_info)\n",
    "    return interm_r\n",
    "\n",
    "try:\n",
    "    while True:\n",
    "        prd_link = []\n",
    "        prd_name = []\n",
    "\n",
    "        product_lst = parsing_html_with_class()\n",
    "        product_len = len(re.findall('<div class=\"products__product product\" (.*?)', str(product_lst[0])))\n",
    "\n",
    "        #while wd.find_elements_by_class_name('details__brand')[product_len].text[:len(brd_name)] == brd_name:\n",
    "\n",
    "        element = wd.find_element_by_xpath('/html/body/div/div/div/div/main/div/section/div[2]/div/div[1]/span/div[{}]'.format(product_len - 1))\n",
    "        wd.execute_script(\"arguments[0].scrollIntoView(true);\", element)\n",
    "        time.sleep(2)\n",
    "\n",
    "        product_lst_2 = parsing_html_with_class()\n",
    "\n",
    "        if product_lst == product_lst_2:\n",
    "            for i in range(product_len):\n",
    "                #if (re.sub(r'\\([^)]*\\)', '', wd.find_elements_by_class_name('details__brand')[i].text).strip()) == brd_name:\n",
    "                code = re.findall('<div class=\"products__product product\" (.*?)id=\"(.*?)\">', str(product_lst[0]))[i][1].split('-')[-1]\n",
    "                link = 'https://www.glowpick.com/products/' + code\n",
    "                prd_link.append(link)\n",
    "                dict_prd_name_tmp[brd_name].append(wd.find_elements_by_class_name('details__product')[i].text)\n",
    "            dict_prd_link_tmp[brd_name] = prd_link\n",
    "            break\n",
    "\n",
    "except NoSuchElementException:\n",
    "    for i in range(product_len):\n",
    "        #if (re.sub(r'\\([^)]*\\)', '', wd.find_elements_by_class_name('details__brand')[i].text).strip()) == brd_name:\n",
    "        code = re.findall('<div class=\"products__product product\" (.*?)id=\"(.*?)\">', str(product_lst[0]))[i][1].split('-')[-1]\n",
    "        link = 'https://www.glowpick.com/products/' + code\n",
    "        prd_link.append(link)\n",
    "        dict_prd_name_tmp[brd_name].append(wd.find_elements_by_class_name('details__product')[i].text)\n",
    "    dict_prd_link_tmp[brd_name] = prd_link"
   ]
  },
  {
   "cell_type": "markdown",
   "id": "6223e1b6-2fda-4aa7-ba9a-c3cda602db5f",
   "metadata": {},
   "source": [
    "---\n",
    "# df_brd_w_prd_v2 검수"
   ]
  },
  {
   "cell_type": "code",
   "execution_count": 9,
   "id": "414f23b5-a72f-4bdc-a8a5-cc7b5e9f3d50",
   "metadata": {},
   "outputs": [],
   "source": [
    "df_brd_w_prd_v2 = pd.read_csv('df_brd_w_prd_v2.csv')\n",
    "df_brd_w_prd_v2 = df_brd_w_prd_v2.iloc[:, 1:]"
   ]
  },
  {
   "cell_type": "code",
   "execution_count": 10,
   "id": "ae5a207d-a6b4-4679-9638-76b79a2d09b1",
   "metadata": {
    "collapsed": true,
    "jupyter": {
     "outputs_hidden": true
    },
    "tags": []
   },
   "outputs": [
    {
     "data": {
      "text/html": [
       "<div>\n",
       "<style scoped>\n",
       "    .dataframe tbody tr th:only-of-type {\n",
       "        vertical-align: middle;\n",
       "    }\n",
       "\n",
       "    .dataframe tbody tr th {\n",
       "        vertical-align: top;\n",
       "    }\n",
       "\n",
       "    .dataframe thead th {\n",
       "        text-align: right;\n",
       "    }\n",
       "</style>\n",
       "<table border=\"1\" class=\"dataframe\">\n",
       "  <thead>\n",
       "    <tr style=\"text-align: right;\">\n",
       "      <th></th>\n",
       "      <th>brand_code</th>\n",
       "      <th>brand_name</th>\n",
       "      <th>category</th>\n",
       "      <th>product_link</th>\n",
       "      <th>product_name</th>\n",
       "    </tr>\n",
       "  </thead>\n",
       "  <tbody>\n",
       "    <tr>\n",
       "      <th>0</th>\n",
       "      <td>https://www.glowpick.com/brands/8016</td>\n",
       "      <td>가가알로에</td>\n",
       "      <td>['스킨케어']</td>\n",
       "      <td>['https://www.glowpick.com/products/104713']</td>\n",
       "      <td>['라율 나이트 케어 너리싱 젤']</td>\n",
       "    </tr>\n",
       "    <tr>\n",
       "      <th>1</th>\n",
       "      <td>https://www.glowpick.com/brands/1265</td>\n",
       "      <td>가그린</td>\n",
       "      <td>['생활용품']</td>\n",
       "      <td>['https://www.glowpick.com/products/134403', '...</td>\n",
       "      <td>['제로', '오리지널', '라임', '스트롱', '블라스트 치약 라임민트', '어...</td>\n",
       "    </tr>\n",
       "    <tr>\n",
       "      <th>2</th>\n",
       "      <td>https://www.glowpick.com/brands/2077</td>\n",
       "      <td>가네보</td>\n",
       "      <td>['페이스메이크업', '립메이크업', '컨투어링', '클렌징', '배쓰&amp;바디', '...</td>\n",
       "      <td>['https://www.glowpick.com/products/101993', '...</td>\n",
       "      <td>['페이스업 파우더 밀라노 콜렉션 2018 [SPF14/PA+]', '코프레도르 스...</td>\n",
       "    </tr>\n",
       "    <tr>\n",
       "      <th>3</th>\n",
       "      <td>https://www.glowpick.com/brands/11100</td>\n",
       "      <td>가드맨</td>\n",
       "      <td>['생활용품']</td>\n",
       "      <td>['https://www.glowpick.com/products/140699']</td>\n",
       "      <td>['안심 황사 마스크 KF80']</td>\n",
       "    </tr>\n",
       "    <tr>\n",
       "      <th>4</th>\n",
       "      <td>https://www.glowpick.com/brands/8724</td>\n",
       "      <td>가드미</td>\n",
       "      <td>['네일']</td>\n",
       "      <td>['https://www.glowpick.com/products/112824', '...</td>\n",
       "      <td>['큐티클 클리너', '네일 큐티클 호호바 오일']</td>\n",
       "    </tr>\n",
       "    <tr>\n",
       "      <th>...</th>\n",
       "      <td>...</td>\n",
       "      <td>...</td>\n",
       "      <td>...</td>\n",
       "      <td>...</td>\n",
       "      <td>...</td>\n",
       "    </tr>\n",
       "    <tr>\n",
       "      <th>8047</th>\n",
       "      <td>https://www.glowpick.com/brands/490</td>\n",
       "      <td>4711</td>\n",
       "      <td>['프래그런스']</td>\n",
       "      <td>['https://www.glowpick.com/products/1622', 'ht...</td>\n",
       "      <td>['아쿠아 콜로니아 블러드 오렌지 &amp; 바즐 오 드 코롱', '누보 콜로뉴 오드코롱'...</td>\n",
       "    </tr>\n",
       "    <tr>\n",
       "      <th>8048</th>\n",
       "      <td>https://www.glowpick.com/brands/10747</td>\n",
       "      <td>5.2뉴트리션</td>\n",
       "      <td>['이너뷰티']</td>\n",
       "      <td>['https://www.glowpick.com/products/138092']</td>\n",
       "      <td>['다이어트 베이스 [초코맛]']</td>\n",
       "    </tr>\n",
       "    <tr>\n",
       "      <th>8049</th>\n",
       "      <td>https://www.glowpick.com/brands/10183</td>\n",
       "      <td>76N1</td>\n",
       "      <td>['스킨케어', '클렌징', '마스크/팩']</td>\n",
       "      <td>['https://www.glowpick.com/products/140014', '...</td>\n",
       "      <td>['비 해피 더블 액션 미스트', '비 해피 오일 [대마씨 &amp; 동백]', '슈퍼듀퍼...</td>\n",
       "    </tr>\n",
       "    <tr>\n",
       "      <th>8050</th>\n",
       "      <td>https://www.glowpick.com/brands/6814</td>\n",
       "      <td>87발렌타인</td>\n",
       "      <td>['배쓰&amp;바디']</td>\n",
       "      <td>['https://www.glowpick.com/products/89547']</td>\n",
       "      <td>['이상훈의 제모크림']</td>\n",
       "    </tr>\n",
       "    <tr>\n",
       "      <th>8051</th>\n",
       "      <td>https://www.glowpick.com/brands/6151</td>\n",
       "      <td>9컴플렉스</td>\n",
       "      <td>['뷰티툴']</td>\n",
       "      <td>['https://www.glowpick.com/products/81570']</td>\n",
       "      <td>['아이래쉬 뷰러']</td>\n",
       "    </tr>\n",
       "  </tbody>\n",
       "</table>\n",
       "<p>8052 rows × 5 columns</p>\n",
       "</div>"
      ],
      "text/plain": [
       "                                 brand_code brand_name  \\\n",
       "0      https://www.glowpick.com/brands/8016      가가알로에   \n",
       "1      https://www.glowpick.com/brands/1265        가그린   \n",
       "2      https://www.glowpick.com/brands/2077        가네보   \n",
       "3     https://www.glowpick.com/brands/11100        가드맨   \n",
       "4      https://www.glowpick.com/brands/8724        가드미   \n",
       "...                                     ...        ...   \n",
       "8047    https://www.glowpick.com/brands/490       4711   \n",
       "8048  https://www.glowpick.com/brands/10747    5.2뉴트리션   \n",
       "8049  https://www.glowpick.com/brands/10183       76N1   \n",
       "8050   https://www.glowpick.com/brands/6814     87발렌타인   \n",
       "8051   https://www.glowpick.com/brands/6151      9컴플렉스   \n",
       "\n",
       "                                               category  \\\n",
       "0                                              ['스킨케어']   \n",
       "1                                              ['생활용품']   \n",
       "2     ['페이스메이크업', '립메이크업', '컨투어링', '클렌징', '배쓰&바디', '...   \n",
       "3                                              ['생활용품']   \n",
       "4                                                ['네일']   \n",
       "...                                                 ...   \n",
       "8047                                          ['프래그런스']   \n",
       "8048                                           ['이너뷰티']   \n",
       "8049                           ['스킨케어', '클렌징', '마스크/팩']   \n",
       "8050                                          ['배쓰&바디']   \n",
       "8051                                            ['뷰티툴']   \n",
       "\n",
       "                                           product_link  \\\n",
       "0          ['https://www.glowpick.com/products/104713']   \n",
       "1     ['https://www.glowpick.com/products/134403', '...   \n",
       "2     ['https://www.glowpick.com/products/101993', '...   \n",
       "3          ['https://www.glowpick.com/products/140699']   \n",
       "4     ['https://www.glowpick.com/products/112824', '...   \n",
       "...                                                 ...   \n",
       "8047  ['https://www.glowpick.com/products/1622', 'ht...   \n",
       "8048       ['https://www.glowpick.com/products/138092']   \n",
       "8049  ['https://www.glowpick.com/products/140014', '...   \n",
       "8050        ['https://www.glowpick.com/products/89547']   \n",
       "8051        ['https://www.glowpick.com/products/81570']   \n",
       "\n",
       "                                           product_name  \n",
       "0                                   ['라율 나이트 케어 너리싱 젤']  \n",
       "1     ['제로', '오리지널', '라임', '스트롱', '블라스트 치약 라임민트', '어...  \n",
       "2     ['페이스업 파우더 밀라노 콜렉션 2018 [SPF14/PA+]', '코프레도르 스...  \n",
       "3                                    ['안심 황사 마스크 KF80']  \n",
       "4                          ['큐티클 클리너', '네일 큐티클 호호바 오일']  \n",
       "...                                                 ...  \n",
       "8047  ['아쿠아 콜로니아 블러드 오렌지 & 바즐 오 드 코롱', '누보 콜로뉴 오드코롱'...  \n",
       "8048                                 ['다이어트 베이스 [초코맛]']  \n",
       "8049  ['비 해피 더블 액션 미스트', '비 해피 오일 [대마씨 & 동백]', '슈퍼듀퍼...  \n",
       "8050                                      ['이상훈의 제모크림']  \n",
       "8051                                        ['아이래쉬 뷰러']  \n",
       "\n",
       "[8052 rows x 5 columns]"
      ]
     },
     "execution_count": 10,
     "metadata": {},
     "output_type": "execute_result"
    }
   ],
   "source": [
    "df_brd_w_prd_v2"
   ]
  },
  {
   "cell_type": "markdown",
   "id": "99629dd2-f0d7-4d08-821e-7ece1f80157f",
   "metadata": {},
   "source": [
    "---\n",
    "product_link와 product_name의 자료형을 str에서 list로 변환"
   ]
  },
  {
   "cell_type": "code",
   "execution_count": 11,
   "id": "6ac50999-bb35-47c6-9b01-a5418dbfb2b1",
   "metadata": {},
   "outputs": [],
   "source": [
    "import ast\n",
    "\n",
    "for i in range(len(df_brd_w_prd_v2)):\n",
    "    df_brd_w_prd_v2.loc[i, 'product_link'] = literal_eval(df_brd_w_prd_v2.loc[i, 'product_link'])\n",
    "    df_brd_w_prd_v2.loc[i, 'product_name'] = literal_eval(df_brd_w_prd_v2.loc[i, 'product_name'])"
   ]
  },
  {
   "cell_type": "markdown",
   "id": "fa001b4a-a9bb-4a7a-a380-7f69418b3e29",
   "metadata": {},
   "source": [
    "<span style=\"color:red\"> issue) </span> 같은 이름의 브랜드들은 product_link, product_name 각각의 리스트의 길이가 다름"
   ]
  },
  {
   "cell_type": "code",
   "execution_count": 193,
   "id": "56e8f80c-6865-481d-9688-738ae9d7acd8",
   "metadata": {},
   "outputs": [],
   "source": [
    "not_match = []\n",
    "\n",
    "for i in range(len(df_brd_w_prd_v2)):\n",
    "    if len(df_brd_w_prd_v2.loc[i, 'product_link']) != len(df_brd_w_prd_v2.loc[i, 'product_name']):\n",
    "        not_match.append(i)"
   ]
  },
  {
   "cell_type": "code",
   "execution_count": 194,
   "id": "1c1d2970-6af4-4c1f-9f7c-4b8ccabb967b",
   "metadata": {},
   "outputs": [
    {
     "data": {
      "text/plain": [
       "0"
      ]
     },
     "execution_count": 194,
     "metadata": {},
     "output_type": "execute_result"
    }
   ],
   "source": [
    "len(not_match)"
   ]
  },
  {
   "cell_type": "code",
   "execution_count": 195,
   "id": "761146b8-9c38-4c13-83fb-c658867aa118",
   "metadata": {
    "tags": []
   },
   "outputs": [
    {
     "data": {
      "text/html": [
       "<div>\n",
       "<style scoped>\n",
       "    .dataframe tbody tr th:only-of-type {\n",
       "        vertical-align: middle;\n",
       "    }\n",
       "\n",
       "    .dataframe tbody tr th {\n",
       "        vertical-align: top;\n",
       "    }\n",
       "\n",
       "    .dataframe thead th {\n",
       "        text-align: right;\n",
       "    }\n",
       "</style>\n",
       "<table border=\"1\" class=\"dataframe\">\n",
       "  <thead>\n",
       "    <tr style=\"text-align: right;\">\n",
       "      <th></th>\n",
       "      <th>brand_code</th>\n",
       "      <th>brand_name</th>\n",
       "      <th>category</th>\n",
       "      <th>product_link</th>\n",
       "      <th>product_name</th>\n",
       "    </tr>\n",
       "  </thead>\n",
       "  <tbody>\n",
       "  </tbody>\n",
       "</table>\n",
       "</div>"
      ],
      "text/plain": [
       "Empty DataFrame\n",
       "Columns: [brand_code, brand_name, category, product_link, product_name]\n",
       "Index: []"
      ]
     },
     "execution_count": 195,
     "metadata": {},
     "output_type": "execute_result"
    }
   ],
   "source": [
    "df_brd_w_prd_v2.iloc[not_match, :].head(5)"
   ]
  },
  {
   "cell_type": "code",
   "execution_count": 190,
   "id": "6ab28971-7f18-49a1-aa83-5f2c4af8f7b8",
   "metadata": {},
   "outputs": [
    {
     "data": {
      "text/plain": [
       "brand_code                  https://www.glowpick.com/brands/11149\n",
       "brand_name                                                   해피데이\n",
       "category                                                 ['생활용품']\n",
       "product_link    [https://www.glowpick.com/products/140943, htt...\n",
       "product_name    [넘버원 지킴이마스크 KF80, 3D 프리미엄 마스크, 프리미엄 일회용 마스크, 넘...\n",
       "Name: 7660, dtype: object"
      ]
     },
     "execution_count": 190,
     "metadata": {},
     "output_type": "execute_result"
    }
   ],
   "source": [
    "df_brd_w_prd_v2.loc[7660, :]"
   ]
  },
  {
   "cell_type": "markdown",
   "id": "af98cfe5-b15c-498d-ac1a-f0fa1d784b72",
   "metadata": {},
   "source": [
    "# 브랜드 이름 중복되는 경우) 재수집\n",
    "유실값 재수집 (브랜드 이름이 같은 경우는 한글과 영어 이름을 같이 검색하여 스크래핑 )\n",
    "\n",
    "한글 이름과 영어 이름이 완전히 같은 경우는 수기 수집 (해피데이)"
   ]
  },
  {
   "cell_type": "code",
   "execution_count": 179,
   "id": "85129bc4-120d-4437-85c2-213c2974bd66",
   "metadata": {},
   "outputs": [
    {
     "name": "stderr",
     "output_type": "stream",
     "text": [
      "\n",
      "\n",
      "====== WebDriver manager ======\n",
      "Current google-chrome version is 93.0.4577\n",
      "Get LATEST driver version for 93.0.4577\n"
     ]
    },
    {
     "name": "stdout",
     "output_type": "stream",
     "text": [
      "Mozilla/5.0 (Windows NT 6.1; WOW64) AppleWebKit/537.36 (KHTML, like Gecko) Chrome/36.0.1985.67 Safari/537.36\n"
     ]
    },
    {
     "name": "stderr",
     "output_type": "stream",
     "text": [
      "Driver [C:\\Users\\keunb\\.wdm\\drivers\\chromedriver\\win32\\93.0.4577.63\\chromedriver.exe] found in cache\n"
     ]
    }
   ],
   "source": [
    "dict_prd_link_tmp = {}\n",
    "dict_prd_name_tmp = defaultdict(list)\n",
    "\n",
    "options = Options()\n",
    "ua = UserAgent()\n",
    "userAgent = ua.random\n",
    "print(userAgent)\n",
    "\n",
    "#options.add_argument('headless')\n",
    "options.add_argument('window-size=1920x1080')\n",
    "options.add_argument(\"disable-gpu\")\n",
    "options.add_argument(f'user-agent={userAgent}')\n",
    "wd = webdriver.Chrome(ChromeDriverManager().install(), chrome_options=options)\n",
    "\n",
    "socket.setdefaulttimeout(30)\n",
    "\n",
    "url = 'https:/www.glowpick.com/searches/keywords'\n",
    "wd.get(url)\n",
    "time.sleep(5)\n",
    "\n",
    "wd.find_element_by_xpath(\"//*[@id='default-layout']/div/div[1]/span/div/div[2]/div[2]/button[2]\").click()\n",
    "wd.maximize_window()\n",
    "time.sleep(3)\n",
    "\n",
    "brd_name = \"필로스(PHILOS)\"\n",
    "\n",
    "brd_input = wd.find_element_by_xpath(\"//*[@id='default-layout']/div/div[2]/div/div/div/input\")\n",
    "brd_input.send_keys(brd_name)\n",
    "brd_input.send_keys(Keys.ENTER)\n",
    "time.sleep(3)\n",
    "\n",
    "def parsing_html_with_class(parsing_info = '.products'):\n",
    "    html = wd.page_source\n",
    "    soup = soup = BeautifulSoup(html, \"html.parser\")\n",
    "    interm_r = soup.select(parsing_info)\n",
    "    return interm_r\n",
    "\n",
    "try:\n",
    "    while True:\n",
    "        prd_link = []\n",
    "        prd_name = []\n",
    "\n",
    "        product_lst = parsing_html_with_class()\n",
    "        product_len = len(re.findall('<div class=\"products__product product\" (.*?)', str(product_lst[0])))\n",
    "\n",
    "        #while wd.find_elements_by_class_name('details__brand')[product_len].text[:len(brd_name)] == brd_name:\n",
    "\n",
    "        element = wd.find_element_by_xpath('/html/body/div/div/div/div/main/div/section/div[2]/div/div[1]/span/div[{}]'.format(product_len - 1))\n",
    "        wd.execute_script(\"arguments[0].scrollIntoView(true);\", element)\n",
    "        time.sleep(2)\n",
    "\n",
    "        product_lst_2 = parsing_html_with_class()\n",
    "\n",
    "        if product_lst == product_lst_2:\n",
    "            for i in range(product_len):\n",
    "                code = re.findall('<div class=\"products__product product\" (.*?)id=\"(.*?)\">', str(product_lst[0]))[i][1].split('-')[-1]\n",
    "                link = 'https://www.glowpick.com/products/' + code\n",
    "                prd_link.append(link)\n",
    "                dict_prd_name_tmp[brd_name].append(wd.find_elements_by_class_name('details__product')[i].text)\n",
    "            dict_prd_link_tmp[brd_name] = prd_link\n",
    "            break\n",
    "\n",
    "except NoSuchElementException:\n",
    "    for i in range(product_len):\n",
    "        code = re.findall('<div class=\"products__product product\" (.*?)id=\"(.*?)\">', str(product_lst[0]))[i][1].split('-')[-1]\n",
    "        link = 'https://www.glowpick.com/products/' + code\n",
    "        prd_link.append(link)\n",
    "        dict_prd_name_tmp[brd_name].append(wd.find_elements_by_class_name('details__product')[i].text)\n",
    "    dict_prd_link_tmp[brd_name] = prd_link    "
   ]
  },
  {
   "cell_type": "code",
   "execution_count": 191,
   "id": "caf01511-fe45-4126-af18-6f400ff665ba",
   "metadata": {},
   "outputs": [],
   "source": [
    "df_brd_w_prd_v2.loc[7660, 'product_link'] = ['https://www.glowpick.com/products/140943',\n",
    "                                            'https://www.glowpick.com/products/140942']\n",
    "df_brd_w_prd_v2.loc[7660, 'product_name'] = ['넘버원 지킴이마스크 KF80',\n",
    "                                            '넘버원 지킴이마스크 KF94']"
   ]
  },
  {
   "cell_type": "code",
   "execution_count": 192,
   "id": "cb6c9747-0ed9-4c67-bc1f-a22a8f4d4a12",
   "metadata": {},
   "outputs": [
    {
     "name": "stdout",
     "output_type": "stream",
     "text": [
      "2\n",
      "2\n"
     ]
    }
   ],
   "source": [
    "print(len(df_brd_w_prd_v2.loc[7660, 'product_link']))\n",
    "print(len(df_brd_w_prd_v2.loc[7660, 'product_name']))"
   ]
  },
  {
   "cell_type": "markdown",
   "id": "39ee41fb-3eab-42a1-81d5-e0a7ad430409",
   "metadata": {},
   "source": [
    "---\n",
    "# df_brd_w_prd_v2 최종 검수"
   ]
  },
  {
   "cell_type": "markdown",
   "id": "9d7f6a3e-827b-4831-8bd4-29c0d08a0824",
   "metadata": {},
   "source": [
    "product_name과 product_link가 빈 리스트인 32개의 브랜드는 제품이 없는 브랜드"
   ]
  },
  {
   "cell_type": "code",
   "execution_count": 196,
   "id": "999f9fde-9e1c-492e-a6f3-eafcb2a525de",
   "metadata": {},
   "outputs": [],
   "source": [
    "empty_lst = []\n",
    "for _ in range(len(df_brd_w_prd_v2)):\n",
    "    if df_brd_w_prd_v2.loc[_, 'product_name'] == [] or df_brd_w_prd_v2.loc[_, 'product_link'] == []:\n",
    "        empty_lst.append(_)"
   ]
  },
  {
   "cell_type": "code",
   "execution_count": 200,
   "id": "2ddc9e8f-fde1-4ae1-bbeb-4677898d200a",
   "metadata": {},
   "outputs": [
    {
     "data": {
      "text/plain": [
       "32"
      ]
     },
     "execution_count": 200,
     "metadata": {},
     "output_type": "execute_result"
    }
   ],
   "source": [
    "len(empty_lst)"
   ]
  },
  {
   "cell_type": "code",
   "execution_count": 197,
   "id": "44a1e5d2-e852-4d63-aabf-51cc22fdaf60",
   "metadata": {
    "collapsed": true,
    "jupyter": {
     "outputs_hidden": true
    },
    "tags": []
   },
   "outputs": [
    {
     "data": {
      "text/plain": [
       "[182,\n",
       " 401,\n",
       " 471,\n",
       " 1005,\n",
       " 1146,\n",
       " 1497,\n",
       " 1942,\n",
       " 1976,\n",
       " 1991,\n",
       " 2164,\n",
       " 2433,\n",
       " 2570,\n",
       " 2881,\n",
       " 3845,\n",
       " 3965,\n",
       " 3989,\n",
       " 4261,\n",
       " 4645,\n",
       " 5095,\n",
       " 5612,\n",
       " 5984,\n",
       " 5989,\n",
       " 6217,\n",
       " 6386,\n",
       " 6494,\n",
       " 6528,\n",
       " 7068,\n",
       " 7271,\n",
       " 7519,\n",
       " 7589,\n",
       " 7759,\n",
       " 7772]"
      ]
     },
     "execution_count": 197,
     "metadata": {},
     "output_type": "execute_result"
    }
   ],
   "source": [
    "empty_lst"
   ]
  },
  {
   "cell_type": "code",
   "execution_count": 216,
   "id": "dcbc6e8e-cd63-4cd6-a2da-43c49c002c76",
   "metadata": {},
   "outputs": [],
   "source": [
    "df_brd_w_prd_v2.loc[empty_lst, :].to_csv(\"no_production.csv\")"
   ]
  },
  {
   "cell_type": "code",
   "execution_count": 215,
   "id": "1ccda1af-7d34-474d-9836-eb86b0c7e471",
   "metadata": {
    "collapsed": true,
    "jupyter": {
     "outputs_hidden": true
    },
    "tags": []
   },
   "outputs": [
    {
     "name": "stdout",
     "output_type": "stream",
     "text": [
      "TG 도미나스\n",
      "5 \n",
      " ['크림 플러스', '브라이트닝 커버쿠션', '크림', '마스크', '마스크 플러스']\n",
      "---------------------------------------\n",
      "TMR cosmetics\n",
      "2 \n",
      " ['헤어 럭스', 'OG3 인텐시브 크림']\n",
      "---------------------------------------\n",
      "TMTR\n",
      "1 \n",
      " ['눈꽃 마스크팩']\n",
      "---------------------------------------\n",
      "TRUE LIFE\n",
      "1 \n",
      " ['프라임 건강한 간 밀크씨슬 스페셜']\n",
      "---------------------------------------\n",
      "TNU\n",
      "2 \n",
      " ['락토멜리아 마일드 폼 워시', '락토멜리아 프로바이오발란스 리페어 크림']\n",
      "---------------------------------------\n",
      "TS\n",
      "29 \n",
      " ['TS래쉬', 'TS마스크팩', '올뉴TS샴푸', 'TS헤어팩', '프리미엄TS트리트먼트', 'TS착한염색', 'TS착한헤어왁스', '비디샴푸', '트러스트TS샴푸', '후레쉬 덴탈 마스크', '더트러스트TS샴푸', 'TS실크케라틴헤어에센스', '올리브TS트리트먼트', '쿨샴푸', '타스 미세황사마스크 KF94 새부리형', '착한치약', '탈모스탑샴푸', 'TS패스트샴푸', '내추럴프리미엄TS샴푸', '골드플러스TS샴푸', '프리미엄TS샴푸', '내 피부에 콜라겐', '위가드 비말차단용 마스크', '착한 마스크', '세이프올 손 소독제', '후레쉬가드 방역마스크 KF94 대형', '착한비누', '프리미엄TS토닉', '프리미엄TS컨디셔너']\n",
      "---------------------------------------\n",
      "TSS\n",
      "1 \n",
      " ['타투 아이브로우']\n",
      "---------------------------------------\n",
      "TSW\n",
      "8 \n",
      " ['매트 핏 올킬 립스틱', '매직 아이틴트', '매직 워터틴트', '올킬 붓펜 아이라이너', '모공지우개 프라이머', '버블 립 클렌저', '벨벳 핏 립스틱', '핑크 립스틱']\n",
      "---------------------------------------\n",
      "TZ코스메틱\n",
      "1 \n",
      " ['물푸레 맑은 수분 토너']\n",
      "---------------------------------------\n",
      "UUUUU\n",
      "2 \n",
      " ['젤 네일', '(젬스톤 컬렉션) 젤 네일']\n",
      "---------------------------------------\n",
      "VDL\n",
      "424 \n",
      " ['엑스퍼트 아이밤 부스팅 픽서', '페스티벌 블러셔', '엑스퍼트 컬러 프라이머 포 아이즈', '엑스퍼트 컬러 리얼 핏 벨벳', '엑스퍼트 컬러 아이 북 모노 G', '엑스퍼트 컬러 립 큐브 실키 모이스춰', '스킨프로 딥 하이드로 크림', '네이키드 클렌징 오일 크림 스트롱', '엑스퍼트 퍼펙트 핏 파운데이션 [SPF35/PA++]', '스킨프로 트리트먼트 에센스', '컬러 코렉팅 프라이머 [SPF20/PA++]', '엑스퍼트 컬러 치크 북 미니', '엑스퍼트 컬러 아이 북 미니', '뷰티 모이스춰라이저', '뷰티 피니셔', '루미레이어 프라이머 프레쉬', '루미레이어 프라이머', '수프림 크림 파운데이션 [SPF35/PA++]', '퍼펙팅 래스트 파운데이션 [SPF30/PA++]', '엑스퍼트 퍼펙트 핏 쿠션 [SPF35/PA++]', '페이스 수프림 새틴 파운데이션 [SPF20/PA++]', '엑스퍼트 컬러 아이 북 6.4 NO.8 (팬톤19)', '뷰티 메탈 쿠션 파운데이션 모이스춰 글로우 [SPF46/PA+++]', '엑스퍼트 컬러 립 큐브 플루이드 벨벳', '엑스퍼트 컬러 아이 북 모노 M', '엑스퍼트 컬러 리퀴드 치크 (팬톤19)', '새틴 베일 프라이머', '엑스퍼트 메탈 쿠션 파운데이션', '루즈 수프림 샤인', '네이키드 페이셜 클로스', '엘 엑스퍼트 컬러 아이북 6.4 NO.7 (팬톤18)', '엑스퍼트 컬러 립 큐브 플루이드 타투', '페이스 수프림 프라이머', '스머지 아이섀도우 브러쉬', '네이키드 마스카라 리무버 스트롱', '스킨프로 브라이트닝 젤 에센스', '엑스퍼트 워터밤 마스카라', '쉬어 매트 쿠션 [SPF50+/PA+++]', '뷰티 모이스처라이저 EX', '엑스퍼트 5중 퍼프', '크리미 스틱 젤리', '포터블 가부끼 브러쉬', '듀오 화이버 페이스 브러쉬', '베이스 아이섀도우 브러쉬', '엑스퍼트 치크북 모노', '스킨프로 올마이티 크림', '엑스퍼트 컨실러', '스무딩 프레스드 파우더', '립스테인 멜티드 워터', '치크 앤 하이라이터 브러쉬', '스킨프로 링클케어 롤 온 세럼', '루미레이어 일루미네이터 [SPF30/PA++]', '루미레이어 크림', '스킨프로 올마이티 앰플 에센스', '벨벳 블러 프라이머 (팬톤19)', '엑스퍼트 딥매트 리퀴드 라이너', '엑스퍼트 퍼퓸 큐브 밤쉘', '엑스퍼트 젤 펜슬 (오토)', '스킨프로 딥 하이드로 소프트너', '스킨프로 포어 미니마이징 에센스', '엑스퍼트 컬러 아이 북 모노 S', '라지 파우더 브러쉬 (팬톤19)', '엑스퍼트 퍼퓸 큐브 디퓨저 그리너리 (팬톤17)', '엑스퍼트 멀티 커버 톤업 쿠션 [SPF50+/PA+++]', '엑스퍼트 아이브로우 북', '네이키드 클렌징 워터 스트롱', '컨실러 브러쉬', '엑스퍼트 아이밤 마스카라', '아이파인 더블 엣지 아이브로우 펜슬', '엑스퍼트 매티파잉 픽스 미스트', '(2021 리미티드 에디션) 루미레이어 일루미네이팅 [SPF20/PA++]', '브이디엘 엑스퍼트 퍼퓸 큐브 베이비 포피', '(2021 리미티드 에디션) 엑스퍼트 퍼펙트핏 쿠션 SPF35/PA++]', '(2021 리미티드 에디션) 엑스퍼트 컬러 아이섀도우 팔레트 [일루미네이팅 앤 얼티밋 그레이]', '스킨프로 하이드로 프렙 에센스', '스킨프로 올마이티 아이크림', '엑스퍼트 브로우 펜슬', '마스터 스킨 컨실러', '컨센트레이트 브러쉬 클렌징 워터', '루미레이어 코렉팅 파우더', '엑스퍼트 퍼퓸 큐브 위치 플라워', '루미레이어 로지 퍼펙트 프라이머 [SPF50+/PA+++]', '스킨프로 딥 하이드로 에멀전', '스킨프로 미스트 아쿠아 밤', '엑스퍼트 슬림 립 매트', '엑스퍼트 슬림 립 샤인', '엑스퍼트 컬러 아이북 미니 NO.8', '엑스퍼트 컬러 팟 아이즈 (골드18)', '대즐링 치크 브러쉬 (팬톤18)', '엑스퍼트 퍼퓸 큐브 숏컷', '라운드 파운데이션 브러쉬 (팬톤19)', '엑스퍼트 스키니 브로우 펜슬', '엑스퍼트 블렌딩 쉐이드', '루미레이어 메탈 쿠션 프라이머', '스킨프로 포어 클리어링 소프트너', '엑스퍼트 4중 퍼프 (17년)', '스킨프로 비니거 필링 토너', '루미레이어 올 오버 스틱', '루미레이어 프라이머 아쿠아', '스킨프로 트리트먼트 에센셜 오일', '크림 파운데이션 브러쉬', '페스티벌 젤 펜슬 (오토)', '플로리스 파운데이션 브러쉬 (팬톤18)', '엑스퍼트 마스카라 큐브', '라운드 파운데이션 브러쉬', '새틴 베일 프라이머 스파클', '틴트바 트리플샷', '뷰티 메탈 쿠션 파운데이션 롱웨어 [SPF50+/PA+++]', '엑스퍼트 래디언스 픽스 미스트', '엑스퍼트 잉크펜 라이너', '엑스퍼트 볼륨 커버 퍼프', '루즈 수프림', '에어 플루이드 파운데이션 [SPF35/PA++]', '엑스퍼트 컬러 립 큐브 마블 글로우', '윌윈드 파운데이션 브러쉬', '모이스처라이징 프라이머', '에어 플루이드 파운데이션 글로우 [SPF30/PA++]', '리얼 스킨 파운데이션 [SPF25/PA++]', '루미레이어 비타 톤업 프라이머 [SPF20/PA++]', '하이드라 글로우 프라이머', '엑스퍼트 세팅스프레이', '(2021 리미티드 에디션) 컬러 코렉팅 프라이머 [SPF20/PA++]', '(2021 리미티드 에디션) 엑스퍼트 컬러 치크 라이터', '(2021 리미티드 에디션) 엑스퍼트 얼티밋 글리터 립밤', '(2021 리미티드 에디션) 엑스퍼트 일루미네이팅 컬러 립밤', '리치 VDL 컬러 팔레트 칫솔 세트', '엑스퍼트 컬러 아이 북 미니 NO.2', '엑스퍼트 브로우 큐브 카라', '엑스퍼트 컬러 리퀴드 아이섀도우 (글림18)', '블랜딩 브러쉬', '립 브러쉬', '아이섀도우 라이너 브러쉬', '아이브로우 브러쉬', '커브 파이버 브러쉬', '바이올렛 팬 브러쉬 (팬톤18)', '더블엔드 아이섀도우 브러쉬 (팬톤18)', '수프림 파운데이션 브러쉬', '멀티 섀도우 브러쉬(팬톤19)', '섀도우 블렌딩 브러쉬 (팬톤19)', '루미레이어 마스크', '엑스퍼트 컬러 하이라이팅 북 미니', '엑스퍼트 하이드로 미스트', '네이키드 립 앤 아이 메이크업 리무버', '뷰티 모이스춰라이저 바디', '아이 밤 팁 라이너', '[단종]  페스티벌 어피치 블러셔 (카카오 프렌즈)', '[단종]  엑스퍼트 컬러 프라이머 포 아이즈', '[단종]  아이밤 부스팅 픽서', '[단종]  페스티벌 블러셔(크리미)', '[단종]  페스티벌 아이섀도우', '[단종]  (러브마크) 페스티벌 립스틱', '[단종]  엑스퍼트 컬러 립 스테인 (페이턴트 샤인)', '[단종]  엑스퍼트 컬러 포 아이즈', '[단종]  엑스퍼트 컬러 립 큐브 [SPF10]', '[단종]  네이키드 페이셜 엑스폴리언트', '[단종]  엑스퍼트 컬러 립 큐브 플루이드 워터', '[단종]  엑스퍼트 컬러 립 큐브 EX', '[단종]  페스티벌 래쉬', '[단종]  페스티벌 브로우 카라', '[단종]  페스티벌 아이섀도우 (젤리)', '[단종]  아이 밤 마스카라', '[단종]  엑스퍼트 컬러 아이 북 6.4 NO.6', '[단종]  루즈 수프림 플루이드 글로시', '[단종]  페스티벌 아이섀도우 (스파클)', '[단종]  엑스퍼트 컬러 아이 북 6.4 No.1', '[단종]  페스티벌 미네랄 블러셔 (러브마크)', '[단종]  써클 젤 라이너 (디파인)', '[단종]  페스티벌 팟 아이즈 클러스터 (카카오 프렌즈)', '[단종]  네이키드 립 앤 아이 리무버 스트롱', '[단종]  페스티벌 립스틱 (크리미)', '[단종]  페스티벌 네일 듀오 (길리안)', '[단종]  페스티벌 브로우 펜슬', '[단종]  퍼퓸바 오일퍼퓸 (베이비 포피)', '[단종]  엑스퍼트 컬러 립 큐브 이엑스 (팬톤)', '[단종]  락킹 미네랄 파우더', '[단종]  스킨프로 브라이트닝 선 밀크 [SPF50+/PA+++]', '[단종]  스킨프로 프라이머 선블러 [SPF50+/PA+++]', '[단종]  페스티벌 펜 라이너', '[단종]  써클 마스카라 (디파인)', '[단종]  워터 밤 마스카라 G BOMB', '[단종]  엑스퍼트 쉐이프 브로우 컨투어 키트', '[단종]  엑스퍼트 컬러 아이 북 6.4 No.5', '[단종]  페스티벌 미네랄 아이즈 (러브마크)', '[단종]  페스티벌 젤 펜슬', '[단종]  파운데이션 브러시', '[단종]  페스티벌 립스틱 글로우 밤 [SPF10]', '[단종]  엑스퍼트 컬러 아이 북 6.4 No.3', '[단종]  엑스퍼트 컬러 립 큐브 [SPF10]', '[단종]  루즈 수프림 플루이드 무스', '[단종]  네이키드 클렌징 오일 밀크 스트롱', '[단종]  엑스퍼트 퍼퓸 큐브 디퓨저 트랜퀼리티', '[단종]  새틴 베일 피니쉬 파우더 그리너리 (팬톤17)', '[단종]  엑스퍼드 컬러 립 큐브 플루이드 립 타투', '[단종]  엑스퍼트 컬러 아이 북 6.4 No.4', '[단종]  페스티벌 네일리무버(퀵)', '[단종]  뷰티 클렌징 오일 모이스춰', '[단종]  뮬 컨투어 피니쉬 팔레트', '[단종]  페스티벌 젤 펜슬 컨투어 (길리안)', '[단종]  오일 퍼퓸(길리안)', '[단종]  미니 브러쉬 키트 (레드17)', '[단종]  페스티벌 헤어 쇼커', '[단종]  뷰티선 하이래스팅 [SPF50+/PA+++]', '[단종]  (2020 팬톤 컬렉션) 엑스퍼트 컬러 멀티북 6.4', '[단종]  (2020 팬톤 컬렉션) 부스트 프라이머', '[단종]  네이키드 클렌징 폼 스트롱', '[단종]  엑스퍼트 컬러 치크 북 모노 (팬톤17)', '[단종]  새틴 베일 피니쉬 파우더', '[단종]  뷰티선 데일리 [SPF35/PA++]', '[단종]  엑스퍼트 컬러 멀티 북 6.4 NO.1', '[단종]  퍼퓸바 핸드퍼퓸 네오 (카카오 프렌즈)', '[단종]  엑스퍼트 컬러 포 페이스 (길리안)', '[단종]  페스티벌 네일 듀오', '[단종]  써클 마스카라 (메가)', '[단종]  보테니컬 립에센스 [SPF10]', '[단종]  보테니컬 굿 밤 크림', '[단종]  엑스퍼트 컬러 아이 북 6.4 No.2', '[단종]  뷰티 트리트먼트 오일', '[단종]  엑스퍼트 컬러 포 페이스 (팬톤)', '[단종]  (2020 팬톤 컬렉션) 엑스퍼트 퍼펙트 핏 쿠션', '[단종]  네이키드 클렌징 폼', '[단종]  뷰티 트리트먼트 에센스', '[단종]  페스티벌 아쿠아 페인트 G BOMB', '[단종]  틴트바 밀크콜라다', '[단종]  엑스퍼트 네일 키트 (카카오 프렌즈)', '[단종]  프레그런스 핸드 & 네일 리치 트리트먼트', '[단종]  엑스퍼트 퍼퓸 큐브 길티 플레져', '[단종]  컬러 코렉팅 쿠션 (팬톤17)', '[단종]  풀 커버리지 아이섀도우 브러쉬 (젤라또)', '[단종]  퍼퓸바 오일 퍼퓸 캔디바', '[단종]  프레쉬 투어 피니쉬 토너', '[단종]  페스티벌 립글로스 스파클', '[단종]  뷰티 에멀전', '[단종]  프래그런스 핸드워시', '[단종]  뷰티 얼티밋 에센스', '[단종]  커브 브러쉬 세트', '[단종]  뷰티 메탈 쿠션 파운데이션 [SPF50+/PA+++]', '[단종]  크리미 스틱', '[단종]  네이키드 스틱 엑스폴리언트 스트롱', '[단종]  스킨 엑스퍼트 세럼', '[단종]  스킨프로 오버나이트 릴랙싱 크림', '[단종]  뷰티 아이크림', '[단종]  페스티벌 립스틱 (크리미) 틴티드 밤', '[단종]  엑스퍼트 컬러 글로잉 립 플루이드 (글림18)', '[단종]  엑스퍼트 퍼퓸 큐브 그리너리 (팬톤17)', '[단종]  큐브 브러쉬 세트', '[단종]  브라이트닝 미니 비비 쿠션 [SPF50+/PA+++]', '[단종]  네이키드 바디 힙&바스트 젤 크림', '[단종]  보테니컬 하이드로 릴리프 에센스', '[단종]  보테니컬 인리치드 리페어 에멀전', '[단종]  뷰티 하이드로 미스트', '[단종]  페스티벌 헤어 핑거 스타일러', '[단종]  뷰티 포어 파우더', '[단종]  퍼퓸바 핸드퍼퓸 무지 (카카오 프렌즈)', '[단종]  워터밤 마스카라 (카카오 프렌즈)', '[단종]  뷰티 소프트너', '[단종]  (2021 리미티드 에디션) 엑스퍼트 컬러 프라이머 포 아이즈 오리지널', '[단종]  엑스퍼트 컬러 글리밍 젤리 하이라이터', '[단종]  라지 플랫 파우더 브러쉬 (젤라또)', '[단종]  엑스퍼트 네일 컬러 (팬톤 글로스 락커)', '[단종]  프래그런스 바디 에센스', '[단종]  네이키드 바디 스크럽', '[단종]  페스티벌 네일 듀오(네온)', '[단종]  워터 밤 마스카라 제거제', '[단종]  페스티벌 팟 아이즈', '[단종]  네이키드 맨 클렌징 폼', '[단종]  뷰티 포어 클레이 마스크', '[단종]  뷰티 포어 소프트너', '[단종]  라운디드 슬랜트 파운데이션 브러쉬 (젤라또)', '[단종]  엑스퍼트 퍼퓸 큐브 플라워 파워', '[단종]  엑스퍼트 메이크업 멀티 블렌더(팬톤17)', '[단종]  엑스퍼트 커버 큐브', '[단종]  워터밤 아이스 코팅 라이너', '[단종]  뷰티 클렌징 폼 센서티브', '[단종]  브라이트닝 선 베이스 [SPF40/PA++]', '[단종]  써클 젤 펜슬 (디파인)', '[단종]  (2020 팬톤 컬렉션) 멀티 컬러 오토 펜슬 라이너', '[단종]  보테니컬 인리치드 리페어 크림', '[단종]  스킨프로 울트라 하이드로 밤 스틱', '[단종]  뷰티선 파우더 [SPF50+/PA+++]', '[단종]  브라이트닝 파우더 파운데이션 [SPF45/PA+++]', '[단종]  엑스퍼트 네일 컬러 (글로스 락커)', '[단종]  락킹 프레스드 파우더', '[단종]  브이디아이 보브 더블스테이 쿠션', '[단종]  뷰티 모이스춰라이저 립밤', '[단종]  틴트바 밀크샷', '[단종]  뮬 얼티밋 커버 팔레트', '[단종]  스킨프로 마일드 클렌징 폼', '[단종]  쇼콜라띠에 클렌징 폼 [밀크초콜렛]', '[단종]  쇼콜라띠에 클렌징 폼 [화이트초콜렛]', '[단종]  스킨 엑스퍼트 크림', '[단종]  보테니컬 하이드로 릴리프 소프트너', '[단종]  보테니컬 인리치드 리페어 소프트너', '[단종]  페스티벌 립 샤워 G BOMB', '[단종]  루즈 수프림 컴포터블 립 오일 (팬톤17)', '[단종]  엑스퍼트 글리터 인 펜슬', '[단종]  아이밤 마스카라 캔디유', '[단종]  페스티벌 네일케어 - 퀵드라이', '[단종]  브라이트닝 픽스 미스트', '[단종]  뷰티 클렌징 폼 모이스춰', '[단종]  브라이트닝 톤 컨실러 [SPF35/PA++]', '[단종]  엑스퍼트 톤 업 쿠션 (팬톤19) [SPF20/PA++]', '[단종]  퍼퓸바 핸드퍼퓸 어피치 (카카오 프렌즈)', '[단종]  브라이트닝 세럼', '[단종]  스킨프로 올마이티 선 워터프루프 [SPF50+/PA+++]', '[단종]  페스티벌 네일슈 캔디유', '[단종]  엑스퍼트 컬러 포 아이즈 캔디유', '[단종]  아이 밤 메가 스모키 펜슬', '[단종]  페스티벌 네일 글리터 (엠파이어 스페이스)', '[단종]  네이키드 립 앤 아이 리무버', '[단종]  페스티벌 아이 프라이머', '[단종]  루미레이어 씨씨 밤 [SPF35/PA++]', '[단종]  스킨프로 마일드 필링 젤', '[단종]  네이키드 틴트 리무버 스트롱', '[단종]  엑스퍼트 블렌딩 쉬어', '[단종]  퍼펙팅 래스트 스틱 파운데이션', '[단종]  네이키드 클렌징 오일 크림', '[단종]  아이 밤 메가 펜 라이너', '[단종]  오일존 크림', '[단종]  브이디엘 미니 브러쉬 (팬톤)', '[단종]  핸드 프래그런스', '[단종]  엑스퍼트 쉐이프 젤 아이라이너', '[단종]  페스티벌 아이섀도우 (밤 셀린)', '[단종]  브라이트닝 프라이머', '[단종]  뷰티 트립 시트 마스크 KOREA', '[단종]  네이키드 클렌징 리퀴드', '[단종]  네이키드 메이크업 코렉터', '[단종]  뷰티 프렙 하이드로 패치', '[단종]  페스티벌 서클 컬러 마스카라 (젤라또)', '[단종]  스마일존 크림', '[단종]  뷰티 포어 미니마이져', '[단종]  페스티벌 러브마크 립스틱 네온 (젤라또)', '[단종]  뷰티 매티파잉 픽스 미스트', '[단종]  라운드 앵글 파운데이션 브러쉬', '[단종]  페스티벌 네일', '[단종]  뷰티 메탈 쿠션 파운데이션EX [SPF50+/PA+++]', '[단종]  엑스퍼트 쉐이프 립 라이너', '[단종]  엑스퍼트 컬리 립 큐브 이엑스 캔디유', '[단종]  뮬 페이스 코렉팅 팔레트', '[단종]  뷰티 에어 퍼프', '[단종]  뷰티 래디언스 픽스 미스트', '[단종]  틴트바 프리즈팝', '[단종]  리퀴드 파운데이션 브러쉬 (팬톤)', '[단종]  워터밤 마스카라 (라이프가드)', '[단종]  CC 크림 [SPF25/PA++]', '[단종]  엑스퍼트 컬러 립 큐브 트랜퀼리티', '[단종]  뷰티 메탈 쿠션 파운데이션 [SPF50+/PA+++]', '[단종]  틴트바 젤티니', '[단종]  틴트바 오일샷', '[단종]  (2020 팬톤 컬렉션) 뷰티 피니셔', '[단종]  (2020 팬톤 컬렉션) 루미레이어 프라이머', '[단종]  (2020 팬톤 컬렉션) 멀티 컬러 오토 펜슬 립 라이너', '[단종]  틴트바 트리플샷 이엑스 - 레귤러', '[단종]  엑스퍼트 컬러 립 큐브 벨벳 인텐스', '[단종]  네이키드 클렌징 오일 크림 프레쉬 스트롱', '[단종]  루미레이어 비비 크림 [SPF50+/PA+++]', '[단종]  엑스퍼트 네일 컬러 (레드17)', '[단종]  컨투어 아이섀도우 브러쉬 (젤라또)', '[단종]  엑스퍼트 컬러 팟 아이즈 (클러스트)', '[단종]  새틴 베일 올오버 스틱', '[단종]  보테니끄 핸드 마스크 글로브', '[단종]  스퍼트 퍼퓸 큐브 트랜퀼리티', '[단종]  엑스퍼트 래쉬 올마이티 세럼', '[단종]  페스티벌 바디 글로우 모이스트 미스트', '[단종]  프래그런스 미스트', '[단종]  프래그런스 바디 워시', '[단종]  페스티벌 바디 글로우 밤', '[단종]  페스티벌 헤어 에너지 세럼', '[단종]  캘리포니아 서핑 프래그런스 데오 미스트', '[단종]  페스티벌 헤어 스타일링 픽서', '[단종]  루미레이어 핸드 에센스', '[단종]  네이키드 바디 세럼', '[단종]  프레쉬 투어 클렌징 폼 클린센트', '[단종]  프레쉬 투어 클렌징 폼 딜라이트풀센트', '[단종]  프레쉬 투어 클렌징 폼 이그조틱센트', '[단종]  쇼콜라띠에 클렌징 폼 [다크초콜렛]', '[단종]  쇼콜라띠에 블렌디드 클렌징 시럽', '[단종]  네이키드 클렌징 워터', '[단종]  페스티벌 네일 (뉴트로 G)', '[단종]  페스티벌 네일 듀오 (브라이덜)', '[단종]  페스티벌 네일케어 - 큐티클 오일', '[단종]  페스티벌 네일케어 - 네일 하드너', '[단종]  페스티벌 네일케어 - 하이 샤인 탑코트', '[단종]  페스티벌 네일케어 - 리지 스무딩 베이스코트', '[단종]  페스티벌 네일케어', '[단종]  페스티벌 네일슈', '[단종]  엑스퍼트 네일 케어 네일인핸서', '[단종]  엑스퍼트 네일 케어 더블 플럼핑 탑코트', '[단종]  엑스퍼트 네일 케어 네일 프라이머', '[단종]  레디 액션 펜 라이너', '[단종]  아이 밤 오토 라이너(워터프루프)', '[단종]  레디 액션 리퀴드 라이너', '[단종]  페스티벌 젤리 아이즈 (뉴트로 G)', '[단종]  페스티벌 립스틱(쇼커)', '[단종]  레디액션 립밤', '[단종]  페스티벌 립글로스 새틴', '[단종]  네이키드 맨 트리트먼트 에센스', '[단종]  뷰티선 [SPF45/PA+++]', '[단종]  뷰티 트립 시트 마스크', '[단종]  뷰티 트립 시트 마스크 PARIS', '[단종]  뷰티 트립 시트 마스크 NEW ZEALAND', '[단종]  뷰티 트립 시트 마스크 ITALY', '[단종]  뷰티 트립 시트 마스크 JAPAN', '[단종]  뷰티 트립 시트 마스크 TAIWAN', '[단종]  쇼콜라띠에 뉴트리션 겔마스크 민트초콜렛', '[단종]  쇼콜라띠에 뉴트리션 겔마스크 넛초콜렛', '[단종]  쇼콜라띠에 뉴트리션 겔마스크 밀크초콜렛', '[단종]  쇼콜라띠에 뉴트리션 겔마스크 베리초콜렛', '[단종]  쇼콜라띠에 쉬폰 퍼지 포어 마스크', '[단종]  쇼콜라띠에 퐁듀 히팅 스크럽', '[단종]  보테니컬 굿 슬리핑 마스크', '[단종]  뷰티 모이스춰라이저 마스크', '[단종]  뷰티 오일 에센스 마스크', '[단종]  보테니컬 하이드로 릴리프 크림', '[단종]  보테니컬 인리치드 리페어 에센스', '[단종]  뷰티 오일 에센스', '[단종]  보테니컬 하이드로 릴리프 에멀전', '[단종]  보테니컬 하이드로 릴리프 미스트', '[단종]  보테니컬 인리치드 리페어 미스트', '[단종]  페스티벌 네일 G BOMB', '[단종]  워터밤 섀도우 라이너 G BOMB', '[단종]  페스티벌 스킨 피니쉬 G BOMB', '[단종]  페스티벌 립스틱 뉴트로 G', '[단종]  레디액션 펜슬라이너', '[단종]  레디액션 마스카라']\n",
      "---------------------------------------\n",
      "VT COSMETICS\n",
      "224 \n",
      " ['스팟 패치', '시카 마스크 팩', '프로그로스 콜라겐 팩트 [SPF50+/PA++++]', 'VT 시카 레드니스 커버 쿠션', '시카 크림', '에센스 선 팩트 [SPF50+/PA+++]', 'VT 씨씨쿠션 퍼프 (모찌퍼프)', '프로그로스 마스크', '슈퍼 히알론 크림', '화이트 글로우 씨씨 쿠션 [SPF50/PA+++]', '블랙 픽스온 씨씨 쿠션 [SPF22/PA++]', '프로그로스 슬리핑 마스크', 'VT 시카 스킨', '프로바이오틱스 마스크', '시카 레드니스 모이스처 커버 쿠션', '시카 마일드 토너 패드', '슈퍼 히알론 앰플', '프로그로스 골드 캡슐 마스크', '시카 마일드 클렌징 워터', '시카 더블 미스트', '시카 슬리핑 마스크', '슈퍼 히알론 캡슐 마스크', '시카 수분 슬리핑 마스크', '블랑 드 더블레이어 톤업쿠션 [SPF50+/PA++++]', '에센스 스킨 파운데이션 팩트', '시카 수분 마스크', '슈퍼 히알론 마스크', '젠틀 플레버 클래식 치약 [자스민 민트향]', '프로 시카 센텔라 아시아티카 타이거 라이트 크림', '시카 마일드 폼 클렌저', '시카 에센스 선 [SPF50+/PA++++]', '슈퍼 히알론 스킨 세트', '시카 수분 미스트', '프로 시카 센텔라 아시아티카 타이거 앰플 마스크', '슈퍼 히알론 올인원 에센스', '시카 영양 마스크', '프로 시카 마스크', '슈퍼 히알론 폼 클렌저', '프로그로스 폼 클렌저', '시카 캡슐 마스크', '시카 마일드 선크림 [SPF32/PA++]', '시카 스무더', '시카 에멀젼', '베리 콜라겐 팩트 [SPF50+/PA++]', '시카 마일드 클렌징 티슈', '시카 톤업 마스크', 'VT 더블 커버 쿠션', '시카 리퀴드 파운데이션 슬림 핏', '콜라겐 팩트 블랙 [SPF50+/PA+++]', '시카 선 스프레이 [SPF50+/PA+++]', 'VT 리얼 콜라겐 팩트', 'VT 블랙 콜라겐 팩트 로즈 에디션', '블루 콜라겐 팩트 [SPF50/PA++]', '프로 시카 센텔라 아시아티카 타이거 인텐시브 크림', '슈퍼 히알론 리뉴 세럼', '라이스 프로바이오틱스 마스크', '낫토 프로바이오틱스 마스크', '두부 프로바이오틱스 마스크', '시카 톤업 슬리핑 마스크', '시카 영양 슬리핑 마스크', '젠틀 플레버 클래식 치약 [허브 민트향]', '젠틀 플레버 클래식 치약 [페퍼민트향]', '젠틀 플레버 클래식 치약 [쿨 민트 향]', '젠틀 플레버 클래식 치약 [민트향]', '띵크 유얼 티스 칫솔 베이비', '띵스 유얼 티쓰 차일드 치약 [딸기향]', '띵크 유얼 티스 점보 칫솔', '시카 리퀴드 파운데이션 글로우', '콜라겐 팩트 화이트 [SPF50+/PA+++]', '[단종]  비타민 립스틱', '[단종]  데일리 팔레트', '[단종]  트리플 쉐이딩', '[단종]  시카 리페어 크림', '[단종]  쿠션 베이스', '[단종]  (VTXBTS 에디션) 슈퍼템팅 스키니 젤 아이라이너', '[단종]  (VTXBTS 에디션) 슈퍼 템핑 립 루즈', '[단종]  쿠션 블러셔', '[단종]  립앤치크 팔레트', '[단종]  (VTXBTS 에디션) 슈퍼템핑 립 컬러밤', '[단종]  (VTXBTS 에디션) 본 내추럴 힐링 핸드크림 [새벽을 담은 너와 나]', '[단종]  (VTXBTS 에디션) 슈퍼템핑 치크팔레트', '[단종]  피토 크림', '[단종]  (VTXBTS 에디션) 슈퍼템팅 트리플 파워 마스카라', '[단종]  아쿠아 빔 업 페이스 밤 [SPF50/PA++]', '[단종]  립 앤 치크', '[단종]  글로우 유브이 프로텍터 [SPF50+/PA+++]', '[단종]  (VTXBTS 에디션) 글로리아 파워데이션', '[단종]  메쉬 씨씨 [SPF30/PA++]', '[단종]  라뜰리에 데 섭틸 오 드 코롱', '[단종]  카멜리아 오일', '[단종]  피토 모이스처 멀티밤', '[단종]  피토 스킨', '[단종]  (VTXBTS 에디션) 본 내추럴 힐링 핸드크림 [완벽하지 않아도 괜찮아]', '[단종]  (VTXBTS 에디션) 본 내추럴 캡슐 슬리핑 마스크', '[단종]  BT21 에어 핏 타투 브로우', '[단종]  (VTXBTS 에디션) 슈퍼 템팅 아이 팔레트', '[단종]  라뜰리에 데 섭틸 오 드 베흐', '[단종]  올 킬 커버데이션', '[단종]  피치씨 촉촉패드', '[단종]  BT21 리얼 웨어 새틴 쿠션 [SPF37/PA++]', '[단종]  리얼 콜라겐 마스크', '[단종]  라뜰리에 데 섭틸 오도세앙', '[단종]  (VTXBTS 에디션) 슈퍼템팅 스키니 아이브로우', '[단종]  블랙 콜라겐 립스틱', '[단종]  워셔블 유브이 프로텍터 [SPF50+/PA+++]', '[단종]  (VTXBTS 에디션) 슈퍼템팅 글리터 아이라이너', '[단종]  BT21 쿨링 핏 선 쿠션 [SPF50+/PA++++]', '[단종]  (VTXBTS 에디션) 본 내추럴 힐링 핸드크림 [그대만을 위한 꽃길]', '[단종]  VT 물광 씨씨쿠션', '[단종]  컨투어링 스틱 파운데이션', '[단종]  클라우드 유브이 프로텍터 젤 [SPF50+/PA+++]', '[단종]  (VTXBTS 에디션) 슈퍼 템팅 하이라이트 팔레트', '[단종]  띵크 유얼 데이즈 생리대 [중형]', '[단종]  버블링 마스크 시트', '[단종]  라뜰리에 데 섭틸 오 드 시트러스', '[단종]  (VTXBTS 에디션) 본 내추럴 힐링 핸드크림 [어둠 속 밝은 한줄기 빛]', '[단종]  (VTXBTS 에디션) 본 내추럴 힐링 핸드크림 [그 자체로 의미 있는 우리의 날]', '[단종]  피토 블랙헤드 픽업 스틱', '[단종]  동백 클렌징 오일', '[단종]  BT21 아이섀도우 팔레트', '[단종]  BT21 리피스틱', '[단종]  시카 젤리 팩트', '[단종]  BT21 핏 온 스틱 프라이머', '[단종]  (VTXBTS 에디션) 본 내추럴 워시 오프 마스크', '[단종]  (VTXBTS 에디션) 겟 레디 듀얼 퍼프', '[단종]  싱크로나이즈 프루프 메이커', '[단종]  베이비 수딩젤', '[단종]  데일리 마스크', '[단종]  피토 에멀젼', '[단종]  히노키 바디 스프레이 [피그우드]', '[단종]  BT21 틴티드 파운데이션 [SPF30/PA++]', '[단종]  워터 드롭 쿠션 미니 [SPF50+/PA+++]', '[단종]  라뜰리에 데 섭틸 오 드 부아', '[단종]  (VTXBTS 에디션) 슈퍼템팅 트리플 필름 마스카라', '[단종]  앨리게이터 크림', '[단종]  인스턴트 페이셜 너리싱 마스크', '[단종]  BT21 치크 쿠션', '[단종]  BT21 핏 온 스틱 쉐이딩', '[단종]  BT21 틴티드 쉬머링 루미나이저 [SPF25/PA++]', '[단종]  반 스칼프 케어 토닉 포 센서티브 액', '[단종]  골드 프라이머 콜라겐 세럼', '[단종]  립브러쉬', '[단종]  BT21 크림 립 라커', '[단종]  비타민 립타투펜', '[단종]  클렌징 오일 타올', '[단종]  (VTXBTS 에디션) 더 스윗 무스 립 플루이드', '[단종]  (VTXBTS 에디션) 본 내추럴 오일 투 폼', '[단종]  (VTXBTS 에디션) 글로리아 프라이머', '[단종]  벨벳 립 라커', '[단종]  BT21 리얼 웨어 커버 쿠션 [SPF37/PA++]', '[단종]  띵크 유얼 티스 컬러링 칫솔', '[단종]  BT21 리얼 웨어 워터 쿠션 [SPF50+/PA+++]', '[단종]  올인원스킨 포맨', '[단종]  블랙 콜라겐 에센스', '[단종]  (VTXBTS 에디션) 본 내추럴 젤 미스트', '[단종]  피토 클렌져', '[단종]  바운스 핑크 베이스 쿠션', '[단종]  VTXBTS 슈퍼템팅 코렉트 팔레트', '[단종]  밀크 에센스 씨씨팩트', '[단종]  BT21 리얼 웨어 픽싱 쿠션 [SPF50+/PA+++]', '[단종]  바운스 실크 파운데이션 쿠션', '[단종]  블루 비타 콜라겐 팩트 [SPF50+/PA+++]', '[단종]  벨벳 립스틱', '[단종]  BT21 글로우 립 라커', '[단종]  블랙 콜라겐 크림', '[단종]  피토 선 쿠션 [SPF50+/PA++++]', '[단종]  띵크 유얼 디스 칫솔', '[단종]  띵크 유얼 티스 시린이 케어 치약', '[단종]  라뜰리에 데 섭틸 오 드 푸드흐', '[단종]  라뜰리에 데 섭틸 오 드 머스크', '[단종]  시카 3스텝 마스크', '[단종]  시카 내추럴 아이 겔 패치', '[단종]  퍼펙트 립앤아이 리무버', '[단종]  BT21 핏 온 스틱 언더커버', '[단종]  BT21 리치 휩 클렌저', '[단종]  피토미스트', '[단종]  마이크로 홀딩 스프레이', '[단종]  마이크로 홀딩 왁스', '[단종]  마이크로 홀딩 포마드', '[단종]  BT21 틴티드 밀크 씨씨크림', '[단종]  (VTXBTS 에디션) 본 내추럴 필 오프 마스크', '[단종]  (VTXBTS 에디션) 겟 레디 브러쉬 키트', '[단종]  (VTXBTS 에디션) 본 내추럴 힐링 핸드크림 [세상에 하나뿐인 태양을 닮은 너]', '[단종]  (VTXBTS 에디션) 본 내추럴 힐링 핸드크림 [고래와 같은 파란 꿈]', '[단종]  (VTXBTS 에디션) 슈퍼템팅 페이스 픽서', '[단종]  (VTXBTS 에디션) 슈퍼템팅 마스카라 프라이머', '[단종]  선 오브 쉴드 [SPF50+/PA++++]', '[단종]  (VTXBTS 에디션) 슈퍼 템팅 쉐이드 팔레트', '[단종]  시카 엔자임 파우더 워시', '[단종]  아가베 수딩젤', '[단종]  노 세범 블러 팩트 [SPF30/PA+++]', '[단종]  반 스칼프 트리트먼트 포 센서티브 액', '[단종]  반 스칼프 샴푸 포 센서티브 액', '[단종]  띵크 유얼 데이즈 생리대 [팬티라이너]', '[단종]  띵크 유얼 데이즈 생리대 [대형]', '[단종]  띵크 유얼 데이즈 생리대 [소형]', '[단종]  소프트 페이셜 코튼 패드', '[단종]  클렌징 마스터', '[단종]  갤럭시 크림', '[단종]  갤럭시 아이크림', '[단종]  갤럭시 볼륨크림', '[단종]  캐비어 블랙펄 클렌징 오일', '[단종]  캐비어 나이트 크림', '[단종]  갤럭시 세럼', '[단종]  갤럭시 스킨', '[단종]  퍼펙트 블랙헤드 이레이져 비누', '[단종]  그레이트 트러블 헌터 비누', '[단종]  수퍼 모이스트 몬스터 비누', '[단종]  캐비어 블랙펄 클렌징 폼', '[단종]  베이비 로션', '[단종]  베이비 크림', '[단종]  원 클렌저 포 맨', '[단종]  원 미스트 포 맨', '[단종]  워터크림 포맨', '[단종]  카멜리아 크림', '[단종]  베이비 바스앤샴푸', '[단종]  베이비 선크림 [SPF30/PA++]', '[단종]  선 가드 포 배럴 [SPF50+/PA+++]', '[단종]  씨씨크림 포맨', '[단종]  갤럭시 골드 하이드로겔 마스크', '[단종]  마린셀 마스크', '[단종]  인스턴트 페이셜 리커버리 마스크', '[단종]  인스턴트 페이셜 퓨리파이 마스크', '[단종]  선크림 포맨 [SPF50+/PA+++]']\n",
      "---------------------------------------\n",
      "W.SKIN LABORATORY\n",
      "26 \n",
      " ['화이트 글루타치온 톤업크림', '트리플케어 선크림 [SPF50+/PA++++]', '자연발효 곡물 막걸리 마스크 시트', '온천수 미스트', '시카플러스 리페어 크림', '시카플러스 리페어 크림', '스탑에이징 손주름 핸드크림 플러스', '에이엠크림', '스탑 에이징 펩타이드 에센스', '스탑 에이징 펩타이드 토너', '스탑에이징 펩타이드 아이크림', '언더플라워 퍼퓸 [텐더일랑]', '언더플라워 퍼퓸 [포레스트 프레쉬]', '줄기세포 리페어 크림', '히알루론산 토너', '부비손골드겔(에탄올)', '진주 크림', '마유크림', '언더플라워 퍼퓸 [아델레이드]', '히알루론산 보습크림', '캐비어 크림', '마달크림', '달팽이크림', '스탑 에이징 펩타이드 크림', '언더플라워 퍼퓸 [로즈 느와르]', '[단종]  손주름 핸드케어 크림']\n",
      "---------------------------------------\n",
      "W7\n",
      "10 \n",
      " ['소셜라이트 아이섀도우 팔레트', '블레이진 아이섀도우 팔레트', '인 더 버프 아이 컬러 팔레트 팩트 아이섀도', '딜리셔스 아이섀도우 팔레트', '매트 미 블러쉬', '프리티 플리즈 아이섀도우 팔레트', '인 더 누드 아이 컬러 팔레트', '컬러 미 누드 아이섀도우 팔레트', '비트 잇 아이섀도우 팔레트', '치키 트리오 팔레트']\n",
      "---------------------------------------\n",
      "WHY\n",
      "11 \n",
      " ['프렌치부케 샴푸', '퓨리파잉 내추럴 프로그래밍 에센스', '딜라이트 로즈 바디로션', '아이리쉬가든 샴푸', '프렌치부케 트리트먼트', '보헤미안브리즈 샴푸', '퓨리파잉 오일샤워 클렌져', '퓨리파잉 바디모이스쳐라이저', '딜라이트 로즈 바디워시', '와일드포오일 비나춀리', '[단종]  화이트 익스트림 브라이트닝 폼']\n",
      "---------------------------------------\n",
      "XTM\n",
      "48 \n",
      " ['멀티 비비 스틱 [SPF50+/PA++++]', '퍼퓸건', '이지 헤어라이너', '올인원 워터액션', '컬러 인 립밤', '올인원 쿠션 [SPF50+/PA+++]', '올인원 크림', '다리 숱 정리 면도기', '아웃도어 워터프루프 선블록 [SPF50+/PA++++]', '프레쉬 파워 크림', '올인원 톤업', '데일리 톤업 선블록 [SPF50+/PA++++]', '스타일옴므 에센스 인 립밤', '쉐이빙 젤 센서티브', '올인원워시', '멀티 씨씨 [SPF50+/PA+++]', '이지 아이브로우', '올인원 프레쉬 맨', '멀티 비비 [SPF50+/PA+++]', '오일컨트롤 페이퍼', '컬러 립스터', '올인원 클렌징 폼', '노세범 선스틱 [SPF50+/PA++++]', 'XTM스타일옴므 슈퍼 프리즈 왁스 매트', 'XTM스타일옴므 슈퍼 프리즈 스프레이', '헤어 왁스 울트라 홀드', '왁스 딥클렌징 샴푸', '브로우 틴트 마커', '포마드 수퍼 홀드', '화이트닝 톤업크림', '[단종]  멀티 플레이어 올인원', '[단종]  멀티 BB [SPF50+/PA+++]', '[단종]  스타일옴므 노세범 선스틱 [SPF50+/PA+++]', '[단종]  퍼퓸 핸드크림 [그린 우디]', '[단종]  이지 스틱 컨실러', '[단종]  스피드 다운펌', '[단종]  올인원 쿠션', '[단종]  퍼퓸 핸드크림 [브라운 머스크]', '[단종]  컬러 인 립밤', '[단종]  스타일옴므 멀티 선 비비 [SPF50+/PA+++]', '[단종]  스타일옴므 쉐이빙 젤 센서티브', '[단종]  스타일 옴므 퍼펙트 클렌징 폼', '[단종]  퍼퓸 핸드크림', '[단종]  올인원 클렌징폼', '[단종]  액티브 선블록 [SPF50+/PA+++]', '[단종]  스타일옴므 멀티 선 스프레이 [SPF50+/PA+++]', '[단종]  스타일 옴므 인텐시브 에센스 인 로션', '[단종]  스타일옴므 밸런스 업 에센스 인 토너']\n",
      "---------------------------------------\n",
      "YNM\n",
      "13 \n",
      " ['레인보우 허니 립 밤', '캔디 허니 립밤', '퀵 모닝 앤 나이트 케어 마스크', '립트리트먼트팩', '워터 톡톡 하이라이터', '젠틀 메이크업 클렌징 워터', '워터 톡톡 컨투어링', '미라클 스파필', '코나드 쁘띠 리프 바디로션', '수아비스 꼴마도 아르간 5-테이프 바디 에센스', '깨끗한 피부 핸드크림 모이스춰 밀크', '깨끗한 피부 핸드크림 프레쉬 핑크피치', '나이트 앤 모닝 투웨이 마스크']\n",
      "---------------------------------------\n",
      "YS solution\n",
      "2 \n",
      " ['인텐시브 AC케어겔', '[단종]  울트라 프로텍션 선크림 [SPF50+/PA+++]']\n",
      "---------------------------------------\n",
      "YSJ cosmetics\n",
      "1 \n",
      " ['아이카라 톤업 크림']\n",
      "---------------------------------------\n",
      "ZARA\n",
      "27 \n",
      " ['자라 X 조말론 [베티버 팜플무스]', '자라 X 조말론 [에보니 우드]', '자라 X 조말론 [워터릴리 티 드레스]', '자라 X 조말론 [튜베로즈 느와]', '자라 X 조말론 [플뢰르 드 패츌리]', '트와일라잇 모브 오 드 뚜왈렛', '자라 X 조말론 [아말피 선레이]', '우먼 퓨리티 오 드 뚜왈렛', '우먼 오리엔탈 오드 뚜왈렛', '우먼 프리지아 앤 바닐라 오 드 뚜왈렛', 'NIGHT POUR HOMME II', '더 골든 럴러바이 오 드 퍼퓸', '(자라X조말론) 보헤미안 블루벨 오 드 퍼퓸', '자라 X 조말론 [네롤리]', '텍스춰스 오 드 뚜왈렛', '르 쁘띠 럴러바이 오 드 코롱', '오키드 오 드 퍼퓸', '딥 가든 오 드 퍼퓸', '애플 쥬스 오 드 뚜왈렛', '아이섀도우 팔레트', '페이스 팔레트', '틴티드 밤 립스틱', '컬트 새틴 립스틱', '얼티매트 매트 립스틱', '스틸레토 데미 매트 립스틱', '블랙 오 드 뚜왈렛', '[단종]  자라 X 조말론 [플뢰르 도랑제]']\n",
      "---------------------------------------\n"
     ]
    }
   ],
   "source": [
    "for i in range(20):\n",
    "    print(df_brd_w_prd_v2.loc[i+8000, \"brand_name\"])\n",
    "    print(len(df_brd_w_prd_v2.loc[i+8000, \"product_link\"]), \"\\n\", df_brd_w_prd_v2.loc[i+8000, \"product_name\"])\n",
    "    print(\"---------------------------------------\")"
   ]
  },
  {
   "cell_type": "code",
   "execution_count": 225,
   "id": "c8945809-dc70-4b3f-871c-dea76ff600f1",
   "metadata": {},
   "outputs": [],
   "source": [
    "df_brd_w_prd_v2.to_csv(\"df_brd_w_prd_v2.csv\")"
   ]
  },
  {
   "cell_type": "code",
   "execution_count": 223,
   "id": "73470c14-1a0d-4f34-80e6-9e136e5ae3ed",
   "metadata": {},
   "outputs": [],
   "source": [
    "df_brd_w_prd_v2 = df_brd_w_prd_v2.reset_index(drop=True)"
   ]
  },
  {
   "cell_type": "code",
   "execution_count": 219,
   "id": "3322b5da-ec6e-4059-8681-66de3254ea5d",
   "metadata": {},
   "outputs": [],
   "source": [
    "df_brd_w_prd_v2.loc[8048.1] = [\"https://www.glowpick.com/brands/10854\", \"563LAB\", ['아이메이크업', '헤어'], \n",
    "                        ['https://www.glowpick.com/products/139001', \n",
    "                         'https://www.glowpick.com/products/140357',\n",
    "                        'https://www.glowpick.com/products/147657',\n",
    "                        'https://www.glowpick.com/products/146786'], \n",
    "                        ['올케어 헤어팩', '래쉬 붐', '픽스타일러', '베이비파우더 트리트먼트'] ]\n",
    "df_brd_w_prd_v2.loc[8048.2] = [\"https://www.glowpick.com/brands/11763\", \"57도엔\", ['스킨케어'], \n",
    "                        ['https://www.glowpick.com/products/146972',\n",
    "                        'https://www.glowpick.com/products/146970',\n",
    "                        'https://www.glowpick.com/products/146969'], \n",
    "                        ['버치 워터 앤 베타글루칸 베리어 크림',\n",
    "                        '윌로우 앤 판테놀 카밍 세럼',\n",
    "                        '빙하수 앤 파하 클린 토너']]\n",
    "df_brd_w_prd_v2.loc[8048.3] = [\"https://www.glowpick.com/brands/10445\", \"5Star4A\", ['생활용품'], ['https://www.glowpick.com/products/134765'], ['치약']]\n",
    "df_brd_w_prd_v2.loc[8048.4] = [\"https://www.glowpick.com/brands/11506\", \"5일동안\", ['마스크/팩'], \n",
    "                        ['https://www.glowpick.com/products/143904', 'https://www.glowpick.com/products/21686', 'https://www.glowpick.com/products/21684'], \n",
    "                        ['리얼 진액 마스크', '5일동안 페이스오일', '5일동안 스킨풀 스팟']]\n",
    "\n",
    "df_brd_w_prd_v2 = df_brd_w_prd_v2.sort_index()"
   ]
  },
  {
   "cell_type": "code",
   "execution_count": 224,
   "id": "4e023052-da51-4e14-bd69-6d9c82cbbbf1",
   "metadata": {},
   "outputs": [
    {
     "data": {
      "text/html": [
       "<div>\n",
       "<style scoped>\n",
       "    .dataframe tbody tr th:only-of-type {\n",
       "        vertical-align: middle;\n",
       "    }\n",
       "\n",
       "    .dataframe tbody tr th {\n",
       "        vertical-align: top;\n",
       "    }\n",
       "\n",
       "    .dataframe thead th {\n",
       "        text-align: right;\n",
       "    }\n",
       "</style>\n",
       "<table border=\"1\" class=\"dataframe\">\n",
       "  <thead>\n",
       "    <tr style=\"text-align: right;\">\n",
       "      <th></th>\n",
       "      <th>brand_code</th>\n",
       "      <th>brand_name</th>\n",
       "      <th>category</th>\n",
       "      <th>product_link</th>\n",
       "      <th>product_name</th>\n",
       "    </tr>\n",
       "  </thead>\n",
       "  <tbody>\n",
       "    <tr>\n",
       "      <th>0</th>\n",
       "      <td>https://www.glowpick.com/brands/8016</td>\n",
       "      <td>가가알로에</td>\n",
       "      <td>['스킨케어']</td>\n",
       "      <td>[https://www.glowpick.com/products/104713]</td>\n",
       "      <td>[라율 나이트 케어 너리싱 젤]</td>\n",
       "    </tr>\n",
       "    <tr>\n",
       "      <th>1</th>\n",
       "      <td>https://www.glowpick.com/brands/1265</td>\n",
       "      <td>가그린</td>\n",
       "      <td>['생활용품']</td>\n",
       "      <td>[https://www.glowpick.com/products/134403, htt...</td>\n",
       "      <td>[제로, 오리지널, 라임, 스트롱, 블라스트 치약 라임민트, 어린이용 [사과], 잇...</td>\n",
       "    </tr>\n",
       "    <tr>\n",
       "      <th>2</th>\n",
       "      <td>https://www.glowpick.com/brands/2077</td>\n",
       "      <td>가네보</td>\n",
       "      <td>['페이스메이크업', '립메이크업', '컨투어링', '클렌징', '배쓰&amp;바디', '...</td>\n",
       "      <td>[https://www.glowpick.com/products/101993, htt...</td>\n",
       "      <td>[페이스업 파우더 밀라노 콜렉션 2018 [SPF14/PA+], 코프레도르 스마일업...</td>\n",
       "    </tr>\n",
       "    <tr>\n",
       "      <th>3</th>\n",
       "      <td>https://www.glowpick.com/brands/11100</td>\n",
       "      <td>가드맨</td>\n",
       "      <td>['생활용품']</td>\n",
       "      <td>[https://www.glowpick.com/products/140699]</td>\n",
       "      <td>[안심 황사 마스크 KF80]</td>\n",
       "    </tr>\n",
       "    <tr>\n",
       "      <th>4</th>\n",
       "      <td>https://www.glowpick.com/brands/8724</td>\n",
       "      <td>가드미</td>\n",
       "      <td>['네일']</td>\n",
       "      <td>[https://www.glowpick.com/products/112824, htt...</td>\n",
       "      <td>[큐티클 클리너, 네일 큐티클 호호바 오일]</td>\n",
       "    </tr>\n",
       "    <tr>\n",
       "      <th>...</th>\n",
       "      <td>...</td>\n",
       "      <td>...</td>\n",
       "      <td>...</td>\n",
       "      <td>...</td>\n",
       "      <td>...</td>\n",
       "    </tr>\n",
       "    <tr>\n",
       "      <th>8051</th>\n",
       "      <td>https://www.glowpick.com/brands/10445</td>\n",
       "      <td>5Star4A</td>\n",
       "      <td>[생활용품]</td>\n",
       "      <td>[https://www.glowpick.com/products/134765]</td>\n",
       "      <td>[치약]</td>\n",
       "    </tr>\n",
       "    <tr>\n",
       "      <th>8052</th>\n",
       "      <td>https://www.glowpick.com/brands/11506</td>\n",
       "      <td>5일동안</td>\n",
       "      <td>[마스크/팩]</td>\n",
       "      <td>[https://www.glowpick.com/products/143904, htt...</td>\n",
       "      <td>[리얼 진액 마스크, 5일동안 페이스오일, 5일동안 스킨풀 스팟]</td>\n",
       "    </tr>\n",
       "    <tr>\n",
       "      <th>8053</th>\n",
       "      <td>https://www.glowpick.com/brands/10183</td>\n",
       "      <td>76N1</td>\n",
       "      <td>['스킨케어', '클렌징', '마스크/팩']</td>\n",
       "      <td>[https://www.glowpick.com/products/140014, htt...</td>\n",
       "      <td>[비 해피 더블 액션 미스트, 비 해피 오일 [대마씨 &amp; 동백], 슈퍼듀퍼 파우더 ...</td>\n",
       "    </tr>\n",
       "    <tr>\n",
       "      <th>8054</th>\n",
       "      <td>https://www.glowpick.com/brands/6814</td>\n",
       "      <td>87발렌타인</td>\n",
       "      <td>['배쓰&amp;바디']</td>\n",
       "      <td>[https://www.glowpick.com/products/89547]</td>\n",
       "      <td>[이상훈의 제모크림]</td>\n",
       "    </tr>\n",
       "    <tr>\n",
       "      <th>8055</th>\n",
       "      <td>https://www.glowpick.com/brands/6151</td>\n",
       "      <td>9컴플렉스</td>\n",
       "      <td>['뷰티툴']</td>\n",
       "      <td>[https://www.glowpick.com/products/81570]</td>\n",
       "      <td>[아이래쉬 뷰러]</td>\n",
       "    </tr>\n",
       "  </tbody>\n",
       "</table>\n",
       "<p>8056 rows × 5 columns</p>\n",
       "</div>"
      ],
      "text/plain": [
       "                                 brand_code brand_name  \\\n",
       "0      https://www.glowpick.com/brands/8016      가가알로에   \n",
       "1      https://www.glowpick.com/brands/1265        가그린   \n",
       "2      https://www.glowpick.com/brands/2077        가네보   \n",
       "3     https://www.glowpick.com/brands/11100        가드맨   \n",
       "4      https://www.glowpick.com/brands/8724        가드미   \n",
       "...                                     ...        ...   \n",
       "8051  https://www.glowpick.com/brands/10445    5Star4A   \n",
       "8052  https://www.glowpick.com/brands/11506       5일동안   \n",
       "8053  https://www.glowpick.com/brands/10183       76N1   \n",
       "8054   https://www.glowpick.com/brands/6814     87발렌타인   \n",
       "8055   https://www.glowpick.com/brands/6151      9컴플렉스   \n",
       "\n",
       "                                               category  \\\n",
       "0                                              ['스킨케어']   \n",
       "1                                              ['생활용품']   \n",
       "2     ['페이스메이크업', '립메이크업', '컨투어링', '클렌징', '배쓰&바디', '...   \n",
       "3                                              ['생활용품']   \n",
       "4                                                ['네일']   \n",
       "...                                                 ...   \n",
       "8051                                             [생활용품]   \n",
       "8052                                            [마스크/팩]   \n",
       "8053                           ['스킨케어', '클렌징', '마스크/팩']   \n",
       "8054                                          ['배쓰&바디']   \n",
       "8055                                            ['뷰티툴']   \n",
       "\n",
       "                                           product_link  \\\n",
       "0            [https://www.glowpick.com/products/104713]   \n",
       "1     [https://www.glowpick.com/products/134403, htt...   \n",
       "2     [https://www.glowpick.com/products/101993, htt...   \n",
       "3            [https://www.glowpick.com/products/140699]   \n",
       "4     [https://www.glowpick.com/products/112824, htt...   \n",
       "...                                                 ...   \n",
       "8051         [https://www.glowpick.com/products/134765]   \n",
       "8052  [https://www.glowpick.com/products/143904, htt...   \n",
       "8053  [https://www.glowpick.com/products/140014, htt...   \n",
       "8054          [https://www.glowpick.com/products/89547]   \n",
       "8055          [https://www.glowpick.com/products/81570]   \n",
       "\n",
       "                                           product_name  \n",
       "0                                     [라율 나이트 케어 너리싱 젤]  \n",
       "1     [제로, 오리지널, 라임, 스트롱, 블라스트 치약 라임민트, 어린이용 [사과], 잇...  \n",
       "2     [페이스업 파우더 밀라노 콜렉션 2018 [SPF14/PA+], 코프레도르 스마일업...  \n",
       "3                                      [안심 황사 마스크 KF80]  \n",
       "4                              [큐티클 클리너, 네일 큐티클 호호바 오일]  \n",
       "...                                                 ...  \n",
       "8051                                               [치약]  \n",
       "8052               [리얼 진액 마스크, 5일동안 페이스오일, 5일동안 스킨풀 스팟]  \n",
       "8053  [비 해피 더블 액션 미스트, 비 해피 오일 [대마씨 & 동백], 슈퍼듀퍼 파우더 ...  \n",
       "8054                                        [이상훈의 제모크림]  \n",
       "8055                                          [아이래쉬 뷰러]  \n",
       "\n",
       "[8056 rows x 5 columns]"
      ]
     },
     "execution_count": 224,
     "metadata": {},
     "output_type": "execute_result"
    }
   ],
   "source": [
    "df_brd_w_prd_v2"
   ]
  },
  {
   "cell_type": "code",
   "execution_count": 180,
   "id": "ce28cb88-a449-43dc-92d5-9b5d4a6bd3a9",
   "metadata": {},
   "outputs": [
    {
     "data": {
      "text/plain": [
       "defaultdict(list, {'필로스(PHILOS)': ['플라스톡스 볼륨 스칼프세럼', 'PQ10 리바이탈 피눅스 세럼']})"
      ]
     },
     "execution_count": 180,
     "metadata": {},
     "output_type": "execute_result"
    }
   ],
   "source": [
    "dict_prd_name_tmp"
   ]
  },
  {
   "cell_type": "code",
   "execution_count": null,
   "id": "87c282ab-a061-4e10-9790-cc538bfac1ee",
   "metadata": {},
   "outputs": [],
   "source": []
  }
 ],
 "metadata": {
  "kernelspec": {
   "display_name": "Python 3 (ipykernel)",
   "language": "python",
   "name": "python3"
  },
  "language_info": {
   "codemirror_mode": {
    "name": "ipython",
    "version": 3
   },
   "file_extension": ".py",
   "mimetype": "text/x-python",
   "name": "python",
   "nbconvert_exporter": "python",
   "pygments_lexer": "ipython3",
   "version": "3.9.7"
  }
 },
 "nbformat": 4,
 "nbformat_minor": 5
}
