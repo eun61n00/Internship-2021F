{
 "cells": [
  {
   "cell_type": "markdown",
   "id": "0a51ddf4-a090-43df-bc7c-c7eb06f6ce74",
   "metadata": {},
   "source": [
    "# 기존 v4와 df_brd_w_prd_v2 상품 개수 비교"
   ]
  },
  {
   "cell_type": "code",
   "execution_count": 2,
   "id": "aa9ee6f1-078e-4ec8-ac57-91465abcae5f",
   "metadata": {},
   "outputs": [],
   "source": [
    "import os\n",
    "import re\n",
    "import pandas as pd\n",
    "import pickle\n",
    "import collections\n",
    "import numpy as np\n",
    "import math\n",
    "from ast import literal_eval\n",
    "from time import gmtime, strftime\n",
    "import re\n",
    "import time\n",
    "from bs4 import BeautifulSoup\n",
    "#$from tqdm import tnrange, tqdm_notebook\n",
    "from tqdm.auto import tqdm\n",
    "\n",
    "# Scrapping\n",
    "import selenium\n",
    "from selenium import webdriver\n",
    "from selenium.webdriver.common.keys import Keys\n",
    "from selenium.webdriver.support.ui import WebDriverWait\n",
    "from selenium.webdriver.support import expected_conditions as EC\n",
    "from webdriver_manager.chrome import ChromeDriverManager\n",
    "from selenium.webdriver.common.by import By\n",
    "from selenium.webdriver.chrome.options import Options\n",
    "from fake_useragent import UserAgent\n",
    "\n",
    "# Error Handling\n",
    "import socket\n",
    "import urllib3\n",
    "import urllib.request\n",
    "from urllib.request import urlopen\n",
    "from urllib.parse import quote_plus\n",
    "from urllib.request import urlretrieve\n",
    "from selenium.common.exceptions import NoSuchElementException, ElementNotInteractableException, ElementClickInterceptedException\n",
    "import warnings\n",
    "warnings.filterwarnings('ignore')\n",
    "\n",
    "from collections import defaultdict"
   ]
  },
  {
   "cell_type": "code",
   "execution_count": 186,
   "id": "21162e0b-80c5-4190-9631-eb47f01d681d",
   "metadata": {},
   "outputs": [],
   "source": [
    "df_brd_w_prd_v2 = pd.read_csv(\"df_brd_w_prd_v2.csv\")\n",
    "df_brd_w_prd_v2 = df_brd_w_prd_v2.iloc[:, 1:]\n",
    "\n",
    "v4 = pd.read_csv(\"glow_pick_product_info_v4.3.csv\")"
   ]
  },
  {
   "cell_type": "markdown",
   "id": "e92e9250-0d93-421e-ba27-b0d95652359e",
   "metadata": {},
   "source": [
    "### 각각 브랜드명 set list"
   ]
  },
  {
   "cell_type": "code",
   "execution_count": 209,
   "id": "c6d1dec0-fdef-4d49-b820-0ac5fb8ef92e",
   "metadata": {},
   "outputs": [],
   "source": [
    "df_brd_w_prd_v2_brd_lst = list(df_brd_w_prd_v2[\"brand_name\"]) #df_brd_w_prd_v2에는 브랜드 링크를 기준으로 이미 중복을 제거하였기 때문에 set하지 않음 (브랜드 명이 중복된 경우 있음)\n",
    "\n",
    "v4_brd_lst = list(set(v4[\"브랜드명\"]))"
   ]
  },
  {
   "cell_type": "code",
   "execution_count": 210,
   "id": "3821f06a-99bc-4bf1-8508-4c5a9711cd1a",
   "metadata": {},
   "outputs": [
    {
     "name": "stdout",
     "output_type": "stream",
     "text": [
      "df_brd_w_prd_v2의 unique한 브랜드 개수:  8056\n",
      "v4의 unique한 브랜드 개수:  1471\n"
     ]
    }
   ],
   "source": [
    "print(\"df_brd_w_prd_v2의 unique한 브랜드 개수: \", len(df_brd_w_prd_v2_brd_lst))\n",
    "print(\"v4의 unique한 브랜드 개수: \", len(v4_brd_lst))"
   ]
  },
  {
   "cell_type": "markdown",
   "id": "8083f3a0-a409-47e4-9cbd-97792b0d8432",
   "metadata": {},
   "source": [
    "---\n",
    "v4에는 있는데 df_brd_w_prd_v2에는 없는 브랜드 : v4_not_in_df_brd_w_prd_v2"
   ]
  },
  {
   "cell_type": "code",
   "execution_count": 6,
   "id": "3071dda1-46a9-4d3f-bbf7-c2d0d885b851",
   "metadata": {},
   "outputs": [],
   "source": [
    "v4_not_in_df_brd_w_prd_v2 = []\n",
    "\n",
    "for i in range(len(v4_brd_lst)):\n",
    "    if v4_brd_lst[i] not in df_brd_w_prd_v2_brd_lst:\n",
    "        v4_not_in_df_brd_w_prd_v2.append(v4_brd_lst[i])"
   ]
  },
  {
   "cell_type": "code",
   "execution_count": 7,
   "id": "a446c613-861d-4321-98d5-4994a586ae5a",
   "metadata": {},
   "outputs": [
    {
     "data": {
      "text/plain": [
       "7"
      ]
     },
     "execution_count": 7,
     "metadata": {},
     "output_type": "execute_result"
    }
   ],
   "source": [
    "len(v4_not_in_df_brd_w_prd_v2)"
   ]
  },
  {
   "cell_type": "code",
   "execution_count": 172,
   "id": "8769a70f-d815-43da-a3dc-3b5cd00a5f20",
   "metadata": {
    "tags": []
   },
   "outputs": [
    {
     "data": {
      "text/plain": [
       "['JM솔루션', 'W.피부연구소', 'DS래보래토리즈', 'TMR 코스메틱스', 'JHP 코스메틱', 'Dr.G', 'DTRT']"
      ]
     },
     "execution_count": 172,
     "metadata": {},
     "output_type": "execute_result"
    }
   ],
   "source": [
    "v4_not_in_df_brd_w_prd_v2"
   ]
  },
  {
   "cell_type": "markdown",
   "id": "20cc00f7-8ea5-4802-aaf7-7121f5136936",
   "metadata": {},
   "source": [
    "---\n",
    "**임시로 v4의 한글+영어 브랜드를 영어 이름으로 변경** (추후 한글+영어 브랜드명 기준 결정 후 변경 예정)"
   ]
  },
  {
   "cell_type": "code",
   "execution_count": 204,
   "id": "fd5f22b7-928d-4141-8d85-ec3c161ff779",
   "metadata": {},
   "outputs": [],
   "source": [
    "for i in list(v4.loc[v4[\"브랜드명\"]=='JHP 코스메틱'].index):\n",
    "    v4.loc[i, '브랜드명'] = 'JHP Cosmetic'"
   ]
  },
  {
   "cell_type": "code",
   "execution_count": 207,
   "id": "2216b015-d489-43ef-9e37-0e7218c033ee",
   "metadata": {
    "collapsed": true,
    "jupyter": {
     "outputs_hidden": true
    },
    "tags": []
   },
   "outputs": [
    {
     "data": {
      "text/html": [
       "<div>\n",
       "<style scoped>\n",
       "    .dataframe tbody tr th:only-of-type {\n",
       "        vertical-align: middle;\n",
       "    }\n",
       "\n",
       "    .dataframe tbody tr th {\n",
       "        vertical-align: top;\n",
       "    }\n",
       "\n",
       "    .dataframe thead th {\n",
       "        text-align: right;\n",
       "    }\n",
       "</style>\n",
       "<table border=\"1\" class=\"dataframe\">\n",
       "  <thead>\n",
       "    <tr style=\"text-align: right;\">\n",
       "      <th></th>\n",
       "      <th>Unnamed: 0</th>\n",
       "      <th>브랜드_link</th>\n",
       "      <th>브랜드명</th>\n",
       "      <th>브랜드_id</th>\n",
       "      <th>제품_link</th>\n",
       "      <th>제품_id</th>\n",
       "      <th>제품명</th>\n",
       "      <th>제품 용량</th>\n",
       "      <th>제품 가격</th>\n",
       "      <th>유사 제품군 랭킹(int)</th>\n",
       "      <th>...</th>\n",
       "      <th>제품 성분 구성 : 중간 위험도(갯수)</th>\n",
       "      <th>제품 성분 구성 : 중간 위험도 (성분(한글))</th>\n",
       "      <th>제품 성분 구성 : 중간 위험도 (성분(영어))</th>\n",
       "      <th>제품 성분 구성 : 중간 위험도 (성분(설명))</th>\n",
       "      <th>제품 성분 구성 : 높은 위험도</th>\n",
       "      <th>제품 성분 구성 : 높은 위험도(갯수)</th>\n",
       "      <th>제품 성분 구성 : 높은 위험도 (성분(한글))</th>\n",
       "      <th>제품 성분 구성 : 높은 위험도 (성분(영어))</th>\n",
       "      <th>제품 성분 구성 : 높은 위험도 (성분(설명))</th>\n",
       "      <th>제품 카테고리</th>\n",
       "    </tr>\n",
       "  </thead>\n",
       "  <tbody>\n",
       "    <tr>\n",
       "      <th>22693</th>\n",
       "      <td>26543</td>\n",
       "      <td></td>\n",
       "      <td>JHP Cosmetic</td>\n",
       "      <td>NaN</td>\n",
       "      <td>https://www.glowpick.com/products/132732</td>\n",
       "      <td>132732</td>\n",
       "      <td>139 더마 워터 리페어</td>\n",
       "      <td>5ea</td>\n",
       "      <td>4,000원</td>\n",
       "      <td>201위</td>\n",
       "      <td>...</td>\n",
       "      <td>1개</td>\n",
       "      <td>['페녹시에탄올']</td>\n",
       "      <td>['Phenoxyethanol']</td>\n",
       "      <td>['향료,살균보존제']</td>\n",
       "      <td>높은위험도</td>\n",
       "      <td>0개</td>\n",
       "      <td>[]</td>\n",
       "      <td>[]</td>\n",
       "      <td>[]</td>\n",
       "      <td>['마스크/팩', '시트마스크', '진정마스크']</td>\n",
       "    </tr>\n",
       "    <tr>\n",
       "      <th>22694</th>\n",
       "      <td>26544</td>\n",
       "      <td></td>\n",
       "      <td>JHP Cosmetic</td>\n",
       "      <td>NaN</td>\n",
       "      <td>https://www.glowpick.com/products/144914</td>\n",
       "      <td>144914</td>\n",
       "      <td>139 히아루로닉 아쿠아 딥 마스크</td>\n",
       "      <td>30ea</td>\n",
       "      <td>가격미정</td>\n",
       "      <td>264위</td>\n",
       "      <td>...</td>\n",
       "      <td>4개</td>\n",
       "      <td>['비스-피이지-18메칠에텔디메칠실란;비스-피이지-18메틸에터다이메틸실레인', '피...</td>\n",
       "      <td>['Bis-PEG-18MethylEtherDimethylSilane', 'PEG-4...</td>\n",
       "      <td>['피부컨디셔닝제(보습제),계면활성제(거품촉진제),계면활성제(친수제)', '향료,계...</td>\n",
       "      <td>높은위험도</td>\n",
       "      <td>0개</td>\n",
       "      <td>[]</td>\n",
       "      <td>[]</td>\n",
       "      <td>[]</td>\n",
       "      <td>['마스크/팩', '시트마스크', '보습마스크']</td>\n",
       "    </tr>\n",
       "    <tr>\n",
       "      <th>22695</th>\n",
       "      <td>26545</td>\n",
       "      <td></td>\n",
       "      <td>JHP Cosmetic</td>\n",
       "      <td>NaN</td>\n",
       "      <td>https://www.glowpick.com/products/140916</td>\n",
       "      <td>140916</td>\n",
       "      <td>139 하이드라 리프트 마스크</td>\n",
       "      <td>30ea</td>\n",
       "      <td>24,800원</td>\n",
       "      <td>385위</td>\n",
       "      <td>...</td>\n",
       "      <td>3개</td>\n",
       "      <td>['디메치콘;다이메티콘', '토코페릴아세테이트', '페녹시에탄올']</td>\n",
       "      <td>['Dimethicone', 'TocopherylAcetate', 'Phenoxye...</td>\n",
       "      <td>['기포방지제,피부보호제,피부컨디셔닝제(수분차단제)', '산화방지제,피부컨디셔닝제'...</td>\n",
       "      <td>높은위험도</td>\n",
       "      <td>0개</td>\n",
       "      <td>[]</td>\n",
       "      <td>[]</td>\n",
       "      <td>[]</td>\n",
       "      <td>['마스크/팩', '시트마스크', '안티에이징마스크']</td>\n",
       "    </tr>\n",
       "    <tr>\n",
       "      <th>22696</th>\n",
       "      <td>26546</td>\n",
       "      <td></td>\n",
       "      <td>JHP Cosmetic</td>\n",
       "      <td>NaN</td>\n",
       "      <td>https://www.glowpick.com/products/132020</td>\n",
       "      <td>132020</td>\n",
       "      <td>139 하이드라 리프트 오일</td>\n",
       "      <td>36ea</td>\n",
       "      <td>30,800원</td>\n",
       "      <td>[]</td>\n",
       "      <td>...</td>\n",
       "      <td>3개</td>\n",
       "      <td>['피이지-60하이드로제네이티드캐스터오일', '토코페릴아세테이트', '페녹시에탄올']</td>\n",
       "      <td>['PEG-60HydrogenatedCastorOil', 'TocopherylAce...</td>\n",
       "      <td>['향료,계면활성제-세정제,계면활성제-용해보조제', '산화방지제,피부컨디셔닝제', ...</td>\n",
       "      <td>높은위험도</td>\n",
       "      <td>0개</td>\n",
       "      <td>[]</td>\n",
       "      <td>[]</td>\n",
       "      <td>[]</td>\n",
       "      <td>['마스크/팩', '시트마스크', '안티에이징마스크']</td>\n",
       "    </tr>\n",
       "  </tbody>\n",
       "</table>\n",
       "<p>4 rows × 39 columns</p>\n",
       "</div>"
      ],
      "text/plain": [
       "       Unnamed: 0 브랜드_link          브랜드명  브랜드_id  \\\n",
       "22693       26543           JHP Cosmetic     NaN   \n",
       "22694       26544           JHP Cosmetic     NaN   \n",
       "22695       26545           JHP Cosmetic     NaN   \n",
       "22696       26546           JHP Cosmetic     NaN   \n",
       "\n",
       "                                        제품_link   제품_id                  제품명  \\\n",
       "22693  https://www.glowpick.com/products/132732  132732        139 더마 워터 리페어   \n",
       "22694  https://www.glowpick.com/products/144914  144914  139 히아루로닉 아쿠아 딥 마스크   \n",
       "22695  https://www.glowpick.com/products/140916  140916     139 하이드라 리프트 마스크   \n",
       "22696  https://www.glowpick.com/products/132020  132020      139 하이드라 리프트 오일   \n",
       "\n",
       "      제품 용량    제품 가격 유사 제품군 랭킹(int)  ... 제품 성분 구성 : 중간 위험도(갯수)  \\\n",
       "22693   5ea   4,000원           201위  ...                    1개   \n",
       "22694  30ea     가격미정           264위  ...                    4개   \n",
       "22695  30ea  24,800원           385위  ...                    3개   \n",
       "22696  36ea  30,800원             []  ...                    3개   \n",
       "\n",
       "                              제품 성분 구성 : 중간 위험도 (성분(한글))  \\\n",
       "22693                                         ['페녹시에탄올']   \n",
       "22694  ['비스-피이지-18메칠에텔디메칠실란;비스-피이지-18메틸에터다이메틸실레인', '피...   \n",
       "22695              ['디메치콘;다이메티콘', '토코페릴아세테이트', '페녹시에탄올']   \n",
       "22696    ['피이지-60하이드로제네이티드캐스터오일', '토코페릴아세테이트', '페녹시에탄올']   \n",
       "\n",
       "                              제품 성분 구성 : 중간 위험도 (성분(영어))  \\\n",
       "22693                                 ['Phenoxyethanol']   \n",
       "22694  ['Bis-PEG-18MethylEtherDimethylSilane', 'PEG-4...   \n",
       "22695  ['Dimethicone', 'TocopherylAcetate', 'Phenoxye...   \n",
       "22696  ['PEG-60HydrogenatedCastorOil', 'TocopherylAce...   \n",
       "\n",
       "                              제품 성분 구성 : 중간 위험도 (성분(설명)) 제품 성분 구성 : 높은 위험도  \\\n",
       "22693                                       ['향료,살균보존제']             높은위험도   \n",
       "22694  ['피부컨디셔닝제(보습제),계면활성제(거품촉진제),계면활성제(친수제)', '향료,계...             높은위험도   \n",
       "22695  ['기포방지제,피부보호제,피부컨디셔닝제(수분차단제)', '산화방지제,피부컨디셔닝제'...             높은위험도   \n",
       "22696  ['향료,계면활성제-세정제,계면활성제-용해보조제', '산화방지제,피부컨디셔닝제', ...             높은위험도   \n",
       "\n",
       "      제품 성분 구성 : 높은 위험도(갯수) 제품 성분 구성 : 높은 위험도 (성분(한글))  \\\n",
       "22693                    0개                         []   \n",
       "22694                    0개                         []   \n",
       "22695                    0개                         []   \n",
       "22696                    0개                         []   \n",
       "\n",
       "      제품 성분 구성 : 높은 위험도 (성분(영어)) 제품 성분 구성 : 높은 위험도 (성분(설명))  \\\n",
       "22693                         []                         []   \n",
       "22694                         []                         []   \n",
       "22695                         []                         []   \n",
       "22696                         []                         []   \n",
       "\n",
       "                              제품 카테고리  \n",
       "22693     ['마스크/팩', '시트마스크', '진정마스크']  \n",
       "22694     ['마스크/팩', '시트마스크', '보습마스크']  \n",
       "22695  ['마스크/팩', '시트마스크', '안티에이징마스크']  \n",
       "22696  ['마스크/팩', '시트마스크', '안티에이징마스크']  \n",
       "\n",
       "[4 rows x 39 columns]"
      ]
     },
     "execution_count": 207,
     "metadata": {},
     "output_type": "execute_result"
    }
   ],
   "source": [
    "v4.loc[v4[\"브랜드명\"]=='JHP Cosmetic']"
   ]
  },
  {
   "cell_type": "code",
   "execution_count": 208,
   "id": "9b60c898-e43c-4a01-bafc-ac932eeef58c",
   "metadata": {},
   "outputs": [],
   "source": [
    "v4.to_csv(\"v4.3_eng_tmp.csv\")"
   ]
  },
  {
   "cell_type": "markdown",
   "id": "109cda1b-cff9-4109-8343-2226a4ac7f8e",
   "metadata": {
    "jp-MarkdownHeadingCollapsed": true,
    "tags": []
   },
   "source": [
    "---\n",
    "### [브랜드 리스트에 아예 포함되어 있지 않은 브랜드]\n",
    "- DU care\n",
    "- DS래보래토리즈\n",
    "- 차우주\n",
    "- DTRT\n",
    "- Dr.G\n",
    "- DRUNK ELEPHANT\n",
    "- DPC\n",
    "- DHC\n",
    "- Dr.C60\n",
    "- 더 스킨라파\n",
    "- D'ena\n",
    "---\n",
    "### v4와 df_brd_w_prd_v2에서 같은 브랜드이지만 이름이 다르게 되어있는 브랜드 (영어와 한글이 섞여 있는 브랜드)\n",
    "v4 / df_brd_w_prd_v2\n",
    "- CJ제일제당 / CHEILJEDANG\n",
    "- DS래보래토리즈 / DS LAB\n",
    "- LC 프로페셔널 / LC PROFESSIONAL\n",
    "- JHP 코스메틱 / JHP Cosmetic\n",
    "- TNL / True Life\n",
    "- JCK 메이크업 브러쉬 / JCK\n",
    "- CU스킨 / CUSKIN\n",
    "- 563랩 / 563LAB\n",
    "- TMR 코스메틱스 / TMR cosmetics\n",
    "- KVD 비건뷰티 / KVD VEGUN BEAUTY\n",
    "- DK 코스메틱 / DK COSMETIC\n",
    "- W.피부연구소 / W.SKIN LABORSTORY\n",
    "- JM솔루션 / JMsolution"
   ]
  },
  {
   "cell_type": "markdown",
   "id": "1eaaea0f-0b51-4fc0-816b-acee45f70fdd",
   "metadata": {},
   "source": [
    "# v4 브랜드별 상품 개수 파악"
   ]
  },
  {
   "cell_type": "code",
   "execution_count": 211,
   "id": "e11b05ba-4114-4e1d-8f07-e2b8b2b26560",
   "metadata": {},
   "outputs": [],
   "source": [
    "v4_grp_cnt = pd.DataFrame(v4.groupby([\"브랜드명\"]).count()[\"제품_link\"])"
   ]
  },
  {
   "cell_type": "code",
   "execution_count": 212,
   "id": "e877ddb4-6cc9-4978-aaaf-3d8d0de2882a",
   "metadata": {},
   "outputs": [],
   "source": [
    "v4_grp_cnt = v4_grp_cnt.rename(columns = {'제품_link': 'product count (v4)',}, inplace = False)"
   ]
  },
  {
   "cell_type": "code",
   "execution_count": 213,
   "id": "3a0e6151-aa01-4ec4-9213-286345ea287c",
   "metadata": {},
   "outputs": [
    {
     "data": {
      "text/html": [
       "<div>\n",
       "<style scoped>\n",
       "    .dataframe tbody tr th:only-of-type {\n",
       "        vertical-align: middle;\n",
       "    }\n",
       "\n",
       "    .dataframe tbody tr th {\n",
       "        vertical-align: top;\n",
       "    }\n",
       "\n",
       "    .dataframe thead th {\n",
       "        text-align: right;\n",
       "    }\n",
       "</style>\n",
       "<table border=\"1\" class=\"dataframe\">\n",
       "  <thead>\n",
       "    <tr style=\"text-align: right;\">\n",
       "      <th></th>\n",
       "      <th>product count (v4)</th>\n",
       "    </tr>\n",
       "    <tr>\n",
       "      <th>브랜드명</th>\n",
       "      <th></th>\n",
       "    </tr>\n",
       "  </thead>\n",
       "  <tbody>\n",
       "    <tr>\n",
       "      <th>16BRAND</th>\n",
       "      <td>95</td>\n",
       "    </tr>\n",
       "    <tr>\n",
       "      <th>23 years old</th>\n",
       "      <td>74</td>\n",
       "    </tr>\n",
       "    <tr>\n",
       "      <th>3CE</th>\n",
       "      <td>289</td>\n",
       "    </tr>\n",
       "    <tr>\n",
       "      <th>76N1</th>\n",
       "      <td>8</td>\n",
       "    </tr>\n",
       "    <tr>\n",
       "      <th>AHC</th>\n",
       "      <td>437</td>\n",
       "    </tr>\n",
       "    <tr>\n",
       "      <th>...</th>\n",
       "      <td>...</td>\n",
       "    </tr>\n",
       "    <tr>\n",
       "      <th>히말라야</th>\n",
       "      <td>60</td>\n",
       "    </tr>\n",
       "    <tr>\n",
       "      <th>히스테모</th>\n",
       "      <td>2</td>\n",
       "    </tr>\n",
       "    <tr>\n",
       "      <th>히즈클린</th>\n",
       "      <td>2</td>\n",
       "    </tr>\n",
       "    <tr>\n",
       "      <th>힐링버드</th>\n",
       "      <td>89</td>\n",
       "    </tr>\n",
       "    <tr>\n",
       "      <th>힐시드</th>\n",
       "      <td>2</td>\n",
       "    </tr>\n",
       "  </tbody>\n",
       "</table>\n",
       "<p>1471 rows × 1 columns</p>\n",
       "</div>"
      ],
      "text/plain": [
       "              product count (v4)\n",
       "브랜드명                            \n",
       "16BRAND                       95\n",
       "23 years old                  74\n",
       "3CE                          289\n",
       "76N1                           8\n",
       "AHC                          437\n",
       "...                          ...\n",
       "히말라야                          60\n",
       "히스테모                           2\n",
       "히즈클린                           2\n",
       "힐링버드                          89\n",
       "힐시드                            2\n",
       "\n",
       "[1471 rows x 1 columns]"
      ]
     },
     "execution_count": 213,
     "metadata": {},
     "output_type": "execute_result"
    }
   ],
   "source": [
    "v4_grp_cnt"
   ]
  },
  {
   "cell_type": "markdown",
   "id": "2bc85368-c45e-4546-8be4-b9f4686897e1",
   "metadata": {},
   "source": [
    "# df_brd_w_prd_v2 브랜드별 상품 개수 파악"
   ]
  },
  {
   "cell_type": "code",
   "execution_count": 517,
   "id": "e4140c1f-9e1f-4ea3-a2f8-27f1c05e4670",
   "metadata": {},
   "outputs": [],
   "source": [
    "df_brd_w_prd_v2 = pd.read_csv('df_brd_w_prd_v2.csv')\n",
    "df_brd_w_prd_v2 = df_brd_w_prd_v2.iloc[:, 1:]"
   ]
  },
  {
   "cell_type": "code",
   "execution_count": 518,
   "id": "ed771ef2-9467-4227-86f2-6ad66b0b664d",
   "metadata": {
    "tags": []
   },
   "outputs": [],
   "source": [
    "import ast\n",
    "\n",
    "for i in range(len(df_brd_w_prd_v2)):\n",
    "    df_brd_w_prd_v2.loc[i, 'product_link'] = literal_eval(df_brd_w_prd_v2.loc[i, 'product_link'])\n",
    "    df_brd_w_prd_v2.loc[i, 'product_name'] = literal_eval(df_brd_w_prd_v2.loc[i, 'product_name'])"
   ]
  },
  {
   "cell_type": "code",
   "execution_count": 519,
   "id": "14b9fd21-a851-4464-ab06-e96c64fe5a08",
   "metadata": {},
   "outputs": [],
   "source": [
    "df_brd_w_prd_v2_grp_cnt = pd.DataFrame({'브랜드명': [], 'product count (df_brd_w_prd_v2)': []})"
   ]
  },
  {
   "cell_type": "code",
   "execution_count": 520,
   "id": "2c3336df-24d6-4315-9d45-23f15ad90c34",
   "metadata": {},
   "outputs": [],
   "source": [
    "for i in range(len(df_brd_w_prd_v2)):\n",
    "    df_brd_w_prd_v2_grp_cnt.loc[i] = [df_brd_w_prd_v2.loc[i, \"brand_name\"], int(len(df_brd_w_prd_v2.loc[i, \"product_link\"]))]"
   ]
  },
  {
   "cell_type": "code",
   "execution_count": 521,
   "id": "7fb70aea-e252-466c-8394-9a319eb81234",
   "metadata": {},
   "outputs": [
    {
     "data": {
      "text/html": [
       "<div>\n",
       "<style scoped>\n",
       "    .dataframe tbody tr th:only-of-type {\n",
       "        vertical-align: middle;\n",
       "    }\n",
       "\n",
       "    .dataframe tbody tr th {\n",
       "        vertical-align: top;\n",
       "    }\n",
       "\n",
       "    .dataframe thead th {\n",
       "        text-align: right;\n",
       "    }\n",
       "</style>\n",
       "<table border=\"1\" class=\"dataframe\">\n",
       "  <thead>\n",
       "    <tr style=\"text-align: right;\">\n",
       "      <th></th>\n",
       "      <th>브랜드명</th>\n",
       "      <th>product count (df_brd_w_prd_v2)</th>\n",
       "    </tr>\n",
       "  </thead>\n",
       "  <tbody>\n",
       "    <tr>\n",
       "      <th>0</th>\n",
       "      <td>가가알로에</td>\n",
       "      <td>1.0</td>\n",
       "    </tr>\n",
       "    <tr>\n",
       "      <th>1</th>\n",
       "      <td>가그린</td>\n",
       "      <td>15.0</td>\n",
       "    </tr>\n",
       "    <tr>\n",
       "      <th>2</th>\n",
       "      <td>가네보</td>\n",
       "      <td>12.0</td>\n",
       "    </tr>\n",
       "    <tr>\n",
       "      <th>3</th>\n",
       "      <td>가드맨</td>\n",
       "      <td>1.0</td>\n",
       "    </tr>\n",
       "    <tr>\n",
       "      <th>4</th>\n",
       "      <td>가드미</td>\n",
       "      <td>2.0</td>\n",
       "    </tr>\n",
       "    <tr>\n",
       "      <th>...</th>\n",
       "      <td>...</td>\n",
       "      <td>...</td>\n",
       "    </tr>\n",
       "    <tr>\n",
       "      <th>8051</th>\n",
       "      <td>5Star4A</td>\n",
       "      <td>1.0</td>\n",
       "    </tr>\n",
       "    <tr>\n",
       "      <th>8052</th>\n",
       "      <td>5일동안</td>\n",
       "      <td>3.0</td>\n",
       "    </tr>\n",
       "    <tr>\n",
       "      <th>8053</th>\n",
       "      <td>76N1</td>\n",
       "      <td>8.0</td>\n",
       "    </tr>\n",
       "    <tr>\n",
       "      <th>8054</th>\n",
       "      <td>87발렌타인</td>\n",
       "      <td>1.0</td>\n",
       "    </tr>\n",
       "    <tr>\n",
       "      <th>8055</th>\n",
       "      <td>9컴플렉스</td>\n",
       "      <td>1.0</td>\n",
       "    </tr>\n",
       "  </tbody>\n",
       "</table>\n",
       "<p>8056 rows × 2 columns</p>\n",
       "</div>"
      ],
      "text/plain": [
       "         브랜드명  product count (df_brd_w_prd_v2)\n",
       "0       가가알로에                              1.0\n",
       "1         가그린                             15.0\n",
       "2         가네보                             12.0\n",
       "3         가드맨                              1.0\n",
       "4         가드미                              2.0\n",
       "...       ...                              ...\n",
       "8051  5Star4A                              1.0\n",
       "8052     5일동안                              3.0\n",
       "8053     76N1                              8.0\n",
       "8054   87발렌타인                              1.0\n",
       "8055    9컴플렉스                              1.0\n",
       "\n",
       "[8056 rows x 2 columns]"
      ]
     },
     "execution_count": 521,
     "metadata": {},
     "output_type": "execute_result"
    }
   ],
   "source": [
    "df_brd_w_prd_v2_grp_cnt"
   ]
  },
  {
   "cell_type": "code",
   "execution_count": 522,
   "id": "0dd16a9f-691d-4b06-9840-e44b9b1ec87d",
   "metadata": {},
   "outputs": [],
   "source": [
    "grp_cnt = v4_grp_cnt.merge(df_brd_w_prd_v2_grp_cnt, how=\"inner\", on=\"브랜드명\")"
   ]
  },
  {
   "cell_type": "code",
   "execution_count": 523,
   "id": "f878e1a1-3e65-4a4e-b81a-001dcbe19ffb",
   "metadata": {},
   "outputs": [
    {
     "data": {
      "text/html": [
       "<div>\n",
       "<style scoped>\n",
       "    .dataframe tbody tr th:only-of-type {\n",
       "        vertical-align: middle;\n",
       "    }\n",
       "\n",
       "    .dataframe tbody tr th {\n",
       "        vertical-align: top;\n",
       "    }\n",
       "\n",
       "    .dataframe thead th {\n",
       "        text-align: right;\n",
       "    }\n",
       "</style>\n",
       "<table border=\"1\" class=\"dataframe\">\n",
       "  <thead>\n",
       "    <tr style=\"text-align: right;\">\n",
       "      <th></th>\n",
       "      <th>브랜드명</th>\n",
       "      <th>product count (v4)</th>\n",
       "      <th>product count (df_brd_w_prd_v2)</th>\n",
       "    </tr>\n",
       "  </thead>\n",
       "  <tbody>\n",
       "    <tr>\n",
       "      <th>0</th>\n",
       "      <td>16BRAND</td>\n",
       "      <td>95</td>\n",
       "      <td>95.0</td>\n",
       "    </tr>\n",
       "    <tr>\n",
       "      <th>1</th>\n",
       "      <td>23 years old</td>\n",
       "      <td>74</td>\n",
       "      <td>74.0</td>\n",
       "    </tr>\n",
       "    <tr>\n",
       "      <th>2</th>\n",
       "      <td>3CE</td>\n",
       "      <td>289</td>\n",
       "      <td>289.0</td>\n",
       "    </tr>\n",
       "    <tr>\n",
       "      <th>3</th>\n",
       "      <td>76N1</td>\n",
       "      <td>8</td>\n",
       "      <td>8.0</td>\n",
       "    </tr>\n",
       "    <tr>\n",
       "      <th>4</th>\n",
       "      <td>AHC</td>\n",
       "      <td>437</td>\n",
       "      <td>438.0</td>\n",
       "    </tr>\n",
       "    <tr>\n",
       "      <th>...</th>\n",
       "      <td>...</td>\n",
       "      <td>...</td>\n",
       "      <td>...</td>\n",
       "    </tr>\n",
       "    <tr>\n",
       "      <th>1466</th>\n",
       "      <td>히말라야</td>\n",
       "      <td>60</td>\n",
       "      <td>61.0</td>\n",
       "    </tr>\n",
       "    <tr>\n",
       "      <th>1467</th>\n",
       "      <td>히스테모</td>\n",
       "      <td>2</td>\n",
       "      <td>2.0</td>\n",
       "    </tr>\n",
       "    <tr>\n",
       "      <th>1468</th>\n",
       "      <td>히즈클린</td>\n",
       "      <td>2</td>\n",
       "      <td>2.0</td>\n",
       "    </tr>\n",
       "    <tr>\n",
       "      <th>1469</th>\n",
       "      <td>힐링버드</td>\n",
       "      <td>89</td>\n",
       "      <td>90.0</td>\n",
       "    </tr>\n",
       "    <tr>\n",
       "      <th>1470</th>\n",
       "      <td>힐시드</td>\n",
       "      <td>2</td>\n",
       "      <td>2.0</td>\n",
       "    </tr>\n",
       "  </tbody>\n",
       "</table>\n",
       "<p>1471 rows × 3 columns</p>\n",
       "</div>"
      ],
      "text/plain": [
       "              브랜드명  product count (v4)  product count (df_brd_w_prd_v2)\n",
       "0          16BRAND                  95                             95.0\n",
       "1     23 years old                  74                             74.0\n",
       "2              3CE                 289                            289.0\n",
       "3             76N1                   8                              8.0\n",
       "4              AHC                 437                            438.0\n",
       "...            ...                 ...                              ...\n",
       "1466          히말라야                  60                             61.0\n",
       "1467          히스테모                   2                              2.0\n",
       "1468          히즈클린                   2                              2.0\n",
       "1469          힐링버드                  89                             90.0\n",
       "1470           힐시드                   2                              2.0\n",
       "\n",
       "[1471 rows x 3 columns]"
      ]
     },
     "execution_count": 523,
     "metadata": {},
     "output_type": "execute_result"
    }
   ],
   "source": [
    "grp_cnt"
   ]
  },
  {
   "cell_type": "code",
   "execution_count": 306,
   "id": "457758f9-34b0-488d-a133-b6ec9f21e3d0",
   "metadata": {
    "collapsed": true,
    "jupyter": {
     "outputs_hidden": true
    },
    "tags": []
   },
   "outputs": [
    {
     "name": "stdout",
     "output_type": "stream",
     "text": [
      "[단종]  앞머리 헤어롤\n",
      "[단종]  슬림헤드 면도기\n",
      "[단종]  올리브영 멀티 코튼 [5겹] 화장솜\n",
      "[단종]  4D 모션브러쉬\n",
      "[단종]  1/2 화장솜\n",
      "[단종]  버블 거품망\n",
      "[단종]  실키 화장솜\n",
      "[단종]  엠보싱 화장솜\n",
      "[단종]  클렌징퍼프\n",
      "[단종]  실키마인 화장솜\n",
      "[단종]  밀착퍼프\n",
      "[단종]  집게 헤어롤\n",
      "[단종]  알루미늄 헤어롤\n",
      "[단종]  아이 메이크업 브러쉬 세트\n",
      "[단종]  립브러쉬\n",
      "[단종]  브러쉬드라이클린스폰지\n",
      "[단종]  곤약 클렌징 퍼프\n",
      "[단종]  고급 압축 퍼프 (원형2P)\n",
      "[단종]  프리미엄 화장솜\n",
      "[단종]  고급 해면 스폰지\n",
      "[단종]  WHP 수분강화 숯 클렌징폼\n",
      "[단종]  모찌퍼프\n",
      "[단종]  극세사 큐티글로브\n",
      "[단종]  라운드 화장솜\n",
      "[단종]  다이아스펀지\n",
      "[단종]  순면 화장솜\n",
      "[단종]  솜털 세안 모공 브러시\n",
      "[단종]  쿠션 퍼프\n",
      "[단종]  티슈 화장솜\n",
      "[단종]  스킨티슈 화장솜\n",
      "[단종]  끙가퍼프\n",
      "[단종]  일반 화장솜\n",
      "[단종]  티트리 피부진정 숯 클렌징 폼\n",
      "[단종]  HDP 모공청정 숯 클렌징 폼\n"
     ]
    }
   ],
   "source": [
    "for i in range(len(list(df_brd_w_prd_v2.loc[df_brd_w_prd_v2[\"brand_name\"]==\"올리브영\", 'product_name'])[0])):\n",
    "    if list(df_brd_w_prd_v2.loc[df_brd_w_prd_v2[\"brand_name\"]==\"올리브영\", 'product_name'])[0][i].strip() not in list(v4.loc[v4[\"브랜드명\"]==\"올리브영\", '제품명'].st):\n",
    "        print(list(df_brd_w_prd_v2.loc[df_brd_w_prd_v2[\"brand_name\"]==\"올리브영\", 'product_name'])[0][i])"
   ]
  },
  {
   "cell_type": "code",
   "execution_count": 524,
   "id": "89f9b5d9-86cf-4a66-bd2b-34698bc763c0",
   "metadata": {},
   "outputs": [],
   "source": [
    "grp_cnt.to_csv(\"grp_cnt.csv\")"
   ]
  },
  {
   "cell_type": "code",
   "execution_count": 528,
   "id": "31279639-d06c-4f7d-b682-1ae882b136dd",
   "metadata": {
    "tags": []
   },
   "outputs": [],
   "source": [
    "v4_more_than_df_brd_w_prd_v2 = []\n",
    "df_brd_w_prd_v2_more_than_v4 = []\n",
    "for i in range(len(grp_cnt)):\n",
    "    if grp_cnt.loc[i, 'product count (v4)'] > grp_cnt.loc[i, 'product count (df_brd_w_prd_v2)']:\n",
    "        v4_more_than_df_brd_w_prd_v2.append(grp_cnt.loc[i, '브랜드명'])\n",
    "    elif grp_cnt.loc[i, 'product count (v4)'] < grp_cnt.loc[i, 'product count (df_brd_w_prd_v2)']:\n",
    "        df_brd_w_prd_v2_more_than_v4.append(grp_cnt.loc[i, '브랜드명'])\n",
    "    else:\n",
    "        continue"
   ]
  },
  {
   "cell_type": "code",
   "execution_count": 529,
   "id": "d68bf6d7-4307-4c48-b109-2f1aec9857b1",
   "metadata": {},
   "outputs": [
    {
     "data": {
      "text/plain": [
       "21"
      ]
     },
     "execution_count": 529,
     "metadata": {},
     "output_type": "execute_result"
    }
   ],
   "source": [
    "len(v4_more_than_df_brd_w_prd_v2)"
   ]
  },
  {
   "cell_type": "code",
   "execution_count": 530,
   "id": "4a970982-9d6c-4835-b590-c929fb14ffe9",
   "metadata": {},
   "outputs": [
    {
     "data": {
      "text/plain": [
       "227"
      ]
     },
     "execution_count": 530,
     "metadata": {},
     "output_type": "execute_result"
    }
   ],
   "source": [
    "len(df_brd_w_prd_v2_more_than_v4)"
   ]
  },
  {
   "cell_type": "code",
   "execution_count": 531,
   "id": "c35e9fc5-1389-4fed-b5b4-1ac46a194f66",
   "metadata": {
    "collapsed": true,
    "jupyter": {
     "outputs_hidden": true
    },
    "tags": []
   },
   "outputs": [
    {
     "data": {
      "text/plain": [
       "['AHC',\n",
       " 'VDL',\n",
       " '게볼',\n",
       " '게스',\n",
       " '구달',\n",
       " '그라운드플랜',\n",
       " '김정문알로에',\n",
       " '꼬달리',\n",
       " '끌라삐엘',\n",
       " '네슈라',\n",
       " '네오젠 더마로지',\n",
       " '네이처리퍼블릭',\n",
       " '노비드',\n",
       " '뉴트로지나',\n",
       " '니들리',\n",
       " '니베아',\n",
       " '닐스야드 레머디스',\n",
       " '닥터레미듀',\n",
       " '닥터브로너스',\n",
       " '닥터에이지',\n",
       " '닥터엘시아',\n",
       " '닥터오킴스',\n",
       " '닥터자르트',\n",
       " '닥터크롬셀',\n",
       " '닥터플로라',\n",
       " '닥터헤디슨',\n",
       " '달바',\n",
       " '더 비건 글로우',\n",
       " '더래쉬',\n",
       " '더마토리',\n",
       " '더마펌',\n",
       " '더바디샵',\n",
       " '더블유랩',\n",
       " '더샘',\n",
       " '더프트앤도프트',\n",
       " '더플랜트베이스',\n",
       " '데메테르',\n",
       " '데싱디바',\n",
       " '데이멜로우',\n",
       " '데이지크',\n",
       " '데저트에센스',\n",
       " '드끌레오',\n",
       " '디어달리아',\n",
       " '디오메르',\n",
       " '땡큐파머',\n",
       " '라네즈',\n",
       " '라노아',\n",
       " '라미화장품',\n",
       " '라운드랩',\n",
       " '라임',\n",
       " '렛미스킨',\n",
       " '로레알파리',\n",
       " '로이비',\n",
       " '로제',\n",
       " '록시땅',\n",
       " '루시앤코',\n",
       " '르 라보',\n",
       " '르누베르',\n",
       " '르샤트라 1802',\n",
       " '리리코스',\n",
       " '리엔',\n",
       " '리쥬란',\n",
       " '린제이',\n",
       " '마녀공장',\n",
       " '맥',\n",
       " '메디필',\n",
       " '메디힐',\n",
       " '메이블린 뉴욕',\n",
       " '모모쏘우',\n",
       " '문샷',\n",
       " '미미로린스',\n",
       " '미샤',\n",
       " '미팩토리',\n",
       " '믹순',\n",
       " '바닐라코',\n",
       " '바이오더마',\n",
       " '버츠비',\n",
       " '베리홉',\n",
       " '벤튼',\n",
       " '벨레다',\n",
       " '보나벨라',\n",
       " '보나쥬르',\n",
       " '보타니티',\n",
       " '부케가르니',\n",
       " '뷰티레시피',\n",
       " '뷰티클로',\n",
       " '블레스문',\n",
       " '비바이바닐라',\n",
       " '비비드스튜디오',\n",
       " '비오르',\n",
       " '비욘드',\n",
       " '비클',\n",
       " '비페스타',\n",
       " '비플레인',\n",
       " '빌리프',\n",
       " '쁘레띠앙',\n",
       " '산다화',\n",
       " '샤넬',\n",
       " '설화수',\n",
       " '세바메드',\n",
       " '세이어스',\n",
       " '세인트이브스',\n",
       " '세타필',\n",
       " '센텐스',\n",
       " '센텔리안24',\n",
       " '셀라피',\n",
       " '셀레피트',\n",
       " '셀앤비',\n",
       " '셀퓨전씨',\n",
       " '소문',\n",
       " '소티스',\n",
       " '솔테라피',\n",
       " '솝하우스',\n",
       " '숨37˚',\n",
       " '쉭앤칙',\n",
       " '스웨거',\n",
       " '스킨알엑스랩',\n",
       " '스킨푸드',\n",
       " '스톤브릭',\n",
       " '시드물',\n",
       " '시크릿키',\n",
       " '시크릿플랜트',\n",
       " '싸이닉',\n",
       " '썸바이미',\n",
       " '아델리오',\n",
       " '아도르',\n",
       " '아로마티카',\n",
       " '아리얼',\n",
       " '아비노',\n",
       " '아이소이',\n",
       " '아크네스',\n",
       " '애즈이즈투비',\n",
       " '야다',\n",
       " '어뮤즈',\n",
       " '어퓨',\n",
       " '업타운리즈',\n",
       " '에네스티',\n",
       " '에뛰드',\n",
       " '에센스',\n",
       " '에스쁘아',\n",
       " '에이지투웨니스',\n",
       " '엘리자베스아덴',\n",
       " '엘프 코스메틱스',\n",
       " '예스뷰티',\n",
       " '오가니스트',\n",
       " '오브베이스',\n",
       " '오아',\n",
       " '오제끄',\n",
       " '오휘',\n",
       " '온더바디',\n",
       " '원데이즈유',\n",
       " '원씽',\n",
       " '위드샨',\n",
       " '이니스프리',\n",
       " '이브롬',\n",
       " '이스키아',\n",
       " '이아소',\n",
       " '이아이오',\n",
       " '이자녹스',\n",
       " '이즈앤트리',\n",
       " '이퀄베리',\n",
       " '입큰',\n",
       " '잇츠스킨',\n",
       " '자연의벗',\n",
       " '정샘물',\n",
       " '정직한실험실',\n",
       " '제무',\n",
       " '제스젭',\n",
       " '제이숲',\n",
       " '제이준',\n",
       " '참존',\n",
       " '찹스',\n",
       " '천사연구소',\n",
       " '치노시오야',\n",
       " '카라디움',\n",
       " '케라시스',\n",
       " '케어존',\n",
       " '케이트',\n",
       " '코나드',\n",
       " '코드글로컬러',\n",
       " '코링코',\n",
       " '콤마나인',\n",
       " '클리오',\n",
       " '킵쿨',\n",
       " '토니모리',\n",
       " '투쿨포스쿨',\n",
       " '티엘스',\n",
       " '파뮤',\n",
       " '페리페라',\n",
       " '편강율',\n",
       " '포렌코즈',\n",
       " '폰즈',\n",
       " '폴텐',\n",
       " '퓨어포레',\n",
       " '프레쉬라이트',\n",
       " '프레쥬',\n",
       " '프리메라',\n",
       " '프리플러스',\n",
       " '플라리아',\n",
       " '플루',\n",
       " '피에이치드롭',\n",
       " '피지오겔',\n",
       " '피치베리',\n",
       " '피키스킨',\n",
       " '피토레스코',\n",
       " '피토트리',\n",
       " '필로소피',\n",
       " '필링빈',\n",
       " '하늘호수',\n",
       " '하다라보',\n",
       " '하예진',\n",
       " '하트퍼센트',\n",
       " '한스킨',\n",
       " '한율',\n",
       " '해피바스',\n",
       " '헉슬리',\n",
       " '헤라',\n",
       " '헤이미쉬',\n",
       " '헬렌박',\n",
       " '호피걸',\n",
       " '홀리카홀리카',\n",
       " '화이트',\n",
       " '후르디아',\n",
       " '휘게',\n",
       " '히든랩',\n",
       " '히말라야',\n",
       " '힐링버드']"
      ]
     },
     "execution_count": 531,
     "metadata": {},
     "output_type": "execute_result"
    }
   ],
   "source": [
    "df_brd_w_prd_v2_more_than_v4"
   ]
  },
  {
   "cell_type": "code",
   "execution_count": 350,
   "id": "8023ab03-136a-4c9d-9e84-0b248331d00a",
   "metadata": {},
   "outputs": [
    {
     "data": {
      "text/html": [
       "<div>\n",
       "<style scoped>\n",
       "    .dataframe tbody tr th:only-of-type {\n",
       "        vertical-align: middle;\n",
       "    }\n",
       "\n",
       "    .dataframe tbody tr th {\n",
       "        vertical-align: top;\n",
       "    }\n",
       "\n",
       "    .dataframe thead th {\n",
       "        text-align: right;\n",
       "    }\n",
       "</style>\n",
       "<table border=\"1\" class=\"dataframe\">\n",
       "  <thead>\n",
       "    <tr style=\"text-align: right;\">\n",
       "      <th></th>\n",
       "      <th>브랜드명</th>\n",
       "      <th>product count (v4)</th>\n",
       "      <th>product count (df_brd_w_prd_v2)</th>\n",
       "    </tr>\n",
       "  </thead>\n",
       "  <tbody>\n",
       "    <tr>\n",
       "      <th>267</th>\n",
       "      <td>라이온</td>\n",
       "      <td>23</td>\n",
       "      <td>21.0</td>\n",
       "    </tr>\n",
       "  </tbody>\n",
       "</table>\n",
       "</div>"
      ],
      "text/plain": [
       "    브랜드명  product count (v4)  product count (df_brd_w_prd_v2)\n",
       "267  라이온                  23                             21.0"
      ]
     },
     "execution_count": 350,
     "metadata": {},
     "output_type": "execute_result"
    }
   ],
   "source": [
    "grp_cnt.loc[grp_cnt[\"브랜드명\"]==\"라이온\", :]"
   ]
  },
  {
   "cell_type": "code",
   "execution_count": 351,
   "id": "f6d1b9b3-7430-4939-b6c7-2611ced58d9f",
   "metadata": {},
   "outputs": [],
   "source": [
    "lst = []\n",
    "for i in range(len(list(df_brd_w_prd_v2.loc[df_brd_w_prd_v2[\"brand_name\"]==\"라이온\", 'product_name'])[0])):\n",
    "    lst.append(list(df_brd_w_prd_v2.loc[df_brd_w_prd_v2[\"brand_name\"]==\"라이온\", 'product_name'])[0][i].replace(' ', ''))"
   ]
  },
  {
   "cell_type": "code",
   "execution_count": 352,
   "id": "1ac8efd4-3c7b-4f1a-8bdc-10fa278c30a6",
   "metadata": {
    "tags": []
   },
   "outputs": [
    {
     "name": "stdout",
     "output_type": "stream",
     "text": [
      "페어 아크네 클렌징 폼\n",
      "냉감테라피 아이스 페이스 메이크오버 시트\n",
      "2\n"
     ]
    }
   ],
   "source": [
    "cnt = 0\n",
    "for i in range(len(list(v4.loc[v4[\"브랜드명\"]==\"라이온\", '제품명']))):\n",
    "    if list(v4.loc[v4[\"브랜드명\"]==\"라이온\", '제품명'])[i].replace(' ', '') not in lst:\n",
    "        print(list(v4.loc[v4[\"브랜드명\"]==\"라이온\", '제품명'])[i])\n",
    "        cnt += 1\n",
    "print(cnt)"
   ]
  },
  {
   "cell_type": "code",
   "execution_count": 277,
   "id": "c430c535-af99-4779-980e-d83b7f673848",
   "metadata": {},
   "outputs": [
    {
     "data": {
      "text/plain": [
       "19304    Slow'와 'Rawganic'의 합성어인 슬로가닉 클렌저는 질 좋은 천연 유래 원...\n",
       "Name: 제품 설명, dtype: object"
      ]
     },
     "execution_count": 277,
     "metadata": {},
     "output_type": "execute_result"
    }
   ],
   "source": [
    "v4.loc[v4[\"제품명\"]== '슬로가닉 클렌저 레몬', '제품 설명']"
   ]
  },
  {
   "cell_type": "code",
   "execution_count": 311,
   "id": "2eb2b9ce-2c8d-463d-af78-3d1b3b4de231",
   "metadata": {},
   "outputs": [],
   "source": [
    "review = pd.read_csv(\"gf_raw_fl_jver.csv\")\n",
    "review = review.iloc[:, 1:]"
   ]
  },
  {
   "cell_type": "code",
   "execution_count": 366,
   "id": "519e7b8a-6be4-4384-ae73-ffaf6aad6b44",
   "metadata": {
    "collapsed": true,
    "jupyter": {
     "outputs_hidden": true
    },
    "tags": []
   },
   "outputs": [
    {
     "name": "stdout",
     "output_type": "stream",
     "text": [
      "18318\n",
      "18560\n",
      "18573\n",
      "53115\n"
     ]
    },
    {
     "ename": "IndexError",
     "evalue": "list index out of range",
     "output_type": "error",
     "traceback": [
      "\u001b[0;31m---------------------------------------------------------------------------\u001b[0m",
      "\u001b[0;31mIndexError\u001b[0m                                Traceback (most recent call last)",
      "\u001b[0;32m/var/folders/tv/sztrkqb546s2j8khvdnkrrnr0000gn/T/ipykernel_15981/2197237506.py\u001b[0m in \u001b[0;36m<module>\u001b[0;34m\u001b[0m\n\u001b[1;32m      2\u001b[0m \u001b[0;32mfor\u001b[0m \u001b[0mi\u001b[0m \u001b[0;32min\u001b[0m \u001b[0mrange\u001b[0m\u001b[0;34m(\u001b[0m\u001b[0mlen\u001b[0m\u001b[0;34m(\u001b[0m\u001b[0mreview\u001b[0m\u001b[0;34m)\u001b[0m\u001b[0;34m)\u001b[0m\u001b[0;34m:\u001b[0m\u001b[0;34m\u001b[0m\u001b[0;34m\u001b[0m\u001b[0m\n\u001b[1;32m      3\u001b[0m     \u001b[0mdict_\u001b[0m \u001b[0;34m=\u001b[0m \u001b[0mliteral_eval\u001b[0m\u001b[0;34m(\u001b[0m\u001b[0mreview\u001b[0m\u001b[0;34m.\u001b[0m\u001b[0mloc\u001b[0m\u001b[0;34m[\u001b[0m\u001b[0mi\u001b[0m\u001b[0;34m,\u001b[0m \u001b[0;34m'product_info'\u001b[0m\u001b[0;34m]\u001b[0m\u001b[0;34m)\u001b[0m\u001b[0;34m\u001b[0m\u001b[0;34m\u001b[0m\u001b[0m\n\u001b[0;32m----> 4\u001b[0;31m     \u001b[0;32mif\u001b[0m \u001b[0mlist\u001b[0m\u001b[0;34m(\u001b[0m\u001b[0mdict_\u001b[0m\u001b[0;34m.\u001b[0m\u001b[0mvalues\u001b[0m\u001b[0;34m(\u001b[0m\u001b[0;34m)\u001b[0m\u001b[0;34m)\u001b[0m\u001b[0;34m[\u001b[0m\u001b[0;36m0\u001b[0m\u001b[0;34m]\u001b[0m \u001b[0;34m==\u001b[0m \u001b[0;34m'뷰티피플'\u001b[0m\u001b[0;34m:\u001b[0m\u001b[0;34m\u001b[0m\u001b[0;34m\u001b[0m\u001b[0m\n\u001b[0m\u001b[1;32m      5\u001b[0m         \u001b[0mprint\u001b[0m\u001b[0;34m(\u001b[0m\u001b[0mi\u001b[0m\u001b[0;34m)\u001b[0m\u001b[0;34m\u001b[0m\u001b[0;34m\u001b[0m\u001b[0m\n\u001b[1;32m      6\u001b[0m     \u001b[0;32melse\u001b[0m\u001b[0;34m:\u001b[0m\u001b[0;34m\u001b[0m\u001b[0;34m\u001b[0m\u001b[0m\n",
      "\u001b[0;31mIndexError\u001b[0m: list index out of range"
     ]
    }
   ],
   "source": [
    "import ast\n",
    "for i in range(len(review)):\n",
    "    dict_ = literal_eval(review.loc[i, 'product_info'])\n",
    "    if list(dict_.values())[0] == '뷰티피플':\n",
    "        print(i)\n",
    "    else:\n",
    "        continue"
   ]
  },
  {
   "cell_type": "code",
   "execution_count": 238,
   "id": "1f063437-39bc-49e1-9d26-66814e58a18a",
   "metadata": {},
   "outputs": [
    {
     "name": "stdout",
     "output_type": "stream",
     "text": [
      "v4에서 상품이 중복된 브랜드 개수:  12\n"
     ]
    }
   ],
   "source": [
    "#v4에서 상품이 중복된 경우의 수 파악\n",
    "dup_cnt = 0\n",
    "for brd in v4_more_than_df_brd_w_prd_v2:\n",
    "    if len(list(v4.loc[v4[\"브랜드명\"]== brd, \"제품명\"])) != len(list(set(list(v4.loc[v4[\"브랜드명\"]== brd, \"제품명\"])))):\n",
    "        dup_cnt += 1\n",
    "print(\"v4에서 상품이 중복된 브랜드 개수: \", dup_cnt)"
   ]
  },
  {
   "cell_type": "markdown",
   "id": "e21aa9a9-81b6-4c8f-ba8d-c7c55830bb08",
   "metadata": {},
   "source": [
    "# v4보다 적게 크롤링 된 브랜드 다시 크롤링"
   ]
  },
  {
   "cell_type": "code",
   "execution_count": 322,
   "id": "19ecbbf3-343b-4faa-82ce-60ae7565a5f1",
   "metadata": {
    "collapsed": true,
    "jupyter": {
     "outputs_hidden": true
    },
    "tags": []
   },
   "outputs": [
    {
     "data": {
      "text/plain": [
       "['누리숲',\n",
       " '더블유드레스룸',\n",
       " '라벨영',\n",
       " '라이온',\n",
       " '라포랩',\n",
       " '레시피',\n",
       " '리엔케이',\n",
       " '마몽드',\n",
       " '마쉐리',\n",
       " '메디플라워',\n",
       " '미쉘메르시에',\n",
       " '미즈온',\n",
       " '벨',\n",
       " '보니앤제이',\n",
       " '뷰티피플',\n",
       " '비쉬',\n",
       " '세이어스',\n",
       " '에버에센스',\n",
       " '엘프 코스메틱스',\n",
       " '올리브영',\n",
       " '자이모겐',\n",
       " '제이에스티나 뷰티',\n",
       " '착한팩토리',\n",
       " '카이',\n",
       " '코츠비',\n",
       " '티스',\n",
       " '티스',\n",
       " '티타니아',\n",
       " '파에온',\n",
       " '팜스테이',\n",
       " '프레쉬',\n",
       " '프레쉬',\n",
       " '프리엔제']"
      ]
     },
     "execution_count": 322,
     "metadata": {},
     "output_type": "execute_result"
    }
   ],
   "source": [
    "v4_more_than_df_brd_w_prd_v2"
   ]
  },
  {
   "cell_type": "code",
   "execution_count": 395,
   "id": "2e2ea4ba-6331-44f0-8471-bd6b767676f3",
   "metadata": {},
   "outputs": [],
   "source": [
    "dict_prd_link_tmp = {}\n",
    "dict_prd_name_tmp = defaultdict(list)"
   ]
  },
  {
   "cell_type": "code",
   "execution_count": 397,
   "id": "8b42046e-ce11-4988-8c9f-3da57cd924ff",
   "metadata": {
    "collapsed": true,
    "jupyter": {
     "outputs_hidden": true,
     "source_hidden": true
    },
    "tags": []
   },
   "outputs": [
    {
     "name": "stderr",
     "output_type": "stream",
     "text": [
      "\n",
      "\n",
      "====== WebDriver manager ======\n",
      "Current google-chrome version is 93.0.4577\n",
      "Get LATEST driver version for 93.0.4577\n"
     ]
    },
    {
     "name": "stdout",
     "output_type": "stream",
     "text": [
      "Mozilla/5.0 (Windows NT 6.2; WOW64) AppleWebKit/537.36 (KHTML, like Gecko) Chrome/27.0.1500.55 Safari/537.36\n"
     ]
    },
    {
     "name": "stderr",
     "output_type": "stream",
     "text": [
      "Driver [C:\\Users\\keunb\\.wdm\\drivers\\chromedriver\\win32\\93.0.4577.63\\chromedriver.exe] found in cache\n",
      "\n",
      "\n",
      "====== WebDriver manager ======\n",
      "Current google-chrome version is 93.0.4577\n",
      "Get LATEST driver version for 93.0.4577\n"
     ]
    },
    {
     "name": "stdout",
     "output_type": "stream",
     "text": [
      "Mozilla/5.0 (Windows NT 6.2; WOW64) AppleWebKit/537.15 (KHTML, like Gecko) Chrome/24.0.1295.0 Safari/537.15\n"
     ]
    },
    {
     "name": "stderr",
     "output_type": "stream",
     "text": [
      "Driver [C:\\Users\\keunb\\.wdm\\drivers\\chromedriver\\win32\\93.0.4577.63\\chromedriver.exe] found in cache\n",
      "\n",
      "\n",
      "====== WebDriver manager ======\n",
      "Current google-chrome version is 93.0.4577\n",
      "Get LATEST driver version for 93.0.4577\n"
     ]
    },
    {
     "name": "stdout",
     "output_type": "stream",
     "text": [
      "Mozilla/5.0 (Windows NT 5.1) AppleWebKit/537.36 (KHTML, like Gecko) Chrome/34.0.1847.116 Safari/537.36 Mozilla/5.0 (iPad; U; CPU OS 3_2 like Mac OS X; en-us) AppleWebKit/531.21.10 (KHTML, like Gecko) Version/4.0.4 Mobile/7B334b Safari/531.21.10\n"
     ]
    },
    {
     "name": "stderr",
     "output_type": "stream",
     "text": [
      "Driver [C:\\Users\\keunb\\.wdm\\drivers\\chromedriver\\win32\\93.0.4577.63\\chromedriver.exe] found in cache\n",
      "\n",
      "\n",
      "====== WebDriver manager ======\n",
      "Current google-chrome version is 93.0.4577\n",
      "Get LATEST driver version for 93.0.4577\n"
     ]
    },
    {
     "name": "stdout",
     "output_type": "stream",
     "text": [
      "Mozilla/5.0 (Windows NT 6.1; WOW64; rv:23.0) Gecko/20130406 Firefox/23.0\n"
     ]
    },
    {
     "name": "stderr",
     "output_type": "stream",
     "text": [
      "Driver [C:\\Users\\keunb\\.wdm\\drivers\\chromedriver\\win32\\93.0.4577.63\\chromedriver.exe] found in cache\n",
      "\n",
      "\n",
      "====== WebDriver manager ======\n",
      "Current google-chrome version is 93.0.4577\n",
      "Get LATEST driver version for 93.0.4577\n"
     ]
    },
    {
     "name": "stdout",
     "output_type": "stream",
     "text": [
      "Mozilla/5.0 (Windows NT 6.3; Win64; x64) AppleWebKit/537.36 (KHTML, like Gecko) Chrome/37.0.2049.0 Safari/537.36\n"
     ]
    },
    {
     "name": "stderr",
     "output_type": "stream",
     "text": [
      "Driver [C:\\Users\\keunb\\.wdm\\drivers\\chromedriver\\win32\\93.0.4577.63\\chromedriver.exe] found in cache\n",
      "\n",
      "\n",
      "====== WebDriver manager ======\n"
     ]
    },
    {
     "name": "stdout",
     "output_type": "stream",
     "text": [
      "Mozilla/5.0 (Windows NT 5.1) AppleWebKit/537.36 (KHTML, like Gecko) Chrome/27.0.1453.93 Safari/537.36\n"
     ]
    },
    {
     "name": "stderr",
     "output_type": "stream",
     "text": [
      "Current google-chrome version is 93.0.4577\n",
      "Get LATEST driver version for 93.0.4577\n",
      "Driver [C:\\Users\\keunb\\.wdm\\drivers\\chromedriver\\win32\\93.0.4577.63\\chromedriver.exe] found in cache\n",
      "\n",
      "\n",
      "====== WebDriver manager ======\n",
      "Current google-chrome version is 93.0.4577\n",
      "Get LATEST driver version for 93.0.4577\n"
     ]
    },
    {
     "name": "stdout",
     "output_type": "stream",
     "text": [
      "Mozilla/5.0 (Macintosh; Intel Mac OS X 10_8_2) AppleWebKit/537.17 (KHTML, like Gecko) Chrome/24.0.1309.0 Safari/537.17\n"
     ]
    },
    {
     "name": "stderr",
     "output_type": "stream",
     "text": [
      "Driver [C:\\Users\\keunb\\.wdm\\drivers\\chromedriver\\win32\\93.0.4577.63\\chromedriver.exe] found in cache\n",
      "\n",
      "\n",
      "====== WebDriver manager ======\n"
     ]
    },
    {
     "name": "stdout",
     "output_type": "stream",
     "text": [
      "Mozilla/5.0 (Windows NT 5.1) AppleWebKit/537.36 (KHTML, like Gecko) Chrome/34.0.1866.237 Safari/537.36\n"
     ]
    },
    {
     "name": "stderr",
     "output_type": "stream",
     "text": [
      "Current google-chrome version is 93.0.4577\n",
      "Get LATEST driver version for 93.0.4577\n",
      "Driver [C:\\Users\\keunb\\.wdm\\drivers\\chromedriver\\win32\\93.0.4577.63\\chromedriver.exe] found in cache\n",
      "\n",
      "\n",
      "====== WebDriver manager ======\n",
      "Current google-chrome version is 93.0.4577\n",
      "Get LATEST driver version for 93.0.4577\n"
     ]
    },
    {
     "name": "stdout",
     "output_type": "stream",
     "text": [
      "Mozilla/5.0 (Macintosh; Intel Mac OS X 10_8_0) AppleWebKit/537.36 (KHTML, like Gecko) Chrome/32.0.1664.3 Safari/537.36\n"
     ]
    },
    {
     "name": "stderr",
     "output_type": "stream",
     "text": [
      "Driver [C:\\Users\\keunb\\.wdm\\drivers\\chromedriver\\win32\\93.0.4577.63\\chromedriver.exe] found in cache\n",
      "\n",
      "\n",
      "====== WebDriver manager ======\n",
      "Current google-chrome version is 93.0.4577\n",
      "Get LATEST driver version for 93.0.4577\n",
      "Driver [C:\\Users\\keunb\\.wdm\\drivers\\chromedriver\\win32\\93.0.4577.63\\chromedriver.exe] found in cache\n"
     ]
    },
    {
     "name": "stdout",
     "output_type": "stream",
     "text": [
      "Mozilla/5.0 (X11; OpenBSD i386) AppleWebKit/537.36 (KHTML, like Gecko) Chrome/36.0.1985.125 Safari/537.36\n"
     ]
    },
    {
     "name": "stderr",
     "output_type": "stream",
     "text": [
      "\n",
      "\n",
      "====== WebDriver manager ======\n",
      "Current google-chrome version is 93.0.4577\n",
      "Get LATEST driver version for 93.0.4577\n"
     ]
    },
    {
     "name": "stdout",
     "output_type": "stream",
     "text": [
      "Mozilla/5.0 (X11; CrOS i686 4319.74.0) AppleWebKit/537.36 (KHTML, like Gecko) Chrome/29.0.1547.57 Safari/537.36\n"
     ]
    },
    {
     "name": "stderr",
     "output_type": "stream",
     "text": [
      "Driver [C:\\Users\\keunb\\.wdm\\drivers\\chromedriver\\win32\\93.0.4577.63\\chromedriver.exe] found in cache\n",
      "\n",
      "\n",
      "====== WebDriver manager ======\n",
      "Current google-chrome version is 93.0.4577\n",
      "Get LATEST driver version for 93.0.4577\n"
     ]
    },
    {
     "name": "stdout",
     "output_type": "stream",
     "text": [
      "Mozilla/5.0 (Macintosh; Intel Mac OS X 10_8_2) AppleWebKit/537.17 (KHTML, like Gecko) Chrome/24.0.1309.0 Safari/537.17\n"
     ]
    },
    {
     "name": "stderr",
     "output_type": "stream",
     "text": [
      "Driver [C:\\Users\\keunb\\.wdm\\drivers\\chromedriver\\win32\\93.0.4577.63\\chromedriver.exe] found in cache\n",
      "\n",
      "\n",
      "====== WebDriver manager ======\n",
      "Current google-chrome version is 93.0.4577\n",
      "Get LATEST driver version for 93.0.4577\n"
     ]
    },
    {
     "name": "stdout",
     "output_type": "stream",
     "text": [
      "Mozilla/5.0 (Windows NT 6.3; WOW64) AppleWebKit/537.36 (KHTML, like Gecko) Chrome/41.0.2225.0 Safari/537.36\n"
     ]
    },
    {
     "name": "stderr",
     "output_type": "stream",
     "text": [
      "Driver [C:\\Users\\keunb\\.wdm\\drivers\\chromedriver\\win32\\93.0.4577.63\\chromedriver.exe] found in cache\n"
     ]
    },
    {
     "ename": "KeyboardInterrupt",
     "evalue": "",
     "output_type": "error",
     "traceback": [
      "\u001b[1;31m---------------------------------------------------------------------------\u001b[0m",
      "\u001b[1;31mKeyboardInterrupt\u001b[0m                         Traceback (most recent call last)",
      "\u001b[1;32m~\\AppData\\Local\\Temp/ipykernel_13936/692597481.py\u001b[0m in \u001b[0;36m<module>\u001b[1;34m\u001b[0m\n\u001b[0;32m     48\u001b[0m             \u001b[0mtime\u001b[0m\u001b[1;33m.\u001b[0m\u001b[0msleep\u001b[0m\u001b[1;33m(\u001b[0m\u001b[1;36m2\u001b[0m\u001b[1;33m)\u001b[0m\u001b[1;33m\u001b[0m\u001b[1;33m\u001b[0m\u001b[0m\n\u001b[0;32m     49\u001b[0m \u001b[1;33m\u001b[0m\u001b[0m\n\u001b[1;32m---> 50\u001b[1;33m             \u001b[0mproduct_lst_2\u001b[0m \u001b[1;33m=\u001b[0m \u001b[0mparsing_html_with_class\u001b[0m\u001b[1;33m(\u001b[0m\u001b[1;33m)\u001b[0m\u001b[1;33m\u001b[0m\u001b[1;33m\u001b[0m\u001b[0m\n\u001b[0m\u001b[0;32m     51\u001b[0m \u001b[1;33m\u001b[0m\u001b[0m\n\u001b[0;32m     52\u001b[0m             \u001b[1;32mif\u001b[0m \u001b[0mproduct_lst\u001b[0m \u001b[1;33m==\u001b[0m \u001b[0mproduct_lst_2\u001b[0m\u001b[1;33m:\u001b[0m\u001b[1;33m\u001b[0m\u001b[1;33m\u001b[0m\u001b[0m\n",
      "\u001b[1;32m~\\AppData\\Local\\Temp/ipykernel_13936/692597481.py\u001b[0m in \u001b[0;36mparsing_html_with_class\u001b[1;34m(parsing_info)\u001b[0m\n\u001b[0;32m     30\u001b[0m     \u001b[1;32mdef\u001b[0m \u001b[0mparsing_html_with_class\u001b[0m\u001b[1;33m(\u001b[0m\u001b[0mparsing_info\u001b[0m \u001b[1;33m=\u001b[0m \u001b[1;34m'.products'\u001b[0m\u001b[1;33m)\u001b[0m\u001b[1;33m:\u001b[0m\u001b[1;33m\u001b[0m\u001b[1;33m\u001b[0m\u001b[0m\n\u001b[0;32m     31\u001b[0m         \u001b[0mhtml\u001b[0m \u001b[1;33m=\u001b[0m \u001b[0mwd\u001b[0m\u001b[1;33m.\u001b[0m\u001b[0mpage_source\u001b[0m\u001b[1;33m\u001b[0m\u001b[1;33m\u001b[0m\u001b[0m\n\u001b[1;32m---> 32\u001b[1;33m         \u001b[0msoup\u001b[0m \u001b[1;33m=\u001b[0m \u001b[0msoup\u001b[0m \u001b[1;33m=\u001b[0m \u001b[0mBeautifulSoup\u001b[0m\u001b[1;33m(\u001b[0m\u001b[0mhtml\u001b[0m\u001b[1;33m,\u001b[0m \u001b[1;34m\"html.parser\"\u001b[0m\u001b[1;33m)\u001b[0m\u001b[1;33m\u001b[0m\u001b[1;33m\u001b[0m\u001b[0m\n\u001b[0m\u001b[0;32m     33\u001b[0m         \u001b[0minterm_r\u001b[0m \u001b[1;33m=\u001b[0m \u001b[0msoup\u001b[0m\u001b[1;33m.\u001b[0m\u001b[0mselect\u001b[0m\u001b[1;33m(\u001b[0m\u001b[0mparsing_info\u001b[0m\u001b[1;33m)\u001b[0m\u001b[1;33m\u001b[0m\u001b[1;33m\u001b[0m\u001b[0m\n\u001b[0;32m     34\u001b[0m         \u001b[1;32mreturn\u001b[0m \u001b[0minterm_r\u001b[0m\u001b[1;33m\u001b[0m\u001b[1;33m\u001b[0m\u001b[0m\n",
      "\u001b[1;32m~\\.conda\\envs\\mycelebs_glowpick_cr\\lib\\site-packages\\bs4\\__init__.py\u001b[0m in \u001b[0;36m__init__\u001b[1;34m(self, markup, features, builder, parse_only, from_encoding, exclude_encodings, element_classes, **kwargs)\u001b[0m\n\u001b[0;32m    360\u001b[0m             \u001b[0mself\u001b[0m\u001b[1;33m.\u001b[0m\u001b[0mreset\u001b[0m\u001b[1;33m(\u001b[0m\u001b[1;33m)\u001b[0m\u001b[1;33m\u001b[0m\u001b[1;33m\u001b[0m\u001b[0m\n\u001b[0;32m    361\u001b[0m             \u001b[1;32mtry\u001b[0m\u001b[1;33m:\u001b[0m\u001b[1;33m\u001b[0m\u001b[1;33m\u001b[0m\u001b[0m\n\u001b[1;32m--> 362\u001b[1;33m                 \u001b[0mself\u001b[0m\u001b[1;33m.\u001b[0m\u001b[0m_feed\u001b[0m\u001b[1;33m(\u001b[0m\u001b[1;33m)\u001b[0m\u001b[1;33m\u001b[0m\u001b[1;33m\u001b[0m\u001b[0m\n\u001b[0m\u001b[0;32m    363\u001b[0m                 \u001b[0msuccess\u001b[0m \u001b[1;33m=\u001b[0m \u001b[1;32mTrue\u001b[0m\u001b[1;33m\u001b[0m\u001b[1;33m\u001b[0m\u001b[0m\n\u001b[0;32m    364\u001b[0m                 \u001b[1;32mbreak\u001b[0m\u001b[1;33m\u001b[0m\u001b[1;33m\u001b[0m\u001b[0m\n",
      "\u001b[1;32m~\\.conda\\envs\\mycelebs_glowpick_cr\\lib\\site-packages\\bs4\\__init__.py\u001b[0m in \u001b[0;36m_feed\u001b[1;34m(self)\u001b[0m\n\u001b[0;32m    446\u001b[0m         \u001b[0mself\u001b[0m\u001b[1;33m.\u001b[0m\u001b[0mbuilder\u001b[0m\u001b[1;33m.\u001b[0m\u001b[0mreset\u001b[0m\u001b[1;33m(\u001b[0m\u001b[1;33m)\u001b[0m\u001b[1;33m\u001b[0m\u001b[1;33m\u001b[0m\u001b[0m\n\u001b[0;32m    447\u001b[0m \u001b[1;33m\u001b[0m\u001b[0m\n\u001b[1;32m--> 448\u001b[1;33m         \u001b[0mself\u001b[0m\u001b[1;33m.\u001b[0m\u001b[0mbuilder\u001b[0m\u001b[1;33m.\u001b[0m\u001b[0mfeed\u001b[0m\u001b[1;33m(\u001b[0m\u001b[0mself\u001b[0m\u001b[1;33m.\u001b[0m\u001b[0mmarkup\u001b[0m\u001b[1;33m)\u001b[0m\u001b[1;33m\u001b[0m\u001b[1;33m\u001b[0m\u001b[0m\n\u001b[0m\u001b[0;32m    449\u001b[0m         \u001b[1;31m# Close out any unfinished strings and close all the open tags.\u001b[0m\u001b[1;33m\u001b[0m\u001b[1;33m\u001b[0m\u001b[0m\n\u001b[0;32m    450\u001b[0m         \u001b[0mself\u001b[0m\u001b[1;33m.\u001b[0m\u001b[0mendData\u001b[0m\u001b[1;33m(\u001b[0m\u001b[1;33m)\u001b[0m\u001b[1;33m\u001b[0m\u001b[1;33m\u001b[0m\u001b[0m\n",
      "\u001b[1;32m~\\.conda\\envs\\mycelebs_glowpick_cr\\lib\\site-packages\\bs4\\builder\\_htmlparser.py\u001b[0m in \u001b[0;36mfeed\u001b[1;34m(self, markup)\u001b[0m\n\u001b[0;32m    390\u001b[0m         \u001b[0mparser\u001b[0m\u001b[1;33m.\u001b[0m\u001b[0msoup\u001b[0m \u001b[1;33m=\u001b[0m \u001b[0mself\u001b[0m\u001b[1;33m.\u001b[0m\u001b[0msoup\u001b[0m\u001b[1;33m\u001b[0m\u001b[1;33m\u001b[0m\u001b[0m\n\u001b[0;32m    391\u001b[0m         \u001b[1;32mtry\u001b[0m\u001b[1;33m:\u001b[0m\u001b[1;33m\u001b[0m\u001b[1;33m\u001b[0m\u001b[0m\n\u001b[1;32m--> 392\u001b[1;33m             \u001b[0mparser\u001b[0m\u001b[1;33m.\u001b[0m\u001b[0mfeed\u001b[0m\u001b[1;33m(\u001b[0m\u001b[0mmarkup\u001b[0m\u001b[1;33m)\u001b[0m\u001b[1;33m\u001b[0m\u001b[1;33m\u001b[0m\u001b[0m\n\u001b[0m\u001b[0;32m    393\u001b[0m             \u001b[0mparser\u001b[0m\u001b[1;33m.\u001b[0m\u001b[0mclose\u001b[0m\u001b[1;33m(\u001b[0m\u001b[1;33m)\u001b[0m\u001b[1;33m\u001b[0m\u001b[1;33m\u001b[0m\u001b[0m\n\u001b[0;32m    394\u001b[0m         \u001b[1;32mexcept\u001b[0m \u001b[0mHTMLParseError\u001b[0m \u001b[1;32mas\u001b[0m \u001b[0me\u001b[0m\u001b[1;33m:\u001b[0m\u001b[1;33m\u001b[0m\u001b[1;33m\u001b[0m\u001b[0m\n",
      "\u001b[1;32m~\\.conda\\envs\\mycelebs_glowpick_cr\\lib\\html\\parser.py\u001b[0m in \u001b[0;36mfeed\u001b[1;34m(self, data)\u001b[0m\n\u001b[0;32m    108\u001b[0m         \"\"\"\n\u001b[0;32m    109\u001b[0m         \u001b[0mself\u001b[0m\u001b[1;33m.\u001b[0m\u001b[0mrawdata\u001b[0m \u001b[1;33m=\u001b[0m \u001b[0mself\u001b[0m\u001b[1;33m.\u001b[0m\u001b[0mrawdata\u001b[0m \u001b[1;33m+\u001b[0m \u001b[0mdata\u001b[0m\u001b[1;33m\u001b[0m\u001b[1;33m\u001b[0m\u001b[0m\n\u001b[1;32m--> 110\u001b[1;33m         \u001b[0mself\u001b[0m\u001b[1;33m.\u001b[0m\u001b[0mgoahead\u001b[0m\u001b[1;33m(\u001b[0m\u001b[1;36m0\u001b[0m\u001b[1;33m)\u001b[0m\u001b[1;33m\u001b[0m\u001b[1;33m\u001b[0m\u001b[0m\n\u001b[0m\u001b[0;32m    111\u001b[0m \u001b[1;33m\u001b[0m\u001b[0m\n\u001b[0;32m    112\u001b[0m     \u001b[1;32mdef\u001b[0m \u001b[0mclose\u001b[0m\u001b[1;33m(\u001b[0m\u001b[0mself\u001b[0m\u001b[1;33m)\u001b[0m\u001b[1;33m:\u001b[0m\u001b[1;33m\u001b[0m\u001b[1;33m\u001b[0m\u001b[0m\n",
      "\u001b[1;32m~\\.conda\\envs\\mycelebs_glowpick_cr\\lib\\html\\parser.py\u001b[0m in \u001b[0;36mgoahead\u001b[1;34m(self, end)\u001b[0m\n\u001b[0;32m    168\u001b[0m             \u001b[1;32mif\u001b[0m \u001b[0mstartswith\u001b[0m\u001b[1;33m(\u001b[0m\u001b[1;34m'<'\u001b[0m\u001b[1;33m,\u001b[0m \u001b[0mi\u001b[0m\u001b[1;33m)\u001b[0m\u001b[1;33m:\u001b[0m\u001b[1;33m\u001b[0m\u001b[1;33m\u001b[0m\u001b[0m\n\u001b[0;32m    169\u001b[0m                 \u001b[1;32mif\u001b[0m \u001b[0mstarttagopen\u001b[0m\u001b[1;33m.\u001b[0m\u001b[0mmatch\u001b[0m\u001b[1;33m(\u001b[0m\u001b[0mrawdata\u001b[0m\u001b[1;33m,\u001b[0m \u001b[0mi\u001b[0m\u001b[1;33m)\u001b[0m\u001b[1;33m:\u001b[0m \u001b[1;31m# < + letter\u001b[0m\u001b[1;33m\u001b[0m\u001b[1;33m\u001b[0m\u001b[0m\n\u001b[1;32m--> 170\u001b[1;33m                     \u001b[0mk\u001b[0m \u001b[1;33m=\u001b[0m \u001b[0mself\u001b[0m\u001b[1;33m.\u001b[0m\u001b[0mparse_starttag\u001b[0m\u001b[1;33m(\u001b[0m\u001b[0mi\u001b[0m\u001b[1;33m)\u001b[0m\u001b[1;33m\u001b[0m\u001b[1;33m\u001b[0m\u001b[0m\n\u001b[0m\u001b[0;32m    171\u001b[0m                 \u001b[1;32melif\u001b[0m \u001b[0mstartswith\u001b[0m\u001b[1;33m(\u001b[0m\u001b[1;34m\"</\"\u001b[0m\u001b[1;33m,\u001b[0m \u001b[0mi\u001b[0m\u001b[1;33m)\u001b[0m\u001b[1;33m:\u001b[0m\u001b[1;33m\u001b[0m\u001b[1;33m\u001b[0m\u001b[0m\n\u001b[0;32m    172\u001b[0m                     \u001b[0mk\u001b[0m \u001b[1;33m=\u001b[0m \u001b[0mself\u001b[0m\u001b[1;33m.\u001b[0m\u001b[0mparse_endtag\u001b[0m\u001b[1;33m(\u001b[0m\u001b[0mi\u001b[0m\u001b[1;33m)\u001b[0m\u001b[1;33m\u001b[0m\u001b[1;33m\u001b[0m\u001b[0m\n",
      "\u001b[1;32m~\\.conda\\envs\\mycelebs_glowpick_cr\\lib\\html\\parser.py\u001b[0m in \u001b[0;36mparse_starttag\u001b[1;34m(self, i)\u001b[0m\n\u001b[0;32m    314\u001b[0m         \u001b[1;32mwhile\u001b[0m \u001b[0mk\u001b[0m \u001b[1;33m<\u001b[0m \u001b[0mendpos\u001b[0m\u001b[1;33m:\u001b[0m\u001b[1;33m\u001b[0m\u001b[1;33m\u001b[0m\u001b[0m\n\u001b[0;32m    315\u001b[0m             \u001b[0mm\u001b[0m \u001b[1;33m=\u001b[0m \u001b[0mattrfind_tolerant\u001b[0m\u001b[1;33m.\u001b[0m\u001b[0mmatch\u001b[0m\u001b[1;33m(\u001b[0m\u001b[0mrawdata\u001b[0m\u001b[1;33m,\u001b[0m \u001b[0mk\u001b[0m\u001b[1;33m)\u001b[0m\u001b[1;33m\u001b[0m\u001b[1;33m\u001b[0m\u001b[0m\n\u001b[1;32m--> 316\u001b[1;33m             \u001b[1;32mif\u001b[0m \u001b[1;32mnot\u001b[0m \u001b[0mm\u001b[0m\u001b[1;33m:\u001b[0m\u001b[1;33m\u001b[0m\u001b[1;33m\u001b[0m\u001b[0m\n\u001b[0m\u001b[0;32m    317\u001b[0m                 \u001b[1;32mbreak\u001b[0m\u001b[1;33m\u001b[0m\u001b[1;33m\u001b[0m\u001b[0m\n\u001b[0;32m    318\u001b[0m             \u001b[0mattrname\u001b[0m\u001b[1;33m,\u001b[0m \u001b[0mrest\u001b[0m\u001b[1;33m,\u001b[0m \u001b[0mattrvalue\u001b[0m \u001b[1;33m=\u001b[0m \u001b[0mm\u001b[0m\u001b[1;33m.\u001b[0m\u001b[0mgroup\u001b[0m\u001b[1;33m(\u001b[0m\u001b[1;36m1\u001b[0m\u001b[1;33m,\u001b[0m \u001b[1;36m2\u001b[0m\u001b[1;33m,\u001b[0m \u001b[1;36m3\u001b[0m\u001b[1;33m)\u001b[0m\u001b[1;33m\u001b[0m\u001b[1;33m\u001b[0m\u001b[0m\n",
      "\u001b[1;31mKeyboardInterrupt\u001b[0m: "
     ]
    }
   ],
   "source": [
    "for brd in v4_more_than_df_brd_w_prd_v2:\n",
    "    brd_name = brd\n",
    "\n",
    "    options = Options()\n",
    "    ua = UserAgent()\n",
    "    userAgent = ua.random\n",
    "    print(userAgent)\n",
    "\n",
    "    options.add_argument('headless')\n",
    "    options.add_argument('window-size=1920x1080')\n",
    "    options.add_argument(\"disable-gpu\")\n",
    "    options.add_argument(f'user-agent={userAgent}')\n",
    "    wd = webdriver.Chrome(ChromeDriverManager().install(), chrome_options=options)\n",
    "\n",
    "    socket.setdefaulttimeout(30)\n",
    "\n",
    "    url = 'https:/www.glowpick.com/searches/keywords'\n",
    "    wd.get(url)\n",
    "    time.sleep(5)\n",
    "\n",
    "    wd.find_element_by_xpath(\"//*[@id='default-layout']/div/div[1]/span/div/div[2]/div[2]/button[2]\").click()\n",
    "    wd.maximize_window()\n",
    "    time.sleep(3)\n",
    "\n",
    "    brd_input = wd.find_element_by_xpath(\"//*[@id='default-layout']/div/div[2]/div/div/div/input\")\n",
    "    brd_input.send_keys(brd_name)\n",
    "    brd_input.send_keys(Keys.ENTER)\n",
    "    time.sleep(3)\n",
    "\n",
    "    def parsing_html_with_class(parsing_info = '.products'):\n",
    "        html = wd.page_source\n",
    "        soup = soup = BeautifulSoup(html, \"html.parser\")\n",
    "        interm_r = soup.select(parsing_info)\n",
    "        return interm_r\n",
    "\n",
    "    try:\n",
    "        while True:\n",
    "            prd_link = []\n",
    "            prd_name = []\n",
    "\n",
    "            product_lst = parsing_html_with_class()\n",
    "            product_len = len(re.findall('<div class=\"products__product product\" (.*?)', str(product_lst[0])))\n",
    "\n",
    "            #while wd.find_elements_by_class_name('details__brand')[product_len].text[:len(brd_name)] == brd_name:\n",
    "\n",
    "            element = wd.find_element_by_xpath('/html/body/div/div/div/div/main/div/section/div[2]/div/div[1]/span/div[{}]'.format(product_len - 1))\n",
    "            wd.execute_script(\"arguments[0].scrollIntoView(true);\", element)\n",
    "            time.sleep(2)\n",
    "\n",
    "            product_lst_2 = parsing_html_with_class()\n",
    "\n",
    "            if product_lst == product_lst_2:\n",
    "                for i in range(product_len):\n",
    "                    if (re.sub(r'\\([^)]*\\)', '', wd.find_elements_by_class_name('details__brand')[i].text).strip()) == brd_name:\n",
    "                        code = re.findall('<div class=\"products__product product\" (.*?)id=\"(.*?)\">', str(product_lst[0]))[i][1].split('-')[-1]\n",
    "                        link = 'https://www.glowpick.com/products/' + code\n",
    "                        prd_link.append(link)\n",
    "                        dict_prd_name_tmp[brd_name].append(wd.find_elements_by_class_name('details__product')[i].text)\n",
    "                dict_prd_link_tmp[brd_name] = prd_link\n",
    "                break\n",
    "\n",
    "    except NoSuchElementException:\n",
    "        for i in range(product_len):\n",
    "            if (re.sub(r'\\([^)]*\\)', '', wd.find_elements_by_class_name('details__brand')[i].text).strip()) == brd_name:\n",
    "                code = re.findall('<div class=\"products__product product\" (.*?)id=\"(.*?)\">', str(product_lst[0]))[i][1].split('-')[-1]\n",
    "                link = 'https://www.glowpick.com/products/' + code\n",
    "                prd_link.append(link)\n",
    "                dict_prd_name_tmp[brd_name].append(wd.find_elements_by_class_name('details__product')[i].text)\n",
    "        dict_prd_link_tmp[brd_name] = prd_link  "
   ]
  },
  {
   "cell_type": "code",
   "execution_count": 392,
   "id": "92144f35-fb2a-4abc-b63a-1814995e87c1",
   "metadata": {},
   "outputs": [],
   "source": [
    "import pickle\n",
    "\n",
    "with open(\"dict_prd_link_tmp.txt\", \"rb\") as f:\n",
    "    dict_prd_link_tmp = pickle.load(f)\n",
    "    \n",
    "with open(\"dict_prd_name_tmp.txt\", \"rb\") as f:\n",
    "    dict_prd_name_tmp = pickle.load(f)"
   ]
  },
  {
   "cell_type": "code",
   "execution_count": 412,
   "id": "34b513c3-1aae-402c-8937-d96ed368439e",
   "metadata": {
    "collapsed": true,
    "jupyter": {
     "outputs_hidden": true
    },
    "tags": []
   },
   "outputs": [
    {
     "ename": "ValueError",
     "evalue": "could not broadcast input array from shape (33,) into shape (1,)",
     "output_type": "error",
     "traceback": [
      "\u001b[0;31m---------------------------------------------------------------------------\u001b[0m",
      "\u001b[0;31mValueError\u001b[0m                                Traceback (most recent call last)",
      "\u001b[0;32m/var/folders/tv/sztrkqb546s2j8khvdnkrrnr0000gn/T/ipykernel_15981/3396546783.py\u001b[0m in \u001b[0;36m<module>\u001b[0;34m\u001b[0m\n\u001b[1;32m      1\u001b[0m \u001b[0;32mfor\u001b[0m \u001b[0mi\u001b[0m \u001b[0;32min\u001b[0m \u001b[0mrange\u001b[0m\u001b[0;34m(\u001b[0m\u001b[0mlen\u001b[0m\u001b[0;34m(\u001b[0m\u001b[0mlist\u001b[0m\u001b[0;34m(\u001b[0m\u001b[0mdict_prd_link_tmp\u001b[0m\u001b[0;34m.\u001b[0m\u001b[0mkeys\u001b[0m\u001b[0;34m(\u001b[0m\u001b[0;34m)\u001b[0m\u001b[0;34m)\u001b[0m\u001b[0;34m)\u001b[0m\u001b[0;34m)\u001b[0m\u001b[0;34m:\u001b[0m\u001b[0;34m\u001b[0m\u001b[0;34m\u001b[0m\u001b[0m\n\u001b[1;32m      2\u001b[0m     \u001b[0mbrd_name\u001b[0m \u001b[0;34m=\u001b[0m \u001b[0mlist\u001b[0m\u001b[0;34m(\u001b[0m\u001b[0mdict_prd_link_tmp\u001b[0m\u001b[0;34m.\u001b[0m\u001b[0mkeys\u001b[0m\u001b[0;34m(\u001b[0m\u001b[0;34m)\u001b[0m\u001b[0;34m)\u001b[0m\u001b[0;34m[\u001b[0m\u001b[0mi\u001b[0m\u001b[0;34m]\u001b[0m\u001b[0;34m\u001b[0m\u001b[0;34m\u001b[0m\u001b[0m\n\u001b[0;32m----> 3\u001b[0;31m     \u001b[0mdf_brd_w_prd_v2\u001b[0m\u001b[0;34m.\u001b[0m\u001b[0mloc\u001b[0m\u001b[0;34m[\u001b[0m\u001b[0mdf_brd_w_prd_v2\u001b[0m\u001b[0;34m[\u001b[0m\u001b[0;34m'brand_name'\u001b[0m\u001b[0;34m]\u001b[0m\u001b[0;34m==\u001b[0m \u001b[0mbrd_name\u001b[0m\u001b[0;34m,\u001b[0m \u001b[0;34m\"product_link\"\u001b[0m\u001b[0;34m]\u001b[0m \u001b[0;34m=\u001b[0m \u001b[0mlist\u001b[0m\u001b[0;34m(\u001b[0m\u001b[0mdict_prd_link_tmp\u001b[0m\u001b[0;34m.\u001b[0m\u001b[0mvalues\u001b[0m\u001b[0;34m(\u001b[0m\u001b[0;34m)\u001b[0m\u001b[0;34m)\u001b[0m\u001b[0;34m[\u001b[0m\u001b[0mi\u001b[0m\u001b[0;34m]\u001b[0m\u001b[0;34m\u001b[0m\u001b[0;34m\u001b[0m\u001b[0m\n\u001b[0m\u001b[1;32m      4\u001b[0m     \u001b[0mdf_brd_w_prd_v2\u001b[0m\u001b[0;34m.\u001b[0m\u001b[0mloc\u001b[0m\u001b[0;34m[\u001b[0m\u001b[0mdf_brd_w_prd_v2\u001b[0m\u001b[0;34m[\u001b[0m\u001b[0;34m'brand_name'\u001b[0m\u001b[0;34m]\u001b[0m\u001b[0;34m==\u001b[0m \u001b[0mbrd_name\u001b[0m\u001b[0;34m,\u001b[0m \u001b[0;34m\"product_name\"\u001b[0m\u001b[0;34m]\u001b[0m \u001b[0;34m=\u001b[0m \u001b[0mlist\u001b[0m\u001b[0;34m(\u001b[0m\u001b[0mdict_prd_name_tmp\u001b[0m\u001b[0;34m.\u001b[0m\u001b[0mvalues\u001b[0m\u001b[0;34m(\u001b[0m\u001b[0;34m)\u001b[0m\u001b[0;34m)\u001b[0m\u001b[0;34m[\u001b[0m\u001b[0mi\u001b[0m\u001b[0;34m]\u001b[0m\u001b[0;34m\u001b[0m\u001b[0;34m\u001b[0m\u001b[0m\n",
      "\u001b[0;32m~/opt/anaconda3/envs/preprocessing/lib/python3.8/site-packages/pandas/core/indexing.py\u001b[0m in \u001b[0;36m__setitem__\u001b[0;34m(self, key, value)\u001b[0m\n\u001b[1;32m    721\u001b[0m \u001b[0;34m\u001b[0m\u001b[0m\n\u001b[1;32m    722\u001b[0m         \u001b[0miloc\u001b[0m \u001b[0;34m=\u001b[0m \u001b[0mself\u001b[0m \u001b[0;32mif\u001b[0m \u001b[0mself\u001b[0m\u001b[0;34m.\u001b[0m\u001b[0mname\u001b[0m \u001b[0;34m==\u001b[0m \u001b[0;34m\"iloc\"\u001b[0m \u001b[0;32melse\u001b[0m \u001b[0mself\u001b[0m\u001b[0;34m.\u001b[0m\u001b[0mobj\u001b[0m\u001b[0;34m.\u001b[0m\u001b[0miloc\u001b[0m\u001b[0;34m\u001b[0m\u001b[0;34m\u001b[0m\u001b[0m\n\u001b[0;32m--> 723\u001b[0;31m         \u001b[0miloc\u001b[0m\u001b[0;34m.\u001b[0m\u001b[0m_setitem_with_indexer\u001b[0m\u001b[0;34m(\u001b[0m\u001b[0mindexer\u001b[0m\u001b[0;34m,\u001b[0m \u001b[0mvalue\u001b[0m\u001b[0;34m,\u001b[0m \u001b[0mself\u001b[0m\u001b[0;34m.\u001b[0m\u001b[0mname\u001b[0m\u001b[0;34m)\u001b[0m\u001b[0;34m\u001b[0m\u001b[0;34m\u001b[0m\u001b[0m\n\u001b[0m\u001b[1;32m    724\u001b[0m \u001b[0;34m\u001b[0m\u001b[0m\n\u001b[1;32m    725\u001b[0m     \u001b[0;32mdef\u001b[0m \u001b[0m_validate_key\u001b[0m\u001b[0;34m(\u001b[0m\u001b[0mself\u001b[0m\u001b[0;34m,\u001b[0m \u001b[0mkey\u001b[0m\u001b[0;34m,\u001b[0m \u001b[0maxis\u001b[0m\u001b[0;34m:\u001b[0m \u001b[0mint\u001b[0m\u001b[0;34m)\u001b[0m\u001b[0;34m:\u001b[0m\u001b[0;34m\u001b[0m\u001b[0;34m\u001b[0m\u001b[0m\n",
      "\u001b[0;32m~/opt/anaconda3/envs/preprocessing/lib/python3.8/site-packages/pandas/core/indexing.py\u001b[0m in \u001b[0;36m_setitem_with_indexer\u001b[0;34m(self, indexer, value, name)\u001b[0m\n\u001b[1;32m   1730\u001b[0m             \u001b[0mself\u001b[0m\u001b[0;34m.\u001b[0m\u001b[0m_setitem_with_indexer_split_path\u001b[0m\u001b[0;34m(\u001b[0m\u001b[0mindexer\u001b[0m\u001b[0;34m,\u001b[0m \u001b[0mvalue\u001b[0m\u001b[0;34m,\u001b[0m \u001b[0mname\u001b[0m\u001b[0;34m)\u001b[0m\u001b[0;34m\u001b[0m\u001b[0;34m\u001b[0m\u001b[0m\n\u001b[1;32m   1731\u001b[0m         \u001b[0;32melse\u001b[0m\u001b[0;34m:\u001b[0m\u001b[0;34m\u001b[0m\u001b[0;34m\u001b[0m\u001b[0m\n\u001b[0;32m-> 1732\u001b[0;31m             \u001b[0mself\u001b[0m\u001b[0;34m.\u001b[0m\u001b[0m_setitem_single_block\u001b[0m\u001b[0;34m(\u001b[0m\u001b[0mindexer\u001b[0m\u001b[0;34m,\u001b[0m \u001b[0mvalue\u001b[0m\u001b[0;34m,\u001b[0m \u001b[0mname\u001b[0m\u001b[0;34m)\u001b[0m\u001b[0;34m\u001b[0m\u001b[0;34m\u001b[0m\u001b[0m\n\u001b[0m\u001b[1;32m   1733\u001b[0m \u001b[0;34m\u001b[0m\u001b[0m\n\u001b[1;32m   1734\u001b[0m     \u001b[0;32mdef\u001b[0m \u001b[0m_setitem_with_indexer_split_path\u001b[0m\u001b[0;34m(\u001b[0m\u001b[0mself\u001b[0m\u001b[0;34m,\u001b[0m \u001b[0mindexer\u001b[0m\u001b[0;34m,\u001b[0m \u001b[0mvalue\u001b[0m\u001b[0;34m,\u001b[0m \u001b[0mname\u001b[0m\u001b[0;34m:\u001b[0m \u001b[0mstr\u001b[0m\u001b[0;34m)\u001b[0m\u001b[0;34m:\u001b[0m\u001b[0;34m\u001b[0m\u001b[0;34m\u001b[0m\u001b[0m\n",
      "\u001b[0;32m~/opt/anaconda3/envs/preprocessing/lib/python3.8/site-packages/pandas/core/indexing.py\u001b[0m in \u001b[0;36m_setitem_single_block\u001b[0;34m(self, indexer, value, name)\u001b[0m\n\u001b[1;32m   1966\u001b[0m \u001b[0;34m\u001b[0m\u001b[0m\n\u001b[1;32m   1967\u001b[0m         \u001b[0;31m# actually do the set\u001b[0m\u001b[0;34m\u001b[0m\u001b[0;34m\u001b[0m\u001b[0;34m\u001b[0m\u001b[0m\n\u001b[0;32m-> 1968\u001b[0;31m         \u001b[0mself\u001b[0m\u001b[0;34m.\u001b[0m\u001b[0mobj\u001b[0m\u001b[0;34m.\u001b[0m\u001b[0m_mgr\u001b[0m \u001b[0;34m=\u001b[0m \u001b[0mself\u001b[0m\u001b[0;34m.\u001b[0m\u001b[0mobj\u001b[0m\u001b[0;34m.\u001b[0m\u001b[0m_mgr\u001b[0m\u001b[0;34m.\u001b[0m\u001b[0msetitem\u001b[0m\u001b[0;34m(\u001b[0m\u001b[0mindexer\u001b[0m\u001b[0;34m=\u001b[0m\u001b[0mindexer\u001b[0m\u001b[0;34m,\u001b[0m \u001b[0mvalue\u001b[0m\u001b[0;34m=\u001b[0m\u001b[0mvalue\u001b[0m\u001b[0;34m)\u001b[0m\u001b[0;34m\u001b[0m\u001b[0;34m\u001b[0m\u001b[0m\n\u001b[0m\u001b[1;32m   1969\u001b[0m         \u001b[0mself\u001b[0m\u001b[0;34m.\u001b[0m\u001b[0mobj\u001b[0m\u001b[0;34m.\u001b[0m\u001b[0m_maybe_update_cacher\u001b[0m\u001b[0;34m(\u001b[0m\u001b[0mclear\u001b[0m\u001b[0;34m=\u001b[0m\u001b[0;32mTrue\u001b[0m\u001b[0;34m)\u001b[0m\u001b[0;34m\u001b[0m\u001b[0;34m\u001b[0m\u001b[0m\n\u001b[1;32m   1970\u001b[0m \u001b[0;34m\u001b[0m\u001b[0m\n",
      "\u001b[0;32m~/opt/anaconda3/envs/preprocessing/lib/python3.8/site-packages/pandas/core/internals/managers.py\u001b[0m in \u001b[0;36msetitem\u001b[0;34m(self, indexer, value)\u001b[0m\n\u001b[1;32m    353\u001b[0m \u001b[0;34m\u001b[0m\u001b[0m\n\u001b[1;32m    354\u001b[0m     \u001b[0;32mdef\u001b[0m \u001b[0msetitem\u001b[0m\u001b[0;34m(\u001b[0m\u001b[0mself\u001b[0m\u001b[0;34m:\u001b[0m \u001b[0mT\u001b[0m\u001b[0;34m,\u001b[0m \u001b[0mindexer\u001b[0m\u001b[0;34m,\u001b[0m \u001b[0mvalue\u001b[0m\u001b[0;34m)\u001b[0m \u001b[0;34m->\u001b[0m \u001b[0mT\u001b[0m\u001b[0;34m:\u001b[0m\u001b[0;34m\u001b[0m\u001b[0;34m\u001b[0m\u001b[0m\n\u001b[0;32m--> 355\u001b[0;31m         \u001b[0;32mreturn\u001b[0m \u001b[0mself\u001b[0m\u001b[0;34m.\u001b[0m\u001b[0mapply\u001b[0m\u001b[0;34m(\u001b[0m\u001b[0;34m\"setitem\"\u001b[0m\u001b[0;34m,\u001b[0m \u001b[0mindexer\u001b[0m\u001b[0;34m=\u001b[0m\u001b[0mindexer\u001b[0m\u001b[0;34m,\u001b[0m \u001b[0mvalue\u001b[0m\u001b[0;34m=\u001b[0m\u001b[0mvalue\u001b[0m\u001b[0;34m)\u001b[0m\u001b[0;34m\u001b[0m\u001b[0;34m\u001b[0m\u001b[0m\n\u001b[0m\u001b[1;32m    356\u001b[0m \u001b[0;34m\u001b[0m\u001b[0m\n\u001b[1;32m    357\u001b[0m     \u001b[0;32mdef\u001b[0m \u001b[0mputmask\u001b[0m\u001b[0;34m(\u001b[0m\u001b[0mself\u001b[0m\u001b[0;34m,\u001b[0m \u001b[0mmask\u001b[0m\u001b[0;34m,\u001b[0m \u001b[0mnew\u001b[0m\u001b[0;34m,\u001b[0m \u001b[0malign\u001b[0m\u001b[0;34m:\u001b[0m \u001b[0mbool\u001b[0m \u001b[0;34m=\u001b[0m \u001b[0;32mTrue\u001b[0m\u001b[0;34m)\u001b[0m\u001b[0;34m:\u001b[0m\u001b[0;34m\u001b[0m\u001b[0;34m\u001b[0m\u001b[0m\n",
      "\u001b[0;32m~/opt/anaconda3/envs/preprocessing/lib/python3.8/site-packages/pandas/core/internals/managers.py\u001b[0m in \u001b[0;36mapply\u001b[0;34m(self, f, align_keys, ignore_failures, **kwargs)\u001b[0m\n\u001b[1;32m    325\u001b[0m                     \u001b[0mapplied\u001b[0m \u001b[0;34m=\u001b[0m \u001b[0mb\u001b[0m\u001b[0;34m.\u001b[0m\u001b[0mapply\u001b[0m\u001b[0;34m(\u001b[0m\u001b[0mf\u001b[0m\u001b[0;34m,\u001b[0m \u001b[0;34m**\u001b[0m\u001b[0mkwargs\u001b[0m\u001b[0;34m)\u001b[0m\u001b[0;34m\u001b[0m\u001b[0;34m\u001b[0m\u001b[0m\n\u001b[1;32m    326\u001b[0m                 \u001b[0;32melse\u001b[0m\u001b[0;34m:\u001b[0m\u001b[0;34m\u001b[0m\u001b[0;34m\u001b[0m\u001b[0m\n\u001b[0;32m--> 327\u001b[0;31m                     \u001b[0mapplied\u001b[0m \u001b[0;34m=\u001b[0m \u001b[0mgetattr\u001b[0m\u001b[0;34m(\u001b[0m\u001b[0mb\u001b[0m\u001b[0;34m,\u001b[0m \u001b[0mf\u001b[0m\u001b[0;34m)\u001b[0m\u001b[0;34m(\u001b[0m\u001b[0;34m**\u001b[0m\u001b[0mkwargs\u001b[0m\u001b[0;34m)\u001b[0m\u001b[0;34m\u001b[0m\u001b[0;34m\u001b[0m\u001b[0m\n\u001b[0m\u001b[1;32m    328\u001b[0m             \u001b[0;32mexcept\u001b[0m \u001b[0;34m(\u001b[0m\u001b[0mTypeError\u001b[0m\u001b[0;34m,\u001b[0m \u001b[0mNotImplementedError\u001b[0m\u001b[0;34m)\u001b[0m\u001b[0;34m:\u001b[0m\u001b[0;34m\u001b[0m\u001b[0;34m\u001b[0m\u001b[0m\n\u001b[1;32m    329\u001b[0m                 \u001b[0;32mif\u001b[0m \u001b[0;32mnot\u001b[0m \u001b[0mignore_failures\u001b[0m\u001b[0;34m:\u001b[0m\u001b[0;34m\u001b[0m\u001b[0;34m\u001b[0m\u001b[0m\n",
      "\u001b[0;32m~/opt/anaconda3/envs/preprocessing/lib/python3.8/site-packages/pandas/core/internals/blocks.py\u001b[0m in \u001b[0;36msetitem\u001b[0;34m(self, indexer, value)\u001b[0m\n\u001b[1;32m    952\u001b[0m             \u001b[0;31m# setting a single element for each dim and with a rhs that could\u001b[0m\u001b[0;34m\u001b[0m\u001b[0;34m\u001b[0m\u001b[0;34m\u001b[0m\u001b[0m\n\u001b[1;32m    953\u001b[0m             \u001b[0;31m#  be e.g. a list; see GH#6043\u001b[0m\u001b[0;34m\u001b[0m\u001b[0;34m\u001b[0m\u001b[0;34m\u001b[0m\u001b[0m\n\u001b[0;32m--> 954\u001b[0;31m             \u001b[0mvalues\u001b[0m\u001b[0;34m[\u001b[0m\u001b[0mindexer\u001b[0m\u001b[0;34m]\u001b[0m \u001b[0;34m=\u001b[0m \u001b[0mvalue\u001b[0m\u001b[0;34m\u001b[0m\u001b[0;34m\u001b[0m\u001b[0m\n\u001b[0m\u001b[1;32m    955\u001b[0m \u001b[0;34m\u001b[0m\u001b[0m\n\u001b[1;32m    956\u001b[0m         \u001b[0;32melif\u001b[0m \u001b[0mexact_match\u001b[0m \u001b[0;32mand\u001b[0m \u001b[0mis_categorical_dtype\u001b[0m\u001b[0;34m(\u001b[0m\u001b[0marr_value\u001b[0m\u001b[0;34m.\u001b[0m\u001b[0mdtype\u001b[0m\u001b[0;34m)\u001b[0m\u001b[0;34m:\u001b[0m\u001b[0;34m\u001b[0m\u001b[0;34m\u001b[0m\u001b[0m\n",
      "\u001b[0;31mValueError\u001b[0m: could not broadcast input array from shape (33,) into shape (1,)"
     ]
    }
   ],
   "source": [
    "for i in range(len(list(dict_prd_link_tmp.keys()))):\n",
    "    brd_name = list(dict_prd_link_tmp.keys())[i]\n",
    "    df_brd_w_prd_v2.loc[df_brd_w_prd_v2['brand_name']== brd_name, \"product_link\"] = list(dict_prd_link_tmp.values())[i]\n",
    "    df_brd_w_prd_v2.loc[df_brd_w_prd_v2['brand_name']== brd_name, \"product_name\"] = list(dict_prd_name_tmp.values())[i]"
   ]
  },
  {
   "cell_type": "code",
   "execution_count": 486,
   "id": "1a5b2d42-4f06-47d6-a142-0e3aecd00b74",
   "metadata": {},
   "outputs": [],
   "source": [
    "df_brd_w_prd_v2.loc[7377, \"product_link\"] = list(dict_prd_link_tmp.values())[30]\n",
    "df_brd_w_prd_v2.loc[7377, \"product_name\"] = list(dict_prd_name_tmp.values())[30]"
   ]
  },
  {
   "cell_type": "code",
   "execution_count": 488,
   "id": "788cad30-492d-4ecc-ae74-2eb467867619",
   "metadata": {},
   "outputs": [],
   "source": [
    "df_brd_w_prd_v2.to_csv(\"df_brd_w_prd_v2.csv\")"
   ]
  },
  {
   "cell_type": "markdown",
   "id": "ca3e8de3-e454-44c7-b55b-03e35900a633",
   "metadata": {},
   "source": [
    "# v4와 df_brd_w_prd_v2 상품명 비교"
   ]
  },
  {
   "cell_type": "code",
   "execution_count": 556,
   "id": "214d7849-9b36-48a4-b78f-feeee8b21a35",
   "metadata": {},
   "outputs": [],
   "source": [
    "brd_lst = grp_cnt[\"브랜드명\"]"
   ]
  },
  {
   "cell_type": "code",
   "execution_count": 557,
   "id": "b8828176-ecf2-4358-9e53-0830ec8f6f86",
   "metadata": {},
   "outputs": [],
   "source": [
    "dict_diff = {}"
   ]
  },
  {
   "cell_type": "code",
   "execution_count": 587,
   "id": "1d52e45d-1bf1-4d87-b5d1-f1f3baff38b8",
   "metadata": {
    "collapsed": true,
    "jupyter": {
     "outputs_hidden": true
    },
    "tags": []
   },
   "outputs": [
    {
     "name": "stdout",
     "output_type": "stream",
     "text": [
      "['16치크샷', '16만능슈퍼클렌징밤', '16마이매거진', '알유16테이스츄', '16후르츄틴트', '16브로우매거진', '알유16후르츄에디션', '16필터샷', '16아이펜슬라이너', '16365쿠션', '16브릭킷섀도우히트10바닐라라떼', '16브릭킷섀도우[매트]', '16모찌팩트하이라이터', '16발광펜', '16캔디락펄파우더', '16후르츄콜라겐젤리틴트', '16브릭킷섀도우[크리미]', '16립시럽', '16갱스브로우브로우메이커듀오', '16슈퍼스핀마스카라', '16캔디락슈가파티', '16물분톤업크림[SPF50+/PA+++]', '갱스뷰티브러쉬FDGB06', '16블러팩트', '16오션톡스마스크팩우뭇가사리', '갱스뷰티브러쉬라이너GB01', '16테이스츄네일패치', '모찌팩트-컨투어[SPF30/PA+++]', '16립펜슬라이너', '16가든톡스마스크팩세이지티', '16가든톡스마스크팩히비스커스티', '16티앤쥐', '모찌팩트[SPF30/PA+++]', '16아이매거진', '16갱스메쉬코튼', '16컬러룰스벨벳립', '16톤쉐이크에센스팩트[SPF50+/PA+++]', '알유16(매트)', '알유16(글로시)', '16퍼퓸드샤워스윗보테니컬', '16컬러룰스글로우글로스', '16가든톡스마스크팩페퍼민트티', '16오션톡스마스크팩다시마', '16오션톡스마스크팩스피룰리나', '16브로우펜슬라이너', '16컬러룰스베이스', '갱스뷰티브러쉬L섀도우GB05', '갱스뷰티브러쉬S섀도우GB04', '갱스뷰티브러쉬스머지GB03', '갱스뷰티브러쉬브로우GB02', '밀크필클렌징밤', '[단종]16구름미백로션', '[단종]16브릭킷섀도우히트10캔디락', '[단종]16브릭킷섀도우히트10초코', '[단종]16브릭킷섀도우', '[단종]16블러팩트[SPF50+/PA+++]', '[단종]16365파운데이션[SPF30/PA++]', '[단종]16에어빔팩트', '[단종]갱스모이스트퍼프', '[단종]16촉촉핸드앤바디-코튼옐로우', '[단종]베지톡스클렌저[베리&베지]', '[단종]16아이뽄드프라이머', '[단종]T&G', '[단종]16드로우컬러', '[단종]맨질에센스', '[단종]16만능오일핑크콜라겐', '[단종]피치소다클렌징밤', '[단종]16구름크림파운데이션[SPF35/PA++]', '[단종]16식스선스워터프루프선크림[SPF50+/PA++++]', '[단종]갱스탓트', '[단종]16핑거펜(쉐딩)', '[단종]립앤아이리무버', '[단종]구름크림민트크림', '[단종]알유16', '[단종]16핑거펜(립앤치크&아이)', '[단종]16티앤쥐', '[단종]16동키밀크클렌저', '[단종]베지톡스클렌저[애플&캐비쥐]', '[단종]워터멜론크림', '[단종]16컬러룰스(3단파르페틴트글로스)', '[단종]16핑거펜(파운데이션&컨실러)', '[단종]16비비킹파운데이션[SPF46/PA++]', '[단종]구름크림톤업[SPF30/PA++]', '[단종]16퍼퓸드샤워베이비파우더', '[단종]16촉촉핸드앤바디-베이비블루', '[단종]16만능토너', '[단종]16만능촉촉로션', '[단종]16갱스블러컨실러', '[단종]동키밀크크림', '[단종]16핑거펜(하이라이트)', '[단종]갱스스타일러콤', '[단종]프레쉬원더에이드', '[단종]16쏘우블랙마스카라', '[단종]16점오프핸드새니타이저겔', '[단종]16구름크림에너지밤']\n",
      "['16치크샷', '16만능슈퍼클렌징밤', '16마이매거진', '알유16테이스츄', '16후르츄틴트', '16브로우매거진', '알유16후르츄에디션', '16필터샷', '16365쿠션', '16아이펜슬라이너', '16브릭킷섀도우히트10바닐라라떼', '16브릭킷섀도우[매트]', '16발광펜', '16모찌팩트하이라이터', '16캔디락펄파우더', '16후르츄콜라겐젤리틴트', '16브릭킷섀도우[크리미]', '16립시럽', '16갱스브로우브로우메이커듀오', '16슈퍼스핀마스카라', '16물분톤업크림[SPF50+/PA+++]', '16캔디락슈가파티', '갱스뷰티브러쉬FDGB06', '16블러팩트', '16오션톡스마스크팩우뭇가사리', '갱스뷰티브러쉬라이너GB01', '16테이스츄네일패치', '모찌팩트-컨투어[SPF30/PA+++]', '16립펜슬라이너', '16가든톡스마스크팩세이지티', '16가든톡스마스크팩히비스커스티', '16티앤쥐', '모찌팩트[SPF30/PA+++]', '16아이매거진', '16갱스메쉬코튼', '16컬러룰스벨벳립', '16톤쉐이크에센스팩트[SPF50+/PA+++]', '알유16(매트)', '알유16(글로시)', '16퍼퓸드샤워스윗보테니컬', '16컬러룰스글로우글로스', '16가든톡스마스크팩페퍼민트티', '16오션톡스마스크팩다시마', '16오션톡스마스크팩스피룰리나', '16브로우펜슬라이너', '16컬러룰스베이스', '갱스뷰티브러쉬L섀도우GB05', '갱스뷰티브러쉬S섀도우GB04', '갱스뷰티브러쉬스머지GB03', '갱스뷰티브러쉬브로우GB02', '밀크필클렌징밤', '[단종]16구름미백로션', '[단종]16브릭킷섀도우히트10캔디락', '[단종]16브릭킷섀도우히트10초코', '[단종]16브릭킷섀도우', '[단종]16블러팩트[SPF50+/PA+++]', '[단종]16365파운데이션[SPF30/PA++]', '[단종]16에어빔팩트', '[단종]갱스모이스트퍼프', '[단종]16촉촉핸드앤바디-코튼옐로우', '[단종]베지톡스클렌저[베리&베지]', '[단종]16아이뽄드프라이머', '[단종]T&G', '[단종]16드로우컬러', '[단종]맨질에센스', '[단종]16만능오일핑크콜라겐', '[단종]피치소다클렌징밤', '[단종]16구름크림파운데이션[SPF35/PA++]', '[단종]16식스선스워터프루프선크림[SPF50+/PA++++]', '[단종]갱스탓트', '[단종]16핑거펜(쉐딩)', '[단종]립앤아이리무버', '[단종]구름크림민트크림', '[단종]알유16', '[단종]16핑거펜(립앤치크&아이)', '[단종]16티앤쥐', '[단종]16동키밀크클렌저', '[단종]베지톡스클렌저[애플&캐비쥐]', '[단종]워터멜론크림', '[단종]16컬러룰스(3단파르페틴트글로스)', '[단종]16핑거펜(파운데이션&컨실러)', '[단종]16비비킹파운데이션[SPF46/PA++]', '[단종]구름크림톤업[SPF30/PA++]', '[단종]16퍼퓸드샤워베이비파우더', '[단종]16촉촉핸드앤바디-베이비블루', '[단종]16만능토너', '[단종]16만능촉촉로션', '[단종]16갱스블러컨실러', '[단종]동키밀크크림', '[단종]16핑거펜(하이라이트)', '[단종]갱스스타일러콤', '[단종]프레쉬원더에이드', '[단종]16쏘우블랙마스카라', '[단종]16점오프핸드새니타이저겔', '[단종]16구름크림에너지밤']\n"
     ]
    }
   ],
   "source": [
    "for brd in brd_lst:\n",
    "    v2_lst = []\n",
    "    v4_lst = []\n",
    "    v2_not_v4 = []\n",
    "    v4_not_v2 = []\n",
    "    for j in range(len(list(df_brd_w_prd_v2.loc[df_brd_w_prd_v2[\"brand_name\"]== brd, 'product_name'])[0])):\n",
    "        v2_lst.append(list(df_brd_w_prd_v2.loc[df_brd_w_prd_v2[\"brand_name\"]== brd, 'product_name'])[0][j].replace(' ', ''))\n",
    "    print(v2_lst)\n",
    "        \n",
    "    for k in range(len(list(v4.loc[v4[\"브랜드명\"]== brd, '제품명']))):\n",
    "        v4_lst.append(list(v4.loc[v4[\"브랜드명\"]== brd, '제품명'])[k].replace(' ', ''))\n",
    "    print(v4_lst)\n",
    "        \n",
    "    for _ in range(len(v2_lst)):\n",
    "        if v2_lst[_] not in v4_lst: #v2에는 있는데 v4에 없는 제품\n",
    "            v2_not_v4.append(v2_lst[_])\n",
    "            \n",
    "    for _ in range(len(v4_lst)):\n",
    "        if v4_lst[_] not in v2_lst: #v4에는 있는데 v2에 없는 제품\n",
    "            v4_not_v2.append(v4_lst[_])\n",
    "    dict_diff[brd] = [v2_not_v4, v4_not_v2]"
   ]
  },
  {
   "cell_type": "code",
   "execution_count": 612,
   "id": "688ba2a2-c35d-4cf8-b875-96a787d8e52c",
   "metadata": {},
   "outputs": [],
   "source": [
    "import pickle\n",
    "\n",
    "with open(\"dict_diff.txt\", \"wb\") as f:\n",
    "    pickle.dump(dict_diff, f)"
   ]
  },
  {
   "cell_type": "code",
   "execution_count": 610,
   "id": "158df344-daf0-4808-acf0-78d5fc7b2242",
   "metadata": {
    "tags": []
   },
   "outputs": [],
   "source": [
    "cnt1 = 0\n",
    "cnt2 = 0\n",
    "cnt3 = 0\n",
    "\n",
    "df_missing = []\n",
    "v4_missing = []\n",
    "update = []\n",
    "\n",
    "for i in range(len(list(dict_diff.items()))):\n",
    "    \n",
    "    if list(dict_diff.items())[i][1][0] != [] and list(dict_diff.items())[i][1][1] != []: #상품 정보 업데이트(변경 + 추가)된 경우\n",
    "        update.append(list(dict_diff.items())[i])\n",
    "        cnt1 += len(list(dict_diff.items())[i][1][0])\n",
    "        \n",
    "    if list(dict_diff.items())[i][1][0] == [] and list(dict_diff.items())[i][1][1] != []: #상품 정보 삭제된 경우 (= df에서 유실된 경우)\n",
    "        df_missing.append(list(dict_diff.items())[i])\n",
    "        cnt2 += len(list(dict_diff.items())[i][1][1])\n",
    "        \n",
    "    if list(dict_diff.items())[i][1][0] != [] and list(dict_diff.items())[i][1][1] == []: #v4에서 상품 정보 유실만된 경우\n",
    "        v4_missing.append(list(dict_diff.items())[i])\n",
    "        cnt3 += len(list(dict_diff.items())[i][1][0])"
   ]
  },
  {
   "cell_type": "code",
   "execution_count": 615,
   "id": "36297781-c799-45ce-aa0b-f4ae6fa987f6",
   "metadata": {},
   "outputs": [],
   "source": [
    "import pickle\n",
    "\n",
    "with open(\"df_missing.txt\", \"wb\") as f:\n",
    "    pickle.dump(df_missing, f)\n",
    "    \n",
    "with open(\"v4_missing.txt\", \"wb\") as f:\n",
    "    pickle.dump(v4_missing, f)\n",
    "    \n",
    "with open(\"update.txt\", \"wb\") as f:\n",
    "    pickle.dump(update, f)"
   ]
  },
  {
   "cell_type": "markdown",
   "id": "9c0fc260-85dc-4e23-adac-c4148faac98a",
   "metadata": {},
   "source": [
    "# 상품명 업데이트"
   ]
  },
  {
   "cell_type": "code",
   "execution_count": 632,
   "id": "57a348c9-baa7-4ba0-8ef7-275458717e01",
   "metadata": {},
   "outputs": [
    {
     "data": {
      "text/plain": [
       "('뉴오리진',\n",
       " [['[단종]네이키드오일바[칼라하리솔트]', '[단종]네이키드오일바[디어밀크]'],\n",
       "  ['네이키드오일바칼라하리솔트', '네이키드오일바디어밀크']])"
      ]
     },
     "execution_count": 632,
     "metadata": {},
     "output_type": "execute_result"
    }
   ],
   "source": [
    "update[2]"
   ]
  },
  {
   "cell_type": "code",
   "execution_count": null,
   "id": "30969ea8-6239-471c-9eec-a7d436444fdc",
   "metadata": {},
   "outputs": [],
   "source": []
  }
 ],
 "metadata": {
  "kernelspec": {
   "display_name": "Python 3 (ipykernel)",
   "language": "python",
   "name": "python3"
  },
  "language_info": {
   "codemirror_mode": {
    "name": "ipython",
    "version": 3
   },
   "file_extension": ".py",
   "mimetype": "text/x-python",
   "name": "python",
   "nbconvert_exporter": "python",
   "pygments_lexer": "ipython3",
   "version": "3.8.11"
  }
 },
 "nbformat": 4,
 "nbformat_minor": 5
}
