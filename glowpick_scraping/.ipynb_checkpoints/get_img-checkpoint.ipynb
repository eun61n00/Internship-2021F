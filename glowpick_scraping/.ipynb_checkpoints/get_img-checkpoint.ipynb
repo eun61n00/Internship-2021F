{
 "cells": [
  {
   "cell_type": "markdown",
   "id": "5dd76a32-0c60-4c1b-b674-33872dd8c544",
   "metadata": {},
   "source": [
    "# get image"
   ]
  },
  {
   "cell_type": "code",
   "execution_count": 1,
   "id": "8c766c16-d9a1-4864-a2a3-41d5fee5fe93",
   "metadata": {},
   "outputs": [],
   "source": [
    "import os\n",
    "import re\n",
    "import pandas as pd\n",
    "import pickle\n",
    "import collections\n",
    "import numpy as np\n",
    "import math\n",
    "from ast import literal_eval\n",
    "from time import gmtime, strftime\n",
    "import re\n",
    "import time\n",
    "from bs4 import BeautifulSoup\n",
    "\n",
    "# Scrapping\n",
    "import selenium\n",
    "from selenium import webdriver\n",
    "from selenium.webdriver.common.keys import Keys\n",
    "from selenium.webdriver.support.ui import WebDriverWait\n",
    "from selenium.webdriver.support import expected_conditions as EC\n",
    "from webdriver_manager.chrome import ChromeDriverManager\n",
    "from selenium.webdriver.common.by import By\n",
    "from selenium.webdriver.chrome.options import Options\n",
    "from fake_useragent import UserAgent\n",
    "\n",
    "# Error Handling\n",
    "import socket\n",
    "import urllib3\n",
    "import urllib.request\n",
    "import requests\n",
    "from urllib.request import urlopen\n",
    "from urllib.parse import quote_plus\n",
    "from urllib.request import urlretrieve\n",
    "from selenium.common.exceptions import NoSuchElementException, ElementNotInteractableException, ElementClickInterceptedException\n",
    "import warnings\n",
    "warnings.filterwarnings('ignore')"
   ]
  },
  {
   "cell_type": "code",
   "execution_count": 4,
   "id": "63cf91f1-81c8-4270-bf7a-a49ad65214ed",
   "metadata": {},
   "outputs": [],
   "source": [
    "def get_img(prd_link, brd_idx, prd_idx):\n",
    "    options = Options()\n",
    "    ua = UserAgent()\n",
    "    userAgent = ua.random\n",
    "    print(userAgent)\n",
    "\n",
    "    options.add_argument('headless')\n",
    "    options.add_argument('window-size=1920x1080')\n",
    "    options.add_argument(\"disable-gpu\")\n",
    "    options.add_argument(f'user-agent={userAgent}')\n",
    "    wd = webdriver.Chrome(ChromeDriverManager().install(), chrome_options=options)\n",
    "\n",
    "    wd.get(prd_link)\n",
    "    time.sleep(5)\n",
    "    wd.maximize_window()\n",
    "\n",
    "    socket.setdefaulttimeout(30)\n",
    "\n",
    "    try:\n",
    "        wd.find_element_by_xpath('//*[@id=\\\"default-layout\\\"]/div/div[1]/span/div/div[2]/div[2]/button[2]').click()\n",
    "        time.sleep(5)\n",
    "\n",
    "        html = wd.page_source\n",
    "        bs = BeautifulSoup(html, 'html.parser')\n",
    "\n",
    "        missing_img_src = []\n",
    "\n",
    "        images = bs.select('.image__img')\n",
    "        time.sleep(3)\n",
    "\n",
    "        if not os.path.exists('glowpick_img/brand_{}'.format(brd_idx)): \n",
    "            os.makedirs('glowpick_img/brand_{}'.format(brd_idx))\n",
    "\n",
    "        img_src = wd.find_element_by_xpath(\"/html/body/div/div/div/div/main/div/section/div[1]/div/div/img\").get_attribute('src')\n",
    "        img_src = re.sub(\"w=[0-9]*\", \"w=500\", img_src)\n",
    "        img_nparray = np.asarray(bytearray(requests.get(img_src).content), dtype=np.uint8)\n",
    "        crawl_img = cv2.imdecode(img_nparray, cv2.IMREAD_COLOR)\n",
    "        cv2.imwrite('glowpick_img/brand_{}/brand_{}_{}.png'.format(brd_idx, brd_idx, prd_idx), crawl_img)\n",
    "        \n",
    "    except Exception as e:\n",
    "        print(\"에러가 발생했습니다.\", e)\n",
    "        exception.append([brd_idx, prd_idx, prd_link])\n",
    "        \n",
    "    wd.close()"
   ]
  },
  {
   "cell_type": "code",
   "execution_count": 6,
   "id": "d3476baf-1c43-483c-80c7-92490b39c473",
   "metadata": {},
   "outputs": [],
   "source": [
    "fnl_df_brd_w_prd = pd.read_csv(\"fnl_df_brd_w_prd.csv\")\n",
    "fnl_df_brd_w_prd = fnl_df_brd_w_prd.iloc[:, 1:]"
   ]
  },
  {
   "cell_type": "code",
   "execution_count": 9,
   "id": "9dda0057-e455-4912-baad-53a4fc2de112",
   "metadata": {},
   "outputs": [],
   "source": [
    "import ast\n",
    "\n",
    "for i in range(len(fnl_df_brd_w_prd)):\n",
    "    fnl_df_brd_w_prd.at[i, 'product_link'] = literal_eval(fnl_df_brd_w_prd.loc[i, 'product_link'])\n",
    "    fnl_df_brd_w_prd.at[i, 'product_name'] = literal_eval(fnl_df_brd_w_prd.loc[i, 'product_name'])"
   ]
  },
  {
   "cell_type": "code",
   "execution_count": null,
   "id": "f92d1d2e-7b15-4bae-a0a1-acf7b937e94e",
   "metadata": {},
   "outputs": [],
   "source": [
    "for i in list(fnl_df_brd_w_prd.index):\n",
    "    brd_idx = i\n",
    "    prd_lst = list(fnl_df_brd_w_prd.loc[i, 'product_link'])\n",
    "    for j in range(len(prd_lst)):\n",
    "        prd_idx = j\n",
    "        prd_link = prd_lst[j]\n",
    "        get_img(prd_link, brd_idx, prd_idx)"
   ]
  },
  {
   "cell_type": "code",
   "execution_count": null,
   "id": "fd900ddc-3cb7-481a-a45f-6168f047bf15",
   "metadata": {},
   "outputs": [],
   "source": []
  }
 ],
 "metadata": {
  "kernelspec": {
   "display_name": "Python 3 (ipykernel)",
   "language": "python",
   "name": "python3"
  },
  "language_info": {
   "codemirror_mode": {
    "name": "ipython",
    "version": 3
   },
   "file_extension": ".py",
   "mimetype": "text/x-python",
   "name": "python",
   "nbconvert_exporter": "python",
   "pygments_lexer": "ipython3",
   "version": "3.9.7"
  }
 },
 "nbformat": 4,
 "nbformat_minor": 5
}
