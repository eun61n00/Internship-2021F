{
 "cells": [
  {
   "cell_type": "code",
   "execution_count": 2,
   "id": "5ae4a0a9-ad51-44ce-96e8-5f7986f4c060",
   "metadata": {},
   "outputs": [],
   "source": [
    "import os\n",
    "import re\n",
    "import pandas as pd\n",
    "import pickle\n",
    "import collections\n",
    "import numpy as np\n",
    "import math\n",
    "from ast import literal_eval\n",
    "from time import gmtime, strftime\n",
    "import re\n",
    "import time\n",
    "from bs4 import BeautifulSoup\n",
    "\n",
    "# Scrapping\n",
    "import selenium\n",
    "from selenium import webdriver\n",
    "from selenium.webdriver.common.keys import Keys\n",
    "from selenium.webdriver.support.ui import WebDriverWait\n",
    "from selenium.webdriver.support import expected_conditions as EC\n",
    "from webdriver_manager.chrome import ChromeDriverManager\n",
    "from selenium.webdriver.common.by import By\n",
    "from selenium.webdriver.chrome.options import Options\n",
    "from fake_useragent import UserAgent\n",
    "\n",
    "# Error Handling\n",
    "import socket\n",
    "import urllib3\n",
    "import urllib.request\n",
    "from urllib.request import urlopen\n",
    "from urllib.parse import quote_plus\n",
    "from urllib.request import urlretrieve\n",
    "from selenium.common.exceptions import NoSuchElementException, ElementNotInteractableException, ElementClickInterceptedException\n",
    "import warnings\n",
    "warnings.filterwarnings('ignore')"
   ]
  },
  {
   "cell_type": "code",
   "execution_count": 22,
   "id": "1b9bc052-88db-4465-a434-26836c9b71a2",
   "metadata": {},
   "outputs": [],
   "source": [
    "v4_path = os.getcwd() + '/' + 'V4_DF_ind_set.csv'\n",
    "df_v4 = pd.read_csv(v4_path)"
   ]
  },
  {
   "cell_type": "code",
   "execution_count": 23,
   "id": "277d9819-05c0-4d7f-9fe8-3299bbfbc686",
   "metadata": {
    "tags": []
   },
   "outputs": [
    {
     "data": {
      "text/plain": [
       "브랜드_link                                                                       \n",
       "브랜드명                                                                       0720\n",
       "브랜드_id                                                                      NaN\n",
       "제품_link                                 https://www.glowpick.com/products/89920\n",
       "제품_id                                                                     89920\n",
       "제품명                                                                    오일크러쉬 팩트\n",
       "제품 용량                                                                        8g\n",
       "제품 가격                                                                    7,500원\n",
       "유사 제품군 랭킹(int)                                                             115위\n",
       "유사 제품군 랭킹(text)                                                         프레스드파우더\n",
       "브랜드 내 랭킹(int)                                                                3위\n",
       "제품 수상명                                                                       []\n",
       "제품 수상부분                                                                      []\n",
       "제품 수상순위                                                                      []\n",
       "제품 설명                         기름종이 그만! 피부 지킴이로 톡톡!-피부의 필요한 유분을 빼앗아 건조함을 유발하는...\n",
       "제품 컬러/타입                                                                    NaN\n",
       "제품 판매처                                                                       []\n",
       "제품 성분 구성 : 위험도 미정                                                         위험도미정\n",
       "제품 성분 구성 : 위험도 미정(갯수)                                                        1개\n",
       "제품 성분 구성 : 위험도 미정 (성분(한글))                                     ['카프릴하이드록사믹애씨드']\n",
       "제품 성분 구성 : 위험도 미정 (성분(영어))                             ['CaprylhydroxamicAcid']\n",
       "제품 성분 구성 : 위험도 미정 (성분(설명))                                          ['금속이온봉쇄제']\n",
       "제품 성분 구성 : 낮은 위험도                                                         낮은위험도\n",
       "제품 성분 구성 : 낮은 위험도(갯수)                                                       12개\n",
       "제품 성분 구성 : 낮은 위험도 (성분(한글))    ['마이카;마이카(CI77019);마이카(CI77019)', '트리에톡시카프릴릴실란...\n",
       "제품 성분 구성 : 낮은 위험도 (성분(영어))    ['Mica;CI77019', 'Triethoxycaprylylsilane', 'A...\n",
       "제품 성분 구성 : 낮은 위험도 (성분(설명))    ['착색제,불투명화제', '결합제', '흡수제,안티케이킹제,점증제-비수용성', '스...\n",
       "제품 성분 구성 : 중간 위험도                                                         중간위험도\n",
       "제품 성분 구성 : 중간 위험도(갯수)                                                        3개\n",
       "제품 성분 구성 : 중간 위험도 (성분(한글))                     ['미네랄오일', '디메치콘;다이메티콘', '피티에프이']\n",
       "제품 성분 구성 : 중간 위험도 (성분(영어))    ['MineralOil;ParaffinumLiquidum', 'Dimethicone...\n",
       "제품 성분 구성 : 중간 위험도 (성분(설명))    ['착향제,헤어컨디셔닝제,피부보호제,피부컨디셔닝제(유연제),피부컨디셔닝제(수분차단제...\n",
       "제품 성분 구성 : 높은 위험도                                                         높은위험도\n",
       "제품 성분 구성 : 높은 위험도(갯수)                                                        0개\n",
       "제품 성분 구성 : 높은 위험도 (성분(한글))                                                   []\n",
       "제품 성분 구성 : 높은 위험도 (성분(영어))                                                   []\n",
       "제품 성분 구성 : 높은 위험도 (성분(설명))                                                   []\n",
       "제품 카테고리                                        ['페이스메이크업', '피니시파우더', '프레스드파우더']\n",
       "Name: 0, dtype: object"
      ]
     },
     "execution_count": 23,
     "metadata": {},
     "output_type": "execute_result"
    }
   ],
   "source": [
    "df_v4.loc[0, :]"
   ]
  },
  {
   "cell_type": "markdown",
   "id": "c634f8b4-0adb-4803-b5f7-90714f8a5b86",
   "metadata": {},
   "source": [
    "# **제품 정보 수집**"
   ]
  },
  {
   "cell_type": "code",
   "execution_count": null,
   "id": "944435ff-42cd-4d8b-8ca3-126b5c218084",
   "metadata": {},
   "outputs": [],
   "source": [
    "def scrap_product_details(prd_link):\n",
    "    "
   ]
  },
  {
   "cell_type": "code",
   "execution_count": 22,
   "id": "72c1d94c-4403-424b-b3b9-21bc57ffd866",
   "metadata": {},
   "outputs": [
    {
     "name": "stderr",
     "output_type": "stream",
     "text": [
      "\n",
      "\n",
      "====== WebDriver manager ======\n",
      "Current google-chrome version is 93.0.4577\n",
      "Get LATEST driver version for 93.0.4577\n",
      "Driver [C:\\Users\\keunb\\.wdm\\drivers\\chromedriver\\win32\\93.0.4577.63\\chromedriver.exe] found in cache\n"
     ]
    }
   ],
   "source": [
    "prd_link = \"https://www.glowpick.com/products/125599\"\n",
    "wd = webdriver.Chrome(ChromeDriverManager().install())\n",
    "\n",
    "wd.get(prd_link)\n",
    "time.sleep(3)\n",
    "wd.maximize_window()\n",
    "wd.find_element_by_xpath('//*[@id=\"default-layout\"]/div/div[1]/span/div/div[2]/div[2]/button[2]').click()\n",
    "time.sleep(2)\n",
    "\n",
    "html = wd.page_source\n",
    "soup = BeautifulSoup(html, 'html.parser')\n",
    "prd_nm = wd.find_element_by_class_name(\"product__summary__name\").text\n",
    "prd_vol = wd.find_element_by_class_name(\"offer__volume-price\").text.split(' / ')[0]\n",
    "prd_prc = wd.find_element_by_class_name(\"offer__volume-price\").text.split(' / ')[1]\n",
    "prd_grp_text = wd.find_element_by_class_name(\"rank-item__name\").text\n",
    "prd_grp_rank = wd.find_elements_by_class_name(\"rank-item__rank\")[0].text\n",
    "prd_brand_rank = wd.find_elements_by_class_name(\"rank-item__rank\")[1].text\n",
    "\n",
    "#스크롤 다운\n",
    "\n",
    "wd.find_element_by_xpath('//*[@id=\"contents\"]/section/div[3]/article[2]/h3/button').click()\n",
    "prd_igd_udf_cnt = wd.find_elements_by_class_name(\"tag__bg__label\")[0].text #위험도 미정 개수\n",
    "prd_igd_low_cnt = wd.find_elements_by_class_name(\"tag__bg__label\")[1].text #낮은 위험도 개수\n",
    "prd_igd_mid_cnt = wd.find_elements_by_class_name(\"tag__bg__label\")[2].text #중간 위험도 개수\n",
    "prd_igd_high_cnt = wd.find_elements_by_class_name(\"tag__bg__label\")[3].text #높은 위험도 개수\n",
    "\n",
    "html = wd.page_source\n",
    "soup = BeautifulSoup(html, 'html.parser')\n",
    "\n",
    "#igd_lst_len = len(wd.find_elements_by_class_name(\"ingredient__list\")) #전체 성분 리스트개수\n",
    "low_igd_lst = soup.find_all(\"div\", {\"class\": \"tag__bg tag__bg--item tag__bg--low\"})\n",
    "# for i in len(igd_lst):\n",
    "#     if 'low' in str(igd_lst[i]):\n",
    "#         prd_igd_low_text_kor.append()\n",
    "#     elif 'mid' in str(igd_lst[i]):\n",
    "        \n",
    "#     else:\n",
    "        \n",
    "\n",
    "#     tablerows=driver.find_elements_by_xpath(\"//table[@class='\"+ item + \"']/tbody/tr\")\n",
    "#     prd_igd_low_text = [x.text for x in wd.find_elements_by_class_name(\"item__wrapper__text__kor\") if wd.find_elements_by_class_name(\"\")]\n",
    "\n",
    "#     tag__bg tag__bg--item tag__bg--low\n",
    "    \n",
    "    \n",
    "# listclass=['Jan','Feb']\n",
    "# for item in listclass:\n",
    "#     tablerows=driver.find_elements_by_xpath(\"//table[@class='\"+ item + \"']/tbody/tr\")\n",
    "#     data=[row.get_attribute(\"textContent\") for row in tablerows]\n",
    "#     print(data)\n",
    "    \n",
    "# prd_igd_udf_text = [x.text for x in wd.find_elements_by_class_name(\"item__wrapper__text__kor\")]\n",
    "\n"
   ]
  },
  {
   "cell_type": "code",
   "execution_count": 26,
   "id": "b2b68622-5513-4d48-a0a1-1f6eb3a97c64",
   "metadata": {},
   "outputs": [
    {
     "data": {
      "text/plain": [
       "[<div class=\"tag__bg tag__bg--item tag__bg--low\" data-v-629653a7=\"\"><span class=\"icon drop-shadow tag__bg__label\" data-v-629653a7=\"\"></span></div>,\n",
       " <div class=\"tag__bg tag__bg--item tag__bg--low\" data-v-629653a7=\"\"><span class=\"icon drop-shadow tag__bg__label\" data-v-629653a7=\"\"></span></div>,\n",
       " <div class=\"tag__bg tag__bg--item tag__bg--low\" data-v-629653a7=\"\"><span class=\"icon drop-shadow tag__bg__label\" data-v-629653a7=\"\"></span></div>,\n",
       " <div class=\"tag__bg tag__bg--item tag__bg--low\" data-v-629653a7=\"\"><span class=\"icon drop-shadow tag__bg__label\" data-v-629653a7=\"\"></span></div>,\n",
       " <div class=\"tag__bg tag__bg--item tag__bg--low\" data-v-629653a7=\"\"><span class=\"icon drop-shadow tag__bg__label\" data-v-629653a7=\"\"></span></div>,\n",
       " <div class=\"tag__bg tag__bg--item tag__bg--low\" data-v-629653a7=\"\"><span class=\"icon drop-shadow tag__bg__label\" data-v-629653a7=\"\"></span></div>,\n",
       " <div class=\"tag__bg tag__bg--item tag__bg--low\" data-v-629653a7=\"\"><span class=\"icon drop-shadow tag__bg__label\" data-v-629653a7=\"\"></span></div>,\n",
       " <div class=\"tag__bg tag__bg--item tag__bg--low\" data-v-629653a7=\"\"><span class=\"icon drop-shadow tag__bg__label\" data-v-629653a7=\"\"></span></div>,\n",
       " <div class=\"tag__bg tag__bg--item tag__bg--low\" data-v-629653a7=\"\"><span class=\"icon drop-shadow tag__bg__label\" data-v-629653a7=\"\"></span></div>,\n",
       " <div class=\"tag__bg tag__bg--item tag__bg--low\" data-v-629653a7=\"\"><span class=\"icon drop-shadow tag__bg__label\" data-v-629653a7=\"\"></span></div>,\n",
       " <div class=\"tag__bg tag__bg--item tag__bg--low\" data-v-629653a7=\"\"><span class=\"icon drop-shadow tag__bg__label\" data-v-629653a7=\"\"></span></div>,\n",
       " <div class=\"tag__bg tag__bg--item tag__bg--low\" data-v-629653a7=\"\"><span class=\"icon drop-shadow tag__bg__label\" data-v-629653a7=\"\"></span></div>,\n",
       " <div class=\"tag__bg tag__bg--item tag__bg--low\" data-v-629653a7=\"\"><span class=\"icon drop-shadow tag__bg__label\" data-v-629653a7=\"\"></span></div>,\n",
       " <div class=\"tag__bg tag__bg--item tag__bg--low\" data-v-629653a7=\"\"><span class=\"icon drop-shadow tag__bg__label\" data-v-629653a7=\"\"></span></div>,\n",
       " <div class=\"tag__bg tag__bg--item tag__bg--low\" data-v-629653a7=\"\"><span class=\"icon drop-shadow tag__bg__label\" data-v-629653a7=\"\"></span></div>,\n",
       " <div class=\"tag__bg tag__bg--item tag__bg--low\" data-v-629653a7=\"\"><span class=\"icon drop-shadow tag__bg__label\" data-v-629653a7=\"\"></span></div>,\n",
       " <div class=\"tag__bg tag__bg--item tag__bg--low\" data-v-629653a7=\"\"><span class=\"icon drop-shadow tag__bg__label\" data-v-629653a7=\"\"></span></div>,\n",
       " <div class=\"tag__bg tag__bg--item tag__bg--low\" data-v-629653a7=\"\"><span class=\"icon drop-shadow tag__bg__label\" data-v-629653a7=\"\"></span></div>,\n",
       " <div class=\"tag__bg tag__bg--item tag__bg--low\" data-v-629653a7=\"\"><span class=\"icon drop-shadow tag__bg__label\" data-v-629653a7=\"\"></span></div>,\n",
       " <div class=\"tag__bg tag__bg--item tag__bg--low\" data-v-629653a7=\"\"><span class=\"icon drop-shadow tag__bg__label\" data-v-629653a7=\"\"></span></div>,\n",
       " <div class=\"tag__bg tag__bg--item tag__bg--low\" data-v-629653a7=\"\"><span class=\"icon drop-shadow tag__bg__label\" data-v-629653a7=\"\"></span></div>,\n",
       " <div class=\"tag__bg tag__bg--item tag__bg--low\" data-v-629653a7=\"\"><span class=\"icon drop-shadow tag__bg__label\" data-v-629653a7=\"\"></span></div>,\n",
       " <div class=\"tag__bg tag__bg--item tag__bg--low\" data-v-629653a7=\"\"><span class=\"icon drop-shadow tag__bg__label\" data-v-629653a7=\"\"></span></div>,\n",
       " <div class=\"tag__bg tag__bg--item tag__bg--low\" data-v-629653a7=\"\"><span class=\"icon drop-shadow tag__bg__label\" data-v-629653a7=\"\"></span></div>,\n",
       " <div class=\"tag__bg tag__bg--item tag__bg--low\" data-v-629653a7=\"\"><span class=\"icon drop-shadow tag__bg__label\" data-v-629653a7=\"\"></span></div>,\n",
       " <div class=\"tag__bg tag__bg--item tag__bg--low\" data-v-629653a7=\"\"><span class=\"icon drop-shadow tag__bg__label\" data-v-629653a7=\"\"></span></div>,\n",
       " <div class=\"tag__bg tag__bg--item tag__bg--low\" data-v-629653a7=\"\"><span class=\"icon drop-shadow tag__bg__label\" data-v-629653a7=\"\"></span></div>,\n",
       " <div class=\"tag__bg tag__bg--item tag__bg--low\" data-v-629653a7=\"\"><span class=\"icon drop-shadow tag__bg__label\" data-v-629653a7=\"\"></span></div>,\n",
       " <div class=\"tag__bg tag__bg--item tag__bg--low\" data-v-629653a7=\"\"><span class=\"icon drop-shadow tag__bg__label\" data-v-629653a7=\"\"></span></div>,\n",
       " <div class=\"tag__bg tag__bg--item tag__bg--low\" data-v-629653a7=\"\"><span class=\"icon drop-shadow tag__bg__label\" data-v-629653a7=\"\"></span></div>,\n",
       " <div class=\"tag__bg tag__bg--item tag__bg--low\" data-v-629653a7=\"\"><span class=\"icon drop-shadow tag__bg__label\" data-v-629653a7=\"\"></span></div>]"
      ]
     },
     "execution_count": 26,
     "metadata": {},
     "output_type": "execute_result"
    }
   ],
   "source": [
    "low_igd_lst"
   ]
  },
  {
   "cell_type": "code",
   "execution_count": 58,
   "id": "584443b4-c88e-444e-89d9-c7cde0bc25bd",
   "metadata": {},
   "outputs": [
    {
     "data": {
      "text/plain": [
       "'23g'"
      ]
     },
     "execution_count": 58,
     "metadata": {},
     "output_type": "execute_result"
    }
   ],
   "source": [
    "prd_vol"
   ]
  },
  {
   "cell_type": "code",
   "execution_count": 59,
   "id": "8c98f962-8b2c-43ff-87d2-f24e8ece144d",
   "metadata": {},
   "outputs": [
    {
     "data": {
      "text/plain": [
       "'50,000원'"
      ]
     },
     "execution_count": 59,
     "metadata": {},
     "output_type": "execute_result"
    }
   ],
   "source": [
    "prd_prc"
   ]
  },
  {
   "cell_type": "code",
   "execution_count": 60,
   "id": "0b48e608-b896-49f8-bcea-8171ad3a86fd",
   "metadata": {},
   "outputs": [
    {
     "data": {
      "text/plain": [
       "'안티에이징에센스'"
      ]
     },
     "execution_count": 60,
     "metadata": {},
     "output_type": "execute_result"
    }
   ],
   "source": [
    "prd_grp_text"
   ]
  },
  {
   "cell_type": "code",
   "execution_count": 61,
   "id": "1cb851e0-4bf2-4e7d-a9f8-0005c53fb1d9",
   "metadata": {},
   "outputs": [
    {
     "data": {
      "text/plain": [
       "'57위'"
      ]
     },
     "execution_count": 61,
     "metadata": {},
     "output_type": "execute_result"
    }
   ],
   "source": [
    "prd_grp_rank"
   ]
  },
  {
   "cell_type": "code",
   "execution_count": 62,
   "id": "8874add5-bc3a-43ea-bb09-ccf9f76d3892",
   "metadata": {},
   "outputs": [
    {
     "data": {
      "text/plain": [
       "'13위'"
      ]
     },
     "execution_count": 62,
     "metadata": {},
     "output_type": "execute_result"
    }
   ],
   "source": [
    "prd_brand_rank"
   ]
  },
  {
   "cell_type": "code",
   "execution_count": 63,
   "id": "dfd539c0-fdde-4a19-b095-bf317cf62a0c",
   "metadata": {},
   "outputs": [
    {
     "data": {
      "text/plain": [
       "'0개'"
      ]
     },
     "execution_count": 63,
     "metadata": {},
     "output_type": "execute_result"
    }
   ],
   "source": [
    "prd_igd_udf"
   ]
  },
  {
   "cell_type": "code",
   "execution_count": 64,
   "id": "af389140-42d8-4c5f-983e-bd34069f2f5c",
   "metadata": {},
   "outputs": [
    {
     "data": {
      "text/plain": [
       "'31개'"
      ]
     },
     "execution_count": 64,
     "metadata": {},
     "output_type": "execute_result"
    }
   ],
   "source": [
    "prd_igd_low"
   ]
  },
  {
   "cell_type": "code",
   "execution_count": 65,
   "id": "5101e46a-e6f8-4000-810e-d3711a1d9083",
   "metadata": {},
   "outputs": [
    {
     "data": {
      "text/plain": [
       "'2개'"
      ]
     },
     "execution_count": 65,
     "metadata": {},
     "output_type": "execute_result"
    }
   ],
   "source": [
    "prd_igd_mid"
   ]
  },
  {
   "cell_type": "code",
   "execution_count": 66,
   "id": "2419e697-e87b-4a94-bf68-fc49fbff8880",
   "metadata": {},
   "outputs": [
    {
     "data": {
      "text/plain": [
       "'1개'"
      ]
     },
     "execution_count": 66,
     "metadata": {},
     "output_type": "execute_result"
    }
   ],
   "source": [
    "prd_igd_high"
   ]
  },
  {
   "cell_type": "code",
   "execution_count": null,
   "id": "efd0722e-244c-4db9-b5d6-04fb7aaa6ae3",
   "metadata": {},
   "outputs": [],
   "source": []
  }
 ],
 "metadata": {
  "kernelspec": {
   "display_name": "Python 3 (ipykernel)",
   "language": "python",
   "name": "python3"
  },
  "language_info": {
   "codemirror_mode": {
    "name": "ipython",
    "version": 3
   },
   "file_extension": ".py",
   "mimetype": "text/x-python",
   "name": "python",
   "nbconvert_exporter": "python",
   "pygments_lexer": "ipython3",
   "version": "3.9.7"
  }
 },
 "nbformat": 4,
 "nbformat_minor": 5
}
