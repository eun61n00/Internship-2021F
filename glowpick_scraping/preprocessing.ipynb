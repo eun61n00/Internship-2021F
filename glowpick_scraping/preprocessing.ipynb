{
 "cells": [
  {
   "cell_type": "code",
   "execution_count": null,
   "id": "c378c90e-1a60-4187-a39c-d3a8bd249140",
   "metadata": {},
   "outputs": [],
   "source": [
    "import os\n",
    "import re\n",
    "import pandas as pd\n",
    "import pickle\n",
    "import collections\n",
    "import numpy as np\n",
    "import math\n",
    "import ast\n",
    "from time import gmtime, strftime\n",
    "import re\n",
    "import time\n",
    "from tqdm.auto import tqdm\n",
    "from bs4 import BeautifulSoup"
   ]
  },
  {
   "cell_type": "markdown",
   "id": "106147a5-2794-4bfe-a187-e9edd552e622",
   "metadata": {},
   "source": [
    "---\n",
    "csv 파일 불러오기"
   ]
  },
  {
   "cell_type": "code",
   "execution_count": null,
   "id": "148bbd87-e945-4198-b40a-c2800ecd4774",
   "metadata": {},
   "outputs": [],
   "source": [
    "fnl_df_glowpick_prd_info = pd.read_csv(\"fnl_df_glowpick_prd_info_w_review.csv\")\n",
    "fnl_df_glowpick_prd_info = fnl_df_glowpick_prd_info.iloc[:, 1:]"
   ]
  },
  {
   "cell_type": "code",
   "execution_count": null,
   "id": "83b01a0a-dfed-4b57-b1d8-c2e5de31040e",
   "metadata": {},
   "outputs": [],
   "source": [
    "fnl_df_brd_w_prd = pd.read_csv(\"fnl_df_brd_w_prd.csv\")\n",
    "fnl_df_brd_w_prd = fnl_df_brd_w_prd.iloc[:, 1:]\n",
    "\n",
    "for i in fnl_df_brd_w_prd.index:\n",
    "    fnl_df_brd_w_prd.at[i, 'product_name'] = eval(fnl_df_brd_w_prd.loc[i, 'product_name'])\n",
    "    fnl_df_brd_w_prd.at[i, 'product_link'] = eval(fnl_df_brd_w_prd.loc[i, 'product_link'])"
   ]
  },
  {
   "cell_type": "code",
   "execution_count": null,
   "id": "11e5de4a-c004-46a1-a7a0-237f0ec038a6",
   "metadata": {},
   "outputs": [],
   "source": [
    "df_glowpick_prd = pd.read_csv(\"df_glowpick_prd.csv\")\n",
    "df_glowpick_prd = df_glowpick_prd.iloc[:, 1:]\n",
    "\n",
    "df_glowpick_prd.columns = ['브랜드명_fix', '제품 id', '제품명_fix'] #구분을 위해 컬럼명 변경"
   ]
  },
  {
   "cell_type": "markdown",
   "id": "8c55017b-2abf-43f9-be3e-78c35aa91dea",
   "metadata": {},
   "source": [
    "---\n",
    "DB 업로드를 위한 정렬, nan값 체크"
   ]
  },
  {
   "cell_type": "code",
   "execution_count": null,
   "id": "86cc2b84-c86f-49b0-ab8c-ca4eee8e11bc",
   "metadata": {},
   "outputs": [],
   "source": [
    "#브랜드 id와 브랜드 link값 채우기\n",
    "\n",
    "for idx in tqdm(list(fnl_df_glowpick_prd_info.index)[:30000]):\n",
    "    brd_name = fnl_df_glowpick_prd_info.loc[idx, '브랜드명']\n",
    "    \n",
    "    try:\n",
    "        fnl_df_glowpick_prd_info.loc[idx, '브랜드 link'] = fnl_df_brd_w_prd.loc[fnl_df_brd_w_prd['brand_name'] == brd_name, 'brand_code']\n",
    "    \n",
    "    #브랜드명이 중복인 경우\n",
    "    except ValueError:\n",
    "        for i in list(fnl_df_brd_w_prd.index):\n",
    "            if fnl_df_glowpick_prd_info.loc[idx, '제품 link'] in fnl_df_brd_w_prd.loc[i, 'product_link']:\n",
    "                fnl_df_glowpick_prd_info.loc[idx, '브랜드 link'] = fnl_df_brd_w_prd.loc[i, 'brand_code']"
   ]
  },
  {
   "cell_type": "code",
   "execution_count": null,
   "id": "8baa1141-5b27-42f4-9bfe-36e855826af8",
   "metadata": {},
   "outputs": [],
   "source": [
    "#bridge table의 제품 정렬 순서로 sorting\n",
    "df_glowpick_prd_sort = pd.merge(df_glowpick_prd, fnl_df_glowpick_prd_info, how='inner', on='제품 id')\n",
    "\n",
    "#브릿지 테이블에서 픽스된 정확한 브랜드명과 제품명을 사용하기 위해 재매핑\n",
    "df_glowpick_prd_sort = df_glowpick_prd_sort.drop(['브랜드명'], axis = 'columns') #크롤링한 브랜드명 삭제\n",
    "df_glowpick_prd_sort = df_glowpick_prd_sort.drop(['제품명'], axis = 'columns') #크롤링한 제품명 삭제\n",
    "\n",
    "df_glowpick_prd_sort = df_glowpick_prd_sort.rename({'브랜드명_fix': '브랜드명'}, axis = 'columns') #브릿지 테이블에서 픽스된 브랜드명 사용\n",
    "df_glowpick_prd_sort = df_glowpick_prd_sort.rename({'제품명_fix': '제품명'}, axis = 'columns') #브릿지 테이블에서 픽스된 제품명 사용"
   ]
  },
  {
   "cell_type": "code",
   "execution_count": null,
   "id": "15916bd9-ebfa-4424-9bad-fff29836a28a",
   "metadata": {},
   "outputs": [],
   "source": [
    "df_glowpick_prd_sort = df_glowpick_prd_sort[columns] #컬럼 순서 변경"
   ]
  },
  {
   "cell_type": "code",
   "execution_count": null,
   "id": "c04b5105-15b2-4e83-89ef-92e9743ff81a",
   "metadata": {},
   "outputs": [],
   "source": [
    "#db에 올릴 테이블은 이미지 src 삭제\n",
    "df_glowpick_prd_sort_drop_img_src = df_glowpick_prd_sort.drop('img_src')\n",
    "df_glowpick_prd_sort_drop_img_src = df_glowpick_prd_sort_drop_img_src.reset_index(drop=True)\n",
    "df_glowpick_prd_sort_drop_img_src.to_csv(\"fnl_df_glowpick_prd_info.csv\")\n",
    "\n",
    "df_glowpick_prd_sort = df_glowpick_prd_sort.reset_index(drop=True)\n",
    "df_glowpick_prd_sort.to_csv(\"fnl_df_glowpick_prd_info_w_img_src.csv\")"
   ]
  },
  {
   "cell_type": "markdown",
   "id": "f0260ce8-8b9d-4b5e-8665-9860f7e7401f",
   "metadata": {},
   "source": [
    "---"
   ]
  },
  {
   "cell_type": "code",
   "execution_count": null,
   "id": "7280c1ff-326c-4fac-9840-a96e6d76c4b9",
   "metadata": {},
   "outputs": [],
   "source": [
    "glowpick_product_info_final_version_w_review = pd.read_csv(\"glowpick_product_info_final_version_w_review.csv\")"
   ]
  },
  {
   "cell_type": "code",
   "execution_count": null,
   "id": "1c127ba9-0900-4f06-b955-326308f8a892",
   "metadata": {},
   "outputs": [],
   "source": [
    "for i in tqdm(glowpick_product_info_final_version_w_review.index):\n",
    "    try:\n",
    "        if type(glowpick_product_info_final_version_w_review.loc[i, 'product_rating']) != float:\n",
    "            glowpick_product_info_final_version_w_review.at[i, 'product_rating'] = ast.literal_eval(glowpick_product_info_final_version_w_review.loc[i, 'product_rating'])\n",
    "            glowpick_product_info_final_version_w_review.at[i, 'product_review_date'] = ast.literal_eval(glowpick_product_info_final_version_w_review.loc[i, 'product_review_date'])\n",
    "            glowpick_product_info_final_version_w_review.at[i, 'count_product_review'] = ast.literal_eval(glowpick_product_info_final_version_w_review.loc[i, 'count_product_review'])\n",
    "            glowpick_product_info_final_version_w_review.at[i, 'user_skin_type'] = ast.literal_eval(glowpick_product_info_final_version_w_review.loc[i, 'user_skin_type'])\n",
    "            glowpick_product_info_final_version_w_review.at[i, 'user_age'] = ast.literal_eval(glowpick_product_info_final_version_w_review.loc[i, 'user_age'])\n",
    "            glowpick_product_info_final_version_w_review.at[i, 'user_sex'] = ast.literal_eval(glowpick_product_info_final_version_w_review.loc[i, 'user_sex'])\n",
    "            glowpick_product_info_final_version_w_review.at[i, 'user_name'] = ast.literal_eval(glowpick_product_info_final_version_w_review.loc[i, 'user_name'])\n",
    "            glowpick_product_info_final_version_w_review.at[i, 'product_review'] = ast.literal_eval(glowpick_product_info_final_version_w_review.loc[i, 'product_review'])\n",
    "    except ValueError:\n",
    "            pass"
   ]
  },
  {
   "cell_type": "code",
   "execution_count": null,
   "id": "53cdc4cb-246c-41e2-95fb-c09355b71f15",
   "metadata": {},
   "outputs": [],
   "source": [
    "#review 관련 columns의 length가 모두 같은지 확인(nan, 프로필 미등록 회원 ect.)\n",
    "\n",
    "err = []\n",
    "\n",
    "for i in glowpick_product_info_final_version_w_review.index:\n",
    "    if type(glowpick_product_info_final_version_w_review.loc[i, 'product_rating']) != float:\n",
    "        if len(glowpick_product_info_final_version_w_review.loc[i, 'product_rating']) != len(glowpick_product_info_final_version_w_review.loc[i, 'user_name']):\n",
    "            err.append(i)\n",
    "print(len(err))"
   ]
  },
  {
   "cell_type": "code",
   "execution_count": null,
   "id": "75f6d3e0-f8a4-43db-a60c-58dcf76eee0e",
   "metadata": {},
   "outputs": [],
   "source": [
    "check = err[0]\n",
    "\n",
    "print('rating: ', len(glowpick_product_info_final_version_w_review.loc[check, 'product_rating']))\n",
    "print('user_skin_type: ', len(glowpick_product_info_final_version_w_review.loc[check, 'user_skin_type']))\n",
    "print('age: ', len(glowpick_product_info_final_version_w_review.loc[check, 'user_age']))\n",
    "print('sex: ', len(glowpick_product_info_final_version_w_review.loc[check, 'user_sex']))\n",
    "print('name: ', len(glowpick_product_info_final_version_w_review.loc[check, 'user_name']))\n",
    "print('review: ', len(glowpick_product_info_final_version_w_review.loc[check, 'product_review']))"
   ]
  },
  {
   "cell_type": "code",
   "execution_count": null,
   "id": "a7ab18f8-0184-43af-869f-39fc44ebea7b",
   "metadata": {},
   "outputs": [],
   "source": [
    "#리스트로 변경되지 않은 row: nan값을 None값으로\n",
    "for i in err:\n",
    "    try:\n",
    "        glowpick_product_info_final_version_w_review.at[i, 'user_skin_type'] = ast.literal_eval(glowpick_product_info_final_version_w_review.loc[i, 'user_skin_type'].replace('nan', 'None'))\n",
    "        glowpick_product_info_final_version_w_review.at[i, 'user_age'] = ast.literal_eval(glowpick_product_info_final_version_w_review.loc[i, 'user_age'].replace('nan', 'None'))\n",
    "        glowpick_product_info_final_version_w_review.at[i, 'user_name'] = ast.literal_eval(glowpick_product_info_final_version_w_review.loc[i, 'user_name'].replace('nan', 'None'))\n",
    "        glowpick_product_info_final_version_w_review.at[i, 'user_sex'] = ast.literal_eval(glowpick_product_info_final_version_w_review.loc[i, 'user_sex'].replace('nan', 'None'))\n",
    "        glowpick_product_info_final_version_w_review.at[i, 'product_review'] = ast.literal_eval(glowpick_product_info_final_version_w_review.loc[i, 'product_review'].replace('nan', 'None'))\n",
    "    except:\n",
    "        pass"
   ]
  },
  {
   "cell_type": "code",
   "execution_count": null,
   "id": "e292ba4a-943d-4bcc-9907-b18bb3cddddb",
   "metadata": {},
   "outputs": [],
   "source": [
    "#리스트로 타입 변환 후, None값을 다시 nan값으로\n",
    "glowpick_product_info_final_version_w_review.loc[check, 'product_review'][glowpick_product_info_final_version_w_review.loc[check, 'product_review'].index(None)] = np.nan"
   ]
  }
 ],
 "metadata": {
  "kernelspec": {
   "display_name": "Python 3 (ipykernel)",
   "language": "python",
   "name": "python3"
  },
  "language_info": {
   "codemirror_mode": {
    "name": "ipython",
    "version": 3
   },
   "file_extension": ".py",
   "mimetype": "text/x-python",
   "name": "python",
   "nbconvert_exporter": "python",
   "pygments_lexer": "ipython3",
   "version": "3.8.11"
  }
 },
 "nbformat": 4,
 "nbformat_minor": 5
}
