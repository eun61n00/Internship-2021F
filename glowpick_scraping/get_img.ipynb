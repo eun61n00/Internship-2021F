{
 "cells": [
  {
   "cell_type": "code",
   "execution_count": null,
   "id": "315f7284-a043-4ac2-8164-8fc29e051980",
   "metadata": {},
   "outputs": [],
   "source": [
    "import os\n",
    "import re\n",
    "import pandas as pd\n",
    "import pickle\n",
    "import collections\n",
    "import numpy as np\n",
    "import math\n",
    "from ast import literal_eval\n",
    "from time import gmtime, strftime\n",
    "import re\n",
    "import time\n",
    "from bs4 import BeautifulSoup\n",
    "\n",
    "# Scrapping\n",
    "import selenium\n",
    "from selenium import webdriver\n",
    "from selenium.webdriver.common.keys import Keys\n",
    "from selenium.webdriver.support.ui import WebDriverWait\n",
    "from selenium.webdriver.support import expected_conditions as EC\n",
    "from webdriver_manager.chrome import ChromeDriverManager\n",
    "from selenium.webdriver.common.by import By\n",
    "from selenium.webdriver.chrome.options import Options\n",
    "from fake_useragent import UserAgent\n",
    "\n",
    "# Error Handling\n",
    "import socket\n",
    "import urllib3\n",
    "import urllib.request\n",
    "import requests\n",
    "from urllib.request import urlopen\n",
    "from urllib.parse import quote_plus\n",
    "from urllib.request import urlretrieve\n",
    "from selenium.common.exceptions import NoSuchElementException, ElementNotInteractableException, ElementClickInterceptedException\n",
    "import warnings\n",
    "warnings.filterwarnings('ignore')\n",
    "\n",
    "from tqdm.auto import tqdm\n",
    "\n",
    "#img\n",
    "import cv2"
   ]
  },
  {
   "cell_type": "code",
   "execution_count": null,
   "id": "05ca67a9-3fc5-4305-a5a2-9723db1790ef",
   "metadata": {},
   "outputs": [],
   "source": [
    "#brd_idx, prd_idx 정렬한 dataframe 만들기\n",
    "\n",
    "idx = 0\n",
    "for i in tqdm(fnl_df_brd_w_prd.index):\n",
    "    for j in range(len(fnl_df_brd_w_prd.loc[i, 'product_name'])):\n",
    "        prd = {\"brd_idx\": i,\n",
    "               \"prd_idx\": j,\n",
    "              \"prd_id\": fnl_df_brd_w_prd.loc[i, 'product_link'][j].split('/')[-1],\n",
    "              \"brd_name\": fnl_df_brd_w_prd.loc[i, 'brand_name'],\n",
    "              \"prd_name\": fnl_df_brd_w_prd.loc[i, 'product_name'][j]}\n",
    "        df_idx_brd_prd.loc[idx] = prd\n",
    "        idx += 1"
   ]
  },
  {
   "cell_type": "code",
   "execution_count": null,
   "id": "ed92c394-0802-4a72-be3e-f16a9e512f6f",
   "metadata": {},
   "outputs": [],
   "source": [
    "fnl_df_glowpick_prd_info_w_img_src_drop_naver = pd.read_csv(\"fnl_df_glowpick_prd_info_w_img_src_drop_naver.csv\")\n",
    "\n",
    "df_idx_brd_prd = df_idx_brd_prd.drop(['brd_name', 'prd_name'], axis='columns')\n",
    "\n",
    "fnl_df_glowpick_prd_info_w_img_src_drop_naver = pd.merge(df_idx_brd_prd, fnl_df_glowpick_prd_info_w_img_src_drop_naver, how='inner', left_on='prd_id', right_on='제품 id')\n",
    "\n",
    "drop_columns_lst = ['제품 용량', '제품 가격', '유사 제품군 랭킹(int)', '유사 제품군 랭킹(text)',\n",
    "       '브랜드 내 랭킹(int)', '제품 수상명', '제품 수상 부문', '제품 수상 순위', '제품 설명', '제품 컬러/타입',\n",
    "       '제품 판매처', '제품 성분구성: 위험도 미정 (갯수)', '제품 성분구성: 위험도 미정 (성분(한글))',\n",
    "       '제품 성분구성: 위험도 미정 (성분(영어))', '제품 성분구성: 위험도 미정 (성분(설명))',\n",
    "       '제품 성분구성: 낮은 위험도 (갯수)', '제품 성분구성: 낮은 위험도 (성분(한글))',\n",
    "       '제품 성분구성: 낮은 위험도 (성분(영어))', '제품 성분구성: 낮은 위험도 (성분(설명))',\n",
    "       '제품 성분구성: 중간 위험도 (갯수)', '제품 성분구성: 중간 위험도 (성분(한글))',\n",
    "       '제품 성분구성: 중간 위험도(성분(영어))', '제품 성분구성: 중간 위험도 (성분(설명))',\n",
    "       '제품 성분구성: 높은 위험도 (갯수)', '제품 성분구성: 높은 위험도 (성분(한글))',\n",
    "       '제품 성분구성: 높은 위험도 (성분(영어))', '제품 성분구성: 높은 위험도 (성분(설명))', '제품 카테고리', '리뷰',\n",
    "       '별점', '리뷰 일자', '사용자 리뷰 개수', '사용자 피부 타입', '사용자 나이', '사용자 성별', '사용자 이름']\n",
    "       \n",
    "glowpick_prd_img_src = fnl_df_glowpick_prd_info_w_img_src_drop_naver.drop(drop_columns_lst, axis='columns')\n",
    "\n",
    "glowpick_prd_img_src.to_csv(\"glowpick_prd_img_src.csv\", index=False)"
   ]
  },
  {
   "cell_type": "code",
   "execution_count": null,
   "id": "bd43adc3-94ae-4557-92e2-652a96b8138c",
   "metadata": {},
   "outputs": [],
   "source": [
    "glowpick_prd_img_src = pd.read_csv(\"glowpick_prd_img_src.csv\")"
   ]
  },
  {
   "cell_type": "markdown",
   "id": "5874226a-4dfa-43b8-b31e-5e82ccc05a40",
   "metadata": {},
   "source": [
    "---"
   ]
  },
  {
   "cell_type": "code",
   "execution_count": null,
   "id": "8fd07e0d-2fd6-44b6-a22c-1c93fff1eda6",
   "metadata": {},
   "outputs": [],
   "source": [
    "def get_img(img_src, brd_idx, prd_idx):\n",
    "    options = Options()\n",
    "    ua = UserAgent()\n",
    "    userAgent = ua.random\n",
    "    print(userAgent)\n",
    "\n",
    "    options.add_argument('headless')\n",
    "    options.add_argument('window-size=1920x1080')\n",
    "    options.add_argument(\"disable-gpu\")\n",
    "    options.add_argument(f'user-agent={userAgent}')\n",
    "    wd = webdriver.Chrome(ChromeDriverManager().install(), chrome_options=options)\n",
    "\n",
    "    wd.get(img_src)\n",
    "    time.sleep(5)\n",
    "    \n",
    "    socket.setdefaulttimeout(30)\n",
    "    \n",
    "    while True:\n",
    "\n",
    "        try:\n",
    "            #wd.find_element_by_xpath('//*[@id=\\\"default-layout\\\"]/div/div[1]/span/div/div[2]/div[2]/button[2]').click()\n",
    "            #time.sleep(5)\n",
    "\n",
    "            #html = wd.page_source\n",
    "            #bs = BeautifulSoup(html, 'html.parser')\n",
    "\n",
    "            #images = bs.select('.image__img')\n",
    "            #time.sleep(3)\n",
    "\n",
    "            if not os.path.exists('glowpick_img/brand_{}'.format(brd_idx)): \n",
    "                os.makedirs('glowpick_img/brand_{}'.format(brd_idx))\n",
    "            \n",
    "            #이미지가 gif이면 frame 하나만 가져오기\n",
    "            if str(img_src).lower().endswith('.gif?w=500'):\n",
    "                gif = cv2.VideoCapture(img_src)\n",
    "                ret, frame = gif.read()  # ret=True if it finds a frame else False.\n",
    "                while ret:\n",
    "                    rate_num = 500 / frame.shape[1]\n",
    "                    width = 500\n",
    "                    height = int(frame.shape[0] * rate_num)\n",
    "                    frame = cv2.resize(frame, dsize=(width, height), interpolation=cv2.INTER_AREA)\n",
    "                    cv2.imwrite('glowpick_img/brand_{}/brand_{}_{}.png'.format(brd_idx, brd_idx, prd_idx), frame)\n",
    "                    return None\n",
    "            else:\n",
    "                #img_src = wd.find_element_by_xpath(\"/html/body/div/div/div/div/main/div/section/div[1]/div/div/img\").get_attribute('src')\n",
    "                #img_src = re.sub(\"w=[0-9]*\", \"w=500\", img_src)\n",
    "                img_nparray = np.asarray(bytearray(requests.get(img_src).content), dtype=np.uint8)\n",
    "                crawl_img = cv2.imdecode(img_nparray, cv2.IMREAD_COLOR)\n",
    "                cv2.imwrite('glowpick_img/brand_{}/brand_{}_{}.png'.format(brd_idx, brd_idx, prd_idx), crawl_img)\n",
    "                wd.close()\n",
    "                return None\n",
    "        \n",
    "        except urllib3.exceptions.ReadTimeoutError:\n",
    "            time.sleep(5)\n",
    "\n",
    "        except Exception as e:\n",
    "            print(\"에러가 발생했습니다.\", e)\n",
    "            missing_img.append([brd_idx, prd_idx, img_src])\n",
    "            wd.close()\n",
    "            return None"
   ]
  },
  {
   "cell_type": "code",
   "execution_count": null,
   "id": "456add9d-7ca3-40de-85f1-32e8d0871bd6",
   "metadata": {},
   "outputs": [],
   "source": [
    "missing_img = []"
   ]
  },
  {
   "cell_type": "code",
   "execution_count": null,
   "id": "6a75660b-3e8f-45e8-ad0c-28f4e6dbf2b8",
   "metadata": {},
   "outputs": [],
   "source": [
    "for i in tqdm(glowpick_prd_img_src.loc[(pd.isnull(glowpick_prd_img_src['이미지 src']) == False) & (pd.isnull(glowpick_prd_img_src['img_complete']) == True)][730:].index):\n",
    "    brd_idx = glowpick_prd_img_src.loc[i, 'brd_idx']\n",
    "    prd_idx = glowpick_prd_img_src.loc[i, 'prd_idx']\n",
    "    img_src = glowpick_prd_img_src.loc[i, '이미지 src']\n",
    "    get_img(img_src, brd_idx, prd_idx)"
   ]
  },
  {
   "cell_type": "markdown",
   "id": "e002dc64-e553-4ccb-9957-047f3ea9fef8",
   "metadata": {},
   "source": [
    "---\n",
    "이미지 수집 완료된 brd_idx, prd_idx 파악, 원df에 check"
   ]
  },
  {
   "cell_type": "code",
   "execution_count": null,
   "id": "023c70f5-56e2-48f1-b94b-130f88d22e7d",
   "metadata": {},
   "outputs": [],
   "source": [
    "import os\n",
    "cwd = os.getcwd()"
   ]
  },
  {
   "cell_type": "code",
   "execution_count": null,
   "id": "20d03f76-5eaf-418d-aefa-6f8b7e8e3477",
   "metadata": {},
   "outputs": [],
   "source": [
    "from os import listdir\n",
    "\n",
    "path_glowpick_img= cwd + '/glowpick_img'\n",
    "path_glowpick_img_brand = []\n",
    "\n",
    "for x in listdir(path_glowpick_img):\n",
    "    path_glowpick_img_brand.append(cwd + '/glowpick_img/{}'.format(x))"
   ]
  },
  {
   "cell_type": "code",
   "execution_count": null,
   "id": "d1c98ef9-f1a4-47bb-90f5-0354819c13ff",
   "metadata": {},
   "outputs": [],
   "source": [
    "path_glowpick_img_brand.remove(cwd + 'glowpick_img/.DS_Store')"
   ]
  },
  {
   "cell_type": "code",
   "execution_count": null,
   "id": "0004631c-18ed-466d-9fd5-373f5919f3e5",
   "metadata": {},
   "outputs": [],
   "source": [
    "complete_lst = pd.DataFrame(columns = ['brd_idx', 'prd_idx_lst'])\n",
    "\n",
    "idx = 0\n",
    "\n",
    "for i in path_glowpick_img_brand:\n",
    "    complete_brd_idx = int(i.split('_')[-1])\n",
    "    complete_prd_idx_lst = [int(x.split('_')[-1].split('.')[0]) for x in listdir(i)]\n",
    "    \n",
    "    complete_lst.loc[idx] = {\n",
    "        'brd_idx': complete_brd_idx,\n",
    "        'prd_idx_lst': complete_prd_idx_lst\n",
    "    }\n",
    "    idx += 1"
   ]
  },
  {
   "cell_type": "code",
   "execution_count": null,
   "id": "e645ed6a-fae8-43c0-bf7c-2f400836030a",
   "metadata": {},
   "outputs": [],
   "source": [
    "#원dataframe인 glowpick_prd_img_src에 표시\n",
    "\n",
    "for i in tqdm(complete_lst.index):\n",
    "    brd_idx = complete_lst.loc[i, 'brd_idx']\n",
    "    for j in complete_lst.loc[i, 'prd_idx_lst']:\n",
    "        prd_idx = j\n",
    "        glowpick_prd_img_src.loc[(glowpick_prd_img_src['brd_idx'] == brd_idx) & (glowpick_prd_img_src['prd_idx'] == prd_idx), 'img_complete'] = 1"
   ]
  },
  {
   "cell_type": "markdown",
   "id": "1d2ee28b-40aa-4980-b060-cdfce6e83fc7",
   "metadata": {},
   "source": [
    "---\n",
    "resize image\n",
    "\n",
    ": width 500으로 맞추기"
   ]
  },
  {
   "cell_type": "code",
   "execution_count": null,
   "id": "612aba0e-02d1-4860-9672-2f6f96315337",
   "metadata": {},
   "outputs": [],
   "source": [
    "from PIL import Image\n",
    "from tqdm.auto import tqdm\n",
    "\n",
    "for i in tqdm(path_glowpick_img_brand):\n",
    "    try:\n",
    "        for j in listdir(i):\n",
    "            im = Image.open(i +'/' + j)\n",
    "            image_size = im.size\n",
    "            if image_size[0] != 500:\n",
    "                rate = 500 / image_size[0]\n",
    "                width = 500\n",
    "                height = image_size[1] * rate\n",
    "                im = im.resize((int(width), int(height)))\n",
    "                im.save(i +'/' + j)\n",
    "                print(i +'/' + j)\n",
    "    except :\n",
    "        print(i)\n",
    "        pass"
   ]
  }
 ],
 "metadata": {
  "kernelspec": {
   "display_name": "Python 3",
   "language": "python",
   "name": "python3"
  },
  "language_info": {
   "codemirror_mode": {
    "name": "ipython",
    "version": 3
   },
   "file_extension": ".py",
   "mimetype": "text/x-python",
   "name": "python",
   "nbconvert_exporter": "python",
   "pygments_lexer": "ipython3",
   "version": "3.8.10"
  }
 },
 "nbformat": 4,
 "nbformat_minor": 5
}
