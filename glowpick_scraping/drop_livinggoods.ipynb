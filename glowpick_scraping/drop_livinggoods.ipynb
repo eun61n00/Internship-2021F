{
 "cells": [
  {
   "cell_type": "markdown",
   "id": "367b9c48-10eb-4fb4-9c36-05455c1cc464",
   "metadata": {},
   "source": [
    "drop_living_goods(lg)"
   ]
  },
  {
   "cell_type": "code",
   "execution_count": 1,
   "id": "2e8e17bb-5b7c-48ef-b57b-0e0468a78b30",
   "metadata": {},
   "outputs": [],
   "source": [
    "import os\n",
    "import re\n",
    "import pandas as pd\n",
    "import pickle\n",
    "import collections\n",
    "import numpy as np\n",
    "import math\n",
    "from ast import literal_eval\n",
    "from time import gmtime, strftime\n",
    "import re\n",
    "import time\n",
    "from bs4 import BeautifulSoup\n",
    "\n",
    "# Scrapping\n",
    "import selenium\n",
    "from selenium import webdriver\n",
    "from selenium.webdriver.common.keys import Keys\n",
    "from selenium.webdriver.support.ui import WebDriverWait\n",
    "from selenium.webdriver.support import expected_conditions as EC\n",
    "from webdriver_manager.chrome import ChromeDriverManager\n",
    "from selenium.webdriver.common.by import By\n",
    "from selenium.webdriver.chrome.options import Options\n",
    "from fake_useragent import UserAgent\n",
    "\n",
    "# Error Handling\n",
    "import socket\n",
    "import urllib3\n",
    "import urllib.request\n",
    "from urllib.request import urlopen\n",
    "from urllib.parse import quote_plus\n",
    "from urllib.request import urlretrieve\n",
    "from selenium.common.exceptions import NoSuchElementException, ElementNotInteractableException, ElementClickInterceptedException\n",
    "import warnings\n",
    "warnings.filterwarnings('ignore')"
   ]
  },
  {
   "cell_type": "code",
   "execution_count": 6,
   "id": "35370b09-d11a-42f8-8e0d-9b612f02961a",
   "metadata": {},
   "outputs": [
    {
     "data": {
      "text/html": [
       "<div>\n",
       "<style scoped>\n",
       "    .dataframe tbody tr th:only-of-type {\n",
       "        vertical-align: middle;\n",
       "    }\n",
       "\n",
       "    .dataframe tbody tr th {\n",
       "        vertical-align: top;\n",
       "    }\n",
       "\n",
       "    .dataframe thead th {\n",
       "        text-align: right;\n",
       "    }\n",
       "</style>\n",
       "<table border=\"1\" class=\"dataframe\">\n",
       "  <thead>\n",
       "    <tr style=\"text-align: right;\">\n",
       "      <th></th>\n",
       "      <th>brand_code</th>\n",
       "      <th>brand_name</th>\n",
       "    </tr>\n",
       "  </thead>\n",
       "  <tbody>\n",
       "    <tr>\n",
       "      <th>0</th>\n",
       "      <td>https://www.glowpick.com/brands/8016</td>\n",
       "      <td>가가알로에</td>\n",
       "    </tr>\n",
       "    <tr>\n",
       "      <th>1</th>\n",
       "      <td>https://www.glowpick.com/brands/1265</td>\n",
       "      <td>가그린</td>\n",
       "    </tr>\n",
       "    <tr>\n",
       "      <th>2</th>\n",
       "      <td>https://www.glowpick.com/brands/2077</td>\n",
       "      <td>가네보</td>\n",
       "    </tr>\n",
       "    <tr>\n",
       "      <th>3</th>\n",
       "      <td>https://www.glowpick.com/brands/11100</td>\n",
       "      <td>가드맨</td>\n",
       "    </tr>\n",
       "    <tr>\n",
       "      <th>4</th>\n",
       "      <td>https://www.glowpick.com/brands/8724</td>\n",
       "      <td>가드미</td>\n",
       "    </tr>\n",
       "    <tr>\n",
       "      <th>...</th>\n",
       "      <td>...</td>\n",
       "      <td>...</td>\n",
       "    </tr>\n",
       "    <tr>\n",
       "      <th>8047</th>\n",
       "      <td>https://www.glowpick.com/brands/490</td>\n",
       "      <td>4711</td>\n",
       "    </tr>\n",
       "    <tr>\n",
       "      <th>8048</th>\n",
       "      <td>https://www.glowpick.com/brands/10747</td>\n",
       "      <td>5.2뉴트리션</td>\n",
       "    </tr>\n",
       "    <tr>\n",
       "      <th>8049</th>\n",
       "      <td>https://www.glowpick.com/brands/10183</td>\n",
       "      <td>76N1</td>\n",
       "    </tr>\n",
       "    <tr>\n",
       "      <th>8050</th>\n",
       "      <td>https://www.glowpick.com/brands/6814</td>\n",
       "      <td>87발렌타인</td>\n",
       "    </tr>\n",
       "    <tr>\n",
       "      <th>8051</th>\n",
       "      <td>https://www.glowpick.com/brands/6151</td>\n",
       "      <td>9컴플렉스</td>\n",
       "    </tr>\n",
       "  </tbody>\n",
       "</table>\n",
       "<p>8052 rows × 2 columns</p>\n",
       "</div>"
      ],
      "text/plain": [
       "                                 brand_code brand_name\n",
       "0      https://www.glowpick.com/brands/8016      가가알로에\n",
       "1      https://www.glowpick.com/brands/1265        가그린\n",
       "2      https://www.glowpick.com/brands/2077        가네보\n",
       "3     https://www.glowpick.com/brands/11100        가드맨\n",
       "4      https://www.glowpick.com/brands/8724        가드미\n",
       "...                                     ...        ...\n",
       "8047    https://www.glowpick.com/brands/490       4711\n",
       "8048  https://www.glowpick.com/brands/10747    5.2뉴트리션\n",
       "8049  https://www.glowpick.com/brands/10183       76N1\n",
       "8050   https://www.glowpick.com/brands/6814     87발렌타인\n",
       "8051   https://www.glowpick.com/brands/6151      9컴플렉스\n",
       "\n",
       "[8052 rows x 2 columns]"
      ]
     },
     "execution_count": 6,
     "metadata": {},
     "output_type": "execute_result"
    }
   ],
   "source": [
    "final_brd_df = os.getcwd() + '/' + 'final_brd.csv'\n",
    "final_brd_df = pd.read_csv(final_brd_df)\n",
    "final_brd_df = final_brd_df.iloc[:, 1:]\n",
    "final_brd_df"
   ]
  },
  {
   "cell_type": "code",
   "execution_count": 121,
   "id": "2c3f673a-cf7c-4dd7-a2d3-719d845c9d16",
   "metadata": {},
   "outputs": [],
   "source": [
    "only_lg = []\n",
    "error = []\n",
    "idx = 0"
   ]
  },
  {
   "cell_type": "code",
   "execution_count": 122,
   "id": "8b0058f1-c502-49f0-8b52-f286b6e37956",
   "metadata": {},
   "outputs": [],
   "source": [
    "drop_lg500 = final_brd_df.iloc[:500, :]\n",
    "drop_lg1000 = final_brd_df.iloc[500:1000, :]\n",
    "drop_lg1500 = final_brd_df.iloc[1000:1500, :]\n",
    "drop_lg2000 = final_brd_df.iloc[1500:2000, :]\n",
    "drop_lg2500 = final_brd_df.iloc[2000:2500, :]\n",
    "drop_lg3000 = final_brd_df.iloc[2500:3000, :]\n",
    "drop_lg3500 = final_brd_df.iloc[3000:3500, :]\n",
    "drop_lg4000 = final_brd_df.iloc[3500:4000, :]\n",
    "drop_lg4500 = final_brd_df.iloc[4000:4500, :]\n",
    "drop_lg5000 = final_brd_df.iloc[4500:5000, :]\n",
    "drop_lg5500 = final_brd_df.iloc[5000:5500, :]\n",
    "drop_lg6000 = final_brd_df.iloc[5500:6000, :]\n",
    "drop_lg6500 = final_brd_df.iloc[6000:6500, :]\n",
    "drop_lg7000 = final_brd_df.iloc[6500:7000, :]\n",
    "drop_lg7500 = final_brd_df.iloc[7000:7500, :]\n",
    "drop_lg8051 = final_brd_df.iloc[7500:, :]"
   ]
  },
  {
   "cell_type": "code",
   "execution_count": 148,
   "id": "2cf57b52-2377-4d93-b923-4dcaf5823712",
   "metadata": {},
   "outputs": [
    {
     "data": {
      "text/plain": [
       "501"
      ]
     },
     "execution_count": 148,
     "metadata": {},
     "output_type": "execute_result"
    }
   ],
   "source": [
    "idx"
   ]
  },
  {
   "cell_type": "code",
   "execution_count": 136,
   "id": "397f6f56-1424-4039-a41f-997fa21ed2a6",
   "metadata": {},
   "outputs": [
    {
     "data": {
      "text/html": [
       "<div>\n",
       "<style scoped>\n",
       "    .dataframe tbody tr th:only-of-type {\n",
       "        vertical-align: middle;\n",
       "    }\n",
       "\n",
       "    .dataframe tbody tr th {\n",
       "        vertical-align: top;\n",
       "    }\n",
       "\n",
       "    .dataframe thead th {\n",
       "        text-align: right;\n",
       "    }\n",
       "</style>\n",
       "<table border=\"1\" class=\"dataframe\">\n",
       "  <thead>\n",
       "    <tr style=\"text-align: right;\">\n",
       "      <th></th>\n",
       "      <th>brand_code</th>\n",
       "      <th>brand_name</th>\n",
       "    </tr>\n",
       "  </thead>\n",
       "  <tbody>\n",
       "    <tr>\n",
       "      <th>500</th>\n",
       "      <td>https://www.glowpick.com/brands/576</td>\n",
       "      <td>뉴트리바이오틱</td>\n",
       "    </tr>\n",
       "    <tr>\n",
       "      <th>501</th>\n",
       "      <td>https://www.glowpick.com/brands/10583</td>\n",
       "      <td>뉴트리셀론</td>\n",
       "    </tr>\n",
       "    <tr>\n",
       "      <th>502</th>\n",
       "      <td>https://www.glowpick.com/brands/11868</td>\n",
       "      <td>뉴트리셔니스타</td>\n",
       "    </tr>\n",
       "    <tr>\n",
       "      <th>503</th>\n",
       "      <td>https://www.glowpick.com/brands/10731</td>\n",
       "      <td>뉴트리션 나우</td>\n",
       "    </tr>\n",
       "    <tr>\n",
       "      <th>504</th>\n",
       "      <td>https://www.glowpick.com/brands/10752</td>\n",
       "      <td>뉴트리션팩토리</td>\n",
       "    </tr>\n",
       "    <tr>\n",
       "      <th>...</th>\n",
       "      <td>...</td>\n",
       "      <td>...</td>\n",
       "    </tr>\n",
       "    <tr>\n",
       "      <th>995</th>\n",
       "      <td>https://www.glowpick.com/brands/9154</td>\n",
       "      <td>데일리비</td>\n",
       "    </tr>\n",
       "    <tr>\n",
       "      <th>996</th>\n",
       "      <td>https://www.glowpick.com/brands/6067</td>\n",
       "      <td>데일리스킨</td>\n",
       "    </tr>\n",
       "    <tr>\n",
       "      <th>997</th>\n",
       "      <td>https://www.glowpick.com/brands/3181</td>\n",
       "      <td>데일리시</td>\n",
       "    </tr>\n",
       "    <tr>\n",
       "      <th>998</th>\n",
       "      <td>https://www.glowpick.com/brands/7656</td>\n",
       "      <td>데일리아</td>\n",
       "    </tr>\n",
       "    <tr>\n",
       "      <th>999</th>\n",
       "      <td>https://www.glowpick.com/brands/11265</td>\n",
       "      <td>데일리아로마</td>\n",
       "    </tr>\n",
       "  </tbody>\n",
       "</table>\n",
       "<p>500 rows × 2 columns</p>\n",
       "</div>"
      ],
      "text/plain": [
       "                                brand_code brand_name\n",
       "500    https://www.glowpick.com/brands/576    뉴트리바이오틱\n",
       "501  https://www.glowpick.com/brands/10583      뉴트리셀론\n",
       "502  https://www.glowpick.com/brands/11868    뉴트리셔니스타\n",
       "503  https://www.glowpick.com/brands/10731    뉴트리션 나우\n",
       "504  https://www.glowpick.com/brands/10752    뉴트리션팩토리\n",
       "..                                     ...        ...\n",
       "995   https://www.glowpick.com/brands/9154       데일리비\n",
       "996   https://www.glowpick.com/brands/6067      데일리스킨\n",
       "997   https://www.glowpick.com/brands/3181       데일리시\n",
       "998   https://www.glowpick.com/brands/7656       데일리아\n",
       "999  https://www.glowpick.com/brands/11265     데일리아로마\n",
       "\n",
       "[500 rows x 2 columns]"
      ]
     },
     "execution_count": 136,
     "metadata": {},
     "output_type": "execute_result"
    }
   ],
   "source": [
    "drop_lg1000"
   ]
  },
  {
   "cell_type": "code",
   "execution_count": 149,
   "id": "f3785759-50ee-4d75-abd6-6b83194b489b",
   "metadata": {},
   "outputs": [
    {
     "data": {
      "text/plain": [
       "[51, 123, 183, 222, 402, 472]"
      ]
     },
     "execution_count": 149,
     "metadata": {},
     "output_type": "execute_result"
    }
   ],
   "source": [
    "error"
   ]
  },
  {
   "cell_type": "code",
   "execution_count": 156,
   "id": "1a46409d-6678-428a-9f92-6bd49beaa45b",
   "metadata": {
    "collapsed": true,
    "jupyter": {
     "outputs_hidden": true
    },
    "tags": []
   },
   "outputs": [
    {
     "data": {
      "text/plain": [
       "[brand_code    https://www.glowpick.com/brands/1265\n",
       " brand_name                                     가그린\n",
       " Name: 1, dtype: object,\n",
       " brand_code    https://www.glowpick.com/brands/11100\n",
       " brand_name                                      가드맨\n",
       " Name: 3, dtype: object,\n",
       " brand_code    https://www.glowpick.com/brands/11846\n",
       " brand_name                                       가쯔\n",
       " Name: 16, dtype: object,\n",
       " brand_code    https://www.glowpick.com/brands/11164\n",
       " brand_name                                   경인 플랙스\n",
       " Name: 33, dtype: object,\n",
       " brand_code    https://www.glowpick.com/brands/11006\n",
       " brand_name                                    건영크린텍\n",
       " Name: 55, dtype: object,\n",
       " brand_code    https://www.glowpick.com/brands/10972\n",
       " brand_name                                    국대마스크\n",
       " Name: 88, dtype: object,\n",
       " brand_code    https://www.glowpick.com/brands/11859\n",
       " brand_name                                    국보마스크\n",
       " Name: 89, dtype: object,\n",
       " brand_code    https://www.glowpick.com/brands/11072\n",
       " brand_name                                      굿매너\n",
       " Name: 92, dtype: object,\n",
       " brand_code    https://www.glowpick.com/brands/7357\n",
       " brand_name                                      궁가\n",
       " Name: 97, dtype: object,\n",
       " brand_code    https://www.glowpick.com/brands/7345\n",
       " brand_name                                     그나랜\n",
       " Name: 101, dtype: object,\n",
       " brand_code    https://www.glowpick.com/brands/10341\n",
       " brand_name                                      그란츠\n",
       " Name: 111, dtype: object,\n",
       " brand_code    https://www.glowpick.com/brands/11215\n",
       " brand_name                                     그린동화\n",
       " Name: 132, dtype: object,\n",
       " brand_code    https://www.glowpick.com/brands/11068\n",
       " brand_name                                    그린플러스\n",
       " Name: 141, dtype: object,\n",
       " brand_code    https://www.glowpick.com/brands/5745\n",
       " brand_name                                    글리지젠\n",
       " Name: 176, dtype: object,\n",
       " brand_code    https://www.glowpick.com/brands/10513\n",
       " brand_name                                   금호덴탈제약\n",
       " Name: 181, dtype: object,\n",
       " brand_code    https://www.glowpick.com/brands/1183\n",
       " brand_name                                   깨끗한나라\n",
       " Name: 204, dtype: object,\n",
       " brand_code    https://www.glowpick.com/brands/11101\n",
       " brand_name                                     꼼마꼼마\n",
       " Name: 211, dtype: object,\n",
       " brand_code    https://www.glowpick.com/brands/11104\n",
       " brand_name                                      나노텍\n",
       " Name: 241, dtype: object,\n",
       " brand_code    https://www.glowpick.com/brands/12075\n",
       " brand_name                                     나도그래\n",
       " Name: 244, dtype: object,\n",
       " brand_code    https://www.glowpick.com/brands/10624\n",
       " brand_name                                       나우\n",
       " Name: 269, dtype: object,\n",
       " brand_code    https://www.glowpick.com/brands/5543\n",
       " brand_name                                   나트라케어\n",
       " Name: 296, dtype: object,\n",
       " brand_code    https://www.glowpick.com/brands/6219\n",
       " brand_name                                   내츄럴코튼\n",
       " Name: 321, dtype: object,\n",
       " brand_code    https://www.glowpick.com/brands/11109\n",
       " brand_name                                     네오메드\n",
       " Name: 343, dtype: object,\n",
       " brand_code    https://www.glowpick.com/brands/11387\n",
       " brand_name                                     네오시스\n",
       " Name: 349, dtype: object,\n",
       " brand_code    https://www.glowpick.com/brands/11110\n",
       " brand_name                                     네오케어\n",
       " Name: 353, dtype: object,\n",
       " brand_code    https://www.glowpick.com/brands/10977\n",
       " brand_name                                    네이처가드\n",
       " Name: 359, dtype: object,\n",
       " brand_code    https://www.glowpick.com/brands/9235\n",
       " brand_name                                    네이처수\n",
       " Name: 370, dtype: object,\n",
       " brand_code    https://www.glowpick.com/brands/10925\n",
       " brand_name                                    네이처퓨리\n",
       " Name: 380, dtype: object,\n",
       " brand_code    https://www.glowpick.com/brands/11011\n",
       " brand_name                                      네퓨어\n",
       " Name: 411, dtype: object,\n",
       " brand_code    https://www.glowpick.com/brands/11111\n",
       " brand_name                                     노브렉트\n",
       " Name: 431, dtype: object,\n",
       " brand_code    https://www.glowpick.com/brands/11860\n",
       " brand_name                                       노아\n",
       " Name: 435, dtype: object,\n",
       " brand_code    https://www.glowpick.com/brands/11069\n",
       " brand_name                                      노이몬\n",
       " Name: 440, dtype: object,\n",
       " brand_code    https://www.glowpick.com/brands/10174\n",
       " brand_name                                       누뉴\n",
       " Name: 451, dtype: object,\n",
       " brand_code    https://www.glowpick.com/brands/11048\n",
       " brand_name                                       누르\n",
       " Name: 457, dtype: object,\n",
       " brand_code    https://www.glowpick.com/brands/11270\n",
       " brand_name                                    뉴엠코리아\n",
       " Name: 486, dtype: object]"
      ]
     },
     "execution_count": 156,
     "metadata": {},
     "output_type": "execute_result"
    }
   ],
   "source": [
    "only_lg"
   ]
  },
  {
   "cell_type": "code",
   "execution_count": 152,
   "id": "4b1628ad-7b85-422a-a23a-0e8b2a8191d6",
   "metadata": {},
   "outputs": [],
   "source": [
    "drop_lg500_cp = drop_lg500.copy()"
   ]
  },
  {
   "cell_type": "code",
   "execution_count": 173,
   "id": "641c05ea-29d8-47df-8b8b-575736fabdaa",
   "metadata": {},
   "outputs": [
    {
     "name": "stderr",
     "output_type": "stream",
     "text": [
      "\n",
      "\n",
      "====== WebDriver manager ======\n",
      "Current google-chrome version is 93.0.4577\n",
      "Get LATEST driver version for 93.0.4577\n",
      "Driver [/Users/kimjisoo/.wdm/drivers/chromedriver/mac64/93.0.4577.63/chromedriver] found in cache\n"
     ]
    },
    {
     "name": "stdout",
     "output_type": "stream",
     "text": [
      "501 개 완료\n"
     ]
    }
   ],
   "source": [
    "wd = webdriver.Chrome(ChromeDriverManager().install())\n",
    "\n",
    "\n",
    "try:\n",
    "    wd.get('https://www.glowpick.com/brands/765')\n",
    "    time.sleep(2)\n",
    "    wd.find_element_by_xpath('//*[@id=\"default-layout\"]/div/div[1]/span/div/div[2]/div[2]/button[2]').click()\n",
    "    time.sleep(2)\n",
    "\n",
    "    html = wd.page_source\n",
    "    soup = soup = BeautifulSoup(html,\"html.parser\")\n",
    "    \n",
    "    selector_item_div = soup.select('.selector__item__div')[1].get_text()\n",
    "\n",
    "\n",
    "    if len(soup.findAll(\"div\", {\"class\":\"selector__item__div\"})) == 2 and '생활용품' in selector_item_div: #생활용품이 있고, 카테고리가 '전체'랑 '생활용품' 2개 밖에 없으면\n",
    "        #only_lg.append(final_brd_df.iloc[idx, :])\n",
    "        #drop_lg500_cp = drop_lg500_cp.drop(idx)\n",
    "        print('drop ')#, final_brd_df.loc[idx, 'brand_name'])\n",
    "\n",
    "    else:\n",
    "        pass\n",
    "\n",
    "    #idx += 1\n",
    "    print(idx, \"개 완료\")\n",
    "\n",
    "except IndexError as e:\n",
    "    if len(soup.findAll(\"li\", {\"class\":\"ranking__wrapper__list__item\"})) == 0:\n",
    "        #drop_lg500_cp = drop_lg500_cp.drop(idx)\n",
    "        print(\"no production! drop!\")\n",
    "    else:\n",
    "        print(\"just no category:)\")\n",
    "        pass\n",
    "    \n",
    "except Exception as e:\n",
    "    #idx += 1\n",
    "    print(idx, '번 오류 : ', e)\n",
    "    #error.append(idx)\n",
    "    pass"
   ]
  },
  {
   "cell_type": "code",
   "execution_count": 155,
   "id": "e65f69ba-96f0-4e1f-ada0-c52adb188547",
   "metadata": {},
   "outputs": [
    {
     "data": {
      "text/plain": [
       "501"
      ]
     },
     "execution_count": 155,
     "metadata": {},
     "output_type": "execute_result"
    }
   ],
   "source": [
    "idx"
   ]
  },
  {
   "cell_type": "code",
   "execution_count": 195,
   "id": "c05ffd42-67c0-45aa-8e59-a85c2afc6241",
   "metadata": {
    "tags": []
   },
   "outputs": [
    {
     "name": "stderr",
     "output_type": "stream",
     "text": [
      "\n",
      "\n",
      "====== WebDriver manager ======\n",
      "Current google-chrome version is 93.0.4577\n",
      "Get LATEST driver version for 93.0.4577\n",
      "Driver [/Users/kimjisoo/.wdm/drivers/chromedriver/mac64/93.0.4577.63/chromedriver] found in cache\n"
     ]
    }
   ],
   "source": [
    "wd = webdriver.Chrome(ChromeDriverManager().install())\n",
    "categories = []\n",
    "\n",
    "#for i in final_brd_df.loc[, 'brand_code']:\n",
    "try:\n",
    "    category = []\n",
    "    wd.get('https://www.glowpick.com/brands/7547')\n",
    "    time.sleep(2)\n",
    "    wd.find_element_by_xpath('//*[@id=\"default-layout\"]/div/div[1]/span/div/div[2]/div[2]/button[2]').click()\n",
    "    time.sleep(2)\n",
    "\n",
    "    html = wd.page_source\n",
    "    soup = soup = BeautifulSoup(html,\"html.parser\")\n",
    "    \n",
    "    for i in range(len(soup.findAll('div', {'class':'selector__item__div'}))):\n",
    "        category_name = soup.select('.selector__item__div')[i].get_text().strip()\n",
    "        category.append(category_name)\n",
    "    \n",
    "    if len(category) == 1:\n",
    "        if len(soup.findAll(\"li\", {\"class\":\"ranking__wrapper__list__item\"})) == 0:\n",
    "            category.append('no product')\n",
    "        else:\n",
    "            category.append('no category')\n",
    "\n",
    "except Exception as e:\n",
    "    #idx += 1\n",
    "    print(idx, '번 오류 : ', e)\n",
    "    #error.append(idx)\n",
    "    pass"
   ]
  },
  {
   "cell_type": "code",
   "execution_count": 196,
   "id": "f69b7808-2eaa-4ef7-8607-84dc67b27bcd",
   "metadata": {},
   "outputs": [
    {
     "data": {
      "text/plain": [
       "['전체', 'no product']"
      ]
     },
     "execution_count": 196,
     "metadata": {},
     "output_type": "execute_result"
    }
   ],
   "source": [
    "category"
   ]
  },
  {
   "cell_type": "code",
   "execution_count": 129,
   "id": "240e5e1c-3f7d-486a-9416-bd6320a4bd6b",
   "metadata": {},
   "outputs": [],
   "source": [
    "drop_lg500 = drop_lg500.reset_index(drop=True)"
   ]
  },
  {
   "cell_type": "code",
   "execution_count": 147,
   "id": "60415b76-ed8d-42e0-ae2c-3e888f6e0b01",
   "metadata": {},
   "outputs": [],
   "source": [
    "drop_lg500.to_csv(\"final_drop500.csv\")"
   ]
  },
  {
   "cell_type": "code",
   "execution_count": 146,
   "id": "84a0d8b0-5d6e-469a-a362-0323165c94fe",
   "metadata": {},
   "outputs": [
    {
     "data": {
      "text/html": [
       "<div>\n",
       "<style scoped>\n",
       "    .dataframe tbody tr th:only-of-type {\n",
       "        vertical-align: middle;\n",
       "    }\n",
       "\n",
       "    .dataframe tbody tr th {\n",
       "        vertical-align: top;\n",
       "    }\n",
       "\n",
       "    .dataframe thead th {\n",
       "        text-align: right;\n",
       "    }\n",
       "</style>\n",
       "<table border=\"1\" class=\"dataframe\">\n",
       "  <thead>\n",
       "    <tr style=\"text-align: right;\">\n",
       "      <th></th>\n",
       "      <th>brand_code</th>\n",
       "      <th>brand_name</th>\n",
       "    </tr>\n",
       "  </thead>\n",
       "  <tbody>\n",
       "    <tr>\n",
       "      <th>0</th>\n",
       "      <td>https://www.glowpick.com/brands/8016</td>\n",
       "      <td>가가알로에</td>\n",
       "    </tr>\n",
       "    <tr>\n",
       "      <th>1</th>\n",
       "      <td>https://www.glowpick.com/brands/2077</td>\n",
       "      <td>가네보</td>\n",
       "    </tr>\n",
       "    <tr>\n",
       "      <th>2</th>\n",
       "      <td>https://www.glowpick.com/brands/8724</td>\n",
       "      <td>가드미</td>\n",
       "    </tr>\n",
       "    <tr>\n",
       "      <th>3</th>\n",
       "      <td>https://www.glowpick.com/brands/10352</td>\n",
       "      <td>가든 오브 라이프</td>\n",
       "    </tr>\n",
       "    <tr>\n",
       "      <th>4</th>\n",
       "      <td>https://www.glowpick.com/brands/7314</td>\n",
       "      <td>가디스가든</td>\n",
       "    </tr>\n",
       "    <tr>\n",
       "      <th>...</th>\n",
       "      <td>...</td>\n",
       "      <td>...</td>\n",
       "    </tr>\n",
       "    <tr>\n",
       "      <th>459</th>\n",
       "      <td>https://www.glowpick.com/brands/7232</td>\n",
       "      <td>뉴트리디데이</td>\n",
       "    </tr>\n",
       "    <tr>\n",
       "      <th>460</th>\n",
       "      <td>https://www.glowpick.com/brands/10279</td>\n",
       "      <td>뉴트리라이트</td>\n",
       "    </tr>\n",
       "    <tr>\n",
       "      <th>461</th>\n",
       "      <td>https://www.glowpick.com/brands/10273</td>\n",
       "      <td>뉴트리메이드</td>\n",
       "    </tr>\n",
       "    <tr>\n",
       "      <th>462</th>\n",
       "      <td>https://www.glowpick.com/brands/4617</td>\n",
       "      <td>뉴트리메틱스</td>\n",
       "    </tr>\n",
       "    <tr>\n",
       "      <th>463</th>\n",
       "      <td>https://www.glowpick.com/brands/11863</td>\n",
       "      <td>뉴트리미</td>\n",
       "    </tr>\n",
       "  </tbody>\n",
       "</table>\n",
       "<p>464 rows × 2 columns</p>\n",
       "</div>"
      ],
      "text/plain": [
       "                                brand_code brand_name\n",
       "0     https://www.glowpick.com/brands/8016      가가알로에\n",
       "1     https://www.glowpick.com/brands/2077        가네보\n",
       "2     https://www.glowpick.com/brands/8724        가드미\n",
       "3    https://www.glowpick.com/brands/10352  가든 오브 라이프\n",
       "4     https://www.glowpick.com/brands/7314      가디스가든\n",
       "..                                     ...        ...\n",
       "459   https://www.glowpick.com/brands/7232     뉴트리디데이\n",
       "460  https://www.glowpick.com/brands/10279     뉴트리라이트\n",
       "461  https://www.glowpick.com/brands/10273     뉴트리메이드\n",
       "462   https://www.glowpick.com/brands/4617     뉴트리메틱스\n",
       "463  https://www.glowpick.com/brands/11863       뉴트리미\n",
       "\n",
       "[464 rows x 2 columns]"
      ]
     },
     "execution_count": 146,
     "metadata": {},
     "output_type": "execute_result"
    }
   ],
   "source": [
    "drop_lg500"
   ]
  },
  {
   "cell_type": "code",
   "execution_count": null,
   "id": "2698bfc3-2a2c-4803-b988-3a79f525d618",
   "metadata": {},
   "outputs": [],
   "source": []
  }
 ],
 "metadata": {
  "kernelspec": {
   "display_name": "Python 3 (ipykernel)",
   "language": "python",
   "name": "python3"
  },
  "language_info": {
   "codemirror_mode": {
    "name": "ipython",
    "version": 3
   },
   "file_extension": ".py",
   "mimetype": "text/x-python",
   "name": "python",
   "nbconvert_exporter": "python",
   "pygments_lexer": "ipython3",
   "version": "3.8.11"
  }
 },
 "nbformat": 4,
 "nbformat_minor": 5
}
