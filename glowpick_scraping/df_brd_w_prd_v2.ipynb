{
 "cells": [
  {
   "cell_type": "markdown",
   "id": "b0dc99b3-40e8-487c-a0a6-0ab7e2adc6fa",
   "metadata": {},
   "source": []
  },
  {
   "cell_type": "code",
   "execution_count": 6,
   "id": "c9387ad7-69fc-44f6-be48-46ef085c3293",
   "metadata": {},
   "outputs": [
    {
     "name": "stdout",
     "output_type": "stream",
     "text": [
      "Current working directory :  /Users/kimjisoo/Desktop/preprocessing\n"
     ]
    }
   ],
   "source": [
    "import os\n",
    "\n",
    "print(\"Current working directory : \", os.getcwd())"
   ]
  },
  {
   "cell_type": "code",
   "execution_count": 9,
   "id": "cee0eb38-eb75-4e1f-a8ff-a5cdaeb49326",
   "metadata": {},
   "outputs": [],
   "source": [
    "import pickle\n",
    "\n",
    "with open(\"dict_prd_link_v2.txt\", \"rb\") as fp:\n",
    "    dict_prd_link_v2 = pickle.load(fp)\n",
    "    \n",
    "with open(\"dict_prd_name_v2.txt\", \"rb\") as fp:\n",
    "    dict_prd_name_v2 = pickle.load(fp)"
   ]
  },
  {
   "cell_type": "code",
   "execution_count": 13,
   "id": "dbf9b0f2-03e1-4837-b961-0c09f1825476",
   "metadata": {},
   "outputs": [],
   "source": [
    "df_brd = pd.read_csv(\"brd_info.csv\")\n",
    "df_brd = df_brd.iloc[:, 1:]"
   ]
  },
  {
   "cell_type": "code",
   "execution_count": 15,
   "id": "aabd8633-72fe-4b7f-93d0-ea647b8d1793",
   "metadata": {},
   "outputs": [],
   "source": [
    "df_brd['product_link'] = df_brd['brand_name'].map(dict_prd_link_v2)\n",
    "df_brd['product_name'] = df_brd['brand_name'].map(dict_prd_name_v2)"
   ]
  },
  {
   "cell_type": "code",
   "execution_count": 18,
   "id": "12386228-fecc-4e15-ad71-ba705703f05f",
   "metadata": {},
   "outputs": [],
   "source": [
    "df_brd_w_prd_v2 = df_brd.copy()"
   ]
  },
  {
   "cell_type": "code",
   "execution_count": 48,
   "id": "016889db-0e7d-433b-8265-158efe765708",
   "metadata": {},
   "outputs": [
    {
     "data": {
      "text/html": [
       "<div>\n",
       "<style scoped>\n",
       "    .dataframe tbody tr th:only-of-type {\n",
       "        vertical-align: middle;\n",
       "    }\n",
       "\n",
       "    .dataframe tbody tr th {\n",
       "        vertical-align: top;\n",
       "    }\n",
       "\n",
       "    .dataframe thead th {\n",
       "        text-align: right;\n",
       "    }\n",
       "</style>\n",
       "<table border=\"1\" class=\"dataframe\">\n",
       "  <thead>\n",
       "    <tr style=\"text-align: right;\">\n",
       "      <th></th>\n",
       "      <th>brand_code</th>\n",
       "      <th>brand_name</th>\n",
       "      <th>category</th>\n",
       "      <th>product_link</th>\n",
       "      <th>product_name</th>\n",
       "    </tr>\n",
       "  </thead>\n",
       "  <tbody>\n",
       "    <tr>\n",
       "      <th>0</th>\n",
       "      <td>False</td>\n",
       "      <td>False</td>\n",
       "      <td>False</td>\n",
       "      <td>False</td>\n",
       "      <td>False</td>\n",
       "    </tr>\n",
       "    <tr>\n",
       "      <th>1</th>\n",
       "      <td>False</td>\n",
       "      <td>False</td>\n",
       "      <td>False</td>\n",
       "      <td>False</td>\n",
       "      <td>False</td>\n",
       "    </tr>\n",
       "    <tr>\n",
       "      <th>2</th>\n",
       "      <td>False</td>\n",
       "      <td>False</td>\n",
       "      <td>False</td>\n",
       "      <td>False</td>\n",
       "      <td>False</td>\n",
       "    </tr>\n",
       "    <tr>\n",
       "      <th>3</th>\n",
       "      <td>False</td>\n",
       "      <td>False</td>\n",
       "      <td>False</td>\n",
       "      <td>False</td>\n",
       "      <td>False</td>\n",
       "    </tr>\n",
       "    <tr>\n",
       "      <th>4</th>\n",
       "      <td>False</td>\n",
       "      <td>False</td>\n",
       "      <td>False</td>\n",
       "      <td>False</td>\n",
       "      <td>False</td>\n",
       "    </tr>\n",
       "    <tr>\n",
       "      <th>...</th>\n",
       "      <td>...</td>\n",
       "      <td>...</td>\n",
       "      <td>...</td>\n",
       "      <td>...</td>\n",
       "      <td>...</td>\n",
       "    </tr>\n",
       "    <tr>\n",
       "      <th>8047</th>\n",
       "      <td>False</td>\n",
       "      <td>False</td>\n",
       "      <td>False</td>\n",
       "      <td>False</td>\n",
       "      <td>False</td>\n",
       "    </tr>\n",
       "    <tr>\n",
       "      <th>8048</th>\n",
       "      <td>False</td>\n",
       "      <td>False</td>\n",
       "      <td>False</td>\n",
       "      <td>False</td>\n",
       "      <td>False</td>\n",
       "    </tr>\n",
       "    <tr>\n",
       "      <th>8049</th>\n",
       "      <td>False</td>\n",
       "      <td>False</td>\n",
       "      <td>False</td>\n",
       "      <td>False</td>\n",
       "      <td>False</td>\n",
       "    </tr>\n",
       "    <tr>\n",
       "      <th>8050</th>\n",
       "      <td>False</td>\n",
       "      <td>False</td>\n",
       "      <td>False</td>\n",
       "      <td>False</td>\n",
       "      <td>False</td>\n",
       "    </tr>\n",
       "    <tr>\n",
       "      <th>8051</th>\n",
       "      <td>False</td>\n",
       "      <td>False</td>\n",
       "      <td>False</td>\n",
       "      <td>False</td>\n",
       "      <td>False</td>\n",
       "    </tr>\n",
       "  </tbody>\n",
       "</table>\n",
       "<p>8052 rows × 5 columns</p>\n",
       "</div>"
      ],
      "text/plain": [
       "      brand_code  brand_name  category  product_link  product_name\n",
       "0          False       False     False         False         False\n",
       "1          False       False     False         False         False\n",
       "2          False       False     False         False         False\n",
       "3          False       False     False         False         False\n",
       "4          False       False     False         False         False\n",
       "...          ...         ...       ...           ...           ...\n",
       "8047       False       False     False         False         False\n",
       "8048       False       False     False         False         False\n",
       "8049       False       False     False         False         False\n",
       "8050       False       False     False         False         False\n",
       "8051       False       False     False         False         False\n",
       "\n",
       "[8052 rows x 5 columns]"
      ]
     },
     "execution_count": 48,
     "metadata": {},
     "output_type": "execute_result"
    }
   ],
   "source": [
    "df_brd_w_prd_v2.isnull()"
   ]
  },
  {
   "cell_type": "code",
   "execution_count": 53,
   "id": "f306ef7b-af10-473e-967e-4d853ccd43a0",
   "metadata": {},
   "outputs": [],
   "source": [
    "nan = df_brd_w_prd_v2[df_brd_w_prd_v2['product_link'].isnull()].index"
   ]
  },
  {
   "cell_type": "code",
   "execution_count": 50,
   "id": "c01ad313-9641-4dfb-a03b-1b0f8b6f3978",
   "metadata": {},
   "outputs": [
    {
     "data": {
      "text/html": [
       "<div>\n",
       "<style scoped>\n",
       "    .dataframe tbody tr th:only-of-type {\n",
       "        vertical-align: middle;\n",
       "    }\n",
       "\n",
       "    .dataframe tbody tr th {\n",
       "        vertical-align: top;\n",
       "    }\n",
       "\n",
       "    .dataframe thead th {\n",
       "        text-align: right;\n",
       "    }\n",
       "</style>\n",
       "<table border=\"1\" class=\"dataframe\">\n",
       "  <thead>\n",
       "    <tr style=\"text-align: right;\">\n",
       "      <th></th>\n",
       "      <th>brand_code</th>\n",
       "      <th>brand_name</th>\n",
       "      <th>category</th>\n",
       "      <th>product_link</th>\n",
       "      <th>product_name</th>\n",
       "    </tr>\n",
       "  </thead>\n",
       "  <tbody>\n",
       "  </tbody>\n",
       "</table>\n",
       "</div>"
      ],
      "text/plain": [
       "Empty DataFrame\n",
       "Columns: [brand_code, brand_name, category, product_link, product_name]\n",
       "Index: []"
      ]
     },
     "execution_count": 50,
     "metadata": {},
     "output_type": "execute_result"
    }
   ],
   "source": [
    "df_brd_w_prd_v2[df_brd_w_prd_v2['product_name'].isnull()]"
   ]
  },
  {
   "cell_type": "code",
   "execution_count": 38,
   "id": "a42407b0-58cc-4540-b978-64c40d0413c8",
   "metadata": {},
   "outputs": [
    {
     "data": {
      "text/plain": [
       "list"
      ]
     },
     "execution_count": 38,
     "metadata": {},
     "output_type": "execute_result"
    }
   ],
   "source": [
    "type(df_brd_w_prd_v2.loc[8003, 'product_link'])"
   ]
  },
  {
   "cell_type": "code",
   "execution_count": 36,
   "id": "13ffb147-87b7-455d-81d5-512240e2dc49",
   "metadata": {
    "collapsed": true,
    "jupyter": {
     "outputs_hidden": true
    },
    "tags": []
   },
   "outputs": [
    {
     "data": {
      "text/html": [
       "<div>\n",
       "<style scoped>\n",
       "    .dataframe tbody tr th:only-of-type {\n",
       "        vertical-align: middle;\n",
       "    }\n",
       "\n",
       "    .dataframe tbody tr th {\n",
       "        vertical-align: top;\n",
       "    }\n",
       "\n",
       "    .dataframe thead th {\n",
       "        text-align: right;\n",
       "    }\n",
       "</style>\n",
       "<table border=\"1\" class=\"dataframe\">\n",
       "  <thead>\n",
       "    <tr style=\"text-align: right;\">\n",
       "      <th></th>\n",
       "      <th>brand_code</th>\n",
       "      <th>brand_name</th>\n",
       "      <th>category</th>\n",
       "      <th>product_link</th>\n",
       "      <th>product_name</th>\n",
       "    </tr>\n",
       "  </thead>\n",
       "  <tbody>\n",
       "    <tr>\n",
       "      <th>8002</th>\n",
       "      <td>https://www.glowpick.com/brands/7740</td>\n",
       "      <td>TMTR</td>\n",
       "      <td>['마스크/팩']</td>\n",
       "      <td>[https://www.glowpick.com/products/102000]</td>\n",
       "      <td>[눈꽃 마스크팩]</td>\n",
       "    </tr>\n",
       "    <tr>\n",
       "      <th>8003</th>\n",
       "      <td>https://www.glowpick.com/brands/10295</td>\n",
       "      <td>TRUE LIFE</td>\n",
       "      <td>['이너뷰티']</td>\n",
       "      <td>[]</td>\n",
       "      <td>[]</td>\n",
       "    </tr>\n",
       "    <tr>\n",
       "      <th>8004</th>\n",
       "      <td>https://www.glowpick.com/brands/11764</td>\n",
       "      <td>TNU</td>\n",
       "      <td>['스킨케어', '생활용품']</td>\n",
       "      <td>[https://www.glowpick.com/products/146975, htt...</td>\n",
       "      <td>[락토멜리아 마일드 폼 워시, 락토멜리아 프로바이오발란스 리페어 크림]</td>\n",
       "    </tr>\n",
       "    <tr>\n",
       "      <th>8005</th>\n",
       "      <td>https://www.glowpick.com/brands/3793</td>\n",
       "      <td>TS</td>\n",
       "      <td>['이너뷰티', '아이메이크업', '클렌징', '마스크/팩', '배쓰&amp;바디', '헤...</td>\n",
       "      <td>[https://www.glowpick.com/products/95342, http...</td>\n",
       "      <td>[TS래쉬, TS마스크팩, 올뉴TS샴푸, TS헤어팩, 프리미엄TS트리트먼트, TS착...</td>\n",
       "    </tr>\n",
       "    <tr>\n",
       "      <th>8006</th>\n",
       "      <td>https://www.glowpick.com/brands/6397</td>\n",
       "      <td>TSS</td>\n",
       "      <td>['아이메이크업']</td>\n",
       "      <td>[https://www.glowpick.com/products/85482]</td>\n",
       "      <td>[타투 아이브로우]</td>\n",
       "    </tr>\n",
       "    <tr>\n",
       "      <th>8007</th>\n",
       "      <td>https://www.glowpick.com/brands/7120</td>\n",
       "      <td>TSW</td>\n",
       "      <td>['페이스메이크업', '립메이크업', '아이메이크업']</td>\n",
       "      <td>[https://www.glowpick.com/products/108099, htt...</td>\n",
       "      <td>[매트 핏 올킬 립스틱, 매직 아이틴트, 매직 워터틴트, 올킬 붓펜 아이라이너, 모...</td>\n",
       "    </tr>\n",
       "    <tr>\n",
       "      <th>8008</th>\n",
       "      <td>https://www.glowpick.com/brands/11613</td>\n",
       "      <td>TZ코스메틱</td>\n",
       "      <td>['스킨케어']</td>\n",
       "      <td>[https://www.glowpick.com/products/144953]</td>\n",
       "      <td>[물푸레 맑은 수분 토너]</td>\n",
       "    </tr>\n",
       "    <tr>\n",
       "      <th>8009</th>\n",
       "      <td>https://www.glowpick.com/brands/11544</td>\n",
       "      <td>UUUUU</td>\n",
       "      <td>['네일']</td>\n",
       "      <td>[https://www.glowpick.com/products/144230, htt...</td>\n",
       "      <td>[젤 네일, (젬스톤 컬렉션) 젤 네일]</td>\n",
       "    </tr>\n",
       "    <tr>\n",
       "      <th>8010</th>\n",
       "      <td>https://www.glowpick.com/brands/11</td>\n",
       "      <td>VDL</td>\n",
       "      <td>['스킨케어', '페이스메이크업', '립메이크업', '아이메이크업', '컨투어링',...</td>\n",
       "      <td>[https://www.glowpick.com/products/92409, http...</td>\n",
       "      <td>[엑스퍼트 아이밤 부스팅 픽서, 페스티벌 블러셔, 엑스퍼트 컬러 프라이머 포 아이즈...</td>\n",
       "    </tr>\n",
       "    <tr>\n",
       "      <th>8011</th>\n",
       "      <td>https://www.glowpick.com/brands/6652</td>\n",
       "      <td>VT COSMETICS</td>\n",
       "      <td>['스킨케어', '페이스메이크업', '립메이크업', '아이메이크업', '컨투어링',...</td>\n",
       "      <td>[https://www.glowpick.com/products/106938, htt...</td>\n",
       "      <td>[스팟 패치, 시카 마스크 팩, 프로그로스 콜라겐 팩트 [SPF50+/PA++++]...</td>\n",
       "    </tr>\n",
       "    <tr>\n",
       "      <th>8012</th>\n",
       "      <td>https://www.glowpick.com/brands/7436</td>\n",
       "      <td>W.SKIN LABORATORY</td>\n",
       "      <td>['스킨케어', '마스크/팩', '선케어', '배쓰&amp;바디', '프래그런스']</td>\n",
       "      <td>[]</td>\n",
       "      <td>[]</td>\n",
       "    </tr>\n",
       "    <tr>\n",
       "      <th>8013</th>\n",
       "      <td>https://www.glowpick.com/brands/2304</td>\n",
       "      <td>W7</td>\n",
       "      <td>['아이메이크업', '컨투어링']</td>\n",
       "      <td>[https://www.glowpick.com/products/129542, htt...</td>\n",
       "      <td>[소셜라이트 아이섀도우 팔레트, 블레이진 아이섀도우 팔레트, 인 더 버프 아이 컬러...</td>\n",
       "    </tr>\n",
       "    <tr>\n",
       "      <th>8014</th>\n",
       "      <td>https://www.glowpick.com/brands/2454</td>\n",
       "      <td>WHY</td>\n",
       "      <td>['스킨케어', '클렌징', '배쓰&amp;바디', '헤어']</td>\n",
       "      <td>[https://www.glowpick.com/products/39831, http...</td>\n",
       "      <td>[프렌치부케 샴푸, 퓨리파잉 내추럴 프로그래밍 에센스, 딜라이트 로즈 바디로션, 아...</td>\n",
       "    </tr>\n",
       "    <tr>\n",
       "      <th>8015</th>\n",
       "      <td>https://www.glowpick.com/brands/661</td>\n",
       "      <td>XTM</td>\n",
       "      <td>['남성화장품', '뷰티툴']</td>\n",
       "      <td>[https://www.glowpick.com/products/116276, htt...</td>\n",
       "      <td>[멀티 비비 스틱 [SPF50+/PA++++], 퍼퓸건, 이지 헤어라이너, 올인원 ...</td>\n",
       "    </tr>\n",
       "    <tr>\n",
       "      <th>8016</th>\n",
       "      <td>https://www.glowpick.com/brands/9408</td>\n",
       "      <td>YNM</td>\n",
       "      <td>['립메이크업', '컨투어링', '클렌징', '마스크/팩', '배쓰&amp;바디']</td>\n",
       "      <td>[https://www.glowpick.com/products/120915, htt...</td>\n",
       "      <td>[레인보우 허니 립 밤, 캔디 허니 립밤, 퀵 모닝 앤 나이트 케어 마스크, 립트리...</td>\n",
       "    </tr>\n",
       "    <tr>\n",
       "      <th>8017</th>\n",
       "      <td>https://www.glowpick.com/brands/6009</td>\n",
       "      <td>YS solution</td>\n",
       "      <td>['스킨케어', '선케어']</td>\n",
       "      <td>[]</td>\n",
       "      <td>[]</td>\n",
       "    </tr>\n",
       "    <tr>\n",
       "      <th>8018</th>\n",
       "      <td>https://www.glowpick.com/brands/11352</td>\n",
       "      <td>YSJ cosmetics</td>\n",
       "      <td>['스킨케어']</td>\n",
       "      <td>[]</td>\n",
       "      <td>[]</td>\n",
       "    </tr>\n",
       "    <tr>\n",
       "      <th>8019</th>\n",
       "      <td>https://www.glowpick.com/brands/3641</td>\n",
       "      <td>ZARA</td>\n",
       "      <td>['립메이크업', '아이메이크업', '컨투어링', '프래그런스']</td>\n",
       "      <td>[https://www.glowpick.com/products/135201, htt...</td>\n",
       "      <td>[자라 X 조말론 [베티버 팜플무스], 자라 X 조말론 [에보니 우드], 자라 X ...</td>\n",
       "    </tr>\n",
       "    <tr>\n",
       "      <th>8020</th>\n",
       "      <td>https://www.glowpick.com/brands/9780</td>\n",
       "      <td>ZWC</td>\n",
       "      <td>['스킨케어']</td>\n",
       "      <td>[https://www.glowpick.com/products/125442]</td>\n",
       "      <td>[아이크리미골드세럼 올페이스 81]</td>\n",
       "    </tr>\n",
       "    <tr>\n",
       "      <th>8021</th>\n",
       "      <td>https://www.glowpick.com/brands/6829</td>\n",
       "      <td>0720</td>\n",
       "      <td>['페이스메이크업', '립메이크업', '아이메이크업', '컨투어링', '뷰티툴', ...</td>\n",
       "      <td>[https://www.glowpick.com/products/97145, http...</td>\n",
       "      <td>[베이비 라이크 블러셔, 올백 쿠션 [SPF50+/PA+++], 오일크러쉬 팩트, ...</td>\n",
       "    </tr>\n",
       "    <tr>\n",
       "      <th>8022</th>\n",
       "      <td>https://www.glowpick.com/brands/7696</td>\n",
       "      <td>1.618</td>\n",
       "      <td>['스킨케어', '클렌징', '마스크/팩']</td>\n",
       "      <td>[https://www.glowpick.com/products/101364, htt...</td>\n",
       "      <td>[골드 인텐시브 링클케어 크림, 히알루론산 앰플 토너, 화산송이 클레이 블랙헤드 마...</td>\n",
       "    </tr>\n",
       "    <tr>\n",
       "      <th>8023</th>\n",
       "      <td>https://www.glowpick.com/brands/6812</td>\n",
       "      <td>1028 VISUAL THERAPY</td>\n",
       "      <td>['페이스메이크업', '아이메이크업']</td>\n",
       "      <td>[https://www.glowpick.com/products/92080, http...</td>\n",
       "      <td>[1028 마카롱 아이섀도우 키트, 얼티메이트 오일 컨트롤 파우더]</td>\n",
       "    </tr>\n",
       "    <tr>\n",
       "      <th>8024</th>\n",
       "      <td>https://www.glowpick.com/brands/8584</td>\n",
       "      <td>10mgRx</td>\n",
       "      <td>['스킨케어', '페이스메이크업', '뷰티툴', '클렌징']</td>\n",
       "      <td>[https://www.glowpick.com/products/106275, htt...</td>\n",
       "      <td>[나이아신아마이드5.0 미백 앰플, 프로폴리스50진정토너, 하이드라 비비크림, 울트...</td>\n",
       "    </tr>\n",
       "    <tr>\n",
       "      <th>8025</th>\n",
       "      <td>https://www.glowpick.com/brands/2006</td>\n",
       "      <td>16BRAND</td>\n",
       "      <td>['스킨케어', '페이스메이크업', '립메이크업', '아이메이크업', '컨투어링',...</td>\n",
       "      <td>[https://www.glowpick.com/products/112878, htt...</td>\n",
       "      <td>[16 치크 샷, 16 만능 슈퍼 클렌징 밤, 16 마이 매거진, 알 유 16 테이...</td>\n",
       "    </tr>\n",
       "    <tr>\n",
       "      <th>8026</th>\n",
       "      <td>https://www.glowpick.com/brands/729</td>\n",
       "      <td>1960NY</td>\n",
       "      <td>['스킨케어', '페이스메이크업', '남성화장품', '클렌징']</td>\n",
       "      <td>[https://www.glowpick.com/products/20041, http...</td>\n",
       "      <td>[수퍼 리치 크림, 인텐시브 리바이탈 크림, 모이스처 액티베이트 크림, 퓨어 뷰티 ...</td>\n",
       "    </tr>\n",
       "    <tr>\n",
       "      <th>8027</th>\n",
       "      <td>https://www.glowpick.com/brands/10680</td>\n",
       "      <td>1am</td>\n",
       "      <td>['이너뷰티']</td>\n",
       "      <td>[https://www.glowpick.com/products/137730]</td>\n",
       "      <td>[깔롱젤리그린]</td>\n",
       "    </tr>\n",
       "    <tr>\n",
       "      <th>8028</th>\n",
       "      <td>https://www.glowpick.com/brands/10397</td>\n",
       "      <td>2080</td>\n",
       "      <td>['생활용품']</td>\n",
       "      <td>[https://www.glowpick.com/products/134382, htt...</td>\n",
       "      <td>[동의청은차고은진 치약, 시그니처 토탈블루 치약, 오리지날 치약 [알파블루], 퓨어...</td>\n",
       "    </tr>\n",
       "    <tr>\n",
       "      <th>8029</th>\n",
       "      <td>https://www.glowpick.com/brands/9076</td>\n",
       "      <td>21세기 센트리</td>\n",
       "      <td>['이너뷰티']</td>\n",
       "      <td>[https://www.glowpick.com/products/116480, htt...</td>\n",
       "      <td>[애시도필러스 프로바이오틱 블렌드, 센트리 시니어 여성 종합비타민 및 미네랄]</td>\n",
       "    </tr>\n",
       "    <tr>\n",
       "      <th>8030</th>\n",
       "      <td>https://www.glowpick.com/brands/9801</td>\n",
       "      <td>2202</td>\n",
       "      <td>['스킨케어']</td>\n",
       "      <td>[https://www.glowpick.com/products/125809, htt...</td>\n",
       "      <td>[노시트 마스크팩, 레디언스 시카 토닉 에센스]</td>\n",
       "    </tr>\n",
       "    <tr>\n",
       "      <th>8031</th>\n",
       "      <td>https://www.glowpick.com/brands/2</td>\n",
       "      <td>23 years old</td>\n",
       "      <td>['스킨케어', '페이스메이크업', '클렌징', '마스크/팩', '선케어', '배쓰...</td>\n",
       "      <td>[https://www.glowpick.com/products/46945, http...</td>\n",
       "      <td>[코쿤 윌로우 실키 마스크, 바데카실P, 바데카실 더마실 마스크, CXDX더마에어톡...</td>\n",
       "    </tr>\n",
       "    <tr>\n",
       "      <th>8032</th>\n",
       "      <td>https://www.glowpick.com/brands/8871</td>\n",
       "      <td>236:)</td>\n",
       "      <td>['배쓰&amp;바디', '생활용품']</td>\n",
       "      <td>[]</td>\n",
       "      <td>[]</td>\n",
       "    </tr>\n",
       "    <tr>\n",
       "      <th>8033</th>\n",
       "      <td>https://www.glowpick.com/brands/5708</td>\n",
       "      <td>44401</td>\n",
       "      <td>['스킨케어', '립메이크업']</td>\n",
       "      <td>[]</td>\n",
       "      <td>[]</td>\n",
       "    </tr>\n",
       "    <tr>\n",
       "      <th>8034</th>\n",
       "      <td>https://www.glowpick.com/brands/9426</td>\n",
       "      <td>24MIRACLE</td>\n",
       "      <td>['마스크/팩']</td>\n",
       "      <td>[https://www.glowpick.com/products/121107]</td>\n",
       "      <td>[아쿠아 앰플 마스크]</td>\n",
       "    </tr>\n",
       "    <tr>\n",
       "      <th>8035</th>\n",
       "      <td>https://www.glowpick.com/brands/2005</td>\n",
       "      <td>252코스메틱</td>\n",
       "      <td>['클렌징', '마스크/팩']</td>\n",
       "      <td>[https://www.glowpick.com/products/33438, http...</td>\n",
       "      <td>[252울트라보어이팩트 (화이트), 252 라이크유]</td>\n",
       "    </tr>\n",
       "    <tr>\n",
       "      <th>8036</th>\n",
       "      <td>https://www.glowpick.com/brands/7123</td>\n",
       "      <td>29데이즈</td>\n",
       "      <td>['생활용품']</td>\n",
       "      <td>[https://www.glowpick.com/products/93246, http...</td>\n",
       "      <td>[중형 날개형, 대형 날개형, 팬티라이너롱, 약산성 여성청결제]</td>\n",
       "    </tr>\n",
       "    <tr>\n",
       "      <th>8037</th>\n",
       "      <td>https://www.glowpick.com/brands/5747</td>\n",
       "      <td>2교시피클</td>\n",
       "      <td>['클렌징']</td>\n",
       "      <td>[https://www.glowpick.com/products/76349]</td>\n",
       "      <td>[[단종]  AC컨트롤 클렌징폼]</td>\n",
       "    </tr>\n",
       "    <tr>\n",
       "      <th>8038</th>\n",
       "      <td>https://www.glowpick.com/brands/7722</td>\n",
       "      <td>302화이트</td>\n",
       "      <td>['스킨케어', '클렌징', '마스크/팩']</td>\n",
       "      <td>[https://www.glowpick.com/products/107581, htt...</td>\n",
       "      <td>[아이스브레이킹 크림, 스킨글로우 솔루션1, 투스텝 멜팅 마스크, 스킨글로우 솔루션...</td>\n",
       "    </tr>\n",
       "    <tr>\n",
       "      <th>8039</th>\n",
       "      <td>https://www.glowpick.com/brands/9006</td>\n",
       "      <td>31도씨</td>\n",
       "      <td>['스킨케어']</td>\n",
       "      <td>[https://www.glowpick.com/products/115826, htt...</td>\n",
       "      <td>[스프라웃 아일랜드 모이스처 크림, 스프라웃 아일랜드 골든시위드 페이셜 미스트, 스...</td>\n",
       "    </tr>\n",
       "    <tr>\n",
       "      <th>8040</th>\n",
       "      <td>https://www.glowpick.com/brands/11862</td>\n",
       "      <td>365더건강</td>\n",
       "      <td>['이너뷰티']</td>\n",
       "      <td>[https://www.glowpick.com/products/147882]</td>\n",
       "      <td>[에버뷰티 석류 콜라겐 젤리]</td>\n",
       "    </tr>\n",
       "    <tr>\n",
       "      <th>8041</th>\n",
       "      <td>https://www.glowpick.com/brands/143</td>\n",
       "      <td>3CE</td>\n",
       "      <td>['스킨케어', '페이스메이크업', '립메이크업', '아이메이크업', '컨투어링',...</td>\n",
       "      <td>[https://www.glowpick.com/products/99990, http...</td>\n",
       "      <td>[무드 레시피 페이스 블러쉬, 아이 스위치, 무드 레시피 멀티 아이 컬러 팔레트 [...</td>\n",
       "    </tr>\n",
       "    <tr>\n",
       "      <th>8042</th>\n",
       "      <td>https://www.glowpick.com/brands/7049</td>\n",
       "      <td>3INA</td>\n",
       "      <td>['립메이크업']</td>\n",
       "      <td>[https://www.glowpick.com/products/92714]</td>\n",
       "      <td>[더 처비 립스틱]</td>\n",
       "    </tr>\n",
       "    <tr>\n",
       "      <th>8043</th>\n",
       "      <td>https://www.glowpick.com/brands/2148</td>\n",
       "      <td>3M 넥스케어™</td>\n",
       "      <td>['스킨케어', '남성화장품', '마스크/팩', '배쓰&amp;바디', '생활용품']</td>\n",
       "      <td>[https://www.glowpick.com/products/129966, htt...</td>\n",
       "      <td>[블레미쉬 패치 케어, 블레미쉬 클리어 커버 릴리프, 위생 마스크, 새니타이저 43...</td>\n",
       "    </tr>\n",
       "    <tr>\n",
       "      <th>8044</th>\n",
       "      <td>https://www.glowpick.com/brands/11950</td>\n",
       "      <td>3pages</td>\n",
       "      <td>['스킨케어', '마스크/팩']</td>\n",
       "      <td>[https://www.glowpick.com/products/148581, htt...</td>\n",
       "      <td>[오버나이트 트리트먼트 펩타이드 크림, 하이드로 락 펩타이드 카밍 패드, 오버나이트...</td>\n",
       "    </tr>\n",
       "    <tr>\n",
       "      <th>8045</th>\n",
       "      <td>https://www.glowpick.com/brands/4596</td>\n",
       "      <td>3W 크리닉</td>\n",
       "      <td>['스킨케어', '페이스메이크업', '컨투어링', '클렌징', '선케어', '배쓰&amp;...</td>\n",
       "      <td>[https://www.glowpick.com/products/86262, http...</td>\n",
       "      <td>[모이스처라이징 올리브 핸드크림, 3존 키트, 알로에 베라 수딩젤, 모이스처라이징 ...</td>\n",
       "    </tr>\n",
       "    <tr>\n",
       "      <th>8046</th>\n",
       "      <td>https://www.glowpick.com/brands/10843</td>\n",
       "      <td>3초</td>\n",
       "      <td>['생활용품']</td>\n",
       "      <td>[https://www.glowpick.com/products/138922]</td>\n",
       "      <td>[여성 청결 미스트]</td>\n",
       "    </tr>\n",
       "    <tr>\n",
       "      <th>8047</th>\n",
       "      <td>https://www.glowpick.com/brands/490</td>\n",
       "      <td>4711</td>\n",
       "      <td>['프래그런스']</td>\n",
       "      <td>[https://www.glowpick.com/products/1622, https...</td>\n",
       "      <td>[아쿠아 콜로니아 블러드 오렌지 &amp; 바즐 오 드 코롱, 누보 콜로뉴 오드코롱, 아쿠...</td>\n",
       "    </tr>\n",
       "    <tr>\n",
       "      <th>8048</th>\n",
       "      <td>https://www.glowpick.com/brands/10747</td>\n",
       "      <td>5.2뉴트리션</td>\n",
       "      <td>['이너뷰티']</td>\n",
       "      <td>[https://www.glowpick.com/products/138092]</td>\n",
       "      <td>[다이어트 베이스 [초코맛]]</td>\n",
       "    </tr>\n",
       "    <tr>\n",
       "      <th>8049</th>\n",
       "      <td>https://www.glowpick.com/brands/10183</td>\n",
       "      <td>76N1</td>\n",
       "      <td>['스킨케어', '클렌징', '마스크/팩']</td>\n",
       "      <td>[https://www.glowpick.com/products/140014, htt...</td>\n",
       "      <td>[비 해피 더블 액션 미스트, 비 해피 오일 [대마씨 &amp; 동백], 슈퍼듀퍼 파우더 ...</td>\n",
       "    </tr>\n",
       "    <tr>\n",
       "      <th>8050</th>\n",
       "      <td>https://www.glowpick.com/brands/6814</td>\n",
       "      <td>87발렌타인</td>\n",
       "      <td>['배쓰&amp;바디']</td>\n",
       "      <td>[https://www.glowpick.com/products/89547]</td>\n",
       "      <td>[이상훈의 제모크림]</td>\n",
       "    </tr>\n",
       "    <tr>\n",
       "      <th>8051</th>\n",
       "      <td>https://www.glowpick.com/brands/6151</td>\n",
       "      <td>9컴플렉스</td>\n",
       "      <td>['뷰티툴']</td>\n",
       "      <td>[https://www.glowpick.com/products/81570]</td>\n",
       "      <td>[아이래쉬 뷰러]</td>\n",
       "    </tr>\n",
       "  </tbody>\n",
       "</table>\n",
       "</div>"
      ],
      "text/plain": [
       "                                 brand_code           brand_name  \\\n",
       "8002   https://www.glowpick.com/brands/7740                 TMTR   \n",
       "8003  https://www.glowpick.com/brands/10295            TRUE LIFE   \n",
       "8004  https://www.glowpick.com/brands/11764                  TNU   \n",
       "8005   https://www.glowpick.com/brands/3793                   TS   \n",
       "8006   https://www.glowpick.com/brands/6397                  TSS   \n",
       "8007   https://www.glowpick.com/brands/7120                  TSW   \n",
       "8008  https://www.glowpick.com/brands/11613               TZ코스메틱   \n",
       "8009  https://www.glowpick.com/brands/11544                UUUUU   \n",
       "8010     https://www.glowpick.com/brands/11                  VDL   \n",
       "8011   https://www.glowpick.com/brands/6652         VT COSMETICS   \n",
       "8012   https://www.glowpick.com/brands/7436    W.SKIN LABORATORY   \n",
       "8013   https://www.glowpick.com/brands/2304                   W7   \n",
       "8014   https://www.glowpick.com/brands/2454                  WHY   \n",
       "8015    https://www.glowpick.com/brands/661                  XTM   \n",
       "8016   https://www.glowpick.com/brands/9408                  YNM   \n",
       "8017   https://www.glowpick.com/brands/6009          YS solution   \n",
       "8018  https://www.glowpick.com/brands/11352        YSJ cosmetics   \n",
       "8019   https://www.glowpick.com/brands/3641                 ZARA   \n",
       "8020   https://www.glowpick.com/brands/9780                  ZWC   \n",
       "8021   https://www.glowpick.com/brands/6829                 0720   \n",
       "8022   https://www.glowpick.com/brands/7696                1.618   \n",
       "8023   https://www.glowpick.com/brands/6812  1028 VISUAL THERAPY   \n",
       "8024   https://www.glowpick.com/brands/8584               10mgRx   \n",
       "8025   https://www.glowpick.com/brands/2006              16BRAND   \n",
       "8026    https://www.glowpick.com/brands/729               1960NY   \n",
       "8027  https://www.glowpick.com/brands/10680                  1am   \n",
       "8028  https://www.glowpick.com/brands/10397                 2080   \n",
       "8029   https://www.glowpick.com/brands/9076             21세기 센트리   \n",
       "8030   https://www.glowpick.com/brands/9801                 2202   \n",
       "8031      https://www.glowpick.com/brands/2         23 years old   \n",
       "8032   https://www.glowpick.com/brands/8871                236:)   \n",
       "8033   https://www.glowpick.com/brands/5708                44401   \n",
       "8034   https://www.glowpick.com/brands/9426            24MIRACLE   \n",
       "8035   https://www.glowpick.com/brands/2005              252코스메틱   \n",
       "8036   https://www.glowpick.com/brands/7123                29데이즈   \n",
       "8037   https://www.glowpick.com/brands/5747                2교시피클   \n",
       "8038   https://www.glowpick.com/brands/7722               302화이트   \n",
       "8039   https://www.glowpick.com/brands/9006                 31도씨   \n",
       "8040  https://www.glowpick.com/brands/11862               365더건강   \n",
       "8041    https://www.glowpick.com/brands/143                  3CE   \n",
       "8042   https://www.glowpick.com/brands/7049                 3INA   \n",
       "8043   https://www.glowpick.com/brands/2148             3M 넥스케어™   \n",
       "8044  https://www.glowpick.com/brands/11950               3pages   \n",
       "8045   https://www.glowpick.com/brands/4596               3W 크리닉   \n",
       "8046  https://www.glowpick.com/brands/10843                   3초   \n",
       "8047    https://www.glowpick.com/brands/490                 4711   \n",
       "8048  https://www.glowpick.com/brands/10747              5.2뉴트리션   \n",
       "8049  https://www.glowpick.com/brands/10183                 76N1   \n",
       "8050   https://www.glowpick.com/brands/6814               87발렌타인   \n",
       "8051   https://www.glowpick.com/brands/6151                9컴플렉스   \n",
       "\n",
       "                                               category  \\\n",
       "8002                                          ['마스크/팩']   \n",
       "8003                                           ['이너뷰티']   \n",
       "8004                                   ['스킨케어', '생활용품']   \n",
       "8005  ['이너뷰티', '아이메이크업', '클렌징', '마스크/팩', '배쓰&바디', '헤...   \n",
       "8006                                         ['아이메이크업']   \n",
       "8007                     ['페이스메이크업', '립메이크업', '아이메이크업']   \n",
       "8008                                           ['스킨케어']   \n",
       "8009                                             ['네일']   \n",
       "8010  ['스킨케어', '페이스메이크업', '립메이크업', '아이메이크업', '컨투어링',...   \n",
       "8011  ['스킨케어', '페이스메이크업', '립메이크업', '아이메이크업', '컨투어링',...   \n",
       "8012         ['스킨케어', '마스크/팩', '선케어', '배쓰&바디', '프래그런스']   \n",
       "8013                                 ['아이메이크업', '컨투어링']   \n",
       "8014                     ['스킨케어', '클렌징', '배쓰&바디', '헤어']   \n",
       "8015                                   ['남성화장품', '뷰티툴']   \n",
       "8016         ['립메이크업', '컨투어링', '클렌징', '마스크/팩', '배쓰&바디']   \n",
       "8017                                    ['스킨케어', '선케어']   \n",
       "8018                                           ['스킨케어']   \n",
       "8019               ['립메이크업', '아이메이크업', '컨투어링', '프래그런스']   \n",
       "8020                                           ['스킨케어']   \n",
       "8021  ['페이스메이크업', '립메이크업', '아이메이크업', '컨투어링', '뷰티툴', ...   \n",
       "8022                           ['스킨케어', '클렌징', '마스크/팩']   \n",
       "8023                              ['페이스메이크업', '아이메이크업']   \n",
       "8024                  ['스킨케어', '페이스메이크업', '뷰티툴', '클렌징']   \n",
       "8025  ['스킨케어', '페이스메이크업', '립메이크업', '아이메이크업', '컨투어링',...   \n",
       "8026                ['스킨케어', '페이스메이크업', '남성화장품', '클렌징']   \n",
       "8027                                           ['이너뷰티']   \n",
       "8028                                           ['생활용품']   \n",
       "8029                                           ['이너뷰티']   \n",
       "8030                                           ['스킨케어']   \n",
       "8031  ['스킨케어', '페이스메이크업', '클렌징', '마스크/팩', '선케어', '배쓰...   \n",
       "8032                                  ['배쓰&바디', '생활용품']   \n",
       "8033                                  ['스킨케어', '립메이크업']   \n",
       "8034                                          ['마스크/팩']   \n",
       "8035                                   ['클렌징', '마스크/팩']   \n",
       "8036                                           ['생활용품']   \n",
       "8037                                            ['클렌징']   \n",
       "8038                           ['스킨케어', '클렌징', '마스크/팩']   \n",
       "8039                                           ['스킨케어']   \n",
       "8040                                           ['이너뷰티']   \n",
       "8041  ['스킨케어', '페이스메이크업', '립메이크업', '아이메이크업', '컨투어링',...   \n",
       "8042                                          ['립메이크업']   \n",
       "8043        ['스킨케어', '남성화장품', '마스크/팩', '배쓰&바디', '생활용품']   \n",
       "8044                                  ['스킨케어', '마스크/팩']   \n",
       "8045  ['스킨케어', '페이스메이크업', '컨투어링', '클렌징', '선케어', '배쓰&...   \n",
       "8046                                           ['생활용품']   \n",
       "8047                                          ['프래그런스']   \n",
       "8048                                           ['이너뷰티']   \n",
       "8049                           ['스킨케어', '클렌징', '마스크/팩']   \n",
       "8050                                          ['배쓰&바디']   \n",
       "8051                                            ['뷰티툴']   \n",
       "\n",
       "                                           product_link  \\\n",
       "8002         [https://www.glowpick.com/products/102000]   \n",
       "8003                                                 []   \n",
       "8004  [https://www.glowpick.com/products/146975, htt...   \n",
       "8005  [https://www.glowpick.com/products/95342, http...   \n",
       "8006          [https://www.glowpick.com/products/85482]   \n",
       "8007  [https://www.glowpick.com/products/108099, htt...   \n",
       "8008         [https://www.glowpick.com/products/144953]   \n",
       "8009  [https://www.glowpick.com/products/144230, htt...   \n",
       "8010  [https://www.glowpick.com/products/92409, http...   \n",
       "8011  [https://www.glowpick.com/products/106938, htt...   \n",
       "8012                                                 []   \n",
       "8013  [https://www.glowpick.com/products/129542, htt...   \n",
       "8014  [https://www.glowpick.com/products/39831, http...   \n",
       "8015  [https://www.glowpick.com/products/116276, htt...   \n",
       "8016  [https://www.glowpick.com/products/120915, htt...   \n",
       "8017                                                 []   \n",
       "8018                                                 []   \n",
       "8019  [https://www.glowpick.com/products/135201, htt...   \n",
       "8020         [https://www.glowpick.com/products/125442]   \n",
       "8021  [https://www.glowpick.com/products/97145, http...   \n",
       "8022  [https://www.glowpick.com/products/101364, htt...   \n",
       "8023  [https://www.glowpick.com/products/92080, http...   \n",
       "8024  [https://www.glowpick.com/products/106275, htt...   \n",
       "8025  [https://www.glowpick.com/products/112878, htt...   \n",
       "8026  [https://www.glowpick.com/products/20041, http...   \n",
       "8027         [https://www.glowpick.com/products/137730]   \n",
       "8028  [https://www.glowpick.com/products/134382, htt...   \n",
       "8029  [https://www.glowpick.com/products/116480, htt...   \n",
       "8030  [https://www.glowpick.com/products/125809, htt...   \n",
       "8031  [https://www.glowpick.com/products/46945, http...   \n",
       "8032                                                 []   \n",
       "8033                                                 []   \n",
       "8034         [https://www.glowpick.com/products/121107]   \n",
       "8035  [https://www.glowpick.com/products/33438, http...   \n",
       "8036  [https://www.glowpick.com/products/93246, http...   \n",
       "8037          [https://www.glowpick.com/products/76349]   \n",
       "8038  [https://www.glowpick.com/products/107581, htt...   \n",
       "8039  [https://www.glowpick.com/products/115826, htt...   \n",
       "8040         [https://www.glowpick.com/products/147882]   \n",
       "8041  [https://www.glowpick.com/products/99990, http...   \n",
       "8042          [https://www.glowpick.com/products/92714]   \n",
       "8043  [https://www.glowpick.com/products/129966, htt...   \n",
       "8044  [https://www.glowpick.com/products/148581, htt...   \n",
       "8045  [https://www.glowpick.com/products/86262, http...   \n",
       "8046         [https://www.glowpick.com/products/138922]   \n",
       "8047  [https://www.glowpick.com/products/1622, https...   \n",
       "8048         [https://www.glowpick.com/products/138092]   \n",
       "8049  [https://www.glowpick.com/products/140014, htt...   \n",
       "8050          [https://www.glowpick.com/products/89547]   \n",
       "8051          [https://www.glowpick.com/products/81570]   \n",
       "\n",
       "                                           product_name  \n",
       "8002                                          [눈꽃 마스크팩]  \n",
       "8003                                                 []  \n",
       "8004            [락토멜리아 마일드 폼 워시, 락토멜리아 프로바이오발란스 리페어 크림]  \n",
       "8005  [TS래쉬, TS마스크팩, 올뉴TS샴푸, TS헤어팩, 프리미엄TS트리트먼트, TS착...  \n",
       "8006                                         [타투 아이브로우]  \n",
       "8007  [매트 핏 올킬 립스틱, 매직 아이틴트, 매직 워터틴트, 올킬 붓펜 아이라이너, 모...  \n",
       "8008                                     [물푸레 맑은 수분 토너]  \n",
       "8009                             [젤 네일, (젬스톤 컬렉션) 젤 네일]  \n",
       "8010  [엑스퍼트 아이밤 부스팅 픽서, 페스티벌 블러셔, 엑스퍼트 컬러 프라이머 포 아이즈...  \n",
       "8011  [스팟 패치, 시카 마스크 팩, 프로그로스 콜라겐 팩트 [SPF50+/PA++++]...  \n",
       "8012                                                 []  \n",
       "8013  [소셜라이트 아이섀도우 팔레트, 블레이진 아이섀도우 팔레트, 인 더 버프 아이 컬러...  \n",
       "8014  [프렌치부케 샴푸, 퓨리파잉 내추럴 프로그래밍 에센스, 딜라이트 로즈 바디로션, 아...  \n",
       "8015  [멀티 비비 스틱 [SPF50+/PA++++], 퍼퓸건, 이지 헤어라이너, 올인원 ...  \n",
       "8016  [레인보우 허니 립 밤, 캔디 허니 립밤, 퀵 모닝 앤 나이트 케어 마스크, 립트리...  \n",
       "8017                                                 []  \n",
       "8018                                                 []  \n",
       "8019  [자라 X 조말론 [베티버 팜플무스], 자라 X 조말론 [에보니 우드], 자라 X ...  \n",
       "8020                                [아이크리미골드세럼 올페이스 81]  \n",
       "8021  [베이비 라이크 블러셔, 올백 쿠션 [SPF50+/PA+++], 오일크러쉬 팩트, ...  \n",
       "8022  [골드 인텐시브 링클케어 크림, 히알루론산 앰플 토너, 화산송이 클레이 블랙헤드 마...  \n",
       "8023              [1028 마카롱 아이섀도우 키트, 얼티메이트 오일 컨트롤 파우더]  \n",
       "8024  [나이아신아마이드5.0 미백 앰플, 프로폴리스50진정토너, 하이드라 비비크림, 울트...  \n",
       "8025  [16 치크 샷, 16 만능 슈퍼 클렌징 밤, 16 마이 매거진, 알 유 16 테이...  \n",
       "8026  [수퍼 리치 크림, 인텐시브 리바이탈 크림, 모이스처 액티베이트 크림, 퓨어 뷰티 ...  \n",
       "8027                                           [깔롱젤리그린]  \n",
       "8028  [동의청은차고은진 치약, 시그니처 토탈블루 치약, 오리지날 치약 [알파블루], 퓨어...  \n",
       "8029        [애시도필러스 프로바이오틱 블렌드, 센트리 시니어 여성 종합비타민 및 미네랄]  \n",
       "8030                         [노시트 마스크팩, 레디언스 시카 토닉 에센스]  \n",
       "8031  [코쿤 윌로우 실키 마스크, 바데카실P, 바데카실 더마실 마스크, CXDX더마에어톡...  \n",
       "8032                                                 []  \n",
       "8033                                                 []  \n",
       "8034                                       [아쿠아 앰플 마스크]  \n",
       "8035                      [252울트라보어이팩트 (화이트), 252 라이크유]  \n",
       "8036                [중형 날개형, 대형 날개형, 팬티라이너롱, 약산성 여성청결제]  \n",
       "8037                                 [[단종]  AC컨트롤 클렌징폼]  \n",
       "8038  [아이스브레이킹 크림, 스킨글로우 솔루션1, 투스텝 멜팅 마스크, 스킨글로우 솔루션...  \n",
       "8039  [스프라웃 아일랜드 모이스처 크림, 스프라웃 아일랜드 골든시위드 페이셜 미스트, 스...  \n",
       "8040                                   [에버뷰티 석류 콜라겐 젤리]  \n",
       "8041  [무드 레시피 페이스 블러쉬, 아이 스위치, 무드 레시피 멀티 아이 컬러 팔레트 [...  \n",
       "8042                                         [더 처비 립스틱]  \n",
       "8043  [블레미쉬 패치 케어, 블레미쉬 클리어 커버 릴리프, 위생 마스크, 새니타이저 43...  \n",
       "8044  [오버나이트 트리트먼트 펩타이드 크림, 하이드로 락 펩타이드 카밍 패드, 오버나이트...  \n",
       "8045  [모이스처라이징 올리브 핸드크림, 3존 키트, 알로에 베라 수딩젤, 모이스처라이징 ...  \n",
       "8046                                        [여성 청결 미스트]  \n",
       "8047  [아쿠아 콜로니아 블러드 오렌지 & 바즐 오 드 코롱, 누보 콜로뉴 오드코롱, 아쿠...  \n",
       "8048                                   [다이어트 베이스 [초코맛]]  \n",
       "8049  [비 해피 더블 액션 미스트, 비 해피 오일 [대마씨 & 동백], 슈퍼듀퍼 파우더 ...  \n",
       "8050                                        [이상훈의 제모크림]  \n",
       "8051                                          [아이래쉬 뷰러]  "
      ]
     },
     "execution_count": 36,
     "metadata": {},
     "output_type": "execute_result"
    }
   ],
   "source": [
    "df_brd_w_prd_v2.tail(50)"
   ]
  },
  {
   "cell_type": "code",
   "execution_count": 28,
   "id": "8d66ca77-8062-4c03-9449-965ac5e6b148",
   "metadata": {},
   "outputs": [
    {
     "data": {
      "text/plain": [
       "brand_code                   https://www.glowpick.com/brands/7195\n",
       "brand_name                                                    강블리\n",
       "category               ['스킨케어', '페이스메이크업', '뷰티툴', '클렌징', '마스크/팩']\n",
       "product_link    [https://www.glowpick.com/products/108095, htt...\n",
       "product_name    [제주 녹차 생기 마스크, 제주 콜라겐 탄탄 마스크, 제주 유채꿀 에센셜 앰플 세럼...\n",
       "Name: 47, dtype: object"
      ]
     },
     "execution_count": 28,
     "metadata": {},
     "output_type": "execute_result"
    }
   ],
   "source": [
    "df_brd_w_prd_v2.loc[47, :]"
   ]
  },
  {
   "cell_type": "code",
   "execution_count": 54,
   "id": "8419971e-03c9-403f-aeff-6e40036fc6f0",
   "metadata": {},
   "outputs": [],
   "source": [
    "empty_lst = []\n",
    "for _ in range(len(df_brd_w_prd_v2)):\n",
    "    if df_brd_w_prd_v2.loc[_, 'product_name'] == [] or df_brd_w_prd_v2.loc[_, 'product_link'] == []:\n",
    "        empty_lst.append(_)"
   ]
  },
  {
   "cell_type": "code",
   "execution_count": 66,
   "id": "20959deb-0666-4443-961a-d833d7354ccc",
   "metadata": {},
   "outputs": [],
   "source": [
    "nan.sort()"
   ]
  },
  {
   "cell_type": "code",
   "execution_count": 77,
   "id": "44812f13-2386-45ba-bb92-c7d0a9bf9d77",
   "metadata": {},
   "outputs": [],
   "source": [
    "nan_brd_lst = list(df_brd_w_prd_v2.loc[nan, 'brand_name'])"
   ]
  },
  {
   "cell_type": "code",
   "execution_count": 78,
   "id": "cb9d91d3-bf81-4b20-9ebe-7eadc06dab14",
   "metadata": {
    "collapsed": true,
    "jupyter": {
     "outputs_hidden": true
    },
    "tags": []
   },
   "outputs": [
    {
     "data": {
      "text/plain": [
       "['금호전기',\n",
       " '네이처셋',\n",
       " '네츄럴 아일랜드',\n",
       " '누트릴로',\n",
       " '달토니',\n",
       " '더블이펙트',\n",
       " '데자이안',\n",
       " '디어테크',\n",
       " '라피오리',\n",
       " '레스파라',\n",
       " '로그네이처',\n",
       " '로베르토 카발리',\n",
       " '리슈브',\n",
       " '릴문',\n",
       " '마드레랩스',\n",
       " '마리나드브루봉',\n",
       " '메디치코리아',\n",
       " '미뮤즈',\n",
       " '바디컷',\n",
       " '보니힐',\n",
       " '비움',\n",
       " '셀로니아',\n",
       " '스위스 나뚜리치',\n",
       " '스티펠',\n",
       " '슬림워크',\n",
       " '아리즈웰',\n",
       " '앤수',\n",
       " '에띠앙',\n",
       " '에비앙',\n",
       " '에스코',\n",
       " '에포나',\n",
       " '에프에이',\n",
       " '엔스킨',\n",
       " '엘레팡드코',\n",
       " '엘렌실라',\n",
       " '엘앤씨바이오',\n",
       " '엠도씨',\n",
       " '영시',\n",
       " '오렌즈',\n",
       " '오로라',\n",
       " '오스킨랩',\n",
       " '오일릴리',\n",
       " '오지',\n",
       " '올가플러스',\n",
       " '올댓투애니즈',\n",
       " '올로르',\n",
       " '올리브영',\n",
       " '와이엠',\n",
       " '왕타',\n",
       " '용카',\n",
       " '우드윅',\n",
       " '원포인트 네이쳐',\n",
       " '웰츄럴',\n",
       " '유브이랩',\n",
       " '유어썸',\n",
       " '유하다베베',\n",
       " '유하트',\n",
       " '율립',\n",
       " '이너브랜',\n",
       " '이너스랩',\n",
       " '이노센스',\n",
       " '이니카',\n",
       " '이뎀',\n",
       " '이브롬',\n",
       " '이파랑',\n",
       " '이프리트',\n",
       " '이플래쉬',\n",
       " '인그람스',\n",
       " '일루미나주',\n",
       " '잇코스메틱스',\n",
       " '잇툴즈',\n",
       " '자빈드서울',\n",
       " '자연그대로',\n",
       " '자연이랑',\n",
       " '자올',\n",
       " '자이모겐',\n",
       " '잔다셀',\n",
       " '젊젊',\n",
       " '정원가게',\n",
       " '정원삼',\n",
       " '정직한실험실',\n",
       " '제이엠 코스메틱',\n",
       " '젤리쉬',\n",
       " '젤팡',\n",
       " '조일론',\n",
       " '존마스터스오가닉',\n",
       " '종근당바이오',\n",
       " '줄리스립',\n",
       " '쥬리아',\n",
       " '지엠바이오',\n",
       " '지투온',\n",
       " '청춘예찬',\n",
       " '치카이치코',\n",
       " '친구랑',\n",
       " '칠링힐링',\n",
       " '칼리즈메이',\n",
       " '캐롤프랑크',\n",
       " '캐시캣',\n",
       " '캐트릭스',\n",
       " '캔디오레이디',\n",
       " '케어온',\n",
       " '케어팜',\n",
       " '케이비 코스메틱',\n",
       " '케일린',\n",
       " '코코리제주',\n",
       " '콸코스',\n",
       " '클린 투 클린',\n",
       " '킨',\n",
       " '팬콧',\n",
       " '페넬로페',\n",
       " '퓨어체크',\n",
       " '픽시바이페트라',\n",
       " '하우스킨',\n",
       " '헤이',\n",
       " '헬로판다',\n",
       " '현대약품',\n",
       " 'CJ CHEILJEDANG',\n",
       " 'CUSKIN',\n",
       " 'DK COSMETIC',\n",
       " 'DS LAB',\n",
       " 'EGFOLOGY',\n",
       " 'JCK',\n",
       " 'JHP Cosmetic',\n",
       " 'JMsolution',\n",
       " 'JY innocent',\n",
       " 'KVD VEGAN BEAUTY',\n",
       " 'LC PROFESSIONAL',\n",
       " 'Meet Your Mate',\n",
       " 'OBUIZI',\n",
       " 'SD HAIR',\n",
       " 'TMR cosmetics',\n",
       " 'TRUE LIFE',\n",
       " 'W.SKIN LABORATORY',\n",
       " 'YS solution',\n",
       " 'YSJ cosmetics',\n",
       " '236:)',\n",
       " '44401']"
      ]
     },
     "execution_count": 78,
     "metadata": {},
     "output_type": "execute_result"
    }
   ],
   "source": [
    "nan_brd_lst"
   ]
  },
  {
   "cell_type": "code",
   "execution_count": 82,
   "id": "f3ff28ea-7dc3-41f8-a427-2a138fa0c03d",
   "metadata": {},
   "outputs": [],
   "source": [
    "dict_prd_link_nan = {}\n",
    "dict_prd_name_nan = defaultdict(list)\n",
    "no_such_element_exception = []\n",
    "unknown_exception = []"
   ]
  },
  {
   "cell_type": "code",
   "execution_count": 83,
   "id": "5a363763-6e02-4681-a07e-33a78eda208a",
   "metadata": {
    "tags": []
   },
   "outputs": [],
   "source": [
    "def scrap_product_link(brd_name):\n",
    "    \n",
    "    try: \n",
    "        options = Options()\n",
    "        ua = UserAgent()\n",
    "        userAgent = ua.random\n",
    "        print(userAgent)\n",
    "\n",
    "        options.add_argument('headless')\n",
    "        options.add_argument('window-size=1920x1080')\n",
    "        options.add_argument(\"disable-gpu\")\n",
    "        options.add_argument(f'user-agent={userAgent}')\n",
    "        wd = webdriver.Chrome(ChromeDriverManager().install(), chrome_options=options)\n",
    "\n",
    "        socket.setdefaulttimeout(30)\n",
    "\n",
    "        url = 'https:/www.glowpick.com/searches/keywords'\n",
    "        wd.get(url)\n",
    "        time.sleep(5)\n",
    "\n",
    "        wd.find_element_by_xpath(\"//*[@id='default-layout']/div/div[1]/span/div/div[2]/div[2]/button[2]\").click()\n",
    "        wd.maximize_window()\n",
    "        time.sleep(3)\n",
    "\n",
    "        brd_input = wd.find_element_by_xpath(\"//*[@id='default-layout']/div/div[2]/div/div/div/input\")\n",
    "        brd_input.send_keys(brd_name)\n",
    "        brd_input.send_keys(Keys.ENTER)\n",
    "        time.sleep(3)\n",
    "\n",
    "        def parsing_html_with_class(parsing_info = '.products'):\n",
    "            html = wd.page_source\n",
    "            soup = soup = BeautifulSoup(html, \"html.parser\")\n",
    "            interm_r = soup.select(parsing_info)\n",
    "            return interm_r\n",
    "\n",
    "        try:\n",
    "            while True:\n",
    "                prd_link = []\n",
    "                prd_name = []\n",
    "\n",
    "                product_lst = parsing_html_with_class()\n",
    "                product_len = len(re.findall('<div class=\"products__product product\" (.*?)', str(product_lst[0])))\n",
    "                \n",
    "                #while wd.find_elements_by_class_name('details__brand')[product_len].text[:len(brd_name)] == brd_name:\n",
    "\n",
    "                element = wd.find_element_by_xpath('/html/body/div/div/div/div/main/div/section/div[2]/div/div[1]/span/div[{}]'.format(product_len - 1))\n",
    "                wd.execute_script(\"arguments[0].scrollIntoView(true);\", element)\n",
    "                time.sleep(2)\n",
    "\n",
    "                product_lst_2 = parsing_html_with_class()\n",
    "\n",
    "                if product_lst == product_lst_2:\n",
    "                    for i in range(product_len):\n",
    "                        if (re.sub(r'\\([^)]*\\)', '', wd.find_elements_by_class_name('details__brand')[i].text).strip()) == brd_name:\n",
    "                            code = re.findall('<div class=\"products__product product\" (.*?)id=\"(.*?)\">', str(product_lst[0]))[i][1].split('-')[-1]\n",
    "                            link = 'https://www.glowpick.com/products/' + code\n",
    "                            prd_link.append(link)\n",
    "                            dict_prd_name[brd_name].append(wd.find_elements_by_class_name('details__product')[i].text)\n",
    "                    dict_prd_link[brd_name] = prd_link\n",
    "                    break\n",
    "\n",
    "        except NoSuchElementException:\n",
    "            for i in range(product_len):\n",
    "                if (re.sub(r'\\([^)]*\\)', '', wd.find_elements_by_class_name('details__brand')[i].text).strip()) == brd_name:\n",
    "                    code = re.findall('<div class=\"products__product product\" (.*?)id=\"(.*?)\">', str(product_lst[0]))[i][1].split('-')[-1]\n",
    "                    link = 'https://www.glowpick.com/products/' + code\n",
    "                    prd_link.append(link)\n",
    "                    dict_prd_name[brd_name].append(wd.find_elements_by_class_name('details__product')[i].text)\n",
    "            dict_prd_link[brd_name] = prd_link\n",
    "        \n",
    "    except NoSuchElementException:\n",
    "        no_such_element_exception.append(brd_name)\n",
    "        print(\"brand name: {}\".format(brd_name), \"NoSuchElementException\")\n",
    "        pass\n",
    "\n",
    "    except Exception as e:\n",
    "        unknown_exception.append(brd_name)\n",
    "        print(\"brand name: {}\".format(brd_name), e)\n",
    "        pass\n",
    "    "
   ]
  },
  {
   "cell_type": "code",
   "execution_count": 84,
   "id": "99768743-e958-44e2-832d-87b3cc79ac7d",
   "metadata": {
    "collapsed": true,
    "jupyter": {
     "outputs_hidden": true
    },
    "tags": []
   },
   "outputs": [
    {
     "name": "stderr",
     "output_type": "stream",
     "text": [
      "  0%|                                                   | 0/137 [00:00<?, ?it/s]\n",
      "\n",
      "====== WebDriver manager ======\n",
      "Current google-chrome version is 93.0.4577\n",
      "Get LATEST driver version for 93.0.4577\n"
     ]
    },
    {
     "name": "stdout",
     "output_type": "stream",
     "text": [
      "Mozilla/5.0 (Windows NT 5.1) AppleWebKit/537.36 (KHTML, like Gecko) Chrome/35.0.3319.102 Safari/537.36\n"
     ]
    },
    {
     "name": "stderr",
     "output_type": "stream",
     "text": [
      "Get LATEST driver version for 93.0.4577\n",
      "Trying to download new driver from https://chromedriver.storage.googleapis.com/93.0.4577.63/chromedriver_mac64.zip\n",
      "Driver has been saved in cache [/Users/kimjisoo/.wdm/drivers/chromedriver/mac64/93.0.4577.63]\n",
      "  1%|▎                                          | 1/137 [00:18<40:56, 18.06s/it]\n",
      "\n",
      "====== WebDriver manager ======\n",
      "Current google-chrome version is 93.0.4577\n",
      "Get LATEST driver version for 93.0.4577\n",
      "Driver [/Users/kimjisoo/.wdm/drivers/chromedriver/mac64/93.0.4577.63/chromedriver] found in cache\n"
     ]
    },
    {
     "name": "stdout",
     "output_type": "stream",
     "text": [
      "Mozilla/5.0 (X11; OpenBSD i386) AppleWebKit/537.36 (KHTML, like Gecko) Chrome/36.0.1985.125 Safari/537.36\n"
     ]
    },
    {
     "name": "stderr",
     "output_type": "stream",
     "text": [
      "  1%|▋                                          | 2/137 [00:32<36:15, 16.12s/it]\n",
      "\n",
      "====== WebDriver manager ======\n",
      "Current google-chrome version is 93.0.4577\n",
      "Get LATEST driver version for 93.0.4577\n",
      "Driver [/Users/kimjisoo/.wdm/drivers/chromedriver/mac64/93.0.4577.63/chromedriver] found in cache\n"
     ]
    },
    {
     "name": "stdout",
     "output_type": "stream",
     "text": [
      "Mozilla/5.0 (Windows NT 6.1) AppleWebKit/537.36 (KHTML, like Gecko) Chrome/28.0.1468.0 Safari/537.36\n"
     ]
    },
    {
     "name": "stderr",
     "output_type": "stream",
     "text": [
      "  2%|▉                                          | 3/137 [00:47<34:16, 15.35s/it]\n",
      "\n",
      "====== WebDriver manager ======\n",
      "Current google-chrome version is 93.0.4577\n",
      "Get LATEST driver version for 93.0.4577\n",
      "Driver [/Users/kimjisoo/.wdm/drivers/chromedriver/mac64/93.0.4577.63/chromedriver] found in cache\n"
     ]
    },
    {
     "name": "stdout",
     "output_type": "stream",
     "text": [
      "Mozilla/5.0 (Windows NT 6.1; WOW64) AppleWebKit/537.36 (KHTML, like Gecko) Chrome/36.0.1985.67 Safari/537.36\n"
     ]
    },
    {
     "name": "stderr",
     "output_type": "stream",
     "text": [
      "  3%|█▎                                         | 4/137 [01:01<33:03, 14.91s/it]\n",
      "\n",
      "====== WebDriver manager ======\n",
      "Current google-chrome version is 93.0.4577\n",
      "Get LATEST driver version for 93.0.4577\n",
      "Driver [/Users/kimjisoo/.wdm/drivers/chromedriver/mac64/93.0.4577.63/chromedriver] found in cache\n"
     ]
    },
    {
     "name": "stdout",
     "output_type": "stream",
     "text": [
      "Mozilla/5.0 (compatible; MSIE 10.0; Windows NT 6.1; WOW64; Trident/6.0)\n"
     ]
    },
    {
     "name": "stderr",
     "output_type": "stream",
     "text": [
      "  4%|█▌                                         | 5/137 [01:18<34:25, 15.65s/it]\n",
      "\n",
      "====== WebDriver manager ======\n",
      "Current google-chrome version is 93.0.4577\n",
      "Get LATEST driver version for 93.0.4577\n"
     ]
    },
    {
     "name": "stdout",
     "output_type": "stream",
     "text": [
      "Mozilla/5.0 (Macintosh; Intel Mac OS X 10_8_2) AppleWebKit/537.17 (KHTML, like Gecko) Chrome/24.0.1309.0 Safari/537.17\n"
     ]
    },
    {
     "name": "stderr",
     "output_type": "stream",
     "text": [
      "Driver [/Users/kimjisoo/.wdm/drivers/chromedriver/mac64/93.0.4577.63/chromedriver] found in cache\n",
      "  4%|█▉                                         | 6/137 [01:43<41:09, 18.85s/it]\n",
      "\n",
      "====== WebDriver manager ======\n",
      "Current google-chrome version is 93.0.4577\n",
      "Get LATEST driver version for 93.0.4577\n",
      "Driver [/Users/kimjisoo/.wdm/drivers/chromedriver/mac64/93.0.4577.63/chromedriver] found in cache\n"
     ]
    },
    {
     "name": "stdout",
     "output_type": "stream",
     "text": [
      "Mozilla/5.0 (compatible; MSIE 10.0; Windows NT 6.1; Trident/4.0; InfoPath.2; SV1; .NET CLR 2.0.50727; WOW64)\n"
     ]
    },
    {
     "name": "stderr",
     "output_type": "stream",
     "text": [
      "  5%|██▏                                        | 7/137 [01:52<33:45, 15.58s/it]\n",
      "\n",
      "====== WebDriver manager ======\n",
      "Current google-chrome version is 93.0.4577\n",
      "Get LATEST driver version for 93.0.4577\n"
     ]
    },
    {
     "name": "stdout",
     "output_type": "stream",
     "text": [
      "brand name: 데자이안 NoSuchElementException\n",
      "Mozilla/5.0 (Windows NT 6.1) AppleWebKit/537.36 (KHTML, like Gecko) Chrome/28.0.1468.0 Safari/537.36\n"
     ]
    },
    {
     "name": "stderr",
     "output_type": "stream",
     "text": [
      "Driver [/Users/kimjisoo/.wdm/drivers/chromedriver/mac64/93.0.4577.63/chromedriver] found in cache\n",
      "  6%|██▌                                        | 8/137 [02:06<32:37, 15.18s/it]\n",
      "\n",
      "====== WebDriver manager ======\n",
      "Current google-chrome version is 93.0.4577\n",
      "Get LATEST driver version for 93.0.4577\n",
      "Driver [/Users/kimjisoo/.wdm/drivers/chromedriver/mac64/93.0.4577.63/chromedriver] found in cache\n"
     ]
    },
    {
     "name": "stdout",
     "output_type": "stream",
     "text": [
      "Mozilla/5.0 (Macintosh; Intel Mac OS X 10_8_3) AppleWebKit/537.36 (KHTML, like Gecko) Chrome/27.0.1453.93 Safari/537.36\n"
     ]
    },
    {
     "name": "stderr",
     "output_type": "stream",
     "text": [
      "  7%|██▊                                        | 9/137 [02:25<35:03, 16.43s/it]\n",
      "\n",
      "====== WebDriver manager ======\n",
      "Current google-chrome version is 93.0.4577\n",
      "Get LATEST driver version for 93.0.4577\n",
      "Driver [/Users/kimjisoo/.wdm/drivers/chromedriver/mac64/93.0.4577.63/chromedriver] found in cache\n"
     ]
    },
    {
     "name": "stdout",
     "output_type": "stream",
     "text": [
      "Mozilla/5.0 (Macintosh; Intel Mac OS X 10_10_1) AppleWebKit/537.36 (KHTML, like Gecko) Chrome/41.0.2227.1 Safari/537.36\n"
     ]
    },
    {
     "name": "stderr",
     "output_type": "stream",
     "text": [
      "  7%|███                                       | 10/137 [02:39<32:54, 15.55s/it]\n",
      "\n",
      "====== WebDriver manager ======\n",
      "Current google-chrome version is 93.0.4577\n",
      "Get LATEST driver version for 93.0.4577\n",
      "Driver [/Users/kimjisoo/.wdm/drivers/chromedriver/mac64/93.0.4577.63/chromedriver] found in cache\n"
     ]
    },
    {
     "name": "stdout",
     "output_type": "stream",
     "text": [
      "Mozilla/5.0 (Macintosh; Intel Mac OS X 10_8_3) AppleWebKit/537.36 (KHTML, like Gecko) Chrome/27.0.1453.93 Safari/537.36\n"
     ]
    },
    {
     "name": "stderr",
     "output_type": "stream",
     "text": [
      "  8%|███▎                                      | 11/137 [02:54<32:06, 15.29s/it]\n",
      "\n",
      "====== WebDriver manager ======\n",
      "Current google-chrome version is 93.0.4577\n",
      "Get LATEST driver version for 93.0.4577\n",
      "Driver [/Users/kimjisoo/.wdm/drivers/chromedriver/mac64/93.0.4577.63/chromedriver] found in cache\n"
     ]
    },
    {
     "name": "stdout",
     "output_type": "stream",
     "text": [
      "Mozilla/5.0 (Macintosh; Intel Mac OS X 10_9_0) AppleWebKit/537.36 (KHTML, like Gecko) Chrome/32.0.1664.3 Safari/537.36\n"
     ]
    },
    {
     "name": "stderr",
     "output_type": "stream",
     "text": [
      "  9%|███▋                                      | 12/137 [03:08<31:29, 15.11s/it]\n",
      "\n",
      "====== WebDriver manager ======\n",
      "Current google-chrome version is 93.0.4577\n",
      "Get LATEST driver version for 93.0.4577\n",
      "Driver [/Users/kimjisoo/.wdm/drivers/chromedriver/mac64/93.0.4577.63/chromedriver] found in cache\n"
     ]
    },
    {
     "name": "stdout",
     "output_type": "stream",
     "text": [
      "Mozilla/5.0 (Windows NT 5.1) AppleWebKit/537.36 (KHTML, like Gecko) Chrome/35.0.3319.102 Safari/537.36\n"
     ]
    },
    {
     "name": "stderr",
     "output_type": "stream",
     "text": [
      "  9%|███▉                                      | 13/137 [03:23<30:43, 14.87s/it]\n",
      "\n",
      "====== WebDriver manager ======\n",
      "Current google-chrome version is 93.0.4577\n",
      "Get LATEST driver version for 93.0.4577\n",
      "Driver [/Users/kimjisoo/.wdm/drivers/chromedriver/mac64/93.0.4577.63/chromedriver] found in cache\n"
     ]
    },
    {
     "name": "stdout",
     "output_type": "stream",
     "text": [
      "Mozilla/5.0 (X11; Linux x86_64; rv:28.0) Gecko/20100101  Firefox/28.0\n"
     ]
    },
    {
     "name": "stderr",
     "output_type": "stream",
     "text": [
      " 10%|████▎                                     | 14/137 [03:39<31:28, 15.35s/it]\n",
      "\n",
      "====== WebDriver manager ======\n",
      "Current google-chrome version is 93.0.4577\n",
      "Get LATEST driver version for 93.0.4577\n",
      "Driver [/Users/kimjisoo/.wdm/drivers/chromedriver/mac64/93.0.4577.63/chromedriver] found in cache\n"
     ]
    },
    {
     "name": "stdout",
     "output_type": "stream",
     "text": [
      "Mozilla/5.0 (Windows NT 5.1; rv:21.0) Gecko/20130331 Firefox/21.0\n"
     ]
    },
    {
     "name": "stderr",
     "output_type": "stream",
     "text": [
      " 11%|████▌                                     | 15/137 [03:53<30:12, 14.86s/it]\n",
      "\n",
      "====== WebDriver manager ======\n",
      "Current google-chrome version is 93.0.4577\n",
      "Get LATEST driver version for 93.0.4577\n",
      "Driver [/Users/kimjisoo/.wdm/drivers/chromedriver/mac64/93.0.4577.63/chromedriver] found in cache\n"
     ]
    },
    {
     "name": "stdout",
     "output_type": "stream",
     "text": [
      "Mozilla/5.0 (Windows NT 5.1) AppleWebKit/537.36 (KHTML, like Gecko) Chrome/34.0.1866.237 Safari/537.36\n"
     ]
    },
    {
     "name": "stderr",
     "output_type": "stream",
     "text": [
      " 12%|████▉                                     | 16/137 [04:07<29:47, 14.78s/it]\n",
      "\n",
      "====== WebDriver manager ======\n",
      "Current google-chrome version is 93.0.4577\n",
      "Get LATEST driver version for 93.0.4577\n",
      "Driver [/Users/kimjisoo/.wdm/drivers/chromedriver/mac64/93.0.4577.63/chromedriver] found in cache\n"
     ]
    },
    {
     "name": "stdout",
     "output_type": "stream",
     "text": [
      "Mozilla/5.0 (Macintosh; Intel Mac OS X 10_9_2) AppleWebKit/537.36 (KHTML, like Gecko) Chrome/36.0.1944.0 Safari/537.36\n"
     ]
    },
    {
     "name": "stderr",
     "output_type": "stream",
     "text": [
      " 12%|█████▏                                    | 17/137 [04:22<29:31, 14.76s/it]\n",
      "\n",
      "====== WebDriver manager ======\n",
      "Current google-chrome version is 93.0.4577\n",
      "Get LATEST driver version for 93.0.4577\n",
      "Driver [/Users/kimjisoo/.wdm/drivers/chromedriver/mac64/93.0.4577.63/chromedriver] found in cache\n"
     ]
    },
    {
     "name": "stdout",
     "output_type": "stream",
     "text": [
      "Mozilla/5.0 (Macintosh; Intel Mac OS X 10_9_0) AppleWebKit/537.36 (KHTML, like Gecko) Chrome/32.0.1664.3 Safari/537.36\n"
     ]
    },
    {
     "name": "stderr",
     "output_type": "stream",
     "text": [
      " 13%|█████▌                                    | 18/137 [04:37<29:03, 14.65s/it]\n",
      "\n",
      "====== WebDriver manager ======\n",
      "Current google-chrome version is 93.0.4577\n",
      "Get LATEST driver version for 93.0.4577\n",
      "Driver [/Users/kimjisoo/.wdm/drivers/chromedriver/mac64/93.0.4577.63/chromedriver] found in cache\n"
     ]
    },
    {
     "name": "stdout",
     "output_type": "stream",
     "text": [
      "Mozilla/5.0 (Windows NT 6.2; WOW64) AppleWebKit/537.14 (KHTML, like Gecko) Chrome/24.0.1292.0 Safari/537.14\n"
     ]
    },
    {
     "name": "stderr",
     "output_type": "stream",
     "text": [
      " 14%|█████▊                                    | 19/137 [04:51<28:42, 14.60s/it]\n",
      "\n",
      "====== WebDriver manager ======\n",
      "Current google-chrome version is 93.0.4577\n",
      "Get LATEST driver version for 93.0.4577\n",
      "Driver [/Users/kimjisoo/.wdm/drivers/chromedriver/mac64/93.0.4577.63/chromedriver] found in cache\n"
     ]
    },
    {
     "name": "stdout",
     "output_type": "stream",
     "text": [
      "Mozilla/5.0 (Windows NT 6.1) AppleWebKit/537.36 (KHTML, like Gecko) Chrome/28.0.1468.0 Safari/537.36\n"
     ]
    },
    {
     "name": "stderr",
     "output_type": "stream",
     "text": [
      " 15%|██████▏                                   | 20/137 [05:06<28:31, 14.63s/it]\n",
      "\n",
      "====== WebDriver manager ======\n",
      "Current google-chrome version is 93.0.4577\n",
      "Get LATEST driver version for 93.0.4577\n",
      "Driver [/Users/kimjisoo/.wdm/drivers/chromedriver/mac64/93.0.4577.63/chromedriver] found in cache\n"
     ]
    },
    {
     "name": "stdout",
     "output_type": "stream",
     "text": [
      "Mozilla/5.0 (Windows NT 6.3; WOW64) AppleWebKit/537.36 (KHTML, like Gecko) Chrome/41.0.2225.0 Safari/537.36\n"
     ]
    },
    {
     "name": "stderr",
     "output_type": "stream",
     "text": [
      " 15%|██████▍                                   | 21/137 [05:25<30:49, 15.95s/it]\n",
      "\n",
      "====== WebDriver manager ======\n",
      "Current google-chrome version is 93.0.4577\n",
      "Get LATEST driver version for 93.0.4577\n",
      "Driver [/Users/kimjisoo/.wdm/drivers/chromedriver/mac64/93.0.4577.63/chromedriver] found in cache\n"
     ]
    },
    {
     "name": "stdout",
     "output_type": "stream",
     "text": [
      "Mozilla/5.0 (Windows NT 6.2; WOW64) AppleWebKit/537.36 (KHTML, like Gecko) Chrome/29.0.1547.2 Safari/537.36\n"
     ]
    },
    {
     "name": "stderr",
     "output_type": "stream",
     "text": [
      " 16%|██████▋                                   | 22/137 [05:44<32:38, 17.03s/it]\n",
      "\n",
      "====== WebDriver manager ======\n",
      "Current google-chrome version is 93.0.4577\n",
      "Get LATEST driver version for 93.0.4577\n",
      "Driver [/Users/kimjisoo/.wdm/drivers/chromedriver/mac64/93.0.4577.63/chromedriver] found in cache\n"
     ]
    },
    {
     "name": "stdout",
     "output_type": "stream",
     "text": [
      "Mozilla/5.0 (Windows NT 6.1; WOW64) AppleWebKit/537.36 (KHTML, like Gecko) Chrome/29.0.1547.62 Safari/537.36\n"
     ]
    },
    {
     "name": "stderr",
     "output_type": "stream",
     "text": [
      " 17%|███████                                   | 23/137 [05:58<30:17, 15.94s/it]\n",
      "\n",
      "====== WebDriver manager ======\n",
      "Current google-chrome version is 93.0.4577\n",
      "Get LATEST driver version for 93.0.4577\n",
      "Driver [/Users/kimjisoo/.wdm/drivers/chromedriver/mac64/93.0.4577.63/chromedriver] found in cache\n"
     ]
    },
    {
     "name": "stdout",
     "output_type": "stream",
     "text": [
      "Mozilla/5.0 (Macintosh; Intel Mac OS X 10_9_2) AppleWebKit/537.36 (KHTML, like Gecko) Chrome/36.0.1944.0 Safari/537.36\n"
     ]
    },
    {
     "name": "stderr",
     "output_type": "stream",
     "text": [
      " 18%|███████▎                                  | 24/137 [06:12<29:13, 15.52s/it]\n",
      "\n",
      "====== WebDriver manager ======\n",
      "Current google-chrome version is 93.0.4577\n",
      "Get LATEST driver version for 93.0.4577\n",
      "Driver [/Users/kimjisoo/.wdm/drivers/chromedriver/mac64/93.0.4577.63/chromedriver] found in cache\n"
     ]
    },
    {
     "name": "stdout",
     "output_type": "stream",
     "text": [
      "Mozilla/5.0 (Microsoft Windows NT 6.2.9200.0); rv:22.0) Gecko/20130405 Firefox/22.0\n"
     ]
    },
    {
     "name": "stderr",
     "output_type": "stream",
     "text": [
      " 18%|███████▋                                  | 25/137 [06:26<28:09, 15.09s/it]\n",
      "\n",
      "====== WebDriver manager ======\n",
      "Current google-chrome version is 93.0.4577\n",
      "Get LATEST driver version for 93.0.4577\n",
      "Driver [/Users/kimjisoo/.wdm/drivers/chromedriver/mac64/93.0.4577.63/chromedriver] found in cache\n"
     ]
    },
    {
     "name": "stdout",
     "output_type": "stream",
     "text": [
      "Mozilla/5.0 (Windows NT 6.2; WOW64) AppleWebKit/537.14 (KHTML, like Gecko) Chrome/24.0.1292.0 Safari/537.14\n"
     ]
    },
    {
     "name": "stderr",
     "output_type": "stream",
     "text": [
      " 19%|███████▉                                  | 26/137 [06:41<27:37, 14.94s/it]\n",
      "\n",
      "====== WebDriver manager ======\n",
      "Current google-chrome version is 93.0.4577\n",
      "Get LATEST driver version for 93.0.4577\n"
     ]
    },
    {
     "name": "stdout",
     "output_type": "stream",
     "text": [
      "Mozilla/5.0 (Windows NT 6.3; WOW64) AppleWebKit/537.36 (KHTML, like Gecko) Chrome/41.0.2225.0 Safari/537.36\n"
     ]
    },
    {
     "name": "stderr",
     "output_type": "stream",
     "text": [
      "Driver [/Users/kimjisoo/.wdm/drivers/chromedriver/mac64/93.0.4577.63/chromedriver] found in cache\n",
      " 20%|████████▎                                 | 27/137 [07:02<30:40, 16.73s/it]\n",
      "\n",
      "====== WebDriver manager ======\n",
      "Current google-chrome version is 93.0.4577\n",
      "Get LATEST driver version for 93.0.4577\n",
      "Driver [/Users/kimjisoo/.wdm/drivers/chromedriver/mac64/93.0.4577.63/chromedriver] found in cache\n"
     ]
    },
    {
     "name": "stdout",
     "output_type": "stream",
     "text": [
      "Mozilla/5.0 (Windows NT 6.3; Win64; x64) AppleWebKit/537.36 (KHTML, like Gecko) Chrome/37.0.2049.0 Safari/537.36\n"
     ]
    },
    {
     "name": "stderr",
     "output_type": "stream",
     "text": [
      " 20%|████████▌                                 | 28/137 [07:18<30:16, 16.67s/it]\n",
      "\n",
      "====== WebDriver manager ======\n",
      "Current google-chrome version is 93.0.4577\n",
      "Get LATEST driver version for 93.0.4577\n",
      "Driver [/Users/kimjisoo/.wdm/drivers/chromedriver/mac64/93.0.4577.63/chromedriver] found in cache\n"
     ]
    },
    {
     "name": "stdout",
     "output_type": "stream",
     "text": [
      "Mozilla/5.0 (Macintosh; Intel Mac OS X 10_10_1) AppleWebKit/537.36 (KHTML, like Gecko) Chrome/37.0.2062.124 Safari/537.36\n"
     ]
    },
    {
     "name": "stderr",
     "output_type": "stream",
     "text": [
      " 21%|████████▉                                 | 29/137 [07:38<31:26, 17.47s/it]\n",
      "\n",
      "====== WebDriver manager ======\n",
      "Current google-chrome version is 93.0.4577\n",
      "Get LATEST driver version for 93.0.4577\n",
      "Driver [/Users/kimjisoo/.wdm/drivers/chromedriver/mac64/93.0.4577.63/chromedriver] found in cache\n"
     ]
    },
    {
     "name": "stdout",
     "output_type": "stream",
     "text": [
      "Mozilla/5.0 (Windows NT 6.2; Win64; x64) AppleWebKit/537.36 (KHTML, like Gecko) Chrome/32.0.1667.0 Safari/537.36\n"
     ]
    },
    {
     "name": "stderr",
     "output_type": "stream",
     "text": [
      " 22%|█████████▏                                | 30/137 [07:56<31:51, 17.87s/it]\n",
      "\n",
      "====== WebDriver manager ======\n",
      "Current google-chrome version is 93.0.4577\n",
      "Get LATEST driver version for 93.0.4577\n",
      "Driver [/Users/kimjisoo/.wdm/drivers/chromedriver/mac64/93.0.4577.63/chromedriver] found in cache\n"
     ]
    },
    {
     "name": "stdout",
     "output_type": "stream",
     "text": [
      "Mozilla/5.0 (Macintosh; Intel Mac OS X 10_10_1) AppleWebKit/537.36 (KHTML, like Gecko) Chrome/41.0.2227.1 Safari/537.36\n"
     ]
    },
    {
     "name": "stderr",
     "output_type": "stream",
     "text": [
      " 23%|█████████▌                                | 31/137 [08:12<30:24, 17.22s/it]\n",
      "\n",
      "====== WebDriver manager ======\n",
      "Current google-chrome version is 93.0.4577\n",
      "Get LATEST driver version for 93.0.4577\n",
      "Driver [/Users/kimjisoo/.wdm/drivers/chromedriver/mac64/93.0.4577.63/chromedriver] found in cache\n"
     ]
    },
    {
     "name": "stdout",
     "output_type": "stream",
     "text": [
      "Mozilla/5.0 (Windows NT 6.2; WOW64) AppleWebKit/537.15 (KHTML, like Gecko) Chrome/24.0.1295.0 Safari/537.15\n"
     ]
    },
    {
     "name": "stderr",
     "output_type": "stream",
     "text": [
      " 23%|█████████▊                                | 32/137 [08:31<30:54, 17.66s/it]\n",
      "\n",
      "====== WebDriver manager ======\n",
      "Current google-chrome version is 93.0.4577\n",
      "Get LATEST driver version for 93.0.4577\n",
      "Driver [/Users/kimjisoo/.wdm/drivers/chromedriver/mac64/93.0.4577.63/chromedriver] found in cache\n"
     ]
    },
    {
     "name": "stdout",
     "output_type": "stream",
     "text": [
      "Mozilla/5.0 (Windows NT 6.3; WOW64) AppleWebKit/537.36 (KHTML, like Gecko) Chrome/41.0.2226.0 Safari/537.36\n"
     ]
    },
    {
     "name": "stderr",
     "output_type": "stream",
     "text": [
      " 24%|██████████                                | 33/137 [08:47<29:35, 17.08s/it]\n",
      "\n",
      "====== WebDriver manager ======\n",
      "Current google-chrome version is 93.0.4577\n",
      "Get LATEST driver version for 93.0.4577\n",
      "Driver [/Users/kimjisoo/.wdm/drivers/chromedriver/mac64/93.0.4577.63/chromedriver] found in cache\n"
     ]
    },
    {
     "name": "stdout",
     "output_type": "stream",
     "text": [
      "Mozilla/5.0 (Windows NT 6.2; WOW64) AppleWebKit/537.36 (KHTML, like Gecko) Chrome/27.0.1453.93 Safari/537.36\n"
     ]
    },
    {
     "name": "stderr",
     "output_type": "stream",
     "text": [
      " 25%|██████████▍                               | 34/137 [09:02<28:20, 16.51s/it]\n",
      "\n",
      "====== WebDriver manager ======\n",
      "Current google-chrome version is 93.0.4577\n",
      "Get LATEST driver version for 93.0.4577\n",
      "Driver [/Users/kimjisoo/.wdm/drivers/chromedriver/mac64/93.0.4577.63/chromedriver] found in cache\n"
     ]
    },
    {
     "name": "stdout",
     "output_type": "stream",
     "text": [
      "Mozilla/5.0 (Macintosh; Intel Mac OS X 10_8_2) AppleWebKit/537.17 (KHTML, like Gecko) Chrome/24.0.1309.0 Safari/537.17\n"
     ]
    },
    {
     "name": "stderr",
     "output_type": "stream",
     "text": [
      " 26%|██████████▋                               | 35/137 [09:31<34:32, 20.32s/it]\n",
      "\n",
      "====== WebDriver manager ======\n",
      "Current google-chrome version is 93.0.4577\n",
      "Get LATEST driver version for 93.0.4577\n",
      "Driver [/Users/kimjisoo/.wdm/drivers/chromedriver/mac64/93.0.4577.63/chromedriver] found in cache\n"
     ]
    },
    {
     "name": "stdout",
     "output_type": "stream",
     "text": [
      "Mozilla/5.0 (X11; CrOS i686 3912.101.0) AppleWebKit/537.36 (KHTML, like Gecko) Chrome/27.0.1453.116 Safari/537.36\n"
     ]
    },
    {
     "name": "stderr",
     "output_type": "stream",
     "text": [
      " 26%|███████████                               | 36/137 [09:46<31:17, 18.59s/it]\n",
      "\n",
      "====== WebDriver manager ======\n",
      "Current google-chrome version is 93.0.4577\n",
      "Get LATEST driver version for 93.0.4577\n"
     ]
    },
    {
     "name": "stdout",
     "output_type": "stream",
     "text": [
      "Mozilla/5.0 (Windows NT 4.0; WOW64) AppleWebKit/537.36 (KHTML, like Gecko) Chrome/37.0.2049.0 Safari/537.36\n"
     ]
    },
    {
     "name": "stderr",
     "output_type": "stream",
     "text": [
      "Driver [/Users/kimjisoo/.wdm/drivers/chromedriver/mac64/93.0.4577.63/chromedriver] found in cache\n",
      " 27%|███████████▎                              | 37/137 [10:09<33:19, 20.00s/it]\n",
      "\n",
      "====== WebDriver manager ======\n",
      "Current google-chrome version is 93.0.4577\n",
      "Get LATEST driver version for 93.0.4577\n",
      "Driver [/Users/kimjisoo/.wdm/drivers/chromedriver/mac64/93.0.4577.63/chromedriver] found in cache\n"
     ]
    },
    {
     "name": "stdout",
     "output_type": "stream",
     "text": [
      "Mozilla/5.0 (Macintosh; Intel Mac OS X 10.6; rv:25.0) Gecko/20100101 Firefox/25.0\n"
     ]
    },
    {
     "name": "stderr",
     "output_type": "stream",
     "text": [
      " 28%|███████████▋                              | 38/137 [10:26<31:34, 19.13s/it]\n",
      "\n",
      "====== WebDriver manager ======\n",
      "Current google-chrome version is 93.0.4577\n",
      "Get LATEST driver version for 93.0.4577\n",
      "Driver [/Users/kimjisoo/.wdm/drivers/chromedriver/mac64/93.0.4577.63/chromedriver] found in cache\n"
     ]
    },
    {
     "name": "stdout",
     "output_type": "stream",
     "text": [
      "Mozilla/5.0 (Windows NT 6.1) AppleWebKit/537.36 (KHTML, like Gecko) Chrome/28.0.1468.0 Safari/537.36\n"
     ]
    },
    {
     "name": "stderr",
     "output_type": "stream",
     "text": [
      " 28%|███████████                            | 39/137 [16:49<3:29:33, 128.30s/it]\n",
      "\n",
      "====== WebDriver manager ======\n",
      "Current google-chrome version is 93.0.4577\n",
      "Get LATEST driver version for 93.0.4577\n",
      "Driver [/Users/kimjisoo/.wdm/drivers/chromedriver/mac64/93.0.4577.63/chromedriver] found in cache\n"
     ]
    },
    {
     "name": "stdout",
     "output_type": "stream",
     "text": [
      "Mozilla/5.0 (Windows NT 6.2) AppleWebKit/537.36 (KHTML, like Gecko) Chrome/28.0.1464.0 Safari/537.36\n"
     ]
    },
    {
     "name": "stderr",
     "output_type": "stream",
     "text": [
      " 29%|███████████▍                           | 40/137 [17:29<2:44:28, 101.74s/it]\n",
      "\n",
      "====== WebDriver manager ======\n",
      "Current google-chrome version is 93.0.4577\n",
      "Get LATEST driver version for 93.0.4577\n"
     ]
    },
    {
     "name": "stdout",
     "output_type": "stream",
     "text": [
      "Mozilla/5.0 (Windows NT 5.1) AppleWebKit/537.36 (KHTML, like Gecko) Chrome/35.0.2309.372 Safari/537.36\n"
     ]
    },
    {
     "name": "stderr",
     "output_type": "stream",
     "text": [
      "Driver [/Users/kimjisoo/.wdm/drivers/chromedriver/mac64/93.0.4577.63/chromedriver] found in cache\n",
      " 30%|███████████▉                            | 41/137 [17:44<2:01:13, 75.77s/it]\n",
      "\n",
      "====== WebDriver manager ======\n",
      "Current google-chrome version is 93.0.4577\n",
      "Get LATEST driver version for 93.0.4577\n",
      "Driver [/Users/kimjisoo/.wdm/drivers/chromedriver/mac64/93.0.4577.63/chromedriver] found in cache\n"
     ]
    },
    {
     "name": "stdout",
     "output_type": "stream",
     "text": [
      "Mozilla/5.0 (X11; Linux x86_64) AppleWebKit/537.36 (KHTML, like Gecko) Chrome/33.0.1750.517 Safari/537.36\n"
     ]
    },
    {
     "name": "stderr",
     "output_type": "stream",
     "text": [
      " 31%|████████████▎                           | 42/137 [17:59<1:31:12, 57.60s/it]\n",
      "\n",
      "====== WebDriver manager ======\n",
      "Current google-chrome version is 93.0.4577\n",
      "Get LATEST driver version for 93.0.4577\n",
      "Driver [/Users/kimjisoo/.wdm/drivers/chromedriver/mac64/93.0.4577.63/chromedriver] found in cache\n"
     ]
    },
    {
     "name": "stdout",
     "output_type": "stream",
     "text": [
      "Mozilla/5.0 (X11; CrOS i686 3912.101.0) AppleWebKit/537.36 (KHTML, like Gecko) Chrome/27.0.1453.116 Safari/537.36\n"
     ]
    },
    {
     "name": "stderr",
     "output_type": "stream",
     "text": [
      " 31%|████████████▌                           | 43/137 [18:43<1:23:43, 53.44s/it]\n",
      "\n",
      "====== WebDriver manager ======\n",
      "Current google-chrome version is 93.0.4577\n",
      "Get LATEST driver version for 93.0.4577\n",
      "Driver [/Users/kimjisoo/.wdm/drivers/chromedriver/mac64/93.0.4577.63/chromedriver] found in cache\n"
     ]
    },
    {
     "name": "stdout",
     "output_type": "stream",
     "text": [
      "Mozilla/5.0 (X11; Linux i586; rv:31.0) Gecko/20100101 Firefox/31.0\n"
     ]
    },
    {
     "name": "stderr",
     "output_type": "stream",
     "text": [
      " 32%|████████████▊                           | 44/137 [19:00<1:05:46, 42.43s/it]\n",
      "\n",
      "====== WebDriver manager ======\n",
      "Current google-chrome version is 93.0.4577\n",
      "Get LATEST driver version for 93.0.4577\n",
      "Driver [/Users/kimjisoo/.wdm/drivers/chromedriver/mac64/93.0.4577.63/chromedriver] found in cache\n"
     ]
    },
    {
     "name": "stdout",
     "output_type": "stream",
     "text": [
      "Mozilla/5.0 (Macintosh; Intel Mac OS X 10_10_1) AppleWebKit/537.36 (KHTML, like Gecko) Chrome/41.0.2227.1 Safari/537.36\n"
     ]
    },
    {
     "name": "stderr",
     "output_type": "stream",
     "text": [
      " 33%|█████████████▊                            | 45/137 [19:15<52:51, 34.47s/it]\n",
      "\n",
      "====== WebDriver manager ======\n",
      "Current google-chrome version is 93.0.4577\n",
      "Get LATEST driver version for 93.0.4577\n",
      "Driver [/Users/kimjisoo/.wdm/drivers/chromedriver/mac64/93.0.4577.63/chromedriver] found in cache\n"
     ]
    },
    {
     "name": "stdout",
     "output_type": "stream",
     "text": [
      "Mozilla/5.0 (Windows; U; Windows NT 6.1; tr-TR) AppleWebKit/533.20.25 (KHTML, like Gecko) Version/5.0.4 Safari/533.20.27\n"
     ]
    },
    {
     "name": "stderr",
     "output_type": "stream",
     "text": [
      " 34%|██████████████                            | 46/137 [19:30<43:05, 28.42s/it]\n",
      "\n",
      "====== WebDriver manager ======\n",
      "Current google-chrome version is 93.0.4577\n",
      "Get LATEST driver version for 93.0.4577\n",
      "Driver [/Users/kimjisoo/.wdm/drivers/chromedriver/mac64/93.0.4577.63/chromedriver] found in cache\n"
     ]
    },
    {
     "name": "stdout",
     "output_type": "stream",
     "text": [
      "Mozilla/5.0 (Windows; U; Windows NT 5.1; ru-RU) AppleWebKit/533.19.4 (KHTML, like Gecko) Version/5.0.3 Safari/533.19.4\n"
     ]
    },
    {
     "name": "stderr",
     "output_type": "stream",
     "text": [
      " 34%|██████████████▍                           | 47/137 [20:17<51:07, 34.08s/it]\n",
      "\n",
      "====== WebDriver manager ======\n",
      "Current google-chrome version is 93.0.4577\n",
      "Get LATEST driver version for 93.0.4577\n",
      "Driver [/Users/kimjisoo/.wdm/drivers/chromedriver/mac64/93.0.4577.63/chromedriver] found in cache\n"
     ]
    },
    {
     "name": "stdout",
     "output_type": "stream",
     "text": [
      "Mozilla/5.0 (Windows NT 5.1) AppleWebKit/537.36 (KHTML, like Gecko) Chrome/27.0.1453.93 Safari/537.36\n"
     ]
    },
    {
     "name": "stderr",
     "output_type": "stream",
     "text": [
      " 35%|██████████████▋                           | 48/137 [20:34<43:01, 29.01s/it]\n",
      "\n",
      "====== WebDriver manager ======\n",
      "Current google-chrome version is 93.0.4577\n",
      "Get LATEST driver version for 93.0.4577\n"
     ]
    },
    {
     "name": "stdout",
     "output_type": "stream",
     "text": [
      "Mozilla/5.0 (Windows NT 5.1) AppleWebKit/537.36 (KHTML, like Gecko) Chrome/35.0.2309.372 Safari/537.36\n"
     ]
    },
    {
     "name": "stderr",
     "output_type": "stream",
     "text": [
      "Driver [/Users/kimjisoo/.wdm/drivers/chromedriver/mac64/93.0.4577.63/chromedriver] found in cache\n",
      " 36%|███████████████                           | 49/137 [20:51<37:15, 25.40s/it]\n",
      "\n",
      "====== WebDriver manager ======\n",
      "Current google-chrome version is 93.0.4577\n",
      "Get LATEST driver version for 93.0.4577\n",
      "Driver [/Users/kimjisoo/.wdm/drivers/chromedriver/mac64/93.0.4577.63/chromedriver] found in cache\n"
     ]
    },
    {
     "name": "stdout",
     "output_type": "stream",
     "text": [
      "Mozilla/5.0 (Windows NT 5.1) AppleWebKit/537.36 (KHTML, like Gecko) Chrome/31.0.1650.16 Safari/537.36\n"
     ]
    },
    {
     "name": "stderr",
     "output_type": "stream",
     "text": [
      " 36%|███████████████▎                          | 50/137 [21:15<35:57, 24.80s/it]\n",
      "\n",
      "====== WebDriver manager ======\n",
      "Current google-chrome version is 93.0.4577\n",
      "Get LATEST driver version for 93.0.4577\n",
      "Driver [/Users/kimjisoo/.wdm/drivers/chromedriver/mac64/93.0.4577.63/chromedriver] found in cache\n"
     ]
    },
    {
     "name": "stdout",
     "output_type": "stream",
     "text": [
      "Mozilla/5.0 (Windows NT 6.1; WOW64) AppleWebKit/537.36 (KHTML, like Gecko) Chrome/36.0.1985.67 Safari/537.36\n"
     ]
    },
    {
     "name": "stderr",
     "output_type": "stream",
     "text": [
      " 37%|███████████████▋                          | 51/137 [21:44<37:24, 26.10s/it]\n",
      "\n",
      "====== WebDriver manager ======\n",
      "Current google-chrome version is 93.0.4577\n",
      "Get LATEST driver version for 93.0.4577\n",
      "Driver [/Users/kimjisoo/.wdm/drivers/chromedriver/mac64/93.0.4577.63/chromedriver] found in cache\n"
     ]
    },
    {
     "name": "stdout",
     "output_type": "stream",
     "text": [
      "Mozilla/5.0 (Windows NT 6.2; WOW64) AppleWebKit/537.36 (KHTML, like Gecko) Chrome/27.0.1453.93 Safari/537.36\n"
     ]
    },
    {
     "name": "stderr",
     "output_type": "stream",
     "text": [
      " 38%|███████████████▉                          | 52/137 [22:04<34:17, 24.21s/it]\n",
      "\n",
      "====== WebDriver manager ======\n",
      "Current google-chrome version is 93.0.4577\n",
      "Get LATEST driver version for 93.0.4577\n",
      "Driver [/Users/kimjisoo/.wdm/drivers/chromedriver/mac64/93.0.4577.63/chromedriver] found in cache\n"
     ]
    },
    {
     "name": "stdout",
     "output_type": "stream",
     "text": [
      "Mozilla/5.0 (Windows NT 6.2) AppleWebKit/537.36 (KHTML, like Gecko) Chrome/28.0.1464.0 Safari/537.36\n"
     ]
    },
    {
     "name": "stderr",
     "output_type": "stream",
     "text": [
      " 39%|████████████████▏                         | 53/137 [22:18<29:45, 21.25s/it]\n",
      "\n",
      "====== WebDriver manager ======\n",
      "Current google-chrome version is 93.0.4577\n",
      "Get LATEST driver version for 93.0.4577\n",
      "Driver [/Users/kimjisoo/.wdm/drivers/chromedriver/mac64/93.0.4577.63/chromedriver] found in cache\n"
     ]
    },
    {
     "name": "stdout",
     "output_type": "stream",
     "text": [
      "Mozilla/5.0 (Windows NT 5.1) AppleWebKit/537.36 (KHTML, like Gecko) Chrome/35.0.3319.102 Safari/537.36\n"
     ]
    },
    {
     "name": "stderr",
     "output_type": "stream",
     "text": [
      " 39%|████████████████▌                         | 54/137 [22:35<27:35, 19.95s/it]\n",
      "\n",
      "====== WebDriver manager ======\n",
      "Current google-chrome version is 93.0.4577\n",
      "Get LATEST driver version for 93.0.4577\n"
     ]
    },
    {
     "name": "stdout",
     "output_type": "stream",
     "text": [
      "Mozilla/5.0 (Macintosh; Intel Mac OS X 10_9_3) AppleWebKit/537.36 (KHTML, like Gecko) Chrome/35.0.1916.47 Safari/537.36\n"
     ]
    },
    {
     "name": "stderr",
     "output_type": "stream",
     "text": [
      "Driver [/Users/kimjisoo/.wdm/drivers/chromedriver/mac64/93.0.4577.63/chromedriver] found in cache\n",
      " 40%|████████████████▊                         | 55/137 [22:50<25:09, 18.41s/it]\n",
      "\n",
      "====== WebDriver manager ======\n",
      "Current google-chrome version is 93.0.4577\n",
      "Get LATEST driver version for 93.0.4577\n",
      "Driver [/Users/kimjisoo/.wdm/drivers/chromedriver/mac64/93.0.4577.63/chromedriver] found in cache\n"
     ]
    },
    {
     "name": "stdout",
     "output_type": "stream",
     "text": [
      "Mozilla/5.0 (Windows NT 5.1) AppleWebKit/537.36 (KHTML, like Gecko) Chrome/27.0.1453.93 Safari/537.36\n"
     ]
    },
    {
     "name": "stderr",
     "output_type": "stream",
     "text": [
      " 41%|█████████████████▏                        | 56/137 [23:06<23:59, 17.78s/it]\n",
      "\n",
      "====== WebDriver manager ======\n",
      "Current google-chrome version is 93.0.4577\n",
      "Get LATEST driver version for 93.0.4577\n",
      "Driver [/Users/kimjisoo/.wdm/drivers/chromedriver/mac64/93.0.4577.63/chromedriver] found in cache\n"
     ]
    },
    {
     "name": "stdout",
     "output_type": "stream",
     "text": [
      "Mozilla/5.0 (Macintosh; Intel Mac OS X 10_7_3) AppleWebKit/534.55.3 (KHTML, like Gecko) Version/5.1.3 Safari/534.53.10\n"
     ]
    },
    {
     "name": "stderr",
     "output_type": "stream",
     "text": [
      " 42%|█████████████████▍                        | 57/137 [23:25<24:24, 18.31s/it]\n",
      "\n",
      "====== WebDriver manager ======\n",
      "Current google-chrome version is 93.0.4577\n",
      "Get LATEST driver version for 93.0.4577\n",
      "Driver [/Users/kimjisoo/.wdm/drivers/chromedriver/mac64/93.0.4577.63/chromedriver] found in cache\n"
     ]
    },
    {
     "name": "stdout",
     "output_type": "stream",
     "text": [
      "Mozilla/5.0 (Windows NT 4.0; WOW64) AppleWebKit/537.36 (KHTML, like Gecko) Chrome/37.0.2049.0 Safari/537.36\n"
     ]
    },
    {
     "name": "stderr",
     "output_type": "stream",
     "text": [
      " 42%|█████████████████▊                        | 58/137 [23:42<23:34, 17.91s/it]\n",
      "\n",
      "====== WebDriver manager ======\n",
      "Current google-chrome version is 93.0.4577\n",
      "Get LATEST driver version for 93.0.4577\n",
      "Driver [/Users/kimjisoo/.wdm/drivers/chromedriver/mac64/93.0.4577.63/chromedriver] found in cache\n"
     ]
    },
    {
     "name": "stdout",
     "output_type": "stream",
     "text": [
      "Mozilla/5.0 (Macintosh; Intel Mac OS X 10_10_1) AppleWebKit/537.36 (KHTML, like Gecko) Chrome/37.0.2062.124 Safari/537.36\n"
     ]
    },
    {
     "name": "stderr",
     "output_type": "stream",
     "text": [
      " 43%|██████████████████                        | 59/137 [23:59<22:44, 17.50s/it]\n",
      "\n",
      "====== WebDriver manager ======\n",
      "Current google-chrome version is 93.0.4577\n",
      "Get LATEST driver version for 93.0.4577\n",
      "Driver [/Users/kimjisoo/.wdm/drivers/chromedriver/mac64/93.0.4577.63/chromedriver] found in cache\n"
     ]
    },
    {
     "name": "stdout",
     "output_type": "stream",
     "text": [
      "Mozilla/5.0 (Windows NT 6.4; WOW64) AppleWebKit/537.36 (KHTML, like Gecko) Chrome/41.0.2225.0 Safari/537.36\n"
     ]
    },
    {
     "name": "stderr",
     "output_type": "stream",
     "text": [
      " 44%|██████████████████▍                       | 60/137 [24:15<21:49, 17.01s/it]\n",
      "\n",
      "====== WebDriver manager ======\n",
      "Current google-chrome version is 93.0.4577\n",
      "Get LATEST driver version for 93.0.4577\n",
      "Driver [/Users/kimjisoo/.wdm/drivers/chromedriver/mac64/93.0.4577.63/chromedriver] found in cache\n"
     ]
    },
    {
     "name": "stdout",
     "output_type": "stream",
     "text": [
      "Mozilla/5.0 (Windows NT 6.1) AppleWebKit/537.36 (KHTML, like Gecko) Chrome/41.0.2228.0 Safari/537.36\n"
     ]
    },
    {
     "name": "stderr",
     "output_type": "stream",
     "text": [
      " 45%|██████████████████▋                       | 61/137 [24:33<22:01, 17.39s/it]\n",
      "\n",
      "====== WebDriver manager ======\n",
      "Current google-chrome version is 93.0.4577\n",
      "Get LATEST driver version for 93.0.4577\n",
      "Driver [/Users/kimjisoo/.wdm/drivers/chromedriver/mac64/93.0.4577.63/chromedriver] found in cache\n"
     ]
    },
    {
     "name": "stdout",
     "output_type": "stream",
     "text": [
      "Mozilla/5.0 (Windows NT 6.1; WOW64) AppleWebKit/537.36 (KHTML, like Gecko) Chrome/29.0.1547.62 Safari/537.36\n"
     ]
    },
    {
     "name": "stderr",
     "output_type": "stream",
     "text": [
      " 45%|███████████████████                       | 62/137 [24:48<20:46, 16.62s/it]\n",
      "\n",
      "====== WebDriver manager ======\n",
      "Current google-chrome version is 93.0.4577\n",
      "Get LATEST driver version for 93.0.4577\n",
      "Driver [/Users/kimjisoo/.wdm/drivers/chromedriver/mac64/93.0.4577.63/chromedriver] found in cache\n"
     ]
    },
    {
     "name": "stdout",
     "output_type": "stream",
     "text": [
      "Mozilla/5.0 (Windows NT 6.3; WOW64) AppleWebKit/537.36 (KHTML, like Gecko) Chrome/41.0.2226.0 Safari/537.36\n"
     ]
    },
    {
     "name": "stderr",
     "output_type": "stream",
     "text": [
      " 46%|███████████████████▎                      | 63/137 [25:04<20:10, 16.35s/it]\n",
      "\n",
      "====== WebDriver manager ======\n",
      "Current google-chrome version is 93.0.4577\n",
      "Get LATEST driver version for 93.0.4577\n"
     ]
    },
    {
     "name": "stdout",
     "output_type": "stream",
     "text": [
      "Mozilla/5.0 (Windows NT 6.2; Win64; x64) AppleWebKit/537.36 (KHTML, like Gecko) Chrome/32.0.1667.0 Safari/537.36\n"
     ]
    },
    {
     "name": "stderr",
     "output_type": "stream",
     "text": [
      "Driver [/Users/kimjisoo/.wdm/drivers/chromedriver/mac64/93.0.4577.63/chromedriver] found in cache\n",
      " 47%|███████████████████▌                      | 64/137 [25:27<22:27, 18.46s/it]\n",
      "\n",
      "====== WebDriver manager ======\n",
      "Current google-chrome version is 93.0.4577\n",
      "Get LATEST driver version for 93.0.4577\n",
      "Driver [/Users/kimjisoo/.wdm/drivers/chromedriver/mac64/93.0.4577.63/chromedriver] found in cache\n"
     ]
    },
    {
     "name": "stdout",
     "output_type": "stream",
     "text": [
      "Mozilla/5.0 (Macintosh; Intel Mac OS X 10_9_0) AppleWebKit/537.36 (KHTML, like Gecko) Chrome/32.0.1664.3 Safari/537.36\n"
     ]
    },
    {
     "name": "stderr",
     "output_type": "stream",
     "text": [
      " 47%|███████████████████▉                      | 65/137 [25:43<21:12, 17.67s/it]\n",
      "\n",
      "====== WebDriver manager ======\n",
      "Current google-chrome version is 93.0.4577\n",
      "Get LATEST driver version for 93.0.4577\n"
     ]
    },
    {
     "name": "stdout",
     "output_type": "stream",
     "text": [
      "Mozilla/5.0 (Macintosh; Intel Mac OS X 10_9_3) AppleWebKit/537.36 (KHTML, like Gecko) Chrome/35.0.1916.47 Safari/537.36\n"
     ]
    },
    {
     "name": "stderr",
     "output_type": "stream",
     "text": [
      "Driver [/Users/kimjisoo/.wdm/drivers/chromedriver/mac64/93.0.4577.63/chromedriver] found in cache\n",
      " 48%|████████████████████▏                     | 66/137 [26:00<20:35, 17.41s/it]\n",
      "\n",
      "====== WebDriver manager ======\n",
      "Current google-chrome version is 93.0.4577\n",
      "Get LATEST driver version for 93.0.4577\n",
      "Driver [/Users/kimjisoo/.wdm/drivers/chromedriver/mac64/93.0.4577.63/chromedriver] found in cache\n"
     ]
    },
    {
     "name": "stdout",
     "output_type": "stream",
     "text": [
      "Mozilla/5.0 (Windows NT 6.1; WOW64) AppleWebKit/537.36 (KHTML, like Gecko) Chrome/31.0.1623.0 Safari/537.36\n"
     ]
    },
    {
     "name": "stderr",
     "output_type": "stream",
     "text": [
      " 49%|████████████████████▌                     | 67/137 [26:20<21:14, 18.20s/it]\n",
      "\n",
      "====== WebDriver manager ======\n",
      "Current google-chrome version is 93.0.4577\n",
      "Get LATEST driver version for 93.0.4577\n",
      "Driver [/Users/kimjisoo/.wdm/drivers/chromedriver/mac64/93.0.4577.63/chromedriver] found in cache\n"
     ]
    },
    {
     "name": "stdout",
     "output_type": "stream",
     "text": [
      "Mozilla/5.0 (X11; Linux x86_64) AppleWebKit/537.36 (KHTML, like Gecko) Chrome/34.0.1847.137 Safari/4E423F\n"
     ]
    },
    {
     "name": "stderr",
     "output_type": "stream",
     "text": [
      " 50%|████████████████████▊                     | 68/137 [26:37<20:30, 17.83s/it]\n",
      "\n",
      "====== WebDriver manager ======\n",
      "Current google-chrome version is 93.0.4577\n",
      "Get LATEST driver version for 93.0.4577\n",
      "Driver [/Users/kimjisoo/.wdm/drivers/chromedriver/mac64/93.0.4577.63/chromedriver] found in cache\n"
     ]
    },
    {
     "name": "stdout",
     "output_type": "stream",
     "text": [
      "Mozilla/5.0 (Windows; U; Windows NT 5.1; ja-JP) AppleWebKit/533.20.25 (KHTML, like Gecko) Version/5.0.3 Safari/533.19.4\n"
     ]
    },
    {
     "name": "stderr",
     "output_type": "stream",
     "text": [
      " 50%|█████████████████████▏                    | 69/137 [26:51<19:03, 16.82s/it]\n",
      "\n",
      "====== WebDriver manager ======\n",
      "Current google-chrome version is 93.0.4577\n",
      "Get LATEST driver version for 93.0.4577\n",
      "Driver [/Users/kimjisoo/.wdm/drivers/chromedriver/mac64/93.0.4577.63/chromedriver] found in cache\n"
     ]
    },
    {
     "name": "stdout",
     "output_type": "stream",
     "text": [
      "Mozilla/5.0 (Windows NT 5.1) AppleWebKit/537.36 (KHTML, like Gecko) Chrome/27.0.1453.93 Safari/537.36\n"
     ]
    },
    {
     "name": "stderr",
     "output_type": "stream",
     "text": [
      " 51%|█████████████████████▍                    | 70/137 [27:08<18:47, 16.83s/it]\n",
      "\n",
      "====== WebDriver manager ======\n",
      "Current google-chrome version is 93.0.4577\n",
      "Get LATEST driver version for 93.0.4577\n",
      "Driver [/Users/kimjisoo/.wdm/drivers/chromedriver/mac64/93.0.4577.63/chromedriver] found in cache\n"
     ]
    },
    {
     "name": "stdout",
     "output_type": "stream",
     "text": [
      "Mozilla/5.0 (Windows NT 6.3; WOW64) AppleWebKit/537.36 (KHTML, like Gecko) Chrome/41.0.2226.0 Safari/537.36\n"
     ]
    },
    {
     "name": "stderr",
     "output_type": "stream",
     "text": [
      " 52%|█████████████████████▊                    | 71/137 [27:24<18:15, 16.60s/it]\n",
      "\n",
      "====== WebDriver manager ======\n",
      "Current google-chrome version is 93.0.4577\n",
      "Get LATEST driver version for 93.0.4577\n",
      "Driver [/Users/kimjisoo/.wdm/drivers/chromedriver/mac64/93.0.4577.63/chromedriver] found in cache\n"
     ]
    },
    {
     "name": "stdout",
     "output_type": "stream",
     "text": [
      "Mozilla/5.0 (Windows NT 6.1; WOW64) AppleWebKit/537.36 (KHTML, like Gecko) Chrome/36.0.1985.67 Safari/537.36\n"
     ]
    },
    {
     "name": "stderr",
     "output_type": "stream",
     "text": [
      " 53%|██████████████████████                    | 72/137 [27:49<20:35, 19.01s/it]\n",
      "\n",
      "====== WebDriver manager ======\n",
      "Current google-chrome version is 93.0.4577\n",
      "Get LATEST driver version for 93.0.4577\n",
      "Driver [/Users/kimjisoo/.wdm/drivers/chromedriver/mac64/93.0.4577.63/chromedriver] found in cache\n"
     ]
    },
    {
     "name": "stdout",
     "output_type": "stream",
     "text": [
      "Mozilla/5.0 (Windows NT 5.1) AppleWebKit/537.36 (KHTML, like Gecko) Chrome/34.0.1866.237 Safari/537.36\n"
     ]
    },
    {
     "name": "stderr",
     "output_type": "stream",
     "text": [
      " 53%|██████████████████████▍                   | 73/137 [28:09<20:37, 19.34s/it]\n",
      "\n",
      "====== WebDriver manager ======\n",
      "Current google-chrome version is 93.0.4577\n",
      "Get LATEST driver version for 93.0.4577\n",
      "Driver [/Users/kimjisoo/.wdm/drivers/chromedriver/mac64/93.0.4577.63/chromedriver] found in cache\n"
     ]
    },
    {
     "name": "stdout",
     "output_type": "stream",
     "text": [
      "Mozilla/5.0 (Windows NT 6.2; WOW64) AppleWebKit/537.36 (KHTML, like Gecko) Chrome/30.0.1599.17 Safari/537.36\n"
     ]
    },
    {
     "name": "stderr",
     "output_type": "stream",
     "text": [
      " 54%|██████████████████████▋                   | 74/137 [28:26<19:28, 18.55s/it]\n",
      "\n",
      "====== WebDriver manager ======\n",
      "Current google-chrome version is 93.0.4577\n",
      "Get LATEST driver version for 93.0.4577\n",
      "Driver [/Users/kimjisoo/.wdm/drivers/chromedriver/mac64/93.0.4577.63/chromedriver] found in cache\n"
     ]
    },
    {
     "name": "stdout",
     "output_type": "stream",
     "text": [
      "Mozilla/5.0 (Windows NT 5.1) AppleWebKit/537.36 (KHTML, like Gecko) Chrome/34.0.1866.237 Safari/537.36\n"
     ]
    },
    {
     "name": "stderr",
     "output_type": "stream",
     "text": [
      " 55%|██████████████████████▉                   | 75/137 [28:42<18:33, 17.96s/it]\n",
      "\n",
      "====== WebDriver manager ======\n",
      "Current google-chrome version is 93.0.4577\n",
      "Get LATEST driver version for 93.0.4577\n",
      "Driver [/Users/kimjisoo/.wdm/drivers/chromedriver/mac64/93.0.4577.63/chromedriver] found in cache\n"
     ]
    },
    {
     "name": "stdout",
     "output_type": "stream",
     "text": [
      "Mozilla/5.0 (Windows NT 6.1; rv:27.3) Gecko/20130101 Firefox/27.3\n"
     ]
    },
    {
     "name": "stderr",
     "output_type": "stream",
     "text": [
      " 55%|███████████████████████▎                  | 76/137 [29:06<19:57, 19.63s/it]\n",
      "\n",
      "====== WebDriver manager ======\n",
      "Current google-chrome version is 93.0.4577\n",
      "Get LATEST driver version for 93.0.4577\n",
      "Driver [/Users/kimjisoo/.wdm/drivers/chromedriver/mac64/93.0.4577.63/chromedriver] found in cache\n"
     ]
    },
    {
     "name": "stdout",
     "output_type": "stream",
     "text": [
      "Mozilla/5.0 (X11; OpenBSD i386) AppleWebKit/537.36 (KHTML, like Gecko) Chrome/36.0.1985.125 Safari/537.36\n"
     ]
    },
    {
     "name": "stderr",
     "output_type": "stream",
     "text": [
      " 56%|███████████████████████▌                  | 77/137 [29:20<18:06, 18.11s/it]\n",
      "\n",
      "====== WebDriver manager ======\n",
      "Current google-chrome version is 93.0.4577\n",
      "Get LATEST driver version for 93.0.4577\n"
     ]
    },
    {
     "name": "stdout",
     "output_type": "stream",
     "text": [
      "Mozilla/5.0 (Windows NT 5.1) AppleWebKit/537.36 (KHTML, like Gecko) Chrome/27.0.1453.93 Safari/537.36\n"
     ]
    },
    {
     "name": "stderr",
     "output_type": "stream",
     "text": [
      "Driver [/Users/kimjisoo/.wdm/drivers/chromedriver/mac64/93.0.4577.63/chromedriver] found in cache\n",
      " 57%|███████████████████████▉                  | 78/137 [29:35<16:43, 17.01s/it]\n",
      "\n",
      "====== WebDriver manager ======\n",
      "Current google-chrome version is 93.0.4577\n",
      "Get LATEST driver version for 93.0.4577\n",
      "Driver [/Users/kimjisoo/.wdm/drivers/chromedriver/mac64/93.0.4577.63/chromedriver] found in cache\n"
     ]
    },
    {
     "name": "stdout",
     "output_type": "stream",
     "text": [
      "Mozilla/5.0 (X11; NetBSD) AppleWebKit/537.36 (KHTML, like Gecko) Chrome/27.0.1453.116 Safari/537.36\n"
     ]
    },
    {
     "name": "stderr",
     "output_type": "stream",
     "text": [
      " 58%|████████████████████████▏                 | 79/137 [30:05<20:23, 21.09s/it]\n",
      "\n",
      "====== WebDriver manager ======\n",
      "Current google-chrome version is 93.0.4577\n",
      "Get LATEST driver version for 93.0.4577\n",
      "Driver [/Users/kimjisoo/.wdm/drivers/chromedriver/mac64/93.0.4577.63/chromedriver] found in cache\n"
     ]
    },
    {
     "name": "stdout",
     "output_type": "stream",
     "text": [
      "Mozilla/5.0 (Macintosh; Intel Mac OS X 10_8_3) AppleWebKit/537.36 (KHTML, like Gecko) Chrome/27.0.1453.93 Safari/537.36\n"
     ]
    },
    {
     "name": "stderr",
     "output_type": "stream",
     "text": [
      " 58%|████████████████████████▌                 | 80/137 [30:22<18:50, 19.84s/it]\n",
      "\n",
      "====== WebDriver manager ======\n",
      "Current google-chrome version is 93.0.4577\n",
      "Get LATEST driver version for 93.0.4577\n",
      "Driver [/Users/kimjisoo/.wdm/drivers/chromedriver/mac64/93.0.4577.63/chromedriver] found in cache\n"
     ]
    },
    {
     "name": "stdout",
     "output_type": "stream",
     "text": [
      "Mozilla/5.0 (Windows NT 5.1) AppleWebKit/537.36 (KHTML, like Gecko) Chrome/35.0.3319.102 Safari/537.36\n"
     ]
    },
    {
     "name": "stderr",
     "output_type": "stream",
     "text": [
      " 59%|████████████████████████▊                 | 81/137 [30:39<17:36, 18.86s/it]\n",
      "\n",
      "====== WebDriver manager ======\n",
      "Current google-chrome version is 93.0.4577\n",
      "Get LATEST driver version for 93.0.4577\n",
      "Driver [/Users/kimjisoo/.wdm/drivers/chromedriver/mac64/93.0.4577.63/chromedriver] found in cache\n"
     ]
    },
    {
     "name": "stdout",
     "output_type": "stream",
     "text": [
      "Mozilla/5.0 (Macintosh; Intel Mac OS X 10_9_0) AppleWebKit/537.36 (KHTML, like Gecko) Chrome/32.0.1664.3 Safari/537.36\n"
     ]
    },
    {
     "name": "stderr",
     "output_type": "stream",
     "text": [
      " 60%|█████████████████████████▏                | 82/137 [30:54<16:10, 17.65s/it]\n",
      "\n",
      "====== WebDriver manager ======\n",
      "Current google-chrome version is 93.0.4577\n",
      "Get LATEST driver version for 93.0.4577\n",
      "Driver [/Users/kimjisoo/.wdm/drivers/chromedriver/mac64/93.0.4577.63/chromedriver] found in cache\n"
     ]
    },
    {
     "name": "stdout",
     "output_type": "stream",
     "text": [
      "Mozilla/5.0 (Windows NT 6.1; WOW64) AppleWebKit/537.36 (KHTML, like Gecko) Chrome/27.0.1453.93 Safari/537.36\n"
     ]
    },
    {
     "name": "stderr",
     "output_type": "stream",
     "text": [
      " 61%|█████████████████████████▍                | 83/137 [31:10<15:38, 17.38s/it]\n",
      "\n",
      "====== WebDriver manager ======\n",
      "Current google-chrome version is 93.0.4577\n",
      "Get LATEST driver version for 93.0.4577\n",
      "Driver [/Users/kimjisoo/.wdm/drivers/chromedriver/mac64/93.0.4577.63/chromedriver] found in cache\n"
     ]
    },
    {
     "name": "stdout",
     "output_type": "stream",
     "text": [
      "Mozilla/5.0 (X11; CrOS i686 3912.101.0) AppleWebKit/537.36 (KHTML, like Gecko) Chrome/27.0.1453.116 Safari/537.36\n"
     ]
    },
    {
     "name": "stderr",
     "output_type": "stream",
     "text": [
      " 61%|█████████████████████████▊                | 84/137 [31:24<14:29, 16.40s/it]\n",
      "\n",
      "====== WebDriver manager ======\n",
      "Current google-chrome version is 93.0.4577\n",
      "Get LATEST driver version for 93.0.4577\n",
      "Driver [/Users/kimjisoo/.wdm/drivers/chromedriver/mac64/93.0.4577.63/chromedriver] found in cache\n"
     ]
    },
    {
     "name": "stdout",
     "output_type": "stream",
     "text": [
      "Mozilla/5.0 (Windows NT 6.1; WOW64) AppleWebKit/537.36 (KHTML, like Gecko) Chrome/31.0.1623.0 Safari/537.36\n"
     ]
    },
    {
     "name": "stderr",
     "output_type": "stream",
     "text": [
      " 62%|██████████████████████████                | 85/137 [31:39<13:49, 15.95s/it]\n",
      "\n",
      "====== WebDriver manager ======\n",
      "Current google-chrome version is 93.0.4577\n",
      "Get LATEST driver version for 93.0.4577\n",
      "Driver [/Users/kimjisoo/.wdm/drivers/chromedriver/mac64/93.0.4577.63/chromedriver] found in cache\n"
     ]
    },
    {
     "name": "stdout",
     "output_type": "stream",
     "text": [
      "Mozilla/5.0 (Macintosh; Intel Mac OS X 10_10_1) AppleWebKit/537.36 (KHTML, like Gecko) Chrome/37.0.2062.124 Safari/537.36\n"
     ]
    },
    {
     "name": "stderr",
     "output_type": "stream",
     "text": [
      " 63%|██████████████████████████▎               | 86/137 [32:08<16:43, 19.68s/it]\n",
      "\n",
      "====== WebDriver manager ======\n",
      "Current google-chrome version is 93.0.4577\n",
      "Get LATEST driver version for 93.0.4577\n",
      "Driver [/Users/kimjisoo/.wdm/drivers/chromedriver/mac64/93.0.4577.63/chromedriver] found in cache\n"
     ]
    },
    {
     "name": "stdout",
     "output_type": "stream",
     "text": [
      "Mozilla/5.0 (Windows NT 6.2; WOW64) AppleWebKit/537.14 (KHTML, like Gecko) Chrome/24.0.1292.0 Safari/537.14\n"
     ]
    },
    {
     "name": "stderr",
     "output_type": "stream",
     "text": [
      " 64%|██████████████████████████▋               | 87/137 [32:24<15:36, 18.73s/it]\n",
      "\n",
      "====== WebDriver manager ======\n",
      "Current google-chrome version is 93.0.4577\n",
      "Get LATEST driver version for 93.0.4577\n",
      "Driver [/Users/kimjisoo/.wdm/drivers/chromedriver/mac64/93.0.4577.63/chromedriver] found in cache\n"
     ]
    },
    {
     "name": "stdout",
     "output_type": "stream",
     "text": [
      "Mozilla/5.0 (Windows NT 6.2; WOW64) AppleWebKit/537.14 (KHTML, like Gecko) Chrome/24.0.1292.0 Safari/537.14\n"
     ]
    },
    {
     "name": "stderr",
     "output_type": "stream",
     "text": [
      " 64%|██████████████████████████▉               | 88/137 [32:41<14:42, 18.00s/it]\n",
      "\n",
      "====== WebDriver manager ======\n",
      "Current google-chrome version is 93.0.4577\n",
      "Get LATEST driver version for 93.0.4577\n",
      "Driver [/Users/kimjisoo/.wdm/drivers/chromedriver/mac64/93.0.4577.63/chromedriver] found in cache\n"
     ]
    },
    {
     "name": "stdout",
     "output_type": "stream",
     "text": [
      "Mozilla/5.0 (Macintosh; Intel Mac OS X 10_9_0) AppleWebKit/537.36 (KHTML, like Gecko) Chrome/32.0.1664.3 Safari/537.36\n"
     ]
    },
    {
     "name": "stderr",
     "output_type": "stream",
     "text": [
      " 65%|███████████████████████████▎              | 89/137 [32:57<14:02, 17.56s/it]\n",
      "\n",
      "====== WebDriver manager ======\n",
      "Current google-chrome version is 93.0.4577\n",
      "Get LATEST driver version for 93.0.4577\n",
      "Driver [/Users/kimjisoo/.wdm/drivers/chromedriver/mac64/93.0.4577.63/chromedriver] found in cache\n"
     ]
    },
    {
     "name": "stdout",
     "output_type": "stream",
     "text": [
      "Mozilla/5.0 (Windows NT 6.1; WOW64) AppleWebKit/537.36 (KHTML, like Gecko) Chrome/31.0.1623.0 Safari/537.36\n"
     ]
    },
    {
     "name": "stderr",
     "output_type": "stream",
     "text": [
      " 66%|███████████████████████████▌              | 90/137 [33:12<13:03, 16.67s/it]\n",
      "\n",
      "====== WebDriver manager ======\n",
      "Current google-chrome version is 93.0.4577\n",
      "Get LATEST driver version for 93.0.4577\n",
      "Driver [/Users/kimjisoo/.wdm/drivers/chromedriver/mac64/93.0.4577.63/chromedriver] found in cache\n"
     ]
    },
    {
     "name": "stdout",
     "output_type": "stream",
     "text": [
      "Mozilla/5.0 (Windows NT 6.2; WOW64) AppleWebKit/537.15 (KHTML, like Gecko) Chrome/24.0.1295.0 Safari/537.15\n"
     ]
    },
    {
     "name": "stderr",
     "output_type": "stream",
     "text": [
      " 66%|███████████████████████████▉              | 91/137 [33:26<12:18, 16.04s/it]\n",
      "\n",
      "====== WebDriver manager ======\n",
      "Current google-chrome version is 93.0.4577\n",
      "Get LATEST driver version for 93.0.4577\n",
      "Driver [/Users/kimjisoo/.wdm/drivers/chromedriver/mac64/93.0.4577.63/chromedriver] found in cache\n"
     ]
    },
    {
     "name": "stdout",
     "output_type": "stream",
     "text": [
      "Mozilla/5.0 (Windows NT 6.1; rv:22.0) Gecko/20130405 Firefox/22.0\n"
     ]
    },
    {
     "name": "stderr",
     "output_type": "stream",
     "text": [
      " 67%|████████████████████████████▏             | 92/137 [33:43<12:13, 16.30s/it]\n",
      "\n",
      "====== WebDriver manager ======\n",
      "Current google-chrome version is 93.0.4577\n",
      "Get LATEST driver version for 93.0.4577\n",
      "Driver [/Users/kimjisoo/.wdm/drivers/chromedriver/mac64/93.0.4577.63/chromedriver] found in cache\n"
     ]
    },
    {
     "name": "stdout",
     "output_type": "stream",
     "text": [
      "Mozilla/5.0 (X11; Linux x86_64) AppleWebKit/537.36 (KHTML, like Gecko) Chrome/34.0.1847.137 Safari/4E423F\n"
     ]
    },
    {
     "name": "stderr",
     "output_type": "stream",
     "text": [
      " 68%|████████████████████████████▌             | 93/137 [34:11<14:27, 19.71s/it]\n",
      "\n",
      "====== WebDriver manager ======\n",
      "Current google-chrome version is 93.0.4577\n",
      "Get LATEST driver version for 93.0.4577\n",
      "Driver [/Users/kimjisoo/.wdm/drivers/chromedriver/mac64/93.0.4577.63/chromedriver] found in cache\n"
     ]
    },
    {
     "name": "stdout",
     "output_type": "stream",
     "text": [
      "Mozilla/5.0 (Macintosh; Intel Mac OS X 10_8_0) AppleWebKit/537.36 (KHTML, like Gecko) Chrome/32.0.1664.3 Safari/537.36\n"
     ]
    },
    {
     "name": "stderr",
     "output_type": "stream",
     "text": [
      " 69%|████████████████████████████▊             | 94/137 [34:30<14:05, 19.67s/it]\n",
      "\n",
      "====== WebDriver manager ======\n",
      "Current google-chrome version is 93.0.4577\n",
      "Get LATEST driver version for 93.0.4577\n",
      "Driver [/Users/kimjisoo/.wdm/drivers/chromedriver/mac64/93.0.4577.63/chromedriver] found in cache\n"
     ]
    },
    {
     "name": "stdout",
     "output_type": "stream",
     "text": [
      "Mozilla/5.0 (Windows NT 6.2) AppleWebKit/537.36 (KHTML, like Gecko) Chrome/28.0.1464.0 Safari/537.36\n"
     ]
    },
    {
     "name": "stderr",
     "output_type": "stream",
     "text": [
      " 69%|█████████████████████████████             | 95/137 [34:45<12:36, 18.02s/it]\n",
      "\n",
      "====== WebDriver manager ======\n",
      "Current google-chrome version is 93.0.4577\n",
      "Get LATEST driver version for 93.0.4577\n"
     ]
    },
    {
     "name": "stdout",
     "output_type": "stream",
     "text": [
      "Mozilla/5.0 (Windows NT 6.2; WOW64) AppleWebKit/537.36 (KHTML, like Gecko) Chrome/29.0.1547.2 Safari/537.36\n"
     ]
    },
    {
     "name": "stderr",
     "output_type": "stream",
     "text": [
      "Driver [/Users/kimjisoo/.wdm/drivers/chromedriver/mac64/93.0.4577.63/chromedriver] found in cache\n",
      " 70%|█████████████████████████████▍            | 96/137 [35:01<12:01, 17.60s/it]\n",
      "\n",
      "====== WebDriver manager ======\n",
      "Current google-chrome version is 93.0.4577\n",
      "Get LATEST driver version for 93.0.4577\n",
      "Driver [/Users/kimjisoo/.wdm/drivers/chromedriver/mac64/93.0.4577.63/chromedriver] found in cache\n"
     ]
    },
    {
     "name": "stdout",
     "output_type": "stream",
     "text": [
      "Mozilla/5.0 (Windows NT 6.2; WOW64) AppleWebKit/537.36 (KHTML, like Gecko) Chrome/30.0.1599.17 Safari/537.36\n"
     ]
    },
    {
     "name": "stderr",
     "output_type": "stream",
     "text": [
      " 71%|█████████████████████████████▋            | 97/137 [35:20<12:03, 18.08s/it]\n",
      "\n",
      "====== WebDriver manager ======\n",
      "Current google-chrome version is 93.0.4577\n",
      "Get LATEST driver version for 93.0.4577\n",
      "Driver [/Users/kimjisoo/.wdm/drivers/chromedriver/mac64/93.0.4577.63/chromedriver] found in cache\n"
     ]
    },
    {
     "name": "stdout",
     "output_type": "stream",
     "text": [
      "Mozilla/5.0 (X11; CrOS i686 4319.74.0) AppleWebKit/537.36 (KHTML, like Gecko) Chrome/29.0.1547.57 Safari/537.36\n"
     ]
    },
    {
     "name": "stderr",
     "output_type": "stream",
     "text": [
      " 72%|██████████████████████████████            | 98/137 [35:54<14:50, 22.84s/it]\n",
      "\n",
      "====== WebDriver manager ======\n",
      "Current google-chrome version is 93.0.4577\n",
      "Get LATEST driver version for 93.0.4577\n",
      "Driver [/Users/kimjisoo/.wdm/drivers/chromedriver/mac64/93.0.4577.63/chromedriver] found in cache\n"
     ]
    },
    {
     "name": "stdout",
     "output_type": "stream",
     "text": [
      "Mozilla/5.0 (Macintosh; Intel Mac OS X 10_10_1) AppleWebKit/537.36 (KHTML, like Gecko) Chrome/37.0.2062.124 Safari/537.36\n"
     ]
    },
    {
     "name": "stderr",
     "output_type": "stream",
     "text": [
      " 72%|██████████████████████████████▎           | 99/137 [36:09<12:50, 20.27s/it]\n",
      "\n",
      "====== WebDriver manager ======\n",
      "Current google-chrome version is 93.0.4577\n",
      "Get LATEST driver version for 93.0.4577\n",
      "Driver [/Users/kimjisoo/.wdm/drivers/chromedriver/mac64/93.0.4577.63/chromedriver] found in cache\n"
     ]
    },
    {
     "name": "stdout",
     "output_type": "stream",
     "text": [
      "Mozilla/5.0 (Windows NT 6.3; WOW64) AppleWebKit/537.36 (KHTML, like Gecko) Chrome/41.0.2226.0 Safari/537.36\n"
     ]
    },
    {
     "name": "stderr",
     "output_type": "stream",
     "text": [
      " 73%|█████████████████████████████▉           | 100/137 [36:27<12:06, 19.63s/it]\n",
      "\n",
      "====== WebDriver manager ======\n",
      "Current google-chrome version is 93.0.4577\n",
      "Get LATEST driver version for 93.0.4577\n",
      "Driver [/Users/kimjisoo/.wdm/drivers/chromedriver/mac64/93.0.4577.63/chromedriver] found in cache\n"
     ]
    },
    {
     "name": "stdout",
     "output_type": "stream",
     "text": [
      "Mozilla/5.0 (Windows NT 6.1; rv:6.0) Gecko/20100101 Firefox/19.0\n"
     ]
    },
    {
     "name": "stderr",
     "output_type": "stream",
     "text": [
      " 74%|██████████████████████████████▏          | 101/137 [36:44<11:18, 18.85s/it]\n",
      "\n",
      "====== WebDriver manager ======\n",
      "Current google-chrome version is 93.0.4577\n",
      "Get LATEST driver version for 93.0.4577\n"
     ]
    },
    {
     "name": "stdout",
     "output_type": "stream",
     "text": [
      "Mozilla/5.0 (Windows NT 5.1) AppleWebKit/537.36 (KHTML, like Gecko) Chrome/35.0.3319.102 Safari/537.36\n"
     ]
    },
    {
     "name": "stderr",
     "output_type": "stream",
     "text": [
      "Driver [/Users/kimjisoo/.wdm/drivers/chromedriver/mac64/93.0.4577.63/chromedriver] found in cache\n",
      " 74%|██████████████████████████████▌          | 102/137 [36:58<10:15, 17.57s/it]\n",
      "\n",
      "====== WebDriver manager ======\n",
      "Current google-chrome version is 93.0.4577\n",
      "Get LATEST driver version for 93.0.4577\n",
      "Driver [/Users/kimjisoo/.wdm/drivers/chromedriver/mac64/93.0.4577.63/chromedriver] found in cache\n"
     ]
    },
    {
     "name": "stdout",
     "output_type": "stream",
     "text": [
      "Mozilla/5.0 (Windows NT 6.2; WOW64) AppleWebKit/537.36 (KHTML, like Gecko) Chrome/27.0.1500.55 Safari/537.36\n"
     ]
    },
    {
     "name": "stderr",
     "output_type": "stream",
     "text": [
      " 75%|██████████████████████████████▊          | 103/137 [37:13<09:27, 16.68s/it]\n",
      "\n",
      "====== WebDriver manager ======\n",
      "Current google-chrome version is 93.0.4577\n",
      "Get LATEST driver version for 93.0.4577\n",
      "Driver [/Users/kimjisoo/.wdm/drivers/chromedriver/mac64/93.0.4577.63/chromedriver] found in cache\n"
     ]
    },
    {
     "name": "stdout",
     "output_type": "stream",
     "text": [
      "Mozilla/5.0 (Macintosh; Intel Mac OS X 10_9_0) AppleWebKit/537.36 (KHTML, like Gecko) Chrome/32.0.1664.3 Safari/537.36\n"
     ]
    },
    {
     "name": "stderr",
     "output_type": "stream",
     "text": [
      " 76%|███████████████████████████████          | 104/137 [37:28<08:55, 16.24s/it]\n",
      "\n",
      "====== WebDriver manager ======\n",
      "Current google-chrome version is 93.0.4577\n",
      "Get LATEST driver version for 93.0.4577\n",
      "Driver [/Users/kimjisoo/.wdm/drivers/chromedriver/mac64/93.0.4577.63/chromedriver] found in cache\n"
     ]
    },
    {
     "name": "stdout",
     "output_type": "stream",
     "text": [
      "Mozilla/5.0 (Windows NT 6.0; WOW64; rv:24.0) Gecko/20100101 Firefox/24.0\n"
     ]
    },
    {
     "name": "stderr",
     "output_type": "stream",
     "text": [
      " 77%|███████████████████████████████▍         | 105/137 [37:42<08:20, 15.66s/it]\n",
      "\n",
      "====== WebDriver manager ======\n",
      "Current google-chrome version is 93.0.4577\n",
      "Get LATEST driver version for 93.0.4577\n",
      "Driver [/Users/kimjisoo/.wdm/drivers/chromedriver/mac64/93.0.4577.63/chromedriver] found in cache\n"
     ]
    },
    {
     "name": "stdout",
     "output_type": "stream",
     "text": [
      "Mozilla/5.0 (Windows NT 6.2; WOW64) AppleWebKit/537.36 (KHTML, like Gecko) Chrome/30.0.1599.17 Safari/537.36\n"
     ]
    },
    {
     "name": "stderr",
     "output_type": "stream",
     "text": [
      " 77%|███████████████████████████████▋         | 106/137 [37:57<07:54, 15.29s/it]\n",
      "\n",
      "====== WebDriver manager ======\n",
      "Current google-chrome version is 93.0.4577\n",
      "Get LATEST driver version for 93.0.4577\n",
      "Driver [/Users/kimjisoo/.wdm/drivers/chromedriver/mac64/93.0.4577.63/chromedriver] found in cache\n"
     ]
    },
    {
     "name": "stdout",
     "output_type": "stream",
     "text": [
      "Mozilla/5.0 (Windows NT 6.2; WOW64) AppleWebKit/537.15 (KHTML, like Gecko) Chrome/24.0.1295.0 Safari/537.15\n"
     ]
    },
    {
     "name": "stderr",
     "output_type": "stream",
     "text": [
      " 78%|████████████████████████████████         | 107/137 [38:11<07:31, 15.06s/it]\n",
      "\n",
      "====== WebDriver manager ======\n",
      "Current google-chrome version is 93.0.4577\n",
      "Get LATEST driver version for 93.0.4577\n",
      "Driver [/Users/kimjisoo/.wdm/drivers/chromedriver/mac64/93.0.4577.63/chromedriver] found in cache\n"
     ]
    },
    {
     "name": "stdout",
     "output_type": "stream",
     "text": [
      "Mozilla/5.0 (Windows NT 5.1; rv:21.0) Gecko/20130331 Firefox/21.0\n"
     ]
    },
    {
     "name": "stderr",
     "output_type": "stream",
     "text": [
      " 79%|██████████████████████████▊       | 108/137 [3:35:51<25:50:43, 3208.40s/it]\n",
      "\n",
      "====== WebDriver manager ======\n",
      "Current google-chrome version is 93.0.4577\n",
      "Get LATEST driver version for 93.0.4577\n"
     ]
    },
    {
     "name": "stdout",
     "output_type": "stream",
     "text": [
      "brand name: 킨 HTTPConnectionPool(host='127.0.0.1', port=65507): Max retries exceeded with url: /session/8f4a8b96cfc9b7c5a5f5526c47e4fa27/source (Caused by ReadTimeoutError(\"HTTPConnectionPool(host='127.0.0.1', port=65507): Read timed out. (read timeout=<object object at 0x7faa609592b0>)\"))\n",
      "Mozilla/5.0 (Windows; U; Windows NT 6.1; fr-FR) AppleWebKit/533.20.25 (KHTML, like Gecko) Version/5.0.4 Safari/533.20.27\n"
     ]
    },
    {
     "name": "stderr",
     "output_type": "stream",
     "text": [
      "Driver [/Users/kimjisoo/.wdm/drivers/chromedriver/mac64/93.0.4577.63/chromedriver] found in cache\n",
      " 80%|███████████████████████████       | 109/137 [3:36:07<17:30:23, 2250.83s/it]\n",
      "\n",
      "====== WebDriver manager ======\n",
      "Current google-chrome version is 93.0.4577\n",
      "Get LATEST driver version for 93.0.4577\n",
      "Driver [/Users/kimjisoo/.wdm/drivers/chromedriver/mac64/93.0.4577.63/chromedriver] found in cache\n"
     ]
    },
    {
     "name": "stdout",
     "output_type": "stream",
     "text": [
      "Mozilla/5.0 (Windows NT 6.3; WOW64) AppleWebKit/537.36 (KHTML, like Gecko) Chrome/41.0.2226.0 Safari/537.36\n"
     ]
    },
    {
     "name": "stderr",
     "output_type": "stream",
     "text": [
      " 80%|███████████████████████████▎      | 110/137 [3:36:21<11:50:51, 1579.67s/it]\n",
      "\n",
      "====== WebDriver manager ======\n",
      "Current google-chrome version is 93.0.4577\n",
      "Get LATEST driver version for 93.0.4577\n"
     ]
    },
    {
     "name": "stdout",
     "output_type": "stream",
     "text": [
      "Mozilla/5.0 (Windows NT 6.2; rv:22.0) Gecko/20130405 Firefox/22.0\n"
     ]
    },
    {
     "name": "stderr",
     "output_type": "stream",
     "text": [
      "Driver [/Users/kimjisoo/.wdm/drivers/chromedriver/mac64/93.0.4577.63/chromedriver] found in cache\n",
      " 81%|████████████████████████████▎      | 111/137 [3:36:36<8:01:02, 1110.11s/it]\n",
      "\n",
      "====== WebDriver manager ======\n",
      "Current google-chrome version is 93.0.4577\n",
      "Get LATEST driver version for 93.0.4577\n"
     ]
    },
    {
     "name": "stdout",
     "output_type": "stream",
     "text": [
      "Mozilla/5.0 (Windows NT 6.1; WOW64) AppleWebKit/537.36 (KHTML, like Gecko) Chrome/31.0.1623.0 Safari/537.36\n"
     ]
    },
    {
     "name": "stderr",
     "output_type": "stream",
     "text": [
      "Driver [/Users/kimjisoo/.wdm/drivers/chromedriver/mac64/93.0.4577.63/chromedriver] found in cache\n",
      " 82%|█████████████████████████████▍      | 112/137 [3:36:51<5:25:41, 781.65s/it]\n",
      "\n",
      "====== WebDriver manager ======\n",
      "Current google-chrome version is 93.0.4577\n",
      "Get LATEST driver version for 93.0.4577\n"
     ]
    },
    {
     "name": "stdout",
     "output_type": "stream",
     "text": [
      "Mozilla/5.0 (Windows NT 6.3; WOW64) AppleWebKit/537.36 (KHTML, like Gecko) Chrome/41.0.2226.0 Safari/537.36\n"
     ]
    },
    {
     "name": "stderr",
     "output_type": "stream",
     "text": [
      "Driver [/Users/kimjisoo/.wdm/drivers/chromedriver/mac64/93.0.4577.63/chromedriver] found in cache\n",
      " 82%|█████████████████████████████▋      | 113/137 [3:37:05<3:40:34, 551.44s/it]\n",
      "\n",
      "====== WebDriver manager ======\n",
      "Current google-chrome version is 93.0.4577\n",
      "Get LATEST driver version for 93.0.4577\n",
      "Driver [/Users/kimjisoo/.wdm/drivers/chromedriver/mac64/93.0.4577.63/chromedriver] found in cache\n"
     ]
    },
    {
     "name": "stdout",
     "output_type": "stream",
     "text": [
      "Mozilla/5.0 (Windows NT 6.1; WOW64) AppleWebKit/537.36 (KHTML, like Gecko) Chrome/27.0.1453.93 Safari/537.36\n"
     ]
    },
    {
     "name": "stderr",
     "output_type": "stream",
     "text": [
      " 83%|█████████████████████████████▉      | 114/137 [3:38:28<2:37:29, 410.86s/it]\n",
      "\n",
      "====== WebDriver manager ======\n",
      "Current google-chrome version is 93.0.4577\n",
      "Get LATEST driver version for 93.0.4577\n"
     ]
    },
    {
     "name": "stdout",
     "output_type": "stream",
     "text": [
      "Mozilla/5.0 (Windows NT 6.1) AppleWebKit/537.36 (KHTML, like Gecko) Chrome/27.0.1453.93 Safari/537.36\n"
     ]
    },
    {
     "name": "stderr",
     "output_type": "stream",
     "text": [
      "Driver [/Users/kimjisoo/.wdm/drivers/chromedriver/mac64/93.0.4577.63/chromedriver] found in cache\n",
      " 84%|██████████████████████████████▏     | 115/137 [3:38:43<1:47:04, 292.02s/it]\n",
      "\n",
      "====== WebDriver manager ======\n",
      "Current google-chrome version is 93.0.4577\n",
      "Get LATEST driver version for 93.0.4577\n",
      "Driver [/Users/kimjisoo/.wdm/drivers/chromedriver/mac64/93.0.4577.63/chromedriver] found in cache\n"
     ]
    },
    {
     "name": "stdout",
     "output_type": "stream",
     "text": [
      "Mozilla/5.0 (X11; Linux x86_64) AppleWebKit/537.36 (KHTML, like Gecko) Chrome/33.0.1750.517 Safari/537.36\n"
     ]
    },
    {
     "name": "stderr",
     "output_type": "stream",
     "text": [
      " 85%|██████████████████████████████▍     | 116/137 [3:38:57<1:13:06, 208.86s/it]\n",
      "\n",
      "====== WebDriver manager ======\n",
      "Current google-chrome version is 93.0.4577\n",
      "Get LATEST driver version for 93.0.4577\n",
      "Driver [/Users/kimjisoo/.wdm/drivers/chromedriver/mac64/93.0.4577.63/chromedriver] found in cache\n"
     ]
    },
    {
     "name": "stdout",
     "output_type": "stream",
     "text": [
      "Mozilla/5.0 (Windows NT 6.1; Win64; x64; rv:23.0) Gecko/20131011 Firefox/23.0\n"
     ]
    },
    {
     "name": "stderr",
     "output_type": "stream",
     "text": [
      " 85%|████████████████████████████████▍     | 117/137 [3:39:14<50:24, 151.21s/it]\n",
      "\n",
      "====== WebDriver manager ======\n",
      "Current google-chrome version is 93.0.4577\n",
      "Get LATEST driver version for 93.0.4577\n"
     ]
    },
    {
     "name": "stdout",
     "output_type": "stream",
     "text": [
      "Mozilla/5.0 (Macintosh; Intel Mac OS X 10_10_1) AppleWebKit/537.36 (KHTML, like Gecko) Chrome/37.0.2062.124 Safari/537.36\n"
     ]
    },
    {
     "name": "stderr",
     "output_type": "stream",
     "text": [
      "Driver [/Users/kimjisoo/.wdm/drivers/chromedriver/mac64/93.0.4577.63/chromedriver] found in cache\n",
      " 86%|████████████████████████████████▋     | 118/137 [3:39:33<35:20, 111.62s/it]\n",
      "\n",
      "====== WebDriver manager ======\n",
      "Current google-chrome version is 93.0.4577\n",
      "Get LATEST driver version for 93.0.4577\n",
      "Driver [/Users/kimjisoo/.wdm/drivers/chromedriver/mac64/93.0.4577.63/chromedriver] found in cache\n"
     ]
    },
    {
     "name": "stdout",
     "output_type": "stream",
     "text": [
      "Mozilla/5.0 (Windows NT 6.1; WOW64) AppleWebKit/537.36 (KHTML, like Gecko) Chrome/41.0.2227.0 Safari/537.36\n"
     ]
    },
    {
     "name": "stderr",
     "output_type": "stream",
     "text": [
      " 87%|█████████████████████████████████▉     | 119/137 [3:39:50<24:53, 82.98s/it]\n",
      "\n",
      "====== WebDriver manager ======\n",
      "Current google-chrome version is 93.0.4577\n",
      "Get LATEST driver version for 93.0.4577\n",
      "Driver [/Users/kimjisoo/.wdm/drivers/chromedriver/mac64/93.0.4577.63/chromedriver] found in cache\n"
     ]
    },
    {
     "name": "stdout",
     "output_type": "stream",
     "text": [
      "Mozilla/5.0 (Windows NT 6.1) AppleWebKit/537.36 (KHTML, like Gecko) Chrome/28.0.1468.0 Safari/537.36\n"
     ]
    },
    {
     "name": "stderr",
     "output_type": "stream",
     "text": [
      " 88%|██████████████████████████████████▏    | 120/137 [3:40:06<17:52, 63.07s/it]\n",
      "\n",
      "====== WebDriver manager ======\n",
      "Current google-chrome version is 93.0.4577\n",
      "Get LATEST driver version for 93.0.4577\n",
      "Driver [/Users/kimjisoo/.wdm/drivers/chromedriver/mac64/93.0.4577.63/chromedriver] found in cache\n"
     ]
    },
    {
     "name": "stdout",
     "output_type": "stream",
     "text": [
      "Mozilla/5.0 (Macintosh; Intel Mac OS X 10_9_0) AppleWebKit/537.36 (KHTML, like Gecko) Chrome/32.0.1664.3 Safari/537.36\n"
     ]
    },
    {
     "name": "stderr",
     "output_type": "stream",
     "text": [
      " 88%|██████████████████████████████████▍    | 121/137 [3:40:23<13:08, 49.25s/it]\n",
      "\n",
      "====== WebDriver manager ======\n",
      "Current google-chrome version is 93.0.4577\n",
      "Get LATEST driver version for 93.0.4577\n",
      "Driver [/Users/kimjisoo/.wdm/drivers/chromedriver/mac64/93.0.4577.63/chromedriver] found in cache\n"
     ]
    },
    {
     "name": "stdout",
     "output_type": "stream",
     "text": [
      "Mozilla/5.0 (Windows NT 6.3; WOW64) AppleWebKit/537.36 (KHTML, like Gecko) Chrome/41.0.2226.0 Safari/537.36\n"
     ]
    },
    {
     "name": "stderr",
     "output_type": "stream",
     "text": [
      " 89%|██████████████████████████████████▋    | 122/137 [3:40:39<09:47, 39.15s/it]\n",
      "\n",
      "====== WebDriver manager ======\n",
      "Current google-chrome version is 93.0.4577\n",
      "Get LATEST driver version for 93.0.4577\n",
      "Driver [/Users/kimjisoo/.wdm/drivers/chromedriver/mac64/93.0.4577.63/chromedriver] found in cache\n"
     ]
    },
    {
     "name": "stdout",
     "output_type": "stream",
     "text": [
      "Mozilla/5.0 (Windows NT 6.1; WOW64; rv:40.0) Gecko/20100101 Firefox/40.1\n"
     ]
    },
    {
     "name": "stderr",
     "output_type": "stream",
     "text": [
      " 90%|███████████████████████████████████    | 123/137 [3:40:55<07:33, 32.41s/it]\n",
      "\n",
      "====== WebDriver manager ======\n",
      "Current google-chrome version is 93.0.4577\n",
      "Get LATEST driver version for 93.0.4577\n",
      "Driver [/Users/kimjisoo/.wdm/drivers/chromedriver/mac64/93.0.4577.63/chromedriver] found in cache\n"
     ]
    },
    {
     "name": "stdout",
     "output_type": "stream",
     "text": [
      "Mozilla/5.0 (Windows NT 6.3; Win64; x64) AppleWebKit/537.36 (KHTML, like Gecko) Chrome/37.0.2049.0 Safari/537.36\n"
     ]
    },
    {
     "name": "stderr",
     "output_type": "stream",
     "text": [
      " 91%|███████████████████████████████████▎   | 124/137 [3:42:17<10:11, 47.02s/it]\n",
      "\n",
      "====== WebDriver manager ======\n",
      "Current google-chrome version is 93.0.4577\n",
      "Get LATEST driver version for 93.0.4577\n",
      "Driver [/Users/kimjisoo/.wdm/drivers/chromedriver/mac64/93.0.4577.63/chromedriver] found in cache\n"
     ]
    },
    {
     "name": "stdout",
     "output_type": "stream",
     "text": [
      "Mozilla/5.0 (Windows NT 6.2) AppleWebKit/537.36 (KHTML, like Gecko) Chrome/28.0.1464.0 Safari/537.36\n"
     ]
    },
    {
     "name": "stderr",
     "output_type": "stream",
     "text": [
      " 91%|███████████████████████████████████▌   | 125/137 [3:42:34<07:36, 38.05s/it]\n",
      "\n",
      "====== WebDriver manager ======\n",
      "Current google-chrome version is 93.0.4577\n",
      "Get LATEST driver version for 93.0.4577\n"
     ]
    },
    {
     "name": "stdout",
     "output_type": "stream",
     "text": [
      "Mozilla/5.0 (Macintosh; Intel Mac OS X 10_10_1) AppleWebKit/537.36 (KHTML, like Gecko) Chrome/37.0.2062.124 Safari/537.36\n"
     ]
    },
    {
     "name": "stderr",
     "output_type": "stream",
     "text": [
      "Driver [/Users/kimjisoo/.wdm/drivers/chromedriver/mac64/93.0.4577.63/chromedriver] found in cache\n",
      " 92%|███████████████████████████████████▊   | 126/137 [3:42:54<06:00, 32.79s/it]\n",
      "\n",
      "====== WebDriver manager ======\n",
      "Current google-chrome version is 93.0.4577\n",
      "Get LATEST driver version for 93.0.4577\n"
     ]
    },
    {
     "name": "stdout",
     "output_type": "stream",
     "text": [
      "Mozilla/5.0 (X11; Linux x86_64) AppleWebKit/537.36 (KHTML, like Gecko) Chrome/33.0.1750.517 Safari/537.36\n"
     ]
    },
    {
     "name": "stderr",
     "output_type": "stream",
     "text": [
      "Driver [/Users/kimjisoo/.wdm/drivers/chromedriver/mac64/93.0.4577.63/chromedriver] found in cache\n",
      " 93%|████████████████████████████████████▏  | 127/137 [3:43:14<04:49, 28.95s/it]\n",
      "\n",
      "====== WebDriver manager ======\n",
      "Current google-chrome version is 93.0.4577\n",
      "Get LATEST driver version for 93.0.4577\n",
      "Driver [/Users/kimjisoo/.wdm/drivers/chromedriver/mac64/93.0.4577.63/chromedriver] found in cache\n"
     ]
    },
    {
     "name": "stdout",
     "output_type": "stream",
     "text": [
      "Mozilla/5.0 (Windows NT 6.4; WOW64) AppleWebKit/537.36 (KHTML, like Gecko) Chrome/41.0.2225.0 Safari/537.36\n"
     ]
    },
    {
     "name": "stderr",
     "output_type": "stream",
     "text": [
      " 93%|████████████████████████████████████▍  | 128/137 [3:43:30<03:45, 25.07s/it]\n",
      "\n",
      "====== WebDriver manager ======\n",
      "Current google-chrome version is 93.0.4577\n",
      "Get LATEST driver version for 93.0.4577\n"
     ]
    },
    {
     "name": "stdout",
     "output_type": "stream",
     "text": [
      "Mozilla/5.0 (Windows NT 6.1; WOW64; rv:23.0) Gecko/20130406 Firefox/23.0\n"
     ]
    },
    {
     "name": "stderr",
     "output_type": "stream",
     "text": [
      "Driver [/Users/kimjisoo/.wdm/drivers/chromedriver/mac64/93.0.4577.63/chromedriver] found in cache\n",
      " 94%|████████████████████████████████████▋  | 129/137 [3:43:48<03:02, 22.78s/it]\n",
      "\n",
      "====== WebDriver manager ======\n",
      "Current google-chrome version is 93.0.4577\n",
      "Get LATEST driver version for 93.0.4577\n",
      "Driver [/Users/kimjisoo/.wdm/drivers/chromedriver/mac64/93.0.4577.63/chromedriver] found in cache\n"
     ]
    },
    {
     "name": "stdout",
     "output_type": "stream",
     "text": [
      "Mozilla/5.0 (Windows NT 6.2; WOW64) AppleWebKit/537.36 (KHTML, like Gecko) Chrome/27.0.1453.93 Safari/537.36\n"
     ]
    },
    {
     "name": "stderr",
     "output_type": "stream",
     "text": [
      " 95%|█████████████████████████████████████  | 130/137 [3:44:04<02:25, 20.86s/it]\n",
      "\n",
      "====== WebDriver manager ======\n",
      "Current google-chrome version is 93.0.4577\n",
      "Get LATEST driver version for 93.0.4577\n",
      "Driver [/Users/kimjisoo/.wdm/drivers/chromedriver/mac64/93.0.4577.63/chromedriver] found in cache\n"
     ]
    },
    {
     "name": "stdout",
     "output_type": "stream",
     "text": [
      "Mozilla/5.0 (Windows NT 5.1) AppleWebKit/537.36 (KHTML, like Gecko) Chrome/36.0.1985.67 Safari/537.36\n"
     ]
    },
    {
     "name": "stderr",
     "output_type": "stream",
     "text": [
      " 96%|█████████████████████████████████████▎ | 131/137 [3:44:21<01:59, 19.85s/it]\n",
      "\n",
      "====== WebDriver manager ======\n",
      "Current google-chrome version is 93.0.4577\n",
      "Get LATEST driver version for 93.0.4577\n"
     ]
    },
    {
     "name": "stdout",
     "output_type": "stream",
     "text": [
      "Mozilla/5.0 (Windows NT 5.1) AppleWebKit/537.36 (KHTML, like Gecko) Chrome/35.0.3319.102 Safari/537.36\n"
     ]
    },
    {
     "name": "stderr",
     "output_type": "stream",
     "text": [
      "Driver [/Users/kimjisoo/.wdm/drivers/chromedriver/mac64/93.0.4577.63/chromedriver] found in cache\n",
      " 96%|█████████████████████████████████████▌ | 132/137 [3:44:37<01:32, 18.57s/it]\n",
      "\n",
      "====== WebDriver manager ======\n",
      "Current google-chrome version is 93.0.4577\n",
      "Get LATEST driver version for 93.0.4577\n",
      "Driver [/Users/kimjisoo/.wdm/drivers/chromedriver/mac64/93.0.4577.63/chromedriver] found in cache\n"
     ]
    },
    {
     "name": "stdout",
     "output_type": "stream",
     "text": [
      "Mozilla/5.0 (Windows NT 5.1) AppleWebKit/537.36 (KHTML, like Gecko) Chrome/27.0.1453.93 Safari/537.36\n"
     ]
    },
    {
     "name": "stderr",
     "output_type": "stream",
     "text": [
      " 97%|█████████████████████████████████████▊ | 133/137 [3:45:00<01:19, 19.76s/it]\n",
      "\n",
      "====== WebDriver manager ======\n",
      "Current google-chrome version is 93.0.4577\n",
      "Get LATEST driver version for 93.0.4577\n",
      "Driver [/Users/kimjisoo/.wdm/drivers/chromedriver/mac64/93.0.4577.63/chromedriver] found in cache\n"
     ]
    },
    {
     "name": "stdout",
     "output_type": "stream",
     "text": [
      "Mozilla/5.0 (compatible; MSIE 9.0; Windows NT 6.1; Win64; x64; Trident/5.0; .NET CLR 2.0.50727; SLCC2; .NET CLR 3.5.30729; .NET CLR 3.0.30729; Media Center PC 6.0; Zune 4.0; Tablet PC 2.0; InfoPath.3; .NET4.0C; .NET4.0E)\n"
     ]
    },
    {
     "name": "stderr",
     "output_type": "stream",
     "text": [
      " 98%|██████████████████████████████████████▏| 134/137 [3:45:17<00:56, 18.99s/it]\n",
      "\n",
      "====== WebDriver manager ======\n",
      "Current google-chrome version is 93.0.4577\n",
      "Get LATEST driver version for 93.0.4577\n",
      "Driver [/Users/kimjisoo/.wdm/drivers/chromedriver/mac64/93.0.4577.63/chromedriver] found in cache\n"
     ]
    },
    {
     "name": "stdout",
     "output_type": "stream",
     "text": [
      "Mozilla/5.0 (Windows NT 5.1) AppleWebKit/537.36 (KHTML, like Gecko) Chrome/34.0.1866.237 Safari/537.36\n"
     ]
    },
    {
     "name": "stderr",
     "output_type": "stream",
     "text": [
      " 99%|██████████████████████████████████████▍| 135/137 [3:45:32<00:35, 17.74s/it]\n",
      "\n",
      "====== WebDriver manager ======\n",
      "Current google-chrome version is 93.0.4577\n",
      "Get LATEST driver version for 93.0.4577\n",
      "Driver [/Users/kimjisoo/.wdm/drivers/chromedriver/mac64/93.0.4577.63/chromedriver] found in cache\n"
     ]
    },
    {
     "name": "stdout",
     "output_type": "stream",
     "text": [
      "Mozilla/5.0 (Windows NT 6.1; WOW64) AppleWebKit/537.17 (KHTML, like Gecko) Chrome/24.0.1312.60 Safari/537.17\n"
     ]
    },
    {
     "name": "stderr",
     "output_type": "stream",
     "text": [
      " 99%|██████████████████████████████████████▋| 136/137 [3:45:45<00:16, 16.46s/it]\n",
      "\n",
      "====== WebDriver manager ======\n",
      "Current google-chrome version is 93.0.4577\n",
      "Get LATEST driver version for 93.0.4577\n",
      "Driver [/Users/kimjisoo/.wdm/drivers/chromedriver/mac64/93.0.4577.63/chromedriver] found in cache\n"
     ]
    },
    {
     "name": "stdout",
     "output_type": "stream",
     "text": [
      "Mozilla/5.0 (Windows NT 6.1; rv:21.0) Gecko/20130328 Firefox/21.0\n"
     ]
    },
    {
     "name": "stderr",
     "output_type": "stream",
     "text": [
      "100%|███████████████████████████████████████| 137/137 [3:46:00<00:00, 98.98s/it]\n"
     ]
    }
   ],
   "source": [
    "for i in trange(len(nan_brd_lst)):\n",
    "    scrap_product_link(nan_brd_lst[i])"
   ]
  },
  {
   "cell_type": "code",
   "execution_count": 94,
   "id": "1f6e6405-1f5a-4444-aff3-b132d864ff73",
   "metadata": {},
   "outputs": [],
   "source": [
    "df_brd_ = df_brd.copy()"
   ]
  },
  {
   "cell_type": "code",
   "execution_count": null,
   "id": "b7a2d782-d02c-45bf-a96b-09cd635a005c",
   "metadata": {},
   "outputs": [],
   "source": [
    "for i in range(len(df_brd_)):\n",
    "    if df_brd_.loc[i, 'brand_name'] in dict_prd_link.keys():\n",
    "        df_brd.loc[i, 'product_link']"
   ]
  },
  {
   "cell_type": "code",
   "execution_count": 138,
   "id": "c46f5ae8-cbd1-4a33-9297-fea53e76a0f4",
   "metadata": {
    "collapsed": true,
    "jupyter": {
     "outputs_hidden": true
    },
    "tags": []
   },
   "outputs": [
    {
     "data": {
      "text/html": [
       "<div>\n",
       "<style scoped>\n",
       "    .dataframe tbody tr th:only-of-type {\n",
       "        vertical-align: middle;\n",
       "    }\n",
       "\n",
       "    .dataframe tbody tr th {\n",
       "        vertical-align: top;\n",
       "    }\n",
       "\n",
       "    .dataframe thead th {\n",
       "        text-align: right;\n",
       "    }\n",
       "</style>\n",
       "<table border=\"1\" class=\"dataframe\">\n",
       "  <thead>\n",
       "    <tr style=\"text-align: right;\">\n",
       "      <th></th>\n",
       "      <th>brand_code</th>\n",
       "      <th>brand_name</th>\n",
       "      <th>category</th>\n",
       "      <th>product_link</th>\n",
       "      <th>product_name</th>\n",
       "    </tr>\n",
       "  </thead>\n",
       "  <tbody>\n",
       "    <tr>\n",
       "      <th>0</th>\n",
       "      <td>https://www.glowpick.com/brands/8016</td>\n",
       "      <td>가가알로에</td>\n",
       "      <td>['스킨케어']</td>\n",
       "      <td>[https://www.glowpick.com/products/104713]</td>\n",
       "      <td>[라율 나이트 케어 너리싱 젤]</td>\n",
       "    </tr>\n",
       "    <tr>\n",
       "      <th>1</th>\n",
       "      <td>https://www.glowpick.com/brands/1265</td>\n",
       "      <td>가그린</td>\n",
       "      <td>['생활용품']</td>\n",
       "      <td>[https://www.glowpick.com/products/134403, htt...</td>\n",
       "      <td>[제로, 오리지널, 라임, 스트롱, 블라스트 치약 라임민트, 어린이용 [사과], 잇...</td>\n",
       "    </tr>\n",
       "    <tr>\n",
       "      <th>2</th>\n",
       "      <td>https://www.glowpick.com/brands/2077</td>\n",
       "      <td>가네보</td>\n",
       "      <td>['페이스메이크업', '립메이크업', '컨투어링', '클렌징', '배쓰&amp;바디', '...</td>\n",
       "      <td>[https://www.glowpick.com/products/101993, htt...</td>\n",
       "      <td>[페이스업 파우더 밀라노 콜렉션 2018 [SPF14/PA+], 코프레도르 스마일업...</td>\n",
       "    </tr>\n",
       "    <tr>\n",
       "      <th>3</th>\n",
       "      <td>https://www.glowpick.com/brands/11100</td>\n",
       "      <td>가드맨</td>\n",
       "      <td>['생활용품']</td>\n",
       "      <td>[https://www.glowpick.com/products/140699]</td>\n",
       "      <td>[안심 황사 마스크 KF80]</td>\n",
       "    </tr>\n",
       "    <tr>\n",
       "      <th>4</th>\n",
       "      <td>https://www.glowpick.com/brands/8724</td>\n",
       "      <td>가드미</td>\n",
       "      <td>['네일']</td>\n",
       "      <td>[https://www.glowpick.com/products/112824, htt...</td>\n",
       "      <td>[큐티클 클리너, 네일 큐티클 호호바 오일]</td>\n",
       "    </tr>\n",
       "    <tr>\n",
       "      <th>...</th>\n",
       "      <td>...</td>\n",
       "      <td>...</td>\n",
       "      <td>...</td>\n",
       "      <td>...</td>\n",
       "      <td>...</td>\n",
       "    </tr>\n",
       "    <tr>\n",
       "      <th>8047</th>\n",
       "      <td>https://www.glowpick.com/brands/490</td>\n",
       "      <td>4711</td>\n",
       "      <td>['프래그런스']</td>\n",
       "      <td>[https://www.glowpick.com/products/1622, https...</td>\n",
       "      <td>[아쿠아 콜로니아 블러드 오렌지 &amp; 바즐 오 드 코롱, 누보 콜로뉴 오드코롱, 아쿠...</td>\n",
       "    </tr>\n",
       "    <tr>\n",
       "      <th>8048</th>\n",
       "      <td>https://www.glowpick.com/brands/10747</td>\n",
       "      <td>5.2뉴트리션</td>\n",
       "      <td>['이너뷰티']</td>\n",
       "      <td>[https://www.glowpick.com/products/138092]</td>\n",
       "      <td>[다이어트 베이스 [초코맛]]</td>\n",
       "    </tr>\n",
       "    <tr>\n",
       "      <th>8049</th>\n",
       "      <td>https://www.glowpick.com/brands/10183</td>\n",
       "      <td>76N1</td>\n",
       "      <td>['스킨케어', '클렌징', '마스크/팩']</td>\n",
       "      <td>[https://www.glowpick.com/products/140014, htt...</td>\n",
       "      <td>[비 해피 더블 액션 미스트, 비 해피 오일 [대마씨 &amp; 동백], 슈퍼듀퍼 파우더 ...</td>\n",
       "    </tr>\n",
       "    <tr>\n",
       "      <th>8050</th>\n",
       "      <td>https://www.glowpick.com/brands/6814</td>\n",
       "      <td>87발렌타인</td>\n",
       "      <td>['배쓰&amp;바디']</td>\n",
       "      <td>[https://www.glowpick.com/products/89547]</td>\n",
       "      <td>[이상훈의 제모크림]</td>\n",
       "    </tr>\n",
       "    <tr>\n",
       "      <th>8051</th>\n",
       "      <td>https://www.glowpick.com/brands/6151</td>\n",
       "      <td>9컴플렉스</td>\n",
       "      <td>['뷰티툴']</td>\n",
       "      <td>[https://www.glowpick.com/products/81570]</td>\n",
       "      <td>[아이래쉬 뷰러]</td>\n",
       "    </tr>\n",
       "  </tbody>\n",
       "</table>\n",
       "<p>8052 rows × 5 columns</p>\n",
       "</div>"
      ],
      "text/plain": [
       "                                 brand_code brand_name  \\\n",
       "0      https://www.glowpick.com/brands/8016      가가알로에   \n",
       "1      https://www.glowpick.com/brands/1265        가그린   \n",
       "2      https://www.glowpick.com/brands/2077        가네보   \n",
       "3     https://www.glowpick.com/brands/11100        가드맨   \n",
       "4      https://www.glowpick.com/brands/8724        가드미   \n",
       "...                                     ...        ...   \n",
       "8047    https://www.glowpick.com/brands/490       4711   \n",
       "8048  https://www.glowpick.com/brands/10747    5.2뉴트리션   \n",
       "8049  https://www.glowpick.com/brands/10183       76N1   \n",
       "8050   https://www.glowpick.com/brands/6814     87발렌타인   \n",
       "8051   https://www.glowpick.com/brands/6151      9컴플렉스   \n",
       "\n",
       "                                               category  \\\n",
       "0                                              ['스킨케어']   \n",
       "1                                              ['생활용품']   \n",
       "2     ['페이스메이크업', '립메이크업', '컨투어링', '클렌징', '배쓰&바디', '...   \n",
       "3                                              ['생활용품']   \n",
       "4                                                ['네일']   \n",
       "...                                                 ...   \n",
       "8047                                          ['프래그런스']   \n",
       "8048                                           ['이너뷰티']   \n",
       "8049                           ['스킨케어', '클렌징', '마스크/팩']   \n",
       "8050                                          ['배쓰&바디']   \n",
       "8051                                            ['뷰티툴']   \n",
       "\n",
       "                                           product_link  \\\n",
       "0            [https://www.glowpick.com/products/104713]   \n",
       "1     [https://www.glowpick.com/products/134403, htt...   \n",
       "2     [https://www.glowpick.com/products/101993, htt...   \n",
       "3            [https://www.glowpick.com/products/140699]   \n",
       "4     [https://www.glowpick.com/products/112824, htt...   \n",
       "...                                                 ...   \n",
       "8047  [https://www.glowpick.com/products/1622, https...   \n",
       "8048         [https://www.glowpick.com/products/138092]   \n",
       "8049  [https://www.glowpick.com/products/140014, htt...   \n",
       "8050          [https://www.glowpick.com/products/89547]   \n",
       "8051          [https://www.glowpick.com/products/81570]   \n",
       "\n",
       "                                           product_name  \n",
       "0                                     [라율 나이트 케어 너리싱 젤]  \n",
       "1     [제로, 오리지널, 라임, 스트롱, 블라스트 치약 라임민트, 어린이용 [사과], 잇...  \n",
       "2     [페이스업 파우더 밀라노 콜렉션 2018 [SPF14/PA+], 코프레도르 스마일업...  \n",
       "3                                      [안심 황사 마스크 KF80]  \n",
       "4                              [큐티클 클리너, 네일 큐티클 호호바 오일]  \n",
       "...                                                 ...  \n",
       "8047  [아쿠아 콜로니아 블러드 오렌지 & 바즐 오 드 코롱, 누보 콜로뉴 오드코롱, 아쿠...  \n",
       "8048                                   [다이어트 베이스 [초코맛]]  \n",
       "8049  [비 해피 더블 액션 미스트, 비 해피 오일 [대마씨 & 동백], 슈퍼듀퍼 파우더 ...  \n",
       "8050                                        [이상훈의 제모크림]  \n",
       "8051                                          [아이래쉬 뷰러]  \n",
       "\n",
       "[8052 rows x 5 columns]"
      ]
     },
     "execution_count": 138,
     "metadata": {},
     "output_type": "execute_result"
    }
   ],
   "source": [
    "df_brd_"
   ]
  },
  {
   "cell_type": "code",
   "execution_count": 96,
   "id": "8cf0b2ee-f7d6-41ef-8b49-ac9d54217362",
   "metadata": {},
   "outputs": [
    {
     "data": {
      "text/plain": [
       "135"
      ]
     },
     "execution_count": 96,
     "metadata": {},
     "output_type": "execute_result"
    }
   ],
   "source": [
    "len(dict_prd_link.items())"
   ]
  },
  {
   "cell_type": "code",
   "execution_count": null,
   "id": "df5b0f1e-5e28-4bc2-9ce4-5f18c3d4b911",
   "metadata": {},
   "outputs": [],
   "source": [
    "dict_prd_name_nan = {}"
   ]
  },
  {
   "cell_type": "code",
   "execution_count": 134,
   "id": "5c168573-91bb-44ec-9a6e-a3beabfcdb62",
   "metadata": {},
   "outputs": [],
   "source": [
    "for _ in range(80):\n",
    "    dict_prd_name_nan[list(dict(dict_prd_name).keys())[_]] = list(dict(dict_prd_name).values())[_]"
   ]
  },
  {
   "cell_type": "code",
   "execution_count": 158,
   "id": "00ccf62b-75d0-4b6e-ad78-3fffd1429c67",
   "metadata": {
    "tags": []
   },
   "outputs": [
    {
     "data": {
      "text/plain": [
       "135"
      ]
     },
     "execution_count": 158,
     "metadata": {},
     "output_type": "execute_result"
    }
   ],
   "source": [
    "len(dict_prd_link_nan)"
   ]
  },
  {
   "cell_type": "code",
   "execution_count": 152,
   "id": "4410d565-2a3c-44dd-a99c-d23868ffd468",
   "metadata": {},
   "outputs": [],
   "source": [
    "dict_prd_link_nan = dict_prd_link"
   ]
  },
  {
   "cell_type": "code",
   "execution_count": 154,
   "id": "cf039390-c2de-48b3-a3e6-03b62b974251",
   "metadata": {},
   "outputs": [
    {
     "data": {
      "text/plain": [
       "'금호전기'"
      ]
     },
     "execution_count": 154,
     "metadata": {},
     "output_type": "execute_result"
    }
   ],
   "source": [
    "list(dict_prd_link_nan.keys())[0]"
   ]
  },
  {
   "cell_type": "code",
   "execution_count": 156,
   "id": "aaa89fc2-aabd-485e-8c81-bf57edbafbe0",
   "metadata": {},
   "outputs": [
    {
     "data": {
      "text/plain": [
       "[]"
      ]
     },
     "execution_count": 156,
     "metadata": {},
     "output_type": "execute_result"
    }
   ],
   "source": [
    "dict_prd_link_nan.get('금호전기')"
   ]
  },
  {
   "cell_type": "code",
   "execution_count": 167,
   "id": "ea96c7ff-18b0-461d-9044-7c187589cf8b",
   "metadata": {},
   "outputs": [
    {
     "name": "stdout",
     "output_type": "stream",
     "text": [
      "[]\n"
     ]
    }
   ],
   "source": [
    "print(dict_prd_link_nan.get(df_brd.loc[8003, 'brand_name']))"
   ]
  },
  {
   "cell_type": "code",
   "execution_count": 165,
   "id": "a94fcd5e-3467-45c6-8507-79d522070331",
   "metadata": {},
   "outputs": [
    {
     "data": {
      "text/plain": [
       "['https://www.glowpick.com/products/104713']"
      ]
     },
     "execution_count": 165,
     "metadata": {},
     "output_type": "execute_result"
    }
   ],
   "source": [
    "df_brd.loc[0, 'product_link']"
   ]
  },
  {
   "cell_type": "code",
   "execution_count": 172,
   "id": "b1dd9c16-347d-4791-bd2d-8be1620a386b",
   "metadata": {},
   "outputs": [],
   "source": [
    "for _ in range(len(df_brd_)):\n",
    "    if df_brd_.loc[_, 'brand_name'] in list(dict_prd_link_nan.keys()):\n",
    "        df_brd_.loc[_, 'product_link'] = dict_prd_link_nan.get(df_brd_.loc[_, 'brand_name'])\n",
    "        if df_brd_.loc[_, 'brand_name'] in list(dict_prd_name_nan.keys()):\n",
    "            df_brd_.loc[_, 'product_name'] = dict_prd_name_nan.get(df_brd_.loc[_, 'brand_name'])"
   ]
  },
  {
   "cell_type": "code",
   "execution_count": 176,
   "id": "14d1aeb9-00fb-4ca7-a307-e339ed60f3ea",
   "metadata": {},
   "outputs": [
    {
     "data": {
      "text/plain": [
       "brand_code      0\n",
       "brand_name      0\n",
       "category        0\n",
       "product_link    1\n",
       "product_name    0\n",
       "dtype: int64"
      ]
     },
     "execution_count": 176,
     "metadata": {},
     "output_type": "execute_result"
    }
   ],
   "source": [
    "df_brd_.isnull().sum()"
   ]
  },
  {
   "cell_type": "code",
   "execution_count": 278,
   "id": "d8b78efc-3702-40da-ba13-818ccf22fc61",
   "metadata": {},
   "outputs": [],
   "source": [
    "nan = []\n",
    "for _ in range(len(df_brd_)):\n",
    "    if df_brd_.loc[_, 'product_name'] == [] or df_brd_.loc[_, 'product_link'] == []:\n",
    "        nan.append(_)"
   ]
  },
  {
   "cell_type": "code",
   "execution_count": 267,
   "id": "f691535d-0903-4c95-88ce-ab88713d5983",
   "metadata": {
    "jupyter": {
     "source_hidden": true
    },
    "tags": []
   },
   "outputs": [
    {
     "name": "stderr",
     "output_type": "stream",
     "text": [
      "\n",
      "\n",
      "====== WebDriver manager ======\n",
      "Current google-chrome version is 93.0.4577\n",
      "Get LATEST driver version for 93.0.4577\n",
      "Driver [/Users/kimjisoo/.wdm/drivers/chromedriver/mac64/93.0.4577.63/chromedriver] found in cache\n"
     ]
    },
    {
     "name": "stdout",
     "output_type": "stream",
     "text": [
      "Mozilla/5.0 (X11; CrOS i686 3912.101.0) AppleWebKit/537.36 (KHTML, like Gecko) Chrome/27.0.1453.116 Safari/537.36\n"
     ]
    }
   ],
   "source": [
    "brd_name = '236:'\n",
    "dict_prd_link_tmp = {}\n",
    "dict_prd_name_tmp = defaultdict(list)\n",
    "\n",
    "options = Options()\n",
    "ua = UserAgent()\n",
    "userAgent = ua.random\n",
    "print(userAgent)\n",
    "\n",
    "options.add_argument('headless')\n",
    "options.add_argument('window-size=1920x1080')\n",
    "options.add_argument(\"disable-gpu\")\n",
    "options.add_argument(f'user-agent={userAgent}')\n",
    "wd = webdriver.Chrome(ChromeDriverManager().install(), chrome_options=options)\n",
    "\n",
    "socket.setdefaulttimeout(30)\n",
    "\n",
    "url = 'https:/www.glowpick.com/searches/keywords'\n",
    "wd.get(url)\n",
    "time.sleep(5)\n",
    "\n",
    "wd.find_element_by_xpath(\"//*[@id='default-layout']/div/div[1]/span/div/div[2]/div[2]/button[2]\").click()\n",
    "wd.maximize_window()\n",
    "time.sleep(3)\n",
    "\n",
    "brd_input = wd.find_element_by_xpath(\"//*[@id='default-layout']/div/div[2]/div/div/div/input\")\n",
    "brd_input.send_keys(brd_name)\n",
    "brd_input.send_keys(Keys.ENTER)\n",
    "time.sleep(3)\n",
    "\n",
    "def parsing_html_with_class(parsing_info = '.products'):\n",
    "    html = wd.page_source\n",
    "    soup = soup = BeautifulSoup(html, \"html.parser\")\n",
    "    interm_r = soup.select(parsing_info)\n",
    "    return interm_r\n",
    "\n",
    "try:\n",
    "    while True:\n",
    "        prd_link = []\n",
    "        prd_name = []\n",
    "\n",
    "        product_lst = parsing_html_with_class()\n",
    "        product_len = len(re.findall('<div class=\"products__product product\" (.*?)', str(product_lst[0])))\n",
    "\n",
    "        #while wd.find_elements_by_class_name('details__brand')[product_len].text[:len(brd_name)] == brd_name:\n",
    "\n",
    "        element = wd.find_element_by_xpath('/html/body/div/div/div/div/main/div/section/div[2]/div/div[1]/span/div[{}]'.format(product_len - 1))\n",
    "        wd.execute_script(\"arguments[0].scrollIntoView(true);\", element)\n",
    "        time.sleep(2)\n",
    "\n",
    "        product_lst_2 = parsing_html_with_class()\n",
    "\n",
    "        if product_lst == product_lst_2:\n",
    "            for i in range(product_len):\n",
    "                #if (re.sub(r'\\([^)]*\\)', '', wd.find_elements_by_class_name('details__brand')[i].text).strip()) == brd_name:\n",
    "                code = re.findall('<div class=\"products__product product\" (.*?)id=\"(.*?)\">', str(product_lst[0]))[i][1].split('-')[-1]\n",
    "                link = 'https://www.glowpick.com/products/' + code\n",
    "                prd_link.append(link)\n",
    "                dict_prd_name_tmp[brd_name].append(wd.find_elements_by_class_name('details__product')[i].text)\n",
    "            dict_prd_link_tmp[brd_name] = prd_link\n",
    "            break\n",
    "\n",
    "except NoSuchElementException:\n",
    "    for i in range(product_len):\n",
    "        #if (re.sub(r'\\([^)]*\\)', '', wd.find_elements_by_class_name('details__brand')[i].text).strip()) == brd_name:\n",
    "        code = re.findall('<div class=\"products__product product\" (.*?)id=\"(.*?)\">', str(product_lst[0]))[i][1].split('-')[-1]\n",
    "        link = 'https://www.glowpick.com/products/' + code\n",
    "        prd_link.append(link)\n",
    "        dict_prd_name_tmp[brd_name].append(wd.find_elements_by_class_name('details__product')[i].text)\n",
    "    dict_prd_link_tmp[brd_name] = prd_link"
   ]
  },
  {
   "cell_type": "markdown",
   "id": "6223e1b6-2fda-4aa7-ba9a-c3cda602db5f",
   "metadata": {},
   "source": [
    "# -------------------------------------------------\n",
    "df_brd_w_prd_v2 검수"
   ]
  },
  {
   "cell_type": "code",
   "execution_count": 356,
   "id": "414f23b5-a72f-4bdc-a8a5-cc7b5e9f3d50",
   "metadata": {},
   "outputs": [],
   "source": [
    "df_brd_w_prd_v2 = pd.read_csv('df_brd_w_prd_v2.csv')\n",
    "df_brd_w_prd_v2 = df_brd_w_prd_v2.iloc[:, 1:]"
   ]
  },
  {
   "cell_type": "code",
   "execution_count": 357,
   "id": "ae5a207d-a6b4-4679-9638-76b79a2d09b1",
   "metadata": {},
   "outputs": [
    {
     "data": {
      "text/html": [
       "<div>\n",
       "<style scoped>\n",
       "    .dataframe tbody tr th:only-of-type {\n",
       "        vertical-align: middle;\n",
       "    }\n",
       "\n",
       "    .dataframe tbody tr th {\n",
       "        vertical-align: top;\n",
       "    }\n",
       "\n",
       "    .dataframe thead th {\n",
       "        text-align: right;\n",
       "    }\n",
       "</style>\n",
       "<table border=\"1\" class=\"dataframe\">\n",
       "  <thead>\n",
       "    <tr style=\"text-align: right;\">\n",
       "      <th></th>\n",
       "      <th>brand_code</th>\n",
       "      <th>brand_name</th>\n",
       "      <th>category</th>\n",
       "      <th>product_link</th>\n",
       "      <th>product_name</th>\n",
       "    </tr>\n",
       "  </thead>\n",
       "  <tbody>\n",
       "    <tr>\n",
       "      <th>0</th>\n",
       "      <td>https://www.glowpick.com/brands/8016</td>\n",
       "      <td>가가알로에</td>\n",
       "      <td>['스킨케어']</td>\n",
       "      <td>['https://www.glowpick.com/products/104713']</td>\n",
       "      <td>['라율 나이트 케어 너리싱 젤']</td>\n",
       "    </tr>\n",
       "    <tr>\n",
       "      <th>1</th>\n",
       "      <td>https://www.glowpick.com/brands/1265</td>\n",
       "      <td>가그린</td>\n",
       "      <td>['생활용품']</td>\n",
       "      <td>['https://www.glowpick.com/products/134403', '...</td>\n",
       "      <td>['제로', '오리지널', '라임', '스트롱', '블라스트 치약 라임민트', '어...</td>\n",
       "    </tr>\n",
       "    <tr>\n",
       "      <th>2</th>\n",
       "      <td>https://www.glowpick.com/brands/2077</td>\n",
       "      <td>가네보</td>\n",
       "      <td>['페이스메이크업', '립메이크업', '컨투어링', '클렌징', '배쓰&amp;바디', '...</td>\n",
       "      <td>['https://www.glowpick.com/products/101993', '...</td>\n",
       "      <td>['페이스업 파우더 밀라노 콜렉션 2018 [SPF14/PA+]', '코프레도르 스...</td>\n",
       "    </tr>\n",
       "    <tr>\n",
       "      <th>3</th>\n",
       "      <td>https://www.glowpick.com/brands/11100</td>\n",
       "      <td>가드맨</td>\n",
       "      <td>['생활용품']</td>\n",
       "      <td>['https://www.glowpick.com/products/140699']</td>\n",
       "      <td>['안심 황사 마스크 KF80']</td>\n",
       "    </tr>\n",
       "    <tr>\n",
       "      <th>4</th>\n",
       "      <td>https://www.glowpick.com/brands/8724</td>\n",
       "      <td>가드미</td>\n",
       "      <td>['네일']</td>\n",
       "      <td>['https://www.glowpick.com/products/112824', '...</td>\n",
       "      <td>['큐티클 클리너', '네일 큐티클 호호바 오일']</td>\n",
       "    </tr>\n",
       "    <tr>\n",
       "      <th>...</th>\n",
       "      <td>...</td>\n",
       "      <td>...</td>\n",
       "      <td>...</td>\n",
       "      <td>...</td>\n",
       "      <td>...</td>\n",
       "    </tr>\n",
       "    <tr>\n",
       "      <th>8047</th>\n",
       "      <td>https://www.glowpick.com/brands/490</td>\n",
       "      <td>4711</td>\n",
       "      <td>['프래그런스']</td>\n",
       "      <td>['https://www.glowpick.com/products/1622', 'ht...</td>\n",
       "      <td>['아쿠아 콜로니아 블러드 오렌지 &amp; 바즐 오 드 코롱', '누보 콜로뉴 오드코롱'...</td>\n",
       "    </tr>\n",
       "    <tr>\n",
       "      <th>8048</th>\n",
       "      <td>https://www.glowpick.com/brands/10747</td>\n",
       "      <td>5.2뉴트리션</td>\n",
       "      <td>['이너뷰티']</td>\n",
       "      <td>['https://www.glowpick.com/products/138092']</td>\n",
       "      <td>['다이어트 베이스 [초코맛]']</td>\n",
       "    </tr>\n",
       "    <tr>\n",
       "      <th>8049</th>\n",
       "      <td>https://www.glowpick.com/brands/10183</td>\n",
       "      <td>76N1</td>\n",
       "      <td>['스킨케어', '클렌징', '마스크/팩']</td>\n",
       "      <td>['https://www.glowpick.com/products/140014', '...</td>\n",
       "      <td>['비 해피 더블 액션 미스트', '비 해피 오일 [대마씨 &amp; 동백]', '슈퍼듀퍼...</td>\n",
       "    </tr>\n",
       "    <tr>\n",
       "      <th>8050</th>\n",
       "      <td>https://www.glowpick.com/brands/6814</td>\n",
       "      <td>87발렌타인</td>\n",
       "      <td>['배쓰&amp;바디']</td>\n",
       "      <td>['https://www.glowpick.com/products/89547']</td>\n",
       "      <td>['이상훈의 제모크림']</td>\n",
       "    </tr>\n",
       "    <tr>\n",
       "      <th>8051</th>\n",
       "      <td>https://www.glowpick.com/brands/6151</td>\n",
       "      <td>9컴플렉스</td>\n",
       "      <td>['뷰티툴']</td>\n",
       "      <td>['https://www.glowpick.com/products/81570']</td>\n",
       "      <td>['아이래쉬 뷰러']</td>\n",
       "    </tr>\n",
       "  </tbody>\n",
       "</table>\n",
       "<p>8052 rows × 5 columns</p>\n",
       "</div>"
      ],
      "text/plain": [
       "                                 brand_code brand_name  \\\n",
       "0      https://www.glowpick.com/brands/8016      가가알로에   \n",
       "1      https://www.glowpick.com/brands/1265        가그린   \n",
       "2      https://www.glowpick.com/brands/2077        가네보   \n",
       "3     https://www.glowpick.com/brands/11100        가드맨   \n",
       "4      https://www.glowpick.com/brands/8724        가드미   \n",
       "...                                     ...        ...   \n",
       "8047    https://www.glowpick.com/brands/490       4711   \n",
       "8048  https://www.glowpick.com/brands/10747    5.2뉴트리션   \n",
       "8049  https://www.glowpick.com/brands/10183       76N1   \n",
       "8050   https://www.glowpick.com/brands/6814     87발렌타인   \n",
       "8051   https://www.glowpick.com/brands/6151      9컴플렉스   \n",
       "\n",
       "                                               category  \\\n",
       "0                                              ['스킨케어']   \n",
       "1                                              ['생활용품']   \n",
       "2     ['페이스메이크업', '립메이크업', '컨투어링', '클렌징', '배쓰&바디', '...   \n",
       "3                                              ['생활용품']   \n",
       "4                                                ['네일']   \n",
       "...                                                 ...   \n",
       "8047                                          ['프래그런스']   \n",
       "8048                                           ['이너뷰티']   \n",
       "8049                           ['스킨케어', '클렌징', '마스크/팩']   \n",
       "8050                                          ['배쓰&바디']   \n",
       "8051                                            ['뷰티툴']   \n",
       "\n",
       "                                           product_link  \\\n",
       "0          ['https://www.glowpick.com/products/104713']   \n",
       "1     ['https://www.glowpick.com/products/134403', '...   \n",
       "2     ['https://www.glowpick.com/products/101993', '...   \n",
       "3          ['https://www.glowpick.com/products/140699']   \n",
       "4     ['https://www.glowpick.com/products/112824', '...   \n",
       "...                                                 ...   \n",
       "8047  ['https://www.glowpick.com/products/1622', 'ht...   \n",
       "8048       ['https://www.glowpick.com/products/138092']   \n",
       "8049  ['https://www.glowpick.com/products/140014', '...   \n",
       "8050        ['https://www.glowpick.com/products/89547']   \n",
       "8051        ['https://www.glowpick.com/products/81570']   \n",
       "\n",
       "                                           product_name  \n",
       "0                                   ['라율 나이트 케어 너리싱 젤']  \n",
       "1     ['제로', '오리지널', '라임', '스트롱', '블라스트 치약 라임민트', '어...  \n",
       "2     ['페이스업 파우더 밀라노 콜렉션 2018 [SPF14/PA+]', '코프레도르 스...  \n",
       "3                                    ['안심 황사 마스크 KF80']  \n",
       "4                          ['큐티클 클리너', '네일 큐티클 호호바 오일']  \n",
       "...                                                 ...  \n",
       "8047  ['아쿠아 콜로니아 블러드 오렌지 & 바즐 오 드 코롱', '누보 콜로뉴 오드코롱'...  \n",
       "8048                                 ['다이어트 베이스 [초코맛]']  \n",
       "8049  ['비 해피 더블 액션 미스트', '비 해피 오일 [대마씨 & 동백]', '슈퍼듀퍼...  \n",
       "8050                                      ['이상훈의 제모크림']  \n",
       "8051                                        ['아이래쉬 뷰러']  \n",
       "\n",
       "[8052 rows x 5 columns]"
      ]
     },
     "execution_count": 357,
     "metadata": {},
     "output_type": "execute_result"
    }
   ],
   "source": [
    "df_brd_w_prd_v2"
   ]
  },
  {
   "cell_type": "code",
   "execution_count": 472,
   "id": "56e8f80c-6865-481d-9688-738ae9d7acd8",
   "metadata": {},
   "outputs": [],
   "source": [
    "not_match = []\n",
    "\n",
    "for i in range(len(df_brd_w_prd_v2)):\n",
    "    if len(df_brd_w_prd_v2.loc[i, 'product_link']) != len(df_brd_w_prd_v2.loc[i, 'product_name']):\n",
    "        not_match.append(i)"
   ]
  },
  {
   "cell_type": "code",
   "execution_count": 473,
   "id": "761146b8-9c38-4c13-83fb-c658867aa118",
   "metadata": {
    "collapsed": true,
    "jupyter": {
     "outputs_hidden": true
    },
    "tags": []
   },
   "outputs": [
    {
     "data": {
      "text/html": [
       "<div>\n",
       "<style scoped>\n",
       "    .dataframe tbody tr th:only-of-type {\n",
       "        vertical-align: middle;\n",
       "    }\n",
       "\n",
       "    .dataframe tbody tr th {\n",
       "        vertical-align: top;\n",
       "    }\n",
       "\n",
       "    .dataframe thead th {\n",
       "        text-align: right;\n",
       "    }\n",
       "</style>\n",
       "<table border=\"1\" class=\"dataframe\">\n",
       "  <thead>\n",
       "    <tr style=\"text-align: right;\">\n",
       "      <th></th>\n",
       "      <th>brand_code</th>\n",
       "      <th>brand_name</th>\n",
       "      <th>category</th>\n",
       "      <th>product_link</th>\n",
       "      <th>product_name</th>\n",
       "    </tr>\n",
       "  </thead>\n",
       "  <tbody>\n",
       "    <tr>\n",
       "      <th>6534</th>\n",
       "      <td>https://www.glowpick.com/brands/11356</td>\n",
       "      <td>쿠스</td>\n",
       "      <td>['스킨케어', '클렌징', '마스크/팩']</td>\n",
       "      <td>[https://www.glowpick.com/products/142707, htt...</td>\n",
       "      <td>[아가 글로우 세럼 컨센트레이트, 아가 글로우 캡슐 크림, 아가 글로우 페이셜 클렌...</td>\n",
       "    </tr>\n",
       "    <tr>\n",
       "      <th>6535</th>\n",
       "      <td>https://www.glowpick.com/brands/11961</td>\n",
       "      <td>쿠스</td>\n",
       "      <td>['스킨케어', '배쓰&amp;바디']</td>\n",
       "      <td>[https://www.glowpick.com/products/142707, htt...</td>\n",
       "      <td>[아가 글로우 세럼 컨센트레이트, 아가 글로우 캡슐 크림, 아가 글로우 페이셜 클렌...</td>\n",
       "    </tr>\n",
       "    <tr>\n",
       "      <th>6536</th>\n",
       "      <td>https://www.glowpick.com/brands/11062</td>\n",
       "      <td>쿠스</td>\n",
       "      <td>['생활용품']</td>\n",
       "      <td>[https://www.glowpick.com/products/142707, htt...</td>\n",
       "      <td>[아가 글로우 세럼 컨센트레이트, 아가 글로우 캡슐 크림, 아가 글로우 페이셜 클렌...</td>\n",
       "    </tr>\n",
       "    <tr>\n",
       "      <th>6778</th>\n",
       "      <td>https://www.glowpick.com/brands/11061</td>\n",
       "      <td>테라브레스</td>\n",
       "      <td>['생활용품']</td>\n",
       "      <td>[https://www.glowpick.com/products/134406, htt...</td>\n",
       "      <td>[오랄린스 아이시 민트, 오랄린스 마일드 민트, 헬시스마일 오랄린스 스파클민트, 미...</td>\n",
       "    </tr>\n",
       "    <tr>\n",
       "      <th>6779</th>\n",
       "      <td>https://www.glowpick.com/brands/10407</td>\n",
       "      <td>테라브레스</td>\n",
       "      <td>['생활용품']</td>\n",
       "      <td>[https://www.glowpick.com/products/134406, htt...</td>\n",
       "      <td>[오랄린스 아이시 민트, 오랄린스 마일드 민트, 헬시스마일 오랄린스 스파클민트, 미...</td>\n",
       "    </tr>\n",
       "    <tr>\n",
       "      <th>6901</th>\n",
       "      <td>https://www.glowpick.com/brands/5441</td>\n",
       "      <td>티스</td>\n",
       "      <td>['스킨케어', '페이스메이크업']</td>\n",
       "      <td>[https://www.glowpick.com/products/72256, http...</td>\n",
       "      <td>[골드라벨 퍼팩트 테라피 쿠션, 시어 부스팅 토너, 와이드 헤드 칫솔, 칫솔, 골드...</td>\n",
       "    </tr>\n",
       "    <tr>\n",
       "      <th>6902</th>\n",
       "      <td>https://www.glowpick.com/brands/12036</td>\n",
       "      <td>티스</td>\n",
       "      <td>['생활용품']</td>\n",
       "      <td>[https://www.glowpick.com/products/72256, http...</td>\n",
       "      <td>[골드라벨 퍼팩트 테라피 쿠션, 시어 부스팅 토너, 와이드 헤드 칫솔, 칫솔, 골드...</td>\n",
       "    </tr>\n",
       "    <tr>\n",
       "      <th>7321</th>\n",
       "      <td>https://www.glowpick.com/brands/237</td>\n",
       "      <td>프레쉬</td>\n",
       "      <td>['스킨케어', '립메이크업', '남성화장품', '클렌징', '마스크/팩', '선케...</td>\n",
       "      <td>[https://www.glowpick.com/products/109047, htt...</td>\n",
       "      <td>[블랙티 콤부차 페이셜 트리트먼트 에센스, 블랙티 인스턴트 퍼펙팅 마스크, 슈가 리...</td>\n",
       "    </tr>\n",
       "    <tr>\n",
       "      <th>7322</th>\n",
       "      <td>https://www.glowpick.com/brands/3857</td>\n",
       "      <td>프레쉬</td>\n",
       "      <td>['프래그런스']</td>\n",
       "      <td>[https://www.glowpick.com/products/109047, htt...</td>\n",
       "      <td>[블랙티 콤부차 페이셜 트리트먼트 에센스, 블랙티 인스턴트 퍼펙팅 마스크, 슈가 리...</td>\n",
       "    </tr>\n",
       "    <tr>\n",
       "      <th>7529</th>\n",
       "      <td>https://www.glowpick.com/brands/11572</td>\n",
       "      <td>필로스</td>\n",
       "      <td>['스킨케어']</td>\n",
       "      <td>[https://www.glowpick.com/products/95316, http...</td>\n",
       "      <td>[플라스톡스 볼륨 스칼프세럼, 턴오버28day 주름앰플, 턴오버28day 영양앰플,...</td>\n",
       "    </tr>\n",
       "    <tr>\n",
       "      <th>7530</th>\n",
       "      <td>https://www.glowpick.com/brands/6898</td>\n",
       "      <td>필로스</td>\n",
       "      <td>['스킨케어', '헤어']</td>\n",
       "      <td>[https://www.glowpick.com/products/95316, http...</td>\n",
       "      <td>[플라스톡스 볼륨 스칼프세럼, 턴오버28day 주름앰플, 턴오버28day 영양앰플,...</td>\n",
       "    </tr>\n",
       "    <tr>\n",
       "      <th>7659</th>\n",
       "      <td>https://www.glowpick.com/brands/11143</td>\n",
       "      <td>해피데이</td>\n",
       "      <td>['생활용품']</td>\n",
       "      <td>[https://www.glowpick.com/products/140943, htt...</td>\n",
       "      <td>[넘버원 지킴이마스크 KF80, 3D 프리미엄 마스크, 프리미엄 일회용 마스크, 넘...</td>\n",
       "    </tr>\n",
       "    <tr>\n",
       "      <th>7660</th>\n",
       "      <td>https://www.glowpick.com/brands/11149</td>\n",
       "      <td>해피데이</td>\n",
       "      <td>['생활용품']</td>\n",
       "      <td>[https://www.glowpick.com/products/140943, htt...</td>\n",
       "      <td>[넘버원 지킴이마스크 KF80, 3D 프리미엄 마스크, 프리미엄 일회용 마스크, 넘...</td>\n",
       "    </tr>\n",
       "  </tbody>\n",
       "</table>\n",
       "</div>"
      ],
      "text/plain": [
       "                                 brand_code brand_name  \\\n",
       "6534  https://www.glowpick.com/brands/11356         쿠스   \n",
       "6535  https://www.glowpick.com/brands/11961         쿠스   \n",
       "6536  https://www.glowpick.com/brands/11062         쿠스   \n",
       "6778  https://www.glowpick.com/brands/11061      테라브레스   \n",
       "6779  https://www.glowpick.com/brands/10407      테라브레스   \n",
       "6901   https://www.glowpick.com/brands/5441         티스   \n",
       "6902  https://www.glowpick.com/brands/12036         티스   \n",
       "7321    https://www.glowpick.com/brands/237        프레쉬   \n",
       "7322   https://www.glowpick.com/brands/3857        프레쉬   \n",
       "7529  https://www.glowpick.com/brands/11572        필로스   \n",
       "7530   https://www.glowpick.com/brands/6898        필로스   \n",
       "7659  https://www.glowpick.com/brands/11143       해피데이   \n",
       "7660  https://www.glowpick.com/brands/11149       해피데이   \n",
       "\n",
       "                                               category  \\\n",
       "6534                           ['스킨케어', '클렌징', '마스크/팩']   \n",
       "6535                                  ['스킨케어', '배쓰&바디']   \n",
       "6536                                           ['생활용품']   \n",
       "6778                                           ['생활용품']   \n",
       "6779                                           ['생활용품']   \n",
       "6901                                ['스킨케어', '페이스메이크업']   \n",
       "6902                                           ['생활용품']   \n",
       "7321  ['스킨케어', '립메이크업', '남성화장품', '클렌징', '마스크/팩', '선케...   \n",
       "7322                                          ['프래그런스']   \n",
       "7529                                           ['스킨케어']   \n",
       "7530                                     ['스킨케어', '헤어']   \n",
       "7659                                           ['생활용품']   \n",
       "7660                                           ['생활용품']   \n",
       "\n",
       "                                           product_link  \\\n",
       "6534  [https://www.glowpick.com/products/142707, htt...   \n",
       "6535  [https://www.glowpick.com/products/142707, htt...   \n",
       "6536  [https://www.glowpick.com/products/142707, htt...   \n",
       "6778  [https://www.glowpick.com/products/134406, htt...   \n",
       "6779  [https://www.glowpick.com/products/134406, htt...   \n",
       "6901  [https://www.glowpick.com/products/72256, http...   \n",
       "6902  [https://www.glowpick.com/products/72256, http...   \n",
       "7321  [https://www.glowpick.com/products/109047, htt...   \n",
       "7322  [https://www.glowpick.com/products/109047, htt...   \n",
       "7529  [https://www.glowpick.com/products/95316, http...   \n",
       "7530  [https://www.glowpick.com/products/95316, http...   \n",
       "7659  [https://www.glowpick.com/products/140943, htt...   \n",
       "7660  [https://www.glowpick.com/products/140943, htt...   \n",
       "\n",
       "                                           product_name  \n",
       "6534  [아가 글로우 세럼 컨센트레이트, 아가 글로우 캡슐 크림, 아가 글로우 페이셜 클렌...  \n",
       "6535  [아가 글로우 세럼 컨센트레이트, 아가 글로우 캡슐 크림, 아가 글로우 페이셜 클렌...  \n",
       "6536  [아가 글로우 세럼 컨센트레이트, 아가 글로우 캡슐 크림, 아가 글로우 페이셜 클렌...  \n",
       "6778  [오랄린스 아이시 민트, 오랄린스 마일드 민트, 헬시스마일 오랄린스 스파클민트, 미...  \n",
       "6779  [오랄린스 아이시 민트, 오랄린스 마일드 민트, 헬시스마일 오랄린스 스파클민트, 미...  \n",
       "6901  [골드라벨 퍼팩트 테라피 쿠션, 시어 부스팅 토너, 와이드 헤드 칫솔, 칫솔, 골드...  \n",
       "6902  [골드라벨 퍼팩트 테라피 쿠션, 시어 부스팅 토너, 와이드 헤드 칫솔, 칫솔, 골드...  \n",
       "7321  [블랙티 콤부차 페이셜 트리트먼트 에센스, 블랙티 인스턴트 퍼펙팅 마스크, 슈가 리...  \n",
       "7322  [블랙티 콤부차 페이셜 트리트먼트 에센스, 블랙티 인스턴트 퍼펙팅 마스크, 슈가 리...  \n",
       "7529  [플라스톡스 볼륨 스칼프세럼, 턴오버28day 주름앰플, 턴오버28day 영양앰플,...  \n",
       "7530  [플라스톡스 볼륨 스칼프세럼, 턴오버28day 주름앰플, 턴오버28day 영양앰플,...  \n",
       "7659  [넘버원 지킴이마스크 KF80, 3D 프리미엄 마스크, 프리미엄 일회용 마스크, 넘...  \n",
       "7660  [넘버원 지킴이마스크 KF80, 3D 프리미엄 마스크, 프리미엄 일회용 마스크, 넘...  "
      ]
     },
     "execution_count": 473,
     "metadata": {},
     "output_type": "execute_result"
    }
   ],
   "source": [
    "df_brd_w_prd_v2.iloc[not_match, :]"
   ]
  },
  {
   "cell_type": "code",
   "execution_count": 477,
   "id": "caf01511-fe45-4126-af18-6f400ff665ba",
   "metadata": {},
   "outputs": [],
   "source": [
    "df_brd_w_prd_v2.loc[6535, 'product_link'] = ['https://www.glowpick.com/products/148725',\n",
    "                                            'https://www.glowpick.com/products/148724']\n",
    "df_brd_w_prd_v2.loc[6535, 'product_name'] = ['그라시아 미스트',\n",
    "                                            '수아브 핸드크림']"
   ]
  },
  {
   "cell_type": "code",
   "execution_count": 478,
   "id": "6ab28971-7f18-49a1-aa83-5f2c4af8f7b8",
   "metadata": {},
   "outputs": [
    {
     "data": {
      "text/plain": [
       "brand_code                  https://www.glowpick.com/brands/11062\n",
       "brand_name                                                     쿠스\n",
       "category                                                 ['생활용품']\n",
       "product_link    [https://www.glowpick.com/products/142707, htt...\n",
       "product_name    [아가 글로우 세럼 컨센트레이트, 아가 글로우 캡슐 크림, 아가 글로우 페이셜 클렌...\n",
       "Name: 6536, dtype: object"
      ]
     },
     "execution_count": 478,
     "metadata": {},
     "output_type": "execute_result"
    }
   ],
   "source": [
    "df_brd_w_prd_v2.loc[6536, :]"
   ]
  },
  {
   "cell_type": "code",
   "execution_count": 371,
   "id": "4140eafc-8bef-44be-90bb-b0ac2e219e52",
   "metadata": {
    "collapsed": true,
    "jupyter": {
     "outputs_hidden": true
    },
    "tags": []
   },
   "outputs": [
    {
     "name": "stdout",
     "output_type": "stream",
     "text": [
      "가가알로에\n",
      "['https://www.glowpick.com/products/104713']\n",
      "1\n",
      "------------------------------\n",
      "['라율 나이트 케어 너리싱 젤']\n",
      "1\n",
      "------------------------------\n",
      "########################\n",
      "가그린\n",
      "['https://www.glowpick.com/products/134403', 'https://www.glowpick.com/products/134399', 'https://www.glowpick.com/products/134398', 'https://www.glowpick.com/products/134404', 'https://www.glowpick.com/products/141416', 'https://www.glowpick.com/products/134539', 'https://www.glowpick.com/products/134520', 'https://www.glowpick.com/products/134536', 'https://www.glowpick.com/products/134402', 'https://www.glowpick.com/products/134549', 'https://www.glowpick.com/products/134401', 'https://www.glowpick.com/products/134529', 'https://www.glowpick.com/products/134541', 'https://www.glowpick.com/products/134400', 'https://www.glowpick.com/products/146721']\n",
      "15\n",
      "------------------------------\n",
      "['제로', '오리지널', '라임', '스트롱', '블라스트 치약 라임민트', '어린이용 [사과]', '잇몸 가그린 검가드', '어린이용 [딸기]', '후레쉬 청포도 마우스 스프레이', '케어스트 민트', '후레쉬 민트 마우스 스프레이', '카모마일', '어린이용 [풍선껌]', '후레쉬 라즈베리 마우스 스프레이', '자몽']\n",
      "15\n",
      "------------------------------\n",
      "########################\n",
      "가네보\n",
      "['https://www.glowpick.com/products/101993', 'https://www.glowpick.com/products/34608', 'https://www.glowpick.com/products/104038', 'https://www.glowpick.com/products/120202', 'https://www.glowpick.com/products/104400', 'https://www.glowpick.com/products/62453', 'https://www.glowpick.com/products/103189', 'https://www.glowpick.com/products/88255', 'https://www.glowpick.com/products/104398', 'https://www.glowpick.com/products/88256', 'https://www.glowpick.com/products/88257', 'https://www.glowpick.com/products/88254']\n",
      "12\n",
      "------------------------------\n",
      "['페이스업 파우더 밀라노 콜렉션 2018 [SPF14/PA+]', '코프레도르 스마일업 치크', '메디아 브라이트 업 치크', '베리안 브로세', '2018 밀라노 컬렉션 퍼퓸', '센사이 더 립스틱', '[단종]  에비타 폼클렌징', '[단종]  크라시에 나이브 페이스 워시 폼R [녹차]', '[단종]  (2018 밀라노 컬렉션) 바디 후레쉬 파우더 [SPF20/PA+]', '[단종]  크라시에 나이브 페이스 워시 폼R [알로에]', '[단종]  크라시에 나이브 페이스 워시 폼R [복숭아]', '[단종]  크라시에 나이브 페이스 워시 폼R [시어버터]']\n",
      "12\n",
      "------------------------------\n",
      "########################\n",
      "가드맨\n",
      "['https://www.glowpick.com/products/140699']\n",
      "1\n",
      "------------------------------\n",
      "['안심 황사 마스크 KF80']\n",
      "1\n",
      "------------------------------\n",
      "########################\n",
      "가드미\n",
      "['https://www.glowpick.com/products/112824', 'https://www.glowpick.com/products/112823']\n",
      "2\n",
      "------------------------------\n",
      "['큐티클 클리너', '네일 큐티클 호호바 오일']\n",
      "2\n",
      "------------------------------\n",
      "########################\n",
      "가든 오브 라이프\n",
      "['https://www.glowpick.com/products/133823', 'https://www.glowpick.com/products/137984', 'https://www.glowpick.com/products/137322', 'https://www.glowpick.com/products/137980', 'https://www.glowpick.com/products/137971', 'https://www.glowpick.com/products/137969', 'https://www.glowpick.com/products/137898', 'https://www.glowpick.com/products/137897', 'https://www.glowpick.com/products/137868', 'https://www.glowpick.com/products/137843', 'https://www.glowpick.com/products/137810', 'https://www.glowpick.com/products/137807']\n",
      "12\n",
      "------------------------------\n",
      "['비타민 로우 B 컴플렉스', '로우 프로바이오틱스 장케어', '무가공 비타민C', '닥터 포뮬레이티드 프로바이오틱스 무드 플러스', '닥터 포뮬레이티드 프로바이오틱스 남성용', '로우 프로바이오틱스 질케어', '닥터 포뮬레이티드 프로바이오틱스 오가닉키즈 [베리체리]', '닥터 포뮬레이티드 프로바이오틱스 오가닉키즈', '유기농 식물 콜라겐 빌더', '비타민 코드 로우 원 포 우먼', '닥터 포뮬레이티드 프로바이오틱스 여성용', '마이카인드 오가닉스 남성용']\n",
      "12\n",
      "------------------------------\n",
      "########################\n",
      "가디스가든\n",
      "['https://www.glowpick.com/products/96142', 'https://www.glowpick.com/products/96141', 'https://www.glowpick.com/products/96138', 'https://www.glowpick.com/products/96133', 'https://www.glowpick.com/products/96125', 'https://www.glowpick.com/products/110967', 'https://www.glowpick.com/products/96136', 'https://www.glowpick.com/products/96134', 'https://www.glowpick.com/products/96132', 'https://www.glowpick.com/products/96131', 'https://www.glowpick.com/products/96124', 'https://www.glowpick.com/products/96122', 'https://www.glowpick.com/products/96118', 'https://www.glowpick.com/products/96109']\n",
      "14\n",
      "------------------------------\n",
      "['유기농 드림 리페어 선 리페어 나이트 크림', '유기농 데이 언던 선 리페어 세럼', '천연 미네랄 선스크린 립 밤 라즈베리 맛', '유기농 브라이트 아이즈 퍼밍 아이 크림', '천연 미네랄 선스크린 립 밤 라벤더 민트향 [SPF30]', '[단종]  베이비 내츄럴 미네랄 선스틱 [SPF30]', '[단종]  오가닉 네츄럴 선스크린 키즈 서포트 스프레이 [SPF30]', '[단종]  유기농 이레이즈 더 데이 미네럴 리무빙 클렌저', '[단종]  유기농 프레쉬 스타트 젠틀 크림 클렌저', '[단종]  네추럴 미네랄 선스크린 스틱 키즈 스포츠 [SPF30]', '[단종]  페이스 더 데이 선스크린 앤 퍼밍 프라이머 [SPF30]', '[단종]  오가닉스 키즈 네추럴 선스크린 [SPF30]', '[단종]  베이비 네이처 선스크린 로션 [SPF30]', '[단종]  내츄럴 선스크린 로션 [SPF30]']\n",
      "14\n",
      "------------------------------\n",
      "########################\n",
      "가란시아\n",
      "['https://www.glowpick.com/products/129388', 'https://www.glowpick.com/products/129347', 'https://www.glowpick.com/products/147953', 'https://www.glowpick.com/products/139095', 'https://www.glowpick.com/products/134707', 'https://www.glowpick.com/products/148068', 'https://www.glowpick.com/products/148609', 'https://www.glowpick.com/products/148512', 'https://www.glowpick.com/products/147964']\n",
      "9\n",
      "------------------------------\n",
      "['쉴퓨르즈 빠뜨 뒤 마라부', '쁘쉬 마쥐끄 누벨 뽀 비쟈쥬', '렐릭시르 뒤 마라부', '쑤르쓰 미쎌레르 앙샹테 로즈 당탕', '미스테리유 콘센트레이트 세럼', '미스테리유 밀 에 엉 쥬르 크렘 드 쥬르', '디아볼리끄 토마트 리쉬', '디아볼리끄 토마트 크렘 도', '아쿠아 레브 뛰']\n",
      "9\n",
      "------------------------------\n",
      "########################\n",
      "가르니르\n",
      "['https://www.glowpick.com/products/74814', 'https://www.glowpick.com/products/74812', 'https://www.glowpick.com/products/74523', 'https://www.glowpick.com/products/108263']\n",
      "4\n",
      "------------------------------\n",
      "['안나', '프라이드', '플란더스 EDT', '앨리스 EDT']\n",
      "4\n",
      "------------------------------\n",
      "########################\n",
      "가르니에\n",
      "['https://www.glowpick.com/products/66001', 'https://www.glowpick.com/products/95492', 'https://www.glowpick.com/products/106935', 'https://www.glowpick.com/products/144342', 'https://www.glowpick.com/products/73477', 'https://www.glowpick.com/products/78547', 'https://www.glowpick.com/products/144343', 'https://www.glowpick.com/products/111161', 'https://www.glowpick.com/products/102309', 'https://www.glowpick.com/products/76946', 'https://www.glowpick.com/products/99298', 'https://www.glowpick.com/products/106331', 'https://www.glowpick.com/products/109910', 'https://www.glowpick.com/products/106937', 'https://www.glowpick.com/products/92644', 'https://www.glowpick.com/products/72314', 'https://www.glowpick.com/products/65969', 'https://www.glowpick.com/products/83094', 'https://www.glowpick.com/products/72313', 'https://www.glowpick.com/products/92923', 'https://www.glowpick.com/products/62061', 'https://www.glowpick.com/products/103190']\n",
      "22\n",
      "------------------------------\n",
      "['미셀라 클렌징 워터', '프레시 아이 메이크업 리무버', '미셀라 클렌징 워터 올인원 워터프루프', '스킨 액티브 올인원 클렌징워터', '모우손 크림', '프루티스 데미지 이레이져 샴푸', '스킨 액티브 미셀라 포밍 젤 클렌저', '아보카도&시어버터 너리싱 샴푸', '리스토어링 샴푸 메이플 레미디', '울트라 도우 마블러스 헤어 오일', '프루티스 풀 & 플러쉬 샴푸', '3 in 1 너리싱 허니 보태니컬 밤', '인텐시브 7 데이즈 울트라 리플레니싱 로션 - 쉐어버터', '미셀라 클렌징 워터 올인원 매티파잉', '[단종]  클린 센시티브 투인원 워터프루프 메이크업 리무버', '[단종]  퓨어 액티브 안티 블랙헤드 워시', '[단종]  스킨 액티브 퓨어 컨트롤 아크네 젤 스크럽', '[단종]  옴브렐 울트라 라이트 페이스 로션 [SPF60]', '[단종]  퓨어 액티브 후룻 에너지폼', '[단종]  옴브레 솔레르 울트라 하이드레이팅 프로텍션 로션 [SPF50]', '[단종]  인텐시브 7 데이즈 데일리 바디 로션 - 허니', '[단종]  하웃클라 3in1 폼 클렌징']\n",
      "22\n",
      "------------------------------\n",
      "########################\n",
      "가오쿠\n",
      "['https://www.glowpick.com/products/124088', 'https://www.glowpick.com/products/134092', 'https://www.glowpick.com/products/124086']\n",
      "3\n",
      "------------------------------\n",
      "['헤어 에센스', '헤어글로스 트리트먼트 샴푸', '헤어 마스크']\n",
      "3\n",
      "------------------------------\n",
      "########################\n",
      "가온\n",
      "['https://www.glowpick.com/products/136313', 'https://www.glowpick.com/products/136316']\n",
      "2\n",
      "------------------------------\n",
      "['새싹 담은 아이 & 페이스 크림', '씨앗담은 토닝 세럼']\n",
      "2\n",
      "------------------------------\n",
      "########################\n",
      "가온도담\n",
      "['https://www.glowpick.com/products/91862', 'https://www.glowpick.com/products/76592', 'https://www.glowpick.com/products/90876', 'https://www.glowpick.com/products/91864', 'https://www.glowpick.com/products/91869', 'https://www.glowpick.com/products/105114', 'https://www.glowpick.com/products/91868', 'https://www.glowpick.com/products/91870', 'https://www.glowpick.com/products/76593', 'https://www.glowpick.com/products/90877', 'https://www.glowpick.com/products/91867', 'https://www.glowpick.com/products/91871', 'https://www.glowpick.com/products/91865', 'https://www.glowpick.com/products/79387', 'https://www.glowpick.com/products/76595', 'https://www.glowpick.com/products/76594']\n",
      "16\n",
      "------------------------------\n",
      "['[단종]  청순 에센스 인 오일 스킨', '[단종]  퓨어 선쿠션 [SPF35/PA+++]', '[단종]  청순 무기자차 선쿠션 [SPF35/PA+++]', '[단종]  청순 올인원 크림', '[단종]  청순 로즈힙 틴트 립오일', '[단종]  청순 7스킨 토너', '[단종]  청순 립밤 - 컬러', '[단종]  청순 페이스투토 로션', '[단종]  리마커블 크림', '[단종]  청순 무기자차 BB 선쿠션 [SPF35/PA+++]', '[단종]  청순 립밤 - 투명', '[단종]  청순 버블 클렌저', '[단종]  청순 무기자차 선크림 [SPF35/PA+++]', '[단종]  리마커블 스틱밤', '[단종]  리마커블 오일', '[단종]  퓨어 클렌저']\n",
      "16\n",
      "------------------------------\n",
      "########################\n",
      "가이아\n",
      "['https://www.glowpick.com/products/95151', 'https://www.glowpick.com/products/61313', 'https://www.glowpick.com/products/61345', 'https://www.glowpick.com/products/61301', 'https://www.glowpick.com/products/61285', 'https://www.glowpick.com/products/61281', 'https://www.glowpick.com/products/61269', 'https://www.glowpick.com/products/61237', 'https://www.glowpick.com/products/61329']\n",
      "9\n",
      "------------------------------\n",
      "['헤어 & 바디워시', '스킨 수딩 로션', '내추럴 베이비 파우더', '베이비 모이스처라이저', '컨디셔닝 디탱글러', '베이비 샴푸', '배스 & 바디 워시', '슬립타임 배스', '[단종]  베이비 마사지 오일']\n",
      "9\n",
      "------------------------------\n",
      "########################\n",
      "가이아 허브\n",
      "['https://www.glowpick.com/products/132842']\n",
      "1\n",
      "------------------------------\n",
      "['아드레날 건강']\n",
      "1\n",
      "------------------------------\n",
      "########################\n",
      "가인비책\n",
      "['https://www.glowpick.com/products/122937']\n",
      "1\n",
      "------------------------------\n",
      "['진 인진쑥 에센스']\n",
      "1\n",
      "------------------------------\n",
      "########################\n",
      "가쯔\n",
      "['https://www.glowpick.com/products/147816']\n",
      "1\n",
      "------------------------------\n",
      "['서울 마스크 황사 방역 KF94']\n",
      "1\n",
      "------------------------------\n",
      "########################\n",
      "가히\n",
      "['https://www.glowpick.com/products/133668', 'https://www.glowpick.com/products/144830', 'https://www.glowpick.com/products/138641', 'https://www.glowpick.com/products/148839', 'https://www.glowpick.com/products/148860', 'https://www.glowpick.com/products/148863', 'https://www.glowpick.com/products/148862', 'https://www.glowpick.com/products/135322']\n",
      "8\n",
      "------------------------------\n",
      "['콜라겐 미스트앰플', '링클 바운스 멀티밤', '링클 바운스 블레미쉬 UV 프로텍션 크림 [SPF50+/PA++++]', '엑스틴 C밤', '아쿠아밤 [SPF50+/PA++++]', '하이라이터', '키스틴밤 핑크', '[단종]  멀티 보습 밤 스틱']\n",
      "8\n",
      "------------------------------\n",
      "########################\n",
      "간나나기\n",
      "['https://www.glowpick.com/products/98620', 'https://www.glowpick.com/products/98625', 'https://www.glowpick.com/products/98622', 'https://www.glowpick.com/products/98629', 'https://www.glowpick.com/products/98627']\n",
      "5\n",
      "------------------------------\n",
      "['내추럴 S.O.S 수딩 젤', '올케어 리커버 크림', '올케어 데일리 로션', '센텔라 워터 100 미스트', '갓식스 오가닉 마사지 오일']\n",
      "5\n",
      "------------------------------\n",
      "########################\n",
      "간만세\n",
      "['https://www.glowpick.com/products/133207', 'https://www.glowpick.com/products/133205']\n",
      "2\n",
      "------------------------------\n",
      "['간만세 프리미엄 블랙', '간만세']\n",
      "2\n",
      "------------------------------\n",
      "########################\n",
      "게볼\n",
      "['https://www.glowpick.com/products/17245', 'https://www.glowpick.com/products/110078', 'https://www.glowpick.com/products/93849', 'https://www.glowpick.com/products/36978']\n",
      "4\n",
      "------------------------------\n",
      "['겔라비트 무어 비타민 크림', '겔라비트 무어 비타민 크림 AF', '겔라산 핸드크림', '메드 데오드란트 풋 크림']\n",
      "4\n",
      "------------------------------\n",
      "########################\n",
      "게스\n",
      "['https://www.glowpick.com/products/21547', 'https://www.glowpick.com/products/47393', 'https://www.glowpick.com/products/123863', 'https://www.glowpick.com/products/21549', 'https://www.glowpick.com/products/142862', 'https://www.glowpick.com/products/111061', 'https://www.glowpick.com/products/111268', 'https://www.glowpick.com/products/21548', 'https://www.glowpick.com/products/21569', 'https://www.glowpick.com/products/150309', 'https://www.glowpick.com/products/111062', 'https://www.glowpick.com/products/21551', 'https://www.glowpick.com/products/21550']\n",
      "13\n",
      "------------------------------\n",
      "['걸 오 드 뚜왈렛', '데어 오드 뚜왈렛', '1981 로스앤젤레스 우먼 오 드 뚜왈렛', '우먼 오 드 퍼퓸', '데어 프래그런스 미스트', '1981 포 우먼', '시덕티브 오 드 뚜왈렛', '걸 벨 오드 뚜왈렛', '맨 나이트 오 드 뚜왈렛', '벨라 비타 로사 오 드 뚜왈렛', '1981 포 맨', '맨 나이트 억세스 오 드 뚜왈렛', '시덕티브 옴므 블루 오 드 뚜왈렛']\n",
      "13\n",
      "------------------------------\n",
      "########################\n",
      "게스통\n",
      "['https://www.glowpick.com/products/116997', 'https://www.glowpick.com/products/116998']\n",
      "2\n",
      "------------------------------\n",
      "['슈팅스타 크리스탈 아이 겔 패치', '슈팅스타 블랙 아이 겔 패치']\n",
      "2\n",
      "------------------------------\n",
      "########################\n",
      "겐조\n",
      "['https://www.glowpick.com/products/3287', 'https://www.glowpick.com/products/2790', 'https://www.glowpick.com/products/3284', 'https://www.glowpick.com/products/97372', 'https://www.glowpick.com/products/16793', 'https://www.glowpick.com/products/112014', 'https://www.glowpick.com/products/111445', 'https://www.glowpick.com/products/119421', 'https://www.glowpick.com/products/66425', 'https://www.glowpick.com/products/106446', 'https://www.glowpick.com/products/45097', 'https://www.glowpick.com/products/111624', 'https://www.glowpick.com/products/111623', 'https://www.glowpick.com/products/111580', 'https://www.glowpick.com/products/106305', 'https://www.glowpick.com/products/138548', 'https://www.glowpick.com/products/138552', 'https://www.glowpick.com/products/112850', 'https://www.glowpick.com/products/112385', 'https://www.glowpick.com/products/80514', 'https://www.glowpick.com/products/18563', 'https://www.glowpick.com/products/83376', 'https://www.glowpick.com/products/14414', 'https://www.glowpick.com/products/18889', 'https://www.glowpick.com/products/123206', 'https://www.glowpick.com/products/123202', 'https://www.glowpick.com/products/104617', 'https://www.glowpick.com/products/104616', 'https://www.glowpick.com/products/104615', 'https://www.glowpick.com/products/26472', 'https://www.glowpick.com/products/11362', 'https://www.glowpick.com/products/11019', 'https://www.glowpick.com/products/26065', 'https://www.glowpick.com/products/26429']\n",
      "34\n",
      "------------------------------\n",
      "['로빠 겐조 뿌르 옴므 오드뚜왈렛', '르 빠 겐조 뿌르 팜므 오드뚜왈렛', '플라워바이 겐조 우먼 오드뚜왈렛', '월드 EDP', '주 다무르 오 드 퍼퓸', '겐조 월드 오 드 뚜왈렛', '겐조 플라워 바이 겐조 오드 뤼미에르', '플라워바이겐조 오 드 비', '아무르 아이 러브 유 오드뚜왈렛', '플라워바이겐조 퍼퓸드 데오도란트 스프레이', '플라워바이겐조 엘릭시르', '아쿠아겐조 뿌르옴므 EDT', '아쿠아겐조 뿌르팜므 EDT', '플라워바이겐조 레드에디션', '플라워바이겐조 르 쿠션', '플라워바이겐조 오 드 퍼퓸', '플라워바이겐조 포피 부케 오 드 퍼퓸', '겐조 월드 아이 팔레트', '겐조 월드 실키 미스트', '아무르 마이 러브', '스포츠 익스트림 옴므 오드뚜왈렛', '뿌르(대나무) 옴므', '옴므 나이트', '매들리 겐조 우먼 오 드 뚜왈렛', '로 겐조 뿌르 옴므 EDT', '옴므 EDT', '꿀뢰르 로즈 핑크 EDP', '꿀뢰르 준느 옐로우 EDP', '꿀뢰르 바이올렛 EDP', '벨르 드 주르 화이트 로투스 마스크', '플라워바이겐조 퍼퓸드 롤 온 데오도란트', '로빠겐조 퍼퓸드 데오도란트 내추럴 스프레이', '[단종]  플라워 인 디 에어 오 드 퍼퓸', '[단종]  화이트 블로썸 델리키트 UV 쉴드 [SPF50+/PA+++]']\n",
      "34\n",
      "------------------------------\n",
      "########################\n",
      "겐조키\n",
      "['https://www.glowpick.com/products/11068', 'https://www.glowpick.com/products/78998', 'https://www.glowpick.com/products/126811', 'https://www.glowpick.com/products/16790', 'https://www.glowpick.com/products/126816', 'https://www.glowpick.com/products/126815', 'https://www.glowpick.com/products/126814', 'https://www.glowpick.com/products/126813', 'https://www.glowpick.com/products/126809', 'https://www.glowpick.com/products/126805', 'https://www.glowpick.com/products/126802', 'https://www.glowpick.com/products/126800', 'https://www.glowpick.com/products/126798', 'https://www.glowpick.com/products/126795', 'https://www.glowpick.com/products/126794', 'https://www.glowpick.com/products/126793', 'https://www.glowpick.com/products/99269', 'https://www.glowpick.com/products/91831', 'https://www.glowpick.com/products/91830', 'https://www.glowpick.com/products/24111', 'https://www.glowpick.com/products/24006', 'https://www.glowpick.com/products/20760', 'https://www.glowpick.com/products/18557', 'https://www.glowpick.com/products/16774']\n",
      "24\n",
      "------------------------------\n",
      "['센슈얼 배어 바디 크림', '어메이징 엑스폴리에이팅 워터', '모이스처라이징 스킨 가디언', '센슈얼 핸드밤', '래디언스 프레쉬 & 글로우 뷰티 크림', '래디언스 웨이크-업 세럼 로션', '하이드레이션 모이스처라이징 젤리 투 매티파이', '벨르 드 주르 드림 나이트 마스크', '벨르 드 주르 세이크리드 로투스 페이스 로션', '벨르 드 주르 세이크리드 로투스 페이스 세럼', '모이스처라이징 스킨 가디언 세럼', '벨르 드 주르 세이크리드 로투스 아이 컨투어', '하이드레이션 클렌징 밀키 오일', '모이스처라이징 로투스 마스크', '벨르 드 주르 세이크리드 로투스 페이스 플루이드', '바이탈-아이스 크림', '젠틀 클렌징 로투스 무스', '벨르 드 주르 세이크리드 로투스 페이스 오일', '하이드레이션 유브이 프로텍션 스킨 탑코트 [SPF30/PA+++]', '벨르 드 주르 세이크리드 로투스 페이스 크림', '밤 포 립스 투 키스', '어메이징 클렌징 워터', '로투스 커레스 투 모이스처라이즈 아이', '멜트-인 모이스처라이징 로션']\n",
      "24\n",
      "------------------------------\n",
      "########################\n",
      "겐지코\n",
      "['https://www.glowpick.com/products/139939']\n",
      "1\n",
      "------------------------------\n",
      "['볼륨베이스']\n",
      "1\n",
      "------------------------------\n",
      "########################\n",
      "겔라시앙\n",
      "['https://www.glowpick.com/products/85970', 'https://www.glowpick.com/products/85992', 'https://www.glowpick.com/products/85514', 'https://www.glowpick.com/products/86162', 'https://www.glowpick.com/products/86161', 'https://www.glowpick.com/products/86093']\n",
      "6\n",
      "------------------------------\n",
      "['클리어 에센스', '클리어 토너', '클리어 로션', '센서티브 크림', '인텐시브 세럼', '에센셜 마스크']\n",
      "6\n",
      "------------------------------\n",
      "########################\n",
      "겔랑\n",
      "['https://www.glowpick.com/products/14281', 'https://www.glowpick.com/products/15074', 'https://www.glowpick.com/products/39732', 'https://www.glowpick.com/products/585', 'https://www.glowpick.com/products/110585', 'https://www.glowpick.com/products/80175', 'https://www.glowpick.com/products/36012', 'https://www.glowpick.com/products/95088', 'https://www.glowpick.com/products/74274', 'https://www.glowpick.com/products/42561', 'https://www.glowpick.com/products/15082', 'https://www.glowpick.com/products/15111', 'https://www.glowpick.com/products/116457', 'https://www.glowpick.com/products/15075', 'https://www.glowpick.com/products/95356', 'https://www.glowpick.com/products/116459', 'https://www.glowpick.com/products/590', 'https://www.glowpick.com/products/124990', 'https://www.glowpick.com/products/26431', 'https://www.glowpick.com/products/16887', 'https://www.glowpick.com/products/124996', 'https://www.glowpick.com/products/87195', 'https://www.glowpick.com/products/15109', 'https://www.glowpick.com/products/15062', 'https://www.glowpick.com/products/89176', 'https://www.glowpick.com/products/80366', 'https://www.glowpick.com/products/89859', 'https://www.glowpick.com/products/87895', 'https://www.glowpick.com/products/105499', 'https://www.glowpick.com/products/14555', 'https://www.glowpick.com/products/149527', 'https://www.glowpick.com/products/90872', 'https://www.glowpick.com/products/15099', 'https://www.glowpick.com/products/96241', 'https://www.glowpick.com/products/47361', 'https://www.glowpick.com/products/973', 'https://www.glowpick.com/products/15083', 'https://www.glowpick.com/products/97268', 'https://www.glowpick.com/products/15110', 'https://www.glowpick.com/products/15101', 'https://www.glowpick.com/products/43383', 'https://www.glowpick.com/products/90644', 'https://www.glowpick.com/products/79122', 'https://www.glowpick.com/products/15070', 'https://www.glowpick.com/products/57797', 'https://www.glowpick.com/products/52153', 'https://www.glowpick.com/products/94995', 'https://www.glowpick.com/products/103890', 'https://www.glowpick.com/products/26392', 'https://www.glowpick.com/products/136015', 'https://www.glowpick.com/products/199', 'https://www.glowpick.com/products/16858', 'https://www.glowpick.com/products/95036', 'https://www.glowpick.com/products/15079', 'https://www.glowpick.com/products/2590', 'https://www.glowpick.com/products/15087', 'https://www.glowpick.com/products/68377', 'https://www.glowpick.com/products/15066', 'https://www.glowpick.com/products/124992', 'https://www.glowpick.com/products/15102', 'https://www.glowpick.com/products/15060', 'https://www.glowpick.com/products/15100', 'https://www.glowpick.com/products/110112', 'https://www.glowpick.com/products/10697', 'https://www.glowpick.com/products/81217', 'https://www.glowpick.com/products/149065', 'https://www.glowpick.com/products/15095', 'https://www.glowpick.com/products/15071', 'https://www.glowpick.com/products/20744', 'https://www.glowpick.com/products/14610', 'https://www.glowpick.com/products/148097', 'https://www.glowpick.com/products/110346', 'https://www.glowpick.com/products/84742', 'https://www.glowpick.com/products/125316', 'https://www.glowpick.com/products/15061', 'https://www.glowpick.com/products/149977', 'https://www.glowpick.com/products/125847', 'https://www.glowpick.com/products/125846', 'https://www.glowpick.com/products/125363', 'https://www.glowpick.com/products/87898', 'https://www.glowpick.com/products/15091', 'https://www.glowpick.com/products/103748', 'https://www.glowpick.com/products/983', 'https://www.glowpick.com/products/143349', 'https://www.glowpick.com/products/125851', 'https://www.glowpick.com/products/125849', 'https://www.glowpick.com/products/119935', 'https://www.glowpick.com/products/102756', 'https://www.glowpick.com/products/92699', 'https://www.glowpick.com/products/72944', 'https://www.glowpick.com/products/16787', 'https://www.glowpick.com/products/595', 'https://www.glowpick.com/products/15104', 'https://www.glowpick.com/products/103750', 'https://www.glowpick.com/products/102516', 'https://www.glowpick.com/products/15078', 'https://www.glowpick.com/products/194', 'https://www.glowpick.com/products/96177', 'https://www.glowpick.com/products/39342', 'https://www.glowpick.com/products/16867', 'https://www.glowpick.com/products/15081', 'https://www.glowpick.com/products/136016', 'https://www.glowpick.com/products/193', 'https://www.glowpick.com/products/149090', 'https://www.glowpick.com/products/110139', 'https://www.glowpick.com/products/102830', 'https://www.glowpick.com/products/83431', 'https://www.glowpick.com/products/77246', 'https://www.glowpick.com/products/15103', 'https://www.glowpick.com/products/15094', 'https://www.glowpick.com/products/15064', 'https://www.glowpick.com/products/14521', 'https://www.glowpick.com/products/971', 'https://www.glowpick.com/products/81414', 'https://www.glowpick.com/products/96243', 'https://www.glowpick.com/products/88461', 'https://www.glowpick.com/products/589', 'https://www.glowpick.com/products/15105', 'https://www.glowpick.com/products/11480', 'https://www.glowpick.com/products/14471', 'https://www.glowpick.com/products/57793', 'https://www.glowpick.com/products/16783', 'https://www.glowpick.com/products/15106', 'https://www.glowpick.com/products/15108', 'https://www.glowpick.com/products/95991', 'https://www.glowpick.com/products/149645', 'https://www.glowpick.com/products/149062', 'https://www.glowpick.com/products/149054', 'https://www.glowpick.com/products/149049', 'https://www.glowpick.com/products/147309', 'https://www.glowpick.com/products/128839', 'https://www.glowpick.com/products/127301', 'https://www.glowpick.com/products/127300', 'https://www.glowpick.com/products/127299', 'https://www.glowpick.com/products/124285', 'https://www.glowpick.com/products/124283', 'https://www.glowpick.com/products/120738', 'https://www.glowpick.com/products/102517', 'https://www.glowpick.com/products/100083', 'https://www.glowpick.com/products/96245', 'https://www.glowpick.com/products/89467', 'https://www.glowpick.com/products/87896', 'https://www.glowpick.com/products/83225', 'https://www.glowpick.com/products/60042', 'https://www.glowpick.com/products/50785', 'https://www.glowpick.com/products/20761', 'https://www.glowpick.com/products/15097', 'https://www.glowpick.com/products/15096', 'https://www.glowpick.com/products/15093', 'https://www.glowpick.com/products/15092', 'https://www.glowpick.com/products/15088', 'https://www.glowpick.com/products/15084', 'https://www.glowpick.com/products/15080', 'https://www.glowpick.com/products/15072', 'https://www.glowpick.com/products/15068', 'https://www.glowpick.com/products/14364', 'https://www.glowpick.com/products/11561', 'https://www.glowpick.com/products/1465', 'https://www.glowpick.com/products/972', 'https://www.glowpick.com/products/14598', 'https://www.glowpick.com/products/96658', 'https://www.glowpick.com/products/15069', 'https://www.glowpick.com/products/592', 'https://www.glowpick.com/products/11490', 'https://www.glowpick.com/products/60026', 'https://www.glowpick.com/products/25044', 'https://www.glowpick.com/products/10970', 'https://www.glowpick.com/products/15107', 'https://www.glowpick.com/products/8', 'https://www.glowpick.com/products/103200', 'https://www.glowpick.com/products/7', 'https://www.glowpick.com/products/43044', 'https://www.glowpick.com/products/587', 'https://www.glowpick.com/products/1062', 'https://www.glowpick.com/products/68373', 'https://www.glowpick.com/products/198', 'https://www.glowpick.com/products/593', 'https://www.glowpick.com/products/9', 'https://www.glowpick.com/products/99698', 'https://www.glowpick.com/products/15077', 'https://www.glowpick.com/products/84743', 'https://www.glowpick.com/products/15098', 'https://www.glowpick.com/products/66833', 'https://www.glowpick.com/products/82735', 'https://www.glowpick.com/products/594', 'https://www.glowpick.com/products/15073', 'https://www.glowpick.com/products/14554', 'https://www.glowpick.com/products/1269', 'https://www.glowpick.com/products/586', 'https://www.glowpick.com/products/101645', 'https://www.glowpick.com/products/94826', 'https://www.glowpick.com/products/88641', 'https://www.glowpick.com/products/80150', 'https://www.glowpick.com/products/15086', 'https://www.glowpick.com/products/102515', 'https://www.glowpick.com/products/15063', 'https://www.glowpick.com/products/21375', 'https://www.glowpick.com/products/83226', 'https://www.glowpick.com/products/15065', 'https://www.glowpick.com/products/15089', 'https://www.glowpick.com/products/15085', 'https://www.glowpick.com/products/15067', 'https://www.glowpick.com/products/588', 'https://www.glowpick.com/products/142502', 'https://www.glowpick.com/products/142500', 'https://www.glowpick.com/products/142499', 'https://www.glowpick.com/products/102046', 'https://www.glowpick.com/products/15090']\n",
      "208\n",
      "------------------------------\n",
      "['키스키스 립스틱', '라 쁘띠 로브 느와르 오 드 퍼퓸 꾸뛰르', '아베이 로얄 데일리 리페어 세럼', '로르 래디언스 베이스', '아베이 로얄 더블 R 리뉴 앤 리페어 세럼', '란제리 드 뽀 파운데이션 [SPF20]', '블랑 드펄 에센스 인퓨즈드 브라이트닝 파운데이션 [SPF25/PA+++]', '키스키스 매트', '아쿠아 알레고리아 페라 그라니타 오 드 뚜왈렛', '키스키스 로즈립 밤', '수퍼 아쿠아 세럼', '메테오리트 보야지 익셉셔널 컴팩티드 펄 오브 파우더', '르썽씨엘 파운데이션 브러쉬', '레 브왈레뜨 트랜스루센트 루스 파우더', '란제리 드 뽀 쿠션 [SPF25/PA++]', '르썽씨엘 파운데이션 [SPF20]', '메테오리트 펄 일루미네이팅 파우더', '빠뤼르 골드 쿠션 [SPF25/PA++]', '블랑 드 펄 UV 베이스 [SPF30/PA+++]', '아베이 로얄 리페어링 허니 젤 마스크', '빠뤼르 골드 래디언스 파운데이션 [SPF30/PA+++]', '메테오리트 컴팩트 라이트 리빌링 파우더', '빠뤼르 골드 파우더 파운데이션 [SPF10/PA++]', '아베이 로얄 나이트 크림', '몽 겔랑 오드퍼퓸', '라 쁘띠 로브 느와르 오 드 뚜왈렛', '뜨뉘 드 퍼펙션 타임 프루프 파운데이션 [SPF20/PA+++]', '아베이 로얄 허니 넥타 로션', '루즈 G 립스틱', '메테오리트 아쿠아렐라 라이트 리빌링 펄 오브 파우더', '아베이 로얄 어드밴스드 유쓰 워터리 오일', '아쿠아 알레고리아 베르가못 칼라브리아', '샬리마 오 드 퍼퓸', '아베이 로얄 블랙 비 허니 밤', '맥시 래쉬 마스카라', '수퍼 아쿠아 인텐시브 마스크', '수퍼 아쿠아 토너', '레 브왈레뜨 컴팩트 파우더', '빠뤼르 컴팩트 파운데이션 [SPF20]', '샹제리제 오 드 뚜왈렛', '로즈 오 쥬 블러쉬', '오키드 임페리얼 크림', '팔레트 5 꿀뢰르', '블랑 드 펄 브라이트 앤 스컬프트 파운데이션 [SPF20/PA++]', '로즈 오 쥬 블러쉬 듀오', '오키드 임페리얼 익셉셔널 컴플리트 케어 더 마스크', '인텐스 리퀴드 매트', '블랑 드 펄 화이트 펄 유브이 베이스 라이트닝 [SPF30/PA+++]', '뿌드르 드 수와 일루미네이팅 파우더', '아쿠아 알레고리아 오렌지 쏠레이아', '에끄레 6 꿀뢰르 아이섀도우 팔레트', '메테오리트 라이트 리빌링 펄 오브 파우더', '아쿠아 알레고리아 헤르바 프레스카 오 드 뚜왈렛', '라 쁘띠 로브 느와르 바디 로션', '수퍼 아쿠아 컴포트 크림 [SPF10]', '수퍼 아쿠아 라이트 세럼', '아베이 로얄 골드 아이 테크 세럼', '아베이 로얄 프리페어링 토너', '빠뤼르 골드 미스트', '샹제리제 오 드 퍼퓸', '아베이 로얄 데이 크림 노멀 투 드라이 스킨', '엥솔랑스 오 드 뚜왈렛', '오키드 임페리얼 익셉셔널 컴플리트 케어 더 아이 앤 립 컨투어크림', '수퍼 아쿠아-크림 데이 젤', '오키드 나이트 리바이탈라이징 에센스', '아쿠아 알레고리아 플로라 살바지아 오 드 뚜왈렛', '블랑드 펄 화이트닝 펄 퍼펙션 토너', '블랑 드 펄 화이트 펄 퓨전 화이트닝 데이 앤 나이트 트리트먼트', '꼬끄 도르 퍼퓸드 쉬머 파우더 바디 & 헤어', '아쿠아-크림 데이 젤 스무딩 에이지-디파잉 하이드레이션 멀티-프로텍션', '아쿠아 알레고리아 만다린 바질릭 오 드 뚜왈렛', '키스키스 립스틱 스타 쉐이드', '라 쁘띠 로브 느와르 오 드 퍼퓸 인텐스', '아베이 로얄 스킨 디펜스 유쓰 프로텍션 [SPF50+/PA++++]', '아베이 로얄 데이 크림 노멀 투 콤비네이션 스킨', '아쿠아 알레고리아 네타레 디 쏠 오 드 뚜왈렛', '오키드 임페리얼 에센스 인 로션', '오키드 임페리얼 익셉셔널 컴플리트 케어 더 리치 클렌징 폼', '키스키스 리퀴드', '블랑 드 펄 에센스 인 로션', '블랑 드 펄 리프레싱 하이드레이팅 크림', '블랙 퍼펙토 바이 라 쁘띠 로브 느와르', '슈퍼아쿠아 스무딩 아이패치', '키스키스 텐더 매트', '오키드 임페리얼 리치크림', '오키드 임페리얼 브라이트닝 세럼', '루즈 G 매트', '테라코타 브론징 파우더', '메테오리트 베이비 글로우 터치', '코롱 뒤 68 오 드 뚜왈렛', '옴므 이데알 오 드 뚜왈렛', '옹브르 에끌라 아이프라이머', '메테오리트 펄 라이트-퍼펙팅 프라이머-화이트 부스터', '라 쁘띠 로브 느와르 오 드 퍼퓸 레제르', '아이라이너', '아베이 로얄 유쓰 트리트먼트', '콜 펜슬 아이라이너', '란제리 드 뽀 아쿠아 누드 [SPF20/PA++]', '오키드 임페리얼 파운데이션 [SPF25]', '더 아이브로우 펜슬', '수퍼 아쿠아 바디세럼', '아쿠아 알레고리아 그라나다 샐비어', '느와르 G 익셉셔널 컴플리트 마스카라', '아쿠아 알레고리아 로사 로싸 오 드 뚜왈렛', '오키드 임페리얼 익셉셔널 컴플리트케어 더 아이 세럼', '란제리 드 뽀 멀티 퍼펙팅 컨실러', '수플레 도르 드 샬리마', '레 델리스 드 뱅 퍼퓸드 샤워 젤', '샬리마 로 시 센슈얼', '아베이 로얄 너리싱 나이트 크림 인텐스 리스토링 리프트', '아베이 로얄 업-리프팅 아이케어', '수퍼 아쿠아 나이트 밤', '수퍼 아쿠아 데이 쿨링 페이셜 스틱', '미드나잇 시크릿', '블러링 액티브 베이스', '라 쁘띠 로브 느와르 립 치크 틴트', '메테오리트 트래블 터치 파우더', '더 아이 펜슬', '아쿠아 알레고리아 리몬 베르데 오드 뚜왈렛', '블랑 드 펄 어드밴스드 화이트 펄 드롭 화이트닝 에센스', '메테오리트 베이스', '란제리 드 뽀 누드 파우더 파운데이션 [SPF20/PA++]', '키스키스 립 리프트', '메테오리트 컴팩트 UV 쉴드 프레스드 파우더 [SPF35/PA+++]', '메테오리트 파우더 브러쉬', '라 쁘띠 로브 느와르 오 드 퍼퓸', '젠틀 폼 워시 퓨어 래디언스 클렌저', '블랑 드 펄 화이트 펄 액티브 리바이빙 클렌징 폼', '사틴 밀크 퓨어 래디언스 클렌저', '키스키스 내추럴 샤인 립스틱', '블랙 퍼펙토 바이 라 쁘띠 로브 느와르 오 드 뚜왈렛 플로랄', '루즈 쥐 드 겔랑 더 립스틱', '메테오리트 골든랜드 펄 파우더', '팔레트 골든랜드', '라르 뒤 트레 프레씨지옹 펠트 아이라이너', '프레셔스 라이트 리쥬버네이팅 일루미네이터', '아베이 로얄 비 글로우', '테라코타 썬 트리오', '쁘띠 겔랑 오드 뜨왈렛', '아이-스테이 프라이머', '더 파운데이션 브러쉬', '블랑 드 펄 로지 화이트닝 에센스', '프레셔스 라이트 핑크 펄리 일루미네이터', '라 쁘띠 로브 느와르 딜리셔슬리 샤이니 네일 컬러', '몽 익스클루시브 오드 퍼퓸', '페트루슈카 팔레트', '뿌르 옴므 오 드 뚜왈렛', '옴므 오 드 뚜왈렛', '아베이 로얄 넥 앤 데콜테 인텐스 리스토링 리프트 [SPF15]', '아베이 로얄 너리싱 데이 크림 인텐스 리스토링 리프트', '블랑 드 펄 매티파잉 하이드레이팅 에멀젼', '블랑 드 펄 더블 액션 스팟 이레이저', '라 쁘띠 로브 느와르 샤워 젤', '블랑 드 펄 화이트 펄 슬리핑 마스크 화이트닝 마스크', '옴므 애프터쉐이브 로션', '수퍼 아쿠아-크림 나이트 밤 에이지-디파잉 하이드레이션 포 인텐스 리커버리', '캄프레아 안티-블레미쉬 크림', '수퍼아쿠아 핸드 크림 [SPF15]', '수퍼 아쿠아 아이 세럼 옵티멈 하이드레이션 리바이탈라이저', '[단종]  아베이 로얄 페이스 트리트먼트 오일', '[단종]  아베이 로얄 유쓰 워터리 오일', '[단종]  란제리 드 뽀 인비져블 스킨 퓨전 파운데이션 [SPF20/PA+]', '[단종]  빠뤼르 골드 래디언스 파운데이션 [SPF30/PA+++]', '[단종]  맥시샤인 글로스', '[단종]  라 쁘띠 로브 느와르 딜리셔스 샤이니 립 컬러', '[단종]  메테오리트 베이비 글로우 [SPF25/PA++]', '[단종]  오키드 임페리얼 마스크', '[단종]  란제리 드 뽀 BB 크림 [SPF30/PA+++]', '[단종]  루즈 오토마띠끄', '[단종]  라 쁘띠 로브 느와르 립 컬러 잉크', '[단종]  겔랑 루즈 G 드 세리 느와르 쥬얼 립스틱 컴팩트', '[단종]  오키드 임페리얼 리치크림', '[단종]  메테오리트 크루얼 가드니아 일루미네이팅 이리디슨트 파우더', '[단종]  오키드 임페리얼 컨센트레이트', '[단종]  오 드 보떼 리프레싱 미셀라 솔루션 퓨어 래디언스 클렌저', '[단종]  에끄레 4 꿀뢰르', '[단종]  빠뤼르 뤼미에르 라이트-디퓨징 파운데이션', '[단종]  크렘 드 루즈 G', '[단종]  팔레트 골드 홀리데이 컬렉션', '[단종]  아이브로우 키트', '[단종]  라 쁘띠 로브 느와르 오 프레쉬 오 드 뚜왈렛', '[단종]  이딜 바디 로션', '[단종]  골드 오키드 UV 뷰티 프로텍터 [SPF50/PA+++]', '[단종]  메테오리트 펄 드 레전드 라이트 리빌링 펄 오브 파우더', '[단종]  메테오리트 펄 라이트 디퓨징 프라이머', '[단종]  블랑 드 펄 화이트 펄 클렌저 클렌징 폼', '[단종]  메테오리트 버블 블러쉬', '[단종]  뉴 제네레이션 오키드 임페리얼 익셉셔널 컴플리트 크림', '[단종]  로즈 오 쥬 듀오 블러셔', '[단종]  키스키스 글로스', '[단종]  오키드 임페리얼 플루이드', '[단종]  아쿠아-세럼 비비 하이드라 뷰티 밤 [SPF25/PA++]', '[단종]  오키드 임페리얼 익셉셔널 컴플리트 케어 - 넥 앤 데콜테 크림', '[단종]  스크레 드 퓨레떼 젠틀 폴리싱 엑스폴리에이터', '[단종]  메테오리트 골드 펄 파우더 홀리데이 콜렉션', '[단종]  스크레 드 퓨레떼 클렌징 크림', '[단종]  메테오리트 펄 에뚜왈 라이트 리빌링 펄 오브 파우더', '[단종]  에끄레 샬리마 프레셔스 아이섀도우', '[단종]  스크레 드 퓨레떼 클렌징 포밍 크림', '[단종]  블랑 드 펄 UV 쉴드 [SPF50/PA+++]', '[단종]  스크레 드 퓨레떼 클렌징 밀크', '[단종]  스크레 드 퓨레떼 아이&립 메이크업 리무버', '[단종]  프레셔스 라이트 리쥬버네이팅 일루미네이터', '[단종]  (2020 홀리데이 에디션) 루즈G 립스틱', '[단종]  (2020 홀리데이 에디션) 메테오리트 골든 비 펄 파우더', '[단종]  (2020 홀리데이 에디션) 팔레트 골든 비', '[단종]  퍼펙트 커브스 쉐이핑 세럼', '[단종]  블랑 드 펄 UV 프로텍트 스프레이 페이스 앤 바디 [SPF40/PA+++]']\n",
      "208\n",
      "------------------------------\n",
      "########################\n",
      "겟뉴스킨\n",
      "['https://www.glowpick.com/products/96339', 'https://www.glowpick.com/products/96353', 'https://www.glowpick.com/products/96354', 'https://www.glowpick.com/products/96352', 'https://www.glowpick.com/products/96340']\n",
      "5\n",
      "------------------------------\n",
      "['아사이베리 플로리스 포 컨트롤 스킨', '아사이베리 프로리스 포 컨트롤 크림', '아사이베리 플로리스 포 컨트롤 아이크림', '아사이베리 플로리스 포 컨트롤 에멀젼', '아사이베리 플로리스 포 컨트롤 에센스']\n",
      "5\n",
      "------------------------------\n",
      "########################\n",
      "겟츠\n",
      "['https://www.glowpick.com/products/141047', 'https://www.glowpick.com/products/150259', 'https://www.glowpick.com/products/150258']\n",
      "3\n",
      "------------------------------\n",
      "['프로 탈모샴푸', '그램 영양제', '프로 트리트먼트']\n",
      "3\n",
      "------------------------------\n",
      "########################\n",
      "결고은사람들\n",
      "['https://www.glowpick.com/products/47893', 'https://www.glowpick.com/products/49865']\n",
      "2\n",
      "------------------------------\n",
      "['어성초 크림', '[단종]  클렌징 오일']\n",
      "2\n",
      "------------------------------\n",
      "########################\n",
      "경남제약\n",
      "['https://www.glowpick.com/products/133177', 'https://www.glowpick.com/products/137298', 'https://www.glowpick.com/products/143834', 'https://www.glowpick.com/products/141458', 'https://www.glowpick.com/products/121585', 'https://www.glowpick.com/products/123204', 'https://www.glowpick.com/products/137306', 'https://www.glowpick.com/products/137294', 'https://www.glowpick.com/products/95502', 'https://www.glowpick.com/products/137310', 'https://www.glowpick.com/products/137303', 'https://www.glowpick.com/products/137300', 'https://www.glowpick.com/products/133179']\n",
      "13\n",
      "------------------------------\n",
      "['결콜라겐', '생유산균9C', '생 유산균 알파', '레모나 마스크 KF-AD', '결콜라겐 플러스', '결콜라겐&뮤신', '스트레스 케어', '생유산균7C', '칼로 스탑', '핸드 클린 손 소독제', '면역 부스터', '루테인 톡', '칼로-뷰티 콜라겐 1000']\n",
      "13\n",
      "------------------------------\n",
      "########################\n",
      "경동제약\n",
      "['https://www.glowpick.com/products/83100']\n",
      "1\n",
      "------------------------------\n",
      "['애니밴드(원형)']\n",
      "1\n",
      "------------------------------\n",
      "########################\n",
      "경인 플랙스\n",
      "['https://www.glowpick.com/products/141010', 'https://www.glowpick.com/products/141012']\n",
      "2\n",
      "------------------------------\n",
      "['황사 방역용 마스크 KF94', '황사 방역용 마스크 KF80']\n",
      "2\n",
      "------------------------------\n",
      "########################\n",
      "고귀한아름다움채\n",
      "['https://www.glowpick.com/products/84798', 'https://www.glowpick.com/products/84799']\n",
      "2\n",
      "------------------------------\n",
      "['어성초 황금비율 두피앰플', '지청 자양 샴푸액']\n",
      "2\n",
      "------------------------------\n",
      "########################\n",
      "고려생활건강\n",
      "['https://www.glowpick.com/products/116922']\n",
      "1\n",
      "------------------------------\n",
      "['티엠씨 에스 바']\n",
      "1\n",
      "------------------------------\n",
      "########################\n",
      "고려은단\n",
      "['https://www.glowpick.com/products/97645', 'https://www.glowpick.com/products/97642', 'https://www.glowpick.com/products/136636', 'https://www.glowpick.com/products/119132', 'https://www.glowpick.com/products/132840', 'https://www.glowpick.com/products/133149', 'https://www.glowpick.com/products/124959', 'https://www.glowpick.com/products/136625', 'https://www.glowpick.com/products/136638', 'https://www.glowpick.com/products/136620', 'https://www.glowpick.com/products/125152', 'https://www.glowpick.com/products/132970', 'https://www.glowpick.com/products/136617', 'https://www.glowpick.com/products/136631', 'https://www.glowpick.com/products/136629', 'https://www.glowpick.com/products/133152', 'https://www.glowpick.com/products/133145']\n",
      "17\n",
      "------------------------------\n",
      "['비타민C 1000', '비타민C 골드 플러스', '비타민C 1000 이지', '메가도스B', '메가도스 C3000', '퓨어 알티지 오메가3', '비타1000 마스크팩', '신바이오틱스', '다이어트 쉐이크', '루테인 지아잔틴 아스타잔틴', '비타미녀씨', '퓨어 밀크씨슬', '퓨어 루테인', '프리바이오틱스', '듀얼 플로라 프로바이오틱스', '알티지 오메가3', '퓨어 루테인 지아잔틴']\n",
      "17\n",
      "------------------------------\n",
      "########################\n",
      "고사리숲\n",
      "['https://www.glowpick.com/products/142765']\n",
      "1\n",
      "------------------------------\n",
      "['[단종]  꼬미 주니어 클렌징 폼']\n",
      "1\n",
      "------------------------------\n",
      "########################\n",
      "고세\n",
      "['https://www.glowpick.com/products/105811', 'https://www.glowpick.com/products/19476', 'https://www.glowpick.com/products/19488', 'https://www.glowpick.com/products/19402', 'https://www.glowpick.com/products/19396', 'https://www.glowpick.com/products/105805', 'https://www.glowpick.com/products/19398', 'https://www.glowpick.com/products/19401', 'https://www.glowpick.com/products/105809', 'https://www.glowpick.com/products/105808', 'https://www.glowpick.com/products/105807', 'https://www.glowpick.com/products/105806', 'https://www.glowpick.com/products/60667', 'https://www.glowpick.com/products/19490', 'https://www.glowpick.com/products/19489', 'https://www.glowpick.com/products/19487', 'https://www.glowpick.com/products/19486', 'https://www.glowpick.com/products/19485', 'https://www.glowpick.com/products/19479', 'https://www.glowpick.com/products/19478', 'https://www.glowpick.com/products/19477', 'https://www.glowpick.com/products/19473', 'https://www.glowpick.com/products/19472', 'https://www.glowpick.com/products/19471', 'https://www.glowpick.com/products/19470', 'https://www.glowpick.com/products/19469', 'https://www.glowpick.com/products/19468', 'https://www.glowpick.com/products/19467', 'https://www.glowpick.com/products/19466', 'https://www.glowpick.com/products/19465', 'https://www.glowpick.com/products/19458', 'https://www.glowpick.com/products/19416', 'https://www.glowpick.com/products/19413', 'https://www.glowpick.com/products/19412', 'https://www.glowpick.com/products/19411', 'https://www.glowpick.com/products/19408', 'https://www.glowpick.com/products/19405', 'https://www.glowpick.com/products/19404', 'https://www.glowpick.com/products/19403', 'https://www.glowpick.com/products/19400', 'https://www.glowpick.com/products/19397', 'https://www.glowpick.com/products/15900', 'https://www.glowpick.com/products/19493', 'https://www.glowpick.com/products/19492', 'https://www.glowpick.com/products/19464', 'https://www.glowpick.com/products/19417']\n",
      "46\n",
      "------------------------------\n",
      "['클리어턴 에센스 마스크팩 - 비타민 C', '쓰리버터스 립 밤', '에스프리끄 포밍 뷰티 리퀴드 UV 파운데이션 [SPF23/PA++]', '프레디아 스파에메르 헤드 스파클링 에센스', '모이스처 스킨 리페어 에센스', '클리어턴 에센스 마스크팩 - 히알루론산', '모이스처 스킨 리페어 아이 크림', '프레디아 스파에메르 G 세럼', '클리어턴 에센스 마스크팩 - 콜라겐', '클리어턴 에센스 마스크팩 - 프라센타', '클리어턴 에센스 마스크팩 - 코엔자임 Q10', '클리어턴 에센스 마스크팩 - 트라네키 삼산', '스펀지 크리너 EX', '에스프리끄 루스 페이스 파우더', '에스프리끄 뷰티플 스테이 팩트 UV [SPF22/PA++]', '에스프리끄 멀티 커버링 메이크업 베이스 [SPF23/PA++]', '에스프리끄 모이스트 메이크업 베이스 [SPF25/PA++]', '모이스처 에센스 FF', '쓰리버터스 페이스 앤 바디밤', '쓰리버터스 핸드 앤 네일케어 밤', '쓰리버터스 페이스 앤 바디로션', '퓨어 화이트 밀키로션 Light', '퓨어 화이트 크림', '퓨어 에센스 C', '퓨어 화이트 로션 Light', '바이탈 퓨어리티 크림', '바이탈 퓨어리티 밀키로션', '바이탈 퓨어리티 로션', '바이탈 퓨어리티 아이크림', '쓰리버터스 립 에센스', '백등 W 에센스', '프레디아 바이탈 스피리츠 EX', '프레디아 아이크림', '프레디아 모이스처라이져', '프레디아 시즈듀', '프레디아 더블유아르 세럼 AX', '프레디아 스파에메르 미네랄 로션 Ⅱ', '프레디아 스파에메르 모이스처라이저 Ⅰ', '프레디아 스파에메르 모이스처라이저 Ⅱ', '프레디아 화이트 바이탈루션', '모이스처 스킨 리페어 크림', '[단종]  퍼팩트 메이크업 리무버', '[단종]  마스카라 이지 리무버', '[단종]  마스카라 리무버 EX', '[단종]  코튼베일 미네랄 BB크림 [SPF22/PA++]', '[단종]  프레디아 선 프로텍터 EX [SPF50+/PA++]']\n",
      "46\n",
      "------------------------------\n",
      "########################\n",
      "고스트\n",
      "['https://www.glowpick.com/products/17148']\n",
      "1\n",
      "------------------------------\n",
      "['이클립스']\n",
      "1\n",
      "------------------------------\n",
      "########################\n",
      "갈랑트리\n",
      "['https://www.glowpick.com/products/99620', 'https://www.glowpick.com/products/99560', 'https://www.glowpick.com/products/109157', 'https://www.glowpick.com/products/124165', 'https://www.glowpick.com/products/99622', 'https://www.glowpick.com/products/99559']\n",
      "6\n",
      "------------------------------\n",
      "['워터 클리닉 헤어앰플', '스텝바이스텝 톤업 마스크팩', '프리미엄 링클키트', '인텐시브 샷 크림', '스텝바이스텝 모이스춰라이징 마스크팩', '[단종]  프리미엄 링클스팟 키트']\n",
      "6\n",
      "------------------------------\n",
      "########################\n",
      "갈리니\n",
      "['https://www.glowpick.com/products/126947', 'https://www.glowpick.com/products/126944', 'https://www.glowpick.com/products/126940', 'https://www.glowpick.com/products/126938', 'https://www.glowpick.com/products/126934', 'https://www.glowpick.com/products/126931', 'https://www.glowpick.com/products/126928', 'https://www.glowpick.com/products/126925', 'https://www.glowpick.com/products/126923', 'https://www.glowpick.com/products/126922', 'https://www.glowpick.com/products/126918']\n",
      "11\n",
      "------------------------------\n",
      "['하이드레이팅 페이스 크림', '페이스 비니거', '유스풀 세럼', '포밍 페이셜 클렌저', '바디 밀크', '케어 마스크', '스칼프 앤드 헤어 세럼', '수딩 클렌징 크림', '페이스 마스크 앤 스크럽', '핸드 크림', '클렌징 바']\n",
      "11\n",
      "------------------------------\n",
      "########################\n",
      "갈리마드\n",
      "['https://www.glowpick.com/products/20908', 'https://www.glowpick.com/products/85910', 'https://www.glowpick.com/products/25462', 'https://www.glowpick.com/products/20909', 'https://www.glowpick.com/products/17001']\n",
      "5\n",
      "------------------------------\n",
      "['보아 데 앙드 오 드 퍼퓸', '에비 오 드 뚜왈렛', '보아&통카 퍼퓸 스프레이', '바니유 앙상세 오 드 퍼퓸', '어벤처 오 드 뚜왈렛']\n",
      "5\n",
      "------------------------------\n",
      "########################\n",
      "감람나무\n",
      "['https://www.glowpick.com/products/131997']\n",
      "1\n",
      "------------------------------\n",
      "['바디 워시']\n",
      "1\n",
      "------------------------------\n",
      "########################\n",
      "갓스킨\n",
      "['https://www.glowpick.com/products/83003', 'https://www.glowpick.com/products/101338', 'https://www.glowpick.com/products/101339', 'https://www.glowpick.com/products/85955', 'https://www.glowpick.com/products/85958', 'https://www.glowpick.com/products/95098', 'https://www.glowpick.com/products/101520', 'https://www.glowpick.com/products/85956', 'https://www.glowpick.com/products/90773', 'https://www.glowpick.com/products/87244', 'https://www.glowpick.com/products/78284', 'https://www.glowpick.com/products/77054', 'https://www.glowpick.com/products/95373', 'https://www.glowpick.com/products/95372', 'https://www.glowpick.com/products/35091', 'https://www.glowpick.com/products/53009']\n",
      "16\n",
      "------------------------------\n",
      "['포무드 디어 아이즈 싱글 아이컬러', '포무드 판도라 핑크 쿠션 [SPF37/PA++]', '루크미 자몽 팩바디워시', '포무드 갓츄밤', '포무드 디어 아이즈 라스트픽스 아이라이너', '포무드 판도라 쿠션 블랙 에디션', '루크미 그린티듈라 진정 수분크림', '포무드 디어 아이즈 라스트픽스 마스카라', '루크미 영롱 부스팅 에센스', '루크미 백옥 톤업 크림', '포무드 갓츄 립벨벳', '[단종]  루크미 그린티 스크럽 폼', '[단종]  루크미 베리베리 천연수제비누', '[단종]  루크미 코코넛 천연수제비누', '[단종]  루크미 천연수제 자몽비누', '[단종]  루크미 몽슈슈 크림']\n",
      "16\n",
      "------------------------------\n",
      "########################\n",
      "갓트\n",
      "['https://www.glowpick.com/products/138874']\n",
      "1\n",
      "------------------------------\n",
      "['가루신이야']\n",
      "1\n",
      "------------------------------\n",
      "########################\n",
      "강남이스트\n",
      "['https://www.glowpick.com/products/123595', 'https://www.glowpick.com/products/123596', 'https://www.glowpick.com/products/123594', 'https://www.glowpick.com/products/126232', 'https://www.glowpick.com/products/131135', 'https://www.glowpick.com/products/130050']\n",
      "6\n",
      "------------------------------\n",
      "['투엑스 아쿠아 카밍 크림', '투엑스 아쿠아 카밍 세럼', '투엑스 아쿠아 리프팅 마스크', '투엑스 아쿠아 부스팅 토너', '마이 핸디 클렌저', '투엑스 아쿠아 인텐시브 크림']\n",
      "6\n",
      "------------------------------\n",
      "########################\n",
      "강블리\n",
      "['https://www.glowpick.com/products/108095', 'https://www.glowpick.com/products/145020', 'https://www.glowpick.com/products/131352', 'https://www.glowpick.com/products/129829', 'https://www.glowpick.com/products/121074', 'https://www.glowpick.com/products/128963', 'https://www.glowpick.com/products/94534', 'https://www.glowpick.com/products/94532']\n",
      "8\n",
      "------------------------------\n",
      "['제주 녹차 생기 마스크', '제주 콜라겐 탄탄 마스크', '제주 유채꿀 에센셜 앰플 세럼', '녹차 에센셜 클렌징 워터', '동백 커버 컨실러 [SPF30/PA++]', '플레인 화장솜', '알로에 베라 모이스처 에멀전', '알로에 90% 모이스처 토너']\n",
      "8\n",
      "------------------------------\n",
      "########################\n",
      "강서화학\n",
      "['https://www.glowpick.com/products/107031']\n",
      "1\n",
      "------------------------------\n",
      "['나인바']\n",
      "1\n",
      "------------------------------\n",
      "########################\n",
      "갤럭시본\n",
      "['https://www.glowpick.com/products/114803']\n",
      "1\n",
      "------------------------------\n",
      "['사틴쿠션 [SPF50+/PA+++]']\n",
      "1\n",
      "------------------------------\n",
      "########################\n",
      "갯츠맨\n",
      "['https://www.glowpick.com/products/27921', 'https://www.glowpick.com/products/27930', 'https://www.glowpick.com/products/27929', 'https://www.glowpick.com/products/27928', 'https://www.glowpick.com/products/27927', 'https://www.glowpick.com/products/27926', 'https://www.glowpick.com/products/27925', 'https://www.glowpick.com/products/27924', 'https://www.glowpick.com/products/27923', 'https://www.glowpick.com/products/27922', 'https://www.glowpick.com/products/27920', 'https://www.glowpick.com/products/27919', 'https://www.glowpick.com/products/27918', 'https://www.glowpick.com/products/27917']\n",
      "14\n",
      "------------------------------\n",
      "['하드 스타일링 왁스', '맨즈 아이크림', '리제너레이션 크림', '빅 모이스처 크림', '맨즈 타이트닝 에센스', '미스터 화이트닝 에센스', '오일프리 아쿠아 토너', '올인원 로션', '에너자이징 클린저', '스마트 워시 폼', '블래미쉬 커버 스틱', '미스터 썬 [SPF35/PA++]', '페이스업 세팅바', '오일 테핑 파우더']\n",
      "14\n",
      "------------------------------\n",
      "########################\n",
      "갸마르드\n",
      "['https://www.glowpick.com/products/27932', 'https://www.glowpick.com/products/6115', 'https://www.glowpick.com/products/6101', 'https://www.glowpick.com/products/27977', 'https://www.glowpick.com/products/27948', 'https://www.glowpick.com/products/18441', 'https://www.glowpick.com/products/6116', 'https://www.glowpick.com/products/6122', 'https://www.glowpick.com/products/27949', 'https://www.glowpick.com/products/27942', 'https://www.glowpick.com/products/16745', 'https://www.glowpick.com/products/11270', 'https://www.glowpick.com/products/6126', 'https://www.glowpick.com/products/6100', 'https://www.glowpick.com/products/6099', 'https://www.glowpick.com/products/27955', 'https://www.glowpick.com/products/27970', 'https://www.glowpick.com/products/11031', 'https://www.glowpick.com/products/27931', 'https://www.glowpick.com/products/123264', 'https://www.glowpick.com/products/123263', 'https://www.glowpick.com/products/123261', 'https://www.glowpick.com/products/35694', 'https://www.glowpick.com/products/27974', 'https://www.glowpick.com/products/27971', 'https://www.glowpick.com/products/27968', 'https://www.glowpick.com/products/27964', 'https://www.glowpick.com/products/27963', 'https://www.glowpick.com/products/27961', 'https://www.glowpick.com/products/27960', 'https://www.glowpick.com/products/27951', 'https://www.glowpick.com/products/27950', 'https://www.glowpick.com/products/27936', 'https://www.glowpick.com/products/27935', 'https://www.glowpick.com/products/11345', 'https://www.glowpick.com/products/6129', 'https://www.glowpick.com/products/6128', 'https://www.glowpick.com/products/6123', 'https://www.glowpick.com/products/6121', 'https://www.glowpick.com/products/6120', 'https://www.glowpick.com/products/6119', 'https://www.glowpick.com/products/6111', 'https://www.glowpick.com/products/6110', 'https://www.glowpick.com/products/6096', 'https://www.glowpick.com/products/27958', 'https://www.glowpick.com/products/27959', 'https://www.glowpick.com/products/27945', 'https://www.glowpick.com/products/27939', 'https://www.glowpick.com/products/27938', 'https://www.glowpick.com/products/6114', 'https://www.glowpick.com/products/6105', 'https://www.glowpick.com/products/6089', 'https://www.glowpick.com/products/6088', 'https://www.glowpick.com/products/6087']\n",
      "54\n",
      "------------------------------\n",
      "['리치 모이스춰라이징 크림', '워터', '모이스춰라이징 크림 마스크', '프로텍티브 샤워젤', '뉴트리션 립 밤 [스틱]', '나이트 세럼', '젠틀 수딩 로션', '퓨리파잉 포밍 워터', '뉴트리션 인텐스 립 밤 [튜브]', '화이트 세럼 에끌라', '젠틀 아이메이크업 리무버', '퓨어 페이셜 젤', '화이트 로션 에끌라', '모이스춰라이징 엘릭시어', '모이스춰라이징 로션', '토닝 로션 - 유칼립투스', '샴푸 두쉐르', '울트라 리치 모이스춰라이징 크림', '쏠레흐 오뜨 프로떽시옹 [SPF50/PA+++]', '소프트 바디 스크럽', '모이스춰라이징 라이트 플루이드', '뉴트리션 인텐스 젠틀 마스크', '젤 이지엔 앙띰', '젠틀 컨디셔너 [애프리콧씨드]', '스티뮬레이팅 로션', '바이탈리티 샴푸 [오렌지]', '리페어링 풋 크림', '너리싱 샴푸 [아카시아허니]', '글로잉 샴푸 [알로에베라]', '그린티 수딩 데오도란트', '쉐이빙 크림 델리키트 스킨&비어드', '소프트 페이셜 스크럽', '뉴트리션 인텐스 크림', '바디 밀크', '엑스폴리에이팅 풋 젤 스크럽', '화이트 스웽 에끌라 [데이 크림]', '화이트 스웽 에끌라 [나이트 크림]', '퓨리파잉&코렉팅 플루이드', '퓨리파잉 샴푸 [케이드 우드]', '토닝 샴푸 [페퍼민트]', '젠틀 클렌징 밀크', '애프터 쉐이브 모이스춰라이징 밤', '아이즈&립스 플루이드 컨투어', '데이&나이트 케어 크림', '[단종]  화이트 고마쥬 에끌라', '[단종]  BBB 크림 [SPF20/PA+++]', '[단종]  피토나그르 크림', '[단종]  울트라 소프트 페이셜 엑스폴리에이팅 젤', '[단종]  베이비 스무드니스 클렌징 젤', '[단종]  울트라 소프트 페이셜 클렌징 젤', '[단종]  블러썸 수딩 데오도란트', '[단종]  베이비 카밍 크림', '[단종]  베이비 스무드니스 클렌징 밀크', '[단종]  베이비 마사지 젤']\n",
      "54\n",
      "------------------------------\n",
      "########################\n",
      "갸스비\n",
      "['https://www.glowpick.com/products/1650', 'https://www.glowpick.com/products/1635', 'https://www.glowpick.com/products/1392', 'https://www.glowpick.com/products/17713', 'https://www.glowpick.com/products/127518', 'https://www.glowpick.com/products/17710', 'https://www.glowpick.com/products/17697', 'https://www.glowpick.com/products/17714', 'https://www.glowpick.com/products/17716', 'https://www.glowpick.com/products/148837', 'https://www.glowpick.com/products/17709', 'https://www.glowpick.com/products/93303', 'https://www.glowpick.com/products/975', 'https://www.glowpick.com/products/17704', 'https://www.glowpick.com/products/94424', 'https://www.glowpick.com/products/1336', 'https://www.glowpick.com/products/17695', 'https://www.glowpick.com/products/17694', 'https://www.glowpick.com/products/17700', 'https://www.glowpick.com/products/17715', 'https://www.glowpick.com/products/17698', 'https://www.glowpick.com/products/17717', 'https://www.glowpick.com/products/17699', 'https://www.glowpick.com/products/17708', 'https://www.glowpick.com/products/17706', 'https://www.glowpick.com/products/17696', 'https://www.glowpick.com/products/17701', 'https://www.glowpick.com/products/121494', 'https://www.glowpick.com/products/17711', 'https://www.glowpick.com/products/1393', 'https://www.glowpick.com/products/147701', 'https://www.glowpick.com/products/147699', 'https://www.glowpick.com/products/147698', 'https://www.glowpick.com/products/131618', 'https://www.glowpick.com/products/131587', 'https://www.glowpick.com/products/123226', 'https://www.glowpick.com/products/120677', 'https://www.glowpick.com/products/119147', 'https://www.glowpick.com/products/119136', 'https://www.glowpick.com/products/119135', 'https://www.glowpick.com/products/116295', 'https://www.glowpick.com/products/115051', 'https://www.glowpick.com/products/112989', 'https://www.glowpick.com/products/112987', 'https://www.glowpick.com/products/108310', 'https://www.glowpick.com/products/108309', 'https://www.glowpick.com/products/17712', 'https://www.glowpick.com/products/17707', 'https://www.glowpick.com/products/17705', 'https://www.glowpick.com/products/17703', 'https://www.glowpick.com/products/17702', 'https://www.glowpick.com/products/1427', 'https://www.glowpick.com/products/1357', 'https://www.glowpick.com/products/42036', 'https://www.glowpick.com/products/17721', 'https://www.glowpick.com/products/17723', 'https://www.glowpick.com/products/1185', 'https://www.glowpick.com/products/17719', 'https://www.glowpick.com/products/17720', 'https://www.glowpick.com/products/17718']\n",
      "60\n",
      "------------------------------\n",
      "['파우더 오일 클리어 페이퍼', '오일클리어 필름 - 회색', '무빙 락 스프레이 슈퍼하드', '스타일링 젤 슈퍼하드', '스타일 & 케어오일 내츄럴', '셋 앤 킵 수퍼하드 스프레이', '무빙러버 와일드 쉐이크', '스타일링 젤 웨트 & 하드', '스킨케어 워터', 'BB킵&오일컨트롤 페이퍼', '왁스킵 스프레이', '바디 헤어 트리머', '쉐이빙 폼', '퍼펙트 홀드 왁스 숏 하드', '헤어잼 엣지 뉘앙스', '모이스처라이징 로션', '헤어잼 스마트 뉘앙스', '헤어잼 타이트 뉘앙스', '무빙러버 에어 라이즈', '아이스 데오드란트 바디 페이퍼', '무빙러버 루즈 셔플', '스킨케어 아쿠아 크림', '무빙러버 쿨 웨트', '안티 락 스프레이 뉘앙스 홀드', '스타일링 울트라 하드 왁스', '헤어잼 러프 뉘앙스', '무빙러버 그란지 매트', '스타일링 스프레이 매트&하드', '수퍼하드 스타일링폼', '무빙러버 스파이키엣지', '훼이셜 세안 티슈 [아이스]', '훼이셜 세안 티슈 [슈퍼 리프레쉬]', '훼이셜 세안 티슈 [쿨]', '파우더 데오드란트 바디 페이퍼', '아이스 타입 데오드란트 스프레이', '헤어잼 플로우 뉘앙스', '스팟 데오도란트 롤 온', '파우더 데오드란트 스프레이', '샤워프레쉬 아쿠아머스크', '샤워프레쉬 오션시트러스', '샤워프레쉬 스위티아쿠아', '샤워프레쉬 샤이니블루', '무빙러버 에어 라이즈', '스타일링 매트 헤어왁스', '쉐이빙 젤 모이스트 타입', '쉐이빙 젤 쿨 타입', '스타일링 폼 웨트 & 하드', '스타일링 솔리드 울티메이트 홀드', '퍼펙트 홀드 왁스 미디엄 하드', '퍼펙트 홀드 왁스 엑스트라 하드', '트위스트&스파이키 스타일링 클레이 왁스', '퀵 무빙 워터 왁스 에어리 락', '밸런스 업 스킨', '[단종]  하이피치 딥 클렌징 오일', '[단종]  훼이셜 페이퍼', '[단종]  쉐이빙 젤', '[단종]  훼이셜 워시 퍼펙트 스크럽', '[단종]  훼이셜 워시 모이스쳐 폼', '[단종]  훼이셜 워시 EX 아이스 쿨링 젤', '[단종]  훼이셜 워시 엑스트라 휩']\n",
      "60\n",
      "------------------------------\n",
      "########################\n",
      "거다슈필만\n",
      "['https://www.glowpick.com/products/34313']\n",
      "1\n",
      "------------------------------\n",
      "['바이오폰드']\n",
      "1\n",
      "------------------------------\n",
      "########################\n",
      "건강한형제들\n",
      "['https://www.glowpick.com/products/137186', 'https://www.glowpick.com/products/137187', 'https://www.glowpick.com/products/137188']\n",
      "3\n",
      "------------------------------\n",
      "['19G 단백질 다이어트 쉑쉑프로틴 검은콩맛', '19G 단백질 다이어트 쉑쉑프로틴 카카오맛', '19G 단백질 다이어트 쉑쉑프로틴 고구마맛']\n",
      "3\n",
      "------------------------------\n",
      "########################\n",
      "건영크린텍\n",
      "['https://www.glowpick.com/products/140224', 'https://www.glowpick.com/products/140219', 'https://www.glowpick.com/products/141934', 'https://www.glowpick.com/products/140232', 'https://www.glowpick.com/products/140229', 'https://www.glowpick.com/products/140228', 'https://www.glowpick.com/products/140226', 'https://www.glowpick.com/products/140220']\n",
      "8\n",
      "------------------------------\n",
      "['KF94 황사방역 미세먼지 마스크 대형', 'KF80 황사마스크 대형', '위생사각마스크', 'KF80 황사사각마스크', 'KF94 3단 황사방역 미세먼지 마스크 소형', 'KF94 3단 황사방역 미세먼지 마스크 대형', 'KF94 황사방역 미세먼지 마스크 소형', 'KF80 황사마스크 소형']\n",
      "8\n",
      "------------------------------\n",
      "########################\n",
      "걸 드 프로방스\n",
      "['https://www.glowpick.com/products/34180', 'https://www.glowpick.com/products/34142', 'https://www.glowpick.com/products/34178']\n",
      "3\n",
      "------------------------------\n",
      "['NO.4 위스테리아 우먼 오 드 퍼퓸', 'NO.1 릴리 매그놀리아 우먼 오 드 퍼퓸', 'NO.7 델피니움 오 드 퍼퓸']\n",
      "3\n",
      "------------------------------\n",
      "########################\n",
      "걸리걸\n",
      "['https://www.glowpick.com/products/146039', 'https://www.glowpick.com/products/146038', 'https://www.glowpick.com/products/146037', 'https://www.glowpick.com/products/146036']\n",
      "4\n",
      "------------------------------\n",
      "['인생샷 건질걸', '반해버릴걸', '더 예뻐질걸', '거울만 보게될걸']\n",
      "4\n",
      "------------------------------\n",
      "########################\n",
      "검염\n",
      "['https://www.glowpick.com/products/138104']\n",
      "1\n",
      "------------------------------\n",
      "['비오틴 구미젤리']\n",
      "1\n",
      "------------------------------\n",
      "########################\n",
      "게리쏭\n",
      "['https://www.glowpick.com/products/25587', 'https://www.glowpick.com/products/33343', 'https://www.glowpick.com/products/76996', 'https://www.glowpick.com/products/75542', 'https://www.glowpick.com/products/98300', 'https://www.glowpick.com/products/73045', 'https://www.glowpick.com/products/107746', 'https://www.glowpick.com/products/75541', 'https://www.glowpick.com/products/115391', 'https://www.glowpick.com/products/102012', 'https://www.glowpick.com/products/102010', 'https://www.glowpick.com/products/77554', 'https://www.glowpick.com/products/79003', 'https://www.glowpick.com/products/100878', 'https://www.glowpick.com/products/68417', 'https://www.glowpick.com/products/84832', 'https://www.glowpick.com/products/82613', 'https://www.glowpick.com/products/100877', 'https://www.glowpick.com/products/57673', 'https://www.glowpick.com/products/75540', 'https://www.glowpick.com/products/82614', 'https://www.glowpick.com/products/80249', 'https://www.glowpick.com/products/100876', 'https://www.glowpick.com/products/82615', 'https://www.glowpick.com/products/77004']\n",
      "25\n",
      "------------------------------\n",
      "['9컴플렉스 크림(마유 크림)', '9컴플렉스 에센스', '딜라이트 크림', '올 스테이지 원 팩', '리얼 스킨 베리어 멀티 밤', '마유 하이드로겔 황금 마스크 팩', '스템세라 리뉴 크림', '9컴플렉스 로션', '타임쉴드 쿠션 팩트 [SPF50+/PA+++]', '에센셜 립밤 - 로즈', '에센셜 립밤 - 퓨어', '멀티 코렉티브 아이크림', '멀티 얼반 프로텍터 [SPF32/PA++]', '스퀴징 후르츠 핸드크림 - 포도', '클레어스 센텔라 연고', '시그니처 오일 세럼', '레드 진생 크림', '스퀴징 후르츠 핸드크림 - 복숭아', '9컴플렉스 스킨', '맨즈 원', '레드 진생 스킨 에센스', '스킨 릴리프 클렌징 폼', '스퀴징 후르츠 핸드크림 - 망고', '레드 진생 아이크림', '[단종]  마유 솝']\n",
      "25\n",
      "------------------------------\n",
      "########################\n",
      "고원\n",
      "['https://www.glowpick.com/products/111322', 'https://www.glowpick.com/products/111323', 'https://www.glowpick.com/products/111321']\n",
      "3\n",
      "------------------------------\n",
      "['발효 다슬 에센스', '호랑이 수딩젤', '호랑이 스킨토너']\n",
      "3\n",
      "------------------------------\n",
      "########################\n",
      "고위드\n",
      "['https://www.glowpick.com/products/114604']\n",
      "1\n",
      "------------------------------\n",
      "['깔라만시 샤워 페이스팩']\n",
      "1\n",
      "------------------------------\n",
      "########################\n",
      "고위드미\n",
      "['https://www.glowpick.com/products/78676', 'https://www.glowpick.com/products/78674', 'https://www.glowpick.com/products/78673', 'https://www.glowpick.com/products/107010', 'https://www.glowpick.com/products/78671', 'https://www.glowpick.com/products/78670']\n",
      "6\n",
      "------------------------------\n",
      "['아이스 선 쿠션', '[단종]  프로 내츄럴 선스틱 [SPF50+/PA+++]', '[단종]  원터치 UV 선 파우더 [SPF45/PA+++]', '[단종]  UV 쉴드 포쁠 선크림 [SPF50+/PA++++]', '[단종]  액티브 멀티 액션 선로션 [SPF50+/PA+++]', '[단종]  빅토리리그 선 스프레이 [SPF50+/PA+++]']\n",
      "6\n",
      "------------------------------\n",
      "########################\n",
      "고유에\n",
      "['https://www.glowpick.com/products/39651', 'https://www.glowpick.com/products/110365', 'https://www.glowpick.com/products/26735', 'https://www.glowpick.com/products/70945', 'https://www.glowpick.com/products/115387', 'https://www.glowpick.com/products/73017', 'https://www.glowpick.com/products/102132', 'https://www.glowpick.com/products/110368']\n",
      "8\n",
      "------------------------------\n",
      "['울트라 리프팅 앰플', '프로덤 골드 실크 마스크', '앱솔루트 리프팅 앰플 마스크', '하이드라 시크릿 볼륨 크림', '볼륨커버 앰플 쿠션 [SPF50+/PA++++]', '앱솔루트 리프팅 트리트먼트 에너지 미스트', '콘센트레이트 리뉴얼 오로라 픽스 크림', '화이트닝 앰플 쿠션 [SPF50+/PA++++]']\n",
      "8\n",
      "------------------------------\n",
      "########################\n",
      "고은재\n",
      "['https://www.glowpick.com/products/74612', 'https://www.glowpick.com/products/74613', 'https://www.glowpick.com/products/74608', 'https://www.glowpick.com/products/74616', 'https://www.glowpick.com/products/121589', 'https://www.glowpick.com/products/121587', 'https://www.glowpick.com/products/74827', 'https://www.glowpick.com/products/74825', 'https://www.glowpick.com/products/74823', 'https://www.glowpick.com/products/74807', 'https://www.glowpick.com/products/74791', 'https://www.glowpick.com/products/74764', 'https://www.glowpick.com/products/74635', 'https://www.glowpick.com/products/74634', 'https://www.glowpick.com/products/74629', 'https://www.glowpick.com/products/74625', 'https://www.glowpick.com/products/74821', 'https://www.glowpick.com/products/74622', 'https://www.glowpick.com/products/74621', 'https://www.glowpick.com/products/74762', 'https://www.glowpick.com/products/74853', 'https://www.glowpick.com/products/74851', 'https://www.glowpick.com/products/74849', 'https://www.glowpick.com/products/74847', 'https://www.glowpick.com/products/74844', 'https://www.glowpick.com/products/74842', 'https://www.glowpick.com/products/74840', 'https://www.glowpick.com/products/74838', 'https://www.glowpick.com/products/74835', 'https://www.glowpick.com/products/74834', 'https://www.glowpick.com/products/74830', 'https://www.glowpick.com/products/74819', 'https://www.glowpick.com/products/74817', 'https://www.glowpick.com/products/74816', 'https://www.glowpick.com/products/74815', 'https://www.glowpick.com/products/74813', 'https://www.glowpick.com/products/74811', 'https://www.glowpick.com/products/74809', 'https://www.glowpick.com/products/74808', 'https://www.glowpick.com/products/74805', 'https://www.glowpick.com/products/74803', 'https://www.glowpick.com/products/74801', 'https://www.glowpick.com/products/74796', 'https://www.glowpick.com/products/74793', 'https://www.glowpick.com/products/74792', 'https://www.glowpick.com/products/74788', 'https://www.glowpick.com/products/74786', 'https://www.glowpick.com/products/74783', 'https://www.glowpick.com/products/74782', 'https://www.glowpick.com/products/74781', 'https://www.glowpick.com/products/74780', 'https://www.glowpick.com/products/74778', 'https://www.glowpick.com/products/74777', 'https://www.glowpick.com/products/74774', 'https://www.glowpick.com/products/74773', 'https://www.glowpick.com/products/74771', 'https://www.glowpick.com/products/74770', 'https://www.glowpick.com/products/74769', 'https://www.glowpick.com/products/74767', 'https://www.glowpick.com/products/74638', 'https://www.glowpick.com/products/74637', 'https://www.glowpick.com/products/74636', 'https://www.glowpick.com/products/74633', 'https://www.glowpick.com/products/74631', 'https://www.glowpick.com/products/74630', 'https://www.glowpick.com/products/74628', 'https://www.glowpick.com/products/74627', 'https://www.glowpick.com/products/74626', 'https://www.glowpick.com/products/74624', 'https://www.glowpick.com/products/74623', 'https://www.glowpick.com/products/74620', 'https://www.glowpick.com/products/74619', 'https://www.glowpick.com/products/74618', 'https://www.glowpick.com/products/74615', 'https://www.glowpick.com/products/74610']\n",
      "75\n",
      "------------------------------\n",
      "['약산성 어성초 비누', '민트헤나 샴푸바', '막걸리 비누', '로즈클레이 로즈힙 비누', '약산성 노니 비누', '약산성 창포민트 샴푸바', '누에똥타마누(잠사) 비누', '죽력 티트리 비누', '토르마린 스킨케어 비누', '타마누 비누', '라벤더 비누', '산양유 쿠쿠이넛', '윈터그린 샤워바 비누', '약산성 모로코 아르간 비누', '아보카도 요거트 비누', '슬림스킨 케어', '[단종]  쑥 비누', '[단종]  사해 머드 비누', '[단종]  실크누에 비누', '[단종]  녹차 비누', '[단종]  대나무숙성 녹차 비누', '[단종]  대나무숙성 동백 비누', '[단종]  대나무숙성 마카다미아 비누', '[단종]  대나무숙성 막걸리 비누', '[단종]  대나무숙성 사해머드 비누', '[단종]  대나무숙성 산양유 비누', '[단종]  대나무숙성 시어버터 비누', '[단종]  대나무숙성 아보카도 비누', '[단종]  대나무숙성 자운고 비누', '[단종]  대나무숙성 진주 비누', '[단종]  대나무숙성 홍삼 비누', '[단종]  레몬 클렌징 비누', '[단종]  호호바밀 스크럽 비누', '[단종]  스피루리나 비누', '[단종]  일라이트 비누', '[단종]  블랙 클레이 비누', '[단종]  프로폴리스 허니', '[단종]  씨벅턴&시어버터 비누', '[단종]  해초 비누', '[단종]  클로렐라 비누', '[단종]  토코페롤 비누', '[단종]  가슬 비누', '[단종]  그린팜 비누', '[단종]  경옥고 비누', '[단종]  님 비누', '[단종]  로얄제리 비누', '[단종]  자운고 비누', '[단종]  숯&유황 비누', '[단종]  자음단 비누', '[단종]  칡 비누', '[단종]  콜라겐 비누', '[단종]  장뇌산삼 비누', '[단종]  진주 비누', '[단종]  오트밀 비누', '[단종]  와송 비누', '[단종]  알부틴 비누', '[단종]  라벤더 버터 수분 비누', '[단종]  에그 알부민 비누', '[단종]  올리브 스쿠알렌 비누', '[단종]  블루베리 요거트 비누', '[단종]  황토 비누', '[단종]  달팽이 비누', '[단종]  로즈힙 비누', '[단종]  한방 화이트닝 비누', '[단종]  흑설탕 스크럽 비누', '[단종]  홍삼 비누', '[단종]  로즈클레이 비누', '[단종]  공진향 비누', '[단종]  초유 비누', '[단종]  불가리안 로즈 비누', '[단종]  알로에 비누', '[단종]  대나무숙성 햄프시드 비누', '[단종]  무숙성 올리브 비누', '[단종]  시어버터 비누', '[단종]  인디고 비누']\n",
      "75\n",
      "------------------------------\n",
      "########################\n",
      "고혼진\n",
      "['https://www.glowpick.com/products/58613']\n",
      "1\n",
      "------------------------------\n",
      "['뉴트리션 크림']\n",
      "1\n",
      "------------------------------\n",
      "########################\n",
      "골드쉐이프\n",
      "['https://www.glowpick.com/products/85841']\n",
      "1\n",
      "------------------------------\n",
      "['페이스 슬리밍 크림']\n",
      "1\n",
      "------------------------------\n",
      "########################\n",
      "골든 허브\n",
      "['https://www.glowpick.com/products/136989', 'https://www.glowpick.com/products/136997', 'https://www.glowpick.com/products/137990', 'https://www.glowpick.com/products/137856', 'https://www.glowpick.com/products/136988', 'https://www.glowpick.com/products/136986']\n",
      "6\n",
      "------------------------------\n",
      "['콜라겐 플러스업', '석류콜라겐 젤리스틱', '레몬밤추출분말', '프리미엄 새싹보리 착즙분말', '초 저분자 뷰티 콜라겐 씨', '초 저분자 피쉬콜라겐 펩타이드']\n",
      "6\n",
      "------------------------------\n",
      "########################\n",
      "골든트리\n",
      "['https://www.glowpick.com/products/104436']\n",
      "1\n",
      "------------------------------\n",
      "['닥터유 프리미엄 슈퍼 바이탈 EGF 크림']\n",
      "1\n",
      "------------------------------\n",
      "########################\n",
      "공미\n",
      "['https://www.glowpick.com/products/95515', 'https://www.glowpick.com/products/95514']\n",
      "2\n",
      "------------------------------\n",
      "['로즈 비타민 마스크', '발효 쌀겨 에센스 마스크']\n",
      "2\n",
      "------------------------------\n",
      "########################\n",
      "공스킨\n",
      "['https://www.glowpick.com/products/112940', 'https://www.glowpick.com/products/112944', 'https://www.glowpick.com/products/112946', 'https://www.glowpick.com/products/112947', 'https://www.glowpick.com/products/112945', 'https://www.glowpick.com/products/143390', 'https://www.glowpick.com/products/150705', 'https://www.glowpick.com/products/125817', 'https://www.glowpick.com/products/112941', 'https://www.glowpick.com/products/112948']\n",
      "10\n",
      "------------------------------\n",
      "['플래티넘 온 스킨 마스크팩', '안티스트레스 3D 카밍크림', '24K 골드 펩타이드 앰플', '리얼벨벳 쿠션 내츄럴 베이지', '스타일리쉬 매트 립 컬러', '다이아몬드 온 스킨 마스크팩', '피치 피누', '골드 코팩', '골드 온 스킨 마스크팩', '[단종]  미스터리 투명비누']\n",
      "10\n",
      "------------------------------\n",
      "########################\n",
      "공일오\n",
      "['https://www.glowpick.com/products/123258']\n",
      "1\n",
      "------------------------------\n",
      "['슬리핑 팩 포 모이스처라이징 스킨(015 얼라이브)']\n",
      "1\n",
      "------------------------------\n",
      "########################\n",
      "과일나라\n",
      "['https://www.glowpick.com/products/77061', 'https://www.glowpick.com/products/27995', 'https://www.glowpick.com/products/84940', 'https://www.glowpick.com/products/122392', 'https://www.glowpick.com/products/28016', 'https://www.glowpick.com/products/67493', 'https://www.glowpick.com/products/83257', 'https://www.glowpick.com/products/92891', 'https://www.glowpick.com/products/18671', 'https://www.glowpick.com/products/84638', 'https://www.glowpick.com/products/84636', 'https://www.glowpick.com/products/94653', 'https://www.glowpick.com/products/74282', 'https://www.glowpick.com/products/83256', 'https://www.glowpick.com/products/84934', 'https://www.glowpick.com/products/67501', 'https://www.glowpick.com/products/57209', 'https://www.glowpick.com/products/124950', 'https://www.glowpick.com/products/115285', 'https://www.glowpick.com/products/76562', 'https://www.glowpick.com/products/76561', 'https://www.glowpick.com/products/99532', 'https://www.glowpick.com/products/84703', 'https://www.glowpick.com/products/83259', 'https://www.glowpick.com/products/87904', 'https://www.glowpick.com/products/85057', 'https://www.glowpick.com/products/76565', 'https://www.glowpick.com/products/48449', 'https://www.glowpick.com/products/147458', 'https://www.glowpick.com/products/145784', 'https://www.glowpick.com/products/85054', 'https://www.glowpick.com/products/84939', 'https://www.glowpick.com/products/84936', 'https://www.glowpick.com/products/84620', 'https://www.glowpick.com/products/84598', 'https://www.glowpick.com/products/81381', 'https://www.glowpick.com/products/22334', 'https://www.glowpick.com/products/48277', 'https://www.glowpick.com/products/114361', 'https://www.glowpick.com/products/92835', 'https://www.glowpick.com/products/84637', 'https://www.glowpick.com/products/113749', 'https://www.glowpick.com/products/84640', 'https://www.glowpick.com/products/145790', 'https://www.glowpick.com/products/84941', 'https://www.glowpick.com/products/84806', 'https://www.glowpick.com/products/84803', 'https://www.glowpick.com/products/84722', 'https://www.glowpick.com/products/84708', 'https://www.glowpick.com/products/84701', 'https://www.glowpick.com/products/22329', 'https://www.glowpick.com/products/18673', 'https://www.glowpick.com/products/109462', 'https://www.glowpick.com/products/84624', 'https://www.glowpick.com/products/18672', 'https://www.glowpick.com/products/116717', 'https://www.glowpick.com/products/123179', 'https://www.glowpick.com/products/122041', 'https://www.glowpick.com/products/110414', 'https://www.glowpick.com/products/108090', 'https://www.glowpick.com/products/84942', 'https://www.glowpick.com/products/84935', 'https://www.glowpick.com/products/84712', 'https://www.glowpick.com/products/57145', 'https://www.glowpick.com/products/48445', 'https://www.glowpick.com/products/47409', 'https://www.glowpick.com/products/22335', 'https://www.glowpick.com/products/84704', 'https://www.glowpick.com/products/76564', 'https://www.glowpick.com/products/27994', 'https://www.glowpick.com/products/84615', 'https://www.glowpick.com/products/76563', 'https://www.glowpick.com/products/84718', 'https://www.glowpick.com/products/84582', 'https://www.glowpick.com/products/88481', 'https://www.glowpick.com/products/84616', 'https://www.glowpick.com/products/87257', 'https://www.glowpick.com/products/100330', 'https://www.glowpick.com/products/86166', 'https://www.glowpick.com/products/67509', 'https://www.glowpick.com/products/57201', 'https://www.glowpick.com/products/148479', 'https://www.glowpick.com/products/148477', 'https://www.glowpick.com/products/148473', 'https://www.glowpick.com/products/148457', 'https://www.glowpick.com/products/113718', 'https://www.glowpick.com/products/113227', 'https://www.glowpick.com/products/113226', 'https://www.glowpick.com/products/92893', 'https://www.glowpick.com/products/84938', 'https://www.glowpick.com/products/84937', 'https://www.glowpick.com/products/84807', 'https://www.glowpick.com/products/84805', 'https://www.glowpick.com/products/84804', 'https://www.glowpick.com/products/84802', 'https://www.glowpick.com/products/84801', 'https://www.glowpick.com/products/84719', 'https://www.glowpick.com/products/84717', 'https://www.glowpick.com/products/84716', 'https://www.glowpick.com/products/84711', 'https://www.glowpick.com/products/84710', 'https://www.glowpick.com/products/84709', 'https://www.glowpick.com/products/84707', 'https://www.glowpick.com/products/84706', 'https://www.glowpick.com/products/84705', 'https://www.glowpick.com/products/84702', 'https://www.glowpick.com/products/84700', 'https://www.glowpick.com/products/84699', 'https://www.glowpick.com/products/84698', 'https://www.glowpick.com/products/84639', 'https://www.glowpick.com/products/84623', 'https://www.glowpick.com/products/84621', 'https://www.glowpick.com/products/84619', 'https://www.glowpick.com/products/84617', 'https://www.glowpick.com/products/84613', 'https://www.glowpick.com/products/84612', 'https://www.glowpick.com/products/84611', 'https://www.glowpick.com/products/84610', 'https://www.glowpick.com/products/84609', 'https://www.glowpick.com/products/84607', 'https://www.glowpick.com/products/84606', 'https://www.glowpick.com/products/84605', 'https://www.glowpick.com/products/84603', 'https://www.glowpick.com/products/84602', 'https://www.glowpick.com/products/84601', 'https://www.glowpick.com/products/84600', 'https://www.glowpick.com/products/84587', 'https://www.glowpick.com/products/84586', 'https://www.glowpick.com/products/84584', 'https://www.glowpick.com/products/84583', 'https://www.glowpick.com/products/83265', 'https://www.glowpick.com/products/83263', 'https://www.glowpick.com/products/64041', 'https://www.glowpick.com/products/59351', 'https://www.glowpick.com/products/28029', 'https://www.glowpick.com/products/28028', 'https://www.glowpick.com/products/28027', 'https://www.glowpick.com/products/28025', 'https://www.glowpick.com/products/28023', 'https://www.glowpick.com/products/28003', 'https://www.glowpick.com/products/28002', 'https://www.glowpick.com/products/28001', 'https://www.glowpick.com/products/27996', 'https://www.glowpick.com/products/22336', 'https://www.glowpick.com/products/22333', 'https://www.glowpick.com/products/22332', 'https://www.glowpick.com/products/22331', 'https://www.glowpick.com/products/85052', 'https://www.glowpick.com/products/94455', 'https://www.glowpick.com/products/83261', 'https://www.glowpick.com/products/75646', 'https://www.glowpick.com/products/83335', 'https://www.glowpick.com/products/148372', 'https://www.glowpick.com/products/113716', 'https://www.glowpick.com/products/92874', 'https://www.glowpick.com/products/92872', 'https://www.glowpick.com/products/74978', 'https://www.glowpick.com/products/92871', 'https://www.glowpick.com/products/55597', 'https://www.glowpick.com/products/22119', 'https://www.glowpick.com/products/99155', 'https://www.glowpick.com/products/84349']\n",
      "162\n",
      "------------------------------\n",
      "['알로에베라 모이스처 아쿠아 수딩젤', '알로에베라 모이스처 리얼 수딩젤 미스트', '피부가 마시는 바나나 우유 바디 클렌저', '얌디저트 꽃복숭아 핸드크림', '리치 모이스처 올리브 핸드크림', '블루베리 핸드 에센스', '바세린 모이스처 핸드 앤 네일 에센스 크림', '퓨어 시크릿워시 포근한 베이비향', '에더블 블룸퍼플오렌지 핸드크림', '컨퓸 아르간 트리트먼트 스무딩 헤어 에센스', '컨퓸 아르간 골드 헤어팩', '수분 가득한 딸기 핸드크림', '아르간 트리트먼트 오리지널', '바세린 센서티브 앤 모이스처 바디로션', '알로에베라 모이스처 리얼 수딩젤', '아보카도 핸드 에센스', '컨퓸 투페이스 트리트먼트', '더스트 제로 스칼프 헤어팩', '바디프랜 클래식 보르도 와인 바디케어 세트', '제주 자연의 유채꿀 마스크', '제주 자연의 화산재 마스크', '아르간 세라마이드 LPP 헤어팩', '컨퓸 향기주는 워터에센스(흰장미향)', '바세린 모이스처 풋 에센스 크림', '비쥬 드로잉 핸드크림 퓨리티', '첫물녹차 컨트롤 마사지 크림', '컨퓸 아르간 LPP 트리트먼트 린', '허브 테라피 딥 모이스처 샴푸', '바세린 모이스처 EX 핸드 앤 네일 에센스 크림', '알로에베라 모이스처 아쿠아 수딩 젤 미스트', '첫물녹차 퓨리파잉 필 오프 팩', '비쥬 드로잉 핸드크림 엘레강스', '비쥬 드로잉 핸드크림 러브썸', '제주 화산섬에 핀 수선화 마스크', '터치테라피 아르간 토탈솔루션', '컨퓸 바오밥 트리트먼트 헤어팩', '컨퓸 딥 리페어 에센스', '컨퓸 향기주는 워터 에센스(은은한 비누향)', '캐모마일 쉐어버터 풋크림', '아르간 트리트먼트 퍼퓸 케어 오일', '컨퓸 아르간 컬앤볼륨 헤어팩', '탐나는 복숭아 바디 미스트', '컨퓸 아르간 트리트먼트 헤어 앰플', '알로에베라 모이스처 아쿠아 수딩젤', '피부가 마시는 바나나 우유 바디 로션', '바디프랜 바닐라 밀크 바디로션', '바디프랜 바닐라 밀크 샤워젤', '로즈힙 퍼퓸 헤어 트리트먼트', '컨퓸 아르간 트리트먼트 스프레이', '컨퓸 트리트먼트 워터에센스', '퓨어템 퓨어베라 스킨', '에더블 블룸레드핑크 핸드크림', '세안이야기 알로에 딥 클렌징 폼', '컨퓸 아르간 헤어 샴푸', '에더블 블룸화이트옐로우 핸드크림', '캐모마일 쉐어버터 핸드크림', '더스트 제로 블랙 클렌징 폼', '더스트 제로 블랙바디 필링 미스트', '탐나는 복숭아 바디 스크럽 워시', '제주 자연의 차콜 코팩', '피부가 마시는 바나나 우유 핸드크림', '비쥬 드로잉 핸드크림 챠밍', '컨퓸 토탈헤어 쿨 샴푸', '본체청정 연 네일 에나멜 리무버', '허브 테라피 딥 모이스처 린스', '바디프랜 러블리 핑크플라워 퍼퓸바디클렌저', '터치테라피 이너 포밍 클렌저', '헤어 밀키로션', '제주 자연의 녹차 마스크', '에코에니어 아르간 모이스처 바디오일', '터치테라피 카카오 깔끔 코팩', '제주 자연의 알로에 마스크', '먹물 헤어칼라 블랙빈', '효연 자양크림', '퍼퓸 러브 핸드크림 바이 시트러스', '터치테라피 카카오 시트 코팩', '리치 핸드 트리트먼트', '꿀 먹은 바나나 핸드 크림', '내 손 가득 여린 씨앗 핸드크림', '핑크피치 핸드 에센스', '컨퓸 슈퍼하드 워터 스프레이', '세안이야기 곡물 메이크업 딥 클렌징티슈', '첫물녹차 딥 클렌징 오일', '첫물녹차 모이스트 클렌징 폼', '첫물녹차 프레시 클렌징 크림', '쾌청지수 리얼 프레시 바다포도 클렌징폼', '컨퓸 큐브왁스 슈퍼 파워 홀드', '컨퓸 큐브왁스 와일드 익스트림', '퓨어 시크릿워시 은은한 플로랄향', '비쥬 드로잉 핸드크림 글래머러스', '비쥬 드로잉 핸드크림 퓨리티', '바디프랜 오리엔탈 로즈 바디로션', '바디프랜 헬씨씨위드 샤워젤', '바디프랜 오리엔탈 로즈 샤워젤', '바디프랜 애플 칵테일 샤워젤', '바디프랜 레몬 그라스 샤워젤', '컨퓸 헤어칼라', '컨퓸 먹물 헤어칼라', '컨퓸 큐브 왁스 울트라 하드 매트', '컨퓸 토탈헤어 린스', '컨퓸 토탈헤어 샴푸', '컨퓸 토탈헤어 슈퍼하드 스프레이', '컨퓸 헤어 글레이즈', '컨퓸 슈퍼하드 헤어젤', '컨퓸 하드 헤어젤', '컨퓸 헤어 코팅 에센스', '컨퓸 컬링 에센스', '컨퓸 에코 큐어 테라피', '컨퓸 토탈 헤어 세럼', '컨퓸 아르간 트리트먼트 아쿠아 헤어 세럼', '컨퓸 아르간 헤어 컨디셔너', '제주 화산섬에 핀 동백꽃 마스크', '제주 화산섬에 핀 녹차꽃 마스크', '제주 화산섬에 핀 벚꽃 마스크', '터치테라피 뷰티살롱 화이트닝 마스크', '터치테라피 뷰티살롱 아크네 케어 마스크', '터치테라피 뷰티살롱 리프팅 앤 퍼밍 마스크', '터치테라피 뷰티살롱 안티-옥시던트 마스크', '터치테라피 뷰티살롱 수딩 마스크', '터치테라피 뷰티살롱 하이드레이팅 마스크', '터치테라피 힐링솔루션 앰플마스크 슈퍼 엘래스티서티', '터치테라피 힐링솔루션 앰플마스크 슈퍼 포어타이트닝', '터치테라피 힐링솔루션 앰플마스크 슈퍼 모이스처라이징', '터치테라피 힐링솔루션 앰플마스크 슈퍼 뉴트리션', '터치테라피 힐링솔루션 앰플마스크 슈퍼 안티-링클', '터치테라피 힐링솔루션 앰플마스크 슈퍼 화이트닝', '더 퍼스트 그린티 모이스처 효 아이크림', '더 퍼스트 그린티 모이스처 효 에센스', '효연 황백 퍼밍 아이크림', '효연 자양 에센스', '바세린 올데이 모이스처 바디워시', '바세린 딥플러스 바디크림(극건성용)', '세안이야기 영양듬뿍 발아현미 클렌징크림', '컬러팝 핸드크림', '효연 자양 유액', '효연 자양 팔자크림', '효연 자양 수액', '에센셜 콜라겐 리페어링 크림', '에센셜 콜라겐 리페어링 에멀젼', '더 퍼스트 그린티 모이스처 효 크림', '더 퍼스트 그린티 모이스처 효 에멀젼', '더 퍼스트 그린티 모이스처 효 스킨', '알로에베라 모이스처 리얼 클렌징폼', '후르츠왁스 케라틴 슈퍼하드 헤어젤', '컨퓸 리페어 테라피 에센스', '도무스 더 블루 에너지 에멀전', '퓨어템 퓨어베라 수딩 젤', '[단종]  첫물녹차 프레시 클렌징 크림', '[단종]  첫물녹차 모이스트 클렌징 폼', '[단종]  바세린 올데이 모이스처 바디로션', '[단종]  에코에니어 아르간 리얼 클렌징 세럼', '[단종]  바세린 딥플러스 모이스처 바디로션', '[단종]  제주 자연의 차콜 필링젤', '[단종]  탐나는 복숭아 필링 미스트', '[단종]  제주 자연의 화산재 클렌징폼', '[단종]  제주 자연의 유채꿀 클렌징폼', '[단종]  앱솔루트 아르간 바디로션', '[단종]  제주 자연의 알로에 클렌징 폼', '[단종]  생기가득한 딥 클렌징 폼', '[단종]  헤어투페이스 트리트먼트', '[단종]  첫물녹차 트리플 오프 매직 리무버 티슈', '[단종]  제주 자연의 녹차 클렌징폼']\n",
      "162\n",
      "------------------------------\n",
      "########################\n",
      "광동제약\n",
      "['https://www.glowpick.com/products/141414', 'https://www.glowpick.com/products/139804']\n",
      "2\n",
      "------------------------------\n",
      "['비타500 데일리 스틱', '장 건강엔 생유산균']\n",
      "2\n",
      "------------------------------\n",
      "########################\n",
      "교보문고\n",
      "['https://www.glowpick.com/products/138416', 'https://www.glowpick.com/products/113703']\n",
      "2\n",
      "------------------------------\n",
      "['더 센트 오브 페이지 룸스프레이', '더 센트 오브 페이지 디퓨저']\n",
      "2\n",
      "------------------------------\n",
      "########################\n",
      "구구샵\n",
      "['https://www.glowpick.com/products/86752']\n",
      "1\n",
      "------------------------------\n",
      "['미라클 여드름 모낭염비누']\n",
      "1\n",
      "------------------------------\n",
      "########################\n",
      "구닥 컬러\n",
      "['https://www.glowpick.com/products/127429']\n",
      "1\n",
      "------------------------------\n",
      "['플래쉬 잉크 라이너']\n",
      "1\n",
      "------------------------------\n",
      "########################\n",
      "구달\n",
      "['https://www.glowpick.com/products/125153', 'https://www.glowpick.com/products/124899', 'https://www.glowpick.com/products/130613', 'https://www.glowpick.com/products/139941', 'https://www.glowpick.com/products/133508', 'https://www.glowpick.com/products/111198', 'https://www.glowpick.com/products/139128', 'https://www.glowpick.com/products/107909', 'https://www.glowpick.com/products/142880', 'https://www.glowpick.com/products/139131', 'https://www.glowpick.com/products/131212', 'https://www.glowpick.com/products/118832', 'https://www.glowpick.com/products/89231', 'https://www.glowpick.com/products/97783', 'https://www.glowpick.com/products/111421', 'https://www.glowpick.com/products/103728', 'https://www.glowpick.com/products/150371', 'https://www.glowpick.com/products/131071', 'https://www.glowpick.com/products/97792', 'https://www.glowpick.com/products/97791', 'https://www.glowpick.com/products/118683', 'https://www.glowpick.com/products/89230', 'https://www.glowpick.com/products/97788', 'https://www.glowpick.com/products/97780', 'https://www.glowpick.com/products/118680', 'https://www.glowpick.com/products/115230', 'https://www.glowpick.com/products/145501', 'https://www.glowpick.com/products/150374', 'https://www.glowpick.com/products/90439', 'https://www.glowpick.com/products/115231', 'https://www.glowpick.com/products/149393', 'https://www.glowpick.com/products/150373', 'https://www.glowpick.com/products/118685', 'https://www.glowpick.com/products/150376', 'https://www.glowpick.com/products/106248', 'https://www.glowpick.com/products/115233', 'https://www.glowpick.com/products/97778', 'https://www.glowpick.com/products/142026', 'https://www.glowpick.com/products/131209', 'https://www.glowpick.com/products/97790', 'https://www.glowpick.com/products/97784', 'https://www.glowpick.com/products/146291', 'https://www.glowpick.com/products/124711', 'https://www.glowpick.com/products/97785', 'https://www.glowpick.com/products/115232', 'https://www.glowpick.com/products/97781', 'https://www.glowpick.com/products/131073', 'https://www.glowpick.com/products/150375', 'https://www.glowpick.com/products/147076', 'https://www.glowpick.com/products/147074', 'https://www.glowpick.com/products/145499', 'https://www.glowpick.com/products/124712', 'https://www.glowpick.com/products/97776', 'https://www.glowpick.com/products/76824', 'https://www.glowpick.com/products/124901', 'https://www.glowpick.com/products/96492', 'https://www.glowpick.com/products/18333', 'https://www.glowpick.com/products/49033', 'https://www.glowpick.com/products/73181', 'https://www.glowpick.com/products/103727', 'https://www.glowpick.com/products/43119', 'https://www.glowpick.com/products/34203', 'https://www.glowpick.com/products/88036', 'https://www.glowpick.com/products/97200', 'https://www.glowpick.com/products/88043', 'https://www.glowpick.com/products/80580', 'https://www.glowpick.com/products/118997', 'https://www.glowpick.com/products/60422', 'https://www.glowpick.com/products/76379', 'https://www.glowpick.com/products/112525', 'https://www.glowpick.com/products/23018', 'https://www.glowpick.com/products/88047', 'https://www.glowpick.com/products/76380', 'https://www.glowpick.com/products/33735', 'https://www.glowpick.com/products/112209', 'https://www.glowpick.com/products/27526', 'https://www.glowpick.com/products/76825', 'https://www.glowpick.com/products/4060', 'https://www.glowpick.com/products/94809', 'https://www.glowpick.com/products/43116', 'https://www.glowpick.com/products/88639', 'https://www.glowpick.com/products/88045', 'https://www.glowpick.com/products/79761', 'https://www.glowpick.com/products/94469', 'https://www.glowpick.com/products/131074', 'https://www.glowpick.com/products/94725', 'https://www.glowpick.com/products/97197', 'https://www.glowpick.com/products/1340', 'https://www.glowpick.com/products/88734', 'https://www.glowpick.com/products/88040', 'https://www.glowpick.com/products/34016', 'https://www.glowpick.com/products/80583', 'https://www.glowpick.com/products/89721', 'https://www.glowpick.com/products/83789', 'https://www.glowpick.com/products/4055', 'https://www.glowpick.com/products/106313', 'https://www.glowpick.com/products/26516', 'https://www.glowpick.com/products/4057', 'https://www.glowpick.com/products/4070', 'https://www.glowpick.com/products/84461', 'https://www.glowpick.com/products/47549', 'https://www.glowpick.com/products/4052', 'https://www.glowpick.com/products/94803', 'https://www.glowpick.com/products/78677', 'https://www.glowpick.com/products/76823', 'https://www.glowpick.com/products/79765', 'https://www.glowpick.com/products/90764', 'https://www.glowpick.com/products/90450', 'https://www.glowpick.com/products/93638', 'https://www.glowpick.com/products/90447', 'https://www.glowpick.com/products/4056', 'https://www.glowpick.com/products/88052', 'https://www.glowpick.com/products/85389', 'https://www.glowpick.com/products/76788', 'https://www.glowpick.com/products/4059', 'https://www.glowpick.com/products/52853', 'https://www.glowpick.com/products/67709', 'https://www.glowpick.com/products/4071', 'https://www.glowpick.com/products/89723', 'https://www.glowpick.com/products/82567', 'https://www.glowpick.com/products/80293', 'https://www.glowpick.com/products/85781', 'https://www.glowpick.com/products/81497', 'https://www.glowpick.com/products/79763', 'https://www.glowpick.com/products/79453', 'https://www.glowpick.com/products/56141', 'https://www.glowpick.com/products/21627', 'https://www.glowpick.com/products/4053', 'https://www.glowpick.com/products/79452', 'https://www.glowpick.com/products/97410', 'https://www.glowpick.com/products/93640', 'https://www.glowpick.com/products/90438', 'https://www.glowpick.com/products/81495', 'https://www.glowpick.com/products/81494', 'https://www.glowpick.com/products/113090', 'https://www.glowpick.com/products/72691', 'https://www.glowpick.com/products/115494', 'https://www.glowpick.com/products/86414', 'https://www.glowpick.com/products/37452', 'https://www.glowpick.com/products/4067', 'https://www.glowpick.com/products/4058', 'https://www.glowpick.com/products/84460', 'https://www.glowpick.com/products/93648', 'https://www.glowpick.com/products/89224', 'https://www.glowpick.com/products/74676', 'https://www.glowpick.com/products/96872', 'https://www.glowpick.com/products/83988', 'https://www.glowpick.com/products/80582', 'https://www.glowpick.com/products/88049', 'https://www.glowpick.com/products/97414', 'https://www.glowpick.com/products/93641', 'https://www.glowpick.com/products/79764', 'https://www.glowpick.com/products/79762', 'https://www.glowpick.com/products/79454', 'https://www.glowpick.com/products/78979', 'https://www.glowpick.com/products/51137', 'https://www.glowpick.com/products/37473', 'https://www.glowpick.com/products/4066', 'https://www.glowpick.com/products/4065', 'https://www.glowpick.com/products/81499', 'https://www.glowpick.com/products/86413', 'https://www.glowpick.com/products/76826', 'https://www.glowpick.com/products/100729', 'https://www.glowpick.com/products/55925', 'https://www.glowpick.com/products/4062', 'https://www.glowpick.com/products/93650', 'https://www.glowpick.com/products/93646', 'https://www.glowpick.com/products/78831', 'https://www.glowpick.com/products/85282', 'https://www.glowpick.com/products/93963', 'https://www.glowpick.com/products/93644', 'https://www.glowpick.com/products/78420', 'https://www.glowpick.com/products/85278', 'https://www.glowpick.com/products/4068', 'https://www.glowpick.com/products/78982', 'https://www.glowpick.com/products/77067', 'https://www.glowpick.com/products/4061', 'https://www.glowpick.com/products/4069', 'https://www.glowpick.com/products/89624', 'https://www.glowpick.com/products/115234', 'https://www.glowpick.com/products/115006', 'https://www.glowpick.com/products/104917', 'https://www.glowpick.com/products/97417', 'https://www.glowpick.com/products/97416', 'https://www.glowpick.com/products/97415', 'https://www.glowpick.com/products/97413', 'https://www.glowpick.com/products/97411', 'https://www.glowpick.com/products/93649', 'https://www.glowpick.com/products/92702', 'https://www.glowpick.com/products/90445', 'https://www.glowpick.com/products/90442', 'https://www.glowpick.com/products/89228', 'https://www.glowpick.com/products/89227', 'https://www.glowpick.com/products/88055', 'https://www.glowpick.com/products/85783', 'https://www.glowpick.com/products/85283', 'https://www.glowpick.com/products/81498', 'https://www.glowpick.com/products/80581', 'https://www.glowpick.com/products/78981', 'https://www.glowpick.com/products/78980', 'https://www.glowpick.com/products/76215', 'https://www.glowpick.com/products/37635', 'https://www.glowpick.com/products/4072', 'https://www.glowpick.com/products/4064', 'https://www.glowpick.com/products/4063', 'https://www.glowpick.com/products/4054']\n",
      "206\n",
      "------------------------------\n",
      "['맑은 어성초 진정 마스크', '맑은 어성초 진정 에센스', '사과 아하 매끈 패드', '맑은 어성초 진정 에센스 [스프레이 타입]', '맑은 어성초 진정 수분크림', '청귤 비타C 세럼 마스크', '청귤 비타C 다크서클 아이크림', '청귤 비타C 토너 패드', '맑은 어성초 진정 토너패드', '청귤 비타c 수분 아이패치', '청귤 비타C 잡티 세럼 플러스', '청귤 비타C 잡티 톤업 크림 [SPF50+/PA++++]', '블랙솔트 딥 클렌징 폼', '녹차가득 순한마스크', '청귤 비타C 크림 인텐스', '청귤 비타 C 크림', '살구 콜라겐 탄력 크림', '사과 아하 매끈 토너', '산딸기가득 순한마스크', '모과가득 순한마스크', '카렌둘라 약산성 딥 클렌징 폼', '블랙솔트 딥 클렌징 오일', '블루베리가득 순한마스크', '유자가득 순한마스크', '카렌둘라 약산성 딥 클렌징 티슈', '동백 앰플 미스트', '청귤 비타C 클렌징 폼', '살구 콜라겐 탄력 앰플', '프리미엄 멜라케어 앰플크림', '무화과 앰플 미스트', '맑은 어성초 진정 수분 선크림 [SPF50+/PA++++]', '비건 라이스 밀크 보습 크림', '카렌둘라 약산성 딥 클렌징 오일 인 워터', '비건 라이스 밀크 보습 토너', '포 맨 피지 브레이커 올인원 중건성용', '위치하젤 앰플 미스트', '사과가득 순한마스크', '사과 아하 매끈 클렌징 폼', '사과 아하 매끈 앰플', '인삼가득 순한마스크', '연꽃가득 순한마스크', '맑은 어성초 진정 약산성 클렌징 폼', '모이스트 시너지 마스크 듀오 [클래리파잉X모이스처라이징]', '티트리가득 순한마스크', '알로에 앰플 미스트', '쑥가득 순한마스크', '1/2 스킨팩 진정 화장솜', '비건 라이스 밀크 보습 로션', '프리미엄 톤업 크림', '포 맨 피지브레이커 올인원 지성용', '사과 AHA 매끈 필링 젤', '모이스트 시너지 마스크 듀오 [필링X모이스처라이징]', '[단종]  청귤 꿀 보습 앰플', '[단종]  물가득 마스크_수분', '[단종]  맑은 어성초 진정 수분크림', '[단종]  청귤 꿀 보습 크림', '[단종]  워터레스트 라스팅 워터오일', '[단종]  마일드 프로텍트 순한 선크림 [SPF50+/PA+++]', '[단종]  마일드 프로텍트 에센스 선 [SPF50+/PA++++]', '[단종]  청귤 비타C 잡티 세럼', '[단종]  수분 장벽 리퀴드', '[단종]  마일드 프로텍트 촉촉한 선크림 [SPF30/PA++]', '[단종]  청귤 수분 크림', '[단종]  청귤 꿀 보습 세럼', '[단종]  청귤 수분 미스트 토너', '[단종]  각질 안티에이징 더블 세럼', '[단종]  동백 보습장벽 젤크림', '[단종]  프리미엄 스네일 톤업크림', '[단종]  수분 장벽 프레쉬 젤크림', '[단종]  동백보습장벽 리퀴드앰플', '[단종]  수분 장벽 크림', '[단종]  청귤 수분 에멀전', '[단종]  수분 장벽 프레쉬 리퀴드', '[단종]  수분 장벽 크림 프레쉬', '[단종]  동백 보습장벽 크림', '[단종]  워터레스트 퍼스트 에센스', '[단종]  물가득 마스크_탄력', '[단종]  슈퍼씨드 오일플러스 스킨미스트', '[단종]  청귤 수분 프레쉬 세럼', '[단종]  수분 장벽 아이크림', '[단종]  민감 안심 선 크림 [SPF35/PA+++]', '[단종]  청귤 수분 아이 크림', '[단종]  구성수 핸드 크림 - 수분 수선화', '[단종]  청귤 수분 프레쉬 젤 크림', '[단종]  맑은 어성초 진정 선크림 [SPF50+/PA++++]', '[단종]  각질 퓨리파잉 필 토너', '[단종]  청귤 꿀 보습 토너', '[단종]  무루무루 씨드 하이드라 미스트', '[단종]  슈퍼씨드 고보습 클렌징폼', '[단종]  청귤 수분 세럼', '[단종]  워터레스트 미세 수분 미스트', '[단종]  구성수 마스크팩 - 수선화', '[단종]  민감 안심 크림', '[단종]  각질 안티에이징 더블 토너', '[단종]  슈퍼씨드 오일플러스 모이스트 에멀전', '[단종]  마일드 프로텍트 산뜻한 선 젤 [SPF50+/PA+++]', '[단종]  구달 리페어 플러스 에센셜 오일', '[단종]  실키 플러스 수딩 젤 크림', '[단종]  프레쉬 클렌저 클렌징 오일', '[단종]  동백 영양 립오일', '[단종]  무루무루 씨드 하이드라 젤크림', '[단종]  UV 프로텍트 선피니셔 [SPF30/PA++]', '[단종]  청귤 수분 프레쉬 토너', '[단종]  프리미엄 골드스네일 크림', '[단종]  물가득 마스크_미백', '[단종]  구성수 핸드 크림 - 영양 달맞이꽃', '[단종]  로얄 샤또 캐비어 리페어 크림', '[단종]  딸기 꿀청팩', '[단종]  자연 담금 미스트 - 잇꽃', '[단종]  사과 꿀청팩', '[단종]  슈퍼씨드 오일플러스 밸런싱 에멀전', '[단종]  피토 브리즈 포맨 아쿠아 로션', '[단종]  내추럴 클리어 딥 클렌징 젤투폼', '[단종]  내추럴 클리어 퍼펙트 클렌징 젤', '[단종]  리페어플러스 안티링클 크림', '[단종]  대용량 보습통 크림', '[단종]  프리미엄 스네일 톤 업 에센스', '[단종]  피토레인 잉카오메가 파워 오일', '[단종]  민감 안심 로션', '[단종]  워터레스트 생기 슬리핑 팩', '[단종]  청정 모공 깔끔 크림', '[단종]  수분 장벽 듀오 슬리핑 마스크 크림타입', '[단종]  타임스테이탄력 에센스 에멀전', '[단종]  구성수 핸드 크림 - 광채 애기국화', '[단종]  청정 모공 모델링 마스크', '[단종]  워터레스트 수분 비비 [SPF30/PA++]', '[단종]  워터레스트 톤업 퍼스트 에센스', '[단종]  퓨리파잉플러스 포어 타이트닝 젤', '[단종]  더블 브라이트 클렌징 오일', '[단종]  꽃물 마스크 꿀풀', '[단종]  자연 담금 미스트 - 수레국화', '[단종]  오이 꿀청팩', '[단종]  타임스테이 탄력 토너', '[단종]  타임스테이 탄력크림', '[단종]  블랙솔트 딥 클렌징 마일드 버블', '[단종]  양면 기능 고급 화장솜', '[단종]  슈퍼푸드10 토탈솔루션 마스크', '[단종]  망고 아보카도 바디크림', '[단종]  네이처스 솔루션 모공팩', '[단종]  컷 아웃 블랙헤드 오일 슈', '[단종]  크리미 플러스 하이드레이팅 크림', '[단종]  동백 생기 립오일', '[단종]  새싹보리 탄산 토너', '[단종]  애플민트 산뜻한 클렌징 폼', '[단종]  수분 장벽 마스크', '[단종]  각질 퓨리파잉 수분 세럼', '[단종]  블랙 숯 마스크 탄산버블', '[단종]  각질 안티에이징 더블크림', '[단종]  청귤 수분 클렌징 폼', '[단종]  꽃물 마스크 벚꽃', '[단종]  자연 담금 미스트 - 산자열매', '[단종]  구성수 핸드 크림 - 탄력 오키드', '[단종]  구성수 핸드 크림 - 생기 벚꽃', '[단종]  더블 브라이트 화이트 백작약 클렌징폼', '[단종]  자연진액 앰플 마스크_미백', '[단종]  영양통 헤어팩', '[단종]  네이처스 솔루션 진정팩', '[단종]  겟아웃 필링 오일 젤', '[단종]  워시 업 워시 오프 마스크 팩', '[단종]  더블 브라이트 에멀전', '[단종]  망고 아보카도 바디로션', '[단종]  물가득 마스크_영양', '[단종]  프리미엄 펄 톤업크림', '[단종]  탄력 씨앗 에센셜 오일', '[단종]  트랜스 폼 클렌징 오일', '[단종]  새싹보리 탄산 젤크림', '[단종]  새싹보리 탄산 세럼', '[단종]  세븐데이즈 화이트닝 앰플', '[단종]  수분 장벽 리치 보습밤', '[단종]  수박 수딩젤', '[단종]  자연 담금 미스트 - 매실', '[단종]  워터레스트 물 크림', '[단종]  수분 장벽 리치 미스트', '[단종]  굿바이 예스터데이 필 오프 팩', '[단종]  자연진액 앰플 마스크_탄력', '[단종]  워터레스트 클렌징티슈', '[단종]  리페어플러스 에센셜 오일', '[단종]  스타트 업 스킨 밸런스 마스크팩', '[단종]  마일드 프로텍트 순한 선 플루이드 [SPF50+/PA++++]', '[단종]  슈퍼씨드 오일플러스 스킨미스트', '[단종]  동백 보습장벽 토너', '[단종]  다이아몬드 지압 수분마스크', '[단종]  꽃물 마스크 쪽빛꽃', '[단종]  꽃물 마스크 오키드', '[단종]  꽃물 마스크 달맞이꽃', '[단종]  꽃물 마스크 백합', '[단종]  꽃물 마스크 애기국화', '[단종]  새싹보리 탄산 클레이 마스크', '[단종]  프리미엄 골드스네일 하이드로겔 마스크', '[단종]  유자 꿀청팩', '[단종]  대나무숯 꿀청팩', '[단종]  블랙솔트 더스트 딥 클렌징 무스', '[단종]  애플민트 산뜻한 클렌징 워터', '[단종]  피토 브리즈 포맨 아쿠아 토너', '[단종]  수분 장벽 듀오 슬리핑 마스크 젤타입', '[단종]  수분 장벽 리치 클렌징폼', '[단종]  타임스테이 탄력 아이크림', '[단종]  각질 안티에이징 더블세럼 라이트', '[단종]  자연진액 앰플 마스크_영양', '[단종]  자연진액 앰플 마스크_수분', '[단종]  알로에 수딩젤', '[단종]  네이처스 솔루션 광채팩', '[단종]  피토워시 예바마테 립앤아이리무버', '[단종]  원 나잇 슬립 크림 팩', '[단종]  펀펀 발효오일 캡슐팩', '[단종]  루미넌트플러스 화이트닝 에센스']\n",
      "206\n",
      "------------------------------\n",
      "########################\n",
      "구디\n",
      "['https://www.glowpick.com/products/65593', 'https://www.glowpick.com/products/49949']\n",
      "2\n",
      "------------------------------\n",
      "['탱글픽스 헤어브러쉬', '퀵스타일 타월브러쉬']\n",
      "2\n",
      "------------------------------\n",
      "########################\n",
      "구딸 파리\n",
      "['https://www.glowpick.com/products/1612', 'https://www.glowpick.com/products/69673', 'https://www.glowpick.com/products/16455', 'https://www.glowpick.com/products/1615', 'https://www.glowpick.com/products/16447', 'https://www.glowpick.com/products/16457', 'https://www.glowpick.com/products/33929', 'https://www.glowpick.com/products/16445', 'https://www.glowpick.com/products/127386', 'https://www.glowpick.com/products/11479', 'https://www.glowpick.com/products/16446', 'https://www.glowpick.com/products/16452', 'https://www.glowpick.com/products/130022', 'https://www.glowpick.com/products/119881', 'https://www.glowpick.com/products/16461', 'https://www.glowpick.com/products/16459', 'https://www.glowpick.com/products/16456', 'https://www.glowpick.com/products/16441', 'https://www.glowpick.com/products/16442', 'https://www.glowpick.com/products/130241', 'https://www.glowpick.com/products/130239', 'https://www.glowpick.com/products/130238', 'https://www.glowpick.com/products/130237', 'https://www.glowpick.com/products/130188', 'https://www.glowpick.com/products/130187', 'https://www.glowpick.com/products/130186', 'https://www.glowpick.com/products/130185', 'https://www.glowpick.com/products/130184', 'https://www.glowpick.com/products/130183', 'https://www.glowpick.com/products/130182', 'https://www.glowpick.com/products/130181', 'https://www.glowpick.com/products/130179', 'https://www.glowpick.com/products/130177', 'https://www.glowpick.com/products/130175', 'https://www.glowpick.com/products/130174', 'https://www.glowpick.com/products/130173', 'https://www.glowpick.com/products/130172', 'https://www.glowpick.com/products/130171', 'https://www.glowpick.com/products/130170', 'https://www.glowpick.com/products/130168', 'https://www.glowpick.com/products/130167', 'https://www.glowpick.com/products/130157', 'https://www.glowpick.com/products/130078', 'https://www.glowpick.com/products/130057', 'https://www.glowpick.com/products/130031', 'https://www.glowpick.com/products/130006', 'https://www.glowpick.com/products/130004', 'https://www.glowpick.com/products/129969', 'https://www.glowpick.com/products/129967', 'https://www.glowpick.com/products/114725', 'https://www.glowpick.com/products/16450', 'https://www.glowpick.com/products/16443', 'https://www.glowpick.com/products/16464', 'https://www.glowpick.com/products/16439', 'https://www.glowpick.com/products/1459', 'https://www.glowpick.com/products/16444', 'https://www.glowpick.com/products/16471', 'https://www.glowpick.com/products/16448', 'https://www.glowpick.com/products/65885', 'https://www.glowpick.com/products/16458', 'https://www.glowpick.com/products/102844', 'https://www.glowpick.com/products/96705', 'https://www.glowpick.com/products/96704', 'https://www.glowpick.com/products/52273', 'https://www.glowpick.com/products/52141', 'https://www.glowpick.com/products/16470', 'https://www.glowpick.com/products/16469', 'https://www.glowpick.com/products/16468', 'https://www.glowpick.com/products/16467', 'https://www.glowpick.com/products/16466', 'https://www.glowpick.com/products/16465', 'https://www.glowpick.com/products/16463', 'https://www.glowpick.com/products/16462', 'https://www.glowpick.com/products/16460', 'https://www.glowpick.com/products/16454', 'https://www.glowpick.com/products/16453', 'https://www.glowpick.com/products/16451', 'https://www.glowpick.com/products/16449', 'https://www.glowpick.com/products/16440']\n",
      "79\n",
      "------------------------------\n",
      "['쁘띠뜨 쉐리 오 드 퍼퓸', '로즈 폼퐁 오 드 뚜왈렛', '엉 마뗑 도하주 오 드 뚜왈렛', '스 수와 우 자메 오 드 퍼퓸', '오 드 샤를로트 오 드 뚜왈렛', '쁘띠뜨 쉐리 오 드 뚜왈렛', '릴 오 떼 오 드 뚜왈렛', '르 쉐브르페이유 오 드 뚜왈렛', '핸드 밤 듀 자르뎅', '오 드 아드리앙 오 드 뚜왈렛', '뉘 에뚜왈레 오 드 퍼퓸', '로즈 압솔뤼 오 드 퍼퓸', '떼뉴 드 스와레 오 드 퍼퓸', '샤 페르쉐 오 드 뚜왈렛', '닌페오 미오 오드 뚜왈렛', '뒤엘 맨 오 드 뚜왈렛', '오 드 아드리앙 오 드 퍼퓸', '엉 마뗑 도하주 오 드 퍼퓸', '로즈 스플랑디드 오 드 뚜왈렛', '윈 포레 도르 캔들', '엉 에어 드 아드리앙 캔들', '앰버 에 볼룹떼 캔들', '부아 상드흐 캔들', '윈 메종 드 깜빠뉴 캔들', '엉 자르뎅 아로마틱 캔들', '유니버셜 캔들', '엉 에어 드 아드리앙 페이퍼 디퓨저', '윈 포레 도르 페이퍼 디퓨저', '엉 에어 드 아드리앙 스틱 디퓨저', '윈 포레 도르 스틱 디퓨저', '쁘띠뜨 쉐리 넥타 바디 밀크', '쁘띠뜨 쉐리 넥타 샤워 오일', '오 드 아드리앙 넥타 샤워 오일', '로즈폼퐁 래디언트 바디오일', '핸드워시 드 이탈리', '사봉 드 이탈리', '사봉 듀 자르뎅', '사봉 드 오리엔트', '핸드 밤 드 이탈리', '쁘띠뜨 쉐리 드라이 바디 오일', '오 드 아드리앙 넥타 바디 밀크', '핸드 밤 드 오리엔트', '로즈폼퐁 오 드 퍼퓸', '뉘 에 꽁피덩스 오 드 퍼퓸', '오 드 무슈 오 드 뚜왈렛', '그랑 아무르 오 드 퍼퓸', '에뚜왈 뒨 뉘 오 드 퍼퓸', '사블 오 드 퍼퓸', '앙상 플라브 와양 오 드 퍼퓸', '부아 드 아드리앙 오 드 퍼퓸', '송쥬 오 드 퍼퓸', '[단종]  르 뮈게 오 드 뚜왈렛', '[단종]  플뢰르 블랑쉬 퍼퓸드 바디크림', '[단종]  방 드 폴리 오 드 뚜왈렛', '[단종]  쁘띠 셰리 바디크림', '[단종]  라 비올레트 오 드 뚜왈렛', '[단종]  오 드 아드리앙 바디크림', '[단종]  꿸 아무르 오 드 뚜왈렛', '[단종]  오 뒤 씨엘 오 드 뚜왈렛', '[단종]  뉘 에뚜왈레 맨 오 드 뚜왈렛', '[단종]  오 드 까미유', '[단종]  로즈 폼퐁 펄리센트 바디 파우더', '[단종]  로즈 폼퐁 리프레싱 바디 젤 크림', '[단종]  스플랑디드 핸드 밤', '[단종]  스플랑디드 페이스 크림', '[단종]  오 드 아드리앙 샤워젤', '[단종]  쁘띠뜨 쉐리 샤워젤', '[단종]  라 로즈 바디크림', '[단종]  콜로뉴 오 드 아드리앙 오 드 코롱', '[단종]  콜로뉴 베티베르 오 드 코롱', '[단종]  콜로뉴 네롤리 오 드 코롱', '[단종]  플뢰르 블랑쉬 퍼퓸드 샤워젤', '[단종]  오 드 아드리앙 맨 오 드 퍼퓸', '[단종]  만드라고르 맨 오 드 뚜왈렛', '[단종]  만드라고르 오 드 퍼퓸', '[단종]  만드라고르 오 드 뚜왈렛', '[단종]  바니유 엑스키즈 오 드 뚜왈렛', '[단종]  송쥬 오 드 뚜왈렛', '[단종]  쁘띠뜨 쉐리 오 드 퍼퓸 리미티드 에디션']\n",
      "79\n",
      "------------------------------\n",
      "########################\n",
      "구떼\n",
      "['https://www.glowpick.com/products/98052', 'https://www.glowpick.com/products/98050', 'https://www.glowpick.com/products/98058', 'https://www.glowpick.com/products/98055', 'https://www.glowpick.com/products/98057', 'https://www.glowpick.com/products/98056', 'https://www.glowpick.com/products/98053', 'https://www.glowpick.com/products/98051']\n",
      "8\n",
      "------------------------------\n",
      "['No.3 블랙베리&베이', 'No.1 잉글리쉬&프리지아', 'No.11 도손', 'No.8 블랑쉬', 'No.10 화이트', 'No.9 어벤투스', 'No.7 코코', 'No.2 얼그레이&큐컴']\n",
      "8\n",
      "------------------------------\n",
      "########################\n",
      "구뜨앙쥬\n",
      "['https://www.glowpick.com/products/129803']\n",
      "1\n",
      "------------------------------\n",
      "['화이트닝 수분 마스크팩']\n",
      "1\n",
      "------------------------------\n",
      "########################\n",
      "구멍\n",
      "['https://www.glowpick.com/products/147062']\n",
      "1\n",
      "------------------------------\n",
      "['광광팩']\n",
      "1\n",
      "------------------------------\n",
      "########################\n",
      "구미올로지\n",
      "['https://www.glowpick.com/products/137981', 'https://www.glowpick.com/products/137974', 'https://www.glowpick.com/products/137975']\n",
      "3\n",
      "------------------------------\n",
      "['메가 멀티비타민 구미젤리 [라즈베리]', '비타민D 구미젤리 [복숭아&사워체리]', 'B-복합체 구미젤리 [딸기]']\n",
      "3\n",
      "------------------------------\n",
      "########################\n",
      "구미킹\n",
      "['https://www.glowpick.com/products/137970', 'https://www.glowpick.com/products/137900']\n",
      "2\n",
      "------------------------------\n",
      "['어린이용 비타민C 구미젤리', '비건 무가당 종합비타민 구미젤리']\n",
      "2\n",
      "------------------------------\n",
      "########################\n",
      "구본초\n",
      "['https://www.glowpick.com/products/128290']\n",
      "1\n",
      "------------------------------\n",
      "['오투 버블 클렌저']\n",
      "1\n",
      "------------------------------\n",
      "########################\n",
      "구스크릭\n",
      "['https://www.glowpick.com/products/132897', 'https://www.glowpick.com/products/132896', 'https://www.glowpick.com/products/132585']\n",
      "3\n",
      "------------------------------\n",
      "['라지 자 [블랙체리]', '라지 자 [브라이트 버블 배쓰]', '라지 자 [라벤더 드 프랑스]']\n",
      "3\n",
      "------------------------------\n",
      "########################\n",
      "구찌\n",
      "['https://www.glowpick.com/products/40821', 'https://www.glowpick.com/products/45517', 'https://www.glowpick.com/products/95126', 'https://www.glowpick.com/products/130342', 'https://www.glowpick.com/products/3371', 'https://www.glowpick.com/products/72606', 'https://www.glowpick.com/products/90004', 'https://www.glowpick.com/products/3319', 'https://www.glowpick.com/products/72222', 'https://www.glowpick.com/products/130338', 'https://www.glowpick.com/products/109468', 'https://www.glowpick.com/products/130336', 'https://www.glowpick.com/products/78562', 'https://www.glowpick.com/products/102039', 'https://www.glowpick.com/products/64713', 'https://www.glowpick.com/products/78563', 'https://www.glowpick.com/products/138840', 'https://www.glowpick.com/products/125490', 'https://www.glowpick.com/products/133718', 'https://www.glowpick.com/products/112179', 'https://www.glowpick.com/products/139946', 'https://www.glowpick.com/products/132542', 'https://www.glowpick.com/products/85929', 'https://www.glowpick.com/products/112770', 'https://www.glowpick.com/products/75754', 'https://www.glowpick.com/products/75957', 'https://www.glowpick.com/products/143896', 'https://www.glowpick.com/products/143894', 'https://www.glowpick.com/products/145232', 'https://www.glowpick.com/products/133453', 'https://www.glowpick.com/products/2792', 'https://www.glowpick.com/products/103645', 'https://www.glowpick.com/products/129560', 'https://www.glowpick.com/products/121936', 'https://www.glowpick.com/products/149827', 'https://www.glowpick.com/products/149826', 'https://www.glowpick.com/products/149617', 'https://www.glowpick.com/products/137725', 'https://www.glowpick.com/products/132541', 'https://www.glowpick.com/products/94678', 'https://www.glowpick.com/products/94628', 'https://www.glowpick.com/products/14417']\n",
      "42\n",
      "------------------------------\n",
      "['플로라 바이 구찌 아름다운 가르데니아 오 드 뚜왈렛', '플로라 바이 구찌 글로리어스 만다린 우먼 오드뚜왈렛', '블룸 오 드 퍼퓸', '루즈 아 레브르 브왈', '러쉬2', '길티 인텐스 오 드 퍼퓸', '매트 립스틱', '플로라 바이 구찌 오드퍼퓸', '밤부 오드퍼퓸', '루즈 아 레브르 매트', '블룸 아쿠아 디 피오리', '루즈 아 레브르 사탱', '플로라 바이 글래머러스 매그놀리아 EDT', '길티 EDT', '엔비 미 EDT', '플로라 바이 그레이셔스 튜베로즈 EDT', '길티 뿌르 팜므 오 드 퍼퓸', '메모아 뒨 오더', '봄므 아 레브르', '블룸 네타레 디 피오리 오 드 퍼퓸', '블룸 암브로시아 디 피오리', '뿌드르 드 보떼 마뜨 나뛰렐 뷰티 파우더', '엔비 오 드 뚜왈렛', '새틴 매트 리퀴드 파운데이션 [SPF20]', '아이 마그네틱 컬러 섀도우 쿼드', '프리미에르 오드뚜왈렛 우먼', '세럼 드 보떼 실크 프라이밍 세럼', '플루이드 드 보떼 내츄럴 피니시 플루이드 파운데이션', '알케미스트 가든 어 송 포 더 로즈 오 드 퍼퓸', '옵스뀌흐 마스카라', '길티 블랙 뿌르 옴므', '길티 뿌르 옴므 EDT', '플로라 에메랄드 가드니아 오 드 뚜왈렛', '길티 앱솔루트 뿌르팜므 오 드 퍼퓸', '루즈 아 레브르 뤼네종', '루즈 드 보떼 브리앙 글로우 & 케어', '(리미티드 에디션) 루즈 아 레브르 사탱', '크레이용 데피니씨옹 쑤르씰', '에끌라 드 보떼 에페 뤼미에르 멀티 유즈 젤 글로스', '페이스 새틴 매트 파운데이션', '러스트러스 글로우 파운데이션 [SPF25]', '메이드 투 메져 오드 뚜왈렛']\n",
      "42\n",
      "------------------------------\n",
      "########################\n",
      "국대마스크\n",
      "['https://www.glowpick.com/products/139967', 'https://www.glowpick.com/products/139966', 'https://www.glowpick.com/products/139965', 'https://www.glowpick.com/products/139964', 'https://www.glowpick.com/products/139962']\n",
      "5\n",
      "------------------------------\n",
      "['KF80 국대 미세먼지 마스크 3D 대형', 'KF94 국대 미세먼지 마스크 3D 대형', 'KF94 국대 미세먼지 마스크 2D 대형', 'KF94 국대 미세먼지 마스크 3D 중형', 'KF94 국대 미세먼지 마스크 2D 소형']\n",
      "5\n",
      "------------------------------\n",
      "########################\n",
      "국보마스크\n",
      "['https://www.glowpick.com/products/147867']\n",
      "1\n",
      "------------------------------\n",
      "['국보 황사 마스크 KF94']\n",
      "1\n",
      "------------------------------\n",
      "########################\n",
      "국제약품\n",
      "['https://www.glowpick.com/products/140672', 'https://www.glowpick.com/products/140673', 'https://www.glowpick.com/products/140675', 'https://www.glowpick.com/products/140674', 'https://www.glowpick.com/products/134355']\n",
      "5\n",
      "------------------------------\n",
      "['메디마스크 KF 80 대형', '메디마스크 KF94 대형', '메디마스크 KF-AD 대형', '메디마스크 KF94 소형', '오큐테인3']\n",
      "5\n",
      "------------------------------\n",
      "########################\n",
      "굿락투유\n",
      "['https://www.glowpick.com/products/148729']\n",
      "1\n",
      "------------------------------\n",
      "['스킨밸런스앤 프로바이오틱스']\n",
      "1\n",
      "------------------------------\n",
      "########################\n",
      "굿매너\n",
      "['https://www.glowpick.com/products/140546', 'https://www.glowpick.com/products/140551', 'https://www.glowpick.com/products/140553']\n",
      "3\n",
      "------------------------------\n",
      "['황사 방역용 마스크 KF94 대형 화이트', '황사 방역용 마스크 KF94 대형 블랙', '황사 마스크 KF80 소형']\n",
      "3\n",
      "------------------------------\n",
      "########################\n",
      "굿바이아톱\n",
      "['https://www.glowpick.com/products/103796']\n",
      "1\n",
      "------------------------------\n",
      "['굿비아톱 맑은액 미스트']\n",
      "1\n",
      "------------------------------\n",
      "########################\n",
      "굿스킨랩스\n",
      "['https://www.glowpick.com/products/79411']\n",
      "1\n",
      "------------------------------\n",
      "['지포어 인스턴트 포어 리파이너']\n",
      "1\n",
      "------------------------------\n",
      "########################\n",
      "굿앤닥\n",
      "['https://www.glowpick.com/products/28039', 'https://www.glowpick.com/products/88766', 'https://www.glowpick.com/products/54461', 'https://www.glowpick.com/products/28038', 'https://www.glowpick.com/products/75672', 'https://www.glowpick.com/products/54457', 'https://www.glowpick.com/products/54465', 'https://www.glowpick.com/products/28035']\n",
      "8\n",
      "------------------------------\n",
      "['에이씨 컨트롤 블레미쉬 소스', '쓰리아웃 클리어 패드', '하이드라 B5 세럼', '에이씨 컨트롤 블레미쉬 스팟', '데일리 퍼펙트 선크림 [SPF50+/PA+++]', '알로에베라 하이드라수딩크림', '에이씨 컨트롤 블레미쉬 토너', '비타 엔자임 파우더 워시']\n",
      "8\n",
      "------------------------------\n",
      "########################\n",
      "굿햄프\n",
      "['https://www.glowpick.com/products/128331', 'https://www.glowpick.com/products/128334', 'https://www.glowpick.com/products/128332', 'https://www.glowpick.com/products/128333']\n",
      "4\n",
      "------------------------------\n",
      "['데일리 햄프케어 앰플', '썬 디펜더 [SPF50+/PA++++]', '[단종]  퓨어 사티바 햄프씨드 클렌징 오일', '[단종]  더블 케어 클렌징 젤']\n",
      "4\n",
      "------------------------------\n",
      "########################\n",
      "궁가\n",
      "['https://www.glowpick.com/products/96851', 'https://www.glowpick.com/products/96850', 'https://www.glowpick.com/products/96849']\n",
      "3\n",
      "------------------------------\n",
      "['슬림 대형', '슬림 중형', '슬림 팬티라이너']\n",
      "3\n",
      "------------------------------\n",
      "########################\n",
      "궁백화\n",
      "['https://www.glowpick.com/products/105622', 'https://www.glowpick.com/products/80857']\n",
      "2\n",
      "------------------------------\n",
      "['돼지콜라겐 호일마스크', '천라수 호일마스크']\n",
      "2\n",
      "------------------------------\n",
      "########################\n",
      "궁중비책\n",
      "['https://www.glowpick.com/products/116552', 'https://www.glowpick.com/products/26146', 'https://www.glowpick.com/products/124428', 'https://www.glowpick.com/products/105166', 'https://www.glowpick.com/products/59917', 'https://www.glowpick.com/products/115047', 'https://www.glowpick.com/products/97274', 'https://www.glowpick.com/products/59985', 'https://www.glowpick.com/products/26155', 'https://www.glowpick.com/products/128643', 'https://www.glowpick.com/products/121209', 'https://www.glowpick.com/products/141754', 'https://www.glowpick.com/products/129954', 'https://www.glowpick.com/products/59927', 'https://www.glowpick.com/products/59897', 'https://www.glowpick.com/products/145767', 'https://www.glowpick.com/products/59931', 'https://www.glowpick.com/products/144733', 'https://www.glowpick.com/products/61373', 'https://www.glowpick.com/products/61361', 'https://www.glowpick.com/products/124426', 'https://www.glowpick.com/products/59989', 'https://www.glowpick.com/products/150704', 'https://www.glowpick.com/products/150703', 'https://www.glowpick.com/products/150702', 'https://www.glowpick.com/products/134228', 'https://www.glowpick.com/products/134226', 'https://www.glowpick.com/products/134224', 'https://www.glowpick.com/products/123185', 'https://www.glowpick.com/products/109401', 'https://www.glowpick.com/products/61405', 'https://www.glowpick.com/products/61397', 'https://www.glowpick.com/products/61393', 'https://www.glowpick.com/products/61389', 'https://www.glowpick.com/products/60033', 'https://www.glowpick.com/products/26147', 'https://www.glowpick.com/products/60015', 'https://www.glowpick.com/products/105315', 'https://www.glowpick.com/products/59937', 'https://www.glowpick.com/products/61401', 'https://www.glowpick.com/products/80323', 'https://www.glowpick.com/products/61381', 'https://www.glowpick.com/products/51973', 'https://www.glowpick.com/products/59972', 'https://www.glowpick.com/products/60010', 'https://www.glowpick.com/products/34548', 'https://www.glowpick.com/products/107878', 'https://www.glowpick.com/products/34547', 'https://www.glowpick.com/products/60023', 'https://www.glowpick.com/products/26163', 'https://www.glowpick.com/products/91703', 'https://www.glowpick.com/products/105314', 'https://www.glowpick.com/products/60039', 'https://www.glowpick.com/products/59977']\n",
      "54\n",
      "------------------------------\n",
      "['수딩 센서티브 워시', '베이비 로션', '워터풀 선로션 [SPF50+/PA++++]', '수딩 파우더', '페이스 수딩 로션', '모이스처 크림', '페이스 로션', '수분 젤 로션', '베이비 크림', '수딩 젤', '마이 퓨어 수딩 마스크', '모이스처 선쿠션 [SPF40/PA+++]', '모이스처 립 밤', '베이비 다이애퍼 크림', '카밍 크리미 오일', '프레시 선스틱 [SPF50+/PA++++]', '스타치 콤팩트 파우더', '모이스처 스틱밤', '효72 멀티 큐어 밤', '효72 멀티 내추럴 오일', '마일드 선크림 [SPF30/PA++]', '베이비 오리진 크림', '마일드 클렌징 솝', '크리미 솝', '샴푸 앤 바스', '마이 퓨어 치약', '베이비 마일드 치약 [복숭아향]', '베이비 마일드 치약 [딸기향]', '수딩 플루이드', '워터 젤 로션', '한방아토 아토크림', '한방아토 아토 로션', '효72 한방 보습 크림', '효72 라이스 콤팩트 파우더', '효72 한방 유아 로션', '[단종]  베이비 샴푸 앤 바스', '[단종]  톡톡크림 선팩트 [SPF45/PA+++]', '[단종]  플레이 선로션 [SPF50+/PA+++]', '[단종]  베이비 비누', '[단종]  한방아토 아토 샴푸 앤 바스', '[단종]  쓰담쓰담 선스틱 [SPF50+/PA+++]', '[단종]  효72 한방 유아 비누', '[단종]  토닥토닥 선터치 [SPF45/PA+++]', '[단종]  한방 입욕제', '[단종]  살랑살랑 선미스트 [SPF50+/PA+++]', '[단종]  보들보들 선크림 [SPF35/PA+++]', '[단종]  퓨어 선크림 [SPF30/PA+++]', '[단종]  보송보송 선로션 [SPF50/PA+++]', '[단종]  선클렌징 티슈', '[단종]  효72 한방 순한 선크림 [SPF25/PA++]', '[단종]  카밍 선쿠션 [SPF35/PA++]', '[단종]  마일드 클렌징 티슈', '[단종]  효72 한방 유아 샴푸 앤 바스', '[단종]  베이비 마일드 포밍바스']\n",
      "54\n",
      "------------------------------\n",
      "########################\n"
     ]
    }
   ],
   "source": [
    "for i in range(100):\n",
    "    print(df_brd_w_prd_v2.loc[i, 'brand_name'])\n",
    "    print(df_brd_w_prd_v2.loc[i, 'product_link'])\n",
    "    print(len(df_brd_w_prd_v2.loc[i, 'product_link']))\n",
    "    print(\"------------------------------\")\n",
    "    print(df_brd_w_prd_v2.loc[i, 'product_name'])\n",
    "    print(len(df_brd_w_prd_v2.loc[i, 'product_name']))\n",
    "    print(\"------------------------------\")\n",
    "    print(\"########################\")"
   ]
  },
  {
   "cell_type": "code",
   "execution_count": 358,
   "id": "20f498d6-2a74-4d28-ba4f-c0acf665f4dc",
   "metadata": {
    "collapsed": true,
    "jupyter": {
     "outputs_hidden": true
    },
    "tags": []
   },
   "outputs": [
    {
     "data": {
      "text/html": [
       "<div>\n",
       "<style scoped>\n",
       "    .dataframe tbody tr th:only-of-type {\n",
       "        vertical-align: middle;\n",
       "    }\n",
       "\n",
       "    .dataframe tbody tr th {\n",
       "        vertical-align: top;\n",
       "    }\n",
       "\n",
       "    .dataframe thead th {\n",
       "        text-align: right;\n",
       "    }\n",
       "</style>\n",
       "<table border=\"1\" class=\"dataframe\">\n",
       "  <thead>\n",
       "    <tr style=\"text-align: right;\">\n",
       "      <th></th>\n",
       "      <th>brand_code</th>\n",
       "      <th>brand_name</th>\n",
       "      <th>category</th>\n",
       "      <th>product_link</th>\n",
       "      <th>product_name</th>\n",
       "    </tr>\n",
       "  </thead>\n",
       "  <tbody>\n",
       "    <tr>\n",
       "      <th>8002</th>\n",
       "      <td>https://www.glowpick.com/brands/7740</td>\n",
       "      <td>TMTR</td>\n",
       "      <td>['마스크/팩']</td>\n",
       "      <td>['https://www.glowpick.com/products/102000']</td>\n",
       "      <td>['눈꽃 마스크팩']</td>\n",
       "    </tr>\n",
       "    <tr>\n",
       "      <th>8003</th>\n",
       "      <td>https://www.glowpick.com/brands/10295</td>\n",
       "      <td>TRUE LIFE</td>\n",
       "      <td>['이너뷰티']</td>\n",
       "      <td>['https://www.glowpick.com/products/133174']</td>\n",
       "      <td>['프라임 건강한 간 밀크씨슬 스페셜']</td>\n",
       "    </tr>\n",
       "    <tr>\n",
       "      <th>8004</th>\n",
       "      <td>https://www.glowpick.com/brands/11764</td>\n",
       "      <td>TNU</td>\n",
       "      <td>['스킨케어', '생활용품']</td>\n",
       "      <td>['https://www.glowpick.com/products/146975', '...</td>\n",
       "      <td>['락토멜리아 마일드 폼 워시', '락토멜리아 프로바이오발란스 리페어 크림']</td>\n",
       "    </tr>\n",
       "    <tr>\n",
       "      <th>8005</th>\n",
       "      <td>https://www.glowpick.com/brands/3793</td>\n",
       "      <td>TS</td>\n",
       "      <td>['이너뷰티', '아이메이크업', '클렌징', '마스크/팩', '배쓰&amp;바디', '헤...</td>\n",
       "      <td>['https://www.glowpick.com/products/95342', 'h...</td>\n",
       "      <td>['TS래쉬', 'TS마스크팩', '올뉴TS샴푸', 'TS헤어팩', '프리미엄TS트...</td>\n",
       "    </tr>\n",
       "    <tr>\n",
       "      <th>8006</th>\n",
       "      <td>https://www.glowpick.com/brands/6397</td>\n",
       "      <td>TSS</td>\n",
       "      <td>['아이메이크업']</td>\n",
       "      <td>['https://www.glowpick.com/products/85482']</td>\n",
       "      <td>['타투 아이브로우']</td>\n",
       "    </tr>\n",
       "    <tr>\n",
       "      <th>8007</th>\n",
       "      <td>https://www.glowpick.com/brands/7120</td>\n",
       "      <td>TSW</td>\n",
       "      <td>['페이스메이크업', '립메이크업', '아이메이크업']</td>\n",
       "      <td>['https://www.glowpick.com/products/108099', '...</td>\n",
       "      <td>['매트 핏 올킬 립스틱', '매직 아이틴트', '매직 워터틴트', '올킬 붓펜 아...</td>\n",
       "    </tr>\n",
       "    <tr>\n",
       "      <th>8008</th>\n",
       "      <td>https://www.glowpick.com/brands/11613</td>\n",
       "      <td>TZ코스메틱</td>\n",
       "      <td>['스킨케어']</td>\n",
       "      <td>['https://www.glowpick.com/products/144953']</td>\n",
       "      <td>['물푸레 맑은 수분 토너']</td>\n",
       "    </tr>\n",
       "    <tr>\n",
       "      <th>8009</th>\n",
       "      <td>https://www.glowpick.com/brands/11544</td>\n",
       "      <td>UUUUU</td>\n",
       "      <td>['네일']</td>\n",
       "      <td>['https://www.glowpick.com/products/144230', '...</td>\n",
       "      <td>['젤 네일', '(젬스톤 컬렉션) 젤 네일']</td>\n",
       "    </tr>\n",
       "    <tr>\n",
       "      <th>8010</th>\n",
       "      <td>https://www.glowpick.com/brands/11</td>\n",
       "      <td>VDL</td>\n",
       "      <td>['스킨케어', '페이스메이크업', '립메이크업', '아이메이크업', '컨투어링',...</td>\n",
       "      <td>['https://www.glowpick.com/products/92409', 'h...</td>\n",
       "      <td>['엑스퍼트 아이밤 부스팅 픽서', '페스티벌 블러셔', '엑스퍼트 컬러 프라이머 ...</td>\n",
       "    </tr>\n",
       "    <tr>\n",
       "      <th>8011</th>\n",
       "      <td>https://www.glowpick.com/brands/6652</td>\n",
       "      <td>VT COSMETICS</td>\n",
       "      <td>['스킨케어', '페이스메이크업', '립메이크업', '아이메이크업', '컨투어링',...</td>\n",
       "      <td>['https://www.glowpick.com/products/106938', '...</td>\n",
       "      <td>['스팟 패치', '시카 마스크 팩', '프로그로스 콜라겐 팩트 [SPF50+/PA...</td>\n",
       "    </tr>\n",
       "    <tr>\n",
       "      <th>8012</th>\n",
       "      <td>https://www.glowpick.com/brands/7436</td>\n",
       "      <td>W.SKIN LABORATORY</td>\n",
       "      <td>['스킨케어', '마스크/팩', '선케어', '배쓰&amp;바디', '프래그런스']</td>\n",
       "      <td>['https://www.glowpick.com/products/98427', 'h...</td>\n",
       "      <td>['화이트 글루타치온 톤업크림', '트리플케어 선크림 [SPF50+/PA++++]'...</td>\n",
       "    </tr>\n",
       "    <tr>\n",
       "      <th>8013</th>\n",
       "      <td>https://www.glowpick.com/brands/2304</td>\n",
       "      <td>W7</td>\n",
       "      <td>['아이메이크업', '컨투어링']</td>\n",
       "      <td>['https://www.glowpick.com/products/129542', '...</td>\n",
       "      <td>['소셜라이트 아이섀도우 팔레트', '블레이진 아이섀도우 팔레트', '인 더 버프 ...</td>\n",
       "    </tr>\n",
       "    <tr>\n",
       "      <th>8014</th>\n",
       "      <td>https://www.glowpick.com/brands/2454</td>\n",
       "      <td>WHY</td>\n",
       "      <td>['스킨케어', '클렌징', '배쓰&amp;바디', '헤어']</td>\n",
       "      <td>['https://www.glowpick.com/products/39831', 'h...</td>\n",
       "      <td>['프렌치부케 샴푸', '퓨리파잉 내추럴 프로그래밍 에센스', '딜라이트 로즈 바디...</td>\n",
       "    </tr>\n",
       "    <tr>\n",
       "      <th>8015</th>\n",
       "      <td>https://www.glowpick.com/brands/661</td>\n",
       "      <td>XTM</td>\n",
       "      <td>['남성화장품', '뷰티툴']</td>\n",
       "      <td>['https://www.glowpick.com/products/116276', '...</td>\n",
       "      <td>['멀티 비비 스틱 [SPF50+/PA++++]', '퍼퓸건', '이지 헤어라이너'...</td>\n",
       "    </tr>\n",
       "    <tr>\n",
       "      <th>8016</th>\n",
       "      <td>https://www.glowpick.com/brands/9408</td>\n",
       "      <td>YNM</td>\n",
       "      <td>['립메이크업', '컨투어링', '클렌징', '마스크/팩', '배쓰&amp;바디']</td>\n",
       "      <td>['https://www.glowpick.com/products/120915', '...</td>\n",
       "      <td>['레인보우 허니 립 밤', '캔디 허니 립밤', '퀵 모닝 앤 나이트 케어 마스크...</td>\n",
       "    </tr>\n",
       "    <tr>\n",
       "      <th>8017</th>\n",
       "      <td>https://www.glowpick.com/brands/6009</td>\n",
       "      <td>YS solution</td>\n",
       "      <td>['스킨케어', '선케어']</td>\n",
       "      <td>['https://www.glowpick.com/products/80129', 'h...</td>\n",
       "      <td>['인텐시브 AC케어겔', '[단종]  울트라 프로텍션 선크림 [SPF50+/PA+...</td>\n",
       "    </tr>\n",
       "    <tr>\n",
       "      <th>8018</th>\n",
       "      <td>https://www.glowpick.com/brands/11352</td>\n",
       "      <td>YSJ cosmetics</td>\n",
       "      <td>['스킨케어']</td>\n",
       "      <td>['https://www.glowpick.com/products/142675']</td>\n",
       "      <td>['아이카라 톤업 크림']</td>\n",
       "    </tr>\n",
       "    <tr>\n",
       "      <th>8019</th>\n",
       "      <td>https://www.glowpick.com/brands/3641</td>\n",
       "      <td>ZARA</td>\n",
       "      <td>['립메이크업', '아이메이크업', '컨투어링', '프래그런스']</td>\n",
       "      <td>['https://www.glowpick.com/products/135201', '...</td>\n",
       "      <td>['자라 X 조말론 [베티버 팜플무스]', '자라 X 조말론 [에보니 우드]', '...</td>\n",
       "    </tr>\n",
       "    <tr>\n",
       "      <th>8020</th>\n",
       "      <td>https://www.glowpick.com/brands/9780</td>\n",
       "      <td>ZWC</td>\n",
       "      <td>['스킨케어']</td>\n",
       "      <td>['https://www.glowpick.com/products/125442']</td>\n",
       "      <td>['아이크리미골드세럼 올페이스 81']</td>\n",
       "    </tr>\n",
       "    <tr>\n",
       "      <th>8021</th>\n",
       "      <td>https://www.glowpick.com/brands/6829</td>\n",
       "      <td>0720</td>\n",
       "      <td>['페이스메이크업', '립메이크업', '아이메이크업', '컨투어링', '뷰티툴', ...</td>\n",
       "      <td>['https://www.glowpick.com/products/97145', 'h...</td>\n",
       "      <td>['베이비 라이크 블러셔', '올백 쿠션 [SPF50+/PA+++]', '오일크러쉬...</td>\n",
       "    </tr>\n",
       "    <tr>\n",
       "      <th>8022</th>\n",
       "      <td>https://www.glowpick.com/brands/7696</td>\n",
       "      <td>1.618</td>\n",
       "      <td>['스킨케어', '클렌징', '마스크/팩']</td>\n",
       "      <td>['https://www.glowpick.com/products/101364', '...</td>\n",
       "      <td>['골드 인텐시브 링클케어 크림', '히알루론산 앰플 토너', '화산송이 클레이 블...</td>\n",
       "    </tr>\n",
       "    <tr>\n",
       "      <th>8023</th>\n",
       "      <td>https://www.glowpick.com/brands/6812</td>\n",
       "      <td>1028 VISUAL THERAPY</td>\n",
       "      <td>['페이스메이크업', '아이메이크업']</td>\n",
       "      <td>['https://www.glowpick.com/products/92080', 'h...</td>\n",
       "      <td>['1028 마카롱 아이섀도우 키트', '얼티메이트 오일 컨트롤 파우더']</td>\n",
       "    </tr>\n",
       "    <tr>\n",
       "      <th>8024</th>\n",
       "      <td>https://www.glowpick.com/brands/8584</td>\n",
       "      <td>10mgRx</td>\n",
       "      <td>['스킨케어', '페이스메이크업', '뷰티툴', '클렌징']</td>\n",
       "      <td>['https://www.glowpick.com/products/106275', '...</td>\n",
       "      <td>['나이아신아마이드5.0 미백 앰플', '프로폴리스50진정토너', '하이드라 비비크...</td>\n",
       "    </tr>\n",
       "    <tr>\n",
       "      <th>8025</th>\n",
       "      <td>https://www.glowpick.com/brands/2006</td>\n",
       "      <td>16BRAND</td>\n",
       "      <td>['스킨케어', '페이스메이크업', '립메이크업', '아이메이크업', '컨투어링',...</td>\n",
       "      <td>['https://www.glowpick.com/products/112878', '...</td>\n",
       "      <td>['16 치크 샷', '16 만능 슈퍼 클렌징 밤', '16 마이 매거진', '알 ...</td>\n",
       "    </tr>\n",
       "    <tr>\n",
       "      <th>8026</th>\n",
       "      <td>https://www.glowpick.com/brands/729</td>\n",
       "      <td>1960NY</td>\n",
       "      <td>['스킨케어', '페이스메이크업', '남성화장품', '클렌징']</td>\n",
       "      <td>['https://www.glowpick.com/products/20041', 'h...</td>\n",
       "      <td>['수퍼 리치 크림', '인텐시브 리바이탈 크림', '모이스처 액티베이트 크림', ...</td>\n",
       "    </tr>\n",
       "    <tr>\n",
       "      <th>8027</th>\n",
       "      <td>https://www.glowpick.com/brands/10680</td>\n",
       "      <td>1am</td>\n",
       "      <td>['이너뷰티']</td>\n",
       "      <td>['https://www.glowpick.com/products/137730']</td>\n",
       "      <td>['깔롱젤리그린']</td>\n",
       "    </tr>\n",
       "    <tr>\n",
       "      <th>8028</th>\n",
       "      <td>https://www.glowpick.com/brands/10397</td>\n",
       "      <td>2080</td>\n",
       "      <td>['생활용품']</td>\n",
       "      <td>['https://www.glowpick.com/products/134382', '...</td>\n",
       "      <td>['동의청은차고은진 치약', '시그니처 토탈블루 치약', '오리지날 치약 [알파블루...</td>\n",
       "    </tr>\n",
       "    <tr>\n",
       "      <th>8029</th>\n",
       "      <td>https://www.glowpick.com/brands/9076</td>\n",
       "      <td>21세기 센트리</td>\n",
       "      <td>['이너뷰티']</td>\n",
       "      <td>['https://www.glowpick.com/products/116480', '...</td>\n",
       "      <td>['애시도필러스 프로바이오틱 블렌드', '센트리 시니어 여성 종합비타민 및 미네랄']</td>\n",
       "    </tr>\n",
       "    <tr>\n",
       "      <th>8030</th>\n",
       "      <td>https://www.glowpick.com/brands/9801</td>\n",
       "      <td>2202</td>\n",
       "      <td>['스킨케어']</td>\n",
       "      <td>['https://www.glowpick.com/products/125809', '...</td>\n",
       "      <td>['노시트 마스크팩', '레디언스 시카 토닉 에센스']</td>\n",
       "    </tr>\n",
       "    <tr>\n",
       "      <th>8031</th>\n",
       "      <td>https://www.glowpick.com/brands/2</td>\n",
       "      <td>23 years old</td>\n",
       "      <td>['스킨케어', '페이스메이크업', '클렌징', '마스크/팩', '선케어', '배쓰...</td>\n",
       "      <td>['https://www.glowpick.com/products/46945', 'h...</td>\n",
       "      <td>['코쿤 윌로우 실키 마스크', '바데카실P', '바데카실 더마실 마스크', 'CX...</td>\n",
       "    </tr>\n",
       "    <tr>\n",
       "      <th>8032</th>\n",
       "      <td>https://www.glowpick.com/brands/8871</td>\n",
       "      <td>236:)</td>\n",
       "      <td>['배쓰&amp;바디', '생활용품']</td>\n",
       "      <td>['https://www.glowpick.com/products/114295', '...</td>\n",
       "      <td>['핸드워시', '접이식 황사 마스크 KF80 대형 흰색', '접이식 방역용 마스크...</td>\n",
       "    </tr>\n",
       "    <tr>\n",
       "      <th>8033</th>\n",
       "      <td>https://www.glowpick.com/brands/5708</td>\n",
       "      <td>24/7</td>\n",
       "      <td>['스킨케어', '립메이크업']</td>\n",
       "      <td>['https://www.glowpick.com/products/75991', 'h...</td>\n",
       "      <td>['인앤아웃 컨디셔닝 미스트 듀오', '허니 듀얼 립 트리트먼트']</td>\n",
       "    </tr>\n",
       "    <tr>\n",
       "      <th>8034</th>\n",
       "      <td>https://www.glowpick.com/brands/9426</td>\n",
       "      <td>24MIRACLE</td>\n",
       "      <td>['마스크/팩']</td>\n",
       "      <td>['https://www.glowpick.com/products/121107']</td>\n",
       "      <td>['아쿠아 앰플 마스크']</td>\n",
       "    </tr>\n",
       "    <tr>\n",
       "      <th>8035</th>\n",
       "      <td>https://www.glowpick.com/brands/2005</td>\n",
       "      <td>252코스메틱</td>\n",
       "      <td>['클렌징', '마스크/팩']</td>\n",
       "      <td>['https://www.glowpick.com/products/33438', 'h...</td>\n",
       "      <td>['252울트라보어이팩트 (화이트)', '252 라이크유']</td>\n",
       "    </tr>\n",
       "    <tr>\n",
       "      <th>8036</th>\n",
       "      <td>https://www.glowpick.com/brands/7123</td>\n",
       "      <td>29데이즈</td>\n",
       "      <td>['생활용품']</td>\n",
       "      <td>['https://www.glowpick.com/products/93246', 'h...</td>\n",
       "      <td>['중형 날개형', '대형 날개형', '팬티라이너롱', '약산성 여성청결제']</td>\n",
       "    </tr>\n",
       "    <tr>\n",
       "      <th>8037</th>\n",
       "      <td>https://www.glowpick.com/brands/5747</td>\n",
       "      <td>2교시피클</td>\n",
       "      <td>['클렌징']</td>\n",
       "      <td>['https://www.glowpick.com/products/76349']</td>\n",
       "      <td>['[단종]  AC컨트롤 클렌징폼']</td>\n",
       "    </tr>\n",
       "    <tr>\n",
       "      <th>8038</th>\n",
       "      <td>https://www.glowpick.com/brands/7722</td>\n",
       "      <td>302화이트</td>\n",
       "      <td>['스킨케어', '클렌징', '마스크/팩']</td>\n",
       "      <td>['https://www.glowpick.com/products/107581', '...</td>\n",
       "      <td>['아이스브레이킹 크림', '스킨글로우 솔루션1', '투스텝 멜팅 마스크', '스킨...</td>\n",
       "    </tr>\n",
       "    <tr>\n",
       "      <th>8039</th>\n",
       "      <td>https://www.glowpick.com/brands/9006</td>\n",
       "      <td>31도씨</td>\n",
       "      <td>['스킨케어']</td>\n",
       "      <td>['https://www.glowpick.com/products/115826', '...</td>\n",
       "      <td>['스프라웃 아일랜드 모이스처 크림', '스프라웃 아일랜드 골든시위드 페이셜 미스트...</td>\n",
       "    </tr>\n",
       "    <tr>\n",
       "      <th>8040</th>\n",
       "      <td>https://www.glowpick.com/brands/11862</td>\n",
       "      <td>365더건강</td>\n",
       "      <td>['이너뷰티']</td>\n",
       "      <td>['https://www.glowpick.com/products/147882']</td>\n",
       "      <td>['에버뷰티 석류 콜라겐 젤리']</td>\n",
       "    </tr>\n",
       "    <tr>\n",
       "      <th>8041</th>\n",
       "      <td>https://www.glowpick.com/brands/143</td>\n",
       "      <td>3CE</td>\n",
       "      <td>['스킨케어', '페이스메이크업', '립메이크업', '아이메이크업', '컨투어링',...</td>\n",
       "      <td>['https://www.glowpick.com/products/99990', 'h...</td>\n",
       "      <td>['무드 레시피 페이스 블러쉬', '아이 스위치', '무드 레시피 멀티 아이 컬러 ...</td>\n",
       "    </tr>\n",
       "    <tr>\n",
       "      <th>8042</th>\n",
       "      <td>https://www.glowpick.com/brands/7049</td>\n",
       "      <td>3INA</td>\n",
       "      <td>['립메이크업']</td>\n",
       "      <td>['https://www.glowpick.com/products/92714']</td>\n",
       "      <td>['더 처비 립스틱']</td>\n",
       "    </tr>\n",
       "    <tr>\n",
       "      <th>8043</th>\n",
       "      <td>https://www.glowpick.com/brands/2148</td>\n",
       "      <td>3M 넥스케어™</td>\n",
       "      <td>['스킨케어', '남성화장품', '마스크/팩', '배쓰&amp;바디', '생활용품']</td>\n",
       "      <td>['https://www.glowpick.com/products/129966', '...</td>\n",
       "      <td>['블레미쉬 패치 케어', '블레미쉬 클리어 커버 릴리프', '위생 마스크', '새...</td>\n",
       "    </tr>\n",
       "    <tr>\n",
       "      <th>8044</th>\n",
       "      <td>https://www.glowpick.com/brands/11950</td>\n",
       "      <td>3pages</td>\n",
       "      <td>['스킨케어', '마스크/팩']</td>\n",
       "      <td>['https://www.glowpick.com/products/148581', '...</td>\n",
       "      <td>['오버나이트 트리트먼트 펩타이드 크림', '하이드로 락 펩타이드 카밍 패드', '...</td>\n",
       "    </tr>\n",
       "    <tr>\n",
       "      <th>8045</th>\n",
       "      <td>https://www.glowpick.com/brands/4596</td>\n",
       "      <td>3W 크리닉</td>\n",
       "      <td>['스킨케어', '페이스메이크업', '컨투어링', '클렌징', '선케어', '배쓰&amp;...</td>\n",
       "      <td>['https://www.glowpick.com/products/86262', 'h...</td>\n",
       "      <td>['모이스처라이징 올리브 핸드크림', '3존 키트', '알로에 베라 수딩젤', '모...</td>\n",
       "    </tr>\n",
       "    <tr>\n",
       "      <th>8046</th>\n",
       "      <td>https://www.glowpick.com/brands/10843</td>\n",
       "      <td>3초</td>\n",
       "      <td>['생활용품']</td>\n",
       "      <td>['https://www.glowpick.com/products/138922']</td>\n",
       "      <td>['여성 청결 미스트']</td>\n",
       "    </tr>\n",
       "    <tr>\n",
       "      <th>8047</th>\n",
       "      <td>https://www.glowpick.com/brands/490</td>\n",
       "      <td>4711</td>\n",
       "      <td>['프래그런스']</td>\n",
       "      <td>['https://www.glowpick.com/products/1622', 'ht...</td>\n",
       "      <td>['아쿠아 콜로니아 블러드 오렌지 &amp; 바즐 오 드 코롱', '누보 콜로뉴 오드코롱'...</td>\n",
       "    </tr>\n",
       "    <tr>\n",
       "      <th>8048</th>\n",
       "      <td>https://www.glowpick.com/brands/10747</td>\n",
       "      <td>5.2뉴트리션</td>\n",
       "      <td>['이너뷰티']</td>\n",
       "      <td>['https://www.glowpick.com/products/138092']</td>\n",
       "      <td>['다이어트 베이스 [초코맛]']</td>\n",
       "    </tr>\n",
       "    <tr>\n",
       "      <th>8049</th>\n",
       "      <td>https://www.glowpick.com/brands/10183</td>\n",
       "      <td>76N1</td>\n",
       "      <td>['스킨케어', '클렌징', '마스크/팩']</td>\n",
       "      <td>['https://www.glowpick.com/products/140014', '...</td>\n",
       "      <td>['비 해피 더블 액션 미스트', '비 해피 오일 [대마씨 &amp; 동백]', '슈퍼듀퍼...</td>\n",
       "    </tr>\n",
       "    <tr>\n",
       "      <th>8050</th>\n",
       "      <td>https://www.glowpick.com/brands/6814</td>\n",
       "      <td>87발렌타인</td>\n",
       "      <td>['배쓰&amp;바디']</td>\n",
       "      <td>['https://www.glowpick.com/products/89547']</td>\n",
       "      <td>['이상훈의 제모크림']</td>\n",
       "    </tr>\n",
       "    <tr>\n",
       "      <th>8051</th>\n",
       "      <td>https://www.glowpick.com/brands/6151</td>\n",
       "      <td>9컴플렉스</td>\n",
       "      <td>['뷰티툴']</td>\n",
       "      <td>['https://www.glowpick.com/products/81570']</td>\n",
       "      <td>['아이래쉬 뷰러']</td>\n",
       "    </tr>\n",
       "  </tbody>\n",
       "</table>\n",
       "</div>"
      ],
      "text/plain": [
       "                                 brand_code           brand_name  \\\n",
       "8002   https://www.glowpick.com/brands/7740                 TMTR   \n",
       "8003  https://www.glowpick.com/brands/10295            TRUE LIFE   \n",
       "8004  https://www.glowpick.com/brands/11764                  TNU   \n",
       "8005   https://www.glowpick.com/brands/3793                   TS   \n",
       "8006   https://www.glowpick.com/brands/6397                  TSS   \n",
       "8007   https://www.glowpick.com/brands/7120                  TSW   \n",
       "8008  https://www.glowpick.com/brands/11613               TZ코스메틱   \n",
       "8009  https://www.glowpick.com/brands/11544                UUUUU   \n",
       "8010     https://www.glowpick.com/brands/11                  VDL   \n",
       "8011   https://www.glowpick.com/brands/6652         VT COSMETICS   \n",
       "8012   https://www.glowpick.com/brands/7436    W.SKIN LABORATORY   \n",
       "8013   https://www.glowpick.com/brands/2304                   W7   \n",
       "8014   https://www.glowpick.com/brands/2454                  WHY   \n",
       "8015    https://www.glowpick.com/brands/661                  XTM   \n",
       "8016   https://www.glowpick.com/brands/9408                  YNM   \n",
       "8017   https://www.glowpick.com/brands/6009          YS solution   \n",
       "8018  https://www.glowpick.com/brands/11352        YSJ cosmetics   \n",
       "8019   https://www.glowpick.com/brands/3641                 ZARA   \n",
       "8020   https://www.glowpick.com/brands/9780                  ZWC   \n",
       "8021   https://www.glowpick.com/brands/6829                 0720   \n",
       "8022   https://www.glowpick.com/brands/7696                1.618   \n",
       "8023   https://www.glowpick.com/brands/6812  1028 VISUAL THERAPY   \n",
       "8024   https://www.glowpick.com/brands/8584               10mgRx   \n",
       "8025   https://www.glowpick.com/brands/2006              16BRAND   \n",
       "8026    https://www.glowpick.com/brands/729               1960NY   \n",
       "8027  https://www.glowpick.com/brands/10680                  1am   \n",
       "8028  https://www.glowpick.com/brands/10397                 2080   \n",
       "8029   https://www.glowpick.com/brands/9076             21세기 센트리   \n",
       "8030   https://www.glowpick.com/brands/9801                 2202   \n",
       "8031      https://www.glowpick.com/brands/2         23 years old   \n",
       "8032   https://www.glowpick.com/brands/8871                236:)   \n",
       "8033   https://www.glowpick.com/brands/5708                 24/7   \n",
       "8034   https://www.glowpick.com/brands/9426            24MIRACLE   \n",
       "8035   https://www.glowpick.com/brands/2005              252코스메틱   \n",
       "8036   https://www.glowpick.com/brands/7123                29데이즈   \n",
       "8037   https://www.glowpick.com/brands/5747                2교시피클   \n",
       "8038   https://www.glowpick.com/brands/7722               302화이트   \n",
       "8039   https://www.glowpick.com/brands/9006                 31도씨   \n",
       "8040  https://www.glowpick.com/brands/11862               365더건강   \n",
       "8041    https://www.glowpick.com/brands/143                  3CE   \n",
       "8042   https://www.glowpick.com/brands/7049                 3INA   \n",
       "8043   https://www.glowpick.com/brands/2148             3M 넥스케어™   \n",
       "8044  https://www.glowpick.com/brands/11950               3pages   \n",
       "8045   https://www.glowpick.com/brands/4596               3W 크리닉   \n",
       "8046  https://www.glowpick.com/brands/10843                   3초   \n",
       "8047    https://www.glowpick.com/brands/490                 4711   \n",
       "8048  https://www.glowpick.com/brands/10747              5.2뉴트리션   \n",
       "8049  https://www.glowpick.com/brands/10183                 76N1   \n",
       "8050   https://www.glowpick.com/brands/6814               87발렌타인   \n",
       "8051   https://www.glowpick.com/brands/6151                9컴플렉스   \n",
       "\n",
       "                                               category  \\\n",
       "8002                                          ['마스크/팩']   \n",
       "8003                                           ['이너뷰티']   \n",
       "8004                                   ['스킨케어', '생활용품']   \n",
       "8005  ['이너뷰티', '아이메이크업', '클렌징', '마스크/팩', '배쓰&바디', '헤...   \n",
       "8006                                         ['아이메이크업']   \n",
       "8007                     ['페이스메이크업', '립메이크업', '아이메이크업']   \n",
       "8008                                           ['스킨케어']   \n",
       "8009                                             ['네일']   \n",
       "8010  ['스킨케어', '페이스메이크업', '립메이크업', '아이메이크업', '컨투어링',...   \n",
       "8011  ['스킨케어', '페이스메이크업', '립메이크업', '아이메이크업', '컨투어링',...   \n",
       "8012         ['스킨케어', '마스크/팩', '선케어', '배쓰&바디', '프래그런스']   \n",
       "8013                                 ['아이메이크업', '컨투어링']   \n",
       "8014                     ['스킨케어', '클렌징', '배쓰&바디', '헤어']   \n",
       "8015                                   ['남성화장품', '뷰티툴']   \n",
       "8016         ['립메이크업', '컨투어링', '클렌징', '마스크/팩', '배쓰&바디']   \n",
       "8017                                    ['스킨케어', '선케어']   \n",
       "8018                                           ['스킨케어']   \n",
       "8019               ['립메이크업', '아이메이크업', '컨투어링', '프래그런스']   \n",
       "8020                                           ['스킨케어']   \n",
       "8021  ['페이스메이크업', '립메이크업', '아이메이크업', '컨투어링', '뷰티툴', ...   \n",
       "8022                           ['스킨케어', '클렌징', '마스크/팩']   \n",
       "8023                              ['페이스메이크업', '아이메이크업']   \n",
       "8024                  ['스킨케어', '페이스메이크업', '뷰티툴', '클렌징']   \n",
       "8025  ['스킨케어', '페이스메이크업', '립메이크업', '아이메이크업', '컨투어링',...   \n",
       "8026                ['스킨케어', '페이스메이크업', '남성화장품', '클렌징']   \n",
       "8027                                           ['이너뷰티']   \n",
       "8028                                           ['생활용품']   \n",
       "8029                                           ['이너뷰티']   \n",
       "8030                                           ['스킨케어']   \n",
       "8031  ['스킨케어', '페이스메이크업', '클렌징', '마스크/팩', '선케어', '배쓰...   \n",
       "8032                                  ['배쓰&바디', '생활용품']   \n",
       "8033                                  ['스킨케어', '립메이크업']   \n",
       "8034                                          ['마스크/팩']   \n",
       "8035                                   ['클렌징', '마스크/팩']   \n",
       "8036                                           ['생활용품']   \n",
       "8037                                            ['클렌징']   \n",
       "8038                           ['스킨케어', '클렌징', '마스크/팩']   \n",
       "8039                                           ['스킨케어']   \n",
       "8040                                           ['이너뷰티']   \n",
       "8041  ['스킨케어', '페이스메이크업', '립메이크업', '아이메이크업', '컨투어링',...   \n",
       "8042                                          ['립메이크업']   \n",
       "8043        ['스킨케어', '남성화장품', '마스크/팩', '배쓰&바디', '생활용품']   \n",
       "8044                                  ['스킨케어', '마스크/팩']   \n",
       "8045  ['스킨케어', '페이스메이크업', '컨투어링', '클렌징', '선케어', '배쓰&...   \n",
       "8046                                           ['생활용품']   \n",
       "8047                                          ['프래그런스']   \n",
       "8048                                           ['이너뷰티']   \n",
       "8049                           ['스킨케어', '클렌징', '마스크/팩']   \n",
       "8050                                          ['배쓰&바디']   \n",
       "8051                                            ['뷰티툴']   \n",
       "\n",
       "                                           product_link  \\\n",
       "8002       ['https://www.glowpick.com/products/102000']   \n",
       "8003       ['https://www.glowpick.com/products/133174']   \n",
       "8004  ['https://www.glowpick.com/products/146975', '...   \n",
       "8005  ['https://www.glowpick.com/products/95342', 'h...   \n",
       "8006        ['https://www.glowpick.com/products/85482']   \n",
       "8007  ['https://www.glowpick.com/products/108099', '...   \n",
       "8008       ['https://www.glowpick.com/products/144953']   \n",
       "8009  ['https://www.glowpick.com/products/144230', '...   \n",
       "8010  ['https://www.glowpick.com/products/92409', 'h...   \n",
       "8011  ['https://www.glowpick.com/products/106938', '...   \n",
       "8012  ['https://www.glowpick.com/products/98427', 'h...   \n",
       "8013  ['https://www.glowpick.com/products/129542', '...   \n",
       "8014  ['https://www.glowpick.com/products/39831', 'h...   \n",
       "8015  ['https://www.glowpick.com/products/116276', '...   \n",
       "8016  ['https://www.glowpick.com/products/120915', '...   \n",
       "8017  ['https://www.glowpick.com/products/80129', 'h...   \n",
       "8018       ['https://www.glowpick.com/products/142675']   \n",
       "8019  ['https://www.glowpick.com/products/135201', '...   \n",
       "8020       ['https://www.glowpick.com/products/125442']   \n",
       "8021  ['https://www.glowpick.com/products/97145', 'h...   \n",
       "8022  ['https://www.glowpick.com/products/101364', '...   \n",
       "8023  ['https://www.glowpick.com/products/92080', 'h...   \n",
       "8024  ['https://www.glowpick.com/products/106275', '...   \n",
       "8025  ['https://www.glowpick.com/products/112878', '...   \n",
       "8026  ['https://www.glowpick.com/products/20041', 'h...   \n",
       "8027       ['https://www.glowpick.com/products/137730']   \n",
       "8028  ['https://www.glowpick.com/products/134382', '...   \n",
       "8029  ['https://www.glowpick.com/products/116480', '...   \n",
       "8030  ['https://www.glowpick.com/products/125809', '...   \n",
       "8031  ['https://www.glowpick.com/products/46945', 'h...   \n",
       "8032  ['https://www.glowpick.com/products/114295', '...   \n",
       "8033  ['https://www.glowpick.com/products/75991', 'h...   \n",
       "8034       ['https://www.glowpick.com/products/121107']   \n",
       "8035  ['https://www.glowpick.com/products/33438', 'h...   \n",
       "8036  ['https://www.glowpick.com/products/93246', 'h...   \n",
       "8037        ['https://www.glowpick.com/products/76349']   \n",
       "8038  ['https://www.glowpick.com/products/107581', '...   \n",
       "8039  ['https://www.glowpick.com/products/115826', '...   \n",
       "8040       ['https://www.glowpick.com/products/147882']   \n",
       "8041  ['https://www.glowpick.com/products/99990', 'h...   \n",
       "8042        ['https://www.glowpick.com/products/92714']   \n",
       "8043  ['https://www.glowpick.com/products/129966', '...   \n",
       "8044  ['https://www.glowpick.com/products/148581', '...   \n",
       "8045  ['https://www.glowpick.com/products/86262', 'h...   \n",
       "8046       ['https://www.glowpick.com/products/138922']   \n",
       "8047  ['https://www.glowpick.com/products/1622', 'ht...   \n",
       "8048       ['https://www.glowpick.com/products/138092']   \n",
       "8049  ['https://www.glowpick.com/products/140014', '...   \n",
       "8050        ['https://www.glowpick.com/products/89547']   \n",
       "8051        ['https://www.glowpick.com/products/81570']   \n",
       "\n",
       "                                           product_name  \n",
       "8002                                        ['눈꽃 마스크팩']  \n",
       "8003                             ['프라임 건강한 간 밀크씨슬 스페셜']  \n",
       "8004        ['락토멜리아 마일드 폼 워시', '락토멜리아 프로바이오발란스 리페어 크림']  \n",
       "8005  ['TS래쉬', 'TS마스크팩', '올뉴TS샴푸', 'TS헤어팩', '프리미엄TS트...  \n",
       "8006                                       ['타투 아이브로우']  \n",
       "8007  ['매트 핏 올킬 립스틱', '매직 아이틴트', '매직 워터틴트', '올킬 붓펜 아...  \n",
       "8008                                   ['물푸레 맑은 수분 토너']  \n",
       "8009                         ['젤 네일', '(젬스톤 컬렉션) 젤 네일']  \n",
       "8010  ['엑스퍼트 아이밤 부스팅 픽서', '페스티벌 블러셔', '엑스퍼트 컬러 프라이머 ...  \n",
       "8011  ['스팟 패치', '시카 마스크 팩', '프로그로스 콜라겐 팩트 [SPF50+/PA...  \n",
       "8012  ['화이트 글루타치온 톤업크림', '트리플케어 선크림 [SPF50+/PA++++]'...  \n",
       "8013  ['소셜라이트 아이섀도우 팔레트', '블레이진 아이섀도우 팔레트', '인 더 버프 ...  \n",
       "8014  ['프렌치부케 샴푸', '퓨리파잉 내추럴 프로그래밍 에센스', '딜라이트 로즈 바디...  \n",
       "8015  ['멀티 비비 스틱 [SPF50+/PA++++]', '퍼퓸건', '이지 헤어라이너'...  \n",
       "8016  ['레인보우 허니 립 밤', '캔디 허니 립밤', '퀵 모닝 앤 나이트 케어 마스크...  \n",
       "8017  ['인텐시브 AC케어겔', '[단종]  울트라 프로텍션 선크림 [SPF50+/PA+...  \n",
       "8018                                     ['아이카라 톤업 크림']  \n",
       "8019  ['자라 X 조말론 [베티버 팜플무스]', '자라 X 조말론 [에보니 우드]', '...  \n",
       "8020                              ['아이크리미골드세럼 올페이스 81']  \n",
       "8021  ['베이비 라이크 블러셔', '올백 쿠션 [SPF50+/PA+++]', '오일크러쉬...  \n",
       "8022  ['골드 인텐시브 링클케어 크림', '히알루론산 앰플 토너', '화산송이 클레이 블...  \n",
       "8023          ['1028 마카롱 아이섀도우 키트', '얼티메이트 오일 컨트롤 파우더']  \n",
       "8024  ['나이아신아마이드5.0 미백 앰플', '프로폴리스50진정토너', '하이드라 비비크...  \n",
       "8025  ['16 치크 샷', '16 만능 슈퍼 클렌징 밤', '16 마이 매거진', '알 ...  \n",
       "8026  ['수퍼 리치 크림', '인텐시브 리바이탈 크림', '모이스처 액티베이트 크림', ...  \n",
       "8027                                         ['깔롱젤리그린']  \n",
       "8028  ['동의청은차고은진 치약', '시그니처 토탈블루 치약', '오리지날 치약 [알파블루...  \n",
       "8029    ['애시도필러스 프로바이오틱 블렌드', '센트리 시니어 여성 종합비타민 및 미네랄']  \n",
       "8030                     ['노시트 마스크팩', '레디언스 시카 토닉 에센스']  \n",
       "8031  ['코쿤 윌로우 실키 마스크', '바데카실P', '바데카실 더마실 마스크', 'CX...  \n",
       "8032  ['핸드워시', '접이식 황사 마스크 KF80 대형 흰색', '접이식 방역용 마스크...  \n",
       "8033              ['인앤아웃 컨디셔닝 미스트 듀오', '허니 듀얼 립 트리트먼트']  \n",
       "8034                                     ['아쿠아 앰플 마스크']  \n",
       "8035                  ['252울트라보어이팩트 (화이트)', '252 라이크유']  \n",
       "8036        ['중형 날개형', '대형 날개형', '팬티라이너롱', '약산성 여성청결제']  \n",
       "8037                               ['[단종]  AC컨트롤 클렌징폼']  \n",
       "8038  ['아이스브레이킹 크림', '스킨글로우 솔루션1', '투스텝 멜팅 마스크', '스킨...  \n",
       "8039  ['스프라웃 아일랜드 모이스처 크림', '스프라웃 아일랜드 골든시위드 페이셜 미스트...  \n",
       "8040                                 ['에버뷰티 석류 콜라겐 젤리']  \n",
       "8041  ['무드 레시피 페이스 블러쉬', '아이 스위치', '무드 레시피 멀티 아이 컬러 ...  \n",
       "8042                                       ['더 처비 립스틱']  \n",
       "8043  ['블레미쉬 패치 케어', '블레미쉬 클리어 커버 릴리프', '위생 마스크', '새...  \n",
       "8044  ['오버나이트 트리트먼트 펩타이드 크림', '하이드로 락 펩타이드 카밍 패드', '...  \n",
       "8045  ['모이스처라이징 올리브 핸드크림', '3존 키트', '알로에 베라 수딩젤', '모...  \n",
       "8046                                      ['여성 청결 미스트']  \n",
       "8047  ['아쿠아 콜로니아 블러드 오렌지 & 바즐 오 드 코롱', '누보 콜로뉴 오드코롱'...  \n",
       "8048                                 ['다이어트 베이스 [초코맛]']  \n",
       "8049  ['비 해피 더블 액션 미스트', '비 해피 오일 [대마씨 & 동백]', '슈퍼듀퍼...  \n",
       "8050                                      ['이상훈의 제모크림']  \n",
       "8051                                        ['아이래쉬 뷰러']  "
      ]
     },
     "execution_count": 358,
     "metadata": {},
     "output_type": "execute_result"
    }
   ],
   "source": [
    "df_brd_w_prd_v2.tail(50)"
   ]
  },
  {
   "cell_type": "code",
   "execution_count": 479,
   "id": "7e9b7006-226a-45f1-a106-8c4ddc9693ea",
   "metadata": {},
   "outputs": [],
   "source": [
    "v4_3 = pd.read_csv(\"glow_pick_product_info_v4.3.csv\")"
   ]
  },
  {
   "cell_type": "code",
   "execution_count": 482,
   "id": "6476f021-3970-4c81-97ec-7a8f3e3edb78",
   "metadata": {},
   "outputs": [
    {
     "data": {
      "text/html": [
       "<div>\n",
       "<style scoped>\n",
       "    .dataframe tbody tr th:only-of-type {\n",
       "        vertical-align: middle;\n",
       "    }\n",
       "\n",
       "    .dataframe tbody tr th {\n",
       "        vertical-align: top;\n",
       "    }\n",
       "\n",
       "    .dataframe thead th {\n",
       "        text-align: right;\n",
       "    }\n",
       "</style>\n",
       "<table border=\"1\" class=\"dataframe\">\n",
       "  <thead>\n",
       "    <tr style=\"text-align: right;\">\n",
       "      <th></th>\n",
       "      <th>Unnamed: 0</th>\n",
       "      <th>브랜드_link</th>\n",
       "      <th>브랜드명</th>\n",
       "      <th>브랜드_id</th>\n",
       "      <th>제품_link</th>\n",
       "      <th>제품_id</th>\n",
       "      <th>제품명</th>\n",
       "      <th>제품 용량</th>\n",
       "      <th>제품 가격</th>\n",
       "      <th>유사 제품군 랭킹(int)</th>\n",
       "      <th>...</th>\n",
       "      <th>제품 성분 구성 : 중간 위험도(갯수)</th>\n",
       "      <th>제품 성분 구성 : 중간 위험도 (성분(한글))</th>\n",
       "      <th>제품 성분 구성 : 중간 위험도 (성분(영어))</th>\n",
       "      <th>제품 성분 구성 : 중간 위험도 (성분(설명))</th>\n",
       "      <th>제품 성분 구성 : 높은 위험도</th>\n",
       "      <th>제품 성분 구성 : 높은 위험도(갯수)</th>\n",
       "      <th>제품 성분 구성 : 높은 위험도 (성분(한글))</th>\n",
       "      <th>제품 성분 구성 : 높은 위험도 (성분(영어))</th>\n",
       "      <th>제품 성분 구성 : 높은 위험도 (성분(설명))</th>\n",
       "      <th>제품 카테고리</th>\n",
       "    </tr>\n",
       "  </thead>\n",
       "  <tbody>\n",
       "    <tr>\n",
       "      <th>63464</th>\n",
       "      <td>75120</td>\n",
       "      <td></td>\n",
       "      <td>더블유드레스룸</td>\n",
       "      <td>NaN</td>\n",
       "      <td>https://www.glowpick.com/products/101872</td>\n",
       "      <td>101872</td>\n",
       "      <td>코펜하겐 앳 세븐피엠 EDT</td>\n",
       "      <td>70ml</td>\n",
       "      <td>58,000원</td>\n",
       "      <td>[]</td>\n",
       "      <td>...</td>\n",
       "      <td>0개</td>\n",
       "      <td>[]</td>\n",
       "      <td>[]</td>\n",
       "      <td>[]</td>\n",
       "      <td>높은위험도</td>\n",
       "      <td>0개</td>\n",
       "      <td>[]</td>\n",
       "      <td>[]</td>\n",
       "      <td>[]</td>\n",
       "      <td>['프래그런스', '향수', '여성향수']</td>\n",
       "    </tr>\n",
       "  </tbody>\n",
       "</table>\n",
       "<p>1 rows × 39 columns</p>\n",
       "</div>"
      ],
      "text/plain": [
       "       Unnamed: 0 브랜드_link     브랜드명  브랜드_id  \\\n",
       "63464       75120           더블유드레스룸     NaN   \n",
       "\n",
       "                                        제품_link   제품_id              제품명  \\\n",
       "63464  https://www.glowpick.com/products/101872  101872  코펜하겐 앳 세븐피엠 EDT   \n",
       "\n",
       "      제품 용량    제품 가격 유사 제품군 랭킹(int)  ... 제품 성분 구성 : 중간 위험도(갯수)  \\\n",
       "63464  70ml  58,000원             []  ...                    0개   \n",
       "\n",
       "      제품 성분 구성 : 중간 위험도 (성분(한글)) 제품 성분 구성 : 중간 위험도 (성분(영어))  \\\n",
       "63464                         []                         []   \n",
       "\n",
       "      제품 성분 구성 : 중간 위험도 (성분(설명)) 제품 성분 구성 : 높은 위험도 제품 성분 구성 : 높은 위험도(갯수)  \\\n",
       "63464                         []             높은위험도                    0개   \n",
       "\n",
       "      제품 성분 구성 : 높은 위험도 (성분(한글)) 제품 성분 구성 : 높은 위험도 (성분(영어))  \\\n",
       "63464                         []                         []   \n",
       "\n",
       "      제품 성분 구성 : 높은 위험도 (성분(설명))                  제품 카테고리  \n",
       "63464                         []  ['프래그런스', '향수', '여성향수']  \n",
       "\n",
       "[1 rows x 39 columns]"
      ]
     },
     "execution_count": 482,
     "metadata": {},
     "output_type": "execute_result"
    }
   ],
   "source": [
    "v4_3.tail(1)"
   ]
  },
  {
   "cell_type": "code",
   "execution_count": null,
   "id": "cb6c9747-0ed9-4c67-bc1f-a22a8f4d4a12",
   "metadata": {},
   "outputs": [],
   "source": []
  }
 ],
 "metadata": {
  "kernelspec": {
   "display_name": "Python 3 (ipykernel)",
   "language": "python",
   "name": "python3"
  },
  "language_info": {
   "codemirror_mode": {
    "name": "ipython",
    "version": 3
   },
   "file_extension": ".py",
   "mimetype": "text/x-python",
   "name": "python",
   "nbconvert_exporter": "python",
   "pygments_lexer": "ipython3",
   "version": "3.8.11"
  }
 },
 "nbformat": 4,
 "nbformat_minor": 5
}
