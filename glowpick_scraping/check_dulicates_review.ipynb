{
 "cells": [
  {
   "cell_type": "markdown",
   "id": "f48034c0-b1e9-45c9-b89b-3dc223589021",
   "metadata": {},
   "source": [
    "# check duplicates review (glowpick_product_info_final_version)"
   ]
  },
  {
   "cell_type": "code",
   "execution_count": null,
   "id": "28564ebe-91fc-4706-abe6-e19fe2a59251",
   "metadata": {},
   "outputs": [],
   "source": [
    "import os\n",
    "import re\n",
    "import pandas as pd\n",
    "import pickle\n",
    "import collections\n",
    "import numpy as np\n",
    "import math\n",
    "import ast\n",
    "from time import gmtime, strftime\n",
    "import re\n",
    "import time\n",
    "from tqdm.auto import tqdm\n",
    "from bs4 import BeautifulSoup"
   ]
  },
  {
   "cell_type": "code",
   "execution_count": null,
   "id": "ce99cf84-0ee6-46a7-805a-9cbd0b5249ca",
   "metadata": {},
   "outputs": [],
   "source": [
    "glowpick_product_info_final_version = pd.read_csv(\"glowpick_product_info_final_version.csv\")\n",
    "#glowpick_product_info_final_version = glowpick_product_info_final_version.iloc[:, 1:]\n",
    "\n",
    "for i in tqdm(list(glowpick_product_info_final_version.index)):\n",
    "    try:\n",
    "        glowpick_product_info_final_version.at[i, \"product_awards\"] = eval(glowpick_product_info_final_version.loc[i, \"product_awards\"])\n",
    "        glowpick_product_info_final_version.at[i, 'product_awards_sector'] = eval(glowpick_product_info_final_version.loc[i, 'product_awards_sector'])\n",
    "        glowpick_product_info_final_version.at[i, 'product_awards_rank'] = eval(glowpick_product_info_final_version.loc[i, 'product_awards_rank'])\n",
    "        glowpick_product_info_final_version.at[i, 'product_stores'] = eval(glowpick_product_info_final_version.loc[i, 'product_stores'])\n",
    "        glowpick_product_info_final_version.at[i, 'product_review'] = eval(glowpick_product_info_final_version.loc[i, 'product_review'])\n",
    "        glowpick_product_info_final_version.at[i, 'product_rating'] = eval(glowpick_product_info_final_version.loc[i, 'product_rating'])\n",
    "        glowpick_product_info_final_version.at[i, 'product_review_date'] = eval(glowpick_product_info_final_version.loc[i, 'product_review_date'])\n",
    "        glowpick_product_info_final_version.at[i, 'count_product_review'] = eval(glowpick_product_info_final_version.loc[i, 'count_product_review'])\n",
    "        glowpick_product_info_final_version.at[i, 'user skin type'] = eval(glowpick_product_info_final_version.loc[i, 'user skin type'])\n",
    "        glowpick_product_info_final_version.at[i, 'user_age'] = eval(glowpick_product_info_final_version.loc[i, 'user_age'])\n",
    "        glowpick_product_info_final_version.at[i, 'user_name'] = eval(glowpick_product_info_final_version.loc[i, 'user_name'])\n",
    "        glowpick_product_info_final_version.at[i, 'user_sex'] = eval(glowpick_product_info_final_version.loc[i, 'user_sex'])\n",
    "    except:\n",
    "        pass"
   ]
  },
  {
   "cell_type": "code",
   "execution_count": null,
   "id": "6232c379-a36d-4cca-83ec-e48ab0597824",
   "metadata": {},
   "outputs": [],
   "source": [
    "all_review_lst_dict = {}\n",
    "\n",
    "for idx in tqdm(fnl_df_glowpick_prd_info.index):\n",
    "    for j in range(len(fnl_df_glowpick_prd_info.loc[idx, '리뷰'])):\n",
    "        all_review_lst_dict[idx] = fnl_df_glowpick_prd_info.loc[idx, '리뷰'][j]"
   ]
  },
  {
   "cell_type": "code",
   "execution_count": null,
   "id": "7141ee39-284c-4d77-8dd1-8170a758b719",
   "metadata": {},
   "outputs": [],
   "source": [
    "from iteration_utilities import duplicates\n",
    "from iteration_utilities import unique_everseen\n",
    "\n",
    "len(list(unique_everseen(duplicates(all_review_lst))))"
   ]
  },
  {
   "cell_type": "code",
   "execution_count": null,
   "id": "2acd6f21-471c-41bb-8593-655e8494ff0d",
   "metadata": {},
   "outputs": [],
   "source": [
    "review_dup_lst = []\n",
    "\n",
    "for review in tqdm(list(duplicates(all_review_lst))):\n",
    "    if review != '':\n",
    "        for i in all_review_lst_dict:\n",
    "            if review in all_review_lst_dict[i]:\n",
    "                review_dup_lst.append((i, review))"
   ]
  },
  {
   "cell_type": "code",
   "execution_count": null,
   "id": "7c396d37-cfe5-4118-8055-47613895ea53",
   "metadata": {},
   "outputs": [],
   "source": [
    "import pickle\n",
    "\n",
    "with open('glowpick_prd_info_review_dup_lst.txt', 'wb') as f:\n",
    "    pickle.dump(review_dup_lst, f)"
   ]
  },
  {
   "cell_type": "code",
   "execution_count": null,
   "id": "71a93025-8608-4eb3-8839-1a05bfe0bd0d",
   "metadata": {},
   "outputs": [],
   "source": [
    "#review_dup_lst_v1\n",
    "\n",
    "review_dup_lst_v1 = []\n",
    "for i in range(len(review_dup_lst)):\n",
    "    idx = []\n",
    "    lst = list(filter(lambda x: review_dup_lst[x][-1] == review_dup_lst[i][-1], range(len(review_dup_lst))))\n",
    "    for j in lst:\n",
    "        idx.append(review_dup_lst[j][0])\n",
    "    review_dup_lst_v1.append(idx)"
   ]
  },
  {
   "cell_type": "code",
   "execution_count": null,
   "id": "34a65c7d-976e-40ee-b4a6-ea3dbdbf79ec",
   "metadata": {},
   "outputs": [],
   "source": [
    "#set\n",
    "for i in range(len(review_dup_lst_v1)):\n",
    "    review_dup_lst_v1[i] = list(set(review_dup_lst_v1[i]))\n",
    "\n",
    "#같은 인덱스들이 모여있는 중복 제거\n",
    "review_dup_lst_v1 = list(unique_everseen(duplicates(review_dup_lst_v1)))"
   ]
  },
  {
   "cell_type": "code",
   "execution_count": null,
   "id": "5ee55531-1fd3-4a4c-9028-481e2596cb64",
   "metadata": {},
   "outputs": [],
   "source": [
    "#포함하고 있는 제품을 기준으로 묶기\n",
    "\n",
    "for i in tqdm(range(len(review_dup_lst_v1))):\n",
    "    try:\n",
    "        for j in review_dup_lst_v1[i]:\n",
    "            for k in range(i+1, len(review_dup_lst_v1)):\n",
    "                if j in review_dup_lst_v1[k]: \n",
    "                    review_dup_lst_v1[i].append(review_dup_lst_v1[k])\n",
    "                    del review_dup_lst_v1[k]\n",
    "    except IndexError:\n",
    "        pass"
   ]
  },
  {
   "cell_type": "code",
   "execution_count": null,
   "id": "b5993739-fa6b-4bd2-b8dd-81b4a93b264f",
   "metadata": {},
   "outputs": [],
   "source": [
    "#nested loop to single loop\n",
    "from nltk import flatten\n",
    "\n",
    "for i in range(len(review_dup_lst_v1)):\n",
    "    review_dup_lst_v1[i] = flatten(review_dup_lst_v1[i])"
   ]
  },
  {
   "cell_type": "code",
   "execution_count": null,
   "id": "86861fba-a45c-4214-8ea7-d41beb136589",
   "metadata": {},
   "outputs": [],
   "source": [
    "#set\n",
    "for i in range(len(review_dup_lst_v1)):\n",
    "    review_dup_lst_v1[i] = list(set(review_dup_lst_v1[i]))"
   ]
  },
  {
   "cell_type": "code",
   "execution_count": null,
   "id": "ffbda8dc-4b3f-40a1-9363-913f781c9b45",
   "metadata": {},
   "outputs": [],
   "source": [
    "#finally, categorizing!\n",
    "\n",
    "cnt = 0\n",
    "for i in review_dup_lst_v1:\n",
    "    for idx in i:\n",
    "        glowpick_product_info_final_version.loc[idx, 'check_duplicates_reviews'] = cnt\n",
    "    cnt += 1"
   ]
  },
  {
   "cell_type": "code",
   "execution_count": null,
   "id": "1c79fecd-b8ea-40c0-bbf7-7c63d32e8d4b",
   "metadata": {},
   "outputs": [],
   "source": [
    "glowpick_product_info_final_version.to_csv(\"glowpick_product_info_final_version.csv\", index=False)"
   ]
  }
 ],
 "metadata": {
  "kernelspec": {
   "display_name": "Python 3 (ipykernel)",
   "language": "python",
   "name": "python3"
  },
  "language_info": {
   "codemirror_mode": {
    "name": "ipython",
    "version": 3
   },
   "file_extension": ".py",
   "mimetype": "text/x-python",
   "name": "python",
   "nbconvert_exporter": "python",
   "pygments_lexer": "ipython3",
   "version": "3.8.11"
  }
 },
 "nbformat": 4,
 "nbformat_minor": 5
}
