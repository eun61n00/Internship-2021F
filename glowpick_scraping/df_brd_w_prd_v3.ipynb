{
 "cells": [
  {
   "cell_type": "markdown",
   "id": "533229e5-6a0b-48a7-a729-1b7ed831654e",
   "metadata": {},
   "source": [
    "# df_brd_w_prd_v3"
   ]
  },
  {
   "cell_type": "code",
   "execution_count": 52,
   "id": "59e785c8-3025-4c29-af46-56bd1c4d749d",
   "metadata": {},
   "outputs": [],
   "source": [
    "import os\n",
    "import re\n",
    "import pandas as pd\n",
    "import pickle\n",
    "import collections\n",
    "import numpy as np\n",
    "import math\n",
    "from ast import literal_eval\n",
    "from time import gmtime, strftime\n",
    "import re\n",
    "import time\n",
    "from bs4 import BeautifulSoup\n",
    "from tqdm import trange, tqdm_notebook\n",
    "from tqdm.auto import tqdm\n",
    "\n",
    "# Scrapping\n",
    "import selenium\n",
    "from selenium import webdriver\n",
    "from selenium.webdriver.common.keys import Keys\n",
    "from selenium.webdriver.support.ui import WebDriverWait\n",
    "from selenium.webdriver.support import expected_conditions as EC\n",
    "from webdriver_manager.chrome import ChromeDriverManager\n",
    "from selenium.webdriver.common.by import By\n",
    "from selenium.webdriver.chrome.options import Options\n",
    "from fake_useragent import UserAgent\n",
    "\n",
    "# Error Handling\n",
    "import socket\n",
    "import urllib3\n",
    "import urllib.request\n",
    "from urllib.request import urlopen\n",
    "from urllib.parse import quote_plus\n",
    "from urllib.request import urlretrieve\n",
    "from selenium.common.exceptions import NoSuchElementException, ElementNotInteractableException, ElementClickInterceptedException\n",
    "import warnings\n",
    "warnings.filterwarnings('ignore')\n",
    "\n",
    "from collections import defaultdict"
   ]
  },
  {
   "cell_type": "code",
   "execution_count": 58,
   "id": "5b9c3bc9-1aed-4e28-bdd4-0433120078dc",
   "metadata": {},
   "outputs": [],
   "source": [
    "df_brd_w_prd_v2 = pd.read_csv(\"df_brd_w_prd_v2.csv\")\n",
    "df_brd_w_prd_v2 = df_brd_w_prd_v3.iloc[:, 1:]"
   ]
  },
  {
   "cell_type": "code",
   "execution_count": 70,
   "id": "6a8ec720-ff79-4799-bc07-68db1598410c",
   "metadata": {},
   "outputs": [],
   "source": [
    "df_brd_w_prd_v3 = df_brd_w_prd_v2.copy()"
   ]
  },
  {
   "cell_type": "code",
   "execution_count": 54,
   "id": "224aff7d-0a4e-4c2d-96d6-61b96d367dbb",
   "metadata": {},
   "outputs": [],
   "source": [
    "find_missing_df_brd_w_prd_v1_drop_lg = pd.read_csv(\"find_missing_df_brd_w_prd_v1_drop_lg_3220.csv\")\n",
    "find_missing_df_brd_w_prd_v1_drop_lg = find_missing_df_brd_w_prd_v1_drop_lg.iloc[:, 1:]"
   ]
  },
  {
   "cell_type": "markdown",
   "id": "ee0c6ef2-fef0-4cbf-b5d7-e32332b8fe85",
   "metadata": {},
   "source": [
    "---\n",
    "### lengh가 다른 브랜드의 product_link, product_name 재수집"
   ]
  },
  {
   "cell_type": "code",
   "execution_count": 56,
   "id": "63b81e04-c412-419c-a7b1-e7fc5ab72c18",
   "metadata": {},
   "outputs": [],
   "source": [
    "exception = []"
   ]
  },
  {
   "cell_type": "code",
   "execution_count": 71,
   "id": "9492ddfd-c11c-4158-b530-228198073d86",
   "metadata": {},
   "outputs": [],
   "source": [
    "lst_brd_name = list(find_missing_df_brd_w_prd_v1_drop_lg.loc[find_missing_df_brd_w_prd_v1_drop_lg[\"crawling_prd_cnt\"] != find_missing_df_brd_w_prd_v1_drop_lg[\"prd_len\"]].brand_name)"
   ]
  },
  {
   "cell_type": "code",
   "execution_count": 57,
   "id": "6344bd72-6086-4455-a0d5-1d145518b3c8",
   "metadata": {
    "collapsed": true,
    "jupyter": {
     "outputs_hidden": true
    },
    "tags": []
   },
   "outputs": [
    {
     "data": {
      "application/vnd.jupyter.widget-view+json": {
       "model_id": "cf101346293a436c9d9dfeb09ef94e21",
       "version_major": 2,
       "version_minor": 0
      },
      "text/plain": [
       "  0%|          | 0/125 [00:00<?, ?it/s]"
      ]
     },
     "metadata": {},
     "output_type": "display_data"
    },
    {
     "name": "stderr",
     "output_type": "stream",
     "text": [
      "\n",
      "\n",
      "====== WebDriver manager ======\n",
      "Current google-chrome version is 94.0.4606\n",
      "Get LATEST driver version for 94.0.4606\n"
     ]
    },
    {
     "name": "stdout",
     "output_type": "stream",
     "text": [
      "고려은단\n",
      "Mozilla/5.0 (Windows NT 5.1) AppleWebKit/537.36 (KHTML, like Gecko) Chrome/41.0.2224.3 Safari/537.36\n"
     ]
    },
    {
     "name": "stderr",
     "output_type": "stream",
     "text": [
      "Driver [C:\\Users\\keunb\\.wdm\\drivers\\chromedriver\\win32\\94.0.4606.61\\chromedriver.exe] found in cache\n",
      "\n",
      "\n",
      "====== WebDriver manager ======\n",
      "Current google-chrome version is 94.0.4606\n",
      "Get LATEST driver version for 94.0.4606\n"
     ]
    },
    {
     "name": "stdout",
     "output_type": "stream",
     "text": [
      "그램\n",
      "Mozilla/5.0 (Windows NT 6.1; WOW64) AppleWebKit/537.36 (KHTML, like Gecko) Chrome/27.0.1453.93 Safari/537.36\n"
     ]
    },
    {
     "name": "stderr",
     "output_type": "stream",
     "text": [
      "Driver [C:\\Users\\keunb\\.wdm\\drivers\\chromedriver\\win32\\94.0.4606.61\\chromedriver.exe] found in cache\n",
      "\n",
      "\n",
      "====== WebDriver manager ======\n",
      "Current google-chrome version is 94.0.4606\n",
      "Get LATEST driver version for 94.0.4606\n",
      "Driver [C:\\Users\\keunb\\.wdm\\drivers\\chromedriver\\win32\\94.0.4606.61\\chromedriver.exe] found in cache\n"
     ]
    },
    {
     "name": "stdout",
     "output_type": "stream",
     "text": [
      "글로우\n",
      "Mozilla/5.0 (Windows NT 5.1) AppleWebKit/537.36 (KHTML, like Gecko) Chrome/41.0.2224.3 Safari/537.36\n"
     ]
    },
    {
     "ename": "KeyboardInterrupt",
     "evalue": "",
     "output_type": "error",
     "traceback": [
      "\u001b[1;31m---------------------------------------------------------------------------\u001b[0m",
      "\u001b[1;31mKeyboardInterrupt\u001b[0m                         Traceback (most recent call last)",
      "\u001b[1;32m~\\AppData\\Local\\Temp/ipykernel_22536/3146815817.py\u001b[0m in \u001b[0;36m<module>\u001b[1;34m\u001b[0m\n\u001b[0;32m      2\u001b[0m     \u001b[0mbrd_name\u001b[0m \u001b[1;33m=\u001b[0m \u001b[0mfind_missing_df_brd_w_prd_v1_drop_lg\u001b[0m\u001b[1;33m.\u001b[0m\u001b[0mloc\u001b[0m\u001b[1;33m[\u001b[0m\u001b[0mi\u001b[0m\u001b[1;33m,\u001b[0m \u001b[1;34m'brand_name'\u001b[0m\u001b[1;33m]\u001b[0m\u001b[1;33m\u001b[0m\u001b[1;33m\u001b[0m\u001b[0m\n\u001b[0;32m      3\u001b[0m     \u001b[0mprint\u001b[0m\u001b[1;33m(\u001b[0m\u001b[0mbrd_name\u001b[0m\u001b[1;33m)\u001b[0m\u001b[1;33m\u001b[0m\u001b[1;33m\u001b[0m\u001b[0m\n\u001b[1;32m----> 4\u001b[1;33m     \u001b[0mprd_link\u001b[0m\u001b[1;33m,\u001b[0m \u001b[0mprd_name\u001b[0m \u001b[1;33m=\u001b[0m \u001b[0mscrap_product_link\u001b[0m\u001b[1;33m(\u001b[0m\u001b[0mbrd_name\u001b[0m\u001b[1;33m)\u001b[0m\u001b[1;33m\u001b[0m\u001b[1;33m\u001b[0m\u001b[0m\n\u001b[0m\u001b[0;32m      5\u001b[0m     \u001b[0mdf_brd_w_prd_v3\u001b[0m\u001b[1;33m.\u001b[0m\u001b[0mloc\u001b[0m\u001b[1;33m[\u001b[0m\u001b[0mi\u001b[0m\u001b[1;33m,\u001b[0m \u001b[1;34m'product_link'\u001b[0m\u001b[1;33m]\u001b[0m \u001b[1;33m=\u001b[0m \u001b[0mprd_link\u001b[0m\u001b[1;33m\u001b[0m\u001b[1;33m\u001b[0m\u001b[0m\n\u001b[0;32m      6\u001b[0m     \u001b[0mdf_brd_w_prd_v3\u001b[0m\u001b[1;33m.\u001b[0m\u001b[0mloc\u001b[0m\u001b[1;33m[\u001b[0m\u001b[0mi\u001b[0m\u001b[1;33m,\u001b[0m \u001b[1;34m'product_name'\u001b[0m\u001b[1;33m]\u001b[0m \u001b[1;33m=\u001b[0m \u001b[0mprd_name\u001b[0m\u001b[1;33m\u001b[0m\u001b[1;33m\u001b[0m\u001b[0m\n",
      "\u001b[1;32m~\\AppData\\Local\\Temp/ipykernel_22536/608499388.py\u001b[0m in \u001b[0;36mscrap_product_link\u001b[1;34m(brd_name)\u001b[0m\n\u001b[0;32m     17\u001b[0m         \u001b[0murl\u001b[0m \u001b[1;33m=\u001b[0m \u001b[1;34m'https:/www.glowpick.com/searches/keywords'\u001b[0m\u001b[1;33m\u001b[0m\u001b[1;33m\u001b[0m\u001b[0m\n\u001b[0;32m     18\u001b[0m         \u001b[0mwd\u001b[0m\u001b[1;33m.\u001b[0m\u001b[0mget\u001b[0m\u001b[1;33m(\u001b[0m\u001b[0murl\u001b[0m\u001b[1;33m)\u001b[0m\u001b[1;33m\u001b[0m\u001b[1;33m\u001b[0m\u001b[0m\n\u001b[1;32m---> 19\u001b[1;33m         \u001b[0mtime\u001b[0m\u001b[1;33m.\u001b[0m\u001b[0msleep\u001b[0m\u001b[1;33m(\u001b[0m\u001b[1;36m5\u001b[0m\u001b[1;33m)\u001b[0m\u001b[1;33m\u001b[0m\u001b[1;33m\u001b[0m\u001b[0m\n\u001b[0m\u001b[0;32m     20\u001b[0m \u001b[1;33m\u001b[0m\u001b[0m\n\u001b[0;32m     21\u001b[0m         \u001b[0mwd\u001b[0m\u001b[1;33m.\u001b[0m\u001b[0mfind_element_by_xpath\u001b[0m\u001b[1;33m(\u001b[0m\u001b[1;34m\"//*[@id='default-layout']/div/div[1]/span/div/div[2]/div[2]/button[2]\"\u001b[0m\u001b[1;33m)\u001b[0m\u001b[1;33m.\u001b[0m\u001b[0mclick\u001b[0m\u001b[1;33m(\u001b[0m\u001b[1;33m)\u001b[0m\u001b[1;33m\u001b[0m\u001b[1;33m\u001b[0m\u001b[0m\n",
      "\u001b[1;31mKeyboardInterrupt\u001b[0m: "
     ]
    }
   ],
   "source": [
    "for brd_name in tqdm(lst_brd_name):\n",
    "    idx = df_brd_w_prd_v3.loc[df_brd_w_pr_v3['brand_name'] == i].index\n",
    "    prd_link, prd_name = scrap_product_link(brd_name)\n",
    "    df_brd_w_prd_v3.loc[idx, 'product_link'] = prd_link\n",
    "    df_brd_w_prd_v3.loc[idx, 'product_name'] = prd_name"
   ]
  },
  {
   "cell_type": "code",
   "execution_count": 55,
   "id": "4ac4f85b-58e9-477a-a484-93df2e852d85",
   "metadata": {
    "tags": []
   },
   "outputs": [],
   "source": [
    "def scrap_product_link(brd_name):\n",
    "    \n",
    "    try: \n",
    "        options = Options()\n",
    "        ua = UserAgent()\n",
    "        userAgent = ua.random\n",
    "        print(userAgent)\n",
    "\n",
    "        options.add_argument('headless')\n",
    "        options.add_argument('window-size=1920x1080')\n",
    "        options.add_argument(\"disable-gpu\")\n",
    "        options.add_argument(f'user-agent={userAgent}')\n",
    "        wd = webdriver.Chrome(ChromeDriverManager().install(), chrome_options=options)\n",
    "\n",
    "        socket.setdefaulttimeout(30)\n",
    "\n",
    "        url = 'https:/www.glowpick.com/searches/keywords'\n",
    "        wd.get(url)\n",
    "        time.sleep(5)\n",
    "\n",
    "        wd.find_element_by_xpath(\"//*[@id='default-layout']/div/div[1]/span/div/div[2]/div[2]/button[2]\").click()\n",
    "        wd.maximize_window()\n",
    "        time.sleep(3)\n",
    "\n",
    "        brd_input = wd.find_element_by_xpath(\"//*[@id='default-layout']/div/div[2]/div/div/div/input\")\n",
    "        brd_input.send_keys(brd_name)\n",
    "        brd_input.send_keys(Keys.ENTER)\n",
    "        time.sleep(3)\n",
    "\n",
    "        def parsing_html_with_class(parsing_info = '.products'):\n",
    "            html = wd.page_source\n",
    "            soup = soup = BeautifulSoup(html, \"html.parser\")\n",
    "            interm_r = soup.select(parsing_info)\n",
    "            return interm_r\n",
    "        \n",
    "        prd_link = []\n",
    "        prd_name = []\n",
    "\n",
    "        try:\n",
    "            while True:\n",
    "\n",
    "                product_lst = parsing_html_with_class()\n",
    "                product_len = len(re.findall('<div class=\"products__product product\" (.*?)', str(product_lst[0])))\n",
    "                \n",
    "                #while wd.find_elements_by_class_name('details__brand')[product_len].text[:len(brd_name)] == brd_name:\n",
    "\n",
    "                element = wd.find_element_by_xpath('/html/body/div/div/div/div/main/div/section/div[2]/div/div[1]/span/div[{}]'.format(product_len - 1))\n",
    "                wd.execute_script(\"arguments[0].scrollIntoView(true);\", element)\n",
    "                time.sleep(2)\n",
    "\n",
    "                product_lst_2 = parsing_html_with_class()\n",
    "\n",
    "                if product_lst == product_lst_2:\n",
    "                    for i in range(product_len):\n",
    "                        if (re.sub(r'\\([^)]*\\)', '', wd.find_elements_by_class_name('details__brand')[i].text).strip()) == brd_name:\n",
    "                            code = re.findall('<div class=\"products__product product\" (.*?)id=\"(.*?)\">', str(product_lst[0]))[i][1].split('-')[-1]\n",
    "                            link = 'https://www.glowpick.com/products/' + code\n",
    "                            prd_link.append(link)\n",
    "                            prd_name.append(wd.find_elements_by_class_name('details__product')[i].text)\n",
    "                    return prd_link, prd_name\n",
    "                    break\n",
    "                \n",
    "\n",
    "        except NoSuchElementException:\n",
    "            for i in range(product_len):\n",
    "                if (re.sub(r'\\([^)]*\\)', '', wd.find_elements_by_class_name('details__brand')[i].text).strip()) == brd_name:\n",
    "                    code = re.findall('<div class=\"products__product product\" (.*?)id=\"(.*?)\">', str(product_lst[0]))[i][1].split('-')[-1]\n",
    "                    link = 'https://www.glowpick.com/products/' + code\n",
    "                    prd_link.append(link)\n",
    "                    prd_name.append(wd.find_elements_by_class_name('details__product')[i].text)\n",
    "            return prd_link, prd_name\n",
    "\n",
    "    except Exception as e:\n",
    "        exception.append(brd_name)\n",
    "        print(\"brand name: {}\".format(brd_name), e)\n",
    "        pass"
   ]
  },
  {
   "cell_type": "code",
   "execution_count": null,
   "id": "1dd6dea0-7d0d-4f53-be7b-77811cfc1605",
   "metadata": {},
   "outputs": [],
   "source": []
  }
 ],
 "metadata": {
  "kernelspec": {
   "display_name": "Python 3 (ipykernel)",
   "language": "python",
   "name": "python3"
  },
  "language_info": {
   "codemirror_mode": {
    "name": "ipython",
    "version": 3
   },
   "file_extension": ".py",
   "mimetype": "text/x-python",
   "name": "python",
   "nbconvert_exporter": "python",
   "pygments_lexer": "ipython3",
   "version": "3.9.7"
  }
 },
 "nbformat": 4,
 "nbformat_minor": 5
}
