{
 "cells": [
  {
   "cell_type": "code",
   "execution_count": null,
   "id": "d2364348-bdbe-453a-9eae-51acca8646c9",
   "metadata": {},
   "outputs": [],
   "source": [
    "import pandas as pd\n",
    "import eval\n",
    "from tqdm.auto import tqdm"
   ]
  },
  {
   "cell_type": "markdown",
   "id": "a12916c5-9249-48f2-99c8-a665ac3b1da5",
   "metadata": {},
   "source": [
    "---\n",
    "create tabel"
   ]
  },
  {
   "cell_type": "raw",
   "id": "5b878974-b5b6-4972-9379-f3b8154c2f0a",
   "metadata": {},
   "source": [
    "CREATE TABLE `glowpick_product_info_final_version` (\n",
    "  `id` int(50),\n",
    "  `brand_url` text,\n",
    "  `brand_name` text,\n",
    "  `brand_code` int(50),\n",
    "  `product_url` text,\n",
    "  `product_code` int(50),\n",
    "  `product_name` text,\n",
    "  `selection` text DEFAULT NULL,\n",
    "  `division` text DEFAULT NULL,\n",
    "  `group` text DEFAULT NULL,\n",
    "  `product_size` text,\n",
    "  `product_price` text DEFAULT NULL,\n",
    "  `rank_within_category` text DEFAULT NULL,\n",
    "  `rank_category` text DEFAULT NULL,\n",
    "  `rank_within_brand` text DEFAULT NULL,\n",
    "  `product_awards` text DEFAULT NULL,\n",
    "  `product_awards_sector` text DEFAULT NULL,\n",
    "  `product_awards_rank` text DEFAULT NULL,\n",
    "  `product_description` text DEFAULT NULL,\n",
    "  `product_type_or_color` text DEFAULT NULL,\n",
    "  `product_stores` text DEFAULT NULL,\n",
    "  `count_hazard_ingredients_unknown` text,\n",
    "  `hazard_ingredients_unknown_lst_kr` text DEFAULT NULL,\n",
    "  `hazard_ingredients_unknown_lst_eng` text DEFAULT NULL,\n",
    "  `hazard_ingredients_unknown_description` text DEFAULT NULL,\n",
    "  `count_hazard_ingredients_low` text,\n",
    "  `hazard_ingredients_low_lst_kr` text DEFAULT NULL,\n",
    "  `hazard_ingredients_low_lst_eng` text DEFAULT NULL,\n",
    "  `hazard_ingredients_low_description` text DEFAULT NULL,\n",
    "  `count_hazard_ingredients_moderate` text,\n",
    "  `hazard_ingredients_moderate_lst_kr` text DEFAULT NULL,\n",
    "  `hazard_ingredients_moderate_lst_eng` text DEFAULT NULL,\n",
    "  `hazard_ingredients_moderate_description`text DEFAULT NULL,\n",
    "  `count_hazard_ingredients_high` text,\n",
    "  `hazard_ingredients_high_lst_kr` text DEFAULT NULL,\n",
    "  `hazard_ingredients_high_lst_eng` text DEFAULT NULL,\n",
    "  `hazard_ingredients_high_description` text DEFAULT NULL,\n",
    "  `check_duplicates` int DEFAULT NULL\n",
    ") ENGINE=InnoDB DEFAULT CHARSET=utf8;"
   ]
  },
  {
   "cell_type": "raw",
   "id": "208619da-21ee-44e4-a39f-5b92427ab2b9",
   "metadata": {},
   "source": [
    "CREATE TABLE `glowpick_product_info_final_version_review` (\n",
    "  `id` int(50),\n",
    "  `product_rating` text DEFAULT NULL,\n",
    "  `product_review_date` text DEFAULT NULL,\n",
    "  `count_product_review` text DEFAULT NULL,\n",
    "  `user_skin_type` text DEFAULT NULL,\n",
    "  `user_age` text DEFAULT NULL,\n",
    "  `user_sex` text DEFAULT NULL,\n",
    "  `user_name` text DEFAULT NULL,\n",
    "  `product_review` text DEFAULT NULL,\n",
    ") ENGINE=InnoDB DEFAULT CHARSET=utf8;"
   ]
  },
  {
   "cell_type": "markdown",
   "id": "a74219be-14b9-4389-850c-a08a73b50be3",
   "metadata": {},
   "source": [
    "---\n",
    "DB upload"
   ]
  },
  {
   "cell_type": "code",
   "execution_count": null,
   "id": "7e470bb3-b2fb-49df-bf8c-ab9f7c9d230b",
   "metadata": {},
   "outputs": [],
   "source": [
    "import pymysql\n",
    "from sqlalchemy import create_engine"
   ]
  },
  {
   "cell_type": "code",
   "execution_count": null,
   "id": "491cc72f-3499-4e28-b27b-75660080842f",
   "metadata": {},
   "outputs": [],
   "source": [
    "def db_connection(host_name='host_name'):\n",
    "    host_url = \"host_url\"\n",
    "    user_nm = \"id\"\n",
    "    passwd = \"pw\"\n",
    "    port_num = 0\n",
    "    db_name = \"db_name\"\n",
    "    conn = pymysql.connect(host=host_url, user=user_nm, passwd=passwd, port=port_num, charset='utf8', cursorclass=pymysql.cursors.DictCursor) # cursorclass=pymysql.cursors.DictCursor 추가     # db=db,\n",
    "    return conn\n",
    "\n",
    "\n",
    "def engine_upload(upload_df: object, host_name: object = 'ds', db_name: object = 'beauty_kr', table_name: object = 'ranking') -> object:\n",
    "    host_url = \"host_url\"\n",
    "    user_nm = \"id\"\n",
    "    passwd = \"pw\"\n",
    "    port_num = 0\n",
    "    db_name = \"db_name\"\n",
    "    engine = create_engine(f'mysql+pymysql://{user_nm}:{passwd}@{host_url}:{port_num}/{db_name}?charset=utf8mb4')\n",
    "    engine_conn = engine.connect()\n",
    "    upload_df.to_sql(table_name, engine_conn, if_exists='append', index=None)\n",
    "    engine_conn.close()\n",
    "    engine.dispose()"
   ]
  },
  {
   "cell_type": "code",
   "execution_count": null,
   "id": "aa9fad32-d849-4bed-9ef8-d62f694f7532",
   "metadata": {},
   "outputs": [],
   "source": [
    "engine_upload(host_name='ds', db_name='beauty_kr', table_name=f'glowpick_product_info', upload_df=fnl_df_glowpick_prd_info) "
   ]
  },
  {
   "cell_type": "code",
   "execution_count": null,
   "id": "83f46427-887d-4bb5-bf62-5c2d1c8b159f",
   "metadata": {},
   "outputs": [],
   "source": [
    "conn = db_connection('mai')\n",
    "glowpick_product_info_fsinal_version_review = pd.read_sql(f\"SELECT * FROM beauty_kr.glowpick_product_info_final_version_review\", conn) # 필요한 스키마명, 테이블명만 변경해서 사용\n",
    "conn.close()"
   ]
  }
 ],
 "metadata": {
  "kernelspec": {
   "display_name": "Python 3 (ipykernel)",
   "language": "python",
   "name": "python3"
  },
  "language_info": {
   "codemirror_mode": {
    "name": "ipython",
    "version": 3
   },
   "file_extension": ".py",
   "mimetype": "text/x-python",
   "name": "python",
   "nbconvert_exporter": "python",
   "pygments_lexer": "ipython3",
   "version": "3.8.11"
  }
 },
 "nbformat": 4,
 "nbformat_minor": 5
}
