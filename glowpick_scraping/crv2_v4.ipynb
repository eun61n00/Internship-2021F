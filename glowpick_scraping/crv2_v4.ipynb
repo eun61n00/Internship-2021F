{
 "cells": [
  {
   "cell_type": "markdown",
   "id": "0a51ddf4-a090-43df-bc7c-c7eb06f6ce74",
   "metadata": {},
   "source": [
    "# 기존 v4와 df_brd_w_prd_v2 상품 개수 비교"
   ]
  },
  {
   "cell_type": "code",
   "execution_count": 1,
   "id": "aa9ee6f1-078e-4ec8-ac57-91465abcae5f",
   "metadata": {},
   "outputs": [],
   "source": [
    "import os\n",
    "import re\n",
    "import pandas as pd\n",
    "import pickle\n",
    "import collections\n",
    "import numpy as np\n",
    "import math\n",
    "from ast import literal_eval\n",
    "from time import gmtime, strftime\n",
    "import re\n",
    "import time\n",
    "from bs4 import BeautifulSoup\n",
    "#$from tqdm import tnrange, tqdm_notebook\n",
    "from tqdm.auto import tqdm\n",
    "\n",
    "# Scrapping\n",
    "import selenium\n",
    "from selenium import webdriver\n",
    "from selenium.webdriver.common.keys import Keys\n",
    "from selenium.webdriver.support.ui import WebDriverWait\n",
    "from selenium.webdriver.support import expected_conditions as EC\n",
    "from webdriver_manager.chrome import ChromeDriverManager\n",
    "from selenium.webdriver.common.by import By\n",
    "from selenium.webdriver.chrome.options import Options\n",
    "from fake_useragent import UserAgent\n",
    "\n",
    "# Error Handling\n",
    "import socket\n",
    "import urllib3\n",
    "import urllib.request\n",
    "from urllib.request import urlopen\n",
    "from urllib.parse import quote_plus\n",
    "from urllib.request import urlretrieve\n",
    "from selenium.common.exceptions import NoSuchElementException, ElementNotInteractableException, ElementClickInterceptedException\n",
    "import warnings\n",
    "warnings.filterwarnings('ignore')\n",
    "\n",
    "from collections import defaultdict"
   ]
  },
  {
   "cell_type": "code",
   "execution_count": 3,
   "id": "21162e0b-80c5-4190-9631-eb47f01d681d",
   "metadata": {},
   "outputs": [],
   "source": [
    "df_brd_w_prd_v2 = pd.read_csv(\"df_brd_w_prd_v2.csv\")\n",
    "df_brd_w_prd_v2 = df_brd_w_prd_v2.iloc[:, 1:]\n",
    "\n",
    "v4 = pd.read_csv(\"V4_DF_ind_set.csv\")\n",
    "v4 = v4.iloc[:, 1:]"
   ]
  },
  {
   "cell_type": "markdown",
   "id": "e92e9250-0d93-421e-ba27-b0d95652359e",
   "metadata": {},
   "source": [
    "### 각각 브랜드명 set list"
   ]
  },
  {
   "cell_type": "code",
   "execution_count": 3,
   "id": "c6d1dec0-fdef-4d49-b820-0ac5fb8ef92e",
   "metadata": {},
   "outputs": [],
   "source": [
    "df_brd_w_prd_v2_brd_lst = list(df_brd_w_prd_v2[\"brand_name\"]) #df_brd_w_prd_v2에는 브랜드 링크를 기준으로 이미 중복을 제거하였기 때문에 set하지 않음 (브랜드 명이 중복된 경우 있음)\n",
    "\n",
    "v4_brd_lst = list(set(v4[\"브랜드명\"]))"
   ]
  },
  {
   "cell_type": "code",
   "execution_count": 4,
   "id": "3821f06a-99bc-4bf1-8508-4c5a9711cd1a",
   "metadata": {},
   "outputs": [
    {
     "name": "stdout",
     "output_type": "stream",
     "text": [
      "df_brd_w_prd_v2의 unique한 브랜드 개수:  8056\n",
      "v4의 unique한 브랜드 개수:  1471\n"
     ]
    }
   ],
   "source": [
    "print(\"df_brd_w_prd_v2의 unique한 브랜드 개수: \", len(df_brd_w_prd_v2_brd_lst))\n",
    "print(\"v4의 unique한 브랜드 개수: \", len(v4_brd_lst))"
   ]
  },
  {
   "cell_type": "markdown",
   "id": "8083f3a0-a409-47e4-9cbd-97792b0d8432",
   "metadata": {},
   "source": [
    "---\n",
    "v4에는 있는데 df_brd_w_prd_v2에는 없는 브랜드 : v4_not_in_df_brd_w_prd_v2"
   ]
  },
  {
   "cell_type": "code",
   "execution_count": 5,
   "id": "3071dda1-46a9-4d3f-bbf7-c2d0d885b851",
   "metadata": {},
   "outputs": [],
   "source": [
    "v4_not_in_df_brd_w_prd_v2 = []\n",
    "\n",
    "for i in range(len(v4_brd_lst)):\n",
    "    if v4_brd_lst[i] not in df_brd_w_prd_v2_brd_lst:\n",
    "        v4_not_in_df_brd_w_prd_v2.append(v4_brd_lst[i])"
   ]
  },
  {
   "cell_type": "code",
   "execution_count": 6,
   "id": "a446c613-861d-4321-98d5-4994a586ae5a",
   "metadata": {},
   "outputs": [
    {
     "data": {
      "text/plain": [
       "7"
      ]
     },
     "execution_count": 6,
     "metadata": {},
     "output_type": "execute_result"
    }
   ],
   "source": [
    "len(v4_not_in_df_brd_w_prd_v2)"
   ]
  },
  {
   "cell_type": "code",
   "execution_count": 7,
   "id": "8769a70f-d815-43da-a3dc-3b5cd00a5f20",
   "metadata": {
    "tags": []
   },
   "outputs": [
    {
     "data": {
      "text/plain": [
       "['JM솔루션', 'W.피부연구소', 'DS래보래토리즈', 'DTRT', 'Dr.G', 'JHP 코스메틱', 'TMR 코스메틱스']"
      ]
     },
     "execution_count": 7,
     "metadata": {},
     "output_type": "execute_result"
    }
   ],
   "source": [
    "v4_not_in_df_brd_w_prd_v2"
   ]
  },
  {
   "cell_type": "markdown",
   "id": "109cda1b-cff9-4109-8343-2226a4ac7f8e",
   "metadata": {},
   "source": [
    "---\n",
    "### [브랜드 리스트에 아예 포함되어 있지 않은 브랜드]\n",
    "- DU care\n",
    "- DS래보래토리즈\n",
    "- 차우주\n",
    "- DTRT\n",
    "- Dr.G\n",
    "- DRUNK ELEPHANT\n",
    "- DPC\n",
    "- DHC\n",
    "- Dr.C60\n",
    "- 더 스킨라파\n",
    "- D'ena\n",
    "---\n",
    "### v4와 df_brd_w_prd_v2에서 같은 브랜드이지만 이름이 다르게 되어있는 브랜드 (영어와 한글이 섞여 있는 브랜드)\n",
    "v4 / df_brd_w_prd_v2\n",
    "- CJ제일제당 / \n",
    "- DS래보래토리즈 / DS LAB\n",
    "- LC 프로페셔널 / LC PROFESSIONAL\n",
    "- JHP 코스메틱 / JHP Cosmetic\n",
    "- TNL / True Life\n",
    "- JCK 메이크업 브러쉬 / JCK\n",
    "- CU스킨 / CUSKIN\n",
    "- 563랩 / 563LAB\n",
    "- TMR 코스메틱스 / TMR cosmetics\n",
    "- KVD 비건뷰티 / KVD VEGUN BEAUTY\n",
    "- DK 코스메틱 / DK COSMETIC\n",
    "- W.피부연구소 / W.SKIN LABORSTORY\n",
    "- JM솔루션 / JMsolution"
   ]
  },
  {
   "cell_type": "markdown",
   "id": "1eaaea0f-0b51-4fc0-816b-acee45f70fdd",
   "metadata": {},
   "source": [
    "# v4 브랜드별 상품 개수 파악"
   ]
  },
  {
   "cell_type": "code",
   "execution_count": 8,
   "id": "e11b05ba-4114-4e1d-8f07-e2b8b2b26560",
   "metadata": {},
   "outputs": [],
   "source": [
    "v4_grp_cnt = pd.DataFrame(v4.groupby([\"브랜드명\"]).count()[\"제품_link\"])"
   ]
  },
  {
   "cell_type": "code",
   "execution_count": 9,
   "id": "e877ddb4-6cc9-4978-aaaf-3d8d0de2882a",
   "metadata": {},
   "outputs": [],
   "source": [
    "v4_grp_cnt = v4_grp_cnt.rename(columns = {'제품_link': 'product count (v4)',}, inplace = False)"
   ]
  },
  {
   "cell_type": "code",
   "execution_count": 10,
   "id": "3a0e6151-aa01-4ec4-9213-286345ea287c",
   "metadata": {},
   "outputs": [
    {
     "data": {
      "text/html": [
       "<div>\n",
       "<style scoped>\n",
       "    .dataframe tbody tr th:only-of-type {\n",
       "        vertical-align: middle;\n",
       "    }\n",
       "\n",
       "    .dataframe tbody tr th {\n",
       "        vertical-align: top;\n",
       "    }\n",
       "\n",
       "    .dataframe thead th {\n",
       "        text-align: right;\n",
       "    }\n",
       "</style>\n",
       "<table border=\"1\" class=\"dataframe\">\n",
       "  <thead>\n",
       "    <tr style=\"text-align: right;\">\n",
       "      <th></th>\n",
       "      <th>product count (v4)</th>\n",
       "    </tr>\n",
       "    <tr>\n",
       "      <th>브랜드명</th>\n",
       "      <th></th>\n",
       "    </tr>\n",
       "  </thead>\n",
       "  <tbody>\n",
       "    <tr>\n",
       "      <th>16BRAND</th>\n",
       "      <td>95</td>\n",
       "    </tr>\n",
       "    <tr>\n",
       "      <th>23 years old</th>\n",
       "      <td>74</td>\n",
       "    </tr>\n",
       "    <tr>\n",
       "      <th>3CE</th>\n",
       "      <td>289</td>\n",
       "    </tr>\n",
       "    <tr>\n",
       "      <th>76N1</th>\n",
       "      <td>8</td>\n",
       "    </tr>\n",
       "    <tr>\n",
       "      <th>AHC</th>\n",
       "      <td>437</td>\n",
       "    </tr>\n",
       "    <tr>\n",
       "      <th>...</th>\n",
       "      <td>...</td>\n",
       "    </tr>\n",
       "    <tr>\n",
       "      <th>히말라야</th>\n",
       "      <td>60</td>\n",
       "    </tr>\n",
       "    <tr>\n",
       "      <th>히스테모</th>\n",
       "      <td>2</td>\n",
       "    </tr>\n",
       "    <tr>\n",
       "      <th>히즈클린</th>\n",
       "      <td>2</td>\n",
       "    </tr>\n",
       "    <tr>\n",
       "      <th>힐링버드</th>\n",
       "      <td>89</td>\n",
       "    </tr>\n",
       "    <tr>\n",
       "      <th>힐시드</th>\n",
       "      <td>2</td>\n",
       "    </tr>\n",
       "  </tbody>\n",
       "</table>\n",
       "<p>1471 rows × 1 columns</p>\n",
       "</div>"
      ],
      "text/plain": [
       "              product count (v4)\n",
       "브랜드명                            \n",
       "16BRAND                       95\n",
       "23 years old                  74\n",
       "3CE                          289\n",
       "76N1                           8\n",
       "AHC                          437\n",
       "...                          ...\n",
       "히말라야                          60\n",
       "히스테모                           2\n",
       "히즈클린                           2\n",
       "힐링버드                          89\n",
       "힐시드                            2\n",
       "\n",
       "[1471 rows x 1 columns]"
      ]
     },
     "execution_count": 10,
     "metadata": {},
     "output_type": "execute_result"
    }
   ],
   "source": [
    "v4_grp_cnt"
   ]
  },
  {
   "cell_type": "markdown",
   "id": "2bc85368-c45e-4546-8be4-b9f4686897e1",
   "metadata": {},
   "source": [
    "# df_brd_w_prd_v2 브랜드별 상품 개수 파악"
   ]
  },
  {
   "cell_type": "code",
   "execution_count": 11,
   "id": "14b9fd21-a851-4464-ab06-e96c64fe5a08",
   "metadata": {},
   "outputs": [],
   "source": [
    "df_brd_w_prd_v2_grp_cnt = pd.DataFrame({'브랜드명': [], 'product count (df_brd_w_prd_v2)': []})"
   ]
  },
  {
   "cell_type": "code",
   "execution_count": 12,
   "id": "ed771ef2-9467-4227-86f2-6ad66b0b664d",
   "metadata": {
    "tags": []
   },
   "outputs": [],
   "source": [
    "import ast\n",
    "\n",
    "for _ in range(len(df_brd_w_prd_v2)):\n",
    "    df_brd_w_prd_v2.loc[_, 'product_name'] = literal_eval(df_brd_w_prd_v2.loc[_, 'product_name'])\n",
    "    df_brd_w_prd_v2.loc[_, 'product_link'] = literal_eval(df_brd_w_prd_v2.loc[_, 'product_link'])"
   ]
  },
  {
   "cell_type": "code",
   "execution_count": 13,
   "id": "2c3336df-24d6-4315-9d45-23f15ad90c34",
   "metadata": {},
   "outputs": [],
   "source": [
    "for i in range(len(df_brd_w_prd_v2)):\n",
    "    df_brd_w_prd_v2_grp_cnt.loc[i] = [df_brd_w_prd_v2.loc[i, \"brand_name\"], int(len(df_brd_w_prd_v2.loc[i, \"product_link\"]))]"
   ]
  },
  {
   "cell_type": "code",
   "execution_count": 14,
   "id": "7fb70aea-e252-466c-8394-9a319eb81234",
   "metadata": {},
   "outputs": [
    {
     "data": {
      "text/html": [
       "<div>\n",
       "<style scoped>\n",
       "    .dataframe tbody tr th:only-of-type {\n",
       "        vertical-align: middle;\n",
       "    }\n",
       "\n",
       "    .dataframe tbody tr th {\n",
       "        vertical-align: top;\n",
       "    }\n",
       "\n",
       "    .dataframe thead th {\n",
       "        text-align: right;\n",
       "    }\n",
       "</style>\n",
       "<table border=\"1\" class=\"dataframe\">\n",
       "  <thead>\n",
       "    <tr style=\"text-align: right;\">\n",
       "      <th></th>\n",
       "      <th>브랜드명</th>\n",
       "      <th>product count (df_brd_w_prd_v2)</th>\n",
       "    </tr>\n",
       "  </thead>\n",
       "  <tbody>\n",
       "    <tr>\n",
       "      <th>0</th>\n",
       "      <td>가가알로에</td>\n",
       "      <td>1.0</td>\n",
       "    </tr>\n",
       "    <tr>\n",
       "      <th>1</th>\n",
       "      <td>가그린</td>\n",
       "      <td>15.0</td>\n",
       "    </tr>\n",
       "    <tr>\n",
       "      <th>2</th>\n",
       "      <td>가네보</td>\n",
       "      <td>12.0</td>\n",
       "    </tr>\n",
       "    <tr>\n",
       "      <th>3</th>\n",
       "      <td>가드맨</td>\n",
       "      <td>1.0</td>\n",
       "    </tr>\n",
       "    <tr>\n",
       "      <th>4</th>\n",
       "      <td>가드미</td>\n",
       "      <td>2.0</td>\n",
       "    </tr>\n",
       "    <tr>\n",
       "      <th>...</th>\n",
       "      <td>...</td>\n",
       "      <td>...</td>\n",
       "    </tr>\n",
       "    <tr>\n",
       "      <th>8051</th>\n",
       "      <td>5Star4A</td>\n",
       "      <td>1.0</td>\n",
       "    </tr>\n",
       "    <tr>\n",
       "      <th>8052</th>\n",
       "      <td>5일동안</td>\n",
       "      <td>3.0</td>\n",
       "    </tr>\n",
       "    <tr>\n",
       "      <th>8053</th>\n",
       "      <td>76N1</td>\n",
       "      <td>8.0</td>\n",
       "    </tr>\n",
       "    <tr>\n",
       "      <th>8054</th>\n",
       "      <td>87발렌타인</td>\n",
       "      <td>1.0</td>\n",
       "    </tr>\n",
       "    <tr>\n",
       "      <th>8055</th>\n",
       "      <td>9컴플렉스</td>\n",
       "      <td>1.0</td>\n",
       "    </tr>\n",
       "  </tbody>\n",
       "</table>\n",
       "<p>8056 rows × 2 columns</p>\n",
       "</div>"
      ],
      "text/plain": [
       "         브랜드명  product count (df_brd_w_prd_v2)\n",
       "0       가가알로에                              1.0\n",
       "1         가그린                             15.0\n",
       "2         가네보                             12.0\n",
       "3         가드맨                              1.0\n",
       "4         가드미                              2.0\n",
       "...       ...                              ...\n",
       "8051  5Star4A                              1.0\n",
       "8052     5일동안                              3.0\n",
       "8053     76N1                              8.0\n",
       "8054   87발렌타인                              1.0\n",
       "8055    9컴플렉스                              1.0\n",
       "\n",
       "[8056 rows x 2 columns]"
      ]
     },
     "execution_count": 14,
     "metadata": {},
     "output_type": "execute_result"
    }
   ],
   "source": [
    "df_brd_w_prd_v2_grp_cnt"
   ]
  },
  {
   "cell_type": "code",
   "execution_count": 15,
   "id": "0dd16a9f-691d-4b06-9840-e44b9b1ec87d",
   "metadata": {},
   "outputs": [],
   "source": [
    "grp_cnt = v4_grp_cnt.merge(df_brd_w_prd_v2_grp_cnt, how=\"inner\", on=\"브랜드명\")"
   ]
  },
  {
   "cell_type": "code",
   "execution_count": 16,
   "id": "826ff129-ee6a-4063-899d-fd8045853735",
   "metadata": {},
   "outputs": [
    {
     "data": {
      "text/html": [
       "<div>\n",
       "<style scoped>\n",
       "    .dataframe tbody tr th:only-of-type {\n",
       "        vertical-align: middle;\n",
       "    }\n",
       "\n",
       "    .dataframe tbody tr th {\n",
       "        vertical-align: top;\n",
       "    }\n",
       "\n",
       "    .dataframe thead th {\n",
       "        text-align: right;\n",
       "    }\n",
       "</style>\n",
       "<table border=\"1\" class=\"dataframe\">\n",
       "  <thead>\n",
       "    <tr style=\"text-align: right;\">\n",
       "      <th></th>\n",
       "      <th>브랜드명</th>\n",
       "      <th>product count (v4)</th>\n",
       "      <th>product count (df_brd_w_prd_v2)</th>\n",
       "    </tr>\n",
       "  </thead>\n",
       "  <tbody>\n",
       "    <tr>\n",
       "      <th>0</th>\n",
       "      <td>16BRAND</td>\n",
       "      <td>95</td>\n",
       "      <td>95.0</td>\n",
       "    </tr>\n",
       "    <tr>\n",
       "      <th>1</th>\n",
       "      <td>23 years old</td>\n",
       "      <td>74</td>\n",
       "      <td>74.0</td>\n",
       "    </tr>\n",
       "    <tr>\n",
       "      <th>2</th>\n",
       "      <td>3CE</td>\n",
       "      <td>289</td>\n",
       "      <td>289.0</td>\n",
       "    </tr>\n",
       "    <tr>\n",
       "      <th>3</th>\n",
       "      <td>76N1</td>\n",
       "      <td>8</td>\n",
       "      <td>8.0</td>\n",
       "    </tr>\n",
       "    <tr>\n",
       "      <th>4</th>\n",
       "      <td>AHC</td>\n",
       "      <td>437</td>\n",
       "      <td>438.0</td>\n",
       "    </tr>\n",
       "    <tr>\n",
       "      <th>...</th>\n",
       "      <td>...</td>\n",
       "      <td>...</td>\n",
       "      <td>...</td>\n",
       "    </tr>\n",
       "    <tr>\n",
       "      <th>1461</th>\n",
       "      <td>히말라야</td>\n",
       "      <td>60</td>\n",
       "      <td>61.0</td>\n",
       "    </tr>\n",
       "    <tr>\n",
       "      <th>1462</th>\n",
       "      <td>히스테모</td>\n",
       "      <td>2</td>\n",
       "      <td>2.0</td>\n",
       "    </tr>\n",
       "    <tr>\n",
       "      <th>1463</th>\n",
       "      <td>히즈클린</td>\n",
       "      <td>2</td>\n",
       "      <td>2.0</td>\n",
       "    </tr>\n",
       "    <tr>\n",
       "      <th>1464</th>\n",
       "      <td>힐링버드</td>\n",
       "      <td>89</td>\n",
       "      <td>90.0</td>\n",
       "    </tr>\n",
       "    <tr>\n",
       "      <th>1465</th>\n",
       "      <td>힐시드</td>\n",
       "      <td>2</td>\n",
       "      <td>2.0</td>\n",
       "    </tr>\n",
       "  </tbody>\n",
       "</table>\n",
       "<p>1466 rows × 3 columns</p>\n",
       "</div>"
      ],
      "text/plain": [
       "              브랜드명  product count (v4)  product count (df_brd_w_prd_v2)\n",
       "0          16BRAND                  95                             95.0\n",
       "1     23 years old                  74                             74.0\n",
       "2              3CE                 289                            289.0\n",
       "3             76N1                   8                              8.0\n",
       "4              AHC                 437                            438.0\n",
       "...            ...                 ...                              ...\n",
       "1461          히말라야                  60                             61.0\n",
       "1462          히스테모                   2                              2.0\n",
       "1463          히즈클린                   2                              2.0\n",
       "1464          힐링버드                  89                             90.0\n",
       "1465           힐시드                   2                              2.0\n",
       "\n",
       "[1466 rows x 3 columns]"
      ]
     },
     "execution_count": 16,
     "metadata": {},
     "output_type": "execute_result"
    }
   ],
   "source": [
    "grp_cnt"
   ]
  },
  {
   "cell_type": "code",
   "execution_count": 306,
   "id": "457758f9-34b0-488d-a133-b6ec9f21e3d0",
   "metadata": {
    "collapsed": true,
    "jupyter": {
     "outputs_hidden": true
    },
    "tags": []
   },
   "outputs": [
    {
     "name": "stdout",
     "output_type": "stream",
     "text": [
      "[단종]  앞머리 헤어롤\n",
      "[단종]  슬림헤드 면도기\n",
      "[단종]  올리브영 멀티 코튼 [5겹] 화장솜\n",
      "[단종]  4D 모션브러쉬\n",
      "[단종]  1/2 화장솜\n",
      "[단종]  버블 거품망\n",
      "[단종]  실키 화장솜\n",
      "[단종]  엠보싱 화장솜\n",
      "[단종]  클렌징퍼프\n",
      "[단종]  실키마인 화장솜\n",
      "[단종]  밀착퍼프\n",
      "[단종]  집게 헤어롤\n",
      "[단종]  알루미늄 헤어롤\n",
      "[단종]  아이 메이크업 브러쉬 세트\n",
      "[단종]  립브러쉬\n",
      "[단종]  브러쉬드라이클린스폰지\n",
      "[단종]  곤약 클렌징 퍼프\n",
      "[단종]  고급 압축 퍼프 (원형2P)\n",
      "[단종]  프리미엄 화장솜\n",
      "[단종]  고급 해면 스폰지\n",
      "[단종]  WHP 수분강화 숯 클렌징폼\n",
      "[단종]  모찌퍼프\n",
      "[단종]  극세사 큐티글로브\n",
      "[단종]  라운드 화장솜\n",
      "[단종]  다이아스펀지\n",
      "[단종]  순면 화장솜\n",
      "[단종]  솜털 세안 모공 브러시\n",
      "[단종]  쿠션 퍼프\n",
      "[단종]  티슈 화장솜\n",
      "[단종]  스킨티슈 화장솜\n",
      "[단종]  끙가퍼프\n",
      "[단종]  일반 화장솜\n",
      "[단종]  티트리 피부진정 숯 클렌징 폼\n",
      "[단종]  HDP 모공청정 숯 클렌징 폼\n"
     ]
    }
   ],
   "source": [
    "for i in range(len(list(df_brd_w_prd_v2.loc[df_brd_w_prd_v2[\"brand_name\"]==\"올리브영\", 'product_name'])[0])):\n",
    "    if list(df_brd_w_prd_v2.loc[df_brd_w_prd_v2[\"brand_name\"]==\"올리브영\", 'product_name'])[0][i].strip() not in list(v4.loc[v4[\"브랜드명\"]==\"올리브영\", '제품명'].st):\n",
    "        print(list(df_brd_w_prd_v2.loc[df_brd_w_prd_v2[\"brand_name\"]==\"올리브영\", 'product_name'])[0][i])"
   ]
  },
  {
   "cell_type": "code",
   "execution_count": 17,
   "id": "89f9b5d9-86cf-4a66-bd2b-34698bc763c0",
   "metadata": {},
   "outputs": [],
   "source": [
    "grp_cnt.to_csv(\"grp_cnt.csv\")"
   ]
  },
  {
   "cell_type": "code",
   "execution_count": 18,
   "id": "31279639-d06c-4f7d-b682-1ae882b136dd",
   "metadata": {
    "tags": []
   },
   "outputs": [],
   "source": [
    "v4_more_than_df_brd_w_prd_v2 = []\n",
    "df_brd_w_prd_v2_more_than_v4 = []\n",
    "for i in range(len(grp_cnt)):\n",
    "    if grp_cnt.loc[i, 'product count (v4)'] > grp_cnt.loc[i, 'product count (df_brd_w_prd_v2)']:\n",
    "        v4_more_than_df_brd_w_prd_v2.append(grp_cnt.loc[i, '브랜드명'])\n",
    "    elif grp_cnt.loc[i, 'product count (v4)'] < grp_cnt.loc[i, 'product count (df_brd_w_prd_v2)']:\n",
    "        df_brd_w_prd_v2_more_than_v4.append(grp_cnt.loc[i, '브랜드명'])\n",
    "    else:\n",
    "        continue"
   ]
  },
  {
   "cell_type": "code",
   "execution_count": 23,
   "id": "8ff1d71b-ecc1-4bee-91a8-0801c65b0985",
   "metadata": {},
   "outputs": [
    {
     "name": "stdout",
     "output_type": "stream",
     "text": [
      "상품개수가 v4에서 더 많은 브랜드 개수:  20\n"
     ]
    }
   ],
   "source": [
    "print(\"상품개수가 v4에서 더 많은 브랜드 개수: \", len(v4_more_than_df_brd_w_prd_v2))"
   ]
  },
  {
   "cell_type": "code",
   "execution_count": 24,
   "id": "3637af54-dda9-43a6-80e3-7484bb12fdfb",
   "metadata": {},
   "outputs": [
    {
     "name": "stdout",
     "output_type": "stream",
     "text": [
      "상품개수가 df_brd_w_prd_v2에서 더 많은 브랜드 개수:  227\n"
     ]
    }
   ],
   "source": [
    "print(\"상품개수가 df_brd_w_prd_v2에서 더 많은 브랜드 개수: \", len(df_brd_w_prd_v2_more_than_v4))"
   ]
  },
  {
   "cell_type": "markdown",
   "id": "62340cb3-de46-478d-b619-85a219491fda",
   "metadata": {},
   "source": [
    "### 상품개수가 v4에서 더 많은 33개 브랜드의 df_brd_w_prd_v2의 제품 유실 경로 파악"
   ]
  },
  {
   "cell_type": "code",
   "execution_count": 25,
   "id": "8cc9bd2a-addc-4c86-ac69-c8bb6636400c",
   "metadata": {},
   "outputs": [
    {
     "data": {
      "text/html": [
       "<div>\n",
       "<style scoped>\n",
       "    .dataframe tbody tr th:only-of-type {\n",
       "        vertical-align: middle;\n",
       "    }\n",
       "\n",
       "    .dataframe tbody tr th {\n",
       "        vertical-align: top;\n",
       "    }\n",
       "\n",
       "    .dataframe thead th {\n",
       "        text-align: right;\n",
       "    }\n",
       "</style>\n",
       "<table border=\"1\" class=\"dataframe\">\n",
       "  <thead>\n",
       "    <tr style=\"text-align: right;\">\n",
       "      <th></th>\n",
       "      <th>브랜드명</th>\n",
       "      <th>product count (v4)</th>\n",
       "      <th>product count (df_brd_w_prd_v2)</th>\n",
       "    </tr>\n",
       "  </thead>\n",
       "  <tbody>\n",
       "    <tr>\n",
       "      <th>262</th>\n",
       "      <td>라이온</td>\n",
       "      <td>23</td>\n",
       "      <td>21.0</td>\n",
       "    </tr>\n",
       "  </tbody>\n",
       "</table>\n",
       "</div>"
      ],
      "text/plain": [
       "    브랜드명  product count (v4)  product count (df_brd_w_prd_v2)\n",
       "262  라이온                  23                             21.0"
      ]
     },
     "execution_count": 25,
     "metadata": {},
     "output_type": "execute_result"
    }
   ],
   "source": [
    "grp_cnt.loc[grp_cnt[\"브랜드명\"]==\"라이온\", :]"
   ]
  },
  {
   "cell_type": "code",
   "execution_count": 4,
   "id": "0ff86529-3387-4bee-bccf-38c4b3d29bc6",
   "metadata": {},
   "outputs": [],
   "source": [
    "lst = []\n",
    "for i in range(len(list(df_brd_w_prd_v2.loc[df_brd_w_prd_v2[\"brand_name\"]==\"라뮤즈\", 'product_name'])[0])):\n",
    "    lst.append(list(df_brd_w_prd_v2.loc[df_brd_w_prd_v2[\"brand_name\"]==\"라뮤즈\", 'product_name'])[0][i].replace(' ', ''))"
   ]
  },
  {
   "cell_type": "code",
   "execution_count": 28,
   "id": "692c51f5-f6d6-4ffc-8bb8-92bd02a71dfb",
   "metadata": {},
   "outputs": [
    {
     "name": "stdout",
     "output_type": "stream",
     "text": [
      "페어 아크네 클렌징 폼\n",
      "냉감테라피 아이스 페이스 메이크오버 시트\n",
      "2\n"
     ]
    }
   ],
   "source": [
    "cnt = 0\n",
    "for i in range(len(list(v4.loc[v4[\"브랜드명\"]==\"라뮤즈\", '제품명']))):\n",
    "    if list(v4.loc[v4[\"브랜드명\"]==\"라뮤즈\", '제품명'])[i].replace(' ', '') not in lst:\n",
    "        print(list(v4.loc[v4[\"브랜드명\"]==\"라뮤즈\", '제품명'])[i])\n",
    "        cnt += 1\n",
    "print(cnt)"
   ]
  },
  {
   "cell_type": "code",
   "execution_count": 11,
   "id": "8406cabc-ba3e-4692-bce6-974671b00f26",
   "metadata": {},
   "outputs": [],
   "source": [
    "v4_brd_lst = set(list(v4.loc[:, [\"브랜드명\"]]))"
   ]
  },
  {
   "cell_type": "code",
   "execution_count": 29,
   "id": "0728b70b-3369-4094-a6b0-c88bf59f3e7c",
   "metadata": {},
   "outputs": [
    {
     "name": "stdout",
     "output_type": "stream",
     "text": [
      "v4에서 상품이 중복된 브랜드 개수:  10\n"
     ]
    }
   ],
   "source": [
    "#v4에서 상품이 중복된 경우의 수 파악\n",
    "dup_cnt = 0\n",
    "for brd in v4_more_than_df_brd_w_prd_v2:\n",
    "    if len(list(v4.loc[v4[\"브랜드명\"]== brd, \"제품명\"])) != len(list(set(list(v4.loc[v4[\"브랜드명\"]== brd, \"제품명\"])))):\n",
    "        dup_cnt += 1\n",
    "print(\"v4에서 상품이 중복된 브랜드 개수: \", dup_cnt)"
   ]
  },
  {
   "cell_type": "markdown",
   "id": "e21aa9a9-81b6-4c8f-ba8d-c7c55830bb08",
   "metadata": {},
   "source": [
    "# v4보다 적게 크롤링 된 브랜드 다시 크롤링"
   ]
  },
  {
   "cell_type": "code",
   "execution_count": 322,
   "id": "19ecbbf3-343b-4faa-82ce-60ae7565a5f1",
   "metadata": {
    "collapsed": true,
    "jupyter": {
     "outputs_hidden": true
    },
    "tags": []
   },
   "outputs": [
    {
     "data": {
      "text/plain": [
       "['누리숲',\n",
       " '더블유드레스룸',\n",
       " '라벨영',\n",
       " '라이온',\n",
       " '라포랩',\n",
       " '레시피',\n",
       " '리엔케이',\n",
       " '마몽드',\n",
       " '마쉐리',\n",
       " '메디플라워',\n",
       " '미쉘메르시에',\n",
       " '미즈온',\n",
       " '벨',\n",
       " '보니앤제이',\n",
       " '뷰티피플',\n",
       " '비쉬',\n",
       " '세이어스',\n",
       " '에버에센스',\n",
       " '엘프 코스메틱스',\n",
       " '올리브영',\n",
       " '자이모겐',\n",
       " '제이에스티나 뷰티',\n",
       " '착한팩토리',\n",
       " '카이',\n",
       " '코츠비',\n",
       " '티스',\n",
       " '티스',\n",
       " '티타니아',\n",
       " '파에온',\n",
       " '팜스테이',\n",
       " '프레쉬',\n",
       " '프레쉬',\n",
       " '프리엔제']"
      ]
     },
     "execution_count": 322,
     "metadata": {},
     "output_type": "execute_result"
    }
   ],
   "source": [
    "v4_more_than_df_brd_w_prd_v2"
   ]
  },
  {
   "cell_type": "code",
   "execution_count": 395,
   "id": "2e2ea4ba-6331-44f0-8471-bd6b767676f3",
   "metadata": {},
   "outputs": [],
   "source": [
    "dict_prd_link_tmp = {}\n",
    "dict_prd_name_tmp = defaultdict(list)"
   ]
  },
  {
   "cell_type": "code",
   "execution_count": 397,
   "id": "8b42046e-ce11-4988-8c9f-3da57cd924ff",
   "metadata": {
    "collapsed": true,
    "jupyter": {
     "outputs_hidden": true
    },
    "tags": []
   },
   "outputs": [
    {
     "name": "stderr",
     "output_type": "stream",
     "text": [
      "\n",
      "\n",
      "====== WebDriver manager ======\n",
      "Current google-chrome version is 93.0.4577\n",
      "Get LATEST driver version for 93.0.4577\n"
     ]
    },
    {
     "name": "stdout",
     "output_type": "stream",
     "text": [
      "Mozilla/5.0 (Windows NT 6.2; WOW64) AppleWebKit/537.36 (KHTML, like Gecko) Chrome/27.0.1500.55 Safari/537.36\n"
     ]
    },
    {
     "name": "stderr",
     "output_type": "stream",
     "text": [
      "Driver [C:\\Users\\keunb\\.wdm\\drivers\\chromedriver\\win32\\93.0.4577.63\\chromedriver.exe] found in cache\n",
      "\n",
      "\n",
      "====== WebDriver manager ======\n",
      "Current google-chrome version is 93.0.4577\n",
      "Get LATEST driver version for 93.0.4577\n"
     ]
    },
    {
     "name": "stdout",
     "output_type": "stream",
     "text": [
      "Mozilla/5.0 (Windows NT 6.2; WOW64) AppleWebKit/537.15 (KHTML, like Gecko) Chrome/24.0.1295.0 Safari/537.15\n"
     ]
    },
    {
     "name": "stderr",
     "output_type": "stream",
     "text": [
      "Driver [C:\\Users\\keunb\\.wdm\\drivers\\chromedriver\\win32\\93.0.4577.63\\chromedriver.exe] found in cache\n",
      "\n",
      "\n",
      "====== WebDriver manager ======\n",
      "Current google-chrome version is 93.0.4577\n",
      "Get LATEST driver version for 93.0.4577\n"
     ]
    },
    {
     "name": "stdout",
     "output_type": "stream",
     "text": [
      "Mozilla/5.0 (Windows NT 5.1) AppleWebKit/537.36 (KHTML, like Gecko) Chrome/34.0.1847.116 Safari/537.36 Mozilla/5.0 (iPad; U; CPU OS 3_2 like Mac OS X; en-us) AppleWebKit/531.21.10 (KHTML, like Gecko) Version/4.0.4 Mobile/7B334b Safari/531.21.10\n"
     ]
    },
    {
     "name": "stderr",
     "output_type": "stream",
     "text": [
      "Driver [C:\\Users\\keunb\\.wdm\\drivers\\chromedriver\\win32\\93.0.4577.63\\chromedriver.exe] found in cache\n",
      "\n",
      "\n",
      "====== WebDriver manager ======\n",
      "Current google-chrome version is 93.0.4577\n",
      "Get LATEST driver version for 93.0.4577\n"
     ]
    },
    {
     "name": "stdout",
     "output_type": "stream",
     "text": [
      "Mozilla/5.0 (Windows NT 6.1; WOW64; rv:23.0) Gecko/20130406 Firefox/23.0\n"
     ]
    },
    {
     "name": "stderr",
     "output_type": "stream",
     "text": [
      "Driver [C:\\Users\\keunb\\.wdm\\drivers\\chromedriver\\win32\\93.0.4577.63\\chromedriver.exe] found in cache\n",
      "\n",
      "\n",
      "====== WebDriver manager ======\n",
      "Current google-chrome version is 93.0.4577\n",
      "Get LATEST driver version for 93.0.4577\n"
     ]
    },
    {
     "name": "stdout",
     "output_type": "stream",
     "text": [
      "Mozilla/5.0 (Windows NT 6.3; Win64; x64) AppleWebKit/537.36 (KHTML, like Gecko) Chrome/37.0.2049.0 Safari/537.36\n"
     ]
    },
    {
     "name": "stderr",
     "output_type": "stream",
     "text": [
      "Driver [C:\\Users\\keunb\\.wdm\\drivers\\chromedriver\\win32\\93.0.4577.63\\chromedriver.exe] found in cache\n",
      "\n",
      "\n",
      "====== WebDriver manager ======\n"
     ]
    },
    {
     "name": "stdout",
     "output_type": "stream",
     "text": [
      "Mozilla/5.0 (Windows NT 5.1) AppleWebKit/537.36 (KHTML, like Gecko) Chrome/27.0.1453.93 Safari/537.36\n"
     ]
    },
    {
     "name": "stderr",
     "output_type": "stream",
     "text": [
      "Current google-chrome version is 93.0.4577\n",
      "Get LATEST driver version for 93.0.4577\n",
      "Driver [C:\\Users\\keunb\\.wdm\\drivers\\chromedriver\\win32\\93.0.4577.63\\chromedriver.exe] found in cache\n",
      "\n",
      "\n",
      "====== WebDriver manager ======\n",
      "Current google-chrome version is 93.0.4577\n",
      "Get LATEST driver version for 93.0.4577\n"
     ]
    },
    {
     "name": "stdout",
     "output_type": "stream",
     "text": [
      "Mozilla/5.0 (Macintosh; Intel Mac OS X 10_8_2) AppleWebKit/537.17 (KHTML, like Gecko) Chrome/24.0.1309.0 Safari/537.17\n"
     ]
    },
    {
     "name": "stderr",
     "output_type": "stream",
     "text": [
      "Driver [C:\\Users\\keunb\\.wdm\\drivers\\chromedriver\\win32\\93.0.4577.63\\chromedriver.exe] found in cache\n",
      "\n",
      "\n",
      "====== WebDriver manager ======\n"
     ]
    },
    {
     "name": "stdout",
     "output_type": "stream",
     "text": [
      "Mozilla/5.0 (Windows NT 5.1) AppleWebKit/537.36 (KHTML, like Gecko) Chrome/34.0.1866.237 Safari/537.36\n"
     ]
    },
    {
     "name": "stderr",
     "output_type": "stream",
     "text": [
      "Current google-chrome version is 93.0.4577\n",
      "Get LATEST driver version for 93.0.4577\n",
      "Driver [C:\\Users\\keunb\\.wdm\\drivers\\chromedriver\\win32\\93.0.4577.63\\chromedriver.exe] found in cache\n",
      "\n",
      "\n",
      "====== WebDriver manager ======\n",
      "Current google-chrome version is 93.0.4577\n",
      "Get LATEST driver version for 93.0.4577\n"
     ]
    },
    {
     "name": "stdout",
     "output_type": "stream",
     "text": [
      "Mozilla/5.0 (Macintosh; Intel Mac OS X 10_8_0) AppleWebKit/537.36 (KHTML, like Gecko) Chrome/32.0.1664.3 Safari/537.36\n"
     ]
    },
    {
     "name": "stderr",
     "output_type": "stream",
     "text": [
      "Driver [C:\\Users\\keunb\\.wdm\\drivers\\chromedriver\\win32\\93.0.4577.63\\chromedriver.exe] found in cache\n",
      "\n",
      "\n",
      "====== WebDriver manager ======\n",
      "Current google-chrome version is 93.0.4577\n",
      "Get LATEST driver version for 93.0.4577\n",
      "Driver [C:\\Users\\keunb\\.wdm\\drivers\\chromedriver\\win32\\93.0.4577.63\\chromedriver.exe] found in cache\n"
     ]
    },
    {
     "name": "stdout",
     "output_type": "stream",
     "text": [
      "Mozilla/5.0 (X11; OpenBSD i386) AppleWebKit/537.36 (KHTML, like Gecko) Chrome/36.0.1985.125 Safari/537.36\n"
     ]
    },
    {
     "name": "stderr",
     "output_type": "stream",
     "text": [
      "\n",
      "\n",
      "====== WebDriver manager ======\n",
      "Current google-chrome version is 93.0.4577\n",
      "Get LATEST driver version for 93.0.4577\n"
     ]
    },
    {
     "name": "stdout",
     "output_type": "stream",
     "text": [
      "Mozilla/5.0 (X11; CrOS i686 4319.74.0) AppleWebKit/537.36 (KHTML, like Gecko) Chrome/29.0.1547.57 Safari/537.36\n"
     ]
    },
    {
     "name": "stderr",
     "output_type": "stream",
     "text": [
      "Driver [C:\\Users\\keunb\\.wdm\\drivers\\chromedriver\\win32\\93.0.4577.63\\chromedriver.exe] found in cache\n",
      "\n",
      "\n",
      "====== WebDriver manager ======\n",
      "Current google-chrome version is 93.0.4577\n",
      "Get LATEST driver version for 93.0.4577\n"
     ]
    },
    {
     "name": "stdout",
     "output_type": "stream",
     "text": [
      "Mozilla/5.0 (Macintosh; Intel Mac OS X 10_8_2) AppleWebKit/537.17 (KHTML, like Gecko) Chrome/24.0.1309.0 Safari/537.17\n"
     ]
    },
    {
     "name": "stderr",
     "output_type": "stream",
     "text": [
      "Driver [C:\\Users\\keunb\\.wdm\\drivers\\chromedriver\\win32\\93.0.4577.63\\chromedriver.exe] found in cache\n",
      "\n",
      "\n",
      "====== WebDriver manager ======\n",
      "Current google-chrome version is 93.0.4577\n",
      "Get LATEST driver version for 93.0.4577\n"
     ]
    },
    {
     "name": "stdout",
     "output_type": "stream",
     "text": [
      "Mozilla/5.0 (Windows NT 6.3; WOW64) AppleWebKit/537.36 (KHTML, like Gecko) Chrome/41.0.2225.0 Safari/537.36\n"
     ]
    },
    {
     "name": "stderr",
     "output_type": "stream",
     "text": [
      "Driver [C:\\Users\\keunb\\.wdm\\drivers\\chromedriver\\win32\\93.0.4577.63\\chromedriver.exe] found in cache\n"
     ]
    },
    {
     "ename": "KeyboardInterrupt",
     "evalue": "",
     "output_type": "error",
     "traceback": [
      "\u001b[1;31m---------------------------------------------------------------------------\u001b[0m",
      "\u001b[1;31mKeyboardInterrupt\u001b[0m                         Traceback (most recent call last)",
      "\u001b[1;32m~\\AppData\\Local\\Temp/ipykernel_13936/692597481.py\u001b[0m in \u001b[0;36m<module>\u001b[1;34m\u001b[0m\n\u001b[0;32m     48\u001b[0m             \u001b[0mtime\u001b[0m\u001b[1;33m.\u001b[0m\u001b[0msleep\u001b[0m\u001b[1;33m(\u001b[0m\u001b[1;36m2\u001b[0m\u001b[1;33m)\u001b[0m\u001b[1;33m\u001b[0m\u001b[1;33m\u001b[0m\u001b[0m\n\u001b[0;32m     49\u001b[0m \u001b[1;33m\u001b[0m\u001b[0m\n\u001b[1;32m---> 50\u001b[1;33m             \u001b[0mproduct_lst_2\u001b[0m \u001b[1;33m=\u001b[0m \u001b[0mparsing_html_with_class\u001b[0m\u001b[1;33m(\u001b[0m\u001b[1;33m)\u001b[0m\u001b[1;33m\u001b[0m\u001b[1;33m\u001b[0m\u001b[0m\n\u001b[0m\u001b[0;32m     51\u001b[0m \u001b[1;33m\u001b[0m\u001b[0m\n\u001b[0;32m     52\u001b[0m             \u001b[1;32mif\u001b[0m \u001b[0mproduct_lst\u001b[0m \u001b[1;33m==\u001b[0m \u001b[0mproduct_lst_2\u001b[0m\u001b[1;33m:\u001b[0m\u001b[1;33m\u001b[0m\u001b[1;33m\u001b[0m\u001b[0m\n",
      "\u001b[1;32m~\\AppData\\Local\\Temp/ipykernel_13936/692597481.py\u001b[0m in \u001b[0;36mparsing_html_with_class\u001b[1;34m(parsing_info)\u001b[0m\n\u001b[0;32m     30\u001b[0m     \u001b[1;32mdef\u001b[0m \u001b[0mparsing_html_with_class\u001b[0m\u001b[1;33m(\u001b[0m\u001b[0mparsing_info\u001b[0m \u001b[1;33m=\u001b[0m \u001b[1;34m'.products'\u001b[0m\u001b[1;33m)\u001b[0m\u001b[1;33m:\u001b[0m\u001b[1;33m\u001b[0m\u001b[1;33m\u001b[0m\u001b[0m\n\u001b[0;32m     31\u001b[0m         \u001b[0mhtml\u001b[0m \u001b[1;33m=\u001b[0m \u001b[0mwd\u001b[0m\u001b[1;33m.\u001b[0m\u001b[0mpage_source\u001b[0m\u001b[1;33m\u001b[0m\u001b[1;33m\u001b[0m\u001b[0m\n\u001b[1;32m---> 32\u001b[1;33m         \u001b[0msoup\u001b[0m \u001b[1;33m=\u001b[0m \u001b[0msoup\u001b[0m \u001b[1;33m=\u001b[0m \u001b[0mBeautifulSoup\u001b[0m\u001b[1;33m(\u001b[0m\u001b[0mhtml\u001b[0m\u001b[1;33m,\u001b[0m \u001b[1;34m\"html.parser\"\u001b[0m\u001b[1;33m)\u001b[0m\u001b[1;33m\u001b[0m\u001b[1;33m\u001b[0m\u001b[0m\n\u001b[0m\u001b[0;32m     33\u001b[0m         \u001b[0minterm_r\u001b[0m \u001b[1;33m=\u001b[0m \u001b[0msoup\u001b[0m\u001b[1;33m.\u001b[0m\u001b[0mselect\u001b[0m\u001b[1;33m(\u001b[0m\u001b[0mparsing_info\u001b[0m\u001b[1;33m)\u001b[0m\u001b[1;33m\u001b[0m\u001b[1;33m\u001b[0m\u001b[0m\n\u001b[0;32m     34\u001b[0m         \u001b[1;32mreturn\u001b[0m \u001b[0minterm_r\u001b[0m\u001b[1;33m\u001b[0m\u001b[1;33m\u001b[0m\u001b[0m\n",
      "\u001b[1;32m~\\.conda\\envs\\mycelebs_glowpick_cr\\lib\\site-packages\\bs4\\__init__.py\u001b[0m in \u001b[0;36m__init__\u001b[1;34m(self, markup, features, builder, parse_only, from_encoding, exclude_encodings, element_classes, **kwargs)\u001b[0m\n\u001b[0;32m    360\u001b[0m             \u001b[0mself\u001b[0m\u001b[1;33m.\u001b[0m\u001b[0mreset\u001b[0m\u001b[1;33m(\u001b[0m\u001b[1;33m)\u001b[0m\u001b[1;33m\u001b[0m\u001b[1;33m\u001b[0m\u001b[0m\n\u001b[0;32m    361\u001b[0m             \u001b[1;32mtry\u001b[0m\u001b[1;33m:\u001b[0m\u001b[1;33m\u001b[0m\u001b[1;33m\u001b[0m\u001b[0m\n\u001b[1;32m--> 362\u001b[1;33m                 \u001b[0mself\u001b[0m\u001b[1;33m.\u001b[0m\u001b[0m_feed\u001b[0m\u001b[1;33m(\u001b[0m\u001b[1;33m)\u001b[0m\u001b[1;33m\u001b[0m\u001b[1;33m\u001b[0m\u001b[0m\n\u001b[0m\u001b[0;32m    363\u001b[0m                 \u001b[0msuccess\u001b[0m \u001b[1;33m=\u001b[0m \u001b[1;32mTrue\u001b[0m\u001b[1;33m\u001b[0m\u001b[1;33m\u001b[0m\u001b[0m\n\u001b[0;32m    364\u001b[0m                 \u001b[1;32mbreak\u001b[0m\u001b[1;33m\u001b[0m\u001b[1;33m\u001b[0m\u001b[0m\n",
      "\u001b[1;32m~\\.conda\\envs\\mycelebs_glowpick_cr\\lib\\site-packages\\bs4\\__init__.py\u001b[0m in \u001b[0;36m_feed\u001b[1;34m(self)\u001b[0m\n\u001b[0;32m    446\u001b[0m         \u001b[0mself\u001b[0m\u001b[1;33m.\u001b[0m\u001b[0mbuilder\u001b[0m\u001b[1;33m.\u001b[0m\u001b[0mreset\u001b[0m\u001b[1;33m(\u001b[0m\u001b[1;33m)\u001b[0m\u001b[1;33m\u001b[0m\u001b[1;33m\u001b[0m\u001b[0m\n\u001b[0;32m    447\u001b[0m \u001b[1;33m\u001b[0m\u001b[0m\n\u001b[1;32m--> 448\u001b[1;33m         \u001b[0mself\u001b[0m\u001b[1;33m.\u001b[0m\u001b[0mbuilder\u001b[0m\u001b[1;33m.\u001b[0m\u001b[0mfeed\u001b[0m\u001b[1;33m(\u001b[0m\u001b[0mself\u001b[0m\u001b[1;33m.\u001b[0m\u001b[0mmarkup\u001b[0m\u001b[1;33m)\u001b[0m\u001b[1;33m\u001b[0m\u001b[1;33m\u001b[0m\u001b[0m\n\u001b[0m\u001b[0;32m    449\u001b[0m         \u001b[1;31m# Close out any unfinished strings and close all the open tags.\u001b[0m\u001b[1;33m\u001b[0m\u001b[1;33m\u001b[0m\u001b[0m\n\u001b[0;32m    450\u001b[0m         \u001b[0mself\u001b[0m\u001b[1;33m.\u001b[0m\u001b[0mendData\u001b[0m\u001b[1;33m(\u001b[0m\u001b[1;33m)\u001b[0m\u001b[1;33m\u001b[0m\u001b[1;33m\u001b[0m\u001b[0m\n",
      "\u001b[1;32m~\\.conda\\envs\\mycelebs_glowpick_cr\\lib\\site-packages\\bs4\\builder\\_htmlparser.py\u001b[0m in \u001b[0;36mfeed\u001b[1;34m(self, markup)\u001b[0m\n\u001b[0;32m    390\u001b[0m         \u001b[0mparser\u001b[0m\u001b[1;33m.\u001b[0m\u001b[0msoup\u001b[0m \u001b[1;33m=\u001b[0m \u001b[0mself\u001b[0m\u001b[1;33m.\u001b[0m\u001b[0msoup\u001b[0m\u001b[1;33m\u001b[0m\u001b[1;33m\u001b[0m\u001b[0m\n\u001b[0;32m    391\u001b[0m         \u001b[1;32mtry\u001b[0m\u001b[1;33m:\u001b[0m\u001b[1;33m\u001b[0m\u001b[1;33m\u001b[0m\u001b[0m\n\u001b[1;32m--> 392\u001b[1;33m             \u001b[0mparser\u001b[0m\u001b[1;33m.\u001b[0m\u001b[0mfeed\u001b[0m\u001b[1;33m(\u001b[0m\u001b[0mmarkup\u001b[0m\u001b[1;33m)\u001b[0m\u001b[1;33m\u001b[0m\u001b[1;33m\u001b[0m\u001b[0m\n\u001b[0m\u001b[0;32m    393\u001b[0m             \u001b[0mparser\u001b[0m\u001b[1;33m.\u001b[0m\u001b[0mclose\u001b[0m\u001b[1;33m(\u001b[0m\u001b[1;33m)\u001b[0m\u001b[1;33m\u001b[0m\u001b[1;33m\u001b[0m\u001b[0m\n\u001b[0;32m    394\u001b[0m         \u001b[1;32mexcept\u001b[0m \u001b[0mHTMLParseError\u001b[0m \u001b[1;32mas\u001b[0m \u001b[0me\u001b[0m\u001b[1;33m:\u001b[0m\u001b[1;33m\u001b[0m\u001b[1;33m\u001b[0m\u001b[0m\n",
      "\u001b[1;32m~\\.conda\\envs\\mycelebs_glowpick_cr\\lib\\html\\parser.py\u001b[0m in \u001b[0;36mfeed\u001b[1;34m(self, data)\u001b[0m\n\u001b[0;32m    108\u001b[0m         \"\"\"\n\u001b[0;32m    109\u001b[0m         \u001b[0mself\u001b[0m\u001b[1;33m.\u001b[0m\u001b[0mrawdata\u001b[0m \u001b[1;33m=\u001b[0m \u001b[0mself\u001b[0m\u001b[1;33m.\u001b[0m\u001b[0mrawdata\u001b[0m \u001b[1;33m+\u001b[0m \u001b[0mdata\u001b[0m\u001b[1;33m\u001b[0m\u001b[1;33m\u001b[0m\u001b[0m\n\u001b[1;32m--> 110\u001b[1;33m         \u001b[0mself\u001b[0m\u001b[1;33m.\u001b[0m\u001b[0mgoahead\u001b[0m\u001b[1;33m(\u001b[0m\u001b[1;36m0\u001b[0m\u001b[1;33m)\u001b[0m\u001b[1;33m\u001b[0m\u001b[1;33m\u001b[0m\u001b[0m\n\u001b[0m\u001b[0;32m    111\u001b[0m \u001b[1;33m\u001b[0m\u001b[0m\n\u001b[0;32m    112\u001b[0m     \u001b[1;32mdef\u001b[0m \u001b[0mclose\u001b[0m\u001b[1;33m(\u001b[0m\u001b[0mself\u001b[0m\u001b[1;33m)\u001b[0m\u001b[1;33m:\u001b[0m\u001b[1;33m\u001b[0m\u001b[1;33m\u001b[0m\u001b[0m\n",
      "\u001b[1;32m~\\.conda\\envs\\mycelebs_glowpick_cr\\lib\\html\\parser.py\u001b[0m in \u001b[0;36mgoahead\u001b[1;34m(self, end)\u001b[0m\n\u001b[0;32m    168\u001b[0m             \u001b[1;32mif\u001b[0m \u001b[0mstartswith\u001b[0m\u001b[1;33m(\u001b[0m\u001b[1;34m'<'\u001b[0m\u001b[1;33m,\u001b[0m \u001b[0mi\u001b[0m\u001b[1;33m)\u001b[0m\u001b[1;33m:\u001b[0m\u001b[1;33m\u001b[0m\u001b[1;33m\u001b[0m\u001b[0m\n\u001b[0;32m    169\u001b[0m                 \u001b[1;32mif\u001b[0m \u001b[0mstarttagopen\u001b[0m\u001b[1;33m.\u001b[0m\u001b[0mmatch\u001b[0m\u001b[1;33m(\u001b[0m\u001b[0mrawdata\u001b[0m\u001b[1;33m,\u001b[0m \u001b[0mi\u001b[0m\u001b[1;33m)\u001b[0m\u001b[1;33m:\u001b[0m \u001b[1;31m# < + letter\u001b[0m\u001b[1;33m\u001b[0m\u001b[1;33m\u001b[0m\u001b[0m\n\u001b[1;32m--> 170\u001b[1;33m                     \u001b[0mk\u001b[0m \u001b[1;33m=\u001b[0m \u001b[0mself\u001b[0m\u001b[1;33m.\u001b[0m\u001b[0mparse_starttag\u001b[0m\u001b[1;33m(\u001b[0m\u001b[0mi\u001b[0m\u001b[1;33m)\u001b[0m\u001b[1;33m\u001b[0m\u001b[1;33m\u001b[0m\u001b[0m\n\u001b[0m\u001b[0;32m    171\u001b[0m                 \u001b[1;32melif\u001b[0m \u001b[0mstartswith\u001b[0m\u001b[1;33m(\u001b[0m\u001b[1;34m\"</\"\u001b[0m\u001b[1;33m,\u001b[0m \u001b[0mi\u001b[0m\u001b[1;33m)\u001b[0m\u001b[1;33m:\u001b[0m\u001b[1;33m\u001b[0m\u001b[1;33m\u001b[0m\u001b[0m\n\u001b[0;32m    172\u001b[0m                     \u001b[0mk\u001b[0m \u001b[1;33m=\u001b[0m \u001b[0mself\u001b[0m\u001b[1;33m.\u001b[0m\u001b[0mparse_endtag\u001b[0m\u001b[1;33m(\u001b[0m\u001b[0mi\u001b[0m\u001b[1;33m)\u001b[0m\u001b[1;33m\u001b[0m\u001b[1;33m\u001b[0m\u001b[0m\n",
      "\u001b[1;32m~\\.conda\\envs\\mycelebs_glowpick_cr\\lib\\html\\parser.py\u001b[0m in \u001b[0;36mparse_starttag\u001b[1;34m(self, i)\u001b[0m\n\u001b[0;32m    314\u001b[0m         \u001b[1;32mwhile\u001b[0m \u001b[0mk\u001b[0m \u001b[1;33m<\u001b[0m \u001b[0mendpos\u001b[0m\u001b[1;33m:\u001b[0m\u001b[1;33m\u001b[0m\u001b[1;33m\u001b[0m\u001b[0m\n\u001b[0;32m    315\u001b[0m             \u001b[0mm\u001b[0m \u001b[1;33m=\u001b[0m \u001b[0mattrfind_tolerant\u001b[0m\u001b[1;33m.\u001b[0m\u001b[0mmatch\u001b[0m\u001b[1;33m(\u001b[0m\u001b[0mrawdata\u001b[0m\u001b[1;33m,\u001b[0m \u001b[0mk\u001b[0m\u001b[1;33m)\u001b[0m\u001b[1;33m\u001b[0m\u001b[1;33m\u001b[0m\u001b[0m\n\u001b[1;32m--> 316\u001b[1;33m             \u001b[1;32mif\u001b[0m \u001b[1;32mnot\u001b[0m \u001b[0mm\u001b[0m\u001b[1;33m:\u001b[0m\u001b[1;33m\u001b[0m\u001b[1;33m\u001b[0m\u001b[0m\n\u001b[0m\u001b[0;32m    317\u001b[0m                 \u001b[1;32mbreak\u001b[0m\u001b[1;33m\u001b[0m\u001b[1;33m\u001b[0m\u001b[0m\n\u001b[0;32m    318\u001b[0m             \u001b[0mattrname\u001b[0m\u001b[1;33m,\u001b[0m \u001b[0mrest\u001b[0m\u001b[1;33m,\u001b[0m \u001b[0mattrvalue\u001b[0m \u001b[1;33m=\u001b[0m \u001b[0mm\u001b[0m\u001b[1;33m.\u001b[0m\u001b[0mgroup\u001b[0m\u001b[1;33m(\u001b[0m\u001b[1;36m1\u001b[0m\u001b[1;33m,\u001b[0m \u001b[1;36m2\u001b[0m\u001b[1;33m,\u001b[0m \u001b[1;36m3\u001b[0m\u001b[1;33m)\u001b[0m\u001b[1;33m\u001b[0m\u001b[1;33m\u001b[0m\u001b[0m\n",
      "\u001b[1;31mKeyboardInterrupt\u001b[0m: "
     ]
    }
   ],
   "source": [
    "for brd in v4_more_than_df_brd_w_prd_v2:\n",
    "    brd_name = brd\n",
    "\n",
    "    options = Options()\n",
    "    ua = UserAgent()\n",
    "    userAgent = ua.random\n",
    "    print(userAgent)\n",
    "\n",
    "    options.add_argument('headless')\n",
    "    options.add_argument('window-size=1920x1080')\n",
    "    options.add_argument(\"disable-gpu\")\n",
    "    options.add_argument(f'user-agent={userAgent}')\n",
    "    wd = webdriver.Chrome(ChromeDriverManager().install(), chrome_options=options)\n",
    "\n",
    "    socket.setdefaulttimeout(30)\n",
    "\n",
    "    url = 'https:/www.glowpick.com/searches/keywords'\n",
    "    wd.get(url)\n",
    "    time.sleep(5)\n",
    "\n",
    "    wd.find_element_by_xpath(\"//*[@id='default-layout']/div/div[1]/span/div/div[2]/div[2]/button[2]\").click()\n",
    "    wd.maximize_window()\n",
    "    time.sleep(3)\n",
    "\n",
    "    brd_input = wd.find_element_by_xpath(\"//*[@id='default-layout']/div/div[2]/div/div/div/input\")\n",
    "    brd_input.send_keys(brd_name)\n",
    "    brd_input.send_keys(Keys.ENTER)\n",
    "    time.sleep(3)\n",
    "\n",
    "    def parsing_html_with_class(parsing_info = '.products'):\n",
    "        html = wd.page_source\n",
    "        soup = soup = BeautifulSoup(html, \"html.parser\")\n",
    "        interm_r = soup.select(parsing_info)\n",
    "        return interm_r\n",
    "\n",
    "    try:\n",
    "        while True:\n",
    "            prd_link = []\n",
    "            prd_name = []\n",
    "\n",
    "            product_lst = parsing_html_with_class()\n",
    "            product_len = len(re.findall('<div class=\"products__product product\" (.*?)', str(product_lst[0])))\n",
    "\n",
    "            #while wd.find_elements_by_class_name('details__brand')[product_len].text[:len(brd_name)] == brd_name:\n",
    "\n",
    "            element = wd.find_element_by_xpath('/html/body/div/div/div/div/main/div/section/div[2]/div/div[1]/span/div[{}]'.format(product_len - 1))\n",
    "            wd.execute_script(\"arguments[0].scrollIntoView(true);\", element)\n",
    "            time.sleep(2)\n",
    "\n",
    "            product_lst_2 = parsing_html_with_class()\n",
    "\n",
    "            if product_lst == product_lst_2:\n",
    "                for i in range(product_len):\n",
    "                    if (re.sub(r'\\([^)]*\\)', '', wd.find_elements_by_class_name('details__brand')[i].text).strip()) == brd_name:\n",
    "                        code = re.findall('<div class=\"products__product product\" (.*?)id=\"(.*?)\">', str(product_lst[0]))[i][1].split('-')[-1]\n",
    "                        link = 'https://www.glowpick.com/products/' + code\n",
    "                        prd_link.append(link)\n",
    "                        dict_prd_name_tmp[brd_name].append(wd.find_elements_by_class_name('details__product')[i].text)\n",
    "                dict_prd_link_tmp[brd_name] = prd_link\n",
    "                break\n",
    "\n",
    "    except NoSuchElementException:\n",
    "        for i in range(product_len):\n",
    "            if (re.sub(r'\\([^)]*\\)', '', wd.find_elements_by_class_name('details__brand')[i].text).strip()) == brd_name:\n",
    "                code = re.findall('<div class=\"products__product product\" (.*?)id=\"(.*?)\">', str(product_lst[0]))[i][1].split('-')[-1]\n",
    "                link = 'https://www.glowpick.com/products/' + code\n",
    "                prd_link.append(link)\n",
    "                dict_prd_name_tmp[brd_name].append(wd.find_elements_by_class_name('details__product')[i].text)\n",
    "        dict_prd_link_tmp[brd_name] = prd_link  "
   ]
  },
  {
   "cell_type": "code",
   "execution_count": 31,
   "id": "56bdb1d1-e8ad-438d-ba4a-79fc990e2df0",
   "metadata": {},
   "outputs": [],
   "source": [
    "import pickle\n",
    "\n",
    "with open(\"dict_prd_name_tmp.txt\", \"rb\") as f:\n",
    "    dict_prd_name_tmp_ = pickle.load(f)\n",
    "    \n",
    "with open(\"dict_prd_link_tmp.txt\", \"rb\") as f:\n",
    "    dict_prd_link_tmp_ = pickle.load(f)"
   ]
  },
  {
   "cell_type": "markdown",
   "id": "7b8fe1ef-1b24-4d2b-a9a1-1d15419a0040",
   "metadata": {},
   "source": [
    "# v4와 df_brd_w_prd_v2 상품명 비교"
   ]
  },
  {
   "cell_type": "code",
   "execution_count": 32,
   "id": "b3ddb0b5-03a9-42b7-b165-237b33c7087e",
   "metadata": {},
   "outputs": [],
   "source": [
    "brd_lst = grp_cnt[\"브랜드명\"]"
   ]
  },
  {
   "cell_type": "code",
   "execution_count": 39,
   "id": "4870a2ad-1b08-4256-9017-2f6ae8ebd5c5",
   "metadata": {},
   "outputs": [],
   "source": [
    "dict_diff = {}\n",
    "for brd in brd_lst:\n",
    "    v2_lst = []\n",
    "    v4_lst = []\n",
    "    v2_not_v4 = []\n",
    "    v4_not_v2 = []\n",
    "    for j in range(len(list(df_brd_w_prd_v2.loc[df_brd_w_prd_v2[\"brand_name\"]== brd, 'product_name'])[0])):\n",
    "        v2_lst.append(list(df_brd_w_prd_v2.loc[df_brd_w_prd_v2[\"brand_name\"]== brd, 'product_name'])[0][j].replace(' ', ''))\n",
    "    #print(v2_lst)\n",
    "        \n",
    "    for k in range(len(list(v4.loc[v4[\"브랜드명\"]== brd, '제품명']))):\n",
    "        v4_lst.append(list(v4.loc[v4[\"브랜드명\"]== brd, '제품명'])[k].replace(' ', ''))\n",
    "    #print(v4_lst)\n",
    "        \n",
    "    for _ in range(len(v2_lst)):\n",
    "        if v2_lst[_] not in v4_lst: #v2에는 있는데 v4에 없는 제품\n",
    "            v2_not_v4.append(v2_lst[_])\n",
    "            \n",
    "    for _ in range(len(v4_lst)):\n",
    "        if v4_lst[_] not in v2_lst: #v4에는 있는데 v2에 없는 제품\n",
    "            v4_not_v2.append(v4_lst[_])\n",
    "    dict_diff[brd] = [v2_not_v4, v4_not_v2]"
   ]
  },
  {
   "cell_type": "code",
   "execution_count": 40,
   "id": "1498894d-5eac-444b-8586-68cf0acb5685",
   "metadata": {},
   "outputs": [],
   "source": [
    "import pickle\n",
    "\n",
    "with open(\"dict_diff.txt\", \"wb\") as f:\n",
    "    pickle.dump(dict_diff, f)"
   ]
  },
  {
   "cell_type": "code",
   "execution_count": 41,
   "id": "afc64f2d-5a4e-4245-8a26-cca3d53c5a10",
   "metadata": {},
   "outputs": [],
   "source": [
    "cnt1 = 0  #상품 정보 업데이트(변경 + 추가)된 경우 카운트\n",
    "cnt2 = 0 #상품 정보가 삭제된 경우(=df_brd_w_prd_v2에서 잡히지 않는 경우) 카운트\n",
    "cnt3 = 0 #상품 정보가 추가된 경우(=v4에서 잡히지 않는 경우)\n",
    "\n",
    "df_missing = []\n",
    "v4_missing = []\n",
    "update = []\n",
    "\n",
    "for i in range(len(list(dict_diff.items()))):\n",
    "    \n",
    "    if list(dict_diff.items())[i][1][0] != [] and list(dict_diff.items())[i][1][1] != []: #상품 정보 업데이트(변경 + 추가)된 경우\n",
    "        update.append(list(dict_diff.items())[i])\n",
    "        cnt1 += len(list(dict_diff.items())[i][1][0])\n",
    "        \n",
    "    if list(dict_diff.items())[i][1][0] == [] and list(dict_diff.items())[i][1][1] != []: #상품 정보 삭제된 경우 (= df에서 유실된 경우)\n",
    "        df_missing.append(list(dict_diff.items())[i])\n",
    "        cnt2 += len(list(dict_diff.items())[i][1][1])\n",
    "        \n",
    "    if list(dict_diff.items())[i][1][0] != [] and list(dict_diff.items())[i][1][1] == []: #v4에서 상품 정보 유실만된 경우\n",
    "        v4_missing.append(list(dict_diff.items())[i])\n",
    "        cnt3 += len(list(dict_diff.items())[i][1][0])"
   ]
  },
  {
   "cell_type": "code",
   "execution_count": 42,
   "id": "ccb15601-e7ed-463f-9b6c-04e0bdb11088",
   "metadata": {},
   "outputs": [],
   "source": [
    "import pickle\n",
    "\n",
    "with open(\"df_missing.txt\", \"wb\") as f:\n",
    "    pickle.dump(df_missing, f)\n",
    "    \n",
    "with open(\"v4_missing.txt\", \"wb\") as f:\n",
    "    pickle.dump(v4_missing, f)\n",
    "    \n",
    "with open(\"update.txt\", \"wb\") as f:\n",
    "    pickle.dump(update, f)"
   ]
  },
  {
   "cell_type": "code",
   "execution_count": 48,
   "id": "79c06966-d0b1-4be2-bd39-0870c2de11c9",
   "metadata": {},
   "outputs": [
    {
     "name": "stdout",
     "output_type": "stream",
     "text": [
      "상품 정보 업데이트(변경 + 추가)된 경우 1171\n",
      "상품 정보가 삭제된 경우(=df_brd_w_prd_v2에서 잡히지 않는 경우):  7\n",
      "상품 정보가 추가된 경우(=v4에서 잡히지 않는 경우) 489\n"
     ]
    }
   ],
   "source": [
    "print(\"상품 정보 업데이트(변경 + 추가)된 경우\", cnt1)\n",
    "print(\"상품 정보가 삭제된 경우(=df_brd_w_prd_v2에서 잡히지 않는 경우): \", cnt2)\n",
    "print(\"상품 정보가 추가된 경우(=v4에서 잡히지 않는 경우)\", cnt3)"
   ]
  }
 ],
 "metadata": {
  "kernelspec": {
   "display_name": "Python 3 (ipykernel)",
   "language": "python",
   "name": "python3"
  },
  "language_info": {
   "codemirror_mode": {
    "name": "ipython",
    "version": 3
   },
   "file_extension": ".py",
   "mimetype": "text/x-python",
   "name": "python",
   "nbconvert_exporter": "python",
   "pygments_lexer": "ipython3",
   "version": "3.9.7"
  }
 },
 "nbformat": 4,
 "nbformat_minor": 5
}
