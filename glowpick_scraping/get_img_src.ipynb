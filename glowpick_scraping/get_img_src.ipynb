{
 "cells": [
  {
   "cell_type": "code",
   "execution_count": null,
   "id": "319813ac-add9-40fb-b208-61cf8e8b50e9",
   "metadata": {},
   "outputs": [],
   "source": [
    "import os\n",
    "import re\n",
    "import pandas as pd\n",
    "import pickle\n",
    "import collections\n",
    "import numpy as np\n",
    "import math\n",
    "from ast import literal_eval\n",
    "from time import gmtime, strftime\n",
    "import re\n",
    "import time\n",
    "from bs4 import BeautifulSoup\n",
    "from tqdm import trange, tqdm_notebook\n",
    "from tqdm.auto import tqdm\n",
    "\n",
    "# Scrapping\n",
    "import selenium\n",
    "from selenium import webdriver\n",
    "from selenium.webdriver.common.keys import Keys\n",
    "from selenium.webdriver.support.ui import WebDriverWait\n",
    "from selenium.webdriver.support import expected_conditions as EC\n",
    "from webdriver_manager.chrome import ChromeDriverManager\n",
    "from selenium.webdriver.common.by import By\n",
    "from selenium.webdriver.chrome.options import Options\n",
    "from fake_useragent import UserAgent\n",
    "\n",
    "# Error Handling\n",
    "import socket\n",
    "import urllib3\n",
    "import urllib.request\n",
    "from urllib.request import urlopen\n",
    "from urllib.parse import quote_plus\n",
    "from urllib.request import urlretrieve\n",
    "from selenium.common.exceptions import NoSuchElementException, ElementNotInteractableException, ElementClickInterceptedException\n",
    "import warnings\n",
    "warnings.filterwarnings('ignore')\n",
    "\n",
    "from collections import defaultdict"
   ]
  },
  {
   "cell_type": "code",
   "execution_count": null,
   "id": "a85806d0-f0e7-4e52-8f77-5795230f66c7",
   "metadata": {},
   "outputs": [],
   "source": [
    "fnl_df_brd_w_prd = pd.read_csv(\"fnl_df_brd_w_prd.csv\")\n",
    "\n",
    "import ast\n",
    "for i in fnl_df_brd_w_prd.index:\n",
    "    fnl_df_brd_w_prd.at[i, 'product_link'] = ast.literal_eval(fnl_df_brd_w_prd.loc[i, 'product_link'])\n",
    "    fnl_df_brd_w_prd.at[i, 'product_name'] = ast.literal_eval(fnl_df_brd_w_prd.loc[i, 'product_name'])\n",
    "    \n",
    "fnl_df_glowpick_prd_info_w_img_src = pd.read_csv(\"fnl_df_glowpick_prd_info_w_img_src.csv\")\n",
    "fnl_df_glowpick_prd_info_w_img_src_drop_naver = pd.read_csv(\"fnl_df_glowpick_prd_info_w_img_src_drop_naver.csv\")"
   ]
  },
  {
   "cell_type": "code",
   "execution_count": null,
   "id": "acb89734-65e2-49e3-bca3-8bad1cca944b",
   "metadata": {},
   "outputs": [],
   "source": [
    "naver_beauty_product_info = pd.read_csv(\"naver_beauty_product_info.csv\")\n",
    "brand_key_added = pd.read_csv(\"brand_key_added.csv\")\n",
    "\n",
    "brand_naver_w_glowpick = list(brand_key_added.loc[brand_key_added['glowpick_brand_name'].notna(), 'glowpick_brand_name'])"
   ]
  },
  {
   "cell_type": "code",
   "execution_count": null,
   "id": "cc9f54ed-ee8d-454f-aed7-1190f668c53c",
   "metadata": {},
   "outputs": [],
   "source": [
    "#네이버 뷰티윈도우 브랜드들의 글로우픽에서의 이름\n",
    "brand_naver_w_glowpick = list(brand_key_added.loc[brand_key_added['glowpick_brand_name'].notna(), 'glowpick_brand_name'])"
   ]
  },
  {
   "cell_type": "code",
   "execution_count": null,
   "id": "bbeb8dce-f1a8-4813-82ce-c1c133ddbebe",
   "metadata": {},
   "outputs": [],
   "source": [
    "#네이버 뷰티윈도우에 있는 브랜드의 제품 드랍\n",
    "\n",
    "for i in tqdm(fnl_df_glowpick_prd_info_w_img_src.index):\n",
    "    if fnl_df_glowpick_prd_info_w_img_src.loc[i, '브랜드명'] in brand_naver_w_glowpick:\n",
    "        fnl_df_glowpick_prd_info_w_img_src_drop_naver = fnl_df_glowpick_prd_info_w_img_src.drop(i)"
   ]
  },
  {
   "cell_type": "code",
   "execution_count": null,
   "id": "662439b4-0070-4713-92c6-48b8754773b7",
   "metadata": {},
   "outputs": [],
   "source": [
    "fnl_df_glowpick_prd_info_w_img_src_drop_naver = pd.read_csv(\"fnl_df_glowpick_prd_info_w_img_src_drop_naver.csv\", index=False)"
   ]
  },
  {
   "cell_type": "code",
   "execution_count": null,
   "id": "c11f350d-2220-47a3-bd61-b4f0e86a3cab",
   "metadata": {},
   "outputs": [],
   "source": [
    "def get_img_src(prd_link):\n",
    "    \n",
    "    options = Options()\n",
    "    ua = UserAgent()\n",
    "    userAgent = ua.random\n",
    "    print(userAgent)\n",
    "\n",
    "    options.add_argument('headless')\n",
    "    options.add_argument('window-size=1920x1080')\n",
    "    options.add_argument(\"disable-gpu\")\n",
    "    options.add_argument(f'user-agent={userAgent}')\n",
    "    wd = webdriver.Chrome(ChromeDriverManager().install(), chrome_options=options)\n",
    "    \n",
    "    while True:\n",
    "        try:\n",
    "            \n",
    "            wd.get(prd_link)\n",
    "            time.sleep(5)\n",
    "            wd.maximize_window()\n",
    "\n",
    "            socket.setdefaulttimeout(30)\n",
    "\n",
    "            try:\n",
    "\n",
    "                wd.find_element_by_xpath('//*[@id=\\\"default-layout\\\"]/div/div[1]/span/div/div[2]/div[2]/button[2]').click()\n",
    "                time.sleep(5)\n",
    "\n",
    "                html = wd.page_source\n",
    "                bs = BeautifulSoup(html, 'html.parser')\n",
    "\n",
    "                time.sleep(3)\n",
    "                img_src = wd.find_element_by_xpath(\"/html/body/div/div/div/div/main/div/section/div[1]/div/div/img\").get_attribute('src')\n",
    "                img_src = re.sub(\"w=[0-9]*\", \"w=500\", img_src)\n",
    "                wd.close()\n",
    "\n",
    "                return img_src\n",
    "\n",
    "            except Exception as e:\n",
    "                print(e)\n",
    "                return None\n",
    "                \n",
    "        except urllib3.exceptions.ReadTimeoutError:\n",
    "            time.sleep(5)\n",
    "            \n",
    "        except:\n",
    "            return None"
   ]
  },
  {
   "cell_type": "code",
   "execution_count": null,
   "id": "a43c54be-3b1d-4c63-8343-ef94c757f628",
   "metadata": {},
   "outputs": [],
   "source": [
    "for i in tqdm(list(fnl_df_glowpick_prd_info_w_img_src_drop_naver.loc[pd.isnull(fnl_df_glowpick_prd_info_w_img_src_drop_naver['이미지 src'])].index)):\n",
    "    prd_link = fnl_df_glowpick_prd_info_w_img_src_drop_naver.loc[i, '제품 link']\n",
    "    img_src = get_img_src(prd_link)\n",
    "    if img_src != None:\n",
    "        fnl_df_glowpick_prd_info_w_img_src_drop_naver.loc[i, '이미지 src'] = img_src"
   ]
  },
  {
   "cell_type": "code",
   "execution_count": null,
   "id": "52542fb1-7746-49de-927e-4955d030088a",
   "metadata": {},
   "outputs": [],
   "source": [
    "fnl_df_glowpick_prd_info_w_img_src_drop_naver = pd.read_csv(\"fnl_df_glowpick_prd_info_w_img_src_drop_naver.csv\")"
   ]
  }
 ],
 "metadata": {
  "kernelspec": {
   "display_name": "Python 3 (ipykernel)",
   "language": "python",
   "name": "python3"
  },
  "language_info": {
   "codemirror_mode": {
    "name": "ipython",
    "version": 3
   },
   "file_extension": ".py",
   "mimetype": "text/x-python",
   "name": "python",
   "nbconvert_exporter": "python",
   "pygments_lexer": "ipython3",
   "version": "3.8.11"
  }
 },
 "nbformat": 4,
 "nbformat_minor": 5
}
