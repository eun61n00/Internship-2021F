{
 "cells": [
  {
   "cell_type": "markdown",
   "id": "c45201af-43f5-4be3-a03f-6c87c9f566df",
   "metadata": {},
   "source": [
    "# 앞으로 객체 크롤링 진행햐아 하는 제품"
   ]
  },
  {
   "cell_type": "code",
   "execution_count": 2,
   "id": "1415b2d3-6d53-4652-b3bc-40c0d8ade447",
   "metadata": {},
   "outputs": [],
   "source": [
    "import os\n",
    "import re\n",
    "import pandas as pd\n",
    "import pickle\n",
    "import collections\n",
    "import numpy as np\n",
    "import math\n",
    "from ast import literal_eval\n",
    "from time import gmtime, strftime\n",
    "import re\n",
    "import time\n",
    "from bs4 import BeautifulSoup\n",
    "from tqdm import trange, tqdm_notebook\n",
    "from tqdm.auto import tqdm\n",
    "\n",
    "# Scrapping\n",
    "import selenium\n",
    "from selenium import webdriver\n",
    "from selenium.webdriver.common.keys import Keys\n",
    "from selenium.webdriver.support.ui import WebDriverWait\n",
    "from selenium.webdriver.support import expected_conditions as EC\n",
    "from webdriver_manager.chrome import ChromeDriverManager\n",
    "from selenium.webdriver.common.by import By\n",
    "from selenium.webdriver.chrome.options import Options\n",
    "from fake_useragent import UserAgent\n",
    "\n",
    "# Error Handling\n",
    "import socket\n",
    "import urllib3\n",
    "import urllib.request\n",
    "from urllib.request import urlopen\n",
    "from urllib.parse import quote_plus\n",
    "from urllib.request import urlretrieve\n",
    "from selenium.common.exceptions import NoSuchElementException, ElementNotInteractableException, ElementClickInterceptedException\n",
    "import warnings\n",
    "warnings.filterwarnings('ignore')\n",
    "\n",
    "from collections import defaultdict"
   ]
  },
  {
   "cell_type": "code",
   "execution_count": 8,
   "id": "3ddc6f5a-85e7-4628-888b-436dd760799e",
   "metadata": {},
   "outputs": [],
   "source": [
    "need_to_crawl = []"
   ]
  },
  {
   "cell_type": "code",
   "execution_count": null,
   "id": "4e867056-6770-495a-bf70-97babf16dea8",
   "metadata": {},
   "outputs": [],
   "source": [
    "df_brd_w_prd_v3 = pd.read_csv(\"df_brd_w_prd_v3.csv\")\n",
    "df_brd_w_prd_v3 = df_brd_w_prd_v3.iloc[:, 1:]"
   ]
  },
  {
   "cell_type": "code",
   "execution_count": 3,
   "id": "3e1ab60d-b170-407a-b339-7bc03b9c6dcb",
   "metadata": {},
   "outputs": [],
   "source": [
    "v4_update = pd.read_csv(\"v4_update.csv\")\n",
    "v4_update = v4_update.iloc[:, 1:]"
   ]
  },
  {
   "cell_type": "code",
   "execution_count": 5,
   "id": "420d50be-847f-461e-b7d6-99ee94fd7aaa",
   "metadata": {},
   "outputs": [],
   "source": [
    "lst_v4_prd_link = list(v4_update['제품 link'])"
   ]
  },
  {
   "cell_type": "code",
   "execution_count": null,
   "id": "d8f88f74-f99a-4d89-942a-7b50c94f21c8",
   "metadata": {},
   "outputs": [],
   "source": [
    "#현재까지 크롤링 완료되어 한꺼번에 붙인 df\n",
    "df_glowpick_prd_info = pd.read_csv(\"df_glowpick_prd_info.csv\")\n",
    "df_glowpick_prd_info = df_glowpick_prd_info.iloc[: 1:]"
   ]
  },
  {
   "cell_type": "code",
   "execution_count": 7,
   "id": "5aa8f417-2ae6-4ad4-86a8-1ddf473baed4",
   "metadata": {
    "collapsed": true,
    "jupyter": {
     "outputs_hidden": true
    },
    "tags": []
   },
   "outputs": [
    {
     "ename": "NameError",
     "evalue": "name 'df_glowpick_prd_info' is not defined",
     "output_type": "error",
     "traceback": [
      "\u001b[1;31m---------------------------------------------------------------------------\u001b[0m",
      "\u001b[1;31mNameError\u001b[0m                                 Traceback (most recent call last)",
      "\u001b[1;32m~\\AppData\\Local\\Temp/ipykernel_23364/710942687.py\u001b[0m in \u001b[0;36m<module>\u001b[1;34m\u001b[0m\n\u001b[1;32m----> 1\u001b[1;33m \u001b[0mlst_df_glowpick_prd_link\u001b[0m \u001b[1;33m=\u001b[0m \u001b[0mlist\u001b[0m\u001b[1;33m(\u001b[0m\u001b[0mdf_glowpick_prd_info\u001b[0m\u001b[1;33m[\u001b[0m\u001b[1;34m'제품 link'\u001b[0m\u001b[1;33m]\u001b[0m\u001b[1;33m)\u001b[0m\u001b[1;33m\u001b[0m\u001b[1;33m\u001b[0m\u001b[0m\n\u001b[0m",
      "\u001b[1;31mNameError\u001b[0m: name 'df_glowpick_prd_info' is not defined"
     ]
    }
   ],
   "source": [
    "lst_df_glowpick_prd_link = list(df_glowpick_prd_info['제품 link'])"
   ]
  },
  {
   "cell_type": "code",
   "execution_count": null,
   "id": "188152d9-3fe8-40a2-b156-ab51513c732e",
   "metadata": {},
   "outputs": [],
   "source": [
    "for i in range(len(df_brd_w_prd_v3)):\n",
    "    for j in list(df_brd_w_prd_v3.loc[i, 'product_link']):\n",
    "        if j not in lst_df_glowpick_prd_link and j not in lst_v4_prd_link:\n",
    "            need_to_crawl.append(j)"
   ]
  },
  {
   "cell_type": "markdown",
   "id": "01ed479d-9410-4c19-a97b-a6434373d401",
   "metadata": {},
   "source": [
    "---\n",
    "# 이미지 src만 추가로 받아와야 하는 상품 img src만 받아오기"
   ]
  },
  {
   "cell_type": "code",
   "execution_count": null,
   "id": "75448a08-5523-4d24-ae7c-b48c8167427f",
   "metadata": {},
   "outputs": [],
   "source": [
    "#현재까지 크롤링 완료되어 한꺼번에 붙인 df\n",
    "df_glowpick_prd_info = pd.read_csv(\"df_glowpick_prd_info.csv\")\n",
    "df_glowpick_prd_info = df_glowpick_prd_info.iloc[: 1:]"
   ]
  },
  {
   "cell_type": "code",
   "execution_count": null,
   "id": "b1efcf8c-c4dd-49d3-ab06-a5f62f239176",
   "metadata": {},
   "outputs": [],
   "source": [
    "def get_img_src(prd_link):\n",
    "    \n",
    "    options = Options()\n",
    "    ua = UserAgent()\n",
    "    userAgent = ua.random\n",
    "    print(userAgent)\n",
    "\n",
    "    options.add_argument('headless')\n",
    "    options.add_argument('window-size=1920x1080')\n",
    "    options.add_argument(\"disable-gpu\")\n",
    "    options.add_argument(f'user-agent={userAgent}')\n",
    "    wd = webdriver.Chrome(ChromeDriverManager().install(), chrome_options=options)\n",
    "\n",
    "    wd.get(prd_link)\n",
    "    time.sleep(5)\n",
    "    wd.maximize_window()\n",
    "    \n",
    "    socket.setdefaulttimeout(30)\n",
    "        \n",
    "    try:\n",
    "        \n",
    "        wd.find_element_by_xpath('//*[@id=\\\"default-layout\\\"]/div/div[1]/span/div/div[2]/div[2]/button[2]').click()\n",
    "        time.sleep(5)\n",
    "\n",
    "        html = wd.page_source\n",
    "        bs = BeautifulSoup(html, 'html.parser')\n",
    "        \n",
    "        time.sleep(3)\n",
    "        img_src = wd.find_element_by_xpath(\"/html/body/div/div/div/div/main/div/section/div[1]/div/div/img\").get_attribute('src')\n",
    "        img_src = re.sub(\"w=[0-9]*\", \"w=500\", img_src)\n",
    "        wd.close()\n",
    "        \n",
    "        return img_src\n",
    "\n",
    "    except Exception as e:\n",
    "        exception.append(prd_link)\n",
    "        print(e)"
   ]
  },
  {
   "cell_type": "code",
   "execution_count": 9,
   "id": "01f64e26-4dfd-4fc3-a319-c411d3b4f379",
   "metadata": {
    "collapsed": true,
    "jupyter": {
     "outputs_hidden": true
    },
    "tags": []
   },
   "outputs": [
    {
     "ename": "NameError",
     "evalue": "name 'df_glowpick_prd_info' is not defined",
     "output_type": "error",
     "traceback": [
      "\u001b[1;31m---------------------------------------------------------------------------\u001b[0m",
      "\u001b[1;31mNameError\u001b[0m                                 Traceback (most recent call last)",
      "\u001b[1;32m~\\AppData\\Local\\Temp/ipykernel_23364/1910496870.py\u001b[0m in \u001b[0;36m<module>\u001b[1;34m\u001b[0m\n\u001b[0;32m      1\u001b[0m \u001b[1;31m#df_glowpick_prd_info는 지금까지 크롤링 완료된 glowpick 객체\u001b[0m\u001b[1;33m\u001b[0m\u001b[1;33m\u001b[0m\u001b[0m\n\u001b[0;32m      2\u001b[0m \u001b[1;33m\u001b[0m\u001b[0m\n\u001b[1;32m----> 3\u001b[1;33m \u001b[1;32mfor\u001b[0m \u001b[0mi\u001b[0m \u001b[1;32min\u001b[0m \u001b[0mlist\u001b[0m\u001b[1;33m(\u001b[0m\u001b[0mdf_glowpick_prd_info\u001b[0m\u001b[1;33m.\u001b[0m\u001b[0mindex\u001b[0m\u001b[1;33m)\u001b[0m\u001b[1;33m:\u001b[0m\u001b[1;33m\u001b[0m\u001b[1;33m\u001b[0m\u001b[0m\n\u001b[0m\u001b[0;32m      4\u001b[0m     \u001b[0mprd_link\u001b[0m \u001b[1;33m=\u001b[0m \u001b[0mdf_glowpick_prd_info\u001b[0m\u001b[1;33m[\u001b[0m\u001b[0mi\u001b[0m\u001b[1;33m,\u001b[0m \u001b[1;34m'제품 link'\u001b[0m\u001b[1;33m]\u001b[0m\u001b[1;33m\u001b[0m\u001b[1;33m\u001b[0m\u001b[0m\n\u001b[0;32m      5\u001b[0m     \u001b[0mimg_src\u001b[0m \u001b[1;33m=\u001b[0m \u001b[0mget_img_src\u001b[0m\u001b[1;33m(\u001b[0m\u001b[0mprd_link\u001b[0m\u001b[1;33m)\u001b[0m\u001b[1;33m\u001b[0m\u001b[1;33m\u001b[0m\u001b[0m\n",
      "\u001b[1;31mNameError\u001b[0m: name 'df_glowpick_prd_info' is not defined"
     ]
    }
   ],
   "source": [
    "#df_glowpick_prd_info는 지금까지 크롤링 완료된 glowpick 상품 df\n",
    "\n",
    "for i in list(df_glowpick_prd_info.index):\n",
    "    prd_link = df_glowpick_prd_info[i, '제품 link']\n",
    "    img_src = get_img_src(prd_link)\n",
    "    df_glowpick_prd_info[i, 'img_src'] = ima_src"
   ]
  },
  {
   "cell_type": "code",
   "execution_count": null,
   "id": "dbe92419-bcd4-42f9-8b16-a0258a995dd4",
   "metadata": {},
   "outputs": [],
   "source": []
  }
 ],
 "metadata": {
  "kernelspec": {
   "display_name": "Python 3 (ipykernel)",
   "language": "python",
   "name": "python3"
  },
  "language_info": {
   "codemirror_mode": {
    "name": "ipython",
    "version": 3
   },
   "file_extension": ".py",
   "mimetype": "text/x-python",
   "name": "python",
   "nbconvert_exporter": "python",
   "pygments_lexer": "ipython3",
   "version": "3.9.7"
  }
 },
 "nbformat": 4,
 "nbformat_minor": 5
}
