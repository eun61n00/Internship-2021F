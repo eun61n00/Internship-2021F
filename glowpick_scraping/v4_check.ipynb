{
 "cells": [
  {
   "cell_type": "code",
   "execution_count": 23,
   "id": "887c9213-55af-473a-97f5-320091e97297",
   "metadata": {},
   "outputs": [],
   "source": [
    "import os\n",
    "import re\n",
    "import pandas as pd\n",
    "import pickle\n",
    "import collections\n",
    "import numpy as np\n",
    "import math\n",
    "from ast import literal_eval\n",
    "from time import gmtime, strftime\n",
    "import re\n",
    "import time\n",
    "from bs4 import BeautifulSoup\n",
    "from tqdm import trange, tqdm_notebook\n",
    "from tqdm.auto import tqdm\n",
    "\n",
    "# Scrapping\n",
    "import selenium\n",
    "from selenium import webdriver\n",
    "from selenium.webdriver.common.keys import Keys\n",
    "from selenium.webdriver.support.ui import WebDriverWait\n",
    "from selenium.webdriver.support import expected_conditions as EC\n",
    "from webdriver_manager.chrome import ChromeDriverManager\n",
    "from selenium.webdriver.common.by import By\n",
    "from selenium.webdriver.chrome.options import Options\n",
    "from fake_useragent import UserAgent\n",
    "\n",
    "# Error Handling\n",
    "import socket\n",
    "import urllib3\n",
    "import urllib.request\n",
    "from urllib.request import urlopen\n",
    "from urllib.parse import quote_plus\n",
    "from urllib.request import urlretrieve\n",
    "from selenium.common.exceptions import NoSuchElementException, ElementNotInteractableException, ElementClickInterceptedException\n",
    "import warnings\n",
    "warnings.filterwarnings('ignore')\n",
    "\n",
    "from collections import defaultdict"
   ]
  },
  {
   "cell_type": "code",
   "execution_count": 100,
   "id": "fbefd9dd-1054-4d45-a2ce-bd4e2e27b0d9",
   "metadata": {},
   "outputs": [],
   "source": [
    "v4 = pd.read_csv(\"v4_update.csv\")\n",
    "v4 = v4.iloc[:, 1:]"
   ]
  },
  {
   "cell_type": "code",
   "execution_count": null,
   "id": "257ffeb9-10ed-4391-9e56-29214b3515e8",
   "metadata": {},
   "outputs": [],
   "source": [
    "v4_update_dup_brd_lst = list(set(list(v4.loc[v4.duplicated(['제품 link']), '브랜드명'])))\n",
    "v4_update_dup_prd_lst = list(set(list(v4.loc[v4.duplicated(['제품 link']), '제품명'])))"
   ]
  },
  {
   "cell_type": "markdown",
   "id": "bb63f156-c0d6-41c0-9c56-8e38d75d4ced",
   "metadata": {},
   "source": [
    "# v4_3에서 이미 중복되어 있는 상품 삭제"
   ]
  },
  {
   "cell_type": "code",
   "execution_count": 91,
   "id": "bdf8640c-5378-44e1-a0a4-8dea9c9a2480",
   "metadata": {},
   "outputs": [],
   "source": [
    "v4_3 = pd.read_csv(\"glowpick_product_info_v4.3.csv\")\n",
    "v4_3 = v4_3.iloc[:, 1:]"
   ]
  },
  {
   "cell_type": "code",
   "execution_count": 92,
   "id": "9da213db-b484-4ff2-9a15-dbd7ab1c5e73",
   "metadata": {},
   "outputs": [
    {
     "data": {
      "text/plain": [
       "63465"
      ]
     },
     "execution_count": 92,
     "metadata": {},
     "output_type": "execute_result"
    }
   ],
   "source": [
    "len(v4_3)"
   ]
  },
  {
   "cell_type": "code",
   "execution_count": 93,
   "id": "e9da88e3-98f9-4d88-b550-b2da311c0bb7",
   "metadata": {},
   "outputs": [],
   "source": [
    "v4_3_dup_lst = list(v4_3.loc[v4_3.duplicated(['제품_id']), '제품_id'])"
   ]
  },
  {
   "cell_type": "code",
   "execution_count": 99,
   "id": "b0c366ba-9863-4191-b620-f94da4b3a151",
   "metadata": {},
   "outputs": [
    {
     "data": {
      "text/plain": [
       "40"
      ]
     },
     "execution_count": 99,
     "metadata": {},
     "output_type": "execute_result"
    }
   ],
   "source": [
    "len(v4_3_dup_lst)"
   ]
  },
  {
   "cell_type": "code",
   "execution_count": 95,
   "id": "f7c329d9-a0d4-41a1-b9c2-7f0c2e13fc4a",
   "metadata": {},
   "outputs": [
    {
     "data": {
      "text/plain": [
       "64282"
      ]
     },
     "execution_count": 95,
     "metadata": {},
     "output_type": "execute_result"
    }
   ],
   "source": [
    "len(v4)"
   ]
  },
  {
   "cell_type": "code",
   "execution_count": 96,
   "id": "47971f18-484d-4a21-8074-008e6086fd90",
   "metadata": {},
   "outputs": [],
   "source": [
    "drop_idx = []"
   ]
  },
  {
   "cell_type": "code",
   "execution_count": 102,
   "id": "e2c4ae39-8c64-4dec-abab-29e1f5629048",
   "metadata": {},
   "outputs": [],
   "source": [
    "for i in range(len(v4)):\n",
    "    if v4.loc[i, \"제품 id\"] in v4_3_dup_lst:\n",
    "        drop_idx.append(i)\n",
    "        v4_3_dup_lst.remove(v4.loc[i, \"제품 id\"])"
   ]
  },
  {
   "cell_type": "code",
   "execution_count": 104,
   "id": "e5008306-e92b-42ec-a743-3b7babed7214",
   "metadata": {},
   "outputs": [
    {
     "data": {
      "text/plain": [
       "40"
      ]
     },
     "execution_count": 104,
     "metadata": {},
     "output_type": "execute_result"
    }
   ],
   "source": [
    "len(drop_idx)"
   ]
  },
  {
   "cell_type": "code",
   "execution_count": 105,
   "id": "bfb083a9-3dc5-44fc-bc26-36adb73946bc",
   "metadata": {},
   "outputs": [],
   "source": [
    "v4 = v4.drop(drop_idx)"
   ]
  },
  {
   "cell_type": "code",
   "execution_count": 106,
   "id": "c2a3d1cf-b77c-4f4e-b6dc-519eac6ea4bd",
   "metadata": {},
   "outputs": [
    {
     "data": {
      "text/plain": [
       "64243"
      ]
     },
     "execution_count": 106,
     "metadata": {},
     "output_type": "execute_result"
    }
   ],
   "source": [
    "len(v4)"
   ]
  },
  {
   "cell_type": "code",
   "execution_count": 248,
   "id": "86c97b02-6015-4183-807a-504129b01315",
   "metadata": {},
   "outputs": [],
   "source": [
    "v4 = v4.iloc[:, 2:]"
   ]
  },
  {
   "cell_type": "code",
   "execution_count": 250,
   "id": "de106b7f-eb3d-4b0e-8d28-d4268b88a5b8",
   "metadata": {},
   "outputs": [],
   "source": [
    "v4.to_csv(\"v4_update.csv\")"
   ]
  },
  {
   "cell_type": "code",
   "execution_count": 167,
   "id": "f563f924-65d6-4a10-8380-b5cee8dbb2eb",
   "metadata": {},
   "outputs": [],
   "source": [
    "import pickle\n",
    "\n",
    "with open(\"v4_update_drop_duplicates.csv\", \"wb\") as f:\n",
    "    pickle.dump(v4, f)"
   ]
  },
  {
   "cell_type": "code",
   "execution_count": 168,
   "id": "235a747c-f78b-44a9-8221-33eb78e1c93c",
   "metadata": {},
   "outputs": [],
   "source": [
    "import pickle\n",
    "with open(\"v4_update_drop_duplicates.csv\", \"rb\") as f:\n",
    "    v4 = pickle.load(f)"
   ]
  },
  {
   "cell_type": "code",
   "execution_count": 255,
   "id": "e45c7936-a444-4397-ad85-f112812052d9",
   "metadata": {
    "collapsed": true,
    "jupyter": {
     "outputs_hidden": true
    },
    "tags": []
   },
   "outputs": [
    {
     "data": {
      "text/plain": [
       "브랜드 link                                                                     \n",
       "브랜드명                                                                     끌라삐엘\n",
       "브랜드 id                                                                    NaN\n",
       "제품 link                               https://www.glowpick.com/products/89100\n",
       "제품 id                                                                   89100\n",
       "제품명                                                                    올인원 크림\n",
       "제품 용량                                                                     50g\n",
       "제품 가격                                                                 82,000원\n",
       "유사 제품군 랭킹(int)                                                             []\n",
       "유사 제품군 랭킹(text)                                                            []\n",
       "브랜드 내 랭킹(int)                                                              []\n",
       "제품 수상명                                                                     []\n",
       "제품 수상 부문                                                                   []\n",
       "제품 수상 순위                                                                   []\n",
       "제품 설명                       보습/탄력/주름/미백의 올인원 복합 케어 크림연약한 피부의 자생력을 높여주는 피부보...\n",
       "제품 컬러/타입                                                                  NaN\n",
       "제품 판매처                                                                     []\n",
       "제품 성분구성: 위험도 미정 (갯수)                                                       9개\n",
       "제품 성분구성: 위험도 미정 (성분(한글))    ['카바잎/뿌리/줄기추출물', '칡뿌리추출물', '당호박추출물;호박추출물', '알에...\n",
       "제품 성분구성: 위험도 미정 (성분(영어))    ['PiperMethysticumLeaf/Root/StemExtract', 'Pue...\n",
       "제품 성분구성: 위험도 미정 (성분(설명))    ['피부컨디셔닝제', '피부컨디셔닝제', '피부컨디셔닝제(기타)', '피부컨디셔닝제...\n",
       "제품 성분구성: 낮은 위험도 (갯수)                                                      19개\n",
       "제품 성분구성: 낮은 위험도 (성분(한글))    ['상황버섯추출물;진흙버섯추출물', '우엉추출물;우엉뿌리추출물', '쇠비름추출물;마...\n",
       "제품 성분구성: 낮은 위험도 (성분(영어))    ['PhellinusLinteusExtract', 'ArctiumLappaRootE...\n",
       "제품 성분구성: 낮은 위험도 (성분(설명))    ['산화방지제,수렴제,피부보호제,피부컨디셔닝제(유연제),피부컨디셔닝제(보습제),피부...\n",
       "제품 성분구성: 중간 위험도 (갯수)                                                       0개\n",
       "제품 성분구성: 중간 위험도 (성분(한글))                                                   []\n",
       "제품 성분구성: 중간 위험도(성분(영어))                                                    []\n",
       "제품 성분구성: 중간 위험도 (성분(설명))                                                   []\n",
       "제품 성분구성: 높은 위험도 (갯수)                                                       0개\n",
       "제품 성분구성: 높은 위험도 (성분(한글))                                                   []\n",
       "제품 성분구성: 높은 위험도 (성분(영어))                                                   []\n",
       "제품 성분구성: 높은 위험도 (성분(설명))                                                   []\n",
       "제품 카테고리                                             ['스킨케어', '크림', '안티에이징크림']\n",
       "Name: 30486, dtype: object"
      ]
     },
     "execution_count": 255,
     "metadata": {},
     "output_type": "execute_result"
    }
   ],
   "source": [
    "v4.loc[30486]"
   ]
  },
  {
   "cell_type": "code",
   "execution_count": 235,
   "id": "27d2281d-9a5e-4fdd-bc68-fbe2e36fb08e",
   "metadata": {},
   "outputs": [],
   "source": [
    "v4_dup_id_lst = list(v4.loc[v4.duplicated(['제품 id']), '제품 id'])\n",
    "v4_dup_name_lst = list(v4.loc[v4.duplicated(['제품 id']), '제품명'])"
   ]
  },
  {
   "cell_type": "code",
   "execution_count": 240,
   "id": "1de5c9c9-26db-4481-9355-cea6ba492332",
   "metadata": {},
   "outputs": [],
   "source": [
    "df_v4_dup = pd.DataFrame()"
   ]
  },
  {
   "cell_type": "code",
   "execution_count": 242,
   "id": "af7d8614-6ee9-45b3-ae0d-238028e48e04",
   "metadata": {},
   "outputs": [
    {
     "name": "stderr",
     "output_type": "stream",
     "text": [
      "C:\\Users\\keunb\\AppData\\Local\\Temp/ipykernel_6600/589352488.py:4: PerformanceWarning: DataFrame is highly fragmented.  This is usually the result of calling `frame.insert` many times, which has poor performance.  Consider joining all columns at once using pd.concat(axis=1) instead.  To get a de-fragmented frame, use `newframe = frame.copy()`\n",
      "  df_v4_dup[idx] = v4.loc[i, :]\n"
     ]
    }
   ],
   "source": [
    "idx = 0\n",
    "for i in range(len(v4)):\n",
    "    if v4.loc[i, '제품 id'] in v4_dup_id_lst:\n",
    "        df_v4_dup[idx] = v4.loc[i, :]\n",
    "        idx += 1"
   ]
  },
  {
   "cell_type": "code",
   "execution_count": 244,
   "id": "856d5f6e-82cb-4a52-aa6d-ccebefb56800",
   "metadata": {},
   "outputs": [],
   "source": [
    "df_v4_dup = df_v4_dup.transpose()"
   ]
  },
  {
   "cell_type": "code",
   "execution_count": 246,
   "id": "1d68c71b-1258-43a2-bfca-10fa55ffcb57",
   "metadata": {},
   "outputs": [],
   "source": [
    "df_v4_dup.to_csv(\"df_v4_dup.csv\")"
   ]
  },
  {
   "cell_type": "code",
   "execution_count": 252,
   "id": "aef2b847-16b5-44c2-bdcb-3ee9982beafc",
   "metadata": {},
   "outputs": [],
   "source": [
    "drop_idx = []"
   ]
  },
  {
   "cell_type": "markdown",
   "id": "e2ca51d0-1866-49a0-a1dc-edc0a539257e",
   "metadata": {},
   "source": [
    "---\n",
    "# find_missing_df_brd_w_prd_v2_drop_lg_3220"
   ]
  },
  {
   "cell_type": "code",
   "execution_count": 15,
   "id": "b30507f5-757f-45e6-a166-e4bc3ff08f82",
   "metadata": {},
   "outputs": [],
   "source": [
    "df_brd_w_prd_v2_drop_lg_3220 = pd.read_csv(\"find_missing_df_brd_w_prd_v1_drop_lg_3220.csv\")\n",
    "df_brd_w_prd_v2_drop_lg_3220 = df_brd_w_prd_v2_drop_lg_3220.iloc[:3220, 1:]"
   ]
  },
  {
   "cell_type": "code",
   "execution_count": 17,
   "id": "eee361dd-f459-4cba-8fdb-1a785fe223d1",
   "metadata": {},
   "outputs": [],
   "source": [
    "exception = list(df_brd_w_prd_v2_drop_lg_3220.loc[np.isnan(df_brd_w_prd_v2_drop_lg_3220[\"prd_len\"]), :].index)"
   ]
  },
  {
   "cell_type": "code",
   "execution_count": 24,
   "id": "1e1b858f-c970-4649-8ad2-bea63ab60069",
   "metadata": {},
   "outputs": [],
   "source": [
    "def get_search_len(brd_name):\n",
    "\n",
    "    try: \n",
    "        options = Options()\n",
    "        ua = UserAgent()\n",
    "        userAgent = ua.random\n",
    "        print(userAgent)\n",
    "\n",
    "        options.add_argument('headless')\n",
    "        options.add_argument('window-size=1920x1080')\n",
    "        options.add_argument(\"disable-gpu\")\n",
    "        options.add_argument(f'user-agent={userAgent}')\n",
    "        wd = webdriver.Chrome(ChromeDriverManager().install(), chrome_options=options)\n",
    "\n",
    "        socket.setdefaulttimeout(30)\n",
    "\n",
    "        url = 'https:/www.glowpick.com/searches/keywords'\n",
    "        wd.get(url)\n",
    "        time.sleep(5)\n",
    "        \n",
    "        html = wd.page_source\n",
    "        soup = BeautifulSoup(html, \"html.parser\")\n",
    "\n",
    "        wd.find_element_by_xpath(\"//*[@id='default-layout']/div/div[1]/span/div/div[2]/div[2]/button[2]\").click()\n",
    "        wd.maximize_window()\n",
    "        time.sleep(3)\n",
    "\n",
    "        brd_input = wd.find_element_by_xpath(\"//*[@id='default-layout']/div/div[2]/div/div/div/input\")\n",
    "        brd_input.send_keys(brd_name)\n",
    "        brd_input.send_keys(Keys.ENTER)\n",
    "        time.sleep(3)\n",
    "        \n",
    "        # ====\n",
    "\n",
    "        #.products__product\n",
    "        #.product\n",
    "        # ====\n",
    "\n",
    "        def parsing_html_with_class(parsing_info = '.products'):\n",
    "            html = wd.page_source\n",
    "            soup = BeautifulSoup(html, \"html.parser\")\n",
    "            interm_r = soup.select(parsing_info)\n",
    "            return interm_r\n",
    "        \n",
    "        try:\n",
    "            while True:\n",
    "\n",
    "                product_lst = parsing_html_with_class()\n",
    "                \n",
    "                global product_len\n",
    "                product_len = len(re.findall('<div class=\"products__product product\" (.*?)', str(product_lst[0])))\n",
    "                \n",
    "\n",
    "                element = wd.find_element_by_xpath('/html/body/div/div/div/div/main/div/section/div[2]/div/div[1]/span/div[{}]'.format(product_len - 1))\n",
    "                wd.execute_script(\"arguments[0].scrollIntoView(true);\", element)\n",
    "                time.sleep(2)\n",
    "\n",
    "                product_lst_2 = parsing_html_with_class()\n",
    "\n",
    "                if product_lst == product_lst_2:\n",
    "                    html = wd.page_source\n",
    "                    soup = BeautifulSoup(html, \"html.parser\")\n",
    "                    prd_len = len(soup.find_all('div','products__product product'))\n",
    "                    return prd_len\n",
    "                    break\n",
    "\n",
    "\n",
    "        except NoSuchElementException:\n",
    "            html = wd.page_source\n",
    "            soup = BeautifulSoup(html, \"html.parser\")\n",
    "            prd_len = len(soup.find_all('div','products__product product'))\n",
    "            return prd_len\n",
    "        \n",
    "    except Exception as e:\n",
    "        exception.append(brd_name)\n",
    "        print(\"brand name: {}\".format(brd_name), e)\n",
    "        pass"
   ]
  },
  {
   "cell_type": "code",
   "execution_count": 19,
   "id": "2b051b95-8e9f-4d06-8f35-05ad697c82cd",
   "metadata": {
    "collapsed": true,
    "jupyter": {
     "outputs_hidden": true
    },
    "tags": []
   },
   "outputs": [
    {
     "data": {
      "text/plain": [
       "[94,\n",
       " 109,\n",
       " 210,\n",
       " 269,\n",
       " 296,\n",
       " 333,\n",
       " 373,\n",
       " 384,\n",
       " 524,\n",
       " 579,\n",
       " 722,\n",
       " 745,\n",
       " 746,\n",
       " 801,\n",
       " 823,\n",
       " 853,\n",
       " 860,\n",
       " 880,\n",
       " 984,\n",
       " 1012,\n",
       " 1233,\n",
       " 1272,\n",
       " 1296,\n",
       " 1333,\n",
       " 1390,\n",
       " 1405,\n",
       " 1413,\n",
       " 1560,\n",
       " 1581,\n",
       " 1804,\n",
       " 1862,\n",
       " 1997,\n",
       " 2113,\n",
       " 2115,\n",
       " 2189,\n",
       " 2209,\n",
       " 2290,\n",
       " 2380,\n",
       " 2437,\n",
       " 2455,\n",
       " 2459,\n",
       " 2579,\n",
       " 2620,\n",
       " 2651,\n",
       " 2707,\n",
       " 2718,\n",
       " 2728,\n",
       " 2742,\n",
       " 2773,\n",
       " 2822,\n",
       " 2824,\n",
       " 2995,\n",
       " 3133,\n",
       " 3179,\n",
       " 3182,\n",
       " 3207]"
      ]
     },
     "execution_count": 19,
     "metadata": {},
     "output_type": "execute_result"
    }
   ],
   "source": [
    "exception"
   ]
  },
  {
   "cell_type": "code",
   "execution_count": 26,
   "id": "d1e3761b-6dd1-46ed-ab86-8e0ee3e0f54a",
   "metadata": {
    "collapsed": true,
    "jupyter": {
     "outputs_hidden": true
    },
    "tags": []
   },
   "outputs": [
    {
     "data": {
      "text/html": [
       "<div>\n",
       "<style scoped>\n",
       "    .dataframe tbody tr th:only-of-type {\n",
       "        vertical-align: middle;\n",
       "    }\n",
       "\n",
       "    .dataframe tbody tr th {\n",
       "        vertical-align: top;\n",
       "    }\n",
       "\n",
       "    .dataframe thead th {\n",
       "        text-align: right;\n",
       "    }\n",
       "</style>\n",
       "<table border=\"1\" class=\"dataframe\">\n",
       "  <thead>\n",
       "    <tr style=\"text-align: right;\">\n",
       "      <th></th>\n",
       "      <th>brand_code_x</th>\n",
       "      <th>brand_name</th>\n",
       "      <th>product_link</th>\n",
       "      <th>product_name</th>\n",
       "      <th>brand_code_y</th>\n",
       "      <th>category</th>\n",
       "      <th>crawling_prd_cnt</th>\n",
       "      <th>prd_len</th>\n",
       "    </tr>\n",
       "  </thead>\n",
       "  <tbody>\n",
       "    <tr>\n",
       "      <th>0</th>\n",
       "      <td>https://www.glowpick.com/brands/8016</td>\n",
       "      <td>가가알로에</td>\n",
       "      <td>['https://www.glowpick.com/products/104713']</td>\n",
       "      <td>['라율 나이트 케어 너리싱 젤']</td>\n",
       "      <td>https://www.glowpick.com/brands/8016</td>\n",
       "      <td>['스킨케어']</td>\n",
       "      <td>1.0</td>\n",
       "      <td>1.0</td>\n",
       "    </tr>\n",
       "    <tr>\n",
       "      <th>1</th>\n",
       "      <td>https://www.glowpick.com/brands/2077</td>\n",
       "      <td>가네보</td>\n",
       "      <td>['https://www.glowpick.com/products/101993', '...</td>\n",
       "      <td>['페이스업 파우더 밀라노 콜렉션 2018 [SPF14/PA+]', '코프레도르 스...</td>\n",
       "      <td>https://www.glowpick.com/brands/2077</td>\n",
       "      <td>['페이스메이크업', '립메이크업', '컨투어링', '클렌징', '배쓰&amp;바디', '...</td>\n",
       "      <td>12.0</td>\n",
       "      <td>12.0</td>\n",
       "    </tr>\n",
       "    <tr>\n",
       "      <th>2</th>\n",
       "      <td>https://www.glowpick.com/brands/8724</td>\n",
       "      <td>가드미</td>\n",
       "      <td>['https://www.glowpick.com/products/112824', '...</td>\n",
       "      <td>['큐티클 클리너', '네일 큐티클 호호바 오일', '[단종]  슈퍼 단백질 헤어가...</td>\n",
       "      <td>https://www.glowpick.com/brands/8724</td>\n",
       "      <td>['네일']</td>\n",
       "      <td>3.0</td>\n",
       "      <td>3.0</td>\n",
       "    </tr>\n",
       "    <tr>\n",
       "      <th>3</th>\n",
       "      <td>https://www.glowpick.com/brands/10352</td>\n",
       "      <td>가든 오브 라이프</td>\n",
       "      <td>['https://www.glowpick.com/products/133823', '...</td>\n",
       "      <td>['비타민 로우 B 컴플렉스', '로우 프로바이오틱스 장케어', '무가공 비타민C'...</td>\n",
       "      <td>https://www.glowpick.com/brands/10352</td>\n",
       "      <td>['이너뷰티']</td>\n",
       "      <td>12.0</td>\n",
       "      <td>12.0</td>\n",
       "    </tr>\n",
       "    <tr>\n",
       "      <th>4</th>\n",
       "      <td>https://www.glowpick.com/brands/7314</td>\n",
       "      <td>가디스가든</td>\n",
       "      <td>['https://www.glowpick.com/products/96142', 'h...</td>\n",
       "      <td>['유기농 드림 리페어 선 리페어 나이트 크림', '유기농 데이 언던 선 리페어 세...</td>\n",
       "      <td>https://www.glowpick.com/brands/7314</td>\n",
       "      <td>['스킨케어', '베이비', '립메이크업', '클렌징', '선케어']</td>\n",
       "      <td>14.0</td>\n",
       "      <td>14.0</td>\n",
       "    </tr>\n",
       "    <tr>\n",
       "      <th>...</th>\n",
       "      <td>...</td>\n",
       "      <td>...</td>\n",
       "      <td>...</td>\n",
       "      <td>...</td>\n",
       "      <td>...</td>\n",
       "      <td>...</td>\n",
       "      <td>...</td>\n",
       "      <td>...</td>\n",
       "    </tr>\n",
       "    <tr>\n",
       "      <th>3215</th>\n",
       "      <td>https://www.glowpick.com/brands/8150</td>\n",
       "      <td>산 미니아또 알 몬떼</td>\n",
       "      <td>['https://www.glowpick.com/products/106529']</td>\n",
       "      <td>['https://www.glowpick.com/products/106529']</td>\n",
       "      <td>https://www.glowpick.com/brands/8150</td>\n",
       "      <td>['헤어']</td>\n",
       "      <td>1.0</td>\n",
       "      <td>1.0</td>\n",
       "    </tr>\n",
       "    <tr>\n",
       "      <th>3216</th>\n",
       "      <td>https://www.glowpick.com/brands/6021</td>\n",
       "      <td>산다화</td>\n",
       "      <td>['https://www.glowpick.com/products/127617', '...</td>\n",
       "      <td>['https://www.glowpick.com/products/127617', '...</td>\n",
       "      <td>https://www.glowpick.com/brands/6021</td>\n",
       "      <td>['스킨케어', '페이스메이크업', '베이비', '립메이크업', '남성화장품', '...</td>\n",
       "      <td>59.0</td>\n",
       "      <td>59.0</td>\n",
       "    </tr>\n",
       "    <tr>\n",
       "      <th>3217</th>\n",
       "      <td>https://www.glowpick.com/brands/11597</td>\n",
       "      <td>산도깨비</td>\n",
       "      <td>['https://www.glowpick.com/products/144794']</td>\n",
       "      <td>['https://www.glowpick.com/products/144794']</td>\n",
       "      <td>https://www.glowpick.com/brands/11597</td>\n",
       "      <td>['클렌징']</td>\n",
       "      <td>1.0</td>\n",
       "      <td>1.0</td>\n",
       "    </tr>\n",
       "    <tr>\n",
       "      <th>3218</th>\n",
       "      <td>https://www.glowpick.com/brands/10214</td>\n",
       "      <td>산듯</td>\n",
       "      <td>['https://www.glowpick.com/products/132170', '...</td>\n",
       "      <td>['https://www.glowpick.com/products/132170', '...</td>\n",
       "      <td>https://www.glowpick.com/brands/10214</td>\n",
       "      <td>['스킨케어']</td>\n",
       "      <td>3.0</td>\n",
       "      <td>3.0</td>\n",
       "    </tr>\n",
       "    <tr>\n",
       "      <th>3219</th>\n",
       "      <td>https://www.glowpick.com/brands/2325</td>\n",
       "      <td>산새미</td>\n",
       "      <td>['https://www.glowpick.com/products/37728']</td>\n",
       "      <td>['https://www.glowpick.com/products/37728']</td>\n",
       "      <td>https://www.glowpick.com/brands/2325</td>\n",
       "      <td>['스킨케어']</td>\n",
       "      <td>1.0</td>\n",
       "      <td>1.0</td>\n",
       "    </tr>\n",
       "  </tbody>\n",
       "</table>\n",
       "<p>3220 rows × 8 columns</p>\n",
       "</div>"
      ],
      "text/plain": [
       "                               brand_code_x   brand_name  \\\n",
       "0      https://www.glowpick.com/brands/8016        가가알로에   \n",
       "1      https://www.glowpick.com/brands/2077          가네보   \n",
       "2      https://www.glowpick.com/brands/8724          가드미   \n",
       "3     https://www.glowpick.com/brands/10352    가든 오브 라이프   \n",
       "4      https://www.glowpick.com/brands/7314        가디스가든   \n",
       "...                                     ...          ...   \n",
       "3215   https://www.glowpick.com/brands/8150  산 미니아또 알 몬떼   \n",
       "3216   https://www.glowpick.com/brands/6021          산다화   \n",
       "3217  https://www.glowpick.com/brands/11597         산도깨비   \n",
       "3218  https://www.glowpick.com/brands/10214           산듯   \n",
       "3219   https://www.glowpick.com/brands/2325          산새미   \n",
       "\n",
       "                                           product_link  \\\n",
       "0          ['https://www.glowpick.com/products/104713']   \n",
       "1     ['https://www.glowpick.com/products/101993', '...   \n",
       "2     ['https://www.glowpick.com/products/112824', '...   \n",
       "3     ['https://www.glowpick.com/products/133823', '...   \n",
       "4     ['https://www.glowpick.com/products/96142', 'h...   \n",
       "...                                                 ...   \n",
       "3215       ['https://www.glowpick.com/products/106529']   \n",
       "3216  ['https://www.glowpick.com/products/127617', '...   \n",
       "3217       ['https://www.glowpick.com/products/144794']   \n",
       "3218  ['https://www.glowpick.com/products/132170', '...   \n",
       "3219        ['https://www.glowpick.com/products/37728']   \n",
       "\n",
       "                                           product_name  \\\n",
       "0                                   ['라율 나이트 케어 너리싱 젤']   \n",
       "1     ['페이스업 파우더 밀라노 콜렉션 2018 [SPF14/PA+]', '코프레도르 스...   \n",
       "2     ['큐티클 클리너', '네일 큐티클 호호바 오일', '[단종]  슈퍼 단백질 헤어가...   \n",
       "3     ['비타민 로우 B 컴플렉스', '로우 프로바이오틱스 장케어', '무가공 비타민C'...   \n",
       "4     ['유기농 드림 리페어 선 리페어 나이트 크림', '유기농 데이 언던 선 리페어 세...   \n",
       "...                                                 ...   \n",
       "3215       ['https://www.glowpick.com/products/106529']   \n",
       "3216  ['https://www.glowpick.com/products/127617', '...   \n",
       "3217       ['https://www.glowpick.com/products/144794']   \n",
       "3218  ['https://www.glowpick.com/products/132170', '...   \n",
       "3219        ['https://www.glowpick.com/products/37728']   \n",
       "\n",
       "                               brand_code_y  \\\n",
       "0      https://www.glowpick.com/brands/8016   \n",
       "1      https://www.glowpick.com/brands/2077   \n",
       "2      https://www.glowpick.com/brands/8724   \n",
       "3     https://www.glowpick.com/brands/10352   \n",
       "4      https://www.glowpick.com/brands/7314   \n",
       "...                                     ...   \n",
       "3215   https://www.glowpick.com/brands/8150   \n",
       "3216   https://www.glowpick.com/brands/6021   \n",
       "3217  https://www.glowpick.com/brands/11597   \n",
       "3218  https://www.glowpick.com/brands/10214   \n",
       "3219   https://www.glowpick.com/brands/2325   \n",
       "\n",
       "                                               category  crawling_prd_cnt  \\\n",
       "0                                              ['스킨케어']               1.0   \n",
       "1     ['페이스메이크업', '립메이크업', '컨투어링', '클렌징', '배쓰&바디', '...              12.0   \n",
       "2                                                ['네일']               3.0   \n",
       "3                                              ['이너뷰티']              12.0   \n",
       "4                ['스킨케어', '베이비', '립메이크업', '클렌징', '선케어']              14.0   \n",
       "...                                                 ...               ...   \n",
       "3215                                             ['헤어']               1.0   \n",
       "3216  ['스킨케어', '페이스메이크업', '베이비', '립메이크업', '남성화장품', '...              59.0   \n",
       "3217                                            ['클렌징']               1.0   \n",
       "3218                                           ['스킨케어']               3.0   \n",
       "3219                                           ['스킨케어']               1.0   \n",
       "\n",
       "      prd_len  \n",
       "0         1.0  \n",
       "1        12.0  \n",
       "2         3.0  \n",
       "3        12.0  \n",
       "4        14.0  \n",
       "...       ...  \n",
       "3215      1.0  \n",
       "3216     59.0  \n",
       "3217      1.0  \n",
       "3218      3.0  \n",
       "3219      1.0  \n",
       "\n",
       "[3220 rows x 8 columns]"
      ]
     },
     "execution_count": 26,
     "metadata": {},
     "output_type": "execute_result"
    }
   ],
   "source": [
    "df_brd_w_prd_v2_drop_lg_3220"
   ]
  },
  {
   "cell_type": "code",
   "execution_count": 69,
   "id": "6e4a93aa-bb34-4617-b7f2-7992aaa12f47",
   "metadata": {
    "tags": []
   },
   "outputs": [
    {
     "data": {
      "text/plain": [
       "Int64Index([], dtype='int64')"
      ]
     },
     "execution_count": 69,
     "metadata": {},
     "output_type": "execute_result"
    }
   ],
   "source": [
    "df_brd_w_prd_v2_drop_lg_3220.loc[np.isnan(df_brd_w_prd_v2_drop_lg_3220[\"prd_len\"])].index"
   ]
  },
  {
   "cell_type": "code",
   "execution_count": 67,
   "id": "beefa09b-4793-44de-9d2e-7e420f3f1149",
   "metadata": {},
   "outputs": [
    {
     "data": {
      "text/plain": [
       "brand_code_x               https://www.glowpick.com/brands/11207\n",
       "brand_name                                                  벨앙브아\n",
       "product_link        ['https://www.glowpick.com/products/141224']\n",
       "product_name                                        ['콜라겐 마스크팩']\n",
       "brand_code_y               https://www.glowpick.com/brands/11207\n",
       "category                                               ['마스크/팩']\n",
       "crawling_prd_cnt                                             1.0\n",
       "prd_len                                                      NaN\n",
       "Name: 2707, dtype: object"
      ]
     },
     "execution_count": 67,
     "metadata": {},
     "output_type": "execute_result"
    }
   ],
   "source": [
    "df_brd_w_prd_v2_drop_lg_3220.loc[2707, :]"
   ]
  },
  {
   "cell_type": "code",
   "execution_count": 68,
   "id": "9fe8c255-27f6-4740-b30c-cbfe2b93878f",
   "metadata": {
    "tags": []
   },
   "outputs": [
    {
     "data": {
      "application/vnd.jupyter.widget-view+json": {
       "model_id": "b91c8487e200484cb4f2dd96a04ca692",
       "version_major": 2,
       "version_minor": 0
      },
      "text/plain": [
       "  0%|          | 0/1 [00:00<?, ?it/s]"
      ]
     },
     "metadata": {},
     "output_type": "display_data"
    },
    {
     "name": "stderr",
     "output_type": "stream",
     "text": [
      "\n",
      "\n",
      "====== WebDriver manager ======\n"
     ]
    },
    {
     "name": "stdout",
     "output_type": "stream",
     "text": [
      "Mozilla/5.0 (Windows NT 6.2; WOW64) AppleWebKit/537.36 (KHTML, like Gecko) Chrome/30.0.1599.17 Safari/537.36\n"
     ]
    },
    {
     "name": "stderr",
     "output_type": "stream",
     "text": [
      "Current google-chrome version is 94.0.4606\n",
      "Get LATEST driver version for 94.0.4606\n",
      "Driver [C:\\Users\\keunb\\.wdm\\drivers\\chromedriver\\win32\\94.0.4606.61\\chromedriver.exe] found in cache\n"
     ]
    }
   ],
   "source": [
    "for i in tqdm(list(df_brd_w_prd_v2_drop_lg_3220.loc[np.isnan(df_brd_w_prd_v2_drop_lg_3220[\"prd_len\"])].index)):\n",
    "    brd_name = df_brd_w_prd_v2_drop_lg_3220.loc[i, 'brand_name']\n",
    "    prd_len = get_search_len(brd_name)\n",
    "    df_brd_w_prd_v2_drop_lg_3220.loc[i, 'prd_len'] = prd_len"
   ]
  },
  {
   "cell_type": "code",
   "execution_count": 94,
   "id": "9a35e642-306d-4453-87b3-acb0a29dbd48",
   "metadata": {},
   "outputs": [],
   "source": [
    "df_brd_w_prd_v2_drop_lg_3220.to_csv(\"find_missing_df_brw_w_prd_v1_drop_lg_3220.csv\")"
   ]
  },
  {
   "cell_type": "code",
   "execution_count": 87,
   "id": "be15b848-c675-4e07-8ca2-2a668985f78b",
   "metadata": {},
   "outputs": [],
   "source": [
    "add_prd = 0\n",
    "\n",
    "for i in list(df_brd_w_prd_v2_drop_lg_3220.loc[df_brd_w_prd_v2_drop_lg_3220['crawling_prd_cnt'] < df_brd_w_prd_v2_drop_lg_3220['prd_len']].index):\n",
    "    add_prd += df_brd_w_prd_v2_drop_lg_3220.loc[i, 'prd_len'] - df_brd_w_prd_v2_drop_lg_3220.loc[i, 'crawling_prd_cnt']"
   ]
  },
  {
   "cell_type": "code",
   "execution_count": 88,
   "id": "76bf6d0e-950b-4c61-8790-f456e9475a4e",
   "metadata": {},
   "outputs": [
    {
     "data": {
      "text/plain": [
       "291.0"
      ]
     },
     "execution_count": 88,
     "metadata": {},
     "output_type": "execute_result"
    }
   ],
   "source": [
    "add_prd"
   ]
  },
  {
   "cell_type": "code",
   "execution_count": 80,
   "id": "7fd1cfb0-2640-40a6-83e1-64ba692877d1",
   "metadata": {},
   "outputs": [],
   "source": [
    "del_prd = 0\n",
    "\n",
    "for i in list(df_brd_w_prd_v2_drop_lg_3220.loc[df_brd_w_prd_v2_drop_lg_3220['crawling_prd_cnt'] > df_brd_w_prd_v2_drop_lg_3220['prd_len']].index):\n",
    "    del_prd += df_brd_w_prd_v2_drop_lg_3220.loc[i, 'crawling_prd_cnt'] - df_brd_w_prd_v2_drop_lg_3220.loc[i, 'prd_len']"
   ]
  },
  {
   "cell_type": "code",
   "execution_count": 81,
   "id": "34b9eca5-d0ff-4f28-8530-3269a0d059e4",
   "metadata": {},
   "outputs": [
    {
     "data": {
      "text/plain": [
       "895.0"
      ]
     },
     "execution_count": 81,
     "metadata": {},
     "output_type": "execute_result"
    }
   ],
   "source": [
    "del_prd"
   ]
  },
  {
   "cell_type": "code",
   "execution_count": 97,
   "id": "316b6c51-a0d2-4f5b-ada3-ec3e7dd9746c",
   "metadata": {},
   "outputs": [
    {
     "data": {
      "text/html": [
       "<div>\n",
       "<style scoped>\n",
       "    .dataframe tbody tr th:only-of-type {\n",
       "        vertical-align: middle;\n",
       "    }\n",
       "\n",
       "    .dataframe tbody tr th {\n",
       "        vertical-align: top;\n",
       "    }\n",
       "\n",
       "    .dataframe thead th {\n",
       "        text-align: right;\n",
       "    }\n",
       "</style>\n",
       "<table border=\"1\" class=\"dataframe\">\n",
       "  <thead>\n",
       "    <tr style=\"text-align: right;\">\n",
       "      <th></th>\n",
       "      <th>brand_code_x</th>\n",
       "      <th>brand_name</th>\n",
       "      <th>product_link</th>\n",
       "      <th>product_name</th>\n",
       "      <th>brand_code_y</th>\n",
       "      <th>category</th>\n",
       "      <th>crawling_prd_cnt</th>\n",
       "      <th>prd_len</th>\n",
       "    </tr>\n",
       "  </thead>\n",
       "  <tbody>\n",
       "    <tr>\n",
       "      <th>32</th>\n",
       "      <td>https://www.glowpick.com/brands/7406</td>\n",
       "      <td>고려은단</td>\n",
       "      <td>['https://www.glowpick.com/products/97645', 'h...</td>\n",
       "      <td>['비타민C 1000', '비타민C 골드 플러스', '비타민C 1000 이지', '...</td>\n",
       "      <td>https://www.glowpick.com/brands/7406</td>\n",
       "      <td>['이너뷰티', '마스크/팩']</td>\n",
       "      <td>17.0</td>\n",
       "      <td>18.0</td>\n",
       "    </tr>\n",
       "    <tr>\n",
       "      <th>152</th>\n",
       "      <td>https://www.glowpick.com/brands/11349</td>\n",
       "      <td>글로우</td>\n",
       "      <td>['https://www.glowpick.com/products/142634', '...</td>\n",
       "      <td>['식이섬유 핑크 스틱', '콜라겐 퍼플 스틱', '면역 옐로우 스틱', '컬러 푸...</td>\n",
       "      <td>https://www.glowpick.com/brands/11349</td>\n",
       "      <td>['이너뷰티']</td>\n",
       "      <td>1137.0</td>\n",
       "      <td>1140.0</td>\n",
       "    </tr>\n",
       "    <tr>\n",
       "      <th>163</th>\n",
       "      <td>https://www.glowpick.com/brands/10911</td>\n",
       "      <td>글린트 바이 비디보브</td>\n",
       "      <td>['https://www.glowpick.com/products/139568', '...</td>\n",
       "      <td>['하이라이터', '아이팔레트', '글리터 젤', '스파클 립스틱', '쉬어 립스틱...</td>\n",
       "      <td>https://www.glowpick.com/brands/10911</td>\n",
       "      <td>['페이스메이크업', '립메이크업', '아이메이크업', '컨투어링']</td>\n",
       "      <td>6.0</td>\n",
       "      <td>7.0</td>\n",
       "    </tr>\n",
       "    <tr>\n",
       "      <th>208</th>\n",
       "      <td>https://www.glowpick.com/brands/9974</td>\n",
       "      <td>끌</td>\n",
       "      <td>['https://www.glowpick.com/products/128543', '...</td>\n",
       "      <td>['리프팅 마스크', '시그니처 오 드 뚜왈렛', '끌로에 오 드 퍼퓸', '에빠끌...</td>\n",
       "      <td>https://www.glowpick.com/brands/9974</td>\n",
       "      <td>['마스크/팩']</td>\n",
       "      <td>446.0</td>\n",
       "      <td>450.0</td>\n",
       "    </tr>\n",
       "    <tr>\n",
       "      <th>209</th>\n",
       "      <td>https://www.glowpick.com/brands/6189</td>\n",
       "      <td>끌라삐엘</td>\n",
       "      <td>['https://www.glowpick.com/products/89101', 'h...</td>\n",
       "      <td>['리치 아이크림', '보건용 황사방역 마스크 KF94 대형', '히비스커스 릴렉싱...</td>\n",
       "      <td>https://www.glowpick.com/brands/6189</td>\n",
       "      <td>['스킨케어', '페이스메이크업', '립메이크업', '클렌징', '마스크/팩', '...</td>\n",
       "      <td>18.0</td>\n",
       "      <td>22.0</td>\n",
       "    </tr>\n",
       "    <tr>\n",
       "      <th>...</th>\n",
       "      <td>...</td>\n",
       "      <td>...</td>\n",
       "      <td>...</td>\n",
       "      <td>...</td>\n",
       "      <td>...</td>\n",
       "      <td>...</td>\n",
       "      <td>...</td>\n",
       "      <td>...</td>\n",
       "    </tr>\n",
       "    <tr>\n",
       "      <th>3049</th>\n",
       "      <td>https://www.glowpick.com/brands/10895</td>\n",
       "      <td>비아르랩</td>\n",
       "      <td>['https://www.glowpick.com/products/148582', '...</td>\n",
       "      <td>['https://www.glowpick.com/products/148582', '...</td>\n",
       "      <td>https://www.glowpick.com/brands/10895</td>\n",
       "      <td>['스킨케어', '마스크/팩']</td>\n",
       "      <td>10.0</td>\n",
       "      <td>11.0</td>\n",
       "    </tr>\n",
       "    <tr>\n",
       "      <th>3149</th>\n",
       "      <td>https://www.glowpick.com/brands/8710</td>\n",
       "      <td>비플레인</td>\n",
       "      <td>['https://www.glowpick.com/products/124509', '...</td>\n",
       "      <td>['https://www.glowpick.com/products/124509', '...</td>\n",
       "      <td>https://www.glowpick.com/brands/8710</td>\n",
       "      <td>['스킨케어', '클렌징', '마스크/팩', '선케어']</td>\n",
       "      <td>23.0</td>\n",
       "      <td>24.0</td>\n",
       "    </tr>\n",
       "    <tr>\n",
       "      <th>3154</th>\n",
       "      <td>https://www.glowpick.com/brands/9525</td>\n",
       "      <td>빅</td>\n",
       "      <td>['https://www.glowpick.com/products/122212', '...</td>\n",
       "      <td>['https://www.glowpick.com/products/122212', '...</td>\n",
       "      <td>https://www.glowpick.com/brands/9525</td>\n",
       "      <td>['배쓰&amp;바디']</td>\n",
       "      <td>334.0</td>\n",
       "      <td>335.0</td>\n",
       "    </tr>\n",
       "    <tr>\n",
       "      <th>3172</th>\n",
       "      <td>https://www.glowpick.com/brands/1486</td>\n",
       "      <td>빠이요</td>\n",
       "      <td>['https://www.glowpick.com/products/73787', 'h...</td>\n",
       "      <td>['https://www.glowpick.com/products/73787', 'h...</td>\n",
       "      <td>https://www.glowpick.com/brands/1486</td>\n",
       "      <td>['스킨케어', '립메이크업', '클렌징', '마스크/팩', '선케어', '배쓰&amp;바디']</td>\n",
       "      <td>20.0</td>\n",
       "      <td>21.0</td>\n",
       "    </tr>\n",
       "    <tr>\n",
       "      <th>3190</th>\n",
       "      <td>https://www.glowpick.com/brands/683</td>\n",
       "      <td>삐아</td>\n",
       "      <td>['https://www.glowpick.com/products/89222', 'h...</td>\n",
       "      <td>['라스트 블러쉬 [쉐딩]', '섀이드 앤 섀도우', '라스트 벨벳 립 틴트5', ...</td>\n",
       "      <td>https://www.glowpick.com/brands/683</td>\n",
       "      <td>['스킨케어', '페이스메이크업', '립메이크업', '아이메이크업', '컨투어링',...</td>\n",
       "      <td>121.0</td>\n",
       "      <td>123.0</td>\n",
       "    </tr>\n",
       "  </tbody>\n",
       "</table>\n",
       "<p>116 rows × 8 columns</p>\n",
       "</div>"
      ],
      "text/plain": [
       "                               brand_code_x   brand_name  \\\n",
       "32     https://www.glowpick.com/brands/7406         고려은단   \n",
       "152   https://www.glowpick.com/brands/11349          글로우   \n",
       "163   https://www.glowpick.com/brands/10911  글린트 바이 비디보브   \n",
       "208    https://www.glowpick.com/brands/9974            끌   \n",
       "209    https://www.glowpick.com/brands/6189         끌라삐엘   \n",
       "...                                     ...          ...   \n",
       "3049  https://www.glowpick.com/brands/10895         비아르랩   \n",
       "3149   https://www.glowpick.com/brands/8710         비플레인   \n",
       "3154   https://www.glowpick.com/brands/9525            빅   \n",
       "3172   https://www.glowpick.com/brands/1486          빠이요   \n",
       "3190    https://www.glowpick.com/brands/683           삐아   \n",
       "\n",
       "                                           product_link  \\\n",
       "32    ['https://www.glowpick.com/products/97645', 'h...   \n",
       "152   ['https://www.glowpick.com/products/142634', '...   \n",
       "163   ['https://www.glowpick.com/products/139568', '...   \n",
       "208   ['https://www.glowpick.com/products/128543', '...   \n",
       "209   ['https://www.glowpick.com/products/89101', 'h...   \n",
       "...                                                 ...   \n",
       "3049  ['https://www.glowpick.com/products/148582', '...   \n",
       "3149  ['https://www.glowpick.com/products/124509', '...   \n",
       "3154  ['https://www.glowpick.com/products/122212', '...   \n",
       "3172  ['https://www.glowpick.com/products/73787', 'h...   \n",
       "3190  ['https://www.glowpick.com/products/89222', 'h...   \n",
       "\n",
       "                                           product_name  \\\n",
       "32    ['비타민C 1000', '비타민C 골드 플러스', '비타민C 1000 이지', '...   \n",
       "152   ['식이섬유 핑크 스틱', '콜라겐 퍼플 스틱', '면역 옐로우 스틱', '컬러 푸...   \n",
       "163   ['하이라이터', '아이팔레트', '글리터 젤', '스파클 립스틱', '쉬어 립스틱...   \n",
       "208   ['리프팅 마스크', '시그니처 오 드 뚜왈렛', '끌로에 오 드 퍼퓸', '에빠끌...   \n",
       "209   ['리치 아이크림', '보건용 황사방역 마스크 KF94 대형', '히비스커스 릴렉싱...   \n",
       "...                                                 ...   \n",
       "3049  ['https://www.glowpick.com/products/148582', '...   \n",
       "3149  ['https://www.glowpick.com/products/124509', '...   \n",
       "3154  ['https://www.glowpick.com/products/122212', '...   \n",
       "3172  ['https://www.glowpick.com/products/73787', 'h...   \n",
       "3190  ['라스트 블러쉬 [쉐딩]', '섀이드 앤 섀도우', '라스트 벨벳 립 틴트5', ...   \n",
       "\n",
       "                               brand_code_y  \\\n",
       "32     https://www.glowpick.com/brands/7406   \n",
       "152   https://www.glowpick.com/brands/11349   \n",
       "163   https://www.glowpick.com/brands/10911   \n",
       "208    https://www.glowpick.com/brands/9974   \n",
       "209    https://www.glowpick.com/brands/6189   \n",
       "...                                     ...   \n",
       "3049  https://www.glowpick.com/brands/10895   \n",
       "3149   https://www.glowpick.com/brands/8710   \n",
       "3154   https://www.glowpick.com/brands/9525   \n",
       "3172   https://www.glowpick.com/brands/1486   \n",
       "3190    https://www.glowpick.com/brands/683   \n",
       "\n",
       "                                               category  crawling_prd_cnt  \\\n",
       "32                                    ['이너뷰티', '마스크/팩']              17.0   \n",
       "152                                            ['이너뷰티']            1137.0   \n",
       "163              ['페이스메이크업', '립메이크업', '아이메이크업', '컨투어링']               6.0   \n",
       "208                                           ['마스크/팩']             446.0   \n",
       "209   ['스킨케어', '페이스메이크업', '립메이크업', '클렌징', '마스크/팩', '...              18.0   \n",
       "...                                                 ...               ...   \n",
       "3049                                  ['스킨케어', '마스크/팩']              10.0   \n",
       "3149                    ['스킨케어', '클렌징', '마스크/팩', '선케어']              23.0   \n",
       "3154                                          ['배쓰&바디']             334.0   \n",
       "3172  ['스킨케어', '립메이크업', '클렌징', '마스크/팩', '선케어', '배쓰&바디']              20.0   \n",
       "3190  ['스킨케어', '페이스메이크업', '립메이크업', '아이메이크업', '컨투어링',...             121.0   \n",
       "\n",
       "      prd_len  \n",
       "32       18.0  \n",
       "152    1140.0  \n",
       "163       7.0  \n",
       "208     450.0  \n",
       "209      22.0  \n",
       "...       ...  \n",
       "3049     11.0  \n",
       "3149     24.0  \n",
       "3154    335.0  \n",
       "3172     21.0  \n",
       "3190    123.0  \n",
       "\n",
       "[116 rows x 8 columns]"
      ]
     },
     "execution_count": 97,
     "metadata": {},
     "output_type": "execute_result"
    }
   ],
   "source": [
    "df_brd_w_prd_v2_drop_lg_3220.loc[df_brd_w_prd_v2_drop_lg_3220['crawling_prd_cnt'] < df_brd_w_prd_v2_drop_lg_3220['prd_len']]"
   ]
  },
  {
   "cell_type": "code",
   "execution_count": null,
   "id": "957fa497-07e6-4b8b-bbfb-762484ccd8d5",
   "metadata": {},
   "outputs": [],
   "source": []
  },
  {
   "cell_type": "code",
   "execution_count": null,
   "id": "1fdfb4c5-eaa7-4626-864e-5a70acfeb668",
   "metadata": {},
   "outputs": [],
   "source": []
  }
 ],
 "metadata": {
  "kernelspec": {
   "display_name": "Python 3 (ipykernel)",
   "language": "python",
   "name": "python3"
  },
  "language_info": {
   "codemirror_mode": {
    "name": "ipython",
    "version": 3
   },
   "file_extension": ".py",
   "mimetype": "text/x-python",
   "name": "python",
   "nbconvert_exporter": "python",
   "pygments_lexer": "ipython3",
   "version": "3.9.7"
  }
 },
 "nbformat": 4,
 "nbformat_minor": 5
}
