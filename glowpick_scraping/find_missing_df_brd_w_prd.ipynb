{
 "cells": [
  {
   "cell_type": "markdown",
   "id": "46b76fd5-a436-425f-8d86-1d177be25da8",
   "metadata": {},
   "source": [
    "# df_brd_w_prd_v2에서 유실값 확인"
   ]
  },
  {
   "cell_type": "code",
   "execution_count": 1,
   "id": "7168ebef-71fd-49a3-95b6-964696c55308",
   "metadata": {},
   "outputs": [],
   "source": [
    "import os\n",
    "import re\n",
    "import pandas as pd\n",
    "import pickle\n",
    "import collections\n",
    "import numpy as np\n",
    "import math\n",
    "from ast import literal_eval\n",
    "from time import gmtime, strftime\n",
    "import re\n",
    "import time\n",
    "from bs4 import BeautifulSoup\n",
    "from tqdm import trange, tqdm_notebook\n",
    "from tqdm.auto import tqdm\n",
    "\n",
    "# Scrapping\n",
    "import selenium\n",
    "from selenium import webdriver\n",
    "from selenium.webdriver.common.keys import Keys\n",
    "from selenium.webdriver.support.ui import WebDriverWait\n",
    "from selenium.webdriver.support import expected_conditions as EC\n",
    "from webdriver_manager.chrome import ChromeDriverManager\n",
    "from selenium.webdriver.common.by import By\n",
    "from selenium.webdriver.chrome.options import Options\n",
    "from fake_useragent import UserAgent\n",
    "\n",
    "# Error Handling\n",
    "import socket\n",
    "import urllib3\n",
    "import urllib.request\n",
    "from urllib.request import urlopen\n",
    "from urllib.parse import quote_plus\n",
    "from urllib.request import urlretrieve\n",
    "from selenium.common.exceptions import NoSuchElementException, ElementNotInteractableException, ElementClickInterceptedException\n",
    "import warnings\n",
    "warnings.filterwarnings('ignore')\n",
    "\n",
    "from collections import defaultdict"
   ]
  },
  {
   "cell_type": "code",
   "execution_count": 2,
   "id": "6412e13b-e608-40d5-8310-e3c874358a82",
   "metadata": {},
   "outputs": [],
   "source": [
    "df_brd_w_prd_v1_drop_lg = pd.read_csv(\"df_brd_w_prd_v1_drop_lg.csv\")\n",
    "df_brd_w_prd_v1_drop_lg = df_brd_w_prd_v1_drop_lg.iloc[:, 1:]"
   ]
  },
  {
   "cell_type": "code",
   "execution_count": 3,
   "id": "6c93c014-78c9-4f13-9d1a-e51bfa2a3c85",
   "metadata": {
    "tags": []
   },
   "outputs": [],
   "source": [
    "def get_search_len(brd_name):\n",
    "\n",
    "    try: \n",
    "        options = Options()\n",
    "        ua = UserAgent()\n",
    "        userAgent = ua.random\n",
    "        print(userAgent)\n",
    "\n",
    "        options.add_argument('headless')\n",
    "        options.add_argument('window-size=1920x1080')\n",
    "        options.add_argument(\"disable-gpu\")\n",
    "        options.add_argument(f'user-agent={userAgent}')\n",
    "        wd = webdriver.Chrome(ChromeDriverManager().install(), chrome_options=options)\n",
    "\n",
    "        socket.setdefaulttimeout(30)\n",
    "\n",
    "        url = 'https:/www.glowpick.com/searches/keywords'\n",
    "        wd.get(url)\n",
    "        time.sleep(5)\n",
    "        \n",
    "        html = wd.page_source\n",
    "        soup = BeautifulSoup(html, \"html.parser\")\n",
    "\n",
    "        wd.find_element_by_xpath(\"//*[@id='default-layout']/div/div[1]/span/div/div[2]/div[2]/button[2]\").click()\n",
    "        wd.maximize_window()\n",
    "        time.sleep(3)\n",
    "\n",
    "        brd_input = wd.find_element_by_xpath(\"//*[@id='default-layout']/div/div[2]/div/div/div/input\")\n",
    "        brd_input.send_keys(brd_name)\n",
    "        brd_input.send_keys(Keys.ENTER)\n",
    "        time.sleep(3)\n",
    "        \n",
    "        # ====\n",
    "\n",
    "        #.products__product\n",
    "        #.product\n",
    "        # ====\n",
    "\n",
    "        def parsing_html_with_class(parsing_info = '.products'):\n",
    "            html = wd.page_source\n",
    "            soup = BeautifulSoup(html, \"html.parser\")\n",
    "            interm_r = soup.select(parsing_info)\n",
    "            return interm_r\n",
    "        \n",
    "        try:\n",
    "            while True:\n",
    "\n",
    "                product_lst = parsing_html_with_class()\n",
    "                \n",
    "                global product_len\n",
    "                product_len = len(re.findall('<div class=\"products__product product\" (.*?)', str(product_lst[0])))\n",
    "                \n",
    "\n",
    "                element = wd.find_element_by_xpath('/html/body/div/div/div/div/main/div/section/div[2]/div/div[1]/span/div[{}]'.format(product_len - 1))\n",
    "                wd.execute_script(\"arguments[0].scrollIntoView(true);\", element)\n",
    "                time.sleep(2)\n",
    "\n",
    "                product_lst_2 = parsing_html_with_class()\n",
    "\n",
    "                if product_lst == product_lst_2:\n",
    "                    html = wd.page_source\n",
    "                    soup = BeautifulSoup(html, \"html.parser\")\n",
    "                    prd_len = len(soup.find_all('div','products__product product'))\n",
    "                    return prd_len\n",
    "                    break\n",
    "\n",
    "\n",
    "        except NoSuchElementException:\n",
    "            html = wd.page_source\n",
    "            soup = BeautifulSoup(html, \"html.parser\")\n",
    "            prd_len = len(soup.find_all('div','products__product product'))\n",
    "            return prd_len\n",
    "        \n",
    "    except Exception as e:\n",
    "        exception.append(brd_name)\n",
    "        print(\"brand name: {}\".format(brd_name), e)\n",
    "        pass"
   ]
  },
  {
   "cell_type": "code",
   "execution_count": 5,
   "id": "791b56d8-f78a-44c0-a92c-73935a177997",
   "metadata": {},
   "outputs": [],
   "source": [
    "exception = []"
   ]
  },
  {
   "cell_type": "code",
   "execution_count": 6,
   "id": "d29da4a1-927d-46ba-93dc-1a3315445c89",
   "metadata": {},
   "outputs": [],
   "source": [
    "df_brd_w_prd_v1_drop_lg_0_10 = df_brd_w_prd_v1_drop_lg.loc[0:10]"
   ]
  },
  {
   "cell_type": "code",
   "execution_count": 7,
   "id": "2d672227-f545-4183-bac2-8287af1e7262",
   "metadata": {
    "tags": []
   },
   "outputs": [
    {
     "data": {
      "application/vnd.jupyter.widget-view+json": {
       "model_id": "5da4388028b440a39c2414fc315e12c1",
       "version_major": 2,
       "version_minor": 0
      },
      "text/plain": [
       "  0%|          | 0/11 [00:00<?, ?it/s]"
      ]
     },
     "metadata": {},
     "output_type": "display_data"
    },
    {
     "name": "stderr",
     "output_type": "stream",
     "text": [
      "\n",
      "\n",
      "====== WebDriver manager ======\n"
     ]
    },
    {
     "name": "stdout",
     "output_type": "stream",
     "text": [
      "Mozilla/5.0 (Windows NT 5.1) AppleWebKit/537.36 (KHTML, like Gecko) Chrome/35.0.3319.102 Safari/537.36\n"
     ]
    },
    {
     "name": "stderr",
     "output_type": "stream",
     "text": [
      "Current google-chrome version is 93.0.4577\n",
      "Get LATEST driver version for 93.0.4577\n",
      "Get LATEST driver version for 93.0.4577\n",
      "Trying to download new driver from https://chromedriver.storage.googleapis.com/93.0.4577.63/chromedriver_win32.zip\n",
      "Driver has been saved in cache [C:\\Users\\keunb\\.wdm\\drivers\\chromedriver\\win32\\93.0.4577.63]\n",
      "\n",
      "\n",
      "====== WebDriver manager ======\n"
     ]
    },
    {
     "name": "stdout",
     "output_type": "stream",
     "text": [
      "Mozilla/5.0 (Windows NT 6.2; WOW64) AppleWebKit/537.36 (KHTML, like Gecko) Chrome/27.0.1453.93 Safari/537.36\n"
     ]
    },
    {
     "name": "stderr",
     "output_type": "stream",
     "text": [
      "Current google-chrome version is 93.0.4577\n",
      "Get LATEST driver version for 93.0.4577\n",
      "Driver [C:\\Users\\keunb\\.wdm\\drivers\\chromedriver\\win32\\93.0.4577.63\\chromedriver.exe] found in cache\n",
      "\n",
      "\n",
      "====== WebDriver manager ======\n"
     ]
    },
    {
     "name": "stdout",
     "output_type": "stream",
     "text": [
      "Mozilla/5.0 (Macintosh; Intel Mac OS X 10_8_2) AppleWebKit/537.17 (KHTML, like Gecko) Chrome/24.0.1309.0 Safari/537.17\n"
     ]
    },
    {
     "name": "stderr",
     "output_type": "stream",
     "text": [
      "Current google-chrome version is 93.0.4577\n",
      "Get LATEST driver version for 93.0.4577\n",
      "Driver [C:\\Users\\keunb\\.wdm\\drivers\\chromedriver\\win32\\93.0.4577.63\\chromedriver.exe] found in cache\n",
      "\n",
      "\n",
      "====== WebDriver manager ======\n"
     ]
    },
    {
     "name": "stdout",
     "output_type": "stream",
     "text": [
      "Mozilla/5.0 (Windows NT 6.2; Win64; x64; rv:27.0) Gecko/20121011 Firefox/27.0\n"
     ]
    },
    {
     "name": "stderr",
     "output_type": "stream",
     "text": [
      "Current google-chrome version is 93.0.4577\n",
      "Get LATEST driver version for 93.0.4577\n",
      "Driver [C:\\Users\\keunb\\.wdm\\drivers\\chromedriver\\win32\\93.0.4577.63\\chromedriver.exe] found in cache\n",
      "\n",
      "\n",
      "====== WebDriver manager ======\n",
      "Current google-chrome version is 93.0.4577\n",
      "Get LATEST driver version for 93.0.4577\n"
     ]
    },
    {
     "name": "stdout",
     "output_type": "stream",
     "text": [
      "Mozilla/5.0 (Windows NT 6.1; WOW64; rv:23.0) Gecko/20130406 Firefox/23.0\n"
     ]
    },
    {
     "name": "stderr",
     "output_type": "stream",
     "text": [
      "Driver [C:\\Users\\keunb\\.wdm\\drivers\\chromedriver\\win32\\93.0.4577.63\\chromedriver.exe] found in cache\n",
      "\n",
      "\n",
      "====== WebDriver manager ======\n"
     ]
    },
    {
     "name": "stdout",
     "output_type": "stream",
     "text": [
      "Mozilla/5.0 (X11; Linux i686; rv:21.0) Gecko/20100101 Firefox/21.0\n"
     ]
    },
    {
     "name": "stderr",
     "output_type": "stream",
     "text": [
      "Current google-chrome version is 93.0.4577\n",
      "Get LATEST driver version for 93.0.4577\n",
      "Driver [C:\\Users\\keunb\\.wdm\\drivers\\chromedriver\\win32\\93.0.4577.63\\chromedriver.exe] found in cache\n",
      "\n",
      "\n",
      "====== WebDriver manager ======\n"
     ]
    },
    {
     "name": "stdout",
     "output_type": "stream",
     "text": [
      "Mozilla/5.0 (Windows NT 5.1) AppleWebKit/537.36 (KHTML, like Gecko) Chrome/34.0.1866.237 Safari/537.36\n"
     ]
    },
    {
     "name": "stderr",
     "output_type": "stream",
     "text": [
      "Current google-chrome version is 93.0.4577\n",
      "Get LATEST driver version for 93.0.4577\n",
      "Driver [C:\\Users\\keunb\\.wdm\\drivers\\chromedriver\\win32\\93.0.4577.63\\chromedriver.exe] found in cache\n",
      "\n",
      "\n",
      "====== WebDriver manager ======\n"
     ]
    },
    {
     "name": "stdout",
     "output_type": "stream",
     "text": [
      "Mozilla/5.0 (Windows NT 6.1; WOW64) AppleWebKit/537.17 (KHTML, like Gecko) Chrome/24.0.1312.60 Safari/537.17\n"
     ]
    },
    {
     "name": "stderr",
     "output_type": "stream",
     "text": [
      "Current google-chrome version is 93.0.4577\n",
      "Get LATEST driver version for 93.0.4577\n",
      "Driver [C:\\Users\\keunb\\.wdm\\drivers\\chromedriver\\win32\\93.0.4577.63\\chromedriver.exe] found in cache\n",
      "\n",
      "\n",
      "====== WebDriver manager ======\n"
     ]
    },
    {
     "name": "stdout",
     "output_type": "stream",
     "text": [
      "Mozilla/5.0 (Windows NT 6.2; WOW64) AppleWebKit/537.36 (KHTML, like Gecko) Chrome/27.0.1500.55 Safari/537.36\n"
     ]
    },
    {
     "name": "stderr",
     "output_type": "stream",
     "text": [
      "Current google-chrome version is 93.0.4577\n",
      "Get LATEST driver version for 93.0.4577\n",
      "Driver [C:\\Users\\keunb\\.wdm\\drivers\\chromedriver\\win32\\93.0.4577.63\\chromedriver.exe] found in cache\n",
      "\n",
      "\n",
      "====== WebDriver manager ======\n"
     ]
    },
    {
     "name": "stdout",
     "output_type": "stream",
     "text": [
      "Mozilla/5.0 (Windows NT 6.2; WOW64) AppleWebKit/537.36 (KHTML, like Gecko) Chrome/29.0.1547.2 Safari/537.36\n"
     ]
    },
    {
     "name": "stderr",
     "output_type": "stream",
     "text": [
      "Current google-chrome version is 93.0.4577\n",
      "Get LATEST driver version for 93.0.4577\n",
      "Driver [C:\\Users\\keunb\\.wdm\\drivers\\chromedriver\\win32\\93.0.4577.63\\chromedriver.exe] found in cache\n",
      "\n",
      "\n",
      "====== WebDriver manager ======\n"
     ]
    },
    {
     "name": "stdout",
     "output_type": "stream",
     "text": [
      "Mozilla/5.0 (X11; Linux x86_64) AppleWebKit/537.36 (KHTML, like Gecko) Chrome/41.0.2227.0 Safari/537.36\n"
     ]
    },
    {
     "name": "stderr",
     "output_type": "stream",
     "text": [
      "Current google-chrome version is 93.0.4577\n",
      "Get LATEST driver version for 93.0.4577\n",
      "Driver [C:\\Users\\keunb\\.wdm\\drivers\\chromedriver\\win32\\93.0.4577.63\\chromedriver.exe] found in cache\n"
     ]
    }
   ],
   "source": [
    "for i in tqdm(list(df_brd_w_prd_v1_drop_lg_0_10.index)):\n",
    "    brd_name = df_brd_w_prd_v1_drop_lg_0_10.loc[i, 'brand_name']\n",
    "    prd_len = get_search_len(brd_name)\n",
    "    df_brd_w_prd_v1_drop_lg_0_10.loc[i, 'prd_len'] = prd_len"
   ]
  },
  {
   "cell_type": "code",
   "execution_count": 16,
   "id": "7902902a-611e-40b4-947d-31bd6c98d742",
   "metadata": {},
   "outputs": [
    {
     "data": {
      "text/html": [
       "<div>\n",
       "<style scoped>\n",
       "    .dataframe tbody tr th:only-of-type {\n",
       "        vertical-align: middle;\n",
       "    }\n",
       "\n",
       "    .dataframe tbody tr th {\n",
       "        vertical-align: top;\n",
       "    }\n",
       "\n",
       "    .dataframe thead th {\n",
       "        text-align: right;\n",
       "    }\n",
       "</style>\n",
       "<table border=\"1\" class=\"dataframe\">\n",
       "  <thead>\n",
       "    <tr style=\"text-align: right;\">\n",
       "      <th></th>\n",
       "      <th>brand_code_x</th>\n",
       "      <th>brand_name</th>\n",
       "      <th>product_link</th>\n",
       "      <th>product_name</th>\n",
       "      <th>brand_code_y</th>\n",
       "      <th>category</th>\n",
       "      <th>crawling_prd_cnt</th>\n",
       "    </tr>\n",
       "  </thead>\n",
       "  <tbody>\n",
       "    <tr>\n",
       "      <th>1000</th>\n",
       "      <td>https://www.glowpick.com/brands/2607</td>\n",
       "      <td>드레스너에센스</td>\n",
       "      <td>['https://www.glowpick.com/products/41067']</td>\n",
       "      <td>['웰니스 배쓰파우더 - 피어니']</td>\n",
       "      <td>https://www.glowpick.com/brands/2607</td>\n",
       "      <td>['배쓰&amp;바디']</td>\n",
       "      <td>1.0</td>\n",
       "    </tr>\n",
       "    <tr>\n",
       "      <th>1001</th>\n",
       "      <td>https://www.glowpick.com/brands/8419</td>\n",
       "      <td>드레스킨</td>\n",
       "      <td>['https://www.glowpick.com/products/109599', '...</td>\n",
       "      <td>['새틴 틴트 앤 밤', '실크 팩트 밤 [SPF50+/PA+++]', '아이라이터...</td>\n",
       "      <td>https://www.glowpick.com/brands/8419</td>\n",
       "      <td>['페이스메이크업', '립메이크업', '아이메이크업']</td>\n",
       "      <td>6.0</td>\n",
       "    </tr>\n",
       "    <tr>\n",
       "      <th>1002</th>\n",
       "      <td>https://www.glowpick.com/brands/6948</td>\n",
       "      <td>드레싱82</td>\n",
       "      <td>['https://www.glowpick.com/products/91361', 'h...</td>\n",
       "      <td>['클리어 밀크필 거즈 패드', '마일드필 히알루로닉 겔크림']</td>\n",
       "      <td>https://www.glowpick.com/brands/6948</td>\n",
       "      <td>['스킨케어']</td>\n",
       "      <td>2.0</td>\n",
       "    </tr>\n",
       "    <tr>\n",
       "      <th>1003</th>\n",
       "      <td>https://www.glowpick.com/brands/10105</td>\n",
       "      <td>드레싱테이블</td>\n",
       "      <td>['https://www.glowpick.com/products/130467']</td>\n",
       "      <td>['스킨처음 다리미스틱']</td>\n",
       "      <td>https://www.glowpick.com/brands/10105</td>\n",
       "      <td>['스킨케어']</td>\n",
       "      <td>1.0</td>\n",
       "    </tr>\n",
       "    <tr>\n",
       "      <th>1004</th>\n",
       "      <td>https://www.glowpick.com/brands/11384</td>\n",
       "      <td>드레아</td>\n",
       "      <td>['https://www.glowpick.com/products/142949', '...</td>\n",
       "      <td>['히비스커스 엑토인 시크릿 앰플', '[단종]  메이크업 리무버 패드 울트라 퀵'...</td>\n",
       "      <td>https://www.glowpick.com/brands/11384</td>\n",
       "      <td>['스킨케어']</td>\n",
       "      <td>4.0</td>\n",
       "    </tr>\n",
       "    <tr>\n",
       "      <th>...</th>\n",
       "      <td>...</td>\n",
       "      <td>...</td>\n",
       "      <td>...</td>\n",
       "      <td>...</td>\n",
       "      <td>...</td>\n",
       "      <td>...</td>\n",
       "      <td>...</td>\n",
       "    </tr>\n",
       "    <tr>\n",
       "      <th>1995</th>\n",
       "      <td>https://www.glowpick.com/brands/9695</td>\n",
       "      <td>메그</td>\n",
       "      <td>['https://www.glowpick.com/products/124383', '...</td>\n",
       "      <td>['투스텝 젤리 마스크 [그린]', '투스텝 젤리 마스크 [퍼플]', '투스텝 젤리...</td>\n",
       "      <td>https://www.glowpick.com/brands/9695</td>\n",
       "      <td>['마스크/팩']</td>\n",
       "      <td>23.0</td>\n",
       "    </tr>\n",
       "    <tr>\n",
       "      <th>1996</th>\n",
       "      <td>https://www.glowpick.com/brands/3725</td>\n",
       "      <td>메나드</td>\n",
       "      <td>['https://www.glowpick.com/products/52481']</td>\n",
       "      <td>['원터치 립스틱']</td>\n",
       "      <td>https://www.glowpick.com/brands/3725</td>\n",
       "      <td>['립메이크업']</td>\n",
       "      <td>1.0</td>\n",
       "    </tr>\n",
       "    <tr>\n",
       "      <th>1997</th>\n",
       "      <td>https://www.glowpick.com/brands/10846</td>\n",
       "      <td>메노킨</td>\n",
       "      <td>['https://www.glowpick.com/products/138938', '...</td>\n",
       "      <td>['펩티코튼 크림', '펩티코튼 앰플에센스', '펩티코튼 클렌저']</td>\n",
       "      <td>https://www.glowpick.com/brands/10846</td>\n",
       "      <td>['스킨케어', '클렌징']</td>\n",
       "      <td>3.0</td>\n",
       "    </tr>\n",
       "    <tr>\n",
       "      <th>1998</th>\n",
       "      <td>https://www.glowpick.com/brands/7386</td>\n",
       "      <td>메니콘</td>\n",
       "      <td>['https://www.glowpick.com/products/97382', 'h...</td>\n",
       "      <td>['메니케어 플러스', '프로젠트']</td>\n",
       "      <td>https://www.glowpick.com/brands/7386</td>\n",
       "      <td>['렌즈']</td>\n",
       "      <td>2.0</td>\n",
       "    </tr>\n",
       "    <tr>\n",
       "      <th>1999</th>\n",
       "      <td>https://www.glowpick.com/brands/10192</td>\n",
       "      <td>메니큐</td>\n",
       "      <td>['https://www.glowpick.com/products/131918', '...</td>\n",
       "      <td>['수분 톤업 듀오크림', '프리미엄 젤네일', '무드 업 럭스 네일 컬러', '네...</td>\n",
       "      <td>https://www.glowpick.com/brands/10192</td>\n",
       "      <td>['스킨케어']</td>\n",
       "      <td>471.0</td>\n",
       "    </tr>\n",
       "  </tbody>\n",
       "</table>\n",
       "<p>1000 rows × 7 columns</p>\n",
       "</div>"
      ],
      "text/plain": [
       "                               brand_code_x brand_name  \\\n",
       "1000   https://www.glowpick.com/brands/2607    드레스너에센스   \n",
       "1001   https://www.glowpick.com/brands/8419       드레스킨   \n",
       "1002   https://www.glowpick.com/brands/6948      드레싱82   \n",
       "1003  https://www.glowpick.com/brands/10105     드레싱테이블   \n",
       "1004  https://www.glowpick.com/brands/11384        드레아   \n",
       "...                                     ...        ...   \n",
       "1995   https://www.glowpick.com/brands/9695         메그   \n",
       "1996   https://www.glowpick.com/brands/3725        메나드   \n",
       "1997  https://www.glowpick.com/brands/10846        메노킨   \n",
       "1998   https://www.glowpick.com/brands/7386        메니콘   \n",
       "1999  https://www.glowpick.com/brands/10192        메니큐   \n",
       "\n",
       "                                           product_link  \\\n",
       "1000        ['https://www.glowpick.com/products/41067']   \n",
       "1001  ['https://www.glowpick.com/products/109599', '...   \n",
       "1002  ['https://www.glowpick.com/products/91361', 'h...   \n",
       "1003       ['https://www.glowpick.com/products/130467']   \n",
       "1004  ['https://www.glowpick.com/products/142949', '...   \n",
       "...                                                 ...   \n",
       "1995  ['https://www.glowpick.com/products/124383', '...   \n",
       "1996        ['https://www.glowpick.com/products/52481']   \n",
       "1997  ['https://www.glowpick.com/products/138938', '...   \n",
       "1998  ['https://www.glowpick.com/products/97382', 'h...   \n",
       "1999  ['https://www.glowpick.com/products/131918', '...   \n",
       "\n",
       "                                           product_name  \\\n",
       "1000                                ['웰니스 배쓰파우더 - 피어니']   \n",
       "1001  ['새틴 틴트 앤 밤', '실크 팩트 밤 [SPF50+/PA+++]', '아이라이터...   \n",
       "1002                ['클리어 밀크필 거즈 패드', '마일드필 히알루로닉 겔크림']   \n",
       "1003                                     ['스킨처음 다리미스틱']   \n",
       "1004  ['히비스커스 엑토인 시크릿 앰플', '[단종]  메이크업 리무버 패드 울트라 퀵'...   \n",
       "...                                                 ...   \n",
       "1995  ['투스텝 젤리 마스크 [그린]', '투스텝 젤리 마스크 [퍼플]', '투스텝 젤리...   \n",
       "1996                                        ['원터치 립스틱']   \n",
       "1997              ['펩티코튼 크림', '펩티코튼 앰플에센스', '펩티코튼 클렌저']   \n",
       "1998                               ['메니케어 플러스', '프로젠트']   \n",
       "1999  ['수분 톤업 듀오크림', '프리미엄 젤네일', '무드 업 럭스 네일 컬러', '네...   \n",
       "\n",
       "                               brand_code_y                        category  \\\n",
       "1000   https://www.glowpick.com/brands/2607                       ['배쓰&바디']   \n",
       "1001   https://www.glowpick.com/brands/8419  ['페이스메이크업', '립메이크업', '아이메이크업']   \n",
       "1002   https://www.glowpick.com/brands/6948                        ['스킨케어']   \n",
       "1003  https://www.glowpick.com/brands/10105                        ['스킨케어']   \n",
       "1004  https://www.glowpick.com/brands/11384                        ['스킨케어']   \n",
       "...                                     ...                             ...   \n",
       "1995   https://www.glowpick.com/brands/9695                       ['마스크/팩']   \n",
       "1996   https://www.glowpick.com/brands/3725                       ['립메이크업']   \n",
       "1997  https://www.glowpick.com/brands/10846                 ['스킨케어', '클렌징']   \n",
       "1998   https://www.glowpick.com/brands/7386                          ['렌즈']   \n",
       "1999  https://www.glowpick.com/brands/10192                        ['스킨케어']   \n",
       "\n",
       "      crawling_prd_cnt  \n",
       "1000               1.0  \n",
       "1001               6.0  \n",
       "1002               2.0  \n",
       "1003               1.0  \n",
       "1004               4.0  \n",
       "...                ...  \n",
       "1995              23.0  \n",
       "1996               1.0  \n",
       "1997               3.0  \n",
       "1998               2.0  \n",
       "1999             471.0  \n",
       "\n",
       "[1000 rows x 7 columns]"
      ]
     },
     "execution_count": 16,
     "metadata": {},
     "output_type": "execute_result"
    }
   ],
   "source": [
    "df_brd_w_prd_v1_drop_lg_1000_1999"
   ]
  },
  {
   "cell_type": "code",
   "execution_count": null,
   "id": "11c224e9-2c85-4d52-8688-55cf69f134d9",
   "metadata": {},
   "outputs": [],
   "source": []
  }
 ],
 "metadata": {
  "kernelspec": {
   "display_name": "Python 3 (ipykernel)",
   "language": "python",
   "name": "python3"
  },
  "language_info": {
   "codemirror_mode": {
    "name": "ipython",
    "version": 3
   },
   "file_extension": ".py",
   "mimetype": "text/x-python",
   "name": "python",
   "nbconvert_exporter": "python",
   "pygments_lexer": "ipython3",
   "version": "3.9.7"
  }
 },
 "nbformat": 4,
 "nbformat_minor": 5
}
