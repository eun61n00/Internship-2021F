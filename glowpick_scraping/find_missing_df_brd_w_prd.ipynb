{
 "cells": [
  {
   "cell_type": "markdown",
   "id": "46b76fd5-a436-425f-8d86-1d177be25da8",
   "metadata": {},
   "source": [
    "# df_brd_w_prd_v2에서 유실값 확인"
   ]
  },
  {
   "cell_type": "code",
   "execution_count": 1,
   "id": "7168ebef-71fd-49a3-95b6-964696c55308",
   "metadata": {},
   "outputs": [],
   "source": [
    "import os\n",
    "import re\n",
    "import pandas as pd\n",
    "import pickle\n",
    "import collections\n",
    "import numpy as np\n",
    "import math\n",
    "from ast import literal_eval\n",
    "from time import gmtime, strftime\n",
    "import re\n",
    "import time\n",
    "from bs4 import BeautifulSoup\n",
    "from tqdm import trange, tqdm_notebook\n",
    "from tqdm.auto import tqdm\n",
    "\n",
    "# Scrapping\n",
    "import selenium\n",
    "from selenium import webdriver\n",
    "from selenium.webdriver.common.keys import Keys\n",
    "from selenium.webdriver.support.ui import WebDriverWait\n",
    "from selenium.webdriver.support import expected_conditions as EC\n",
    "from webdriver_manager.chrome import ChromeDriverManager\n",
    "from selenium.webdriver.common.by import By\n",
    "from selenium.webdriver.chrome.options import Options\n",
    "from fake_useragent import UserAgent\n",
    "\n",
    "# Error Handling\n",
    "import socket\n",
    "import urllib3\n",
    "import urllib.request\n",
    "from urllib.request import urlopen\n",
    "from urllib.parse import quote_plus\n",
    "from urllib.request import urlretrieve\n",
    "from selenium.common.exceptions import NoSuchElementException, ElementNotInteractableException, ElementClickInterceptedException\n",
    "import warnings\n",
    "warnings.filterwarnings('ignore')\n",
    "\n",
    "from collections import defaultdict"
   ]
  },
  {
   "cell_type": "code",
   "execution_count": 2,
   "id": "6412e13b-e608-40d5-8310-e3c874358a82",
   "metadata": {},
   "outputs": [],
   "source": [
    "df_brd_w_prd_v1_drop_lg = pd.read_csv(\"df_brd_w_prd_v1_drop_lg.csv\")\n",
    "df_brd_w_prd_v1_drop_lg = df_brd_w_prd_v1_drop_lg.iloc[:, 1:]"
   ]
  },
  {
   "cell_type": "code",
   "execution_count": 3,
   "id": "6c93c014-78c9-4f13-9d1a-e51bfa2a3c85",
   "metadata": {
    "tags": []
   },
   "outputs": [],
   "source": [
    "def get_search_len(brd_name):\n",
    "\n",
    "    try: \n",
    "        options = Options()\n",
    "        ua = UserAgent()\n",
    "        userAgent = ua.random\n",
    "        print(userAgent)\n",
    "\n",
    "        options.add_argument('headless')\n",
    "        options.add_argument('window-size=1920x1080')\n",
    "        options.add_argument(\"disable-gpu\")\n",
    "        options.add_argument(f'user-agent={userAgent}')\n",
    "        wd = webdriver.Chrome(ChromeDriverManager().install(), chrome_options=options)\n",
    "\n",
    "        socket.setdefaulttimeout(30)\n",
    "\n",
    "        url = 'https:/www.glowpick.com/searches/keywords'\n",
    "        wd.get(url)\n",
    "        time.sleep(5)\n",
    "        \n",
    "        html = wd.page_source\n",
    "        soup = BeautifulSoup(html, \"html.parser\")\n",
    "\n",
    "        wd.find_element_by_xpath(\"//*[@id='default-layout']/div/div[1]/span/div/div[2]/div[2]/button[2]\").click()\n",
    "        wd.maximize_window()\n",
    "        time.sleep(3)\n",
    "\n",
    "        brd_input = wd.find_element_by_xpath(\"//*[@id='default-layout']/div/div[2]/div/div/div/input\")\n",
    "        brd_input.send_keys(brd_name)\n",
    "        brd_input.send_keys(Keys.ENTER)\n",
    "        time.sleep(3)\n",
    "        \n",
    "        # ====\n",
    "\n",
    "        #.products__product\n",
    "        #.product\n",
    "        # ====\n",
    "\n",
    "        def parsing_html_with_class(parsing_info = '.products'):\n",
    "            html = wd.page_source\n",
    "            soup = BeautifulSoup(html, \"html.parser\")\n",
    "            interm_r = soup.select(parsing_info)\n",
    "            return interm_r\n",
    "        \n",
    "        try:\n",
    "            while True:\n",
    "\n",
    "                product_lst = parsing_html_with_class()\n",
    "                \n",
    "                global product_len\n",
    "                product_len = len(re.findall('<div class=\"products__product product\" (.*?)', str(product_lst[0])))\n",
    "                \n",
    "\n",
    "                element = wd.find_element_by_xpath('/html/body/div/div/div/div/main/div/section/div[2]/div/div[1]/span/div[{}]'.format(product_len - 1))\n",
    "                wd.execute_script(\"arguments[0].scrollIntoView(true);\", element)\n",
    "                time.sleep(2)\n",
    "\n",
    "                product_lst_2 = parsing_html_with_class()\n",
    "\n",
    "                if product_lst == product_lst_2:\n",
    "                    html = wd.page_source\n",
    "                    soup = BeautifulSoup(html, \"html.parser\")\n",
    "                    prd_len = len(soup.find_all('div','products__product product'))\n",
    "                    return prd_len\n",
    "                    break\n",
    "\n",
    "\n",
    "        except NoSuchElementException:\n",
    "            html = wd.page_source\n",
    "            soup = BeautifulSoup(html, \"html.parser\")\n",
    "            prd_len = len(soup.find_all('div','products__product product'))\n",
    "            return prd_len\n",
    "        \n",
    "    except Exception as e:\n",
    "        exception.append(brd_name)\n",
    "        print(\"brand name: {}\".format(brd_name), e)\n",
    "        pass"
   ]
  },
  {
   "cell_type": "code",
   "execution_count": 5,
   "id": "791b56d8-f78a-44c0-a92c-73935a177997",
   "metadata": {},
   "outputs": [],
   "source": [
    "exception = []"
   ]
  },
  {
   "cell_type": "code",
   "execution_count": 6,
   "id": "d29da4a1-927d-46ba-93dc-1a3315445c89",
   "metadata": {},
   "outputs": [],
   "source": [
    "df_brd_w_prd_v1_drop_lg_0_10 = df_brd_w_prd_v1_drop_lg.loc[0:10]"
   ]
  },
  {
   "cell_type": "code",
   "execution_count": 7,
   "id": "2d672227-f545-4183-bac2-8287af1e7262",
   "metadata": {
    "collapsed": true,
    "jupyter": {
     "outputs_hidden": true
    },
    "tags": []
   },
   "outputs": [
    {
     "data": {
      "application/vnd.jupyter.widget-view+json": {
       "model_id": "5da4388028b440a39c2414fc315e12c1",
       "version_major": 2,
       "version_minor": 0
      },
      "text/plain": [
       "  0%|          | 0/11 [00:00<?, ?it/s]"
      ]
     },
     "metadata": {},
     "output_type": "display_data"
    },
    {
     "name": "stderr",
     "output_type": "stream",
     "text": [
      "\n",
      "\n",
      "====== WebDriver manager ======\n"
     ]
    },
    {
     "name": "stdout",
     "output_type": "stream",
     "text": [
      "Mozilla/5.0 (Windows NT 5.1) AppleWebKit/537.36 (KHTML, like Gecko) Chrome/35.0.3319.102 Safari/537.36\n"
     ]
    },
    {
     "name": "stderr",
     "output_type": "stream",
     "text": [
      "Current google-chrome version is 93.0.4577\n",
      "Get LATEST driver version for 93.0.4577\n",
      "Get LATEST driver version for 93.0.4577\n",
      "Trying to download new driver from https://chromedriver.storage.googleapis.com/93.0.4577.63/chromedriver_win32.zip\n",
      "Driver has been saved in cache [C:\\Users\\keunb\\.wdm\\drivers\\chromedriver\\win32\\93.0.4577.63]\n",
      "\n",
      "\n",
      "====== WebDriver manager ======\n"
     ]
    },
    {
     "name": "stdout",
     "output_type": "stream",
     "text": [
      "Mozilla/5.0 (Windows NT 6.2; WOW64) AppleWebKit/537.36 (KHTML, like Gecko) Chrome/27.0.1453.93 Safari/537.36\n"
     ]
    },
    {
     "name": "stderr",
     "output_type": "stream",
     "text": [
      "Current google-chrome version is 93.0.4577\n",
      "Get LATEST driver version for 93.0.4577\n",
      "Driver [C:\\Users\\keunb\\.wdm\\drivers\\chromedriver\\win32\\93.0.4577.63\\chromedriver.exe] found in cache\n",
      "\n",
      "\n",
      "====== WebDriver manager ======\n"
     ]
    },
    {
     "name": "stdout",
     "output_type": "stream",
     "text": [
      "Mozilla/5.0 (Macintosh; Intel Mac OS X 10_8_2) AppleWebKit/537.17 (KHTML, like Gecko) Chrome/24.0.1309.0 Safari/537.17\n"
     ]
    },
    {
     "name": "stderr",
     "output_type": "stream",
     "text": [
      "Current google-chrome version is 93.0.4577\n",
      "Get LATEST driver version for 93.0.4577\n",
      "Driver [C:\\Users\\keunb\\.wdm\\drivers\\chromedriver\\win32\\93.0.4577.63\\chromedriver.exe] found in cache\n",
      "\n",
      "\n",
      "====== WebDriver manager ======\n"
     ]
    },
    {
     "name": "stdout",
     "output_type": "stream",
     "text": [
      "Mozilla/5.0 (Windows NT 6.2; Win64; x64; rv:27.0) Gecko/20121011 Firefox/27.0\n"
     ]
    },
    {
     "name": "stderr",
     "output_type": "stream",
     "text": [
      "Current google-chrome version is 93.0.4577\n",
      "Get LATEST driver version for 93.0.4577\n",
      "Driver [C:\\Users\\keunb\\.wdm\\drivers\\chromedriver\\win32\\93.0.4577.63\\chromedriver.exe] found in cache\n",
      "\n",
      "\n",
      "====== WebDriver manager ======\n",
      "Current google-chrome version is 93.0.4577\n",
      "Get LATEST driver version for 93.0.4577\n"
     ]
    },
    {
     "name": "stdout",
     "output_type": "stream",
     "text": [
      "Mozilla/5.0 (Windows NT 6.1; WOW64; rv:23.0) Gecko/20130406 Firefox/23.0\n"
     ]
    },
    {
     "name": "stderr",
     "output_type": "stream",
     "text": [
      "Driver [C:\\Users\\keunb\\.wdm\\drivers\\chromedriver\\win32\\93.0.4577.63\\chromedriver.exe] found in cache\n",
      "\n",
      "\n",
      "====== WebDriver manager ======\n"
     ]
    },
    {
     "name": "stdout",
     "output_type": "stream",
     "text": [
      "Mozilla/5.0 (X11; Linux i686; rv:21.0) Gecko/20100101 Firefox/21.0\n"
     ]
    },
    {
     "name": "stderr",
     "output_type": "stream",
     "text": [
      "Current google-chrome version is 93.0.4577\n",
      "Get LATEST driver version for 93.0.4577\n",
      "Driver [C:\\Users\\keunb\\.wdm\\drivers\\chromedriver\\win32\\93.0.4577.63\\chromedriver.exe] found in cache\n",
      "\n",
      "\n",
      "====== WebDriver manager ======\n"
     ]
    },
    {
     "name": "stdout",
     "output_type": "stream",
     "text": [
      "Mozilla/5.0 (Windows NT 5.1) AppleWebKit/537.36 (KHTML, like Gecko) Chrome/34.0.1866.237 Safari/537.36\n"
     ]
    },
    {
     "name": "stderr",
     "output_type": "stream",
     "text": [
      "Current google-chrome version is 93.0.4577\n",
      "Get LATEST driver version for 93.0.4577\n",
      "Driver [C:\\Users\\keunb\\.wdm\\drivers\\chromedriver\\win32\\93.0.4577.63\\chromedriver.exe] found in cache\n",
      "\n",
      "\n",
      "====== WebDriver manager ======\n"
     ]
    },
    {
     "name": "stdout",
     "output_type": "stream",
     "text": [
      "Mozilla/5.0 (Windows NT 6.1; WOW64) AppleWebKit/537.17 (KHTML, like Gecko) Chrome/24.0.1312.60 Safari/537.17\n"
     ]
    },
    {
     "name": "stderr",
     "output_type": "stream",
     "text": [
      "Current google-chrome version is 93.0.4577\n",
      "Get LATEST driver version for 93.0.4577\n",
      "Driver [C:\\Users\\keunb\\.wdm\\drivers\\chromedriver\\win32\\93.0.4577.63\\chromedriver.exe] found in cache\n",
      "\n",
      "\n",
      "====== WebDriver manager ======\n"
     ]
    },
    {
     "name": "stdout",
     "output_type": "stream",
     "text": [
      "Mozilla/5.0 (Windows NT 6.2; WOW64) AppleWebKit/537.36 (KHTML, like Gecko) Chrome/27.0.1500.55 Safari/537.36\n"
     ]
    },
    {
     "name": "stderr",
     "output_type": "stream",
     "text": [
      "Current google-chrome version is 93.0.4577\n",
      "Get LATEST driver version for 93.0.4577\n",
      "Driver [C:\\Users\\keunb\\.wdm\\drivers\\chromedriver\\win32\\93.0.4577.63\\chromedriver.exe] found in cache\n",
      "\n",
      "\n",
      "====== WebDriver manager ======\n"
     ]
    },
    {
     "name": "stdout",
     "output_type": "stream",
     "text": [
      "Mozilla/5.0 (Windows NT 6.2; WOW64) AppleWebKit/537.36 (KHTML, like Gecko) Chrome/29.0.1547.2 Safari/537.36\n"
     ]
    },
    {
     "name": "stderr",
     "output_type": "stream",
     "text": [
      "Current google-chrome version is 93.0.4577\n",
      "Get LATEST driver version for 93.0.4577\n",
      "Driver [C:\\Users\\keunb\\.wdm\\drivers\\chromedriver\\win32\\93.0.4577.63\\chromedriver.exe] found in cache\n",
      "\n",
      "\n",
      "====== WebDriver manager ======\n"
     ]
    },
    {
     "name": "stdout",
     "output_type": "stream",
     "text": [
      "Mozilla/5.0 (X11; Linux x86_64) AppleWebKit/537.36 (KHTML, like Gecko) Chrome/41.0.2227.0 Safari/537.36\n"
     ]
    },
    {
     "name": "stderr",
     "output_type": "stream",
     "text": [
      "Current google-chrome version is 93.0.4577\n",
      "Get LATEST driver version for 93.0.4577\n",
      "Driver [C:\\Users\\keunb\\.wdm\\drivers\\chromedriver\\win32\\93.0.4577.63\\chromedriver.exe] found in cache\n"
     ]
    }
   ],
   "source": [
    "for i in tqdm(list(df_brd_w_prd_v1_drop_lg_0_10.index)):\n",
    "    brd_name = df_brd_w_prd_v1_drop_lg_0_10.loc[i, 'brand_name']\n",
    "    prd_len = get_search_len(brd_name)\n",
    "    df_brd_w_prd_v1_drop_lg_0_10.loc[i, 'prd_len'] = prd_len"
   ]
  },
  {
   "cell_type": "code",
   "execution_count": 8,
   "id": "7902902a-611e-40b4-947d-31bd6c98d742",
   "metadata": {},
   "outputs": [
    {
     "data": {
      "text/html": [
       "<div>\n",
       "<style scoped>\n",
       "    .dataframe tbody tr th:only-of-type {\n",
       "        vertical-align: middle;\n",
       "    }\n",
       "\n",
       "    .dataframe tbody tr th {\n",
       "        vertical-align: top;\n",
       "    }\n",
       "\n",
       "    .dataframe thead th {\n",
       "        text-align: right;\n",
       "    }\n",
       "</style>\n",
       "<table border=\"1\" class=\"dataframe\">\n",
       "  <thead>\n",
       "    <tr style=\"text-align: right;\">\n",
       "      <th></th>\n",
       "      <th>brand_code_x</th>\n",
       "      <th>brand_name</th>\n",
       "      <th>product_link</th>\n",
       "      <th>product_name</th>\n",
       "      <th>brand_code_y</th>\n",
       "      <th>category</th>\n",
       "      <th>crawling_prd_cnt</th>\n",
       "      <th>prd_len</th>\n",
       "    </tr>\n",
       "  </thead>\n",
       "  <tbody>\n",
       "    <tr>\n",
       "      <th>0</th>\n",
       "      <td>https://www.glowpick.com/brands/8016</td>\n",
       "      <td>가가알로에</td>\n",
       "      <td>['https://www.glowpick.com/products/104713']</td>\n",
       "      <td>['라율 나이트 케어 너리싱 젤']</td>\n",
       "      <td>https://www.glowpick.com/brands/8016</td>\n",
       "      <td>['스킨케어']</td>\n",
       "      <td>1.0</td>\n",
       "      <td>1.0</td>\n",
       "    </tr>\n",
       "    <tr>\n",
       "      <th>1</th>\n",
       "      <td>https://www.glowpick.com/brands/2077</td>\n",
       "      <td>가네보</td>\n",
       "      <td>['https://www.glowpick.com/products/101993', '...</td>\n",
       "      <td>['페이스업 파우더 밀라노 콜렉션 2018 [SPF14/PA+]', '코프레도르 스...</td>\n",
       "      <td>https://www.glowpick.com/brands/2077</td>\n",
       "      <td>['페이스메이크업', '립메이크업', '컨투어링', '클렌징', '배쓰&amp;바디', '...</td>\n",
       "      <td>12.0</td>\n",
       "      <td>12.0</td>\n",
       "    </tr>\n",
       "    <tr>\n",
       "      <th>2</th>\n",
       "      <td>https://www.glowpick.com/brands/8724</td>\n",
       "      <td>가드미</td>\n",
       "      <td>['https://www.glowpick.com/products/112824', '...</td>\n",
       "      <td>['큐티클 클리너', '네일 큐티클 호호바 오일', '[단종]  슈퍼 단백질 헤어가...</td>\n",
       "      <td>https://www.glowpick.com/brands/8724</td>\n",
       "      <td>['네일']</td>\n",
       "      <td>3.0</td>\n",
       "      <td>3.0</td>\n",
       "    </tr>\n",
       "    <tr>\n",
       "      <th>3</th>\n",
       "      <td>https://www.glowpick.com/brands/10352</td>\n",
       "      <td>가든 오브 라이프</td>\n",
       "      <td>['https://www.glowpick.com/products/133823', '...</td>\n",
       "      <td>['비타민 로우 B 컴플렉스', '로우 프로바이오틱스 장케어', '무가공 비타민C'...</td>\n",
       "      <td>https://www.glowpick.com/brands/10352</td>\n",
       "      <td>['이너뷰티']</td>\n",
       "      <td>12.0</td>\n",
       "      <td>12.0</td>\n",
       "    </tr>\n",
       "    <tr>\n",
       "      <th>4</th>\n",
       "      <td>https://www.glowpick.com/brands/7314</td>\n",
       "      <td>가디스가든</td>\n",
       "      <td>['https://www.glowpick.com/products/96142', 'h...</td>\n",
       "      <td>['유기농 드림 리페어 선 리페어 나이트 크림', '유기농 데이 언던 선 리페어 세...</td>\n",
       "      <td>https://www.glowpick.com/brands/7314</td>\n",
       "      <td>['스킨케어', '베이비', '립메이크업', '클렌징', '선케어']</td>\n",
       "      <td>14.0</td>\n",
       "      <td>14.0</td>\n",
       "    </tr>\n",
       "    <tr>\n",
       "      <th>5</th>\n",
       "      <td>https://www.glowpick.com/brands/10037</td>\n",
       "      <td>가란시아</td>\n",
       "      <td>['https://www.glowpick.com/products/129388', '...</td>\n",
       "      <td>['쉴퓨르즈 빠뜨 뒤 마라부', '쁘쉬 마쥐끄 누벨 뽀 비쟈쥬', '렐릭시르 뒤 마...</td>\n",
       "      <td>https://www.glowpick.com/brands/10037</td>\n",
       "      <td>['스킨케어', '클렌징']</td>\n",
       "      <td>9.0</td>\n",
       "      <td>9.0</td>\n",
       "    </tr>\n",
       "    <tr>\n",
       "      <th>6</th>\n",
       "      <td>https://www.glowpick.com/brands/5601</td>\n",
       "      <td>가르니르</td>\n",
       "      <td>['https://www.glowpick.com/products/74814', 'h...</td>\n",
       "      <td>['안나', '프라이드', '플란더스 EDT', '앨리스 EDT']</td>\n",
       "      <td>https://www.glowpick.com/brands/5601</td>\n",
       "      <td>['프래그런스']</td>\n",
       "      <td>4.0</td>\n",
       "      <td>4.0</td>\n",
       "    </tr>\n",
       "    <tr>\n",
       "      <th>7</th>\n",
       "      <td>https://www.glowpick.com/brands/4705</td>\n",
       "      <td>가르니에</td>\n",
       "      <td>['https://www.glowpick.com/products/66001', 'h...</td>\n",
       "      <td>['미셀라 클렌징 워터', '프레시 아이 메이크업 리무버', '미셀라 클렌징 워터 ...</td>\n",
       "      <td>https://www.glowpick.com/brands/4705</td>\n",
       "      <td>['스킨케어', '클렌징', '선케어', '배쓰&amp;바디', '헤어']</td>\n",
       "      <td>22.0</td>\n",
       "      <td>22.0</td>\n",
       "    </tr>\n",
       "    <tr>\n",
       "      <th>8</th>\n",
       "      <td>https://www.glowpick.com/brands/9668</td>\n",
       "      <td>가오쿠</td>\n",
       "      <td>['https://www.glowpick.com/products/124088', '...</td>\n",
       "      <td>['헤어 에센스', '헤어글로스 트리트먼트 샴푸', '헤어 마스크']</td>\n",
       "      <td>https://www.glowpick.com/brands/9668</td>\n",
       "      <td>['헤어']</td>\n",
       "      <td>3.0</td>\n",
       "      <td>3.0</td>\n",
       "    </tr>\n",
       "    <tr>\n",
       "      <th>9</th>\n",
       "      <td>https://www.glowpick.com/brands/10558</td>\n",
       "      <td>가온</td>\n",
       "      <td>['https://www.glowpick.com/products/136313', '...</td>\n",
       "      <td>['새싹 담은 아이 &amp; 페이스 크림', '씨앗담은 토닝 세럼', '[단종]  청순 ...</td>\n",
       "      <td>https://www.glowpick.com/brands/10558</td>\n",
       "      <td>['스킨케어']</td>\n",
       "      <td>18.0</td>\n",
       "      <td>18.0</td>\n",
       "    </tr>\n",
       "    <tr>\n",
       "      <th>10</th>\n",
       "      <td>https://www.glowpick.com/brands/5775</td>\n",
       "      <td>가온도담</td>\n",
       "      <td>['https://www.glowpick.com/products/91862', 'h...</td>\n",
       "      <td>['[단종]  청순 에센스 인 오일 스킨', '[단종]  퓨어 선쿠션 [SPF35/...</td>\n",
       "      <td>https://www.glowpick.com/brands/5775</td>\n",
       "      <td>['스킨케어', '페이스메이크업', '립메이크업', '클렌징', '선케어', '배쓰...</td>\n",
       "      <td>16.0</td>\n",
       "      <td>16.0</td>\n",
       "    </tr>\n",
       "  </tbody>\n",
       "</table>\n",
       "</div>"
      ],
      "text/plain": [
       "                             brand_code_x brand_name  \\\n",
       "0    https://www.glowpick.com/brands/8016      가가알로에   \n",
       "1    https://www.glowpick.com/brands/2077        가네보   \n",
       "2    https://www.glowpick.com/brands/8724        가드미   \n",
       "3   https://www.glowpick.com/brands/10352  가든 오브 라이프   \n",
       "4    https://www.glowpick.com/brands/7314      가디스가든   \n",
       "5   https://www.glowpick.com/brands/10037       가란시아   \n",
       "6    https://www.glowpick.com/brands/5601       가르니르   \n",
       "7    https://www.glowpick.com/brands/4705       가르니에   \n",
       "8    https://www.glowpick.com/brands/9668        가오쿠   \n",
       "9   https://www.glowpick.com/brands/10558         가온   \n",
       "10   https://www.glowpick.com/brands/5775       가온도담   \n",
       "\n",
       "                                         product_link  \\\n",
       "0        ['https://www.glowpick.com/products/104713']   \n",
       "1   ['https://www.glowpick.com/products/101993', '...   \n",
       "2   ['https://www.glowpick.com/products/112824', '...   \n",
       "3   ['https://www.glowpick.com/products/133823', '...   \n",
       "4   ['https://www.glowpick.com/products/96142', 'h...   \n",
       "5   ['https://www.glowpick.com/products/129388', '...   \n",
       "6   ['https://www.glowpick.com/products/74814', 'h...   \n",
       "7   ['https://www.glowpick.com/products/66001', 'h...   \n",
       "8   ['https://www.glowpick.com/products/124088', '...   \n",
       "9   ['https://www.glowpick.com/products/136313', '...   \n",
       "10  ['https://www.glowpick.com/products/91862', 'h...   \n",
       "\n",
       "                                         product_name  \\\n",
       "0                                 ['라율 나이트 케어 너리싱 젤']   \n",
       "1   ['페이스업 파우더 밀라노 콜렉션 2018 [SPF14/PA+]', '코프레도르 스...   \n",
       "2   ['큐티클 클리너', '네일 큐티클 호호바 오일', '[단종]  슈퍼 단백질 헤어가...   \n",
       "3   ['비타민 로우 B 컴플렉스', '로우 프로바이오틱스 장케어', '무가공 비타민C'...   \n",
       "4   ['유기농 드림 리페어 선 리페어 나이트 크림', '유기농 데이 언던 선 리페어 세...   \n",
       "5   ['쉴퓨르즈 빠뜨 뒤 마라부', '쁘쉬 마쥐끄 누벨 뽀 비쟈쥬', '렐릭시르 뒤 마...   \n",
       "6               ['안나', '프라이드', '플란더스 EDT', '앨리스 EDT']   \n",
       "7   ['미셀라 클렌징 워터', '프레시 아이 메이크업 리무버', '미셀라 클렌징 워터 ...   \n",
       "8              ['헤어 에센스', '헤어글로스 트리트먼트 샴푸', '헤어 마스크']   \n",
       "9   ['새싹 담은 아이 & 페이스 크림', '씨앗담은 토닝 세럼', '[단종]  청순 ...   \n",
       "10  ['[단종]  청순 에센스 인 오일 스킨', '[단종]  퓨어 선쿠션 [SPF35/...   \n",
       "\n",
       "                             brand_code_y  \\\n",
       "0    https://www.glowpick.com/brands/8016   \n",
       "1    https://www.glowpick.com/brands/2077   \n",
       "2    https://www.glowpick.com/brands/8724   \n",
       "3   https://www.glowpick.com/brands/10352   \n",
       "4    https://www.glowpick.com/brands/7314   \n",
       "5   https://www.glowpick.com/brands/10037   \n",
       "6    https://www.glowpick.com/brands/5601   \n",
       "7    https://www.glowpick.com/brands/4705   \n",
       "8    https://www.glowpick.com/brands/9668   \n",
       "9   https://www.glowpick.com/brands/10558   \n",
       "10   https://www.glowpick.com/brands/5775   \n",
       "\n",
       "                                             category  crawling_prd_cnt  \\\n",
       "0                                            ['스킨케어']               1.0   \n",
       "1   ['페이스메이크업', '립메이크업', '컨투어링', '클렌징', '배쓰&바디', '...              12.0   \n",
       "2                                              ['네일']               3.0   \n",
       "3                                            ['이너뷰티']              12.0   \n",
       "4              ['스킨케어', '베이비', '립메이크업', '클렌징', '선케어']              14.0   \n",
       "5                                     ['스킨케어', '클렌징']               9.0   \n",
       "6                                           ['프래그런스']               4.0   \n",
       "7               ['스킨케어', '클렌징', '선케어', '배쓰&바디', '헤어']              22.0   \n",
       "8                                              ['헤어']               3.0   \n",
       "9                                            ['스킨케어']              18.0   \n",
       "10  ['스킨케어', '페이스메이크업', '립메이크업', '클렌징', '선케어', '배쓰...              16.0   \n",
       "\n",
       "    prd_len  \n",
       "0       1.0  \n",
       "1      12.0  \n",
       "2       3.0  \n",
       "3      12.0  \n",
       "4      14.0  \n",
       "5       9.0  \n",
       "6       4.0  \n",
       "7      22.0  \n",
       "8       3.0  \n",
       "9      18.0  \n",
       "10     16.0  "
      ]
     },
     "execution_count": 8,
     "metadata": {},
     "output_type": "execute_result"
    }
   ],
   "source": [
    "df_brd_w_prd_v1_drop_lg_0_10"
   ]
  },
  {
   "cell_type": "code",
   "execution_count": null,
   "id": "11c224e9-2c85-4d52-8688-55cf69f134d9",
   "metadata": {},
   "outputs": [],
   "source": []
  }
 ],
 "metadata": {
  "kernelspec": {
   "display_name": "Python 3 (ipykernel)",
   "language": "python",
   "name": "python3"
  },
  "language_info": {
   "codemirror_mode": {
    "name": "ipython",
    "version": 3
   },
   "file_extension": ".py",
   "mimetype": "text/x-python",
   "name": "python",
   "nbconvert_exporter": "python",
   "pygments_lexer": "ipython3",
   "version": "3.9.7"
  }
 },
 "nbformat": 4,
 "nbformat_minor": 5
}
