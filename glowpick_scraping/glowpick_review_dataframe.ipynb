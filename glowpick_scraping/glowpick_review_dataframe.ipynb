{
 "cells": [
  {
   "cell_type": "code",
   "execution_count": null,
   "id": "a049ef7c-2352-439b-8be4-808771886920",
   "metadata": {},
   "outputs": [],
   "source": [
    "import os\n",
    "import re\n",
    "import pandas as pd\n",
    "import pickle\n",
    "import collections\n",
    "import numpy as np\n",
    "import math\n",
    "import ast\n",
    "from time import gmtime, strftime\n",
    "import re\n",
    "import time\n",
    "from tqdm.auto import tqdm"
   ]
  },
  {
   "cell_type": "code",
   "execution_count": null,
   "id": "25b48ddf-72b0-4d5a-85f0-b1c952f872bf",
   "metadata": {},
   "outputs": [],
   "source": [
    "glowpick_product_review_None = pd.read_csv(\"glowpick_product_review_None.csv\")"
   ]
  },
  {
   "cell_type": "code",
   "execution_count": null,
   "id": "e02f1401-897a-4d45-b1a4-02bd3172c162",
   "metadata": {},
   "outputs": [],
   "source": [
    "for i in tqdm(glowpick_product_review_None.index):\n",
    "    try:\n",
    "        if type(glowpick_product_review_None.loc[i, 'product_rating']) != float:\n",
    "            glowpick_product_review_None.at[i, 'product_rating'] = ast.literal_eval(glowpick_product_review_None.loc[i, 'product_rating'])\n",
    "            glowpick_product_review_None.at[i, 'product_review_date'] = ast.literal_eval(glowpick_product_review_None.loc[i, 'product_review_date'])\n",
    "            glowpick_product_review_None.at[i, 'count_product_review'] = ast.literal_eval(glowpick_product_review_None.loc[i, 'count_product_review'])\n",
    "            glowpick_product_review_None.at[i, 'user_skin_type'] = ast.literal_eval(glowpick_product_review_None.loc[i, 'user_skin_type'])\n",
    "            glowpick_product_review_None.at[i, 'user_age'] = ast.literal_eval(glowpick_product_review_None.loc[i, 'user_age'])\n",
    "            glowpick_product_review_None.at[i, 'user_sex'] = ast.literal_eval(glowpick_product_review_None.loc[i, 'user_sex'])\n",
    "            glowpick_product_review_None.at[i, 'user_name'] = ast.literal_eval(glowpick_product_review_None.loc[i, 'user_name'])\n",
    "            glowpick_product_review_None.at[i, 'product_review'] = ast.literal_eval(glowpick_product_review_None.loc[i, 'product_review'])\n",
    "    except ValueError:\n",
    "            pass"
   ]
  },
  {
   "cell_type": "code",
   "execution_count": null,
   "id": "bfb77792-0381-4ecd-9c89-3baaaf61fc54",
   "metadata": {},
   "outputs": [],
   "source": [
    "df_glowpick_product_review = pd.DataFrame(columns = ['id', 'product_rating', 'product_review_date',\n",
    "       'count_product_review', 'user_skin_type', 'user_age', 'user_sex',\n",
    "       'user_name', 'product_review'])"
   ]
  },
  {
   "cell_type": "code",
   "execution_count": null,
   "id": "785a0d71-2668-4c04-8f77-42a6a5aaa288",
   "metadata": {},
   "outputs": [],
   "source": [
    "row = 0\n",
    "for prd_idx in tqdm(glowpick_product_review_None.index):\n",
    "    if type(glowpick_product_review_None.loc[prd_idx, 'product_review']) == float:\n",
    "        prd_review = {'id': np.nan,\n",
    "                     'product_rating': np.nan,\n",
    "                     'product_review_date': np.nan,\n",
    "                     'count_product_review': np.nan, \n",
    "                      'user_skin_type': np.nan, \n",
    "                      'user_age': np.nan, \n",
    "                      'user_sex': np.nan,\n",
    "                      'user_name': np.nan, \n",
    "                      'product_review': np.nan}\n",
    "        df_glowpick_product_review.loc[row] = prd_review\n",
    "        continue\n",
    "    for i in range(len(glowpick_product_review_None.loc[prd_idx, 'product_review'])):\n",
    "        rating = glowpick_product_review_None.loc[prd_idx, 'product_rating'][i]\n",
    "        review_date = glowpick_product_review_None.loc[prd_idx, 'product_review_date'][i]\n",
    "        count = glowpick_product_review_None.loc[prd_idx, 'count_product_review'][i]\n",
    "        skin_type = glowpick_product_review_None.loc[prd_idx, 'user_skin_type'][i]\n",
    "        age = glowpick_product_review_None.loc[prd_idx, 'user_age'][i]\n",
    "        sex = glowpick_product_review_None.loc[prd_idx, 'user_sex'][i]\n",
    "        name = glowpick_product_review_None.loc[prd_idx, 'user_name'][i]\n",
    "        review = glowpick_product_review_None.loc[prd_idx, 'product_review'][i]\n",
    "        prd_review = {'id': prd_idx,\n",
    "                     'product_rating': rating,\n",
    "                     'product_review_date': review_date,\n",
    "                     'count_product_review': count, \n",
    "                      'user_skin_type': skin_type, \n",
    "                      'user_age': age, \n",
    "                      'user_sex': sex,\n",
    "                      'user_name': name, \n",
    "                      'product_review': review}\n",
    "        df_glowpick_product_review.loc[row] = prd_review\n",
    "        row += 1"
   ]
  },
  {
   "cell_type": "code",
   "execution_count": null,
   "id": "16ae648d-4093-4811-869e-f8c95a741aa0",
   "metadata": {},
   "outputs": [],
   "source": [
    "df_glowpick_product_review.to_csv(\"df_glowpick_product_review.csv\", index=False)"
   ]
  }
 ],
 "metadata": {
  "kernelspec": {
   "display_name": "Python 3 (ipykernel)",
   "language": "python",
   "name": "python3"
  },
  "language_info": {
   "codemirror_mode": {
    "name": "ipython",
    "version": 3
   },
   "file_extension": ".py",
   "mimetype": "text/x-python",
   "name": "python",
   "nbconvert_exporter": "python",
   "pygments_lexer": "ipython3",
   "version": "3.8.11"
  }
 },
 "nbformat": 4,
 "nbformat_minor": 5
}
