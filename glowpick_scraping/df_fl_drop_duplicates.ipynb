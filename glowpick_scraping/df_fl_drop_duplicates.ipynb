{
 "cells": [
  {
   "cell_type": "code",
   "execution_count": 16,
   "id": "5ea5dcc9-45a6-4760-be94-00dc53f3d180",
   "metadata": {},
   "outputs": [],
   "source": [
    "import os\n",
    "import re\n",
    "import pandas as pd\n",
    "import pickle\n",
    "import collections\n",
    "import numpy as np\n",
    "import math\n",
    "from ast import literal_eval\n",
    "from time import gmtime, strftime\n",
    "import re\n",
    "import time\n",
    "from bs4 import BeautifulSoup\n",
    "\n",
    "# Scrapping\n",
    "import selenium\n",
    "from selenium import webdriver\n",
    "from selenium.webdriver.common.keys import Keys\n",
    "from selenium.webdriver.support.ui import WebDriverWait\n",
    "from selenium.webdriver.support import expected_conditions as EC\n",
    "from webdriver_manager.chrome import ChromeDriverManager\n",
    "from selenium.webdriver.common.by import By\n",
    "from selenium.webdriver.chrome.options import Options\n",
    "from fake_useragent import UserAgent\n",
    "\n",
    "# Error Handling\n",
    "import socket\n",
    "import urllib3\n",
    "import urllib.request\n",
    "from urllib.request import urlopen\n",
    "from urllib.parse import quote_plus\n",
    "from urllib.request import urlretrieve\n",
    "from selenium.common.exceptions import NoSuchElementException, ElementNotInteractableException, ElementClickInterceptedException\n",
    "import warnings\n",
    "warnings.filterwarnings('ignore')"
   ]
  },
  {
   "cell_type": "code",
   "execution_count": 17,
   "id": "04e093fe-c343-4fe7-b658-d2afc2cfca69",
   "metadata": {},
   "outputs": [],
   "source": [
    "with open('filnal_dfs.txt', 'rb') as fp:\n",
    "    final_dfs = pickle.load(fp)\n",
    "    \n",
    "with open('filnal_dfs_alpha.txt', 'rb') as fp:\n",
    "    final_dfs_alpha = pickle.load(fp)\n",
    "    \n",
    "final_dfs_num_path = os.getcwd() + '/' + 'final_dfs_num.csv'\n",
    "final_dfs_num = pd.read_csv(final_dfs_num_path)"
   ]
  },
  {
   "cell_type": "code",
   "execution_count": 18,
   "id": "6e690766-6821-4a8c-bcfa-4b7b692a6daf",
   "metadata": {},
   "outputs": [],
   "source": [
    "final_dfs_num.columns = final_dfs[0].columns"
   ]
  },
  {
   "cell_type": "code",
   "execution_count": 19,
   "id": "62c4df89-0980-450a-ae3c-bd939438b576",
   "metadata": {},
   "outputs": [],
   "source": [
    "df_1 = pd.concat([final_dfs, final_dfs_alpha][0])\n",
    "df_2 = pd.concat([final_dfs, final_dfs_alpha][1])\n",
    "\n",
    "df_fl = pd.concat([df_1, df_2, final_dfs_num])\n",
    "df_fl__ = df_fl.reset_index(drop='True') #index 고정"
   ]
  },
  {
   "cell_type": "code",
   "execution_count": 106,
   "id": "216f6b5b-2c2f-47fc-b3a4-ebb5672e0da6",
   "metadata": {},
   "outputs": [],
   "source": [
    "df_fl__.to_csv(\"df_fl_before_drop.csv\")"
   ]
  },
  {
   "cell_type": "code",
   "execution_count": 20,
   "id": "778502ef-777d-4607-a0cb-7e0c1fe7368d",
   "metadata": {},
   "outputs": [],
   "source": [
    "df_fl_ = df_fl__.drop_duplicates(subset=['brand_code']) #brand_code를 기준으로 중복 제거\n",
    "df_fl_copy = df_fl_.copy()"
   ]
  },
  {
   "cell_type": "code",
   "execution_count": 21,
   "id": "925fe24f-8281-48d9-87e4-04e17293a7c6",
   "metadata": {},
   "outputs": [],
   "source": [
    "ind = df_fl_copy.index.tolist()\n",
    "\n",
    "fl_lst = []\n",
    "idx = 0\n",
    "for i in range(1, len(ind)):\n",
    "    if ind[i] - ind[idx] > 1:\n",
    "        fl_lst.append(list(range(ind[idx]+1, ind[i])))\n",
    "    idx += 1"
   ]
  },
  {
   "cell_type": "code",
   "execution_count": 22,
   "id": "9827788c-a2e4-4126-8ba4-c1a557160cbd",
   "metadata": {
    "tags": []
   },
   "outputs": [],
   "source": [
    "fl_lst_ = sum(fl_lst, [])"
   ]
  },
  {
   "cell_type": "code",
   "execution_count": 30,
   "id": "02650b45-5758-45d7-bf07-f911f657e69b",
   "metadata": {},
   "outputs": [],
   "source": [
    "#중복을 제거한 df_fl\n",
    "df_fl_drop_duplicates = df_fl__.drop(df_fl__.index[fl_lst_]) "
   ]
  },
  {
   "cell_type": "code",
   "execution_count": 105,
   "id": "c58deace-73f9-4b6c-bb30-c625c12a910b",
   "metadata": {},
   "outputs": [
    {
     "name": "stdout",
     "output_type": "stream",
     "text": [
      "JW생활건강\n",
      "LG생활건강\n"
     ]
    }
   ],
   "source": [
    "s = df_fl__.loc[fl_lst_, 'brand_name']\n",
    "lst = []\n",
    "cnt = 0\n",
    "\n",
    "for str in s:\n",
    "    hangul = re.compile('[가-힣]+').findall(str) #한글 찾기\n",
    "    if len(hangul) == 0: #한글이 없으면\n",
    "        continue\n",
    "    else: #한글이 있으면\n",
    "        cnt += 1\n",
    "        lst.append(hangul)\n",
    "        print(str)"
   ]
  },
  {
   "cell_type": "code",
   "execution_count": 78,
   "id": "2cf20807-2695-4d15-a774-1d7c793c8fd2",
   "metadata": {},
   "outputs": [
    {
     "data": {
      "text/plain": [
       "2"
      ]
     },
     "execution_count": 78,
     "metadata": {},
     "output_type": "execute_result"
    }
   ],
   "source": [
    "cnt"
   ]
  },
  {
   "cell_type": "code",
   "execution_count": 79,
   "id": "77f92a58-9cfd-45e4-8c55-7d10f626a6b4",
   "metadata": {},
   "outputs": [
    {
     "data": {
      "text/plain": [
       "[['생활건강'], ['생활건강']]"
      ]
     },
     "execution_count": 79,
     "metadata": {},
     "output_type": "execute_result"
    }
   ],
   "source": [
    "lst"
   ]
  },
  {
   "cell_type": "code",
   "execution_count": 100,
   "id": "a62c03c4-0d6d-4a82-a665-06c6fafb5c86",
   "metadata": {},
   "outputs": [
    {
     "name": "stdout",
     "output_type": "stream",
     "text": [
      "False\n",
      "False\n",
      "True\n",
      "True\n"
     ]
    }
   ],
   "source": [
    "print(\"['생활건강']\" in list(df_fl__.loc[fl_lst_, 'brand_name']))\n",
    "print('생활건강' in list(df_fl__.loc[fl_lst_, 'brand_name']))\n",
    "print('LG생활건강' in list(df_fl__.loc[fl_lst_, 'brand_name']))\n",
    "print('JW생활건강' in list(df_fl__.loc[fl_lst_, 'brand_name']))"
   ]
  },
  {
   "cell_type": "code",
   "execution_count": 84,
   "id": "ff336885-cd48-47c3-8387-cb6a3da5f6fe",
   "metadata": {},
   "outputs": [],
   "source": [
    "df_fl_drop_duplicates_copy = df_fl_drop_duplicates.reset_index(drop=True)"
   ]
  },
  {
   "cell_type": "code",
   "execution_count": 90,
   "id": "d0c6c29f-7d04-415d-aa7f-830821ad71c3",
   "metadata": {},
   "outputs": [],
   "source": [
    "df_fl_drop_duplicates_copy.to_csv('final_brd.txt')\n",
    "df_fl_drop_duplicates_copy.to_csv('final_brd.csv')"
   ]
  },
  {
   "cell_type": "code",
   "execution_count": 104,
   "id": "1a7d97c6-1eb8-4b2c-b028-58d488d5b236",
   "metadata": {},
   "outputs": [
    {
     "name": "stdout",
     "output_type": "stream",
     "text": [
      "True\n",
      "True\n"
     ]
    }
   ],
   "source": [
    "print('엘지생활건강' in list(df_fl_drop_duplicates_copy.loc[:, 'brand_name']))\n",
    "print('제이더블유생활건강' in list(df_fl_drop_duplicates_copy.loc[:, 'brand_name']))"
   ]
  },
  {
   "cell_type": "code",
   "execution_count": null,
   "id": "6c5632c2-4db9-4e9f-8f21-9c0e0eac60e7",
   "metadata": {},
   "outputs": [],
   "source": []
  }
 ],
 "metadata": {
  "kernelspec": {
   "display_name": "Python 3 (ipykernel)",
   "language": "python",
   "name": "python3"
  },
  "language_info": {
   "codemirror_mode": {
    "name": "ipython",
    "version": 3
   },
   "file_extension": ".py",
   "mimetype": "text/x-python",
   "name": "python",
   "nbconvert_exporter": "python",
   "pygments_lexer": "ipython3",
   "version": "3.8.11"
  }
 },
 "nbformat": 4,
 "nbformat_minor": 5
}
