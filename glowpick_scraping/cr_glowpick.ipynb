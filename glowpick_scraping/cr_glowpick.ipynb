{
 "cells": [
  {
   "cell_type": "code",
   "execution_count": 30,
   "id": "19eadb97-2eec-43a4-b42f-f5ae56aff4ed",
   "metadata": {
    "tags": []
   },
   "outputs": [],
   "source": [
    "import os\n",
    "import re\n",
    "import pandas as pd\n",
    "import pickle\n",
    "import collections\n",
    "import numpy as np\n",
    "import math\n",
    "from ast import literal_eval\n",
    "from time import gmtime, strftime\n",
    "import re\n",
    "import time\n",
    "from bs4 import BeautifulSoup\n",
    "#$from tqdm import tnrange, tqdm_notebook\n",
    "from tqdm.auto import tqdm\n",
    "\n",
    "# Scrapping\n",
    "import selenium\n",
    "from selenium import webdriver\n",
    "from selenium.webdriver.common.keys import Keys\n",
    "from selenium.webdriver.support.ui import WebDriverWait\n",
    "from selenium.webdriver.support import expected_conditions as EC\n",
    "from webdriver_manager.chrome import ChromeDriverManager\n",
    "from selenium.webdriver.common.by import By\n",
    "from selenium.webdriver.chrome.options import Options\n",
    "from fake_useragent import UserAgent\n",
    "\n",
    "# Error Handling\n",
    "import socket\n",
    "import urllib3\n",
    "import urllib.request\n",
    "from urllib.request import urlopen\n",
    "from urllib.parse import quote_plus\n",
    "from urllib.request import urlretrieve\n",
    "from selenium.common.exceptions import NoSuchElementException, ElementNotInteractableException, ElementClickInterceptedException\n",
    "import warnings\n",
    "warnings.filterwarnings('ignore')\n",
    "\n",
    "from collections import defaultdict"
   ]
  },
  {
   "cell_type": "code",
   "execution_count": 5,
   "id": "1614dbcc-f023-47b0-93fc-fc587a833868",
   "metadata": {},
   "outputs": [
    {
     "name": "stdout",
     "output_type": "stream",
     "text": [
      "Current working directory :  G:\\내 드라이브\\Mycelebs\\glowpick_scraping\n"
     ]
    }
   ],
   "source": [
    "import os\n",
    "\n",
    "print(\"Current working directory : \", os.getcwd())"
   ]
  },
  {
   "cell_type": "code",
   "execution_count": 103,
   "id": "cd4b933c-6d74-47a1-ae30-a9c3b373c720",
   "metadata": {},
   "outputs": [
    {
     "name": "stdout",
     "output_type": "stream",
     "text": [
      "length of list of unique brand name :  8052\n",
      "df_brd ⬇\n"
     ]
    },
    {
     "data": {
      "text/html": [
       "<div>\n",
       "<style scoped>\n",
       "    .dataframe tbody tr th:only-of-type {\n",
       "        vertical-align: middle;\n",
       "    }\n",
       "\n",
       "    .dataframe tbody tr th {\n",
       "        vertical-align: top;\n",
       "    }\n",
       "\n",
       "    .dataframe thead th {\n",
       "        text-align: right;\n",
       "    }\n",
       "</style>\n",
       "<table border=\"1\" class=\"dataframe\">\n",
       "  <thead>\n",
       "    <tr style=\"text-align: right;\">\n",
       "      <th></th>\n",
       "      <th>brand_code</th>\n",
       "      <th>brand_name</th>\n",
       "      <th>category</th>\n",
       "    </tr>\n",
       "  </thead>\n",
       "  <tbody>\n",
       "    <tr>\n",
       "      <th>0</th>\n",
       "      <td>https://www.glowpick.com/brands/8016</td>\n",
       "      <td>가가알로에</td>\n",
       "      <td>['스킨케어']</td>\n",
       "    </tr>\n",
       "    <tr>\n",
       "      <th>1</th>\n",
       "      <td>https://www.glowpick.com/brands/1265</td>\n",
       "      <td>가그린</td>\n",
       "      <td>['생활용품']</td>\n",
       "    </tr>\n",
       "    <tr>\n",
       "      <th>2</th>\n",
       "      <td>https://www.glowpick.com/brands/2077</td>\n",
       "      <td>가네보</td>\n",
       "      <td>['페이스메이크업', '립메이크업', '컨투어링', '클렌징', '배쓰&amp;바디', '...</td>\n",
       "    </tr>\n",
       "  </tbody>\n",
       "</table>\n",
       "</div>"
      ],
      "text/plain": [
       "                             brand_code brand_name  \\\n",
       "0  https://www.glowpick.com/brands/8016      가가알로에   \n",
       "1  https://www.glowpick.com/brands/1265        가그린   \n",
       "2  https://www.glowpick.com/brands/2077        가네보   \n",
       "\n",
       "                                            category  \n",
       "0                                           ['스킨케어']  \n",
       "1                                           ['생활용품']  \n",
       "2  ['페이스메이크업', '립메이크업', '컨투어링', '클렌징', '배쓰&바디', '...  "
      ]
     },
     "execution_count": 103,
     "metadata": {},
     "output_type": "execute_result"
    }
   ],
   "source": [
    "df_brd_path = os.getcwd() + '/' + 'brd_info.csv'\n",
    "df_brd = pd.read_csv(df_brd_path)\n",
    "df_brd = df_brd.iloc[:, 1:]\n",
    "brd_names = df_brd.loc[:, 'brand_name']\n",
    "\n",
    "print(\"length of list of unique brand name : \", len(df_brd))\n",
    "print(\"df_brd ⬇\" )\n",
    "df_brd[0:3]"
   ]
  },
  {
   "cell_type": "code",
   "execution_count": 20,
   "id": "8a92805c-bcb6-4510-afa6-8669dcb7b0ee",
   "metadata": {
    "collapsed": true,
    "jupyter": {
     "outputs_hidden": true
    },
    "tags": []
   },
   "outputs": [
    {
     "name": "stdout",
     "output_type": "stream",
     "text": [
      "length of item list of v4:  75121\n",
      "df_v4 ⬇\n"
     ]
    },
    {
     "data": {
      "text/html": [
       "<div>\n",
       "<style scoped>\n",
       "    .dataframe tbody tr th:only-of-type {\n",
       "        vertical-align: middle;\n",
       "    }\n",
       "\n",
       "    .dataframe tbody tr th {\n",
       "        vertical-align: top;\n",
       "    }\n",
       "\n",
       "    .dataframe thead th {\n",
       "        text-align: right;\n",
       "    }\n",
       "</style>\n",
       "<table border=\"1\" class=\"dataframe\">\n",
       "  <thead>\n",
       "    <tr style=\"text-align: right;\">\n",
       "      <th></th>\n",
       "      <th>브랜드_link</th>\n",
       "      <th>브랜드명</th>\n",
       "      <th>브랜드_id</th>\n",
       "      <th>제품_link</th>\n",
       "      <th>제품_id</th>\n",
       "      <th>제품명</th>\n",
       "      <th>제품 용량</th>\n",
       "      <th>제품 가격</th>\n",
       "      <th>유사 제품군 랭킹(int)</th>\n",
       "      <th>유사 제품군 랭킹(text)</th>\n",
       "      <th>...</th>\n",
       "      <th>제품 성분 구성 : 중간 위험도(갯수)</th>\n",
       "      <th>제품 성분 구성 : 중간 위험도 (성분(한글))</th>\n",
       "      <th>제품 성분 구성 : 중간 위험도 (성분(영어))</th>\n",
       "      <th>제품 성분 구성 : 중간 위험도 (성분(설명))</th>\n",
       "      <th>제품 성분 구성 : 높은 위험도</th>\n",
       "      <th>제품 성분 구성 : 높은 위험도(갯수)</th>\n",
       "      <th>제품 성분 구성 : 높은 위험도 (성분(한글))</th>\n",
       "      <th>제품 성분 구성 : 높은 위험도 (성분(영어))</th>\n",
       "      <th>제품 성분 구성 : 높은 위험도 (성분(설명))</th>\n",
       "      <th>제품 카테고리</th>\n",
       "    </tr>\n",
       "  </thead>\n",
       "  <tbody>\n",
       "    <tr>\n",
       "      <th>0</th>\n",
       "      <td></td>\n",
       "      <td>0720</td>\n",
       "      <td>NaN</td>\n",
       "      <td>https://www.glowpick.com/products/89920</td>\n",
       "      <td>89920</td>\n",
       "      <td>오일크러쉬 팩트</td>\n",
       "      <td>8g</td>\n",
       "      <td>7,500원</td>\n",
       "      <td>115위</td>\n",
       "      <td>프레스드파우더</td>\n",
       "      <td>...</td>\n",
       "      <td>3개</td>\n",
       "      <td>['미네랄오일', '디메치콘;다이메티콘', '피티에프이']</td>\n",
       "      <td>['MineralOil;ParaffinumLiquidum', 'Dimethicone...</td>\n",
       "      <td>['착향제,헤어컨디셔닝제,피부보호제,피부컨디셔닝제(유연제),피부컨디셔닝제(수분차단제...</td>\n",
       "      <td>높은위험도</td>\n",
       "      <td>0개</td>\n",
       "      <td>[]</td>\n",
       "      <td>[]</td>\n",
       "      <td>[]</td>\n",
       "      <td>['페이스메이크업', '피니시파우더', '프레스드파우더']</td>\n",
       "    </tr>\n",
       "    <tr>\n",
       "      <th>1</th>\n",
       "      <td></td>\n",
       "      <td>0720</td>\n",
       "      <td>NaN</td>\n",
       "      <td>https://www.glowpick.com/products/104423</td>\n",
       "      <td>104423</td>\n",
       "      <td>봄봄 반달형 휴대용 브러시</td>\n",
       "      <td>1p</td>\n",
       "      <td>2,000원</td>\n",
       "      <td>151위</td>\n",
       "      <td>파우더브러시</td>\n",
       "      <td>...</td>\n",
       "      <td>0개</td>\n",
       "      <td>[]</td>\n",
       "      <td>[]</td>\n",
       "      <td>[]</td>\n",
       "      <td>높은위험도</td>\n",
       "      <td>0개</td>\n",
       "      <td>[]</td>\n",
       "      <td>[]</td>\n",
       "      <td>[]</td>\n",
       "      <td>['뷰티툴', '브러시', '파우더브러시']</td>\n",
       "    </tr>\n",
       "    <tr>\n",
       "      <th>2</th>\n",
       "      <td></td>\n",
       "      <td>0720</td>\n",
       "      <td>NaN</td>\n",
       "      <td>https://www.glowpick.com/products/97152</td>\n",
       "      <td>97152</td>\n",
       "      <td>[단종] 걸크러쉬 마스카라</td>\n",
       "      <td>1p</td>\n",
       "      <td>2,000원</td>\n",
       "      <td>[]</td>\n",
       "      <td>[]</td>\n",
       "      <td>...</td>\n",
       "      <td>0개</td>\n",
       "      <td>[]</td>\n",
       "      <td>[]</td>\n",
       "      <td>[]</td>\n",
       "      <td>높은위험도</td>\n",
       "      <td>0개</td>\n",
       "      <td>[]</td>\n",
       "      <td>[]</td>\n",
       "      <td>[]</td>\n",
       "      <td>['아이메이크업', '마스카라', '볼륨마스카라']</td>\n",
       "    </tr>\n",
       "  </tbody>\n",
       "</table>\n",
       "<p>3 rows × 38 columns</p>\n",
       "</div>"
      ],
      "text/plain": [
       "  브랜드_link  브랜드명  브랜드_id                                   제품_link   제품_id  \\\n",
       "0           0720     NaN   https://www.glowpick.com/products/89920   89920   \n",
       "1           0720     NaN  https://www.glowpick.com/products/104423  104423   \n",
       "2           0720     NaN   https://www.glowpick.com/products/97152   97152   \n",
       "\n",
       "              제품명 제품 용량   제품 가격 유사 제품군 랭킹(int) 유사 제품군 랭킹(text)  ...  \\\n",
       "0        오일크러쉬 팩트    8g  7,500원           115위         프레스드파우더  ...   \n",
       "1  봄봄 반달형 휴대용 브러시    1p  2,000원           151위          파우더브러시  ...   \n",
       "2  [단종] 걸크러쉬 마스카라    1p  2,000원             []              []  ...   \n",
       "\n",
       "  제품 성분 구성 : 중간 위험도(갯수)        제품 성분 구성 : 중간 위험도 (성분(한글))  \\\n",
       "0                    3개  ['미네랄오일', '디메치콘;다이메티콘', '피티에프이']   \n",
       "1                    0개                                []   \n",
       "2                    0개                                []   \n",
       "\n",
       "                          제품 성분 구성 : 중간 위험도 (성분(영어))  \\\n",
       "0  ['MineralOil;ParaffinumLiquidum', 'Dimethicone...   \n",
       "1                                                 []   \n",
       "2                                                 []   \n",
       "\n",
       "                          제품 성분 구성 : 중간 위험도 (성분(설명)) 제품 성분 구성 : 높은 위험도  \\\n",
       "0  ['착향제,헤어컨디셔닝제,피부보호제,피부컨디셔닝제(유연제),피부컨디셔닝제(수분차단제...             높은위험도   \n",
       "1                                                 []             높은위험도   \n",
       "2                                                 []             높은위험도   \n",
       "\n",
       "  제품 성분 구성 : 높은 위험도(갯수) 제품 성분 구성 : 높은 위험도 (성분(한글)) 제품 성분 구성 : 높은 위험도 (성분(영어))  \\\n",
       "0                    0개                         []                         []   \n",
       "1                    0개                         []                         []   \n",
       "2                    0개                         []                         []   \n",
       "\n",
       "  제품 성분 구성 : 높은 위험도 (성분(설명))                           제품 카테고리  \n",
       "0                         []  ['페이스메이크업', '피니시파우더', '프레스드파우더']  \n",
       "1                         []          ['뷰티툴', '브러시', '파우더브러시']  \n",
       "2                         []      ['아이메이크업', '마스카라', '볼륨마스카라']  \n",
       "\n",
       "[3 rows x 38 columns]"
      ]
     },
     "execution_count": 20,
     "metadata": {},
     "output_type": "execute_result"
    }
   ],
   "source": [
    "v4_path = os.getcwd() + '/' + 'V4_DF_ind_set.csv'\n",
    "df_v4 = pd.read_csv(v4_path)\n",
    "\n",
    "print('length of item list of v4: ', len(df_v4))\n",
    "print(\"df_v4 ⬇\" )\n",
    "df_v4[0:3]"
   ]
  },
  {
   "cell_type": "code",
   "execution_count": 10,
   "id": "bfc512d2-267d-454c-a9f8-1930e2d50647",
   "metadata": {},
   "outputs": [
    {
     "name": "stdout",
     "output_type": "stream",
     "text": [
      "lenght of unique brand name in v4:  4134\n"
     ]
    }
   ],
   "source": [
    "print('lenght of unique brand name in v4: ', len(list(set(df_v4.브랜드명))))"
   ]
  },
  {
   "cell_type": "markdown",
   "id": "31136289-211b-47fa-be38-10a2b2f426b3",
   "metadata": {},
   "source": [
    "# 브랜드별 카테고리 수집"
   ]
  },
  {
   "cell_type": "code",
   "execution_count": 20,
   "id": "2d8bc8df-3ab9-4dbe-be72-45d300454a63",
   "metadata": {
    "collapsed": true,
    "jupyter": {
     "outputs_hidden": true
    },
    "tags": []
   },
   "outputs": [
    {
     "name": "stderr",
     "output_type": "stream",
     "text": [
      "\n",
      "\n",
      "====== WebDriver manager ======\n",
      "Current google-chrome version is 93.0.4577\n",
      "Get LATEST driver version for 93.0.4577\n",
      "Driver [/Users/kimjisoo/.wdm/drivers/chromedriver/mac64/93.0.4577.63/chromedriver] found in cache\n"
     ]
    },
    {
     "name": "stdout",
     "output_type": "stream",
     "text": [
      "1 /  8052\n",
      "2 /  8052\n",
      "3 /  8052\n",
      "4 /  8052\n",
      "5 /  8052\n",
      "6 /  8052\n",
      "7 /  8052\n",
      "8 /  8052\n",
      "9 /  8052\n",
      "10 /  8052\n",
      "11 /  8052\n"
     ]
    },
    {
     "ename": "KeyboardInterrupt",
     "evalue": "",
     "output_type": "error",
     "traceback": [
      "\u001b[0;31m---------------------------------------------------------------------------\u001b[0m",
      "\u001b[0;31mKeyboardInterrupt\u001b[0m                         Traceback (most recent call last)",
      "\u001b[0;32m/var/folders/tv/sztrkqb546s2j8khvdnkrrnr0000gn/T/ipykernel_40346/1381629177.py\u001b[0m in \u001b[0;36m<module>\u001b[0;34m\u001b[0m\n\u001b[1;32m      8\u001b[0m         \u001b[0mcategory\u001b[0m \u001b[0;34m=\u001b[0m \u001b[0;34m[\u001b[0m\u001b[0;34m]\u001b[0m\u001b[0;34m\u001b[0m\u001b[0;34m\u001b[0m\u001b[0m\n\u001b[1;32m      9\u001b[0m         \u001b[0mwd\u001b[0m\u001b[0;34m.\u001b[0m\u001b[0mget\u001b[0m\u001b[0;34m(\u001b[0m\u001b[0mi\u001b[0m\u001b[0;34m)\u001b[0m\u001b[0;34m\u001b[0m\u001b[0;34m\u001b[0m\u001b[0m\n\u001b[0;32m---> 10\u001b[0;31m         \u001b[0mtime\u001b[0m\u001b[0;34m.\u001b[0m\u001b[0msleep\u001b[0m\u001b[0;34m(\u001b[0m\u001b[0;36m2\u001b[0m\u001b[0;34m)\u001b[0m\u001b[0;34m\u001b[0m\u001b[0;34m\u001b[0m\u001b[0m\n\u001b[0m\u001b[1;32m     11\u001b[0m         \u001b[0mwd\u001b[0m\u001b[0;34m.\u001b[0m\u001b[0mfind_element_by_xpath\u001b[0m\u001b[0;34m(\u001b[0m\u001b[0;34m'//*[@id=\"default-layout\"]/div/div[1]/span/div/div[2]/div[2]/button[2]'\u001b[0m\u001b[0;34m)\u001b[0m\u001b[0;34m.\u001b[0m\u001b[0mclick\u001b[0m\u001b[0;34m(\u001b[0m\u001b[0;34m)\u001b[0m\u001b[0;34m\u001b[0m\u001b[0;34m\u001b[0m\u001b[0m\n\u001b[1;32m     12\u001b[0m         \u001b[0mtime\u001b[0m\u001b[0;34m.\u001b[0m\u001b[0msleep\u001b[0m\u001b[0;34m(\u001b[0m\u001b[0;36m2\u001b[0m\u001b[0;34m)\u001b[0m\u001b[0;34m\u001b[0m\u001b[0;34m\u001b[0m\u001b[0m\n",
      "\u001b[0;31mKeyboardInterrupt\u001b[0m: "
     ]
    }
   ],
   "source": [
    "#브랜드별 카테고리 수집\n",
    "\n",
    "wd = webdriver.Chrome(ChromeDriverManager().install())\n",
    "categories = []\n",
    "idx = 0\n",
    "total = len(df_brd)\n",
    "\n",
    "for i in df_brd.loc[:, 'brand_code']:\n",
    "    try:\n",
    "        category = []\n",
    "        wd.get(i)\n",
    "        time.sleep(2)\n",
    "        wd.find_element_by_xpath('//*[@id=\"default-layout\"]/div/div[1]/span/div/div[2]/div[2]/button[2]').click()\n",
    "        time.sleep(2)\n",
    "\n",
    "        html = wd.page_source\n",
    "        soup = soup = BeautifulSoup(html,\"html.parser\")\n",
    "\n",
    "        for i in range(len(soup.findAll('div', {'class':'selector__item__div'}))):\n",
    "            category_name = soup.select('.selector__item__div')[i].get_text().strip()\n",
    "            category.append(category_name)\n",
    "        category.pop(0) #'전체' 카테고리 제외\n",
    "        categories.append(category)\n",
    "        idx += 1\n",
    "        print(idx, '/ ',total)\n",
    "        \n",
    "\n",
    "    except Exception as e:\n",
    "        print(idx, '번 오류 : ', e)\n",
    "        categories.append([])\n",
    "        error.append(idx)\n",
    "        idx += 1\n",
    "        pass"
   ]
  },
  {
   "cell_type": "markdown",
   "id": "3d4265ea-f454-4c5f-8d53-7b6d88ac2b15",
   "metadata": {},
   "source": [
    "# 브랜드별 제품 link, name 수집"
   ]
  },
  {
   "cell_type": "code",
   "execution_count": 89,
   "id": "4be3c48c-e796-462d-ac5f-5dfaa548ee26",
   "metadata": {},
   "outputs": [],
   "source": [
    "dict_prd_link = {}\n",
    "dict_prd_name = defaultdict(list)\n",
    "no_such_element_exception = []\n",
    "unknown_exception = []"
   ]
  },
  {
   "cell_type": "code",
   "execution_count": 123,
   "id": "bff57f18-4820-44f0-9165-7df7de523b78",
   "metadata": {},
   "outputs": [],
   "source": [
    "def scrap_product_link(brd_name):\n",
    "    \n",
    "    try: \n",
    "        options = Options()\n",
    "        ua = UserAgent()\n",
    "        userAgent = ua.random\n",
    "        print(userAgent)\n",
    "\n",
    "        options.add_argument('headless')\n",
    "        options.add_argument('window-size=1920x1080')\n",
    "        options.add_argument(\"disable-gpu\")\n",
    "        options.add_argument(f'user-agent={userAgent}')\n",
    "        wd = webdriver.Chrome(ChromeDriverManager().install(), chrome_options=options)\n",
    "\n",
    "        socket.setdefaulttimeout(30)\n",
    "\n",
    "        url = 'https:/www.glowpick.com/searches/keywords'\n",
    "        wd.get(url)\n",
    "        time.sleep(5)\n",
    "\n",
    "        wd.find_element_by_xpath(\"//*[@id='default-layout']/div/div[1]/span/div/div[2]/div[2]/button[2]\").click()\n",
    "        wd.maximize_window()\n",
    "        time.sleep(3)\n",
    "\n",
    "        brd_input = wd.find_element_by_xpath(\"//*[@id='default-layout']/div/div[2]/div/div/div/input\")\n",
    "        brd_input.send_keys(brd_name)\n",
    "        brd_input.send_keys(Keys.ENTER)\n",
    "        time.sleep(3)\n",
    "\n",
    "        def parsing_html_with_class(parsing_info = '.products'):\n",
    "            html = wd.page_source\n",
    "            soup = soup = BeautifulSoup(html, \"html.parser\")\n",
    "            interm_r = soup.select(parsing_info)\n",
    "            return interm_r\n",
    "\n",
    "        try:\n",
    "            while True:\n",
    "                prd_link = []\n",
    "                prd_name = []\n",
    "\n",
    "                product_lst = parsing_html_with_class()\n",
    "                product_len = len(re.findall('<div class=\"products__product product\" (.*?)', str(product_lst[0])))\n",
    "                \n",
    "                #while wd.find_elements_by_class_name('details__brand')[product_len].text[:len(brd_name)] == brd_name:\n",
    "\n",
    "                element = wd.find_element_by_xpath('/html/body/div/div/div/div/main/div/section/div[2]/div/div[1]/span/div[{}]'.format(product_len - 1))\n",
    "                wd.execute_script(\"arguments[0].scrollIntoView(true);\", element)\n",
    "                time.sleep(2)\n",
    "\n",
    "                product_lst_2 = parsing_html_with_class()\n",
    "\n",
    "                if product_lst == product_lst_2:\n",
    "                    for i in range(product_len):\n",
    "                        if (re.sub(r'\\([^)]*\\)', '', wd.find_elements_by_class_name('details__brand')[i].text).strip()) == brd_name:\n",
    "                            code = re.findall('<div class=\"products__product product\" (.*?)id=\"(.*?)\">', str(product_lst[0]))[i][1].split('-')[-1]\n",
    "                            link = 'https://www.glowpick.com/products/' + code\n",
    "                            prd_link.append(link)\n",
    "                            dict_prd_name[brd_name].append(wd.find_elements_by_class_name('details__product')[i].text)\n",
    "                    dict_prd_link[brd_name] = prd_link\n",
    "                    break\n",
    "\n",
    "        except NoSuchElementException:\n",
    "            for i in range(product_len):\n",
    "                if (re.sub(r'\\([^)]*\\)', '', wd.find_elements_by_class_name('details__brand')[i].text).strip()) == brd_name:\n",
    "                    code = re.findall('<div class=\"products__product product\" (.*?)id=\"(.*?)\">', str(product_lst[0]))[i][1].split('-')[-1]\n",
    "                    link = 'https://www.glowpick.com/products/' + code\n",
    "                    prd_link.append(link)\n",
    "                    dict_prd_name[brd_name].append(wd.find_elements_by_class_name('details__product')[i].text)\n",
    "            dict_prd_link[brd_name] = prd_link\n",
    "        \n",
    "    except NoSuchElementException:\n",
    "        no_such_element_exception.append(brd_name)\n",
    "        print(\"brand name: {}\".format(brd_name), \"NoSuchElementException\")\n",
    "        pass\n",
    "\n",
    "    except Exception as e:\n",
    "        unknown_exception.append(brd_name)\n",
    "        print(\"brand name: {}\".format(brd_name), e)\n",
    "        pass\n",
    "    "
   ]
  },
  {
   "cell_type": "code",
   "execution_count": 125,
   "id": "b4ca6a73-eb01-4b63-8505-a9205b01696f",
   "metadata": {
    "collapsed": true,
    "jupyter": {
     "outputs_hidden": true
    },
    "tags": []
   },
   "outputs": [
    {
     "data": {
      "application/vnd.jupyter.widget-view+json": {
       "model_id": "596b1906f58340e798f6a3a8a2edb091",
       "version_major": 2,
       "version_minor": 0
      },
      "text/plain": [
       "  0%|          | 0/200 [00:00<?, ?it/s]"
      ]
     },
     "metadata": {},
     "output_type": "display_data"
    },
    {
     "name": "stderr",
     "output_type": "stream",
     "text": [
      "\n",
      "\n",
      "====== WebDriver manager ======\n"
     ]
    },
    {
     "name": "stdout",
     "output_type": "stream",
     "text": [
      "Mozilla/5.0 (Windows NT 6.1; WOW64) AppleWebKit/537.36 (KHTML, like Gecko) Chrome/41.0.2227.0 Safari/537.36\n"
     ]
    },
    {
     "name": "stderr",
     "output_type": "stream",
     "text": [
      "Current google-chrome version is 93.0.4577\n",
      "Get LATEST driver version for 93.0.4577\n",
      "Driver [C:\\Users\\keunb\\.wdm\\drivers\\chromedriver\\win32\\93.0.4577.63\\chromedriver.exe] found in cache\n",
      "\n",
      "\n",
      "====== WebDriver manager ======\n"
     ]
    },
    {
     "name": "stdout",
     "output_type": "stream",
     "text": [
      "Mozilla/5.0 (Windows NT 6.1; WOW64) AppleWebKit/537.36 (KHTML, like Gecko) Chrome/41.0.2227.0 Safari/537.36\n"
     ]
    },
    {
     "name": "stderr",
     "output_type": "stream",
     "text": [
      "Current google-chrome version is 93.0.4577\n",
      "Get LATEST driver version for 93.0.4577\n",
      "Driver [C:\\Users\\keunb\\.wdm\\drivers\\chromedriver\\win32\\93.0.4577.63\\chromedriver.exe] found in cache\n",
      "\n",
      "\n",
      "====== WebDriver manager ======\n"
     ]
    },
    {
     "name": "stdout",
     "output_type": "stream",
     "text": [
      "Mozilla/5.0 (compatible; MSIE 10.0; Windows NT 6.1; Trident/6.0)\n"
     ]
    },
    {
     "name": "stderr",
     "output_type": "stream",
     "text": [
      "Current google-chrome version is 93.0.4577\n",
      "Get LATEST driver version for 93.0.4577\n",
      "Driver [C:\\Users\\keunb\\.wdm\\drivers\\chromedriver\\win32\\93.0.4577.63\\chromedriver.exe] found in cache\n",
      "\n",
      "\n",
      "====== WebDriver manager ======\n",
      "Current google-chrome version is 93.0.4577\n"
     ]
    },
    {
     "name": "stdout",
     "output_type": "stream",
     "text": [
      "Mozilla/5.0 (X11; Linux x86_64; rv:28.0) Gecko/20100101  Firefox/28.0\n"
     ]
    },
    {
     "name": "stderr",
     "output_type": "stream",
     "text": [
      "Get LATEST driver version for 93.0.4577\n",
      "Driver [C:\\Users\\keunb\\.wdm\\drivers\\chromedriver\\win32\\93.0.4577.63\\chromedriver.exe] found in cache\n",
      "\n",
      "\n",
      "====== WebDriver manager ======\n",
      "Current google-chrome version is 93.0.4577\n",
      "Get LATEST driver version for 93.0.4577\n"
     ]
    },
    {
     "name": "stdout",
     "output_type": "stream",
     "text": [
      "Mozilla/5.0 (Macintosh; Intel Mac OS X 10_9_2) AppleWebKit/537.36 (KHTML, like Gecko) Chrome/36.0.1944.0 Safari/537.36\n"
     ]
    },
    {
     "name": "stderr",
     "output_type": "stream",
     "text": [
      "Driver [C:\\Users\\keunb\\.wdm\\drivers\\chromedriver\\win32\\93.0.4577.63\\chromedriver.exe] found in cache\n",
      "\n",
      "\n",
      "====== WebDriver manager ======\n"
     ]
    },
    {
     "name": "stdout",
     "output_type": "stream",
     "text": [
      "Mozilla/5.0 (Windows NT 5.1) AppleWebKit/537.36 (KHTML, like Gecko) Chrome/34.0.1866.237 Safari/537.36\n"
     ]
    },
    {
     "name": "stderr",
     "output_type": "stream",
     "text": [
      "Current google-chrome version is 93.0.4577\n",
      "Get LATEST driver version for 93.0.4577\n",
      "Driver [C:\\Users\\keunb\\.wdm\\drivers\\chromedriver\\win32\\93.0.4577.63\\chromedriver.exe] found in cache\n",
      "\n",
      "\n",
      "====== WebDriver manager ======\n",
      "Current google-chrome version is 93.0.4577\n"
     ]
    },
    {
     "name": "stdout",
     "output_type": "stream",
     "text": [
      "Mozilla/5.0 (Windows NT 5.1) AppleWebKit/537.36 (KHTML, like Gecko) Chrome/36.0.1985.67 Safari/537.36\n"
     ]
    },
    {
     "name": "stderr",
     "output_type": "stream",
     "text": [
      "Get LATEST driver version for 93.0.4577\n",
      "Driver [C:\\Users\\keunb\\.wdm\\drivers\\chromedriver\\win32\\93.0.4577.63\\chromedriver.exe] found in cache\n",
      "\n",
      "\n",
      "====== WebDriver manager ======\n"
     ]
    },
    {
     "name": "stdout",
     "output_type": "stream",
     "text": [
      "Mozilla/5.0 (Windows NT 6.2) AppleWebKit/537.36 (KHTML, like Gecko) Chrome/28.0.1467.0 Safari/537.36\n"
     ]
    },
    {
     "name": "stderr",
     "output_type": "stream",
     "text": [
      "Current google-chrome version is 93.0.4577\n",
      "Get LATEST driver version for 93.0.4577\n",
      "Driver [C:\\Users\\keunb\\.wdm\\drivers\\chromedriver\\win32\\93.0.4577.63\\chromedriver.exe] found in cache\n",
      "\n",
      "\n",
      "====== WebDriver manager ======\n",
      "Current google-chrome version is 93.0.4577\n"
     ]
    },
    {
     "name": "stdout",
     "output_type": "stream",
     "text": [
      "Mozilla/5.0 (Macintosh; Intel Mac OS X 10_8_3) AppleWebKit/537.36 (KHTML, like Gecko) Chrome/27.0.1453.93 Safari/537.36\n"
     ]
    },
    {
     "name": "stderr",
     "output_type": "stream",
     "text": [
      "Get LATEST driver version for 93.0.4577\n",
      "Driver [C:\\Users\\keunb\\.wdm\\drivers\\chromedriver\\win32\\93.0.4577.63\\chromedriver.exe] found in cache\n",
      "\n",
      "\n",
      "====== WebDriver manager ======\n",
      "Current google-chrome version is 93.0.4577\n"
     ]
    },
    {
     "name": "stdout",
     "output_type": "stream",
     "text": [
      "Mozilla/5.0 (Macintosh; Intel Mac OS X 10_9_0) AppleWebKit/537.36 (KHTML, like Gecko) Chrome/32.0.1664.3 Safari/537.36\n"
     ]
    },
    {
     "name": "stderr",
     "output_type": "stream",
     "text": [
      "Get LATEST driver version for 93.0.4577\n",
      "Driver [C:\\Users\\keunb\\.wdm\\drivers\\chromedriver\\win32\\93.0.4577.63\\chromedriver.exe] found in cache\n",
      "\n",
      "\n",
      "====== WebDriver manager ======\n",
      "Current google-chrome version is 93.0.4577\n"
     ]
    },
    {
     "name": "stdout",
     "output_type": "stream",
     "text": [
      "Mozilla/5.0 (Windows NT 6.1; WOW64) AppleWebKit/537.17 (KHTML, like Gecko) Chrome/24.0.1312.60 Safari/537.17\n"
     ]
    },
    {
     "name": "stderr",
     "output_type": "stream",
     "text": [
      "Get LATEST driver version for 93.0.4577\n",
      "Driver [C:\\Users\\keunb\\.wdm\\drivers\\chromedriver\\win32\\93.0.4577.63\\chromedriver.exe] found in cache\n",
      "\n",
      "\n",
      "====== WebDriver manager ======\n"
     ]
    },
    {
     "name": "stdout",
     "output_type": "stream",
     "text": [
      "Mozilla/5.0 (Macintosh; Intel Mac OS X 10_9_3) AppleWebKit/537.36 (KHTML, like Gecko) Chrome/35.0.1916.47 Safari/537.36\n"
     ]
    },
    {
     "name": "stderr",
     "output_type": "stream",
     "text": [
      "Current google-chrome version is 93.0.4577\n",
      "Get LATEST driver version for 93.0.4577\n",
      "Driver [C:\\Users\\keunb\\.wdm\\drivers\\chromedriver\\win32\\93.0.4577.63\\chromedriver.exe] found in cache\n",
      "\n",
      "\n",
      "====== WebDriver manager ======\n"
     ]
    },
    {
     "name": "stdout",
     "output_type": "stream",
     "text": [
      "Mozilla/5.0 (Windows NT 6.2; WOW64) AppleWebKit/537.36 (KHTML, like Gecko) Chrome/30.0.1599.17 Safari/537.36\n"
     ]
    },
    {
     "name": "stderr",
     "output_type": "stream",
     "text": [
      "Current google-chrome version is 93.0.4577\n",
      "Get LATEST driver version for 93.0.4577\n",
      "Driver [C:\\Users\\keunb\\.wdm\\drivers\\chromedriver\\win32\\93.0.4577.63\\chromedriver.exe] found in cache\n",
      "\n",
      "\n",
      "====== WebDriver manager ======\n",
      "Current google-chrome version is 93.0.4577\n"
     ]
    },
    {
     "name": "stdout",
     "output_type": "stream",
     "text": [
      "Mozilla/5.0 (Windows NT 5.1) AppleWebKit/537.36 (KHTML, like Gecko) Chrome/34.0.1866.237 Safari/537.36\n"
     ]
    },
    {
     "name": "stderr",
     "output_type": "stream",
     "text": [
      "Get LATEST driver version for 93.0.4577\n",
      "Driver [C:\\Users\\keunb\\.wdm\\drivers\\chromedriver\\win32\\93.0.4577.63\\chromedriver.exe] found in cache\n",
      "\n",
      "\n",
      "====== WebDriver manager ======\n"
     ]
    },
    {
     "name": "stdout",
     "output_type": "stream",
     "text": [
      "Mozilla/5.0 (X11; OpenBSD i386) AppleWebKit/537.36 (KHTML, like Gecko) Chrome/36.0.1985.125 Safari/537.36\n"
     ]
    },
    {
     "name": "stderr",
     "output_type": "stream",
     "text": [
      "Current google-chrome version is 93.0.4577\n",
      "Get LATEST driver version for 93.0.4577\n",
      "Driver [C:\\Users\\keunb\\.wdm\\drivers\\chromedriver\\win32\\93.0.4577.63\\chromedriver.exe] found in cache\n",
      "\n",
      "\n",
      "====== WebDriver manager ======\n",
      "Current google-chrome version is 93.0.4577\n"
     ]
    },
    {
     "name": "stdout",
     "output_type": "stream",
     "text": [
      "Mozilla/5.0 (Windows NT 5.1) AppleWebKit/537.36 (KHTML, like Gecko) Chrome/36.0.1985.67 Safari/537.36\n"
     ]
    },
    {
     "name": "stderr",
     "output_type": "stream",
     "text": [
      "Get LATEST driver version for 93.0.4577\n",
      "Driver [C:\\Users\\keunb\\.wdm\\drivers\\chromedriver\\win32\\93.0.4577.63\\chromedriver.exe] found in cache\n",
      "\n",
      "\n",
      "====== WebDriver manager ======\n"
     ]
    },
    {
     "name": "stdout",
     "output_type": "stream",
     "text": [
      "Mozilla/5.0 (Windows NT 6.3; WOW64) AppleWebKit/537.36 (KHTML, like Gecko) Chrome/41.0.2226.0 Safari/537.36\n"
     ]
    },
    {
     "name": "stderr",
     "output_type": "stream",
     "text": [
      "Current google-chrome version is 93.0.4577\n",
      "Get LATEST driver version for 93.0.4577\n",
      "Driver [C:\\Users\\keunb\\.wdm\\drivers\\chromedriver\\win32\\93.0.4577.63\\chromedriver.exe] found in cache\n",
      "\n",
      "\n",
      "====== WebDriver manager ======\n",
      "Current google-chrome version is 93.0.4577\n",
      "Get LATEST driver version for 93.0.4577\n"
     ]
    },
    {
     "name": "stdout",
     "output_type": "stream",
     "text": [
      "Mozilla/5.0 (Windows NT 6.2; WOW64) AppleWebKit/537.36 (KHTML, like Gecko) Chrome/29.0.1547.2 Safari/537.36\n"
     ]
    },
    {
     "name": "stderr",
     "output_type": "stream",
     "text": [
      "Driver [C:\\Users\\keunb\\.wdm\\drivers\\chromedriver\\win32\\93.0.4577.63\\chromedriver.exe] found in cache\n",
      "\n",
      "\n",
      "====== WebDriver manager ======\n"
     ]
    },
    {
     "name": "stdout",
     "output_type": "stream",
     "text": [
      "Mozilla/5.0 (Macintosh; Intel Mac OS X 10_8_3) AppleWebKit/537.36 (KHTML, like Gecko) Chrome/27.0.1453.93 Safari/537.36\n"
     ]
    },
    {
     "name": "stderr",
     "output_type": "stream",
     "text": [
      "Current google-chrome version is 93.0.4577\n",
      "Get LATEST driver version for 93.0.4577\n",
      "Driver [C:\\Users\\keunb\\.wdm\\drivers\\chromedriver\\win32\\93.0.4577.63\\chromedriver.exe] found in cache\n",
      "\n",
      "\n",
      "====== WebDriver manager ======\n"
     ]
    },
    {
     "name": "stdout",
     "output_type": "stream",
     "text": [
      "Mozilla/5.0 (Macintosh; Intel Mac OS X 10_9_0) AppleWebKit/537.36 (KHTML, like Gecko) Chrome/32.0.1664.3 Safari/537.36\n"
     ]
    },
    {
     "name": "stderr",
     "output_type": "stream",
     "text": [
      "Current google-chrome version is 93.0.4577\n",
      "Get LATEST driver version for 93.0.4577\n",
      "Driver [C:\\Users\\keunb\\.wdm\\drivers\\chromedriver\\win32\\93.0.4577.63\\chromedriver.exe] found in cache\n",
      "\n",
      "\n",
      "====== WebDriver manager ======\n"
     ]
    },
    {
     "name": "stdout",
     "output_type": "stream",
     "text": [
      "Mozilla/5.0 (X11; Linux x86_64) AppleWebKit/537.36 (KHTML, like Gecko) Chrome/34.0.1847.137 Safari/4E423F\n"
     ]
    },
    {
     "name": "stderr",
     "output_type": "stream",
     "text": [
      "Current google-chrome version is 93.0.4577\n",
      "Get LATEST driver version for 93.0.4577\n",
      "Driver [C:\\Users\\keunb\\.wdm\\drivers\\chromedriver\\win32\\93.0.4577.63\\chromedriver.exe] found in cache\n",
      "\n",
      "\n",
      "====== WebDriver manager ======\n"
     ]
    },
    {
     "name": "stdout",
     "output_type": "stream",
     "text": [
      "Mozilla/5.0 (Windows NT 5.1) AppleWebKit/537.36 (KHTML, like Gecko) Chrome/35.0.2117.157 Safari/537.36\n"
     ]
    },
    {
     "name": "stderr",
     "output_type": "stream",
     "text": [
      "Current google-chrome version is 93.0.4577\n",
      "Get LATEST driver version for 93.0.4577\n",
      "Driver [C:\\Users\\keunb\\.wdm\\drivers\\chromedriver\\win32\\93.0.4577.63\\chromedriver.exe] found in cache\n",
      "\n",
      "\n",
      "====== WebDriver manager ======\n"
     ]
    },
    {
     "name": "stdout",
     "output_type": "stream",
     "text": [
      "Mozilla/5.0 (Windows NT 6.1; WOW64) AppleWebKit/537.36 (KHTML, like Gecko) Chrome/29.0.1547.62 Safari/537.36\n"
     ]
    },
    {
     "name": "stderr",
     "output_type": "stream",
     "text": [
      "Current google-chrome version is 93.0.4577\n",
      "Get LATEST driver version for 93.0.4577\n",
      "Driver [C:\\Users\\keunb\\.wdm\\drivers\\chromedriver\\win32\\93.0.4577.63\\chromedriver.exe] found in cache\n",
      "\n",
      "\n",
      "====== WebDriver manager ======\n",
      "Current google-chrome version is 93.0.4577\n"
     ]
    },
    {
     "name": "stdout",
     "output_type": "stream",
     "text": [
      "Mozilla/5.0 (Windows NT 6.3; WOW64) AppleWebKit/537.36 (KHTML, like Gecko) Chrome/41.0.2225.0 Safari/537.36\n"
     ]
    },
    {
     "name": "stderr",
     "output_type": "stream",
     "text": [
      "Get LATEST driver version for 93.0.4577\n",
      "Driver [C:\\Users\\keunb\\.wdm\\drivers\\chromedriver\\win32\\93.0.4577.63\\chromedriver.exe] found in cache\n",
      "\n",
      "\n",
      "====== WebDriver manager ======\n",
      "Current google-chrome version is 93.0.4577\n"
     ]
    },
    {
     "name": "stdout",
     "output_type": "stream",
     "text": [
      "Mozilla/5.0 (Windows NT 6.1) AppleWebKit/537.36 (KHTML, like Gecko) Chrome/27.0.1453.93 Safari/537.36\n"
     ]
    },
    {
     "name": "stderr",
     "output_type": "stream",
     "text": [
      "Get LATEST driver version for 93.0.4577\n",
      "Driver [C:\\Users\\keunb\\.wdm\\drivers\\chromedriver\\win32\\93.0.4577.63\\chromedriver.exe] found in cache\n",
      "\n",
      "\n",
      "====== WebDriver manager ======\n",
      "Current google-chrome version is 93.0.4577\n"
     ]
    },
    {
     "name": "stdout",
     "output_type": "stream",
     "text": [
      "Mozilla/5.0 (Windows NT 5.1) AppleWebKit/537.36 (KHTML, like Gecko) Chrome/31.0.1650.16 Safari/537.36\n"
     ]
    },
    {
     "name": "stderr",
     "output_type": "stream",
     "text": [
      "Get LATEST driver version for 93.0.4577\n",
      "Driver [C:\\Users\\keunb\\.wdm\\drivers\\chromedriver\\win32\\93.0.4577.63\\chromedriver.exe] found in cache\n",
      "\n",
      "\n",
      "====== WebDriver manager ======\n"
     ]
    },
    {
     "name": "stdout",
     "output_type": "stream",
     "text": [
      "Mozilla/5.0 (Windows NT 6.1; WOW64) AppleWebKit/537.17 (KHTML, like Gecko) Chrome/24.0.1312.60 Safari/537.17\n"
     ]
    },
    {
     "name": "stderr",
     "output_type": "stream",
     "text": [
      "Current google-chrome version is 93.0.4577\n",
      "Get LATEST driver version for 93.0.4577\n",
      "Driver [C:\\Users\\keunb\\.wdm\\drivers\\chromedriver\\win32\\93.0.4577.63\\chromedriver.exe] found in cache\n",
      "\n",
      "\n",
      "====== WebDriver manager ======\n",
      "Current google-chrome version is 93.0.4577\n"
     ]
    },
    {
     "name": "stdout",
     "output_type": "stream",
     "text": [
      "Mozilla/5.0 (Windows NT 6.2; WOW64) AppleWebKit/537.15 (KHTML, like Gecko) Chrome/24.0.1295.0 Safari/537.15\n"
     ]
    },
    {
     "name": "stderr",
     "output_type": "stream",
     "text": [
      "Get LATEST driver version for 93.0.4577\n",
      "Driver [C:\\Users\\keunb\\.wdm\\drivers\\chromedriver\\win32\\93.0.4577.63\\chromedriver.exe] found in cache\n",
      "\n",
      "\n",
      "====== WebDriver manager ======\n"
     ]
    },
    {
     "name": "stdout",
     "output_type": "stream",
     "text": [
      "Mozilla/5.0 (Windows NT 5.1) AppleWebKit/537.36 (KHTML, like Gecko) Chrome/36.0.1985.67 Safari/537.36\n"
     ]
    },
    {
     "name": "stderr",
     "output_type": "stream",
     "text": [
      "Current google-chrome version is 93.0.4577\n",
      "Get LATEST driver version for 93.0.4577\n",
      "Driver [C:\\Users\\keunb\\.wdm\\drivers\\chromedriver\\win32\\93.0.4577.63\\chromedriver.exe] found in cache\n",
      "\n",
      "\n",
      "====== WebDriver manager ======\n"
     ]
    },
    {
     "name": "stdout",
     "output_type": "stream",
     "text": [
      "Mozilla/5.0 (Windows NT 6.1) AppleWebKit/537.36 (KHTML, like Gecko) Chrome/28.0.1468.0 Safari/537.36\n"
     ]
    },
    {
     "name": "stderr",
     "output_type": "stream",
     "text": [
      "Current google-chrome version is 93.0.4577\n",
      "Get LATEST driver version for 93.0.4577\n",
      "Driver [C:\\Users\\keunb\\.wdm\\drivers\\chromedriver\\win32\\93.0.4577.63\\chromedriver.exe] found in cache\n",
      "\n",
      "\n",
      "====== WebDriver manager ======\n"
     ]
    },
    {
     "name": "stdout",
     "output_type": "stream",
     "text": [
      "Mozilla/5.0 (Windows; U; Windows NT 6.1; ja-JP) AppleWebKit/533.20.25 (KHTML, like Gecko) Version/5.0.3 Safari/533.19.4\n"
     ]
    },
    {
     "name": "stderr",
     "output_type": "stream",
     "text": [
      "Current google-chrome version is 93.0.4577\n",
      "Get LATEST driver version for 93.0.4577\n",
      "Driver [C:\\Users\\keunb\\.wdm\\drivers\\chromedriver\\win32\\93.0.4577.63\\chromedriver.exe] found in cache\n",
      "\n",
      "\n",
      "====== WebDriver manager ======\n"
     ]
    },
    {
     "name": "stdout",
     "output_type": "stream",
     "text": [
      "Mozilla/5.0 (Windows NT 6.1) AppleWebKit/537.36 (KHTML, like Gecko) Chrome/41.0.2228.0 Safari/537.36\n"
     ]
    },
    {
     "name": "stderr",
     "output_type": "stream",
     "text": [
      "Current google-chrome version is 93.0.4577\n",
      "Get LATEST driver version for 93.0.4577\n",
      "Driver [C:\\Users\\keunb\\.wdm\\drivers\\chromedriver\\win32\\93.0.4577.63\\chromedriver.exe] found in cache\n",
      "\n",
      "\n",
      "====== WebDriver manager ======\n"
     ]
    },
    {
     "name": "stdout",
     "output_type": "stream",
     "text": [
      "Mozilla/5.0 (Windows NT 6.4; WOW64) AppleWebKit/537.36 (KHTML, like Gecko) Chrome/41.0.2225.0 Safari/537.36\n"
     ]
    },
    {
     "name": "stderr",
     "output_type": "stream",
     "text": [
      "Current google-chrome version is 93.0.4577\n",
      "Get LATEST driver version for 93.0.4577\n",
      "Driver [C:\\Users\\keunb\\.wdm\\drivers\\chromedriver\\win32\\93.0.4577.63\\chromedriver.exe] found in cache\n",
      "\n",
      "\n",
      "====== WebDriver manager ======\n",
      "Current google-chrome version is 93.0.4577\n"
     ]
    },
    {
     "name": "stdout",
     "output_type": "stream",
     "text": [
      "Mozilla/5.0 (Windows NT 5.1; rv:21.0) Gecko/20130401 Firefox/21.0\n"
     ]
    },
    {
     "name": "stderr",
     "output_type": "stream",
     "text": [
      "Get LATEST driver version for 93.0.4577\n",
      "Driver [C:\\Users\\keunb\\.wdm\\drivers\\chromedriver\\win32\\93.0.4577.63\\chromedriver.exe] found in cache\n",
      "\n",
      "\n",
      "====== WebDriver manager ======\n"
     ]
    },
    {
     "name": "stdout",
     "output_type": "stream",
     "text": [
      "Mozilla/5.0 (Windows NT 6.2; WOW64) AppleWebKit/537.14 (KHTML, like Gecko) Chrome/24.0.1292.0 Safari/537.14\n"
     ]
    },
    {
     "name": "stderr",
     "output_type": "stream",
     "text": [
      "Current google-chrome version is 93.0.4577\n",
      "Get LATEST driver version for 93.0.4577\n",
      "Driver [C:\\Users\\keunb\\.wdm\\drivers\\chromedriver\\win32\\93.0.4577.63\\chromedriver.exe] found in cache\n",
      "\n",
      "\n",
      "====== WebDriver manager ======\n"
     ]
    },
    {
     "name": "stdout",
     "output_type": "stream",
     "text": [
      "Mozilla/5.0 (Windows NT 6.1; WOW64; rv:23.0) Gecko/20130406 Firefox/23.0\n"
     ]
    },
    {
     "name": "stderr",
     "output_type": "stream",
     "text": [
      "Current google-chrome version is 93.0.4577\n",
      "Get LATEST driver version for 93.0.4577\n",
      "Driver [C:\\Users\\keunb\\.wdm\\drivers\\chromedriver\\win32\\93.0.4577.63\\chromedriver.exe] found in cache\n",
      "\n",
      "\n",
      "====== WebDriver manager ======\n"
     ]
    },
    {
     "name": "stdout",
     "output_type": "stream",
     "text": [
      "Mozilla/5.0 (Windows; U; Windows NT 6.0; hu-HU) AppleWebKit/533.19.4 (KHTML, like Gecko) Version/5.0.3 Safari/533.19.4\n"
     ]
    },
    {
     "name": "stderr",
     "output_type": "stream",
     "text": [
      "Current google-chrome version is 93.0.4577\n",
      "Get LATEST driver version for 93.0.4577\n",
      "Driver [C:\\Users\\keunb\\.wdm\\drivers\\chromedriver\\win32\\93.0.4577.63\\chromedriver.exe] found in cache\n",
      "\n",
      "\n",
      "====== WebDriver manager ======\n"
     ]
    },
    {
     "name": "stdout",
     "output_type": "stream",
     "text": [
      "Mozilla/5.0 (X11; CrOS i686 3912.101.0) AppleWebKit/537.36 (KHTML, like Gecko) Chrome/27.0.1453.116 Safari/537.36\n"
     ]
    },
    {
     "name": "stderr",
     "output_type": "stream",
     "text": [
      "Current google-chrome version is 93.0.4577\n",
      "Get LATEST driver version for 93.0.4577\n",
      "Driver [C:\\Users\\keunb\\.wdm\\drivers\\chromedriver\\win32\\93.0.4577.63\\chromedriver.exe] found in cache\n",
      "\n",
      "\n",
      "====== WebDriver manager ======\n",
      "Current google-chrome version is 93.0.4577\n"
     ]
    },
    {
     "name": "stdout",
     "output_type": "stream",
     "text": [
      "Mozilla/5.0 (X11; Linux x86_64) AppleWebKit/537.36 (KHTML, like Gecko) Chrome/41.0.2227.0 Safari/537.36\n"
     ]
    },
    {
     "name": "stderr",
     "output_type": "stream",
     "text": [
      "Get LATEST driver version for 93.0.4577\n",
      "Driver [C:\\Users\\keunb\\.wdm\\drivers\\chromedriver\\win32\\93.0.4577.63\\chromedriver.exe] found in cache\n",
      "\n",
      "\n",
      "====== WebDriver manager ======\n"
     ]
    },
    {
     "name": "stdout",
     "output_type": "stream",
     "text": [
      "Mozilla/5.0 (Windows NT 5.1) AppleWebKit/537.36 (KHTML, like Gecko) Chrome/27.0.1453.93 Safari/537.36\n"
     ]
    },
    {
     "name": "stderr",
     "output_type": "stream",
     "text": [
      "Current google-chrome version is 93.0.4577\n",
      "Get LATEST driver version for 93.0.4577\n",
      "Driver [C:\\Users\\keunb\\.wdm\\drivers\\chromedriver\\win32\\93.0.4577.63\\chromedriver.exe] found in cache\n",
      "\n",
      "\n",
      "====== WebDriver manager ======\n"
     ]
    },
    {
     "name": "stdout",
     "output_type": "stream",
     "text": [
      "Mozilla/5.0 (X11; Linux i586; rv:31.0) Gecko/20100101 Firefox/31.0\n"
     ]
    },
    {
     "name": "stderr",
     "output_type": "stream",
     "text": [
      "Current google-chrome version is 93.0.4577\n",
      "Get LATEST driver version for 93.0.4577\n",
      "Driver [C:\\Users\\keunb\\.wdm\\drivers\\chromedriver\\win32\\93.0.4577.63\\chromedriver.exe] found in cache\n",
      "\n",
      "\n",
      "====== WebDriver manager ======\n",
      "Current google-chrome version is 93.0.4577\n"
     ]
    },
    {
     "name": "stdout",
     "output_type": "stream",
     "text": [
      "Mozilla/5.0 (Macintosh; Intel Mac OS X 10_9_0) AppleWebKit/537.36 (KHTML, like Gecko) Chrome/32.0.1664.3 Safari/537.36\n"
     ]
    },
    {
     "name": "stderr",
     "output_type": "stream",
     "text": [
      "Get LATEST driver version for 93.0.4577\n",
      "Driver [C:\\Users\\keunb\\.wdm\\drivers\\chromedriver\\win32\\93.0.4577.63\\chromedriver.exe] found in cache\n",
      "\n",
      "\n",
      "====== WebDriver manager ======\n",
      "Current google-chrome version is 93.0.4577\n"
     ]
    },
    {
     "name": "stdout",
     "output_type": "stream",
     "text": [
      "Mozilla/5.0 (Windows NT 6.2; WOW64) AppleWebKit/537.36 (KHTML, like Gecko) Chrome/27.0.1453.93 Safari/537.36\n"
     ]
    },
    {
     "name": "stderr",
     "output_type": "stream",
     "text": [
      "Get LATEST driver version for 93.0.4577\n",
      "Driver [C:\\Users\\keunb\\.wdm\\drivers\\chromedriver\\win32\\93.0.4577.63\\chromedriver.exe] found in cache\n",
      "\n",
      "\n",
      "====== WebDriver manager ======\n",
      "Current google-chrome version is 93.0.4577\n",
      "Get LATEST driver version for 93.0.4577\n"
     ]
    },
    {
     "name": "stdout",
     "output_type": "stream",
     "text": [
      "Mozilla/5.0 (Windows NT 6.2; Win64; x64) AppleWebKit/537.36 (KHTML, like Gecko) Chrome/32.0.1667.0 Safari/537.36\n"
     ]
    },
    {
     "name": "stderr",
     "output_type": "stream",
     "text": [
      "Driver [C:\\Users\\keunb\\.wdm\\drivers\\chromedriver\\win32\\93.0.4577.63\\chromedriver.exe] found in cache\n",
      "\n",
      "\n",
      "====== WebDriver manager ======\n"
     ]
    },
    {
     "name": "stdout",
     "output_type": "stream",
     "text": [
      "Mozilla/5.0 (Windows NT 6.1) AppleWebKit/537.36 (KHTML, like Gecko) Chrome/27.0.1453.93 Safari/537.36\n"
     ]
    },
    {
     "name": "stderr",
     "output_type": "stream",
     "text": [
      "Current google-chrome version is 93.0.4577\n",
      "Get LATEST driver version for 93.0.4577\n",
      "Driver [C:\\Users\\keunb\\.wdm\\drivers\\chromedriver\\win32\\93.0.4577.63\\chromedriver.exe] found in cache\n",
      "\n",
      "\n",
      "====== WebDriver manager ======\n"
     ]
    },
    {
     "name": "stdout",
     "output_type": "stream",
     "text": [
      "Mozilla/5.0 (X11; CrOS i686 4319.74.0) AppleWebKit/537.36 (KHTML, like Gecko) Chrome/29.0.1547.57 Safari/537.36\n"
     ]
    },
    {
     "name": "stderr",
     "output_type": "stream",
     "text": [
      "Current google-chrome version is 93.0.4577\n",
      "Get LATEST driver version for 93.0.4577\n",
      "Driver [C:\\Users\\keunb\\.wdm\\drivers\\chromedriver\\win32\\93.0.4577.63\\chromedriver.exe] found in cache\n",
      "\n",
      "\n",
      "====== WebDriver manager ======\n",
      "Current google-chrome version is 93.0.4577\n",
      "Get LATEST driver version for 93.0.4577\n"
     ]
    },
    {
     "name": "stdout",
     "output_type": "stream",
     "text": [
      "Mozilla/5.0 (Windows NT 6.1) AppleWebKit/537.36 (KHTML, like Gecko) Chrome/27.0.1453.90 Safari/537.36\n"
     ]
    },
    {
     "name": "stderr",
     "output_type": "stream",
     "text": [
      "Driver [C:\\Users\\keunb\\.wdm\\drivers\\chromedriver\\win32\\93.0.4577.63\\chromedriver.exe] found in cache\n",
      "\n",
      "\n",
      "====== WebDriver manager ======\n"
     ]
    },
    {
     "name": "stdout",
     "output_type": "stream",
     "text": [
      "Mozilla/5.0 (Windows NT 6.2; WOW64) AppleWebKit/537.14 (KHTML, like Gecko) Chrome/24.0.1292.0 Safari/537.14\n"
     ]
    },
    {
     "name": "stderr",
     "output_type": "stream",
     "text": [
      "Current google-chrome version is 93.0.4577\n",
      "Get LATEST driver version for 93.0.4577\n",
      "Driver [C:\\Users\\keunb\\.wdm\\drivers\\chromedriver\\win32\\93.0.4577.63\\chromedriver.exe] found in cache\n",
      "\n",
      "\n",
      "====== WebDriver manager ======\n"
     ]
    },
    {
     "name": "stdout",
     "output_type": "stream",
     "text": [
      "Mozilla/5.0 (X11; CrOS i686 4319.74.0) AppleWebKit/537.36 (KHTML, like Gecko) Chrome/29.0.1547.57 Safari/537.36\n"
     ]
    },
    {
     "name": "stderr",
     "output_type": "stream",
     "text": [
      "Current google-chrome version is 93.0.4577\n",
      "Get LATEST driver version for 93.0.4577\n",
      "Driver [C:\\Users\\keunb\\.wdm\\drivers\\chromedriver\\win32\\93.0.4577.63\\chromedriver.exe] found in cache\n",
      "\n",
      "\n",
      "====== WebDriver manager ======\n"
     ]
    },
    {
     "name": "stdout",
     "output_type": "stream",
     "text": [
      "Mozilla/5.0 (compatible; MSIE 9.0; Windows NT 7.1; Trident/5.0)\n"
     ]
    },
    {
     "name": "stderr",
     "output_type": "stream",
     "text": [
      "Current google-chrome version is 93.0.4577\n",
      "Get LATEST driver version for 93.0.4577\n",
      "Driver [C:\\Users\\keunb\\.wdm\\drivers\\chromedriver\\win32\\93.0.4577.63\\chromedriver.exe] found in cache\n",
      "\n",
      "\n",
      "====== WebDriver manager ======\n"
     ]
    },
    {
     "name": "stdout",
     "output_type": "stream",
     "text": [
      "Mozilla/5.0 (Windows NT 6.1; rv:27.3) Gecko/20130101 Firefox/27.3\n"
     ]
    },
    {
     "name": "stderr",
     "output_type": "stream",
     "text": [
      "Current google-chrome version is 93.0.4577\n",
      "Get LATEST driver version for 93.0.4577\n",
      "Driver [C:\\Users\\keunb\\.wdm\\drivers\\chromedriver\\win32\\93.0.4577.63\\chromedriver.exe] found in cache\n",
      "\n",
      "\n",
      "====== WebDriver manager ======\n",
      "Current google-chrome version is 93.0.4577\n",
      "Get LATEST driver version for 93.0.4577\n"
     ]
    },
    {
     "name": "stdout",
     "output_type": "stream",
     "text": [
      "Mozilla/5.0 (X11; CrOS i686 3912.101.0) AppleWebKit/537.36 (KHTML, like Gecko) Chrome/27.0.1453.116 Safari/537.36\n"
     ]
    },
    {
     "name": "stderr",
     "output_type": "stream",
     "text": [
      "Driver [C:\\Users\\keunb\\.wdm\\drivers\\chromedriver\\win32\\93.0.4577.63\\chromedriver.exe] found in cache\n",
      "\n",
      "\n",
      "====== WebDriver manager ======\n",
      "Current google-chrome version is 93.0.4577\n",
      "Get LATEST driver version for 93.0.4577\n"
     ]
    },
    {
     "name": "stdout",
     "output_type": "stream",
     "text": [
      "Mozilla/5.0 (Windows NT 5.1) AppleWebKit/537.36 (KHTML, like Gecko) Chrome/27.0.1453.93 Safari/537.36\n"
     ]
    },
    {
     "name": "stderr",
     "output_type": "stream",
     "text": [
      "Driver [C:\\Users\\keunb\\.wdm\\drivers\\chromedriver\\win32\\93.0.4577.63\\chromedriver.exe] found in cache\n",
      "\n",
      "\n",
      "====== WebDriver manager ======\n"
     ]
    },
    {
     "name": "stdout",
     "output_type": "stream",
     "text": [
      "Mozilla/5.0 (Macintosh; Intel Mac OS X 10_9_2) AppleWebKit/537.36 (KHTML, like Gecko) Chrome/36.0.1944.0 Safari/537.36\n"
     ]
    },
    {
     "name": "stderr",
     "output_type": "stream",
     "text": [
      "Current google-chrome version is 93.0.4577\n",
      "Get LATEST driver version for 93.0.4577\n",
      "Driver [C:\\Users\\keunb\\.wdm\\drivers\\chromedriver\\win32\\93.0.4577.63\\chromedriver.exe] found in cache\n",
      "\n",
      "\n",
      "====== WebDriver manager ======\n"
     ]
    },
    {
     "name": "stdout",
     "output_type": "stream",
     "text": [
      "Opera/9.80 (Windows NT 6.1; U; pl) Presto/2.7.62 Version/11.00\n"
     ]
    },
    {
     "name": "stderr",
     "output_type": "stream",
     "text": [
      "Current google-chrome version is 93.0.4577\n",
      "Get LATEST driver version for 93.0.4577\n",
      "Driver [C:\\Users\\keunb\\.wdm\\drivers\\chromedriver\\win32\\93.0.4577.63\\chromedriver.exe] found in cache\n",
      "\n",
      "\n",
      "====== WebDriver manager ======\n"
     ]
    },
    {
     "name": "stdout",
     "output_type": "stream",
     "text": [
      "Mozilla/5.0 (X11; CrOS i686 3912.101.0) AppleWebKit/537.36 (KHTML, like Gecko) Chrome/27.0.1453.116 Safari/537.36\n"
     ]
    },
    {
     "name": "stderr",
     "output_type": "stream",
     "text": [
      "Current google-chrome version is 93.0.4577\n",
      "Get LATEST driver version for 93.0.4577\n",
      "Driver [C:\\Users\\keunb\\.wdm\\drivers\\chromedriver\\win32\\93.0.4577.63\\chromedriver.exe] found in cache\n",
      "\n",
      "\n",
      "====== WebDriver manager ======\n"
     ]
    },
    {
     "name": "stdout",
     "output_type": "stream",
     "text": [
      "Mozilla/5.0 (Microsoft Windows NT 6.2.9200.0); rv:22.0) Gecko/20130405 Firefox/22.0\n"
     ]
    },
    {
     "name": "stderr",
     "output_type": "stream",
     "text": [
      "Current google-chrome version is 93.0.4577\n",
      "Get LATEST driver version for 93.0.4577\n",
      "Driver [C:\\Users\\keunb\\.wdm\\drivers\\chromedriver\\win32\\93.0.4577.63\\chromedriver.exe] found in cache\n",
      "\n",
      "\n",
      "====== WebDriver manager ======\n"
     ]
    },
    {
     "name": "stdout",
     "output_type": "stream",
     "text": [
      "Mozilla/5.0 (Windows NT 5.1; rv:21.0) Gecko/20130331 Firefox/21.0\n"
     ]
    },
    {
     "name": "stderr",
     "output_type": "stream",
     "text": [
      "Current google-chrome version is 93.0.4577\n",
      "Get LATEST driver version for 93.0.4577\n",
      "Driver [C:\\Users\\keunb\\.wdm\\drivers\\chromedriver\\win32\\93.0.4577.63\\chromedriver.exe] found in cache\n",
      "\n",
      "\n",
      "====== WebDriver manager ======\n"
     ]
    },
    {
     "name": "stdout",
     "output_type": "stream",
     "text": [
      "Mozilla/5.0 (Windows NT 6.2; WOW64) AppleWebKit/537.36 (KHTML, like Gecko) Chrome/30.0.1599.17 Safari/537.36\n"
     ]
    },
    {
     "name": "stderr",
     "output_type": "stream",
     "text": [
      "Current google-chrome version is 93.0.4577\n",
      "Get LATEST driver version for 93.0.4577\n",
      "Driver [C:\\Users\\keunb\\.wdm\\drivers\\chromedriver\\win32\\93.0.4577.63\\chromedriver.exe] found in cache\n",
      "\n",
      "\n",
      "====== WebDriver manager ======\n",
      "Current google-chrome version is 93.0.4577\n",
      "Get LATEST driver version for 93.0.4577\n"
     ]
    },
    {
     "name": "stdout",
     "output_type": "stream",
     "text": [
      "Mozilla/5.0 (Windows NT 6.2; WOW64) AppleWebKit/537.14 (KHTML, like Gecko) Chrome/24.0.1292.0 Safari/537.14\n"
     ]
    },
    {
     "name": "stderr",
     "output_type": "stream",
     "text": [
      "Driver [C:\\Users\\keunb\\.wdm\\drivers\\chromedriver\\win32\\93.0.4577.63\\chromedriver.exe] found in cache\n",
      "\n",
      "\n",
      "====== WebDriver manager ======\n",
      "Current google-chrome version is 93.0.4577\n"
     ]
    },
    {
     "name": "stdout",
     "output_type": "stream",
     "text": [
      "Mozilla/5.0 (Macintosh; Intel Mac OS X 10_9_0) AppleWebKit/537.36 (KHTML, like Gecko) Chrome/32.0.1664.3 Safari/537.36\n"
     ]
    },
    {
     "name": "stderr",
     "output_type": "stream",
     "text": [
      "Get LATEST driver version for 93.0.4577\n",
      "Driver [C:\\Users\\keunb\\.wdm\\drivers\\chromedriver\\win32\\93.0.4577.63\\chromedriver.exe] found in cache\n",
      "\n",
      "\n",
      "====== WebDriver manager ======\n",
      "Current google-chrome version is 93.0.4577\n"
     ]
    },
    {
     "name": "stdout",
     "output_type": "stream",
     "text": [
      "Mozilla/5.0 (Windows; U; Windows NT 6.1; en-US) AppleWebKit/533.19.4 (KHTML, like Gecko) Version/5.0.2 Safari/533.18.5\n"
     ]
    },
    {
     "name": "stderr",
     "output_type": "stream",
     "text": [
      "Get LATEST driver version for 93.0.4577\n",
      "Driver [C:\\Users\\keunb\\.wdm\\drivers\\chromedriver\\win32\\93.0.4577.63\\chromedriver.exe] found in cache\n",
      "\n",
      "\n",
      "====== WebDriver manager ======\n",
      "Current google-chrome version is 93.0.4577\n",
      "Get LATEST driver version for 93.0.4577\n"
     ]
    },
    {
     "name": "stdout",
     "output_type": "stream",
     "text": [
      "Mozilla/5.0 (Windows NT 5.1) AppleWebKit/537.36 (KHTML, like Gecko) Chrome/34.0.1866.237 Safari/537.36\n"
     ]
    },
    {
     "name": "stderr",
     "output_type": "stream",
     "text": [
      "Driver [C:\\Users\\keunb\\.wdm\\drivers\\chromedriver\\win32\\93.0.4577.63\\chromedriver.exe] found in cache\n",
      "\n",
      "\n",
      "====== WebDriver manager ======\n"
     ]
    },
    {
     "name": "stdout",
     "output_type": "stream",
     "text": [
      "Mozilla/5.0 (Windows NT 5.1) AppleWebKit/537.36 (KHTML, like Gecko) Chrome/41.0.2224.3 Safari/537.36\n"
     ]
    },
    {
     "name": "stderr",
     "output_type": "stream",
     "text": [
      "Current google-chrome version is 93.0.4577\n",
      "Get LATEST driver version for 93.0.4577\n",
      "Driver [C:\\Users\\keunb\\.wdm\\drivers\\chromedriver\\win32\\93.0.4577.63\\chromedriver.exe] found in cache\n",
      "\n",
      "\n",
      "====== WebDriver manager ======\n",
      "Current google-chrome version is 93.0.4577\n"
     ]
    },
    {
     "name": "stdout",
     "output_type": "stream",
     "text": [
      "Mozilla/5.0 (Windows NT 6.1; WOW64) AppleWebKit/537.36 (KHTML, like Gecko) Chrome/27.0.1453.93 Safari/537.36\n"
     ]
    },
    {
     "name": "stderr",
     "output_type": "stream",
     "text": [
      "Get LATEST driver version for 93.0.4577\n",
      "Driver [C:\\Users\\keunb\\.wdm\\drivers\\chromedriver\\win32\\93.0.4577.63\\chromedriver.exe] found in cache\n",
      "\n",
      "\n",
      "====== WebDriver manager ======\n"
     ]
    },
    {
     "name": "stdout",
     "output_type": "stream",
     "text": [
      "Mozilla/5.0 (Macintosh; Intel Mac OS X 10_8_0) AppleWebKit/537.36 (KHTML, like Gecko) Chrome/32.0.1664.3 Safari/537.36\n"
     ]
    },
    {
     "name": "stderr",
     "output_type": "stream",
     "text": [
      "Current google-chrome version is 93.0.4577\n",
      "Get LATEST driver version for 93.0.4577\n",
      "Driver [C:\\Users\\keunb\\.wdm\\drivers\\chromedriver\\win32\\93.0.4577.63\\chromedriver.exe] found in cache\n",
      "\n",
      "\n",
      "====== WebDriver manager ======\n",
      "Current google-chrome version is 93.0.4577\n",
      "Get LATEST driver version for 93.0.4577\n"
     ]
    },
    {
     "name": "stdout",
     "output_type": "stream",
     "text": [
      "Mozilla/5.0 (Windows NT 6.1; WOW64) AppleWebKit/537.36 (KHTML, like Gecko) Chrome/29.0.1547.62 Safari/537.36\n"
     ]
    },
    {
     "name": "stderr",
     "output_type": "stream",
     "text": [
      "Driver [C:\\Users\\keunb\\.wdm\\drivers\\chromedriver\\win32\\93.0.4577.63\\chromedriver.exe] found in cache\n",
      "\n",
      "\n",
      "====== WebDriver manager ======\n",
      "Current google-chrome version is 93.0.4577\n",
      "Get LATEST driver version for 93.0.4577\n"
     ]
    },
    {
     "name": "stdout",
     "output_type": "stream",
     "text": [
      "Mozilla/5.0 (Windows NT 6.1; rv:27.3) Gecko/20130101 Firefox/27.3\n"
     ]
    },
    {
     "name": "stderr",
     "output_type": "stream",
     "text": [
      "Driver [C:\\Users\\keunb\\.wdm\\drivers\\chromedriver\\win32\\93.0.4577.63\\chromedriver.exe] found in cache\n",
      "\n",
      "\n",
      "====== WebDriver manager ======\n",
      "Current google-chrome version is 93.0.4577\n",
      "Get LATEST driver version for 93.0.4577\n"
     ]
    },
    {
     "name": "stdout",
     "output_type": "stream",
     "text": [
      "Mozilla/5.0 (Windows NT 6.2; rv:21.0) Gecko/20130326 Firefox/21.0\n"
     ]
    },
    {
     "name": "stderr",
     "output_type": "stream",
     "text": [
      "Driver [C:\\Users\\keunb\\.wdm\\drivers\\chromedriver\\win32\\93.0.4577.63\\chromedriver.exe] found in cache\n",
      "\n",
      "\n",
      "====== WebDriver manager ======\n",
      "Current google-chrome version is 93.0.4577\n",
      "Get LATEST driver version for 93.0.4577\n"
     ]
    },
    {
     "name": "stdout",
     "output_type": "stream",
     "text": [
      "Mozilla/5.0 (Windows NT 6.1; rv:21.0) Gecko/20130328 Firefox/21.0\n"
     ]
    },
    {
     "name": "stderr",
     "output_type": "stream",
     "text": [
      "Driver [C:\\Users\\keunb\\.wdm\\drivers\\chromedriver\\win32\\93.0.4577.63\\chromedriver.exe] found in cache\n",
      "\n",
      "\n",
      "====== WebDriver manager ======\n",
      "Current google-chrome version is 93.0.4577\n",
      "Get LATEST driver version for 93.0.4577\n"
     ]
    },
    {
     "name": "stdout",
     "output_type": "stream",
     "text": [
      "Mozilla/5.0 (Windows NT 6.2; WOW64) AppleWebKit/537.36 (KHTML, like Gecko) Chrome/29.0.1547.2 Safari/537.36\n"
     ]
    },
    {
     "name": "stderr",
     "output_type": "stream",
     "text": [
      "Driver [C:\\Users\\keunb\\.wdm\\drivers\\chromedriver\\win32\\93.0.4577.63\\chromedriver.exe] found in cache\n",
      "\n",
      "\n",
      "====== WebDriver manager ======\n",
      "Current google-chrome version is 93.0.4577\n",
      "Get LATEST driver version for 93.0.4577\n"
     ]
    },
    {
     "name": "stdout",
     "output_type": "stream",
     "text": [
      "Mozilla/5.0 (Macintosh; Intel Mac OS X 10_8_3) AppleWebKit/537.36 (KHTML, like Gecko) Chrome/27.0.1453.93 Safari/537.36\n"
     ]
    },
    {
     "name": "stderr",
     "output_type": "stream",
     "text": [
      "Driver [C:\\Users\\keunb\\.wdm\\drivers\\chromedriver\\win32\\93.0.4577.63\\chromedriver.exe] found in cache\n",
      "\n",
      "\n",
      "====== WebDriver manager ======\n",
      "Current google-chrome version is 93.0.4577\n",
      "Get LATEST driver version for 93.0.4577\n"
     ]
    },
    {
     "name": "stdout",
     "output_type": "stream",
     "text": [
      "Mozilla/5.0 (Windows NT 6.2) AppleWebKit/537.36 (KHTML, like Gecko) Chrome/28.0.1467.0 Safari/537.36\n"
     ]
    },
    {
     "name": "stderr",
     "output_type": "stream",
     "text": [
      "Driver [C:\\Users\\keunb\\.wdm\\drivers\\chromedriver\\win32\\93.0.4577.63\\chromedriver.exe] found in cache\n",
      "\n",
      "\n",
      "====== WebDriver manager ======\n",
      "Current google-chrome version is 93.0.4577\n",
      "Get LATEST driver version for 93.0.4577\n"
     ]
    },
    {
     "name": "stdout",
     "output_type": "stream",
     "text": [
      "Mozilla/5.0 (Macintosh; Intel Mac OS X 10_8_3) AppleWebKit/537.36 (KHTML, like Gecko) Chrome/27.0.1453.93 Safari/537.36\n"
     ]
    },
    {
     "name": "stderr",
     "output_type": "stream",
     "text": [
      "Driver [C:\\Users\\keunb\\.wdm\\drivers\\chromedriver\\win32\\93.0.4577.63\\chromedriver.exe] found in cache\n",
      "\n",
      "\n",
      "====== WebDriver manager ======\n",
      "Current google-chrome version is 93.0.4577\n",
      "Get LATEST driver version for 93.0.4577\n",
      "Driver [C:\\Users\\keunb\\.wdm\\drivers\\chromedriver\\win32\\93.0.4577.63\\chromedriver.exe] found in cache\n"
     ]
    },
    {
     "name": "stdout",
     "output_type": "stream",
     "text": [
      "Mozilla/5.0 (Macintosh; Intel Mac OS X 10_10_1) AppleWebKit/537.36 (KHTML, like Gecko) Chrome/41.0.2227.1 Safari/537.36\n"
     ]
    },
    {
     "name": "stderr",
     "output_type": "stream",
     "text": [
      "\n",
      "\n",
      "====== WebDriver manager ======\n",
      "Current google-chrome version is 93.0.4577\n",
      "Get LATEST driver version for 93.0.4577\n"
     ]
    },
    {
     "name": "stdout",
     "output_type": "stream",
     "text": [
      "Mozilla/5.0 (Windows NT 6.1; WOW64) AppleWebKit/537.36 (KHTML, like Gecko) Chrome/41.0.2227.0 Safari/537.36\n"
     ]
    },
    {
     "name": "stderr",
     "output_type": "stream",
     "text": [
      "Driver [C:\\Users\\keunb\\.wdm\\drivers\\chromedriver\\win32\\93.0.4577.63\\chromedriver.exe] found in cache\n",
      "\n",
      "\n",
      "====== WebDriver manager ======\n",
      "Current google-chrome version is 93.0.4577\n",
      "Get LATEST driver version for 93.0.4577\n",
      "Driver [C:\\Users\\keunb\\.wdm\\drivers\\chromedriver\\win32\\93.0.4577.63\\chromedriver.exe] found in cache\n"
     ]
    },
    {
     "name": "stdout",
     "output_type": "stream",
     "text": [
      "Mozilla/5.0 (Macintosh; Intel Mac OS X 10_7_5) AppleWebKit/537.36 (KHTML, like Gecko) Chrome/27.0.1453.93 Safari/537.36\n"
     ]
    },
    {
     "name": "stderr",
     "output_type": "stream",
     "text": [
      "\n",
      "\n",
      "====== WebDriver manager ======\n",
      "Current google-chrome version is 93.0.4577\n",
      "Get LATEST driver version for 93.0.4577\n",
      "Driver [C:\\Users\\keunb\\.wdm\\drivers\\chromedriver\\win32\\93.0.4577.63\\chromedriver.exe] found in cache\n"
     ]
    },
    {
     "name": "stdout",
     "output_type": "stream",
     "text": [
      "Mozilla/5.0 (Windows NT 6.1) AppleWebKit/537.36 (KHTML, like Gecko) Chrome/41.0.2228.0 Safari/537.36\n"
     ]
    },
    {
     "name": "stderr",
     "output_type": "stream",
     "text": [
      "\n",
      "\n",
      "====== WebDriver manager ======\n",
      "Current google-chrome version is 93.0.4577\n",
      "Get LATEST driver version for 93.0.4577\n",
      "Driver [C:\\Users\\keunb\\.wdm\\drivers\\chromedriver\\win32\\93.0.4577.63\\chromedriver.exe] found in cache\n"
     ]
    },
    {
     "name": "stdout",
     "output_type": "stream",
     "text": [
      "Mozilla/5.0 (X11; CrOS i686 3912.101.0) AppleWebKit/537.36 (KHTML, like Gecko) Chrome/27.0.1453.116 Safari/537.36\n"
     ]
    },
    {
     "name": "stderr",
     "output_type": "stream",
     "text": [
      "\n",
      "\n",
      "====== WebDriver manager ======\n",
      "Current google-chrome version is 93.0.4577\n",
      "Get LATEST driver version for 93.0.4577\n"
     ]
    },
    {
     "name": "stdout",
     "output_type": "stream",
     "text": [
      "Mozilla/5.0 (Windows NT 6.2; Win64; x64) AppleWebKit/537.36 (KHTML, like Gecko) Chrome/32.0.1667.0 Safari/537.36\n"
     ]
    },
    {
     "name": "stderr",
     "output_type": "stream",
     "text": [
      "Driver [C:\\Users\\keunb\\.wdm\\drivers\\chromedriver\\win32\\93.0.4577.63\\chromedriver.exe] found in cache\n",
      "\n",
      "\n",
      "====== WebDriver manager ======\n",
      "Current google-chrome version is 93.0.4577\n",
      "Get LATEST driver version for 93.0.4577\n",
      "Driver [C:\\Users\\keunb\\.wdm\\drivers\\chromedriver\\win32\\93.0.4577.63\\chromedriver.exe] found in cache\n"
     ]
    },
    {
     "name": "stdout",
     "output_type": "stream",
     "text": [
      "Mozilla/5.0 (X11; NetBSD) AppleWebKit/537.36 (KHTML, like Gecko) Chrome/27.0.1453.116 Safari/537.36\n"
     ]
    },
    {
     "name": "stderr",
     "output_type": "stream",
     "text": [
      "\n",
      "\n",
      "====== WebDriver manager ======\n",
      "Current google-chrome version is 93.0.4577\n",
      "Get LATEST driver version for 93.0.4577\n"
     ]
    },
    {
     "name": "stdout",
     "output_type": "stream",
     "text": [
      "Mozilla/5.0 (Windows NT 6.3; WOW64) AppleWebKit/537.36 (KHTML, like Gecko) Chrome/41.0.2226.0 Safari/537.36\n"
     ]
    },
    {
     "name": "stderr",
     "output_type": "stream",
     "text": [
      "Driver [C:\\Users\\keunb\\.wdm\\drivers\\chromedriver\\win32\\93.0.4577.63\\chromedriver.exe] found in cache\n",
      "\n",
      "\n",
      "====== WebDriver manager ======\n",
      "Current google-chrome version is 93.0.4577\n",
      "Get LATEST driver version for 93.0.4577\n"
     ]
    },
    {
     "name": "stdout",
     "output_type": "stream",
     "text": [
      "Mozilla/5.0 (Windows NT 5.1) AppleWebKit/537.36 (KHTML, like Gecko) Chrome/31.0.1650.16 Safari/537.36\n"
     ]
    },
    {
     "name": "stderr",
     "output_type": "stream",
     "text": [
      "Driver [C:\\Users\\keunb\\.wdm\\drivers\\chromedriver\\win32\\93.0.4577.63\\chromedriver.exe] found in cache\n",
      "\n",
      "\n",
      "====== WebDriver manager ======\n",
      "Current google-chrome version is 93.0.4577\n",
      "Get LATEST driver version for 93.0.4577\n"
     ]
    },
    {
     "name": "stdout",
     "output_type": "stream",
     "text": [
      "Mozilla/5.0 (Macintosh; Intel Mac OS X 10_10_1) AppleWebKit/537.36 (KHTML, like Gecko) Chrome/37.0.2062.124 Safari/537.36\n"
     ]
    },
    {
     "name": "stderr",
     "output_type": "stream",
     "text": [
      "Driver [C:\\Users\\keunb\\.wdm\\drivers\\chromedriver\\win32\\93.0.4577.63\\chromedriver.exe] found in cache\n",
      "\n",
      "\n",
      "====== WebDriver manager ======\n",
      "Current google-chrome version is 93.0.4577\n",
      "Get LATEST driver version for 93.0.4577\n",
      "Driver [C:\\Users\\keunb\\.wdm\\drivers\\chromedriver\\win32\\93.0.4577.63\\chromedriver.exe] found in cache\n"
     ]
    },
    {
     "name": "stdout",
     "output_type": "stream",
     "text": [
      "Mozilla/5.0 (Macintosh; U; Intel Mac OS X 10_6_7; da-dk) AppleWebKit/533.21.1 (KHTML, like Gecko) Version/5.0.5 Safari/533.21.1\n"
     ]
    },
    {
     "name": "stderr",
     "output_type": "stream",
     "text": [
      "\n",
      "\n",
      "====== WebDriver manager ======\n",
      "Current google-chrome version is 93.0.4577\n",
      "Get LATEST driver version for 93.0.4577\n"
     ]
    },
    {
     "name": "stdout",
     "output_type": "stream",
     "text": [
      "Mozilla/5.0 (Windows NT 5.1) AppleWebKit/537.36 (KHTML, like Gecko) Chrome/34.0.1847.116 Safari/537.36 Mozilla/5.0 (iPad; U; CPU OS 3_2 like Mac OS X; en-us) AppleWebKit/531.21.10 (KHTML, like Gecko) Version/4.0.4 Mobile/7B334b Safari/531.21.10\n"
     ]
    },
    {
     "name": "stderr",
     "output_type": "stream",
     "text": [
      "Driver [C:\\Users\\keunb\\.wdm\\drivers\\chromedriver\\win32\\93.0.4577.63\\chromedriver.exe] found in cache\n",
      "\n",
      "\n",
      "====== WebDriver manager ======\n",
      "Current google-chrome version is 93.0.4577\n",
      "Get LATEST driver version for 93.0.4577\n",
      "Driver [C:\\Users\\keunb\\.wdm\\drivers\\chromedriver\\win32\\93.0.4577.63\\chromedriver.exe] found in cache\n"
     ]
    },
    {
     "name": "stdout",
     "output_type": "stream",
     "text": [
      "Mozilla/5.0 (Windows NT 5.1) AppleWebKit/537.36 (KHTML, like Gecko) Chrome/34.0.1847.116 Safari/537.36 Mozilla/5.0 (iPad; U; CPU OS 3_2 like Mac OS X; en-us) AppleWebKit/531.21.10 (KHTML, like Gecko) Version/4.0.4 Mobile/7B334b Safari/531.21.10\n"
     ]
    },
    {
     "name": "stderr",
     "output_type": "stream",
     "text": [
      "\n",
      "\n",
      "====== WebDriver manager ======\n",
      "Current google-chrome version is 93.0.4577\n",
      "Get LATEST driver version for 93.0.4577\n"
     ]
    },
    {
     "name": "stdout",
     "output_type": "stream",
     "text": [
      "Mozilla/5.0 (X11; Linux x86_64; rv:28.0) Gecko/20100101  Firefox/28.0\n"
     ]
    },
    {
     "name": "stderr",
     "output_type": "stream",
     "text": [
      "Driver [C:\\Users\\keunb\\.wdm\\drivers\\chromedriver\\win32\\93.0.4577.63\\chromedriver.exe] found in cache\n",
      "\n",
      "\n",
      "====== WebDriver manager ======\n",
      "Current google-chrome version is 93.0.4577\n",
      "Get LATEST driver version for 93.0.4577\n"
     ]
    },
    {
     "name": "stdout",
     "output_type": "stream",
     "text": [
      "Mozilla/5.0 (Windows NT 6.4; WOW64) AppleWebKit/537.36 (KHTML, like Gecko) Chrome/41.0.2225.0 Safari/537.36\n"
     ]
    },
    {
     "name": "stderr",
     "output_type": "stream",
     "text": [
      "Driver [C:\\Users\\keunb\\.wdm\\drivers\\chromedriver\\win32\\93.0.4577.63\\chromedriver.exe] found in cache\n",
      "\n",
      "\n",
      "====== WebDriver manager ======\n",
      "Current google-chrome version is 93.0.4577\n",
      "Get LATEST driver version for 93.0.4577\n",
      "Driver [C:\\Users\\keunb\\.wdm\\drivers\\chromedriver\\win32\\93.0.4577.63\\chromedriver.exe] found in cache\n"
     ]
    },
    {
     "name": "stdout",
     "output_type": "stream",
     "text": [
      "Mozilla/5.0 (Windows NT 6.2; Win64; x64) AppleWebKit/537.36 (KHTML, like Gecko) Chrome/32.0.1667.0 Safari/537.36\n"
     ]
    },
    {
     "name": "stderr",
     "output_type": "stream",
     "text": [
      "\n",
      "\n",
      "====== WebDriver manager ======\n",
      "Current google-chrome version is 93.0.4577\n",
      "Get LATEST driver version for 93.0.4577\n"
     ]
    },
    {
     "name": "stdout",
     "output_type": "stream",
     "text": [
      "Mozilla/5.0 (Macintosh; Intel Mac OS X 10_9_3) AppleWebKit/537.36 (KHTML, like Gecko) Chrome/35.0.1916.47 Safari/537.36\n"
     ]
    },
    {
     "name": "stderr",
     "output_type": "stream",
     "text": [
      "Driver [C:\\Users\\keunb\\.wdm\\drivers\\chromedriver\\win32\\93.0.4577.63\\chromedriver.exe] found in cache\n",
      "\n",
      "\n",
      "====== WebDriver manager ======\n",
      "Current google-chrome version is 93.0.4577\n",
      "Get LATEST driver version for 93.0.4577\n"
     ]
    },
    {
     "name": "stdout",
     "output_type": "stream",
     "text": [
      "Opera/9.80 (Windows NT 6.1; U; zh-cn) Presto/2.7.62 Version/11.01\n"
     ]
    },
    {
     "name": "stderr",
     "output_type": "stream",
     "text": [
      "Driver [C:\\Users\\keunb\\.wdm\\drivers\\chromedriver\\win32\\93.0.4577.63\\chromedriver.exe] found in cache\n",
      "\n",
      "\n",
      "====== WebDriver manager ======\n",
      "Current google-chrome version is 93.0.4577\n",
      "Get LATEST driver version for 93.0.4577\n"
     ]
    },
    {
     "name": "stdout",
     "output_type": "stream",
     "text": [
      "Mozilla/4.0 (compatible; MSIE 8.0; Windows NT 6.1; WOW64; Trident/4.0; SLCC2; .NET CLR 2.0.50727; .NET CLR 3.5.30729; .NET CLR 3.0.30729; Media Center PC 6.0; Zune 3.0)\n"
     ]
    },
    {
     "name": "stderr",
     "output_type": "stream",
     "text": [
      "Driver [C:\\Users\\keunb\\.wdm\\drivers\\chromedriver\\win32\\93.0.4577.63\\chromedriver.exe] found in cache\n",
      "\n",
      "\n",
      "====== WebDriver manager ======\n",
      "Current google-chrome version is 93.0.4577\n",
      "Get LATEST driver version for 93.0.4577\n"
     ]
    },
    {
     "name": "stdout",
     "output_type": "stream",
     "text": [
      "Mozilla/5.0 (Windows NT 6.1; rv:21.0) Gecko/20130328 Firefox/21.0\n"
     ]
    },
    {
     "name": "stderr",
     "output_type": "stream",
     "text": [
      "Driver [C:\\Users\\keunb\\.wdm\\drivers\\chromedriver\\win32\\93.0.4577.63\\chromedriver.exe] found in cache\n",
      "\n",
      "\n",
      "====== WebDriver manager ======\n",
      "Current google-chrome version is 93.0.4577\n",
      "Get LATEST driver version for 93.0.4577\n"
     ]
    },
    {
     "name": "stdout",
     "output_type": "stream",
     "text": [
      "Mozilla/5.0 (Windows NT 6.2) AppleWebKit/537.36 (KHTML, like Gecko) Chrome/28.0.1467.0 Safari/537.36\n"
     ]
    },
    {
     "name": "stderr",
     "output_type": "stream",
     "text": [
      "Driver [C:\\Users\\keunb\\.wdm\\drivers\\chromedriver\\win32\\93.0.4577.63\\chromedriver.exe] found in cache\n",
      "\n",
      "\n",
      "====== WebDriver manager ======\n",
      "Current google-chrome version is 93.0.4577\n",
      "Get LATEST driver version for 93.0.4577\n"
     ]
    },
    {
     "name": "stdout",
     "output_type": "stream",
     "text": [
      "Mozilla/5.0 (Windows NT 6.3; Win64; x64) AppleWebKit/537.36 (KHTML, like Gecko) Chrome/37.0.2049.0 Safari/537.36\n"
     ]
    },
    {
     "name": "stderr",
     "output_type": "stream",
     "text": [
      "Driver [C:\\Users\\keunb\\.wdm\\drivers\\chromedriver\\win32\\93.0.4577.63\\chromedriver.exe] found in cache\n",
      "\n",
      "\n",
      "====== WebDriver manager ======\n",
      "Current google-chrome version is 93.0.4577\n",
      "Get LATEST driver version for 93.0.4577\n",
      "Driver [C:\\Users\\keunb\\.wdm\\drivers\\chromedriver\\win32\\93.0.4577.63\\chromedriver.exe] found in cache\n"
     ]
    },
    {
     "name": "stdout",
     "output_type": "stream",
     "text": [
      "Mozilla/5.0 (X11; Linux x86_64) AppleWebKit/537.36 (KHTML, like Gecko) Chrome/41.0.2227.0 Safari/537.36\n"
     ]
    },
    {
     "name": "stderr",
     "output_type": "stream",
     "text": [
      "\n",
      "\n",
      "====== WebDriver manager ======\n",
      "Current google-chrome version is 93.0.4577\n",
      "Get LATEST driver version for 93.0.4577\n",
      "Driver [C:\\Users\\keunb\\.wdm\\drivers\\chromedriver\\win32\\93.0.4577.63\\chromedriver.exe] found in cache\n"
     ]
    },
    {
     "name": "stdout",
     "output_type": "stream",
     "text": [
      "Mozilla/5.0 (Windows NT 6.1) AppleWebKit/537.36 (KHTML, like Gecko) Chrome/27.0.1453.93 Safari/537.36\n"
     ]
    },
    {
     "name": "stderr",
     "output_type": "stream",
     "text": [
      "\n",
      "\n",
      "====== WebDriver manager ======\n",
      "Current google-chrome version is 93.0.4577\n",
      "Get LATEST driver version for 93.0.4577\n"
     ]
    },
    {
     "name": "stdout",
     "output_type": "stream",
     "text": [
      "Mozilla/5.0 (Macintosh; Intel Mac OS X 10_9_2) AppleWebKit/537.36 (KHTML, like Gecko) Chrome/36.0.1944.0 Safari/537.36\n"
     ]
    },
    {
     "name": "stderr",
     "output_type": "stream",
     "text": [
      "Driver [C:\\Users\\keunb\\.wdm\\drivers\\chromedriver\\win32\\93.0.4577.63\\chromedriver.exe] found in cache\n",
      "\n",
      "\n",
      "====== WebDriver manager ======\n",
      "Current google-chrome version is 93.0.4577\n",
      "Get LATEST driver version for 93.0.4577\n"
     ]
    },
    {
     "name": "stdout",
     "output_type": "stream",
     "text": [
      "Mozilla/5.0 (Macintosh; Intel Mac OS X 10_10_1) AppleWebKit/537.36 (KHTML, like Gecko) Chrome/41.0.2227.1 Safari/537.36\n"
     ]
    },
    {
     "name": "stderr",
     "output_type": "stream",
     "text": [
      "Driver [C:\\Users\\keunb\\.wdm\\drivers\\chromedriver\\win32\\93.0.4577.63\\chromedriver.exe] found in cache\n",
      "\n",
      "\n",
      "====== WebDriver manager ======\n",
      "Current google-chrome version is 93.0.4577\n",
      "Get LATEST driver version for 93.0.4577\n"
     ]
    },
    {
     "name": "stdout",
     "output_type": "stream",
     "text": [
      "Mozilla/5.0 (Windows NT 6.1; WOW64) AppleWebKit/537.17 (KHTML, like Gecko) Chrome/24.0.1312.60 Safari/537.17\n"
     ]
    },
    {
     "name": "stderr",
     "output_type": "stream",
     "text": [
      "Driver [C:\\Users\\keunb\\.wdm\\drivers\\chromedriver\\win32\\93.0.4577.63\\chromedriver.exe] found in cache\n",
      "\n",
      "\n",
      "====== WebDriver manager ======\n",
      "Current google-chrome version is 93.0.4577\n",
      "Get LATEST driver version for 93.0.4577\n"
     ]
    },
    {
     "name": "stdout",
     "output_type": "stream",
     "text": [
      "Mozilla/5.0 (Windows NT 6.1; U; de; rv:1.9.1.6) Gecko/20091201 Firefox/3.5.6 Opera 11.01\n"
     ]
    },
    {
     "name": "stderr",
     "output_type": "stream",
     "text": [
      "Driver [C:\\Users\\keunb\\.wdm\\drivers\\chromedriver\\win32\\93.0.4577.63\\chromedriver.exe] found in cache\n",
      "\n",
      "\n",
      "====== WebDriver manager ======\n",
      "Current google-chrome version is 93.0.4577\n"
     ]
    },
    {
     "name": "stdout",
     "output_type": "stream",
     "text": [
      "Mozilla/5.0 (Windows NT 6.3; WOW64) AppleWebKit/537.36 (KHTML, like Gecko) Chrome/41.0.2225.0 Safari/537.36\n"
     ]
    },
    {
     "name": "stderr",
     "output_type": "stream",
     "text": [
      "Get LATEST driver version for 93.0.4577\n",
      "Driver [C:\\Users\\keunb\\.wdm\\drivers\\chromedriver\\win32\\93.0.4577.63\\chromedriver.exe] found in cache\n",
      "\n",
      "\n",
      "====== WebDriver manager ======\n"
     ]
    },
    {
     "name": "stdout",
     "output_type": "stream",
     "text": [
      "Mozilla/5.0 (Windows NT 6.1) AppleWebKit/537.36 (KHTML, like Gecko) Chrome/41.0.2228.0 Safari/537.36\n"
     ]
    },
    {
     "name": "stderr",
     "output_type": "stream",
     "text": [
      "Current google-chrome version is 93.0.4577\n",
      "Get LATEST driver version for 93.0.4577\n",
      "Driver [C:\\Users\\keunb\\.wdm\\drivers\\chromedriver\\win32\\93.0.4577.63\\chromedriver.exe] found in cache\n",
      "\n",
      "\n",
      "====== WebDriver manager ======\n"
     ]
    },
    {
     "name": "stdout",
     "output_type": "stream",
     "text": [
      "Mozilla/5.0 (Macintosh; Intel Mac OS X 10_8_2) AppleWebKit/537.17 (KHTML, like Gecko) Chrome/24.0.1309.0 Safari/537.17\n"
     ]
    },
    {
     "name": "stderr",
     "output_type": "stream",
     "text": [
      "Current google-chrome version is 93.0.4577\n",
      "Get LATEST driver version for 93.0.4577\n",
      "Driver [C:\\Users\\keunb\\.wdm\\drivers\\chromedriver\\win32\\93.0.4577.63\\chromedriver.exe] found in cache\n",
      "\n",
      "\n",
      "====== WebDriver manager ======\n",
      "Current google-chrome version is 93.0.4577\n",
      "Get LATEST driver version for 93.0.4577\n"
     ]
    },
    {
     "name": "stdout",
     "output_type": "stream",
     "text": [
      "Mozilla/5.0 (Windows NT 6.1; rv:27.3) Gecko/20130101 Firefox/27.3\n"
     ]
    },
    {
     "name": "stderr",
     "output_type": "stream",
     "text": [
      "Driver [C:\\Users\\keunb\\.wdm\\drivers\\chromedriver\\win32\\93.0.4577.63\\chromedriver.exe] found in cache\n",
      "\n",
      "\n",
      "====== WebDriver manager ======\n",
      "Current google-chrome version is 93.0.4577\n"
     ]
    },
    {
     "name": "stdout",
     "output_type": "stream",
     "text": [
      "Mozilla/5.0 (Macintosh; Intel Mac OS X 10.8; rv:24.0) Gecko/20100101 Firefox/24.0\n"
     ]
    },
    {
     "name": "stderr",
     "output_type": "stream",
     "text": [
      "Get LATEST driver version for 93.0.4577\n",
      "Driver [C:\\Users\\keunb\\.wdm\\drivers\\chromedriver\\win32\\93.0.4577.63\\chromedriver.exe] found in cache\n",
      "\n",
      "\n",
      "====== WebDriver manager ======\n",
      "Current google-chrome version is 93.0.4577\n"
     ]
    },
    {
     "name": "stdout",
     "output_type": "stream",
     "text": [
      "Mozilla/5.0 (Windows NT 5.1) AppleWebKit/537.36 (KHTML, like Gecko) Chrome/41.0.2224.3 Safari/537.36\n"
     ]
    },
    {
     "name": "stderr",
     "output_type": "stream",
     "text": [
      "Get LATEST driver version for 93.0.4577\n",
      "Driver [C:\\Users\\keunb\\.wdm\\drivers\\chromedriver\\win32\\93.0.4577.63\\chromedriver.exe] found in cache\n",
      "\n",
      "\n",
      "====== WebDriver manager ======\n"
     ]
    },
    {
     "name": "stdout",
     "output_type": "stream",
     "text": [
      "Mozilla/5.0 (Windows NT 5.1) AppleWebKit/537.36 (KHTML, like Gecko) Chrome/41.0.2224.3 Safari/537.36\n"
     ]
    },
    {
     "name": "stderr",
     "output_type": "stream",
     "text": [
      "Current google-chrome version is 93.0.4577\n",
      "Get LATEST driver version for 93.0.4577\n",
      "Driver [C:\\Users\\keunb\\.wdm\\drivers\\chromedriver\\win32\\93.0.4577.63\\chromedriver.exe] found in cache\n",
      "\n",
      "\n",
      "====== WebDriver manager ======\n"
     ]
    },
    {
     "name": "stdout",
     "output_type": "stream",
     "text": [
      "Mozilla/5.0 (X11; OpenBSD amd64; rv:28.0) Gecko/20100101 Firefox/28.0\n"
     ]
    },
    {
     "name": "stderr",
     "output_type": "stream",
     "text": [
      "Current google-chrome version is 93.0.4577\n",
      "Get LATEST driver version for 93.0.4577\n",
      "Driver [C:\\Users\\keunb\\.wdm\\drivers\\chromedriver\\win32\\93.0.4577.63\\chromedriver.exe] found in cache\n",
      "\n",
      "\n",
      "====== WebDriver manager ======\n",
      "Current google-chrome version is 93.0.4577\n"
     ]
    },
    {
     "name": "stdout",
     "output_type": "stream",
     "text": [
      "Mozilla/5.0 (X11; CrOS i686 4319.74.0) AppleWebKit/537.36 (KHTML, like Gecko) Chrome/29.0.1547.57 Safari/537.36\n"
     ]
    },
    {
     "name": "stderr",
     "output_type": "stream",
     "text": [
      "Get LATEST driver version for 93.0.4577\n",
      "Driver [C:\\Users\\keunb\\.wdm\\drivers\\chromedriver\\win32\\93.0.4577.63\\chromedriver.exe] found in cache\n",
      "\n",
      "\n",
      "====== WebDriver manager ======\n",
      "Current google-chrome version is 93.0.4577\n",
      "Get LATEST driver version for 93.0.4577\n"
     ]
    },
    {
     "name": "stdout",
     "output_type": "stream",
     "text": [
      "Mozilla/5.0 (Windows NT 6.1; WOW64) AppleWebKit/537.36 (KHTML, like Gecko) Chrome/41.0.2227.0 Safari/537.36\n"
     ]
    },
    {
     "name": "stderr",
     "output_type": "stream",
     "text": [
      "Driver [C:\\Users\\keunb\\.wdm\\drivers\\chromedriver\\win32\\93.0.4577.63\\chromedriver.exe] found in cache\n",
      "\n",
      "\n",
      "====== WebDriver manager ======\n",
      "Current google-chrome version is 93.0.4577\n",
      "Get LATEST driver version for 93.0.4577\n"
     ]
    },
    {
     "name": "stdout",
     "output_type": "stream",
     "text": [
      "Mozilla/5.0 (Windows NT 5.1) AppleWebKit/537.36 (KHTML, like Gecko) Chrome/27.0.1453.93 Safari/537.36\n"
     ]
    },
    {
     "name": "stderr",
     "output_type": "stream",
     "text": [
      "Driver [C:\\Users\\keunb\\.wdm\\drivers\\chromedriver\\win32\\93.0.4577.63\\chromedriver.exe] found in cache\n",
      "\n",
      "\n",
      "====== WebDriver manager ======\n"
     ]
    },
    {
     "name": "stdout",
     "output_type": "stream",
     "text": [
      "Mozilla/5.0 (Windows NT 6.2; WOW64) AppleWebKit/537.15 (KHTML, like Gecko) Chrome/24.0.1295.0 Safari/537.15\n"
     ]
    },
    {
     "name": "stderr",
     "output_type": "stream",
     "text": [
      "Current google-chrome version is 93.0.4577\n",
      "Get LATEST driver version for 93.0.4577\n",
      "Driver [C:\\Users\\keunb\\.wdm\\drivers\\chromedriver\\win32\\93.0.4577.63\\chromedriver.exe] found in cache\n",
      "\n",
      "\n",
      "====== WebDriver manager ======\n"
     ]
    },
    {
     "name": "stdout",
     "output_type": "stream",
     "text": [
      "Mozilla/5.0 (Macintosh; Intel Mac OS X 10_9_3) AppleWebKit/537.36 (KHTML, like Gecko) Chrome/35.0.1916.47 Safari/537.36\n"
     ]
    },
    {
     "name": "stderr",
     "output_type": "stream",
     "text": [
      "Current google-chrome version is 93.0.4577\n",
      "Get LATEST driver version for 93.0.4577\n",
      "Driver [C:\\Users\\keunb\\.wdm\\drivers\\chromedriver\\win32\\93.0.4577.63\\chromedriver.exe] found in cache\n",
      "\n",
      "\n",
      "====== WebDriver manager ======\n",
      "Current google-chrome version is 93.0.4577\n"
     ]
    },
    {
     "name": "stdout",
     "output_type": "stream",
     "text": [
      "Mozilla/5.0 (Windows NT 6.2; WOW64) AppleWebKit/537.36 (KHTML, like Gecko) Chrome/30.0.1599.17 Safari/537.36\n"
     ]
    },
    {
     "name": "stderr",
     "output_type": "stream",
     "text": [
      "Get LATEST driver version for 93.0.4577\n",
      "Driver [C:\\Users\\keunb\\.wdm\\drivers\\chromedriver\\win32\\93.0.4577.63\\chromedriver.exe] found in cache\n",
      "\n",
      "\n",
      "====== WebDriver manager ======\n",
      "Current google-chrome version is 93.0.4577\n",
      "Get LATEST driver version for 93.0.4577\n",
      "Driver [C:\\Users\\keunb\\.wdm\\drivers\\chromedriver\\win32\\93.0.4577.63\\chromedriver.exe] found in cache\n"
     ]
    },
    {
     "name": "stdout",
     "output_type": "stream",
     "text": [
      "Mozilla/5.0 (Macintosh; Intel Mac OS X 10.8; rv:24.0) Gecko/20100101 Firefox/24.0\n"
     ]
    },
    {
     "name": "stderr",
     "output_type": "stream",
     "text": [
      "\n",
      "\n",
      "====== WebDriver manager ======\n",
      "Current google-chrome version is 93.0.4577\n",
      "Get LATEST driver version for 93.0.4577\n"
     ]
    },
    {
     "name": "stdout",
     "output_type": "stream",
     "text": [
      "Mozilla/5.0 (X11; OpenBSD amd64; rv:28.0) Gecko/20100101 Firefox/28.0\n"
     ]
    },
    {
     "name": "stderr",
     "output_type": "stream",
     "text": [
      "Driver [C:\\Users\\keunb\\.wdm\\drivers\\chromedriver\\win32\\93.0.4577.63\\chromedriver.exe] found in cache\n",
      "\n",
      "\n",
      "====== WebDriver manager ======\n",
      "Current google-chrome version is 93.0.4577\n",
      "Get LATEST driver version for 93.0.4577\n"
     ]
    },
    {
     "name": "stdout",
     "output_type": "stream",
     "text": [
      "Mozilla/5.0 (Windows NT 6.2; WOW64) AppleWebKit/537.36 (KHTML, like Gecko) Chrome/30.0.1599.17 Safari/537.36\n"
     ]
    },
    {
     "name": "stderr",
     "output_type": "stream",
     "text": [
      "Driver [C:\\Users\\keunb\\.wdm\\drivers\\chromedriver\\win32\\93.0.4577.63\\chromedriver.exe] found in cache\n",
      "\n",
      "\n",
      "====== WebDriver manager ======\n",
      "Current google-chrome version is 93.0.4577\n",
      "Get LATEST driver version for 93.0.4577\n"
     ]
    },
    {
     "name": "stdout",
     "output_type": "stream",
     "text": [
      "Mozilla/5.0 (Windows NT 6.2; WOW64) AppleWebKit/537.14 (KHTML, like Gecko) Chrome/24.0.1292.0 Safari/537.14\n"
     ]
    },
    {
     "name": "stderr",
     "output_type": "stream",
     "text": [
      "Driver [C:\\Users\\keunb\\.wdm\\drivers\\chromedriver\\win32\\93.0.4577.63\\chromedriver.exe] found in cache\n",
      "\n",
      "\n",
      "====== WebDriver manager ======\n",
      "Current google-chrome version is 93.0.4577\n",
      "Get LATEST driver version for 93.0.4577\n"
     ]
    },
    {
     "name": "stdout",
     "output_type": "stream",
     "text": [
      "Mozilla/5.0 (Macintosh; Intel Mac OS X 10_10_1) AppleWebKit/537.36 (KHTML, like Gecko) Chrome/37.0.2062.124 Safari/537.36\n"
     ]
    },
    {
     "name": "stderr",
     "output_type": "stream",
     "text": [
      "Driver [C:\\Users\\keunb\\.wdm\\drivers\\chromedriver\\win32\\93.0.4577.63\\chromedriver.exe] found in cache\n",
      "\n",
      "\n",
      "====== WebDriver manager ======\n",
      "Current google-chrome version is 93.0.4577\n",
      "Get LATEST driver version for 93.0.4577\n"
     ]
    },
    {
     "name": "stdout",
     "output_type": "stream",
     "text": [
      "Mozilla/5.0 (X11; CrOS i686 3912.101.0) AppleWebKit/537.36 (KHTML, like Gecko) Chrome/27.0.1453.116 Safari/537.36\n"
     ]
    },
    {
     "name": "stderr",
     "output_type": "stream",
     "text": [
      "Driver [C:\\Users\\keunb\\.wdm\\drivers\\chromedriver\\win32\\93.0.4577.63\\chromedriver.exe] found in cache\n",
      "\n",
      "\n",
      "====== WebDriver manager ======\n",
      "Current google-chrome version is 93.0.4577\n",
      "Get LATEST driver version for 93.0.4577\n",
      "Driver [C:\\Users\\keunb\\.wdm\\drivers\\chromedriver\\win32\\93.0.4577.63\\chromedriver.exe] found in cache\n"
     ]
    },
    {
     "name": "stdout",
     "output_type": "stream",
     "text": [
      "Mozilla/5.0 (Windows NT 5.1) AppleWebKit/537.36 (KHTML, like Gecko) Chrome/41.0.2224.3 Safari/537.36\n"
     ]
    },
    {
     "name": "stderr",
     "output_type": "stream",
     "text": [
      "\n",
      "\n",
      "====== WebDriver manager ======\n",
      "Current google-chrome version is 93.0.4577\n",
      "Get LATEST driver version for 93.0.4577\n"
     ]
    },
    {
     "name": "stdout",
     "output_type": "stream",
     "text": [
      "Mozilla/5.0 (X11; Linux x86_64) AppleWebKit/537.36 (KHTML, like Gecko) Chrome/33.0.1750.517 Safari/537.36\n"
     ]
    },
    {
     "name": "stderr",
     "output_type": "stream",
     "text": [
      "Driver [C:\\Users\\keunb\\.wdm\\drivers\\chromedriver\\win32\\93.0.4577.63\\chromedriver.exe] found in cache\n",
      "\n",
      "\n",
      "====== WebDriver manager ======\n",
      "Current google-chrome version is 93.0.4577\n",
      "Get LATEST driver version for 93.0.4577\n"
     ]
    },
    {
     "name": "stdout",
     "output_type": "stream",
     "text": [
      "Mozilla/5.0 (Windows NT 5.1) AppleWebKit/537.36 (KHTML, like Gecko) Chrome/35.0.3319.102 Safari/537.36\n"
     ]
    },
    {
     "name": "stderr",
     "output_type": "stream",
     "text": [
      "Driver [C:\\Users\\keunb\\.wdm\\drivers\\chromedriver\\win32\\93.0.4577.63\\chromedriver.exe] found in cache\n",
      "\n",
      "\n",
      "====== WebDriver manager ======\n",
      "Current google-chrome version is 93.0.4577\n",
      "Get LATEST driver version for 93.0.4577\n"
     ]
    },
    {
     "name": "stdout",
     "output_type": "stream",
     "text": [
      "Mozilla/5.0 (Windows NT 6.1; Win64; x64; rv:25.0) Gecko/20100101 Firefox/25.0\n"
     ]
    },
    {
     "name": "stderr",
     "output_type": "stream",
     "text": [
      "Driver [C:\\Users\\keunb\\.wdm\\drivers\\chromedriver\\win32\\93.0.4577.63\\chromedriver.exe] found in cache\n",
      "\n",
      "\n",
      "====== WebDriver manager ======\n",
      "Current google-chrome version is 93.0.4577\n",
      "Get LATEST driver version for 93.0.4577\n"
     ]
    },
    {
     "name": "stdout",
     "output_type": "stream",
     "text": [
      "Mozilla/5.0 (Windows NT 10.0) AppleWebKit/537.36 (KHTML, like Gecko) Chrome/40.0.2214.93 Safari/537.36\n"
     ]
    },
    {
     "name": "stderr",
     "output_type": "stream",
     "text": [
      "Driver [C:\\Users\\keunb\\.wdm\\drivers\\chromedriver\\win32\\93.0.4577.63\\chromedriver.exe] found in cache\n",
      "\n",
      "\n",
      "====== WebDriver manager ======\n",
      "Current google-chrome version is 93.0.4577\n",
      "Get LATEST driver version for 93.0.4577\n"
     ]
    },
    {
     "name": "stdout",
     "output_type": "stream",
     "text": [
      "Mozilla/5.0 (X11; NetBSD) AppleWebKit/537.36 (KHTML, like Gecko) Chrome/27.0.1453.116 Safari/537.36\n"
     ]
    },
    {
     "name": "stderr",
     "output_type": "stream",
     "text": [
      "Driver [C:\\Users\\keunb\\.wdm\\drivers\\chromedriver\\win32\\93.0.4577.63\\chromedriver.exe] found in cache\n",
      "\n",
      "\n",
      "====== WebDriver manager ======\n",
      "Current google-chrome version is 93.0.4577\n",
      "Get LATEST driver version for 93.0.4577\n"
     ]
    },
    {
     "name": "stdout",
     "output_type": "stream",
     "text": [
      "Mozilla/5.0 (Windows NT 6.1; WOW64) AppleWebKit/537.36 (KHTML, like Gecko) Chrome/41.0.2227.0 Safari/537.36\n"
     ]
    },
    {
     "name": "stderr",
     "output_type": "stream",
     "text": [
      "Driver [C:\\Users\\keunb\\.wdm\\drivers\\chromedriver\\win32\\93.0.4577.63\\chromedriver.exe] found in cache\n",
      "\n",
      "\n",
      "====== WebDriver manager ======\n",
      "Current google-chrome version is 93.0.4577\n",
      "Get LATEST driver version for 93.0.4577\n"
     ]
    },
    {
     "name": "stdout",
     "output_type": "stream",
     "text": [
      "Mozilla/5.0 (X11; Linux x86_64) AppleWebKit/537.36 (KHTML, like Gecko) Chrome/33.0.1750.517 Safari/537.36\n"
     ]
    },
    {
     "name": "stderr",
     "output_type": "stream",
     "text": [
      "Driver [C:\\Users\\keunb\\.wdm\\drivers\\chromedriver\\win32\\93.0.4577.63\\chromedriver.exe] found in cache\n",
      "\n",
      "\n",
      "====== WebDriver manager ======\n",
      "Current google-chrome version is 93.0.4577\n",
      "Get LATEST driver version for 93.0.4577\n"
     ]
    },
    {
     "name": "stdout",
     "output_type": "stream",
     "text": [
      "Mozilla/5.0 (Windows NT 4.0; WOW64) AppleWebKit/537.36 (KHTML, like Gecko) Chrome/37.0.2049.0 Safari/537.36\n"
     ]
    },
    {
     "name": "stderr",
     "output_type": "stream",
     "text": [
      "Driver [C:\\Users\\keunb\\.wdm\\drivers\\chromedriver\\win32\\93.0.4577.63\\chromedriver.exe] found in cache\n",
      "\n",
      "\n",
      "====== WebDriver manager ======\n",
      "Current google-chrome version is 93.0.4577\n",
      "Get LATEST driver version for 93.0.4577\n"
     ]
    },
    {
     "name": "stdout",
     "output_type": "stream",
     "text": [
      "Mozilla/5.0 (Macintosh; Intel Mac OS X 10_8_3) AppleWebKit/537.36 (KHTML, like Gecko) Chrome/27.0.1453.93 Safari/537.36\n"
     ]
    },
    {
     "name": "stderr",
     "output_type": "stream",
     "text": [
      "Driver [C:\\Users\\keunb\\.wdm\\drivers\\chromedriver\\win32\\93.0.4577.63\\chromedriver.exe] found in cache\n",
      "\n",
      "\n",
      "====== WebDriver manager ======\n",
      "Current google-chrome version is 93.0.4577\n",
      "Get LATEST driver version for 93.0.4577\n"
     ]
    },
    {
     "name": "stdout",
     "output_type": "stream",
     "text": [
      "Mozilla/5.0 (Macintosh; Intel Mac OS X 10_9_2) AppleWebKit/537.36 (KHTML, like Gecko) Chrome/36.0.1944.0 Safari/537.36\n"
     ]
    },
    {
     "name": "stderr",
     "output_type": "stream",
     "text": [
      "Driver [C:\\Users\\keunb\\.wdm\\drivers\\chromedriver\\win32\\93.0.4577.63\\chromedriver.exe] found in cache\n",
      "\n",
      "\n",
      "====== WebDriver manager ======\n",
      "Current google-chrome version is 93.0.4577\n",
      "Get LATEST driver version for 93.0.4577\n"
     ]
    },
    {
     "name": "stdout",
     "output_type": "stream",
     "text": [
      "Mozilla/5.0 (Windows NT 6.2) AppleWebKit/537.36 (KHTML, like Gecko) Chrome/28.0.1464.0 Safari/537.36\n"
     ]
    },
    {
     "name": "stderr",
     "output_type": "stream",
     "text": [
      "Driver [C:\\Users\\keunb\\.wdm\\drivers\\chromedriver\\win32\\93.0.4577.63\\chromedriver.exe] found in cache\n",
      "\n",
      "\n",
      "====== WebDriver manager ======\n"
     ]
    },
    {
     "name": "stdout",
     "output_type": "stream",
     "text": [
      "Mozilla/5.0 (Windows NT 6.1) AppleWebKit/537.36 (KHTML, like Gecko) Chrome/27.0.1453.90 Safari/537.36\n"
     ]
    },
    {
     "name": "stderr",
     "output_type": "stream",
     "text": [
      "Current google-chrome version is 93.0.4577\n",
      "Get LATEST driver version for 93.0.4577\n",
      "Driver [C:\\Users\\keunb\\.wdm\\drivers\\chromedriver\\win32\\93.0.4577.63\\chromedriver.exe] found in cache\n",
      "\n",
      "\n",
      "====== WebDriver manager ======\n",
      "Current google-chrome version is 93.0.4577\n",
      "Get LATEST driver version for 93.0.4577\n"
     ]
    },
    {
     "name": "stdout",
     "output_type": "stream",
     "text": [
      "Mozilla/5.0 (Windows NT 5.1) AppleWebKit/537.36 (KHTML, like Gecko) Chrome/34.0.1866.237 Safari/537.36\n"
     ]
    },
    {
     "name": "stderr",
     "output_type": "stream",
     "text": [
      "Driver [C:\\Users\\keunb\\.wdm\\drivers\\chromedriver\\win32\\93.0.4577.63\\chromedriver.exe] found in cache\n",
      "\n",
      "\n",
      "====== WebDriver manager ======\n",
      "Current google-chrome version is 93.0.4577\n",
      "Get LATEST driver version for 93.0.4577\n"
     ]
    },
    {
     "name": "stdout",
     "output_type": "stream",
     "text": [
      "Mozilla/5.0 (Windows NT 5.1) AppleWebKit/537.36 (KHTML, like Gecko) Chrome/35.0.2309.372 Safari/537.36\n"
     ]
    },
    {
     "name": "stderr",
     "output_type": "stream",
     "text": [
      "Driver [C:\\Users\\keunb\\.wdm\\drivers\\chromedriver\\win32\\93.0.4577.63\\chromedriver.exe] found in cache\n",
      "\n",
      "\n",
      "====== WebDriver manager ======\n"
     ]
    },
    {
     "name": "stdout",
     "output_type": "stream",
     "text": [
      "Mozilla/5.0 (X11; CrOS i686 4319.74.0) AppleWebKit/537.36 (KHTML, like Gecko) Chrome/29.0.1547.57 Safari/537.36\n"
     ]
    },
    {
     "name": "stderr",
     "output_type": "stream",
     "text": [
      "Current google-chrome version is 93.0.4577\n",
      "Get LATEST driver version for 93.0.4577\n",
      "Driver [C:\\Users\\keunb\\.wdm\\drivers\\chromedriver\\win32\\93.0.4577.63\\chromedriver.exe] found in cache\n",
      "\n",
      "\n",
      "====== WebDriver manager ======\n"
     ]
    },
    {
     "name": "stdout",
     "output_type": "stream",
     "text": [
      "Mozilla/5.0 (Windows NT 6.3; WOW64) AppleWebKit/537.36 (KHTML, like Gecko) Chrome/41.0.2226.0 Safari/537.36\n"
     ]
    },
    {
     "name": "stderr",
     "output_type": "stream",
     "text": [
      "Current google-chrome version is 93.0.4577\n",
      "Get LATEST driver version for 93.0.4577\n",
      "Driver [C:\\Users\\keunb\\.wdm\\drivers\\chromedriver\\win32\\93.0.4577.63\\chromedriver.exe] found in cache\n",
      "\n",
      "\n",
      "====== WebDriver manager ======\n"
     ]
    },
    {
     "name": "stdout",
     "output_type": "stream",
     "text": [
      "Mozilla/5.0 (Windows NT 5.1; rv:31.0) Gecko/20100101 Firefox/31.0\n"
     ]
    },
    {
     "name": "stderr",
     "output_type": "stream",
     "text": [
      "Current google-chrome version is 93.0.4577\n",
      "Get LATEST driver version for 93.0.4577\n",
      "Driver [C:\\Users\\keunb\\.wdm\\drivers\\chromedriver\\win32\\93.0.4577.63\\chromedriver.exe] found in cache\n",
      "\n",
      "\n",
      "====== WebDriver manager ======\n"
     ]
    },
    {
     "name": "stdout",
     "output_type": "stream",
     "text": [
      "Mozilla/5.0 (Windows NT 6.2; WOW64) AppleWebKit/537.36 (KHTML, like Gecko) Chrome/27.0.1500.55 Safari/537.36\n"
     ]
    },
    {
     "name": "stderr",
     "output_type": "stream",
     "text": [
      "Current google-chrome version is 93.0.4577\n",
      "Get LATEST driver version for 93.0.4577\n",
      "Driver [C:\\Users\\keunb\\.wdm\\drivers\\chromedriver\\win32\\93.0.4577.63\\chromedriver.exe] found in cache\n",
      "\n",
      "\n",
      "====== WebDriver manager ======\n"
     ]
    },
    {
     "name": "stdout",
     "output_type": "stream",
     "text": [
      "Mozilla/5.0 (Windows NT 6.2; WOW64) AppleWebKit/537.36 (KHTML, like Gecko) Chrome/30.0.1599.17 Safari/537.36\n"
     ]
    },
    {
     "name": "stderr",
     "output_type": "stream",
     "text": [
      "Current google-chrome version is 93.0.4577\n",
      "Get LATEST driver version for 93.0.4577\n",
      "Driver [C:\\Users\\keunb\\.wdm\\drivers\\chromedriver\\win32\\93.0.4577.63\\chromedriver.exe] found in cache\n",
      "\n",
      "\n",
      "====== WebDriver manager ======\n",
      "Current google-chrome version is 93.0.4577\n",
      "Get LATEST driver version for 93.0.4577\n"
     ]
    },
    {
     "name": "stdout",
     "output_type": "stream",
     "text": [
      "Mozilla/5.0 (Windows NT 6.1) AppleWebKit/537.36 (KHTML, like Gecko) Chrome/27.0.1453.93 Safari/537.36\n"
     ]
    },
    {
     "name": "stderr",
     "output_type": "stream",
     "text": [
      "Driver [C:\\Users\\keunb\\.wdm\\drivers\\chromedriver\\win32\\93.0.4577.63\\chromedriver.exe] found in cache\n",
      "\n",
      "\n",
      "====== WebDriver manager ======\n",
      "Current google-chrome version is 93.0.4577\n"
     ]
    },
    {
     "name": "stdout",
     "output_type": "stream",
     "text": [
      "Mozilla/5.0 (X11; Linux i686; rv:21.0) Gecko/20100101 Firefox/21.0\n"
     ]
    },
    {
     "name": "stderr",
     "output_type": "stream",
     "text": [
      "Get LATEST driver version for 93.0.4577\n",
      "Driver [C:\\Users\\keunb\\.wdm\\drivers\\chromedriver\\win32\\93.0.4577.63\\chromedriver.exe] found in cache\n",
      "\n",
      "\n",
      "====== WebDriver manager ======\n",
      "Current google-chrome version is 93.0.4577\n",
      "Get LATEST driver version for 93.0.4577\n"
     ]
    },
    {
     "name": "stdout",
     "output_type": "stream",
     "text": [
      "Mozilla/5.0 (compatible; MSIE 8.0; Windows NT 6.0; Trident/4.0; .NET CLR 2.7.58687; SLCC2; Media Center PC 5.0; Zune 3.4; Tablet PC 3.6; InfoPath.3)\n"
     ]
    },
    {
     "name": "stderr",
     "output_type": "stream",
     "text": [
      "Driver [C:\\Users\\keunb\\.wdm\\drivers\\chromedriver\\win32\\93.0.4577.63\\chromedriver.exe] found in cache\n",
      "\n",
      "\n",
      "====== WebDriver manager ======\n",
      "Current google-chrome version is 93.0.4577\n",
      "Get LATEST driver version for 93.0.4577\n"
     ]
    },
    {
     "name": "stdout",
     "output_type": "stream",
     "text": [
      "Mozilla/5.0 (X11; Linux x86_64) AppleWebKit/537.36 (KHTML, like Gecko) Chrome/33.0.1750.517 Safari/537.36\n"
     ]
    },
    {
     "name": "stderr",
     "output_type": "stream",
     "text": [
      "Driver [C:\\Users\\keunb\\.wdm\\drivers\\chromedriver\\win32\\93.0.4577.63\\chromedriver.exe] found in cache\n",
      "\n",
      "\n",
      "====== WebDriver manager ======\n",
      "Current google-chrome version is 93.0.4577\n",
      "Get LATEST driver version for 93.0.4577\n"
     ]
    },
    {
     "name": "stdout",
     "output_type": "stream",
     "text": [
      "Mozilla/5.0 (Windows NT 6.1; WOW64) AppleWebKit/537.17 (KHTML, like Gecko) Chrome/24.0.1312.60 Safari/537.17\n"
     ]
    },
    {
     "name": "stderr",
     "output_type": "stream",
     "text": [
      "Driver [C:\\Users\\keunb\\.wdm\\drivers\\chromedriver\\win32\\93.0.4577.63\\chromedriver.exe] found in cache\n",
      "\n",
      "\n",
      "====== WebDriver manager ======\n",
      "Current google-chrome version is 93.0.4577\n",
      "Get LATEST driver version for 93.0.4577\n"
     ]
    },
    {
     "name": "stdout",
     "output_type": "stream",
     "text": [
      "Mozilla/5.0 (Windows NT 5.1) AppleWebKit/537.36 (KHTML, like Gecko) Chrome/35.0.2117.157 Safari/537.36\n"
     ]
    },
    {
     "name": "stderr",
     "output_type": "stream",
     "text": [
      "Driver [C:\\Users\\keunb\\.wdm\\drivers\\chromedriver\\win32\\93.0.4577.63\\chromedriver.exe] found in cache\n",
      "\n",
      "\n",
      "====== WebDriver manager ======\n"
     ]
    },
    {
     "name": "stdout",
     "output_type": "stream",
     "text": [
      "Mozilla/5.0 (Windows NT 5.1) AppleWebKit/537.36 (KHTML, like Gecko) Chrome/35.0.2117.157 Safari/537.36\n"
     ]
    },
    {
     "name": "stderr",
     "output_type": "stream",
     "text": [
      "Current google-chrome version is 93.0.4577\n",
      "Get LATEST driver version for 93.0.4577\n",
      "Driver [C:\\Users\\keunb\\.wdm\\drivers\\chromedriver\\win32\\93.0.4577.63\\chromedriver.exe] found in cache\n",
      "\n",
      "\n",
      "====== WebDriver manager ======\n",
      "Current google-chrome version is 93.0.4577\n"
     ]
    },
    {
     "name": "stdout",
     "output_type": "stream",
     "text": [
      "Mozilla/5.0 (Windows NT 6.1) AppleWebKit/537.36 (KHTML, like Gecko) Chrome/27.0.1453.90 Safari/537.36\n"
     ]
    },
    {
     "name": "stderr",
     "output_type": "stream",
     "text": [
      "Get LATEST driver version for 93.0.4577\n",
      "Driver [C:\\Users\\keunb\\.wdm\\drivers\\chromedriver\\win32\\93.0.4577.63\\chromedriver.exe] found in cache\n",
      "\n",
      "\n",
      "====== WebDriver manager ======\n",
      "Current google-chrome version is 93.0.4577\n",
      "Get LATEST driver version for 93.0.4577\n"
     ]
    },
    {
     "name": "stdout",
     "output_type": "stream",
     "text": [
      "Mozilla/5.0 (X11; Linux x86_64) AppleWebKit/537.36 (KHTML, like Gecko) Chrome/41.0.2227.0 Safari/537.36\n"
     ]
    },
    {
     "name": "stderr",
     "output_type": "stream",
     "text": [
      "Driver [C:\\Users\\keunb\\.wdm\\drivers\\chromedriver\\win32\\93.0.4577.63\\chromedriver.exe] found in cache\n",
      "\n",
      "\n",
      "====== WebDriver manager ======\n",
      "Current google-chrome version is 93.0.4577\n",
      "Get LATEST driver version for 93.0.4577\n"
     ]
    },
    {
     "name": "stdout",
     "output_type": "stream",
     "text": [
      "Mozilla/5.0 (Windows; U; Windows NT 6.0; ja-JP) AppleWebKit/533.20.25 (KHTML, like Gecko) Version/5.0.4 Safari/533.20.27\n"
     ]
    },
    {
     "name": "stderr",
     "output_type": "stream",
     "text": [
      "Driver [C:\\Users\\keunb\\.wdm\\drivers\\chromedriver\\win32\\93.0.4577.63\\chromedriver.exe] found in cache\n",
      "\n",
      "\n",
      "====== WebDriver manager ======\n",
      "Current google-chrome version is 93.0.4577\n",
      "Get LATEST driver version for 93.0.4577\n"
     ]
    },
    {
     "name": "stdout",
     "output_type": "stream",
     "text": [
      "Mozilla/5.0 (Macintosh; Intel Mac OS X 10_10_1) AppleWebKit/537.36 (KHTML, like Gecko) Chrome/41.0.2227.1 Safari/537.36\n"
     ]
    },
    {
     "name": "stderr",
     "output_type": "stream",
     "text": [
      "Driver [C:\\Users\\keunb\\.wdm\\drivers\\chromedriver\\win32\\93.0.4577.63\\chromedriver.exe] found in cache\n",
      "\n",
      "\n",
      "====== WebDriver manager ======\n",
      "Current google-chrome version is 93.0.4577\n",
      "Get LATEST driver version for 93.0.4577\n"
     ]
    },
    {
     "name": "stdout",
     "output_type": "stream",
     "text": [
      "Mozilla/5.0 (Windows NT 6.2; WOW64) AppleWebKit/537.15 (KHTML, like Gecko) Chrome/24.0.1295.0 Safari/537.15\n"
     ]
    },
    {
     "name": "stderr",
     "output_type": "stream",
     "text": [
      "Driver [C:\\Users\\keunb\\.wdm\\drivers\\chromedriver\\win32\\93.0.4577.63\\chromedriver.exe] found in cache\n",
      "\n",
      "\n",
      "====== WebDriver manager ======\n"
     ]
    },
    {
     "name": "stdout",
     "output_type": "stream",
     "text": [
      "Mozilla/5.0 (Macintosh; Intel Mac OS X 10_8_0) AppleWebKit/537.36 (KHTML, like Gecko) Chrome/32.0.1664.3 Safari/537.36\n"
     ]
    },
    {
     "name": "stderr",
     "output_type": "stream",
     "text": [
      "Current google-chrome version is 93.0.4577\n",
      "Get LATEST driver version for 93.0.4577\n",
      "Driver [C:\\Users\\keunb\\.wdm\\drivers\\chromedriver\\win32\\93.0.4577.63\\chromedriver.exe] found in cache\n",
      "\n",
      "\n",
      "====== WebDriver manager ======\n"
     ]
    },
    {
     "name": "stdout",
     "output_type": "stream",
     "text": [
      "Mozilla/5.0 (Windows NT 5.1) AppleWebKit/537.36 (KHTML, like Gecko) Chrome/41.0.2224.3 Safari/537.36\n"
     ]
    },
    {
     "name": "stderr",
     "output_type": "stream",
     "text": [
      "Current google-chrome version is 93.0.4577\n",
      "Get LATEST driver version for 93.0.4577\n",
      "Driver [C:\\Users\\keunb\\.wdm\\drivers\\chromedriver\\win32\\93.0.4577.63\\chromedriver.exe] found in cache\n",
      "\n",
      "\n",
      "====== WebDriver manager ======\n"
     ]
    },
    {
     "name": "stdout",
     "output_type": "stream",
     "text": [
      "Mozilla/5.0 (Windows NT 6.1; WOW64; rv:21.0) Gecko/20130330 Firefox/21.0\n"
     ]
    },
    {
     "name": "stderr",
     "output_type": "stream",
     "text": [
      "Current google-chrome version is 93.0.4577\n",
      "Get LATEST driver version for 93.0.4577\n",
      "Driver [C:\\Users\\keunb\\.wdm\\drivers\\chromedriver\\win32\\93.0.4577.63\\chromedriver.exe] found in cache\n",
      "\n",
      "\n",
      "====== WebDriver manager ======\n"
     ]
    },
    {
     "name": "stdout",
     "output_type": "stream",
     "text": [
      "Mozilla/5.0 (Macintosh; Intel Mac OS X 10_8_3) AppleWebKit/537.36 (KHTML, like Gecko) Chrome/27.0.1453.93 Safari/537.36\n"
     ]
    },
    {
     "name": "stderr",
     "output_type": "stream",
     "text": [
      "Current google-chrome version is 93.0.4577\n",
      "Get LATEST driver version for 93.0.4577\n",
      "Driver [C:\\Users\\keunb\\.wdm\\drivers\\chromedriver\\win32\\93.0.4577.63\\chromedriver.exe] found in cache\n",
      "\n",
      "\n",
      "====== WebDriver manager ======\n",
      "Current google-chrome version is 93.0.4577\n",
      "Get LATEST driver version for 93.0.4577\n"
     ]
    },
    {
     "name": "stdout",
     "output_type": "stream",
     "text": [
      "Mozilla/5.0 (Windows NT 6.2; Win64; x64; rv:21.0.0) Gecko/20121011 Firefox/21.0.0\n"
     ]
    },
    {
     "name": "stderr",
     "output_type": "stream",
     "text": [
      "Driver [C:\\Users\\keunb\\.wdm\\drivers\\chromedriver\\win32\\93.0.4577.63\\chromedriver.exe] found in cache\n",
      "\n",
      "\n",
      "====== WebDriver manager ======\n",
      "Current google-chrome version is 93.0.4577\n",
      "Get LATEST driver version for 93.0.4577\n"
     ]
    },
    {
     "name": "stdout",
     "output_type": "stream",
     "text": [
      "Mozilla/5.0 (X11; NetBSD) AppleWebKit/537.36 (KHTML, like Gecko) Chrome/27.0.1453.116 Safari/537.36\n"
     ]
    },
    {
     "name": "stderr",
     "output_type": "stream",
     "text": [
      "Driver [C:\\Users\\keunb\\.wdm\\drivers\\chromedriver\\win32\\93.0.4577.63\\chromedriver.exe] found in cache\n",
      "\n",
      "\n",
      "====== WebDriver manager ======\n"
     ]
    },
    {
     "name": "stdout",
     "output_type": "stream",
     "text": [
      "Opera/9.80 (X11; Linux i686; U; ru) Presto/2.8.131 Version/11.11\n"
     ]
    },
    {
     "name": "stderr",
     "output_type": "stream",
     "text": [
      "Current google-chrome version is 93.0.4577\n",
      "Get LATEST driver version for 93.0.4577\n",
      "Driver [C:\\Users\\keunb\\.wdm\\drivers\\chromedriver\\win32\\93.0.4577.63\\chromedriver.exe] found in cache\n",
      "\n",
      "\n",
      "====== WebDriver manager ======\n"
     ]
    },
    {
     "name": "stdout",
     "output_type": "stream",
     "text": [
      "Mozilla/5.0 (Windows NT 6.2; WOW64) AppleWebKit/537.14 (KHTML, like Gecko) Chrome/24.0.1292.0 Safari/537.14\n"
     ]
    },
    {
     "name": "stderr",
     "output_type": "stream",
     "text": [
      "Current google-chrome version is 93.0.4577\n",
      "Get LATEST driver version for 93.0.4577\n",
      "Driver [C:\\Users\\keunb\\.wdm\\drivers\\chromedriver\\win32\\93.0.4577.63\\chromedriver.exe] found in cache\n",
      "\n",
      "\n",
      "====== WebDriver manager ======\n",
      "Current google-chrome version is 93.0.4577\n"
     ]
    },
    {
     "name": "stdout",
     "output_type": "stream",
     "text": [
      "Mozilla/5.0 (Windows NT 5.1) AppleWebKit/537.36 (KHTML, like Gecko) Chrome/35.0.3319.102 Safari/537.36\n"
     ]
    },
    {
     "name": "stderr",
     "output_type": "stream",
     "text": [
      "Get LATEST driver version for 93.0.4577\n",
      "Driver [C:\\Users\\keunb\\.wdm\\drivers\\chromedriver\\win32\\93.0.4577.63\\chromedriver.exe] found in cache\n",
      "\n",
      "\n",
      "====== WebDriver manager ======\n"
     ]
    },
    {
     "name": "stdout",
     "output_type": "stream",
     "text": [
      "Mozilla/5.0 (Windows; U; Windows NT 6.1; zh-HK) AppleWebKit/533.18.1 (KHTML, like Gecko) Version/5.0.2 Safari/533.18.5\n"
     ]
    },
    {
     "name": "stderr",
     "output_type": "stream",
     "text": [
      "Current google-chrome version is 93.0.4577\n",
      "Get LATEST driver version for 93.0.4577\n",
      "Driver [C:\\Users\\keunb\\.wdm\\drivers\\chromedriver\\win32\\93.0.4577.63\\chromedriver.exe] found in cache\n",
      "\n",
      "\n",
      "====== WebDriver manager ======\n"
     ]
    },
    {
     "name": "stdout",
     "output_type": "stream",
     "text": [
      "Mozilla/5.0 (Macintosh; Intel Mac OS X 10_9_3) AppleWebKit/537.36 (KHTML, like Gecko) Chrome/35.0.1916.47 Safari/537.36\n"
     ]
    },
    {
     "name": "stderr",
     "output_type": "stream",
     "text": [
      "Current google-chrome version is 93.0.4577\n",
      "Get LATEST driver version for 93.0.4577\n",
      "Driver [C:\\Users\\keunb\\.wdm\\drivers\\chromedriver\\win32\\93.0.4577.63\\chromedriver.exe] found in cache\n",
      "\n",
      "\n",
      "====== WebDriver manager ======\n"
     ]
    },
    {
     "name": "stdout",
     "output_type": "stream",
     "text": [
      "Mozilla/5.0 (Windows NT 6.2; WOW64) AppleWebKit/537.36 (KHTML, like Gecko) Chrome/27.0.1500.55 Safari/537.36\n"
     ]
    },
    {
     "name": "stderr",
     "output_type": "stream",
     "text": [
      "Current google-chrome version is 93.0.4577\n",
      "Get LATEST driver version for 93.0.4577\n",
      "Driver [C:\\Users\\keunb\\.wdm\\drivers\\chromedriver\\win32\\93.0.4577.63\\chromedriver.exe] found in cache\n",
      "\n",
      "\n",
      "====== WebDriver manager ======\n",
      "Current google-chrome version is 93.0.4577\n",
      "Get LATEST driver version for 93.0.4577\n"
     ]
    },
    {
     "name": "stdout",
     "output_type": "stream",
     "text": [
      "Mozilla/5.0 (Windows NT 6.1; rv:21.0) Gecko/20100101 Firefox/21.0\n"
     ]
    },
    {
     "name": "stderr",
     "output_type": "stream",
     "text": [
      "Driver [C:\\Users\\keunb\\.wdm\\drivers\\chromedriver\\win32\\93.0.4577.63\\chromedriver.exe] found in cache\n",
      "\n",
      "\n",
      "====== WebDriver manager ======\n",
      "Current google-chrome version is 93.0.4577\n"
     ]
    },
    {
     "name": "stdout",
     "output_type": "stream",
     "text": [
      "Mozilla/5.0 (Windows NT 6.2; Win64; x64) AppleWebKit/537.36 (KHTML, like Gecko) Chrome/32.0.1667.0 Safari/537.36\n"
     ]
    },
    {
     "name": "stderr",
     "output_type": "stream",
     "text": [
      "Get LATEST driver version for 93.0.4577\n",
      "Driver [C:\\Users\\keunb\\.wdm\\drivers\\chromedriver\\win32\\93.0.4577.63\\chromedriver.exe] found in cache\n",
      "\n",
      "\n",
      "====== WebDriver manager ======\n"
     ]
    },
    {
     "name": "stdout",
     "output_type": "stream",
     "text": [
      "Mozilla/5.0 (Windows NT 6.2; WOW64) AppleWebKit/537.14 (KHTML, like Gecko) Chrome/24.0.1292.0 Safari/537.14\n"
     ]
    },
    {
     "name": "stderr",
     "output_type": "stream",
     "text": [
      "Current google-chrome version is 93.0.4577\n",
      "Get LATEST driver version for 93.0.4577\n",
      "Driver [C:\\Users\\keunb\\.wdm\\drivers\\chromedriver\\win32\\93.0.4577.63\\chromedriver.exe] found in cache\n",
      "\n",
      "\n",
      "====== WebDriver manager ======\n"
     ]
    },
    {
     "name": "stdout",
     "output_type": "stream",
     "text": [
      "Mozilla/5.0 (Macintosh; Intel Mac OS X 10_10_1) AppleWebKit/537.36 (KHTML, like Gecko) Chrome/41.0.2227.1 Safari/537.36\n"
     ]
    },
    {
     "name": "stderr",
     "output_type": "stream",
     "text": [
      "Current google-chrome version is 93.0.4577\n",
      "Get LATEST driver version for 93.0.4577\n",
      "Driver [C:\\Users\\keunb\\.wdm\\drivers\\chromedriver\\win32\\93.0.4577.63\\chromedriver.exe] found in cache\n",
      "\n",
      "\n",
      "====== WebDriver manager ======\n"
     ]
    },
    {
     "name": "stdout",
     "output_type": "stream",
     "text": [
      "Mozilla/5.0 (Windows NT 6.2; Win64; x64;) Gecko/20100101 Firefox/20.0\n"
     ]
    },
    {
     "name": "stderr",
     "output_type": "stream",
     "text": [
      "Current google-chrome version is 93.0.4577\n",
      "Get LATEST driver version for 93.0.4577\n",
      "Driver [C:\\Users\\keunb\\.wdm\\drivers\\chromedriver\\win32\\93.0.4577.63\\chromedriver.exe] found in cache\n",
      "\n",
      "\n",
      "====== WebDriver manager ======\n"
     ]
    },
    {
     "name": "stdout",
     "output_type": "stream",
     "text": [
      "Mozilla/5.0 (Macintosh; Intel Mac OS X 10_10_1) AppleWebKit/537.36 (KHTML, like Gecko) Chrome/37.0.2062.124 Safari/537.36\n"
     ]
    },
    {
     "name": "stderr",
     "output_type": "stream",
     "text": [
      "Current google-chrome version is 93.0.4577\n",
      "Get LATEST driver version for 93.0.4577\n",
      "Driver [C:\\Users\\keunb\\.wdm\\drivers\\chromedriver\\win32\\93.0.4577.63\\chromedriver.exe] found in cache\n",
      "\n",
      "\n",
      "====== WebDriver manager ======\n"
     ]
    },
    {
     "name": "stdout",
     "output_type": "stream",
     "text": [
      "Mozilla/5.0 (Macintosh; Intel Mac OS X 10_8_0) AppleWebKit/537.36 (KHTML, like Gecko) Chrome/32.0.1664.3 Safari/537.36\n"
     ]
    },
    {
     "name": "stderr",
     "output_type": "stream",
     "text": [
      "Current google-chrome version is 93.0.4577\n",
      "Get LATEST driver version for 93.0.4577\n",
      "Driver [C:\\Users\\keunb\\.wdm\\drivers\\chromedriver\\win32\\93.0.4577.63\\chromedriver.exe] found in cache\n",
      "\n",
      "\n",
      "====== WebDriver manager ======\n"
     ]
    },
    {
     "name": "stdout",
     "output_type": "stream",
     "text": [
      "Mozilla/5.0 (Microsoft Windows NT 6.2.9200.0); rv:22.0) Gecko/20130405 Firefox/22.0\n"
     ]
    },
    {
     "name": "stderr",
     "output_type": "stream",
     "text": [
      "Current google-chrome version is 93.0.4577\n",
      "Get LATEST driver version for 93.0.4577\n",
      "Driver [C:\\Users\\keunb\\.wdm\\drivers\\chromedriver\\win32\\93.0.4577.63\\chromedriver.exe] found in cache\n",
      "\n",
      "\n",
      "====== WebDriver manager ======\n"
     ]
    },
    {
     "name": "stdout",
     "output_type": "stream",
     "text": [
      "Mozilla/5.0 (Macintosh; Intel Mac OS X 10_7_5) AppleWebKit/537.36 (KHTML, like Gecko) Chrome/27.0.1453.93 Safari/537.36\n"
     ]
    },
    {
     "name": "stderr",
     "output_type": "stream",
     "text": [
      "Current google-chrome version is 93.0.4577\n",
      "Get LATEST driver version for 93.0.4577\n",
      "Driver [C:\\Users\\keunb\\.wdm\\drivers\\chromedriver\\win32\\93.0.4577.63\\chromedriver.exe] found in cache\n",
      "\n",
      "\n",
      "====== WebDriver manager ======\n"
     ]
    },
    {
     "name": "stdout",
     "output_type": "stream",
     "text": [
      "Mozilla/5.0 (X11; Ubuntu; Linux x86_64; rv:21.0) Gecko/20130331 Firefox/21.0\n"
     ]
    },
    {
     "name": "stderr",
     "output_type": "stream",
     "text": [
      "Current google-chrome version is 93.0.4577\n",
      "Get LATEST driver version for 93.0.4577\n",
      "Driver [C:\\Users\\keunb\\.wdm\\drivers\\chromedriver\\win32\\93.0.4577.63\\chromedriver.exe] found in cache\n",
      "\n",
      "\n",
      "====== WebDriver manager ======\n"
     ]
    },
    {
     "name": "stdout",
     "output_type": "stream",
     "text": [
      "Mozilla/5.0 (Windows NT 6.2; WOW64) AppleWebKit/537.36 (KHTML, like Gecko) Chrome/27.0.1500.55 Safari/537.36\n"
     ]
    },
    {
     "name": "stderr",
     "output_type": "stream",
     "text": [
      "Current google-chrome version is 93.0.4577\n",
      "Get LATEST driver version for 93.0.4577\n",
      "Driver [C:\\Users\\keunb\\.wdm\\drivers\\chromedriver\\win32\\93.0.4577.63\\chromedriver.exe] found in cache\n",
      "\n",
      "\n",
      "====== WebDriver manager ======\n"
     ]
    },
    {
     "name": "stdout",
     "output_type": "stream",
     "text": [
      "Mozilla/5.0 (Windows NT 6.2; WOW64) AppleWebKit/537.15 (KHTML, like Gecko) Chrome/24.0.1295.0 Safari/537.15\n"
     ]
    },
    {
     "name": "stderr",
     "output_type": "stream",
     "text": [
      "Current google-chrome version is 93.0.4577\n",
      "Get LATEST driver version for 93.0.4577\n",
      "Driver [C:\\Users\\keunb\\.wdm\\drivers\\chromedriver\\win32\\93.0.4577.63\\chromedriver.exe] found in cache\n",
      "\n",
      "\n",
      "====== WebDriver manager ======\n"
     ]
    },
    {
     "name": "stdout",
     "output_type": "stream",
     "text": [
      "Mozilla/5.0 (compatible; MSIE 10.0; Windows NT 6.1; Trident/6.0)\n"
     ]
    },
    {
     "name": "stderr",
     "output_type": "stream",
     "text": [
      "Current google-chrome version is 93.0.4577\n",
      "Get LATEST driver version for 93.0.4577\n",
      "Driver [C:\\Users\\keunb\\.wdm\\drivers\\chromedriver\\win32\\93.0.4577.63\\chromedriver.exe] found in cache\n",
      "\n",
      "\n",
      "====== WebDriver manager ======\n"
     ]
    },
    {
     "name": "stdout",
     "output_type": "stream",
     "text": [
      "Mozilla/5.0 (Macintosh; U; Intel Mac OS X 10_6_6; sv-se) AppleWebKit/533.20.25 (KHTML, like Gecko) Version/5.0.4 Safari/533.20.27\n"
     ]
    },
    {
     "name": "stderr",
     "output_type": "stream",
     "text": [
      "Current google-chrome version is 93.0.4577\n",
      "Get LATEST driver version for 93.0.4577\n",
      "Driver [C:\\Users\\keunb\\.wdm\\drivers\\chromedriver\\win32\\93.0.4577.63\\chromedriver.exe] found in cache\n",
      "\n",
      "\n",
      "====== WebDriver manager ======\n"
     ]
    },
    {
     "name": "stdout",
     "output_type": "stream",
     "text": [
      "Mozilla/5.0 (Windows NT 6.1; WOW64) AppleWebKit/537.36 (KHTML, like Gecko) Chrome/29.0.1547.62 Safari/537.36\n"
     ]
    },
    {
     "name": "stderr",
     "output_type": "stream",
     "text": [
      "Current google-chrome version is 93.0.4577\n",
      "Get LATEST driver version for 93.0.4577\n",
      "Driver [C:\\Users\\keunb\\.wdm\\drivers\\chromedriver\\win32\\93.0.4577.63\\chromedriver.exe] found in cache\n",
      "\n",
      "\n",
      "====== WebDriver manager ======\n"
     ]
    },
    {
     "name": "stdout",
     "output_type": "stream",
     "text": [
      "Mozilla/5.0 (Windows NT 6.2; WOW64) AppleWebKit/537.36 (KHTML, like Gecko) Chrome/29.0.1547.2 Safari/537.36\n"
     ]
    },
    {
     "name": "stderr",
     "output_type": "stream",
     "text": [
      "Current google-chrome version is 93.0.4577\n",
      "Get LATEST driver version for 93.0.4577\n",
      "Driver [C:\\Users\\keunb\\.wdm\\drivers\\chromedriver\\win32\\93.0.4577.63\\chromedriver.exe] found in cache\n",
      "\n",
      "\n",
      "====== WebDriver manager ======\n"
     ]
    },
    {
     "name": "stdout",
     "output_type": "stream",
     "text": [
      "Mozilla/5.0 (Windows NT 5.1) AppleWebKit/537.36 (KHTML, like Gecko) Chrome/35.0.2117.157 Safari/537.36\n"
     ]
    },
    {
     "name": "stderr",
     "output_type": "stream",
     "text": [
      "Current google-chrome version is 93.0.4577\n",
      "Get LATEST driver version for 93.0.4577\n",
      "Driver [C:\\Users\\keunb\\.wdm\\drivers\\chromedriver\\win32\\93.0.4577.63\\chromedriver.exe] found in cache\n",
      "\n",
      "\n",
      "====== WebDriver manager ======\n"
     ]
    },
    {
     "name": "stdout",
     "output_type": "stream",
     "text": [
      "Mozilla/5.0 (Windows NT 6.3; WOW64) AppleWebKit/537.36 (KHTML, like Gecko) Chrome/41.0.2225.0 Safari/537.36\n"
     ]
    },
    {
     "name": "stderr",
     "output_type": "stream",
     "text": [
      "Current google-chrome version is 93.0.4577\n",
      "Get LATEST driver version for 93.0.4577\n",
      "Driver [C:\\Users\\keunb\\.wdm\\drivers\\chromedriver\\win32\\93.0.4577.63\\chromedriver.exe] found in cache\n",
      "\n",
      "\n",
      "====== WebDriver manager ======\n"
     ]
    },
    {
     "name": "stdout",
     "output_type": "stream",
     "text": [
      "Mozilla/5.0 (Windows NT 6.4; WOW64) AppleWebKit/537.36 (KHTML, like Gecko) Chrome/41.0.2225.0 Safari/537.36\n"
     ]
    },
    {
     "name": "stderr",
     "output_type": "stream",
     "text": [
      "Current google-chrome version is 93.0.4577\n",
      "Get LATEST driver version for 93.0.4577\n",
      "Driver [C:\\Users\\keunb\\.wdm\\drivers\\chromedriver\\win32\\93.0.4577.63\\chromedriver.exe] found in cache\n",
      "\n",
      "\n",
      "====== WebDriver manager ======\n"
     ]
    },
    {
     "name": "stdout",
     "output_type": "stream",
     "text": [
      "Mozilla/5.0 (Windows NT 5.1) AppleWebKit/537.36 (KHTML, like Gecko) Chrome/36.0.1985.67 Safari/537.36\n"
     ]
    },
    {
     "name": "stderr",
     "output_type": "stream",
     "text": [
      "Current google-chrome version is 93.0.4577\n",
      "Get LATEST driver version for 93.0.4577\n",
      "Driver [C:\\Users\\keunb\\.wdm\\drivers\\chromedriver\\win32\\93.0.4577.63\\chromedriver.exe] found in cache\n",
      "\n",
      "\n",
      "====== WebDriver manager ======\n",
      "Current google-chrome version is 93.0.4577\n",
      "Get LATEST driver version for 93.0.4577\n"
     ]
    },
    {
     "name": "stdout",
     "output_type": "stream",
     "text": [
      "Mozilla/5.0 (Windows NT 6.1; WOW64) AppleWebKit/537.17 (KHTML, like Gecko) Chrome/24.0.1312.60 Safari/537.17\n"
     ]
    },
    {
     "name": "stderr",
     "output_type": "stream",
     "text": [
      "Driver [C:\\Users\\keunb\\.wdm\\drivers\\chromedriver\\win32\\93.0.4577.63\\chromedriver.exe] found in cache\n",
      "\n",
      "\n",
      "====== WebDriver manager ======\n",
      "Current google-chrome version is 93.0.4577\n"
     ]
    },
    {
     "name": "stdout",
     "output_type": "stream",
     "text": [
      "Mozilla/5.0 (Windows NT 6.1; WOW64) AppleWebKit/537.36 (KHTML, like Gecko) Chrome/41.0.2227.0 Safari/537.36\n"
     ]
    },
    {
     "name": "stderr",
     "output_type": "stream",
     "text": [
      "Get LATEST driver version for 93.0.4577\n",
      "Driver [C:\\Users\\keunb\\.wdm\\drivers\\chromedriver\\win32\\93.0.4577.63\\chromedriver.exe] found in cache\n",
      "\n",
      "\n",
      "====== WebDriver manager ======\n"
     ]
    },
    {
     "name": "stdout",
     "output_type": "stream",
     "text": [
      "Mozilla/5.0 (Macintosh; Intel Mac OS X 10_10_1) AppleWebKit/537.36 (KHTML, like Gecko) Chrome/41.0.2227.1 Safari/537.36\n"
     ]
    },
    {
     "name": "stderr",
     "output_type": "stream",
     "text": [
      "Current google-chrome version is 93.0.4577\n",
      "Get LATEST driver version for 93.0.4577\n",
      "Driver [C:\\Users\\keunb\\.wdm\\drivers\\chromedriver\\win32\\93.0.4577.63\\chromedriver.exe] found in cache\n",
      "\n",
      "\n",
      "====== WebDriver manager ======\n"
     ]
    },
    {
     "name": "stdout",
     "output_type": "stream",
     "text": [
      "Mozilla/5.0 (Windows NT 6.3; WOW64) AppleWebKit/537.36 (KHTML, like Gecko) Chrome/41.0.2225.0 Safari/537.36\n"
     ]
    },
    {
     "name": "stderr",
     "output_type": "stream",
     "text": [
      "Current google-chrome version is 93.0.4577\n",
      "Get LATEST driver version for 93.0.4577\n",
      "Driver [C:\\Users\\keunb\\.wdm\\drivers\\chromedriver\\win32\\93.0.4577.63\\chromedriver.exe] found in cache\n",
      "\n",
      "\n",
      "====== WebDriver manager ======\n",
      "Current google-chrome version is 93.0.4577\n"
     ]
    },
    {
     "name": "stdout",
     "output_type": "stream",
     "text": [
      "Mozilla/5.0 (Windows NT 6.2; WOW64) AppleWebKit/537.36 (KHTML, like Gecko) Chrome/27.0.1500.55 Safari/537.36\n"
     ]
    },
    {
     "name": "stderr",
     "output_type": "stream",
     "text": [
      "Get LATEST driver version for 93.0.4577\n",
      "Driver [C:\\Users\\keunb\\.wdm\\drivers\\chromedriver\\win32\\93.0.4577.63\\chromedriver.exe] found in cache\n",
      "\n",
      "\n",
      "====== WebDriver manager ======\n"
     ]
    },
    {
     "name": "stdout",
     "output_type": "stream",
     "text": [
      "Mozilla/5.0 (X11; CrOS i686 3912.101.0) AppleWebKit/537.36 (KHTML, like Gecko) Chrome/27.0.1453.116 Safari/537.36\n"
     ]
    },
    {
     "name": "stderr",
     "output_type": "stream",
     "text": [
      "Current google-chrome version is 93.0.4577\n",
      "Get LATEST driver version for 93.0.4577\n",
      "Driver [C:\\Users\\keunb\\.wdm\\drivers\\chromedriver\\win32\\93.0.4577.63\\chromedriver.exe] found in cache\n",
      "\n",
      "\n",
      "====== WebDriver manager ======\n"
     ]
    },
    {
     "name": "stdout",
     "output_type": "stream",
     "text": [
      "Mozilla/5.0 (X11; OpenBSD i386) AppleWebKit/537.36 (KHTML, like Gecko) Chrome/36.0.1985.125 Safari/537.36\n"
     ]
    },
    {
     "name": "stderr",
     "output_type": "stream",
     "text": [
      "Current google-chrome version is 93.0.4577\n",
      "Get LATEST driver version for 93.0.4577\n",
      "Driver [C:\\Users\\keunb\\.wdm\\drivers\\chromedriver\\win32\\93.0.4577.63\\chromedriver.exe] found in cache\n",
      "\n",
      "\n",
      "====== WebDriver manager ======\n"
     ]
    },
    {
     "name": "stdout",
     "output_type": "stream",
     "text": [
      "Mozilla/5.0 (Windows NT 6.1) AppleWebKit/537.36 (KHTML, like Gecko) Chrome/27.0.1453.90 Safari/537.36\n"
     ]
    },
    {
     "name": "stderr",
     "output_type": "stream",
     "text": [
      "Current google-chrome version is 93.0.4577\n",
      "Get LATEST driver version for 93.0.4577\n",
      "Driver [C:\\Users\\keunb\\.wdm\\drivers\\chromedriver\\win32\\93.0.4577.63\\chromedriver.exe] found in cache\n",
      "\n",
      "\n",
      "====== WebDriver manager ======\n"
     ]
    },
    {
     "name": "stdout",
     "output_type": "stream",
     "text": [
      "Mozilla/5.0 (Macintosh; Intel Mac OS X 10.8; rv:24.0) Gecko/20100101 Firefox/24.0\n"
     ]
    },
    {
     "name": "stderr",
     "output_type": "stream",
     "text": [
      "Current google-chrome version is 93.0.4577\n",
      "Get LATEST driver version for 93.0.4577\n",
      "Driver [C:\\Users\\keunb\\.wdm\\drivers\\chromedriver\\win32\\93.0.4577.63\\chromedriver.exe] found in cache\n",
      "\n",
      "\n",
      "====== WebDriver manager ======\n"
     ]
    },
    {
     "name": "stdout",
     "output_type": "stream",
     "text": [
      "Mozilla/5.0 (Windows NT 5.1) AppleWebKit/537.36 (KHTML, like Gecko) Chrome/31.0.1650.16 Safari/537.36\n"
     ]
    },
    {
     "name": "stderr",
     "output_type": "stream",
     "text": [
      "Current google-chrome version is 93.0.4577\n",
      "Get LATEST driver version for 93.0.4577\n",
      "Driver [C:\\Users\\keunb\\.wdm\\drivers\\chromedriver\\win32\\93.0.4577.63\\chromedriver.exe] found in cache\n",
      "\n",
      "\n",
      "====== WebDriver manager ======\n"
     ]
    },
    {
     "name": "stdout",
     "output_type": "stream",
     "text": [
      "Mozilla/5.0 (X11; OpenBSD i386) AppleWebKit/537.36 (KHTML, like Gecko) Chrome/36.0.1985.125 Safari/537.36\n"
     ]
    },
    {
     "name": "stderr",
     "output_type": "stream",
     "text": [
      "Current google-chrome version is 93.0.4577\n",
      "Get LATEST driver version for 93.0.4577\n",
      "Driver [C:\\Users\\keunb\\.wdm\\drivers\\chromedriver\\win32\\93.0.4577.63\\chromedriver.exe] found in cache\n",
      "\n",
      "\n",
      "====== WebDriver manager ======\n"
     ]
    },
    {
     "name": "stdout",
     "output_type": "stream",
     "text": [
      "Mozilla/5.0 (X11; Linux x86_64) AppleWebKit/537.36 (KHTML, like Gecko) Chrome/33.0.1750.517 Safari/537.36\n"
     ]
    },
    {
     "name": "stderr",
     "output_type": "stream",
     "text": [
      "Current google-chrome version is 93.0.4577\n",
      "Get LATEST driver version for 93.0.4577\n",
      "Driver [C:\\Users\\keunb\\.wdm\\drivers\\chromedriver\\win32\\93.0.4577.63\\chromedriver.exe] found in cache\n",
      "\n",
      "\n",
      "====== WebDriver manager ======\n"
     ]
    },
    {
     "name": "stdout",
     "output_type": "stream",
     "text": [
      "Mozilla/5.0 (Windows NT 6.1) AppleWebKit/537.36 (KHTML, like Gecko) Chrome/28.0.1468.0 Safari/537.36\n"
     ]
    },
    {
     "name": "stderr",
     "output_type": "stream",
     "text": [
      "Current google-chrome version is 93.0.4577\n",
      "Get LATEST driver version for 93.0.4577\n",
      "Driver [C:\\Users\\keunb\\.wdm\\drivers\\chromedriver\\win32\\93.0.4577.63\\chromedriver.exe] found in cache\n"
     ]
    }
   ],
   "source": [
    "for i in trange(len(brd_names[100:300])):\n",
    "    brd_name = df_brd.loc[i+100, 'brand_name']\n",
    "    scrap_product_link(brd_name)"
   ]
  },
  {
   "cell_type": "code",
   "execution_count": 147,
   "id": "cfc4e62f-d1e3-4fe7-aa3d-db80422cbbf7",
   "metadata": {},
   "outputs": [],
   "source": [
    "df_brd['product_link'] = df_brd['brand_name'].map(dict_prd_link)\n",
    "df_brd['product_name'] = df_brd['brand_name'].map(dict_prd_name)"
   ]
  },
  {
   "cell_type": "markdown",
   "id": "af0ce8b5-6f80-4c47-bd80-58ca1e48dffe",
   "metadata": {},
   "source": [
    "df_brd.to_csv(\"df_brd_prd_0_300.csv\")"
   ]
  },
  {
   "cell_type": "code",
   "execution_count": null,
   "id": "535c98f0-e52d-4c3c-8304-7ce340c9f8b5",
   "metadata": {},
   "outputs": [],
   "source": []
  },
  {
   "cell_type": "code",
   "execution_count": 121,
   "id": "e7d1b918-d028-41d5-8395-4aa51731adcd",
   "metadata": {
    "collapsed": true,
    "jupyter": {
     "outputs_hidden": true
    },
    "tags": []
   },
   "outputs": [
    {
     "data": {
      "text/plain": [
       "50         갯츠맨\n",
       "51        갸마르드\n",
       "52         갸스비\n",
       "53       거다슈필만\n",
       "54      건강한형제들\n",
       "55       건영크린텍\n",
       "56    걸 드 프로방스\n",
       "57         걸리걸\n",
       "58          검염\n",
       "59         게리쏭\n",
       "60          고원\n",
       "61         고위드\n",
       "62        고위드미\n",
       "63         고유에\n",
       "64         고은재\n",
       "65         고혼진\n",
       "66       골드쉐이프\n",
       "67       골든 허브\n",
       "68        골든트리\n",
       "69          공미\n",
       "70         공스킨\n",
       "71         공일오\n",
       "72        과일나라\n",
       "73        광동제약\n",
       "74        교보문고\n",
       "75         구구샵\n",
       "76       구닥 컬러\n",
       "77          구달\n",
       "78          구디\n",
       "79       구딸 파리\n",
       "80          구떼\n",
       "81        구뜨앙쥬\n",
       "82          구멍\n",
       "83       구미올로지\n",
       "84         구미킹\n",
       "85         구본초\n",
       "86        구스크릭\n",
       "87          구찌\n",
       "88       국대마스크\n",
       "89       국보마스크\n",
       "90        국제약품\n",
       "91        굿락투유\n",
       "92         굿매너\n",
       "93       굿바이아톱\n",
       "94       굿스킨랩스\n",
       "95         굿앤닥\n",
       "96         굿햄프\n",
       "97          궁가\n",
       "98         궁백화\n",
       "99        궁중비책\n",
       "Name: brand_name, dtype: object"
      ]
     },
     "execution_count": 121,
     "metadata": {},
     "output_type": "execute_result"
    }
   ],
   "source": [
    "brd_names[50:100]"
   ]
  },
  {
   "cell_type": "code",
   "execution_count": 122,
   "id": "ce407429-0fa7-43af-9799-6de13cdf20da",
   "metadata": {},
   "outputs": [
    {
     "data": {
      "text/plain": [
       "['발효 다슬 에센스', '호랑이 수딩젤', '호랑이 스킨토너']"
      ]
     },
     "execution_count": 122,
     "metadata": {},
     "output_type": "execute_result"
    }
   ],
   "source": [
    "df_brd.loc[60, 'product_name']"
   ]
  },
  {
   "cell_type": "code",
   "execution_count": 126,
   "id": "62648dd6-9f57-4cca-aa69-f36f9cb6eb23",
   "metadata": {},
   "outputs": [
    {
     "data": {
      "text/plain": [
       "['겔랑', '글로우']"
      ]
     },
     "execution_count": 126,
     "metadata": {},
     "output_type": "execute_result"
    }
   ],
   "source": [
    "unknown_exception"
   ]
  },
  {
   "cell_type": "code",
   "execution_count": 127,
   "id": "0a9c004b-32de-408c-acc2-c5582d26c2c8",
   "metadata": {},
   "outputs": [
    {
     "data": {
      "text/plain": [
       "['가란시아', '게리쏭']"
      ]
     },
     "execution_count": 127,
     "metadata": {},
     "output_type": "execute_result"
    }
   ],
   "source": [
    "no_such_element_exception"
   ]
  },
  {
   "cell_type": "code",
   "execution_count": 60,
   "id": "28df9b58-8efd-47cf-816f-01dd8466030e",
   "metadata": {},
   "outputs": [],
   "source": [
    "df_prd_link = pd.DataFrame.from_dict(dict_prd_link, orient='index')"
   ]
  },
  {
   "cell_type": "code",
   "execution_count": 143,
   "id": "6a0c1b8e-2040-4b8e-9bb5-e15dbd803d54",
   "metadata": {},
   "outputs": [
    {
     "data": {
      "text/plain": [
       "('나트라케어',\n",
       " ['https://www.glowpick.com/products/73824',\n",
       "  'https://www.glowpick.com/products/73826',\n",
       "  'https://www.glowpick.com/products/73823',\n",
       "  'https://www.glowpick.com/products/73833',\n",
       "  'https://www.glowpick.com/products/102827',\n",
       "  'https://www.glowpick.com/products/73832',\n",
       "  'https://www.glowpick.com/products/73835',\n",
       "  'https://www.glowpick.com/products/74226',\n",
       "  'https://www.glowpick.com/products/96014',\n",
       "  'https://www.glowpick.com/products/73840',\n",
       "  'https://www.glowpick.com/products/73842',\n",
       "  'https://www.glowpick.com/products/96019',\n",
       "  'https://www.glowpick.com/products/96017',\n",
       "  'https://www.glowpick.com/products/74228'])"
      ]
     },
     "execution_count": 143,
     "metadata": {},
     "output_type": "execute_result"
    }
   ],
   "source": [
    "list(dict_prd_link.items())[292]"
   ]
  },
  {
   "cell_type": "code",
   "execution_count": 146,
   "id": "3293f649-20e5-448b-b9ed-e3a4c8a539b0",
   "metadata": {},
   "outputs": [
    {
     "data": {
      "text/plain": [
       "('나투라비타',\n",
       " ['마더스 스킨케어 오일',\n",
       "  '베이비 굿데이 마일드 선크림 [SPF40/PA++]',\n",
       "  '마더스 스킨케어 크림',\n",
       "  '베이비 러브 바디 로션',\n",
       "  '베이비 러브 헤어 앤 바디 솝'])"
      ]
     },
     "execution_count": 146,
     "metadata": {},
     "output_type": "execute_result"
    }
   ],
   "source": [
    "list(dict_prd_name.items())[293]"
   ]
  },
  {
   "cell_type": "code",
   "execution_count": 134,
   "id": "b8f5edba-8c3c-4f02-8b2d-c7099337f064",
   "metadata": {},
   "outputs": [
    {
     "data": {
      "text/plain": [
       "8033"
      ]
     },
     "execution_count": 134,
     "metadata": {},
     "output_type": "execute_result"
    }
   ],
   "source": [
    "len(dict_prd_name.keys())"
   ]
  },
  {
   "cell_type": "code",
   "execution_count": 136,
   "id": "50160b9c-d86b-44ee-ba8e-b7c5411170e5",
   "metadata": {
    "collapsed": true,
    "jupyter": {
     "outputs_hidden": true
    },
    "tags": []
   },
   "outputs": [
    {
     "data": {
      "text/plain": [
       "dict_keys(['가가알로에', '가그린', '가네보', '가드맨', '가드미', '가든 오브 라이프', '가디스가든', '가르니르', '가르니에', '가오쿠', '가온', '가온도담', '가이아', '가이아 허브', '가인비책', '가쯔', '가히', '간나나기', '간만세', '게볼', '게스', '게스통', '겐조', '겐조키', '겐지코', '겔라시앙', '겟뉴스킨', '겟츠', '결고은사람들', '경남제약', '경동제약', '경인 플랙스', '고귀한아름다움채', '고려생활건강', '고려은단', '고사리숲', '고세', '고스트', '갈랑트리', '갈리니', '갈리마드', '감람나무', '갓스킨', '갓트', '강남이스트', '강블리', '강서화학', '갤럭시본', '갯츠맨', '갸마르드', '갸스비', '거다슈필만', '건강한형제들', '건영크린텍', '걸 드 프로방스', '걸리걸', '검염', '고원', '고위드', '고위드미', '고유에', '고은재', '고혼진', '골드쉐이프', '골든 허브', '골든트리', '공미', '공스킨', '공일오', '과일나라', '광동제약', '교보문고', '구구샵', '구닥 컬러', '구달', '구디', '구딸 파리', '구떼', '구뜨앙쥬', '구멍', '구미올로지', '구미킹', '구본초', '구스크릭', '구찌', '국대마스크', '국보마스크', '국제약품', '굿락투유', '굿매너', '굿바이아톱', '굿스킨랩스', '굿앤닥', '굿햄프', '궁가', '궁백화', '궁중비책', '가란시아', '겔랑', '게리쏭', '권도영알로에', '그나랜', '그날레시피', '그라니트', '그라시아', '그라운드랩', '그라운드플랜', '그라티아수', '그라펜', '그라함스', '그란디디에', '그란츠', '그랑핸드', '그래잇포유', '그랜드파', '그램', '그레노스', '그레이그라운드', '그레이드', '그레이멜린', '그레이스데이', '그레이스유', '그로가닉스', '그로우어스', '그로운 알케미스트', '그루 테라피', '그루밍랩', '그룬플러스', '그뤼너씨', '그리니프', '그리밀', '그리에이트', '그린동화', '그린랜드', '그린리프', '그린몬스터', '그린벨', '그린스토어', '그린알로에', '그린체', '그린파머시', '그린플러스', '그린피아', '그린핑거', '그애랑', '근본식품', '글래노바', '글래머플래어즈', '글랜무어', '글램글로우', '글램디', '글램메디', '글램벅스', '글램스펠', '글램업', '글램크러시', '글램팜', '글램폭스', '글러브인어보틀', '글로리', '글로브', '글로시블라썸', '글로시에', '글로썸', '글로오아시스', '글로우', '글로우 레시피', '글로우듀', '글로우라우디', '글로우몬스터', '글로우베리', '글로우스파', '글로우힐', '글루어', '글리소메드', '글리솔리드', '글리지젠', '글린트 바이 비디보브', '글입다', '금단비가', '금조화장품', '금호덴탈제약', '금호전기', '기노', '기다려온', '기본', '길라에잇', '김미원', '김소형본초랩', '김은채왁싱', '김정문알로에', '까띠에', '까레넬', '까르띠에', '까르뱅', '까를로세싸', '까사렐', '까쉐', '까우니스', '까탈릭', '깐데', '깔루', '깔리네스', '깜빡', '깨끗한나라', '꼬달리', '꼬모뷰떼', '꼬미쏘엔', '꼰에야', '꼼나나', '꼼데가르송', '꼼마꼼마', '꼼므꼼므', '꽁빠니 드 프로방스', '꽃다', '꽃보다청춘', '꽃을든남자', '꽃잠 네이처', '꽃피는아침마을', '꾸데끌라', '꾸셀', '꿀벌나라', '꿀톤', '꿈의왕국 소피루비', '끄레뷰', '끌', '끌라삐엘', '끌레드벨', '끌레드뽀 보떼', '끌레르바이', '끌레지오', '끌로드엠', '끌로에', '끌림글램', '끼리네스', '나나네', '나나스비', '나나스킨', '나노네이처', '나노닥터플러스', '나노레시피', '나노텍', '나노팜', '나다', '나도그래', '나드', '나딸', '나떼쌍스', '나뚜라하우스', '나뚜리바이오', '나뛰렐 다르간', '나띵프로젝트', '나라움', '나르시소 로드리게즈', '나리', '나리안', '나브', '나블러스 솝', '나비끄', '나사랑', '나스', '나스논', '나스브', '나스코스토', '나어릴때', '나에', '나오베이', '나와키스', '나요', '나우', '나우비', '나우스', '나우푸드', '나이미', '나이스 휘', '나이스데이', '나이아도', '나이팅게일', '나인매직스', '나인밀라', '나인원 코스메디', '나인위시스', '나인윌', '나인테일즈', '나인트리', '나인포인트', '나인풋', '나츄라글라쎄', '나츄리에', '나캇타코토니', '나타샤 데노나', '나투라 시베리카', '나투라라인', '나투라비타', '나투리아', '나트라알엑스', '나트라케어', '나트롤', '나티크', '나틴다', '나페로', '나푸키아', '남유네', '낫쉬', '낫씨백', '낫유어마더스', '낫츠', '낫투머치', '낫포유', '낭낭한생활', '내셔널지오그래픽', '내음', '내추럴 더마 프로젝트', '내추럴 박스', '내추럴룩', '내추럴뷰티푸드', '내추럴아린메디', '내추럴프렌드', '내츄라비세', '내츄럴바이오', '내츄럴코스', '내츄럴코튼', '내츄럴플러스', '너그', '너로다', '너리쉬', '너츠크림퍼퓸', '넌비', '넘버7', '넘버에잇', '넘버즈인', '네띠', '네리움', '네바에', '네브스카야 코스메티카', '네슈라', '네스트 프래그런스', '네스티 단테', '네시픽', '네어', '네오나오', '네오덤', '네오데이', '네오메드', '네오메디컬', '네오비오', '네오비젼', '네오셀', '네오스트라타', '네오시스', '네오젠 더마로지', '네오젠 에이지큐어', '네오젠 코드나인', '네오케어', '네오테릭 코스메틱', '네오티스', '네이밍', '네이센트', '네이스처', '네이처가드', '네이처드림', '네이처랜드', '네이처런스프롬', '네이처리움', '네이처리퍼블릭', '네이처메이드', '네이처바이', '네이처벨', '네이처벨르', '네이처셋', '네이처수', '네이처스 게이트', '네이처스 골드', '네이처아파랑스', '네이처앤베이스', '네이처에스씨', '네이처이피션스', '네이처카인드', '네이처컬렉션', '네이처케어', '네이처퓨리', '네이처플래닛', '네이쳐러브메레', '네이쳐스 바우티', '네이쳐스 엔서', '네이쳐스랩', '네이쳐스베이비 오가닉스', '네이쳐스웨이', '네이쳐스플러스', '네이크업 페이스', '네이키드솝', '네이트리', '네이티오', '네일스네일', '네일스잉크', '네일스케치', '네즈', '네추럴 펙터스', '네추럴라이즈', '네추럴리얼스킨', '네추럴키', '네츄럴 아일랜드', '네츄럴 킵', '네츄럴굿띵스', '네츄럴샤인', '네츄럴팁스', '네츄렉터', '네츠킨', '네케르', '네클라', '네페라', '네퓨어', '네프랩', '넥서스', '넥스트라이프', '넥스트뷰', '넬라', '넬로', '넬켄', '노너스', '노더스트', '노디자인', '노라젠', '노레바', '노르딕 내추럴스', '노른자', '노멀노모어', '노멀리스트', '노바덤', '노베브', '노브랜드', '노브렉트', '노비드', '노스테', '노시셉톨', '노아', '노아 코스메틱', '노에비아', '노에사', '노워터', '노이몬', '노컨셉', '노타모', '노티카', '녹스제마', '녹십자', '녹십초', '논픽션', '놀스', '놋담', '농협홍삼 한삼인', '누뉴', '누니', '누드스틱스', '누드코스메틱', '누들앤부', '누디크', '누르', '누리숲', '누메로', '누미스메드', '누밍크', '누벨덤', '누벨르', '누보셀', '누브띠', '누카', '누크', '누클레오', '누톤', '누트라코스', '누트릴로', '누페이스', '눅스', '눅스 맨', '눈스업', '뉴가닉', '뉴겐코스메틱', '뉴네이처', '뉴랜드알로에', '뉴바이오', '뉴세리티', '뉴셀테라피', '뉴스킨', '뉴스템', '뉴아', '뉴엠코리아', '뉴오리진', '뉴트라라이프', '뉴트라바이오', '뉴트로지나', '뉴트로지나 맨', '뉴트리', '뉴트리가든', '뉴트리네이처', '뉴트리디데이', '뉴트리라이트', '뉴트리메이드', '뉴트리메틱스', '뉴트리미', '뉴트리바이오틱', '뉴트리셀론', '뉴트리셔니스타', '뉴트리션 나우', '뉴트리션팩토리', '뉴트리스톰', '뉴트리원라이프', '뉴트리커먼', '뉴트리코어', '뉴트리풀', '뉴틴', '뉴플', '늘너', '늘이', '늘푸른', '늘해랑', '늦지않았어', '니나리치', '니드인', '니드포유', '니들리', '니몸내몸', '니베아', '니베아 맨', '니스투모나코', '니슬', '니심', '니어리스트벗로스트', '니얼지', '니오드', '니오베', '니옥신', '니쥬', '니코피', '니콜라이', '니콜로지 크리에이션', '닐스야드 레머디스', '닙앤팹', '다나', '다나한', '다노클리닉', '다도센스', '다드림팩토리', '다룸', '다모애', '다므다뚜', '다미다코리아', '다보', '다비', '다비네스', '다비도프', '다비디퓨저', '다비치렌즈', '다빈나라', '다소니', '다소다', '다슈', '다쏘앤컴퍼니', '다안단빛', '다야', '다옴뷰티랩', '다요미', '다이브', '다이소', '다이슨', '다이아모니에', '다이아미', '다이아프리티', '다이아피아', '다이안', '다이알', '다이애나젤팁', '다인씨앤에프', '다존', '다크니스', '닥스', '닥스메디', '닥터 데니스 그로스', '닥터 로벅스', '닥터 메딕스', '닥터 베이스', '닥터 에스떼', '닥터 잇', '닥터 크노프카', '닥터 타이스', '닥터3', '닥터505', '닥터그라프트', '닥터그란델', '닥터그랜드', '닥터그루트', '닥터글로덤', '닥터내츄럴', '닥터네이처', '닥터노아', '닥터뉴엘', '닥터데이즈', '닥터동키', '닥터듀오', '닥터드림', '닥터드벨로', '닥터디네스', '닥터디엣', '닥터디퍼런트', '닥터딥', '닥터라프린', '닥터랩', '닥터레미듀', '닥터로드', '닥터루니카', '닥터루인스', '닥터르제', '닥터리', '닥터리더', '닥터리본', '닥터리브', '닥터리빙', '닥터리즈', '닥터린', '닥터릴리프', '닥터림스', '닥터마스트라', '닥터마이스킨', '닥터마이어스', '닥터마인', '닥터마인드', '닥터메디션', '닥터메디엠', '닥터메디오', '닥터미네랄', '닥터미라클', '닥터미미', '닥터미셀', '닥터미우', '닥터바이오', '닥터발란스', '닥터방기원', '닥터베리아', '닥터베이', '닥터벨머', '닥터벨타', '닥터브라네스', '닥터브라이언', '닥터브란트', '닥터브로너스', '닥터브이', '닥터블레딕', '닥터블루', '닥터블링', '닥터비알엠', '닥터비펙트', '닥터셀레네', '닥터솔루케어', '닥터쉘딩', '닥터쉴러', '닥터슈', '닥터슈라클', '닥터스 피지에이', '닥터스베스트', '닥터스와이프', '닥터스칼프', '닥터스코스메틱', '닥터스킨', '닥터스토리', '닥터스필러', '닥터시드', '닥터시라보', '닥터시피유', '닥터아돌', '닥터아제라', '닥터아토', '닥터알카이티스', '닥터알파', '닥터앤코', '닥터얌스', '닥터에르덤', '닥터에르제', '닥터에버하르트', '닥터에스떼 Rx', '닥터에스리', '닥터에이지', '닥터엑스타인', '닥터엔디에스', '닥터엘리자베스', '닥터엘시아', '닥터영', '닥터옐로우', '닥터오가닉', '닥터오라클', '닥터오베론', '닥터오스트레일리아', '닥터오킴스', '닥터올가', '닥터우먼스', '닥터우즈', '닥터원', '닥터원더', '닥터윌리엄제이', '닥터유지', '닥터이노덤', '닥터이엘', '닥터이엠', '닥터자르트', '닥터제이미랩', '닥터제이에스케이', '닥터제이준', '닥터제이콥스', '닥터조이', '닥터존스킨', '닥터쥬크르', '닥터지오', '닥터지키미', '닥터찰로스', '닥터초이스', '닥터코스', '닥터큐', '닥터큐어7', '닥터크롬셀', '닥터킨베인', '닥터탑', '닥터텅스', '닥터트리', '닥터티샤', '닥터틸즈', '닥터팁스', '닥터파모르', '닥터패커', '닥터펠로', '닥터펩티', '닥터포유', '닥터포포', '닥터포헤어', '닥터폴스', '닥터퓨리', '닥터프로그', '닥터프로그램', '닥터플로라', '닥터피앤비', '닥터피앤엘', '닥터피엔티', '닥터피플', '닥터하스킨', '닥터하우쉬카', '닥터헤디슨', '닥터헤어티티', '닥터헬렌', '닥터홍', '닥터힐럭스 뷰티뱅크', '단디마스크', '단미', '단비 프리미엄', '단순생활', '달라', '달란 디 올리브', '달리', '달리프', '달바', '달보드레', '달브5.5', '달빅', '달샤벳', '달스킨', '달코스메틱', '달콤리빙', '달토니', '달톤', '달파니스', '달팡', '달품애', '담의', '담이올', '당케', '대니멕켄지', '대디프로젝트', '대라', '대상웰라이프', '대웅생명과학', '대웅제약', '대일제약', '대진코스메틱', '댄싱웨일', '댄트롤', '댓츠', '댕기머리', '더 네이키드 오브젝트', '더 노즈', '더 드롭', '더 디퍼런트 컴퍼니', '더 마이부', '더 맑은 숨', '더 맑은 하우스', '더 뷰티풀 팩터', '더 브로우 갤', '더 블루', '더 비건 글로우', '더 사가 오브 수', '더 순수', '더 슈뜨', '더 실크 크리스탈', '더 컴포트', '더 케미스트리 브랜드', '더 해피 후르츠', '더 헌드레드', '더 호호바컴퍼니', '더 히스토리 오브 후', '더긴자', '더뉴셀', '더닐크팩토리', '더데이걸', '더라포', '더래쉬', '더랩 바이 블랑두', '더레드립', '더레브', '더롬브', '더리얼', '더리얼스킨', '더림', '더마 엘라비에', '더마 이', '더마5.5', '더마겔', '더마라인', '더마랜드', '더마렉스', '더마로프', '더마리프트', '더마린', '더마메디시나', '더마벨', '더마브', '더마브랜드', '더마비', '더마비쥬얼스', '더마샤이니', '더마세븐', '더마센트릭', '더마셀', '더마셀럽', '더마소드', '더마스비', '더마스토리', '더마슨', '더마쏘틱', '더마앤모어', '더마에스씨', '더마오드', '더마제이', '더마캐스트', '더마콜', '더마쿠아', '더마퀸', '더마큐어', '더마클라센', '더마키즈', '더마토리', '더마트라', '더마트로지', '더마티스', '더마팩토리', '더마펌', '더마플라츠', '더마플로우', '더마피아', '더마픽스', '더마필리아', '더마하우스', '더마허브', '더마힐', '더말', '더말로지카', '더멀매트릭스', '더메디닥터', '더메디코템', '더메스테릭스', '더메오', '더메이런', '더모리스', '더모테라피', '더모티브', '더뭉크', '더미나', '더미코스', '더바디샵', '더밤', '더벨루스', '더분', '더뷰티드', '더뷰티케어', '더브라이드', '더블링스킨', '더블앤제로', '더블업', '더블에스샤이니', '더블유드레스룸', '더블유랩', '더블이펙트', '더블하트', '더삼점영', '더샘', '더샴푸', '더세컨드에이드', '더셀인', '더솜씨', '더순수렛츠미', '더순해', '더숨', '더스논', '더스킨', '더스킨시리즈', '더스킨하우스', '더심플마켓', '더싹', '더쎄라', '더아로마샵', '더약돌', '더엔비피', '더연', '더우주', '더유앤미코스메틱', '더유핏', '더이룸', '더이츠', '더인키 리스트', '더잇보', '더작', '더제이에스', '더젤', '더조은', '더조은팜', '더좋은', '더칠', '더탱탱키시', '더툴랩', '더트포비아', '더티노프', '더티웍스', '더팜', '더퍼퓸', '더페이스샵', '더페이지', '더포션스', '더포시즌', '더폴린', '더퓨어', '더퓨어로터스', '더퓰', '더프트앤도프트', '더플랜트베이스', '더피유', '더피커', '더하르나이', '더하비스트', '더허브샵', '더허브스토리', '던롭', '던힐', '데드씨스파매직', '데렉 램 10 크로스비', '데메테르', '데몬멜로우', '데미', '데미에르', '데미케어', '데보나인', '데보라립만', '데비타', '데생', '데시구알', '데싱디바', '데쌍브르', '데쎄', '데어포어', '데오나츄레', '데오필 버톤', '데이데이', '데이드림', '데이랑스', '데이리쎄', '데이리어', '데이멜로우', '데이비', '데이비드 베컴', '데이셀', '데이위드', '데이즈온', '데이지크', '데이퍼센트', '데이퓨리', '데이플랜', '데일리 1그램', '데일리247', '데일리밸런스', '데일리비', '데일리스킨', '데일리시', '데일리아', '데일리아로마', '데일리원', '데일리유즈', '데일리콤마', '데일리톡스톡스', '데자뷰', '데자이안', '데저트에센스', '데즐유', '데코라걸', '데코르테', '데코뷰', '데톨', '데트클리어', '덴티 본조르노', '덴티스테', '덴티오', '덴프스', '델라롬', '델라루즈', '델라비에', '델론', '델리뷰티', '델리케어', '델스킨', '델큐어', '뎁', '도나비가노', '도담비', '도도레이블', '도도화장품', '도루코', '도르', '도몽', '도부', '도브', '도앤다스', '도어스 오브 런던', '도쿄밀크', '도테라', '돈워리', '돌리윙크', '돌체앤가바나 뷰티', '돌핀', '동구밭', '동국제약', '동방코스메틱', '동성제약', '동아제약', '동안백년', '동안비누', '동영제', '동의본초연구', '동의홍삼', '동인비', '동해다이퍼', '동화약품', '두낫', '두두베베', '두레생협', '두번째스무살', '두스 나뚜르', '두쏠뷰티', '두잇마미', '두칼라', '두피부', '두피중심', '듀랑스', '듀립', '듀씨엘', '듀어썸', '듀엠', '듀오', '듀오락', '듀왑', '듀이셀', '듀이트리', '듀크레이', '드기', '드끌레오', '드라니코', '드레스너에센스', '드레스킨', '드레싱82', '드레싱테이블', '드레아', '드레피데 드 퓨어', '드루', '드리문', '드리오페', '드림스킨', '드림아이', '드림웍스', '드봉', '드시모네', '드오캄', '들꽃잠', '들라크루아', '디 오디너리', '디노보', '디디케이', '디랑', '디레시피', '디마노', '디마스크', '디마프', '디모데', '디모먼트', '디바덤', '디바데바', '디바컵', '디뷰스', '디세스 뮤', '디솝', '디스이즈', '디스퀘어드2', '디시즈리얼', '디아더마', '디아랑쉬', '디아론', '디아르망', '디아페비누', '디알제이', '디앤비 코리아', '디앤써이즈와이', '디어 드라세나', '디어가든', '디어달리아', '디어러스', '디어렌즈', '디어로렌', '디어루시', '디어마이', '디어메이', '디어멜로', '디어문', '디어바디', '디어베리', '디어벨르', '디어본', '디어비', '디어서', '디어스킨', '디어오가닉', '디어오운', '디어올스킨', '디어클레어스', '디어테크', '디어패커', '디어프롬서울', '디얼시 바이오랩', '디업', '디에르', '디에이이펙트', '디에제르', '디엘', '디엘에이', '디엠씨케이', '디오넬', '디오더마', '디오메르', '디오비오', '디오키드스킨', '디오프러스', '디온리원', '디올', '디옴', '디자이너스킨', '디자인네이처', '디젤', '디즈니', '디칸', '디케어', '디케이메디비젼', '디크리닉', '디토피플러스', '디톡스 코리아', '디톨로지', '디파나시아', '디페어', '디페지', '디폰데', '디퓨어', '디프아', '디플린', '디헤이즈', '딕셔니스트', '딘토', '딜라잇18', '딜랑', '딜리고', '딥센트', '딥셍떼', '딥스', '딥스팁', '딥오데르', '딥티크', '딥퍼랑스', '딸고', '딸로', '딸리까', '때가솔', '땡큐파머', '떼오로', '떼즈블랑', '뚜라비', '뚜아엘', '뚱', '뜨엘', '띠스트', '띠아느', '띰', '띵스', '띵크베이비', '띵크오브네일', '라 띠에라', '라 메르', '라 사본느리 드 니옹', '라 에꼴러비스트', '라 클라리', '라고챠', '라곰', '라꼴린느', '라꾸베', '라끄메', '라끄베르', '라끄블루', '라끄시안', '라끌랑', '라네띠', '라네베', '라네이처', '라네즈', '라네즈 옴므', '라노', '라노아', '라누벨뽀', '라누보', '라다메르', '라덴스', '라덴트', '라돌프', '라뒤레', '라드하 뷰티', '라디메리', '라디셀', '라떼르', '라뜨라쥬', '라띠어리', '라라', '라라랩', '라라레서피', '라라문', '라라베시', '라라벨', '라라츄', '라라폴리', '라라프랑', '라로슈포제', '라루셀', '라루씨드', '라르', '라르꼬발레노', '라르끄', '라리타', '라마레따', '라마린', '라마티나', '라만데', '라모수', '라무르', '라뮤즈', '라뮬라', '라미스떼', '라미화장품', '라밀뷰티', '라바섬', '라베나', '라베라', '라벨로나', '라벨르', '라벨영', '라보니따', '라보닉', '라보드 더마펌', '라보드레', '라보라토리오 올파티보', '라보레', '라보에이치', '라보케어', '라보타치', '라본', '라부르켓', '라뷔게르', '라뷰떼코스메틱', '라브레아', '라비다', '라비앙', '라비오뜨', '라비템', '라빠레뜨', '라뽀엘', '라샤', '라숌브', '라스텔라', '라쌍떼', '라씨엘르', '라엘', '라오메뜨', '라오테르', '라온컴퍼니', '라우쉬', '라운드랩', '라운드어라운드', '라울루', '라이노', '라이브오랄스', '라이블', '라이블리 포레스트', '라이온', '라이징스타', '라이콘', '라이크아임파이브', '라이크와이즈', '라이크홀리', '라이트오브스킨', '라이트윙', '라이프 플로', '라이프썸', '라이프어스', '라이프익스텐션', '라이프케어', '라이프타임', '라이프투게더', '라이프픽', '라이필', '라인플라츠', '라임', '라입', '라제니쏭', '라쥬네', '라쥬니르', '라치나타', '라카', '라카빈', '라코리', '라코벳', '라코스테', '라코하', '라콘테', '라쿠라', '라퀴베', '라큐어보떼', '라클리아', '라타플랑', '라테뷰', '라티잔 파퓨머', '라파', '라파레1789', '라파로페', '라파젠', '라파휴먼', '라페르', '라페리', '라펜', '라포랩', '라포뮬', '라포앙', '라포유', '라포티셀', '라퓨레브', '라퓨멧', '라프', '라프레리', '라프레쉬', '라프레앙', '라프로솔', '라프와', '라플란디아', '라플립', '라피네', '라피네 지오', '라피엘랩스', '라피오리', '라피타', '라헬', '라홍', '라힐리', '락시옹', '락컬러', '락토덤', '락토바이옴', '락토클리어', '락토퓨어', '락토핏', '락티브', '락피도', '랄라블라', '랄프로렌', '랍셍스', '랑', '랑느', '랑방', '랑벨', '랑비앙', '랑세', '랑스레', '랑쥬드', '랑진글로벌', '랑콤', '랑팔라투르', '래디어스', '래쉬톡', '래쉬트리', '래쉬팝', '래쉬홀릭MD', '래이크 에비뉴 뉴트리션', '랜더', '랜드뮤지엄', '랜서', '랜슬리', '랩 디 타일랜드', '랩노', '랩노쉬', '랩스', '랩시리즈', '랩신', '랩코스', '랩클', '랩트리', '랩포유', '랩피토', '러범', '러뷰', '러뷰올', '러브러븀', '러브바드', '러브바스', '러브뷰티앤플래닛', '러브시네마', '러브앤네이처', '러브유어플래닛', '러브졸리', '러브파파', '러브패스포트', '러블럽', '러블리톡', '러비더비', '러비버디', '러빗', '러쉬', '러스', '럭스', '럭스뷰티', '럭키레인보우', '런드레스', '런드리유', '런슬로우', '럽스위치', '럽피', '레그미', '레꽁쁠레', '레노덤', '레노마', '레뉘앙스', '레드닥터', '레드리스', '레드북', '레드씰', '레드애플', '레드쿠키', '레드투래드', '레디', '레르드 사봉', '레머지', '레미 라투르', '레미니스', '레미떼', '레미셀', '레미쇼방', '레미유', '레베나', '레베코코', '레보', '레보네', '레불', '레브론', '레브쌍', '레브포레', '레비덤', '레비브레', '레비톨', '레삐', '레센셜', '레스큐어', '레스트리', '레스틸렌', '레스파라', '레스피레', '레시피', '레시피박스', '레아라 다이아포스', '레아셀', '레어루트', '레어카인드', '레오 티지아노', '레오놀그렐', '레이덤', '레이데이', '레이디 스피드 스틱', '레이디가가', '레이디그린', '레이디미모', '레이디앤스킨', '레이디킨', '레이라니', '레이블론', '레이블엠', '레이블옴므', '레이비', '레이어', '레이크 에비뉴 뉴트리션', '레이티드 그린', '레이펄스', '레인보우 라파엘', '레인보우 뷰티', '레인보우 앤 코', '레인보우라이트', '레인필드', '레쥬베라', '레쥬비카레', '레츠큐어', '레코마렝', '레트와', '레티나지', '레파차지', '레파토리', '레페토', '레푸스', '레퓨어', '레피소드', '렉살린', '렉스덤', '렉스모아', '렌 클린 스킨케어', '렌시스', '렌즈걸', '렌즈나인', '렌즈디바', '렌즈미', '렌즈베리', '렌즈스토리', '렌즈아이', '렌즈타운', '렌즈피아', '렛미스킨', '렛츠슬림', '려', '려올', '로고나', '로그네이처', '로나스', '로네츠', '로더27', '로더베르', '로덱스', '로델리아', '로드리', '로띠에', '로라 애슐리', '로라겔러', '로라메르시에', '로락', '로레알 프로페셔널 파리', '로레알파리', '로렌조 빌로레시', '로렌코스', '로렌페리스', '로로벨', '로로비', '로로스키니', '로리니크', '로리스 아자로', '로리앤첼', '로마', '로만', '로맨띠끄', '로메르', '로미로미', '로버츠', '로베르토 카발리', '로베르트 피게', '로베아', '로벡틴', '로벨리아', '로사케이', '로사퍼시픽', '로샤스', '로센스', '로스만', '로스켄', '로스코스', '로쎄앙', '로아', '로아나', '로아르', '로아제나', '로얄네이쳐', '로얄스킨', '로얄아포틱', '로어모어', '로어티브', '로에', '로에랑스', '로에베', '로엘', '로우', '로우퀘스트', '로웰', '로이로사', '로이비', '로이엘', '로임스킨', '로자그라프', '로자펠로', '로잘리', '로저앤갈렛', '로제', '로제드 자르딘', '로제앙뜨', '로제트', '로쥬키스', '로즈리나', '로즈마인', '로즈문', '로즈앤코', '로즈오브샤론', '로즈하트', '로지로사', '로지컬리스킨', '로츠', '로크넛', '로테체', '로토', '로트리', '로페', '로픈', '로플로릭', '로피타', '로하나코스킨', '로하셀', '로하스베베', '로하스보', '로하스웰', '로하시스', '로한', '록시땅', '록키스', '론지', '롤로하우', '롤리아', '롤리오', '롤리타 램피카', '롤린느', '롬복', '롬앤', '롭스', '롭킨', '롱리치', '료메르', '루나', '루나미', '루나솔', '루나컵', '루넷컵', '루데아', '루디아프레그런스', '루라', '루런트', '루루룬', '루룸쥬', '루리디아', '루마카', '루마카드오로', '루메네', '루멘코스', '루미덤', '루바토', '루벨리', '루비셀', '루비코리아', '루비크라운', '루셀', '루스티크', '루시도엘', '루시스', '루시앤코', '루시올레', '루시코', '루씨르뷰티', '루아셀', '루아스', '루아인', '루아치비', '루아페', '루아프', '루안', '루오끼', '루이 비통', '루이본', '루이비엘', '루이셀', '루이스 비드마', '루이스1987', '루이앤레이', '루이즈 드 로렌', '루이코스', '루익', '루잇', '루즈버니루즈', '루츠레시피', '루츠베이스', '루치아노 소프라니', '루치온', '루치펠로', '루카스 포포 레메디스', '루킹굿', '루토닉스', '루톤', '루투스', '루트리', '루트하우스', '루플로', '루피움', '루핀시아', '룩', '룩소캔들', '룩스앤메이', '룩앳헤어로스', '룩픽스', '룰429', '룰루앤코', '룸이블링', '류미에리나', '류스파', '류케이웨이브', '르 꽁뚜아르 뒤뱅', '르 라보', '르 보트르', '르 쁘띠 마르세이에', '르 쁘띠 올리비에', '르 푸르니에', '르끌랭나인', '르나르도', '르네셀', '르네즈미', '르네휘테르', '르누베르', '르누부', '르마르탱', '르몽도르', '르몽코스메틱', '르무엘뷰티', '르뮤', '르바디', '르뱅 나튀렐', '르베라쥬', '르본', '르봉', '르브와', '르블랑', '르샌드', '르샤트라 1802', '르세라이', '르시크릿', '르쌍끄', '르아밍', '르아베크', '르얀', '르에어', '르엘비디', '르오브', '르오에스', '르제', '르종', '르주르', '르지에', '르퀼라야', '르탄', '르티엔', '르포', '르프레시', '르프리엘', '르플랑', '리가든', '리거톡스', '리겐에스', '리겟', '리꼬베이비', '리꼼', '리나벨', '리나앤', '리네아빔비', '리놀라', '리뉴 라이프', '리뉴메디', '리다이찌', '리더겐', '리더스코스메틱', '리듀어', '리드플러스', '리르', '리리코스', '리리코스 마린에너지', '리리코스 마린플러스', '리릿', '리맥', '리메세', '리메스카', '리메코스', '리무브', '리물루스', '리바이리', '리바이탈래쉬', '리바이포유', '리바지', '리버그린', '리버티', '리베르', '리베르니', '리베스크', '리베스킨', '리복스투', '리본', '리본셀', '리봄화장품', '리뷰트', '리브 클린', '리브라운', '리브리브', '리브유코스메틱', '리브코이', '리븐 로즈', '리비바랩', '리비베레', '리빙 프루프', '리빙인아로마', '리산', '리샘', '리셀러 온리 퍼펙션', '리셀미', '리셀바이오', '리셀스킨', '리셋', '리슈브', '리스앙쥬', '리스킨', '리스태포드', '리스테린', '리스토어', '리스프링', '리쎄덤', '리아진', '리아체', '리앤리', '리앤오', '리앤웰', '리앤장코스메틱', '리앤코', '리앤쿡', '리얼 닥터', '리얼 테크닉스', '리얼딥', '리얼라엘', '리얼리진', '리얼베리어', '리얼쉐이빙', '리얼스킨', '리얼프라이스', '리에노', '리엔', '리엔케이', '리오엘리', '리온바이오', '리우젤', '리인생', '리인코스메틱', '리저브에이지 뉴트리션', '리제네프', '리쥬란', '리즈너뷰티', '리즈다', '리즈벳', '리즈케이', '리즐리', '리체나', '리츠힐러', '리치', '리치리치', '리치아이', '리코리스', '리코셀', '리퀴드 케라틴', '리클레어', '리클리', '리턴업', '리톨로지', '리투앤', '리튠', '리틀마마', '리틀블링', '리틀시베리카', '리틀클라우드', '리틀트윅', '리파', '리페라', '리포브', '리포존', '리퓨에라', '리퓸', '리프레쉬', '리프레쉬 바이 리엔케이', '리프리스크', '리피', '리피엘', '리하', '리하셀', '릭스', '린 글로벌', '린든리브즈', '린제이', '릴라릴리', '릴랑드보떼', '릴리 오브 더 데저트', '릴리바이레드', '릴리베스', '릴리소다', '릴리안', '릴리커버', '릴리프포유', '릴문', '릴크리터스', '림멜', '립리프', '립블룸', '립빠미', '립스매커', '립스틱 퀸', '립플레저', '립핑', '립힙', '링랭렁', '링셀', '링키빌리', '마가라이트 코스메틱', '마가렛조세핀', '마가핏', '마나술', '마녀공장', '마누세라', '마누카 시크릿', '마뉴팍투라', '마니에르레쎄퍼시픽', '마담미쉘', '마담행', '마댕', '마더네스트', '마더니아', '마더메이드', '마더스올', '마더스프', '마데스', '마데카21', '마데카더마', '마드레랩스', '마띠유', '마라카스', '마랑', '마렌뷰티', '마로17', '마로메라', '마로아', '마루빌츠', '마루엠스타', '마르게리따겔', '마르마르디', '마르시끄', '마르지아 클리닉', '마리꼬', '마리나드브루봉', '마리나올가', '마리마켓', '마리몬드', '마리아 닐라', '마리아갈랑', '마리앤유', '마리에', '마리엔메이', '마리오바데스쿠', '마리우스파브르', '마린마멀즈', '마린센츠', '마린팩', '마마몽', '마마버터', '마마슈', '마마치', '마맘수', '마망드프리에', '마망세뮤', '마몽드', '마미부비', '마비스', '마뿌', '마쉐리', '마스꼴로지', '마스꾸', '마스리그', '마스카컴퍼니', '마스크공작소', '마스크상사', '마스킹', '마스터바이옴', '마스티하샵', '마실', '마운트 라이', '마유나라', '마유다', '마유케어', '마이너스제로', '마이노벨', '마이니', '마이다스툴', '마이달리아', '마이데이즈', '마이디플러스', '마이로즈', '마이리얼스킨', '마이마유', '마이미', '마이뷰티다이어리', '마이블랙루틴', '마이쉘더마슈티컬', '마이스킨', '마이스킨솔루스', '마이에피', '마이오', '마이오운뷰티', '마이웨이 블링피치', '마이카인드', '마이케어', '마이코드', '마이크로셀', '마이클코어스', '마이포뮬러', '마이프레셔스엑스엑스', '마이헤어스토리', '마인고', '마인트리', '마일드랩', '마일드엠', '마잘', '마죠리카 마죠르카', '마지맥스', '마지스레네', '마카다미아프로페셔널', '마케리마케', '마크앤써니', '마크제이콥스', '마키사키', '마티나 겝하르트', '마티덤', '마티스파리', '마피엘', '마호리퀴드', '만다리나덕', '만자니아', '말리스묄러', '말콤', '맑은하늘', '맑을담', '맘미라클', '맘스베리어', '망고드랍', '매그넘', '매나테크', '매니스', '매닉 패닉', '매드 스킨케어', '매드미', '매드센트', '매드포코스', '매드히피', '매스티나', '매시브', '매자이트리', '매직브라이트', '매트리콜', '매트릭스 바이올라지', '맥', '맥녹', '맥쇼', '맥스클리닉', '맥스팩터', '맥시즘', '맥실', '맥심', '맥앤로건', '맥퀸뉴욕', '맥클린', '맨담', '맨사이언스', '맨썸', '맨즈랄라', '맨즈스킨', '맨헤즈', '머스테브', '머지', '먹어도좋아', '먼디파마', '먼슬리 코스메틱', '멀블리스', '멀크락', '멈칫', '메가더마톨로지', '메가리치', '메가스마일', '메그', '메나드', '메노킨', '메니콘', '메니큐', '메다비타', '메드라인', '메디겟', '메디나인', '메디덤코스메틱', '메디랩 더마', '메디마인', '메디믹스', '메디블레스', '메디블록', '메디비앙', '메디셀바이오', '메디셀프', '메디소스', '메디솔', '메디쉬재팬', '메디쉴드', '메디슨에비뉴', '메디안', '메디앤서', '메디어스', '메디에', '메디에어', '메디에클라로', '메디엔탈', '메디엘', '메디온', '메디올', '메디인', '메디쥬얼리', '메디치코리아', '메디컬 팩토리', '메디케어', '메디코리아', '메디코이', '메디큐브', '메디클레이', '메디타임', '메디테라피', '메디트리', '메디페르', '메디펜스', '메디포스트', '메디포포', '메디퓨린', '메디프랜', '메디프런트', '메디플라워', '메디플랜', '메디픽미', '메디필', '메디하임', '메디힐', '메디힐리', '메론', '메루나', '메르넬', '메르디센트', '메르비', '메르세데스 벤츠', '메르셀', '메르시비앙', '메르시앤코', '메르제', '메르필', '메르헨랩', '메리메디', '메리몽드', '메리뮤', '메리쏘드', '메리에코', '메리케이', '메리키트', '메리킹슬리', '메리트', '메리햄스터', '메머레르', '메모', '메모라블', '메블릭퍼퓸', '메소드', '메시루', '메이뉴욕', '메이니', '메이드로', '메이드미', '메이드앤메이크', '메이든느와르', '메이로더', '메이린', '메이메르', '메이미르', '메이베나', '메이브리즈', '메이블랑', '메이블린 뉴욕', '메이비도나', '메이슨 내츄럴', '메이시크', '메이아일랜드', '메이앤준', '메이엔', '메이준', '메이준쎌', '메이쿱', '메이크썸굿', '메이크아이즈', '메이크업레볼루션', '메이크업스튜디오', '메이크업포에버', '메이크업푸드', '메이크업헬퍼', '메이크온', '메이크페이스', '메이크프렘', '메이크힐', '메이클린', '메이키스', '메이팜', '메이플트리', '메저러블 디퍼런스', '메조시스', '메종 마르지엘라', '메종 프란시스 커정', '메종드라엘', '메종드모모', '메종드베베', '메종드펜세', '메종루이마리', '메종마에올', '메치니코프', '메카딕스', '메타포레', '메타포에스씨', '메틀러1929', '멕리듬', '멘넨', '멘소래담', '멘톨로지', '멜라루카', '멜로멜리', '멜로우터치', '멜릭서', '멜린앤게츠', '멜비타', '멜사본', '멜트모어', '멜팅피', '명문제약', '모공도둑', '모나이트', '모나쥬', '모노더마', '모노템', '모놀로그', '모닝글로리베이비', '모닝브이', '모다모다', '모데블랑', '모델로', '모델스오운', '모도루코리아', '모드니가', '모디가드', '모라츠', '모레모', '모레아스', '모로칸오일', '모리채', '모리화', '모린다', '모메이', '모멘토옴므', '모모쏘우', '모모코스', '모모코스메틱', '모모타니', '모모플린', '모발아', '모브쌩', '모브판타스틱에버', '모비타', '모스', '모스키노', '모스티브', '모아', '모아트', '모어벨라', '모에타', '모엔드', '모웰', '모이스올가', '모제림 닥터', '모찌스킨', '모크샤', '모트', '모트앤베일리', '모펙트', '모하니', '몬더비', '몬드레브', '몬뜨', '몬스터랩', '몬스터팩토리', '몬스토리', '몰토베네', '몰트', '몰튼 브라운', '몰피', '몽고키스', '몽니스', '몽디에스', '몽뜨허브', '몽발', '몽베누스', '몽벨레', '몽블랑', '몽블리', '몽블리에', '몽크로스', '몽태랑', '묘오한', '무구', '무궁화', '무닉', '무드매쳐', '무로', '무백', '무슈제이', '무스텔라', '무스투스', '무아', '무어스파', '무이벨라', '무인양품', '무진편백', '무차차', '무카이', '무칸', '무코타', '묵티', '문', '문샷', '문썸', '물다', '물들임', '물빛미', '뭄', '뭉클', '뮤', '뮤 테누토', '뮤겐스', '뮤드', '뮤라드', '뮤러쉬', '뮤렌', '뮤리', '뮤뮤르', '뮤스템', '뮤어스킨', '뮤즈베라', '뮤토페이스', '뮬', '미가비', '미구하라', '미궁365', '미나비', '미냐', '미네랄랩스', '미네스트', '미넴보떼', '미논', '미누', '미니멀어스', '미니소', '미니언즈', '미니츠', '미닛', '미다', '미도씨', '미드나잇시네마', '미라떼', '미라쥬코스메틱', '미라클30', '미라클로망스', '미라클톡스', '미래코스메틱', '미래파', '미르엔', '미르필코리아', '미리', '미리암퀘베도', '미릴', '미마', '미메이', '미멜로디', '미모노리', '미모야', '미뮤즈', '미미', '미미나꼬', '미미드', '미미로린스', '미미앙', '미미엘', '미바', '미바이케이', '미샤', '미세아코스메틱', '미셸', '미소년', '미소랜드', '미소스', '미소월', '미소유', '미송코스메틱', '미쉘메르시에', '미슈블루밍', '미스레그', '미스매드', '미스미즈', '미스사사', '미스용', '미스케이', '미스코', '미스킨', '미스터 바우어', '미스터버블', '미스터베리디크', '미스터아머', '미스터파이브', '미스트랄', '미스티안', '미스틱 하버', '미스틴', '미슬린', '미아 뉴트라', '미아뜨', '미아우라', '미애부', '미애수', '미엘레브', '미엘리스트', '미엘코스', '미엘팝', '미엘프로페셔널', '미오기', '미와수', '미완성 프로젝트', '미우미우', '미이네', '미인록', '미쟝센', '미즈노텐시', '미즈온', '미즈코리아', '미쯔요시', '미체', '미친스킨', '미카', '미카로카', '미켈란젤로', '미크릿', '미클랜', '미클리핑', '미클릭', '미키모토코스메틱', '미티오', '미팩토리', '미포샵', '미프', '미플레이', '미하이스35', '미화스토리', '믹순', '믹스모아', '민스샵', '민트리', '민트스푼', '민트팩토리', '밀도랩', '밀라니', '밀레루어', '밀레피오리', '밀렌', '밀리마쥬', '밀리맘', '밀리언 퍼센트', '밀리언레드', '밀리언뷰티', '밀본', '밀에이드', '밀콧', '밀크메이크업', '밀크바오밥', '밀크앤코', '밀크터치', '밀키드레스', '밀킨', '밀턴로이드', '밈5', '밍밍', '바게지', '바나나', '바나나리퍼블릭', '바나나보트', '바나나스토리', '바나날', '바나다왁싱', '바나브', '바나실', '바나코스', '바난겐', '바노바기', '바니루니', '바니크', '바니크림', '바닐라 스컹크', '바닐라베리', '바닐라부티크', '바닐라블라썸', '바닐라코', '바다미소', '바데메이스테레이', '바디네이처', '바디노크', '바디닥터스', '바디럭셔리', '바디럽', '바디루틴', '바디버든프로젝트', '바디셋', '바디쉴드', '바디썸', '바디앤네이처', '바디컷', '바디콜로지', '바디판타지', '바디홀릭', '바라보니', '바라뷰티', '바랑소리', '바랩', '바렌', '바로티나', '바록스', '바론', '바료랑', '바루랩', '바루에이블', '바르', '바르시오', '바르테라', '바른', '바른생각', '바름메디', '바리엘', '바멜다', '바바나나', '바바라도로시', '바바리안H', '바바우', '바바파파베이비', '바버', '바버501', '바베', '바베노', '바브레아', '바비리스', '바비멜로', '바비브라운', '바비쉬', '바비펫', '바세린', '바솔', '바쉬', '바슈롬', '바스로망', '바스아니모', '바스트우드', '바스파', '바실리사', '바야', '바와', '바운시아', '바유', '바이네프', '바이노바', '바이니즈', '바이더닥터', '바이라', '바이레도', '바이리뮤', '바이먼로', '바이브랩', '바이브레이트뷰티', '바이비 뷰티', '바이비드', '바이빠세', '바이손', '바이아우어', '바이알루', '바이애콤', '바이예랑', '바이오', '바이오 프로그래밍', '바이오가', '바이오가이아', '바이오더마', '바이오드로가', '바이오디톡', '바이오레시피', '바이오리', '바이오메드', '바이오메이트', '바이오부띠끄', '바이오상스', '바이오아머', '바이오아쿠아', '바이오얼스', '바이오에스', '바이오오일', '바이오이펙트', '바이오큐틴', '바이오티크', '바이오퍼시픽', '바이오플렉스', '바이오피엘', '바이오힐 보', '바이올렛보스', '바이위시트렌드', '바이코', '바이크림', '바이탈디비', '바이탈뷰티', '바이탈스푼', '바이탈헬스', '바이테리', '바이트뷰티', '바이파미셀랩', '바이핸드메이더', '바이허브', '바이홈', '바지실', '바툼', '바티스트', '바프시스', '바한', '박명수의헤어리치', '박준뷰티랩', '반데르피게', '반디', '반디비', '반얀트리', '반코르', '반클리프 아펠', '반트 36.5', '반하다 코스메틱', '발드르', '발라손', '발레리노', '발레아', '발렌시아가', '발렌티노', '발롱블랑', '발릿', '발망', '발몽', '밤코스메틱', '밥미키', '밥스누', '방앗간화장품', '배내스템', '배드스킨', '배럴코스메틱스', '배스키트', '배쓰앤블룸', '백년약방', '백도씨테일러', '백스터', '백아율', '백옥생', '백코리아', '백투더네이처', '백투식스틴', '밸런스킨', '밸르모나', '밸업네이처', '뱀포드', '뱃저', '뱅네프생토노레', '버드데이트', '버디팜', '버르장머리', '버버리', '버블몬스터', '버블톡', '버블티', '버진노블', '버진팜스', '버츠비', '버터런던', '벅섬', '번스타인', '벌크옴므', '범블앤범블', '베네브', '베네비타', '베네스킨', '베네자임', '베네지아', '베네코스코리아', '베네통', '베네툴', '베네피트', '베노스탄', '베누타', '베니넷', '베니슈', '베니아3', '베니즈와', '베니테이블', '베다이트', '베라라이프', '베라왕', '베러나우', '베러데이', '베로니스', '베로카', '베르뉴', '베르두', '베르뱅땅', '베르베르스', '베르벨르', '베르사유의장미', '베르사체', '베르플로스', '베리디크', '베리떼', '베리맘', '베리미', '베리브', '베리썸', '베리아워', '베리웰', '베리홉', '베베', '베베가닉', '베베구루', '베베랩', '베베루나', '베베모린', '베베셀', '베베숲', '베베스킨', '베베아모르', '베베와나', '베베코', '베베풋', '베브비오라지끄', '베블', '베비루미', '베비언스', '베사메코스메틱', '베스', '베스베니', '베스처', '베스하우스', '베쏘네', '베어미네랄', '베어블랑', '베이글', '베이브', '베이비 코스메틱', '베이비베일', '베이비풋', '베이비하트', '베이스 랩', '베이지츄', '베이지크', '베이직게이트', '베이직오브', '베이커세븐', '베이크어반', '베일리스 앤 하딩', '베제사이데알', '베지하이', '베카', '베타딘', '베투스', '베티 바클레이', '벡스터', '벡시', '벤스킨케어', '벤자케어', '벤튼', '벨', '벨 엔드 빌리스', '벨그림', '벨네이처', '벨더마', '벨라', '벨라랩', '벨라루시', '벨라루체', '벨라몬스터', '벨라베프', '벨라수', '벨라슈아', '벨레다', '벨레마드레', '벨레샤', '벨레스피아니', '벨레자', '벨로닉스', '벨로체', '벨로코스', '벨론', '벨르드망', '벨르랑코', '벨르제이', '벨리나', '벨리미뉴', '벨리불리', '벨먼', '벨보이스튜디오', '벨비', '벨비죠', '벨비티앙', '벨앙브아', '벨카', '벨포트', '보고신약', '보나데아', '보나메두사', '보나벨라', '보나비츠', '보나수아', '보나쥬르', '보나클', '보나파이드', '보나플러스', '보노톡스', '보니비노', '보니앤제이', '보니힐', '보닌', '보다나', '보드리움', '보드맨', '보떼', '보뚜', '보라썸', '보랄', '보령머드코리아', '보로미', '보로탈코', '보르게세', '보르도', '보만', '보미라이', '보본', '보브', '보비니', '보쉐뉴욕', '보스닉', '보스티나', '보시아', '보쏘드', '보아르', '보알렛', '보얀', '보엡', '보우라니', '보위화장품', '보코통', '보타네스', '보타니스트', '보타니컬테라피', '보타니쿠스', '보타니티', '보타닉센스', '보타닉스', '보타닉투웬티', '보타닉팜', '보타닉힐 보', '보타랩', '보타메디', '보타미안', '보타믹스', '보태니싸인', '보태니컬즈', '보탬', '보테가 베네타', '보테가 베르데', '보텍', '보토나 더말로직스', '보튼', '보티시아', '본결', '본랩', '본비반트', '본어게인뉴', '본에스티스', '본에어', '본체청정 연', '본코스메틱', '본투바이오', '본투샤인', '본트리', '볼라욘', '볼렉시', '볼루스파', '볼륨77', '볼륨바이태양', '볼비앙', '볼빅', '볼빨간 썅언니', '볼카', '볼트', '봄날가게', '봄이오다', '봉프레', '부광메디카', '부광약품', '부농', '부르조아', '부산언니', '부쉐론', '부츠', '부츠에센셜', '부케가르니', '부티쥬르', '부티크룸', '북해도바유코보', '분더샵', '분더투', '분랩', '분스', '분자', '분장몰', '분코', '불가리', '불가리안로즈', '불독', '불리 1803', '불스원', '붐디아다', '붐베이직', '뷔뜨플랑', '뷔센', '뷰가닉', '뷰끌레', '뷰니오', '뷰닉스', '뷰디아니', '뷰랑셀', '뷰마레', '뷰벨', '뷰세라', '뷰센', '뷰솔', '뷰스킨', '뷰스타', '뷰썸', '뷰아라', '뷰애드', '뷰앤뷰', '뷰앤뷰티', '뷰이슨', '뷰인스', '뷰코셋', '뷰코스메틱', '뷰크로스', '뷰클래스', '뷰킷리스트', '뷰트리', '뷰티끄랩', '뷰티끄베베', '뷰티라보', '뷰티레시피', '뷰티리더', '뷰티리퍼블릭', '뷰티메드', '뷰티메이커스', '뷰티모리', '뷰티방앗간', '뷰티베이커리', '뷰티블렌더', '뷰티비기닝', '뷰티수티컬즈', '뷰티스', '뷰티스푼', '뷰티썸', '뷰티앤뷰', '뷰티앤아이', '뷰티에어포트', '뷰티여우 아토클리닉', '뷰티영', '뷰티오', '뷰티움', '뷰티원', '뷰티인어스', '뷰티척', '뷰티콜라겐', '뷰티크레딧', '뷰티클로', '뷰티테라피', '뷰티트리', '뷰티트릿', '뷰티파이', '뷰티포뮬라', '뷰티풀닷컴', '뷰티풀스킨', '뷰티피플', '뷰티핏', '뷰틱', '뷰핸', '뷰화', '브델리움툴스', '브라운', '브라운랩', '브라질리언시크릿', '브랑떼', '브랙티', '브레스브레스', '브레스킨', '브레오', '브로앤팁스', '브로이코스메틱', '브론니', '브롬브롬', '브뤼케', '브리다', '브리스노우', '브리스킨', '브리아', '브리엔', '브리오지오', '브리올옴므', '브리티시엠', '브리한스', '브릴로즈', '브릴리나', '브릴리스킨', '브릴리언트', '브릴리에', '브릴리에잇', '브링', '브링그린', '브링오가닉', '브에노', '브이글램', '브이렛', '브이앤 치약', '브이에이피', '브이큐엠', '브이퓨어', '브이해빗', '블라세아', '블라이드', '블라이코드', '블락', '블랑101', '블랑네이처', '블랑누보', '블랑두', '블랑두부', '블랑드', '블랑드바디', '블랑디바', '블랑로더', '블랑로즈', '블랑블랑', '블랑블랙', '블랑쉐', '블랑스', '블랑앤에클레어', '블랑카우', '블랑풀', '블랙루즈', '블랙모어스', '블랙몬스터', '블랙미카', '블랙샷', '블랙셀', '블랙업', '블랙웨일', '블랙페블', '블랭크', '블랭크미', '블레스문', '블렌드가든', '블로블로우', '블로우', '블루검', '블루나', '블루리자드', '블루마린', '블루마인드', '블루메이', '블루밍가든', '블루밍셀', '블루밍앤미', '블루바틀', '블루반', '블루보넷 뉴트리션', '블루블루', '블루인더스', '블루캐롯', '블루트리앤코', '블루파인', '블룸리씨', '블리블리', '블리센트', '블리스', '블리스텍스', '블리쏘마', '블링글로우', '블링썸', '블링팜', '비건이즈', '비글렌', '비긴스', '비꼼비오', '비꽃', '비너스스파', '비누가', '비누옹달샘', '비누원', '비다걸', '비단발', '비단생', '비달사순', '비더마틱', '비더블유씨', '비더살롱', '비더스킨', '비디보브', '비디비치', '비랩', '비레디', '비레머디스', '비롯', '비메이트', '비바루즈', '비바브놀', '비바스', '비바시티', '비바이바닐라', '비바이오', '비바코리아', '비바프루스', '비밸런스', '비버리힐스 폴로클럽', '비버즈', '비베카', '비브', '비브라스', '비브랜드', '비브리브', '비블랭크', '비블리아', '비비도', '비비드', '비비드글로시', '비비드랩', '비비드스튜디오', '비비드앤보그', '비비드온', '비비또', '비비랩', '비비르', '비비벨라', '비비슈어', '비비스칼프로', '비비씨', '비비안웨스트우드', '비비야', '비비코', '비셰', '비쉬', '비스티', '비스페라', '비시크', '비아로사', '비아르랩', '비알레', '비알머드', '비알워터풀', '비앤비', '비앤비메디컬', '비앤비지', '비앤솝', '비앤진', '비어랩', '비얼라우', '비에끄', '비에날', '비에르', '비에스코스 앤 에스미아', '비에스코퍼레이션', '비에이치랩', '비에이치스토리', '비에이치코스메틱', '비에코', '비에타', '비에티', '비엔비타', '비엔엔생명과학', '비엘렌다', '비엘리', '비엘케이', '비엠비코', '비엠엘', '비엠티', '비오라보', '비오라쎄', '비오레', '비오르', '비오베럴', '비오비앙', '비오빔', '비오에스', '비오엠', '비오코스', '비오쿠라', '비오클라쎄', '비오템', '비오템옴므', '비오투름', '비오트릿', '비오피치나토스카나', '비온뒤첫소금', '비올란', '비욘', '비욘드', '비욘드 더레미디', '비욘세', '비움', '비원츠', '비유비', '비유피', '비읍', '비자함', '비제아르', '비제이크라맥스', '비주', '비주얼', '비즈랩', '비즈톡스', '비츄인', '비치헛', '비카', '비카인코스', '비케이로웰', '비케이셀', '비케이수', '비큐셀', '비클', '비클레어', '비타그램', '비타끄렘므', '비타리움', '비타민마을', '비타민월드', '비타민하우스', '비타브리드', '비타스파', '비타콜라겐', '비타퓨전', '비타하임', '비타할로', '비투와이', '비트', '비트레스', '비티', '비티엔코스', '비티코리아', '비판톨', '비페스타', '비포락토', '비포즈', '비퓨어', '비프로젝트', '비프루브', '비플라스티', '비플랫', '비플레인', '비플립', '비피도', '비피도랩', '비피에스', '빅', '빅그린', '빅터앤롤프', '빅토리뉴욕', '빅토리숲', '빅토리아', '빅토리아시크릿', '빅티그', '빈센트존', '빈센트콜', '빈스캐빈', '빈앤뷰', '빈티지앤코', '빌라쥬11팩토리', '빌리', '빌리브에어', '빌리질러시', '빌리프', '빠니에데썽스', '빠이요', '빼라', '뺄리오', '뻬르브아', '뽀로로', '뽀빠파리', '뽀송발', '뽀숑', '뽀아레', '뿌띠', '뿌빠', '쁘띠꼬모', '쁘띠로드', '쁘띠앤', '쁘띠트리', '쁘띠페', '쁘띠푸르', '쁘레띠앙', '쁘리마쥬', '삐빕', '삐아', '사나', '사나투라', '사노산', '사노플로레', '사라나라', '사라제시카파커', '사랑새', '사바나헤어테라피', '사바비안', '사바이아룸', '사베마송', '사벡스', '사보리노', '사본느리', '사봉', '사사키', '사샤후안', '사우스비치스킨솔루션즈', '사이오스', '사이클스타일', '사임당화장품', '사티나', '사포네 디 알레포', '사포렐', '사포힐', '산 미니아또 알 몬떼', '산다화', '산도깨비', '산들산들', '산듯', '산새미', '산수시', '산심', '산타디토크', '산타마리아노벨라', '산테', '살롱 드 느바에', '살롱드사봉', '살롱레시피', '살롱집', '살롱핸즈', '살림백서', '살바도르달리', '살바르', '살바토레 페라가모', '삼마', '삼성메디컬엔지니어링', '삼현제약', '상공양행', '상떼', '상아제약', '상아코스메틱', '상쾌한 하루', '상하농원', '상하이탕', '새뜸원', '새뜻', '새라제나', '새록', '새론', '새롬바이오', '새롬코스메틱', '새살', '새살로', '새터데이 스킨', '새한화장품', '샌시', '샐러리그룹', '샐리스박스', '샘앤션', '샘케이', '생그린', '생모맥', '생블랑쉬', '생크몽드', '생활공작소', '생활도감', '생활정원', '생활참숯', '샤나즈', '샤넬', '샤니', '샤라샤라', '샤롯데멘첸', '샤르드', '샤르벨라', '샤리나키', '샤리올', '샤본다마', '샤비엔', '샤오미', '샤우마', '샤워메이트', '샤이노모어', '샤이니 코스메틱', '샤이니페이스', '샤인미', '샤인웰', '샤인이지글램', '샤카트', '샤프란케어', '샨홍', '샬랑드파리', '샬롯 틸버리', '샴프니', '샵벨르', '샵케이', '샹탈 토마스', '샹테카이', '샹프리', '서광유통', '서나', '서밋트리', '서바이오', '서우코리아', '서울살롱', '서울약사신협', '서울화장품', '서원알로에', '서화비88', '선다운내추럴스', '선데이라일리', '선랩', '선티크', '설당프리', '설레임코스메틱', '설중정', '설지윤', '설화수', '성리연구소', '성마리오농장', '성분에디터', '성진양행', '세나벨라', '세노비스', '세니덤', '세델', '세뚜아', '세라디쿠프라', '세라마인', '세라비', '세라젬', '세라즈', '세라케어', '세라코스', '세라코코', '세라클리닉', '세럼카인드', '세레니끄', '세레이져', '세레치피', '세렌디뷰티', '세루리안', '세루티 1881', '세르고', '세르본', '세르주루텐', '세리박스', '세바메드', '세바스찬', '세벨리아', '세븐드롭스', '세븐스 제너레이션', '세븐스타', '세븐윙스', '세븐틱', '세븐피엠', '세쉐', '세이벨라', '세이브앤코', '세이어스', '세이키세', '세이퓨', '세이프크린', '세인트랩', '세인트이브스', '세인트프랑', '세잔느', '세컨디자인', '세컨리스트', '세큐어', '세타필', '세포라 컬렉션', '세포랩', '섹시스트판타지', '섹시포뮬라', '센르', '센소다인', '센카', '센테카솔', '센텐스', '센텔리안24', '센트', '센트17', '센트룸', '센트플로라', '센틀리에', '센티멘탈', '센티폴리아', '센필', '셀녹', '셀담', '셀더마', '셀드로우', '셀라', '셀라니코', '셀라랩', '셀라리온', '셀라쥬르', '셀라피', '셀러버', '셀럽미', '셀럽바이재클린', '셀럽브랜드', '셀럽시크릿', '셀럽페이스', '셀레뷰', '셀레스', '셀레오페', '셀레피덤', '셀레피트', '셀렉스', '셀렉스 C', '셀렉티드', '셀렌덤', '셀로가닉', '셀로니아', '셀로닉스', '셀로디온', '셀로맥스', '셀로몬', '셀루스', '셀루시드', '셀루언스', '셀룸', '셀르', '셀르엘', '셀리나', '셀리너', '셀리딘', '셀리맥스', '셀리본', '셀리비아떼', '셀리시스', '셀리아르럭셔리', '셀리언스', '셀리턴', '셀리톡스', '셀리한센', '셀린저', '셀링데이', '셀마주', '셀몽드', '셀뮬러', '셀미인', '셀바이셀', '셀바이텐', '셀버너', '셀베다', '셀베르트', '셀베리어', '셀보크', '셀본', '셀브릭', '셀블룸', '셀비엔', '셀아처', '셀앤비', '셀엔코', '셀지온', '셀코스메틱', '셀큐어', '셀킨', '셀턴', '셀트러스트랩', '셀트리온스킨큐어', '셀트윗', '셀티바', '셀티지', '셀포메드', '셀퓨전씨', '셀프리티', '셀프뷰티', '셀프코딩', '셀피덤', '셀피온', '셀피움', '셉', '션리', '소그냅', '소나연스토리', '소네피트', '소녀나라', '소노스킨', '소느레이', '소니아카슉', '소라레이', '소락', '소로시', '소르하', '소문', '소바솝', '소버스', '소베놈', '소보생활건강', '소본', '소브나인', '소셜클럽메드', '소소생활', '소소풀', '소소한', '소스 내츄럴', '소시에떼', '소싱뷰', '소울', '소울시즌스', '소이베베', '소중한날엔', '소키와칸', '소티스', '소프리스', '소프소프', '소프킨', '소프트립스', '소프트스킨', '소프티모', '소피', '소피나', '손바유', '손앤박', '손앤손', '솔가', '솔나라', '솔더랩', '솔데자네이로', '솔랩', '솔루덤', '솔루메브', '솔루미에스테', '솔루시안', '솔리노트', '솔리엔스', '솔약사네', '솔잎', '솔테라피', '솔트레인', '솝앤글로리', '솝퓨리', '솝하우스', '송죽화장품', '쇼아뜨', '쇼파드', '숀리핏푸드', '숄', '숌', '수네이처', '수니', '수니컴퍼니', '수도크림', '수랏', '수랩', '수려한', '수마노', '수모로', '수미안', '수미화장품', '수바나', '수분아', '수블라썸', '수비', '수소미', '수소톡톡', '수수리', '수아담', '수아도르', '수아베시토포마드', '수아브', '수아비스', '수아연', '수안수', '수애뉴욕', '수앤', '수연후', '수오가닉', '수운수', '수이사이', '수이스킨', '수카스', '수킨', '수퍼리브즈', '수페', '수피요', '순녹', '순다리', '순백수', '순상고', '순수데이', '순수뷰티', '순수식품', '순수연구소', '순수예감', '순수자아', '순수코스메틱', '순수한면', '순시키', '순야', '순풍', '순플러스', '순하다', '숨37˚', '숨랩', '숨마스크', '숨맑은집', '숨쉬GO', '숨코리아', '숨프리', '숲속안심', '쉐도우 문', '쉐이브닥터', '쉬드엘', '쉬라', '쉬엘리사벳', '쉬즈', '쉬즈라인', '쉬즈에브리데이', '쉬크', '쉭드파리', '쉭앤칙', '쉼표리빙', '슈가레브', '슈가스트립이즈', '슈가인', '슈돌츠', '슈라멕', '슈레피', '슈리에', '슈몽', '슈바츠코프', '슈베스', '슈보', '슈비체', '슈슈', '슈슈페인트', '슈어베이스', '슈얼리', '슈에무라', '슈츠', '슈퍼내츄럴스', '슈퍼뉴트리션', '슈퍼페이스', '슈퐁', '스가오', '스너글', '스노우버디', '스노우투플러스', '스니키', '스로움', '스린케어', '스마티팬츠', '스매쉬박스', '스멜리', '스멜캅', '스몰란드', '스무드이', '스무스', '스무스 어웨이', '스미다', '스미스 로즈버드 살브', '스바보다', '스비스', '스와니코코', '스와디시크릿', '스완슨', '스웨거', '스위스', '스위스 나뚜리치', '스위스 유스트', '스위스 투가르투', '스위스 퍼펙션', '스위스퓨어', '스위틴', '스즈요 코리아', '스치기', '스치듯', '스카이', '스카이밀크', '스카이보틀', '스카이케어', '스칸스킨', '스칼큐', '스칼프 디', '스칼프메드', '스캔들', '스케다', '스케덤', '스콧해미쉬', '스쿠', '스키네이쳐', '스키노그라피', '스키니랩', '스키니셜', '스키니온', '스키니탠', '스킨 바리스타', '스킨 아이디어', '스킨 아이슬란드', '스킨 액츄얼리', '스킨 잉크', '스킨1004', '스킨32', '스킨79', '스킨구하리', '스킨그래머', '스킨네이션', '스킨닥터', '스킨덤', '스킨드셀럽', '스킨디나비아', '스킨라벨르', '스킨랩솔루', '스킨레브', '스킨레지민', '스킨리아', '스킨메시지', '스킨멜로우', '스킨미소', '스킨밸런스', '스킨볼릭', '스킨부탁', '스킨비', '스킨빌더스', '스킨세라믹', '스킨수티컬즈', '스킨스보니', '스킨스쿨', '스킨스튜디오', '스킨식스', '스킨쎌', '스킨씨', '스킨아리', '스킨아이', '스킨아이콘', '스킨악센트', '스킨알엑스랩', '스킨애', '스킨앤', '스킨앤닥터', '스킨앤랩', '스킨앤코 로마', '스킨어블', '스킨에디터', '스킨에이전트', '스킨에이지', '스킨엠디', '스킨엠디내추럴', '스킨와쳐스', '스킨젠', '스킨조아', '스킨츄', '스킨컬쳐', '스킨코드', '스킨코치', '스킨콕', '스킨테이블', '스킨톡', '스킨톡스', '스킨파크', '스킨팜', '스킨팟', '스킨팩토리', '스킨푸드', '스킨푸드 뉴질랜드', '스킨프레쉬', '스킨프리스티', '스킨하이', '스킨하트', '스타롤', '스타일 71', '스타일 바이 아이안', '스타일씨', '스타일아로마테라피', '스탠다즈', '스테디', '스테이얼', '스텔라', '스텔라블랑', '스텔라센트', '스텔라앤마마', '스텔비', '스템큐', '스토리화', '스톤브릭', '스트라이덱스', '스트라이벡틴', '스티멍', '스티펠', '스틸라', '스팀베이스', '스팀크림', '스파시스', '스파실론', '스파오', '스팟콘', '스페랑스', '스펠라', '스포랩', '스포맥스', '스포메틱스', '스포츠리서치', '스푼', '스프링풀', '스피큘엑스', '슬로소피', '슬로우글로우', '슬로우랩', '슬로우미', '슬로우하우스', '슬릭', '슬림라운지', '슬림워크', '슬림플래닛', '슬아라', '시그마', '시노텍스', '시니케어', '시드물', '시루콧토', '시메스', '시모먼트', '시몬말레', '시바랩', '시바비젼', '시바산', '시부뷰티', '시샘', '시선', '시세이도', '시세이도 인터그레이트', '시세이도 인터그레이트 그레이시', '시세이도 프로페셔널', '시스올로지', '시스코코', '시스테마', '시슨드시', '시슬리', '시아떼', '시안스파', '시어니스트', '시어모이스처', '시어테라오가닉스', '시에라비', '시에라샤통', '시에로', '시예누', '시오뉴', '시오레', '시오리스', '시즌바이시즌', '시즌키트', '시치미뚝', '시카고', '시카렐리', '시카리닉', '시코르', '시크릿', '시크릿 드 프로방스', '시크릿네이처', '시크릿데이', '시크릿뮤즈', '시크릿버진', '시크릿벨', '시크릿에이', '시크릿에이지', '시크릿키', '시크릿플랜트', '시크홀릭', '시타', '시투와이', '시티라이프랩', '시프트', '식물나라', '식스마스크', '식스브릭스', '식스킨컬러', '신가네', '신기석', '신데렐라스토리', '신드롬코스메틱', '신디뷰티코리아', '신비앙', '신비오님', '신생활', '신세대', '신신제약', '실루에뜨', '실리스카 프로페셔널', '실케스크', '실크 리더', '실크 허브 에센스', '실크테라피', '실큰', '실키아', '심플', '심플러', '심플리랩', '심플리스틱', '심플리오', '심플리웍스', '심플리젠틀', '심플리카', '심플벗', '심플뷰티', '싸이닉', '싸이클렉스', '싸이폴라', '싹싹이', '쌀롱드리', '쌍뗄라', '쌍빠', '쌍황연', '쌔뮤', '쌤잇', '쌩크드보떼', '쌩텀', '써니데이', '써니드마리에', '써니체크', '써메딕플러스', '써모슈티컬', '써미스트', '써스데이 플랜테이션', '써틴먼스', '썬라이더', '썬리피드', '썬메디칼', '썬스타 검', '썬실크', '썬키스트', '썬플랜', '썸머스이브', '썸바이미', '썸블라썸', '썸원라이크유', '썸펜', '썸헤어', '썽봉', '쎄라덤', '쎄비보타닉', '쎄페', '쎈솔리아', '쎈트힐', '쏘', '쏘내추럴', '쏘닷비', '쏘두위', '쏘맨', '쏘미미', '쏘실크', '쏘피', '쏘헤어', '쏜리서치', '쏠렉다움', '쏭레브', '쓰리', '쓰리액트랩', '쓰리에이치', '쓰리하', '쓸엠에이치케어', '씨놀', '씨덤', '씨드비', '씨드앤트리', '씨드앤팜', '씨라클', '씨뮤', '씨부스', '씨스터앤', '씨스팡', '씨씨붐', '씨아떼', '씨앤지코리아', '씨앤트리', '씨앤피 알엑스', '씨에스랩', '씨에프21', '씨에프씨랩', '씨엔', '씨엔디엘', '씨엔에스글로벌', '씨엔에스월드전자', '씨엔케이', '씨엘바이오', '씨엘엠', '씨엘톡톡', '씨엠디', '씨위드배스', '씨위드톡스', '씨케이디', '씨큐몽', '씨크', '씨투엠 프로페셔널', '씨티씨바이오', '씨티엘', '씨프로덕츠', '씨피원', '씨헨느', '씰리', '씻는팩', '씻지마', '씽크네이처', '씽크바이오', '씽크스포츠', '아가31도', '아가씨', '아가애', '아가타 코스메틱', '아가파', '아가판', '아가피아', '아그라이아', '아꼬제', '아나스타샤 베버리힐즈', '아나시스', '아네츠', '아넷사', '아놀드 파마', '아누비스', '아누아', '아더마', '아던샵', '아델', '아델리오', '아도라스', '아도르', '아도사', '아떼', '아띠베', '아띠아', '아띠코스', '아라미스', '아라시아', '아라씨', '아라온', '아라크리스', '아라탑페이스', '아라한', '아렌시아', '아로니카', '아로마데이', '아로마랩', '아로마린', '아로마미', '아로마스', '아로마앳홈', '아로마용', '아로마컴퍼니', '아로마코', '아로마코코', '아로마티카', '아로마틱', '아로셀', '아로제', '아로하트리즈', '아론', '아루미루', '아루즈', '아르데코', '아르띠네', '아르미유', '아르베라', '아르비앙', '아르비엔', '아르시코', '아르젤란', '아르지탈', '아르카디아', '아르코맨', '아르키펠라고', '아르테티끄', '아르티코 블랑', '아르페', '아를린', '아름다운나라', '아름다운연구소', '아름연', '아리끄', '아리따움', '아리시스', '아리아나 그란데', '아리얼', '아리얼 클린 앤 세이프', '아리즈웰', '아리코코', '아마란스', '아말다', '아망트', '아메리칸 헬스', '아멜리', '아모레퍼시픽', '아모스프로페셔널', '아므', '아미노비오틴', '아미니', '아미모네', '아미솝', '아미옥', '아미카', '아미퓨어', '아바마트', '아바앤느', '아발론오가닉스', '아방센', '아베다', '아베뜨', '아베아', '아베크롬비앤피치', '아베크힐', '아벤느', '아벨루나', '아벨리뜨', '아벨모', '아보', '아보드 아로마', '아보리덤', '아비노', '아비노베이비', '아비브', '아비셀', '아비프', '아빠미워', '아빠비누', '아삐데르마', '아사벨라', '아삽', '아세즈', '아소시에', '아쉐미네', '아쉬세븐', '아스떼', '아스타', '아스파시아', '아스펜베이캔들', '아스포델', '아시리라', '아야라야', '아에르', '아오뗄', '아오모리', '아오미', '아오아', '아오와', '아요델', '아우라', '아우라 아듀라', '아우라카시아', '아우리가', '아우슈라', '아울', '아웃런', '아웃오브도시', '아웃오브아프리카', '아워그린', '아워글래스', '아월즈', '아월즈앤무드', '아유아유', '아윤채', '아율', '아이그너', '아이나이', '아이나코', '아이노아이원', '아이니프', '아이다코스메틱', '아이더블유엘티', '아이데스 데 베누스타스', '아이덴', '아이돈띵쏘', '아이돌렌즈', '아이듀케어', '아이디비', '아이디얼 포 맨', '아이디플라코스메틱', '아이떼', '아이랩 코스메틱', '아이러버', '아이레시피', '아이로제', '아이로제프로브', '아이릴리프', '아이마망', '아이메데스', '아이메디슨', '아이메이징', '아이멜리', '아이몬프로', '아이미스', '아이미코리아엠에스', '아이베베', '아이보리', '아이브', '아이브리', '아이비', '아이빔', '아이뽀', '아이샤드', '아이소브', '아이소이', '아이솔브', '아이수피아', '아이쉬코리아', '아이스마일', '아이스크림', '아이스트', '아이스펌킨', '아이아쁘', '아이앤립', '아이에코', '아이엔티', '아이엘아이', '아이엘이', '아이엘프유', '아이엠비', '아이엠셀', '아이엠피엠', '아이오', '아이오유', '아이오페', '아이와릴리프', '아이유', '아이유닉', '아이유비', '아이제제', '아이젠버그', '아이조아', '아이지아', '아이차밍', '아이참', '아이캔디', '아이쿤', '아이크라운', '아이크아이크', '아이키디아', '아이태미', '아이템스바이', '아이플', '아이피키', '아이힐', '아일', '아임더마스크', '아임뮤즈', '아임미미', '아임세레느', '아임쉐이크', '아임쏘리포마이스킨', '아임오', '아임유니', '아임파인', '아임프롬', '아장 프로보카퇴르', '아제린', '아젤리크', '아조나', '아쥬반', '아즈텍 시크릿', '아초아', '아치프로텍션', '아카사', '아카카파', '아칸실', '아코벳', '아쿠닉', '아쿠라보', '아쿠보', '아쿠아 드 폴리', '아쿠아 디 파르마', '아쿠아더마', '아쿠아마리', '아쿠아사봉', '아쿠아토', '아쿠아퍼', '아쿠아플래닛', '아쿠아픽', '아쿠알로', '아쿠올리나', '아쿠이스', '아쿠탑', '아큐브', '아큐스', '아큐어', '아크네스', '아크라민', '아크로패스', '아크메르', '아크웰', '아크틱오션', '아큼두', '아키즈', '아킨', '아킬렌', '아타라', '아테스토니', '아텍스', '아토99', '아토가디엔젤', '아토넬', '아토라떼', '아토리엔', '아토마유', '아토멘토', '아토몽드', '아토뮤', '아토베니아', '아토베베', '아토보스', '아토비케이', '아토빈', '아토샵', '아토세이프', '아토솔트팜', '아토스탠다드', '아토아이', '아토아토', '아토앤오투', '아토엔비', '아토오겔', '아토원스', '아토큐앤에이', '아토큐젠', '아토클래식', '아토트로', '아토파인', '아토팜', '아트델리', '아트드랩', '아트릭스', '아트박스', '아트코스', '아틀리에비', '아틀리에코롱', '아티니카', '아티스트리', '아틸라', '아페리레', '아페이론', '아프리모', '아하바', '악마다이어트', '악마돼지', '안국건강', '안나가스피', '안나민화장품', '안나수이', '안나쉘', '안나플러스', '안나홀츠', '안네마리보린', '안눈치아타', '안달로우 내추럴스', '안드레아 아이큐즈', '안란', '안스킨', '안씨브러쉬', '안테나샵', '안티셉티카', '안티카누스', '안티톡스', '알고덤', '알고안', '알골로지', '알덴테', '알디프', '알라피아', '알레', '알레바', '알렉산더킴스코', '알렉산드로', '알렉스코스메틱', '알렌바이오', '알로밸리', '알로스페이스', '알로에베라코리아', '알로인스', '알롱', '알리', '알리다', '알리마퓨어', '알리오', '알리원', '알만바시', '알메르', '알메카랩', '알바 보타니카', '알베르데', '알보우', '알브단스', '알브이랩', '알비레오', '알비온', '알씨투', '알앤디랩', '알엑스88', '알엔더블유', '알엠에스뷰티', '알이', '알자토', '알제니스트', '알콘', '알키미아', '알키미아솝', '알터에고', '알테아', '알투엑스', '알티야오가닉스', '알파 에이치', '알파노바베베', '알파밸런스', '알파브로스', '알파비', '알페신', '알프레산', '알프츠', '알피스트', '암버팜', '암브로시아', '암앤해머', '암웨이', '압구지엔', '압솔루시옹', '앙방', '앙부땅', '앙비', '앙샹떼', '앙스스킨', '앙쎄', '앙쥬', '앙코', '앙티엘', '애경', '애니가드', '애니메이션', '애니원', '애니케어', '애니쿨', '애니테이프', '애니팩', '애드리언 게그넌', '애드올', '애드윈', '애리조', '애쉬로렌', '애스톤네이처', '애즈이즈투비', '애터미', '애프리', '애프터스윔', '애프터플러스', '애플라임', '애플린', '애플캔들', '애플트리 김약사네', '액탄플러스', '액트원씬파이브', '액티바리브', '액티베리어', '액티브레이어', '앤365렌즈', '앤드앤엔드', '앤드위크', '앤드트리', '앤디얼', '앤랩', '앤샤카', '앤서나인틴', '앤서프롬', '앤수', '앤아더스토리즈', '앤앤드', '앤클레어', '앤티퍼디', '앰플로지', '앰플엔', '앱솔룹', '앳킨슨', '야다', '야들리 런던', '야만', '야슈브', '야시엔코', '야오', '야옹섬', '야와라', '야콥후이', '약손명가', '얀녹', '얀센코스메틱', '양키캔들', '양팡샵', '어글리솝', '어글리프루프', '어나더브라이트', '어나더스킨더랩', '어네이즈', '어노브', '어니스트맘', '어니시', '어덜리스무스', '어도어블랑', '어드밴스드 코스메티카', '어드밴스드 클리니컬스', '어딕션', '어띵스', '어라운드미', '어리틀레이지', '어메이진', '어메이징맨션', '어뮤즈', '어바니카', '어바니크', '어바웃미', '어반돌키스', '어반디케이', '어반리브즈', '어반스케이프', '어반스튜디오', '어반트라이브', '어비어스', '어셀리', '어스로하', '어스봄', '어스사이언스', '어스세러퓨틱스', '어시크', '어울', '어웨어', '어웨이크어슬립', '어코어', '어파티', '어퓨', '어플라이드 뉴트리션', '어피어', '어헤즈', '언니일기', '언니톡', '언더텐', '언더투앤티', '언듀', '언리시아', '언스', '언파코스메틱', '언프리티랩스타 코스메틱', '얼라이브', '얼라이브랩', '얼라이즈 오브 스킨', '얼릭드바렌스', '얼반 그리너프', '얼스노트', '얼스레시피', '얼스마마', '얼스와이즈', '얼타3', '얼티', '엄마사랑', '엄마의목욕탕레시피', '엄마프움', '엄허종의 아이스플랜트', '업타운리즈', '없었던일로', '에가리떼', '에게이안스토리', '에고라운드', '에꼬끄', '에꼴', '에끌라두', '에끌라쎄', '에끌레어', '에네스티', '에뉴뷰', '에데낭스', '에데닉', '에델스타인', '에드몽', '에디션 드 퍼퓸 프레데릭 말', '에딧비', '에따 리브르 도랑주', '에뛰드', '에뜨 레벨', '에띠나', '에띠앙', '에르네', '에르노 라즐로', '에르메네질도 제냐', '에르메스', '에르모니', '에르바리오 토스카노', '에르보리앙', '에르비', '에르시', '에르쯔틴', '에리예', '에리제론', '에릭슨', '에멜시', '에바다목초', '에바비레나', '에바비바', '에바솔', '에바수', '에바스코스메틱', '에바프로페셔널', '에반옴므', '에버 콜라겐', '에버그린', '에버레이드', '에버레인', '에버모어', '에버미라클', '에버비키니', '에버셀', '에버에센스', '에버투엔티', '에버프레쉬', '에벤센트', '에브리갈릭', '에브리데이 미네랄', '에브리맨잭', '에브리쁘띠', '에브리샤인', '에브리톡톡', '에비스', '에비앙', '에비타', '에빈코리아', '에뿌', '에센셜 바이 아티스트리', '에센스', '에센스오브아르간', '에센허브', '에스까다 코스메틱', '에스네이처', '에스더액션', '에스더퀸', '에스더포뮬러', '에스따르', '에스룸', '에스리턴', '에스멜린', '에스미라클', '에스쁘아', '에스씨오스티아', '에스아이에스', '에스알21', '에스알비', '에스알픽', '에스엔', '에스엔케어', '에스엘씨코스메틱', '에스엠뷰티박스', '에스엠케이', '에스엠티에스', '에스지엔', '에스지코', '에스케이투', '에스케이투맨', '에스코', '에스큐랩', '에스크메이크', '에스테', '에스테 듀', '에스테덤', '에스테로스', '에스테맥스', '에스테메드', '에스테벨', '에스테오', '에스테트윈', '에스테티카', '에스테틱하우스', '에스투엔디', '에스투지', '에스트라', '에스티 로더', '에스티 에딧', '에스티크', '에스페레', '에스페소플러스', '에스폴리오', '에스프레소', '에스프리끄', '에슬레나', '에시오로', '에실드', '에쌍시엘', '에쎌로비앤씨', '에쏘띠', '에씨', '에어데이즈', '에어땡큐', '에어룩스', '에어리브', '에어리쉬', '에어린', '에어마인', '에어엠', '에어오아시스', '에어윈드', '에어퀸', '에어포레스트', '에어화이트', '에오스보떼', '에이네이처', '에이노멀', '에이달리', '에이디스', '에이딕트', '에이로', '에이르', '에이르보', '에이밀', '에이바이봄', '에이바자르', '에이뷰티', '에이블랙', '에이비랩스', '에이비에이치플러스', '에이비팜', '에이빌', '에이센트', '에이셀렉', '에이솔루션', '에이스원', '에이스킨', '에이스톱', '에이썸', '에이쓰리에프온', '에이씨케어', '에이씨화인', '에이에스에프', '에이엔젤스', '에이엠 코스메틱', '에이엠아이 시리즈', '에이엠이', '에이오플러스', '에이요 코스메틱', '에이유플러스', '에이전트 프로보가터', '에이제트에이치', '에이지엠 코스메틱', '에이지투웨니스', '에이처드', '에이치디메디스', '에이치엔엠', '에이치엘 사이언스', '에이치투스킨', '에이치투씨오쓰리', '에이컨셉', '에이코', '에이코리', '에이토솔루션', '에이투에이지', '에이투케이', '에이트루', '에이티폭스', '에이페', '에이포뮬러', '에이프릴스킨', '에이플로', '에이플비', '에이필드', '에이필랩', '에잇그로우', '에잇뷰티', '에잇타임즈포', '에쥬아', '에츠하차임', '에코글램', '에코드림', '에코립스', '에코뮤', '에코벨라', '에코스라인', '에코스토어', '에코시크릿', '에코원', '에코유어스킨', '에코케어', '에코코스메틱', '에코툴즈', '에코팩토리', '에코홀릭', '에코힐링', '에콜린', '에큐라', '에크멀', '에키아', '에템', '에튜세', '에트로', '에티카', '에티튜드', '에펜디', '에포', '에포나', '에포라', '에퓨리엘', '에프다이어리', '에프쓰리 시스템즈', '에프알이피', '에프앤디넷', '에프에이', '에프에이치아이코리아', '에프에프', '에프엠메이크업', '에프지뷰티', '에프플로우', '에피벗', '에피소드', '에피엘르', '에피큐렌', '에피티크', '에픽테토스', '에필로우', '엑사브라', '엑살리아', '엑셀', '엑스비앙스', '엑스비앙스 프로페셔널', '엑스와이지 포뮬러', '엑스와이코스', '엑스폴리메이트', '엑시스와이', '엑시피알', '엔가드', '엔도케어', '엔뜨라다', '엔리안', '엔리치', '엔바세', '엔바이스', '엔베코팜', '엔비', '엔비어스', '엔세루스', '엔수스', '엔스킨', '엔시아', '엔시언트 뉴트리션', '엔시피', '엔씨 메디컬', '엔씨엘바이오', '엔야', '엔엠씨', '엔오가니스', '엔오에이치제이', '엔와이씨', '엔젤', '엔젤루카', '엔젤링시크릿', '엔젤어라운드', '엔젤팩토리', '엔젤페이스', '엔젤하트', '엔젯오리진', '엔조라이', '엔조이컬러', '엔코스', '엔터니티', '엔텔', '엔티엠티', '엔티플러스', '엔펠', '엔펩', '엔프라니', '엘 마르', '엘가닉', '엘다스', '엘도린', '엘라라', '엘라로아', '엘라밴드', '엘라스틴', '엘라시아', '엘라지오', '엘라코리아', '엘러브', '엘레강스', '엘레팡드코', '엘렌 트레이시', '엘렌실라', '엘로엘', '엘루어', '엘루자이', '엘르', '엘르걸', '엘리너스', '엘리닉', '엘리랩', '엘리먼츠', '엘리메르', '엘리뷰', '엘리사브', '엘리샤코이', '엘리스', '엘리시나', '엘리시엔', '엘리식스', '엘리안토', '엘리자베스아덴', '엘리자베카', '엘리트 모델스', '엘리포포', '엘리푸', '엘린도', '엘립스', '엘모르', '엘바이피', '엘보라리오', '엘뷰티', '엘비다', '엘비비', '엘비엑스씨', '엘비체', '엘비코스메틱', '엘시스', '엘앤씨바이오', '엘에스엠', '엘에이브리즈', '엘오가닉', '엘지생활건강', '엘컨', '엘케이코스메틱', '엘큐어', '엘크레', '엘크릿', '엘클라', '엘티스킨', '엘프 코스메틱스', '엘프람', '엠도씨', '엠듀', '엠디레비스', '엠디셀', '엠디스픽', '엠디엔에이스킨', '엠마녹스', '엠마뉴엘웅가로', '엠브리올리스', '엠비코스믹', '엠솔릭', '엠쓰리디', '엠씨엠', '엠에스에이치', '엠에스투플러스', '엠엘비 코스메틱', '엠엠코리아', '엠오앤씨', '엠유에스티', '엠케이캔들', '엠켈리더마', '엠퀴리', '엠큐어', '엠킨', '엠포리오아르마니', '엠폴레타', '엠플러스', '엠피파마', '엣지유', '엥뎀', '여우화장대', '여자사람', '여향', '역대급 커먼스', '연세대학교', '연작', '영롱', '영생보감', '영시', '영진약품', '예나안', '예님', '예브랑', '예뽀', '예스', '예스뷰티', '예스티', '예스핏', '예썸', '예인인더스', '예지미인', '예향공방', '예화담', '옛', '옛새', '오 데 러브', '오가나셀', '오가노', '오가니스트', '오가니아', '오가니크', '오가닉그라운드', '오가닉오늘', '오가닉팜', '오가닉포에버', '오가닉피지', '오가리프스', '오겐블릭', '오겟', '오그도아', '오그체', '오글로우', '오끌레어', '오노마', '오늘부터 어성초', '오늘습관', '오늘의날씨', '오니스트', '오닐리', '오데즈알프스', '오도어 코스메틱', '오듀', '오듀셀', '오드로이', '오드리선', '오드리앤영', '오드베리', '오디넌스', '오딧세이', '오뜨리빙', '오뜨베', '오띠', '오띠앙', '오랄비', '오랩스', '오렌즈', '오로라', '오로라 IPL', '오롯', '오르나', '오르비스', '오르자드', '오르템', '오르힐', '오를리', '오리베', '오리지널 스프라우트', '오리지널로우', '오리지널소스', '오리진스', '오리진어스', '오리진티', '오리팬', '오릭스', '오린비', '오마르', '오마베베', '오마샤리프', '오멜론', '오모로비짜', '오미다', '오바코', '오밸류', '오베오', '오브레', '오브리오가닉스', '오브베이스', '오브웨이', '오브제', '오블리스', '오비앙', '오비포스', '오샐런스', '오설록', '오센트', '오센틱', '오셰르코스메틱', '오소묘', '오스모', '오스뮴', '오스카 드 라 렌타', '오스킨랩', '오스트레일리안 네이티브 보타니컬스', '오스트레일리안 보태니컬', '오스트레일리안골드', '오슬로메가', '오썸', '오쎄', '오쏘몰', '오아', '오아이브', '오아이엠', '오아인', '오아후', '오앤에이', '오에라', '오엘라', '오엘리', '오엠', '오엠엠', '오오시마츠바키', '오오티디', '오오하와이', '오우썸', '오운', '오울루', '오월리', '오월의아침', '오이보스', '오이샵', '오인트랩', '오일릴리', '오일아리아', '오일풀링', '오제끄', '오제인', '오존', '오즈 비엔에이치', '오즈랩', '오즈비', '오즈켈리', '오지', '오지아이', '오카', '오케이', '오쿠라코세', '오쿠보', '오클래식', '오키프', '오킵스', '오탑', '오테라', '오토이', '오투메이트', '오투에니원', '오투오투', '오팔', '오페라', '오페이스 코리아', '오퓨리', '오프라', '오프라벨', '오프온', '오픈프리', '오피아이', '오하나마하로', '오하이오후', '오호라', '오휘', '옥반식품', '옥시젠슈티컬스', '옥시티컬', '온그리디언츠', '온그린', '온누리플랜', '온니온니', '온더바디', '온도', '온리프라이스', '온바림', '온새미인', '온시야', '온유', '온유약품', '온퍼퓸', '온푸드', '온호프', '올가드', '올가드림', '올가라인', '올가플러스', '올가휴', '올댓투애니즈', '올데이코스메틱', '올드스파이스', '올디엔', '올라잇', '올라플렉스', '올랩', '올레아에센스', '올레이', '올레이디', '올레헨릭슨', '올로르', '올로스', '올롯테라피', '올리', '올리고더미', '올리버 스트렐리', '올리베리어', '올리보스', '올리브갤러리', '올리브놀', '올리브영', '올리세', '올리아', '올리엔스', '올리오일', '올리올리', '올리패스', '올림스킨', '올림피언랩', '올마스크스토리', '올마이띵스', '올마이립스', '올바른 건강', '올빚', '올솔', '올앳미', '올어바웃랩', '올어바웃수', '올웨이즈', '올웨이즈비퓨어', '올페이즈', '올프리', '옵스킨', '옵시디앙', '옵타움', '와소', '와이데이', '와이딥', '와이미코스메틱', '와이브', '와이블룸', '와이엔미라힐', '와이엠', '와이제이코퍼레이션', '와이즐리', '와이츄', '와이콘코스메틱', '와이키키', '와이트리', '와일드보틀', '와일드펀', '와카클럽', '왁세린', '왁스앤왁싱', '왁스어웨이', '왁스키스', '왐폴', '왕스킨', '왕타', '요지야', '요코', '욥', '용두', '용자몰', '용카', '우드버리', '우드윅', '우르오스', '우리가스토리', '우리꽃연구소', '우리리우', '우먼스톡', '우수수케어', '우신화장품', '우와한', '우주코스메틱', '우즈오브윈저', '우태하코스메틱', '우테나', '우테크람', '우화만', '운포키토', '울루 바이 닥터 오킴스', '울타민스', '울트라브이', '울트라썬', '웅진', '웅진릴리에뜨', '워샤', '워터코스', '워터픽', '원더 뷰티', '원더바스', '원더스리빙', '원더트렌드', '원더페이스', '원더포레스트', '원데이뉴트리션', '원데이원팩', '원데이즈유', '원돌리', '원료공방', '원솝', '원스인어문', '원씽', '원오세븐', '원진이펙트', '원파운데이션', '원파인데이', '원페이스', '원포인트 네이쳐', '원플러', '웨신', '웨이스킨', '웨이크메이크', '웨이트로즈', '웨트러스트', '웬', '웬즈데이', '웬즈데이블루', '웰가드', '웰네이처', '웰더마', '웰라 프로페셔널즈', '웰라쥬', '웰러스', '웰런스', '웰리브', '웰리카', '웰릿', '웰모어웰', '웰바스', '웰빙헬스팜', '웰스킨', '웰스트로우', '웰츄럴', '웰코스', '웰클린', '웰킵스', '웰틱스', '웰퓨어', '웻브러쉬', '웻앤와일드', '위가드', '위글위글', '위니치', '위대한카피캣', '위더스아이엔씨코리아', '위드마이', '위드모먼트', '위드미', '위드보스', '위드샨', '위드썸아트', '위드컵', '위드피카', '위스퍼', '위시다이어리', '위시포뮬러', '위시풀', '위즈더마', '위챠', '위치스파우치', '위케어', '위큐어', '위크엔드', '위클리랩', '위키드 랩', '윈썸제이', '유겐', '유기농본', '유노하나', '유니더마', '유니메드제약', '유니베라', '유니베르소', '유니시티', '유니크미', '유니크앤펀', '유니픽쳐', '유닉스', '유라인코스메틱', '유랍', '유랑', '유리드', '유리스킨', '유리아쥬', '유리즌', '유리카', '유리프', '유리피부', '유브이랩', '유사나', '유산균하우스', '유세린', '유스', '유시몰', '유씨지 피테로마', '유안재네이처', '유알스킨솔루션', '유알코스메틱', '유앤아이', '유앤오일', '유어락', '유어스', '유어썸', '유어피스', '유얼레디노우', '유에이치디', '유우키', '유유제약', '유이라', '유이크', '유즈', '유치더', '유키', '유키누', '유키위', '유티오리', '유피토스', '유하다베베', '유하트', '유한덴탈케어', '유한양행', '유한에스겔', '유화연', '육심원', '윤25', '윤미경연구소', '윤블링', '율립', '은율', '이고 선센스', '이글립스', '이나프', '이너감', '이너랩', '이너미쉬', '이너브랜', '이너블', '이너비', '이너셋', '이너스랩', '이너칼리아', '이너펄스', '이너페이스', '이너프', '이너프 프로젝트', '이네스네이처', '이네이션', '이네이처', '이노드', '이노랩', '이노벨라 코스메틱', '이노블랑', '이노센스', '이노쉐이브', '이녹사', '이니스프리', '이니카', '이데넬', '이뎀', '이든', '이든 미네랄', '이든트리', '이디코리아', '이땅', '이띠에라', '이라이프', '이레뷰티호텔', '이레이바', '이레프 어글리덕', '이로미스', '이로아', '이로운 연구소', '이롬', '이롬플러스', '이루틴', '이르메디', '이리아고트밀크', '이마트', '이마트트레이더스', '이머', '이뮤니티 타임', '이뮤랩', '이바바', '이바인', '이벤', '이보', '이볼루덤', '이브', '이브 드 시스뗄르', '이브라인', '이브로쉐', '이브롬', '이브크림', '이사십오', '이세이미야케', '이센트릭 몰리큘스', '이소랄', '이솔', '이솝', '이스딘', '이스뜨와 드 퍼퓸', '이스라이브러리', '이스키아', '이스터', '이스트이어', '이스프렌', '이슬품은나', '이시스파마', '이씰린', '이아소', '이아이레', '이아이오', '이안셀', '이앤네이처', '이앤코리아', '이엔비케어', '이엔에스', '이엔코스', '이엘티', '이엠케이', '이연물산', '이영애', '이오', '이오스타', '이오시카', '이오에브리원', '이와사이', '이유테라피', '이자녹스', '이제이엔', '이즈그린', '이즈립', '이즈바라 오가닉스', '이즈앤트리', '이즈클리니컬', '이즈프럼', '이지덤뷰티', '이지듀', '이지마인드', '이지숨', '이지엔', '이지와이', '이지은 바를거리', '이지파우더', '이지팜', '이지피지', '이지함', '이집션매직', '이쪼메디', '이채', '이츠코어', '이치가미', '이치방칸', '이카트리나 뉴욕', '이케메스', '이케모토', '이케이', '이케이뷰티', '이켈', '이쿼발렌자', '이퀄', '이퀄리브', '이퀄베리', '이클립스', '이파랑', '이폴리', '이프너리', '이프리트', '이플래쉬', '이희', '익스큐즈 마이 프랭크', '인그람스', '인더센트', '인더스', '인디리', '인디코코', '인바이트 이', '인벨로', '인비아포테케', '인셀덤', '인스바이엔', '인스타내추럴', '인스턴트펑크', '인스테드', '인스티튜토 에스파뇰', '인스티튜트카리테', '인써비', '인쏘뷰', '인어밀리언', '인워드', '인코코', '인큐브', '인클로즈', '인타', '인터미션', '인테로', '인테이크', '인투메디', '인투스킨', '인투잇', '인튜브', '인트라슈티컬스', '인트로큐어', '인트린직', '인티메이트', '인퓨즈 마이 컬러', '인퓨지엄', '인프레쉬', '일동제약', '일동후디스', '일라마스쿠아', '일라이어스', '일라클', '일레븐 휴즈데이', '일론', '일루미나주', '일루미넘', '일루일리', '일리온', '일리윤', '일상닥터', '일소', '일양약품', '일월', '일진약품', '일진코스메틱', '일품송', '입사', '입생로랑 뷰티', '입솜', '입큰', '잇비', '잇빅', '잇츠마인', '잇츠미', '잇츠스킨', '잇코스메틱스', '잇템', '잇툴즈', '잇퍼', '잇포유', '잇퓨', '잉가', '잉글롯', '잉크팝', '잎스', '자그로탄', '자나빌리', '자도르', '자라나', '자라홈', '자로우포뮬러스', '자미에슨', '자미원', '자민경', '자바', '자바스', '자브', '자빈드서울', '자생바이오', '자연그대로', '자연그리고나눔', '자연느낌', '자연담은유리병', '자연드림', '자연마을', '자연맵핑', '자연미인', '자연생각', '자연으로', '자연의벗', '자연이랑', '자연지애', '자연향기', '자온', '자올', '자이누', '자이라', '자이모겐', '자이엘', '자작나눔', '자주', '자쿠아', '자크밸런스', '자트인사이트', '자황코스메틱', '작트', '잔나아브르', '잔느프로방스', '잔다셀', '잘풀리는집', '장데스트레', '장봉근헬스케어', '장샤를르브로소', '장아떼', '장파투', '장폴고티에', '재스', '잭블랙', '쟈뎅데크리뱅', '쟈스', '쟌피오베르', '저겐스', '저메인드카푸치니', '저스트고고', '저스트마이데이', '저스트세라', '저스트핏', '저스틴비버', '저즌머리', '젊젊', '정결안', '정관장', '정관장 굿베이스', '정글키즈', '정글트리', '정샘물', '정원가게', '정원삼', '정직한실험실', '제나벨', '제나셀', '제너럴 밸런스', '제너럴라이프', '제너럴세븐', '제너렉스', '제네르떼', '제네시스', '제네틱', '제노', '제노그린', '제노덤', '제노리스', '제노브', '제노셀', '제노시스', '제노자임', '제니벨', '제니스웰', '제니아', '제니케일리', '제니코코', '제니튼', '제니퍼로페즈뷰티', '제니하우스', '제니핸즈', '제로베이', '제로비탈', '제로솝', '제로앱솔루', '제로이드', '제몰로지', '제무', '제스젭', '제스파', '제시나인', '제시카코스메틱', '제이글로리', '제이더블유생활건강', '제이더블유파크', '제이델포조', '제이듀', '제이드 롤러 뷰티', '제이멜라', '제이뮤', '제이미', '제이베럴즈', '제이부띠', '제이블레니끄', '제이비코', '제이센코스메틱', '제이숲', '제이스더마', '제이스레시피', '제이슨', '제이알왓킨스', '제이앤브이', '제이앤아델', '제이앤에이치 블랩', '제이앤제이', '제이앤코슈', '제이에스티나', '제이에스티나 레드', '제이에스티나 뷰티', '제이엑스 프로페셔널', '제이엘뷰티', '제이엠 코스메틱', '제이엠더블유', '제이원', '제이준', '제이캣뷰티', '제이케이글로벌', '제이코나', '제이투엠투', '제이프라스', '제이플리', '제이피아', '제이필런', '제이한나', '제이황', '제인패커', '제일리', '제주리퍼블릭', '제주수', '제주엔', '제주온', '제주이야기', '제주햇살담음', '제트티유', '제프리 제임스 보타니컬스', '젝시믹스', '젠시', '젠와이즈 헬스', '젠톨로지', '젠틀닥터', '젠틀루', '젠틀마스크', '젠틀카모', '젠틀코드', '젠틀파파', '젠틀프로젝트', '젠틀피버', '젤라또팩토리', '젤라토레', '젤로젤로', '젤로즈', '젤리쉬', '젤리퐁퐁', '젤앤걸', '젤존', '젤쿠어', '젤팡', '젬소', '젭블루', '조니스찹샵', '조다나', '조러브', '조르단', '조르지오아르마니', '조말론', '조선미녀', '조성아22', '조성아™', '조성아뷰티', '조시마랜', '조아제약', '조야', '조에오가닉', '조율체', '조이', '조이 리서치', '조이바', '조이인', '조이코스', '조일론', '조조스', '조지스알로에베라', '조지앙로르', '존갈리아노', '존마스터스오가닉', '존바바토스', '존스킨', '존슨즈바디케어', '존슨즈베이비', '존예코스메틱', '존프리다', '존피토', '졸랑', '졸렌', '좀비뷰티', '종근당', '종근당건강', '종근당바이오', '종작', '좋은느낌', '좋은효소', '주네스', '주노코스메틱', '주다코', '주디스리버', '주레오', '주미소', '주비아스플레이스', '주스', '주야', '주엘', '주원메디칼', '주인공', '주주', '주주럭스', '주트', '주티크', '주환바이오셀', '준마', '준텐시', '줄라이모닝', '줄라이미', '줄리스립', '줄리스초이스', '줄리아루피', '중외제약', '줴디수와', '쥬디메르', '쥬뜨브', '쥬띠앙', '쥬리아', '쥬리웨니', '쥬베라', '쥬쁘', '쥬스 투 클렌즈', '쥬시꾸뛰르', '쥬시줄리', '쥬시플', '쥬아', '쥬에', '쥬이오가닉', '쥬쥬베', '쥴라이', '쥴레', '쥴리안느', '쥴리크', '지고트', '지구샵', '지나인스킨', '지노프레쉬', '지니더바틀', '지니핀', '지디일레븐', '지르', '지미추', '지바힐즈', '지방시 뷰티', '지베르니', '지비앤', '지비에이치 코스메틱', '지비티랩', '지아나앤오드리', '지아니', '지아뜨', '지아자', '지안프랑코페레', '지애후', '지앤에스코스메틱', '지엔에스티', '지엔지몰', '지엘', '지엘리', '지엘지엔비', '지엠바이오', '지엠팜', '지오가닉', '지오닉스', '지오리카', '지오마', '지오바니', '지오팜', '지온컴퍼니', '지웨이', '지유솔루션', '지저쓰', '지젤드롬', '지지', '지지랩', '지쿱', '지투셀', '지투스킨', '지투온', '지트', '지포', '지피스킨', '지피엠', '지핸즈', '진', '진마유', '진바이오메틱스', '진순', '진여수화장품', '진저6', '진케어', '질경이', '질레트', '질베르리니망', '질샌더', '질스튜어트', '쨈', '쭈드레', '차니', '차랩', '차앤비', '차울', '차움코스메틱', '차이나글레이즈', '차일드라이프', '차홍', '착한83', '착한동생', '착한습관', '착한팩토리', '찰떡', '참머스데일', '참살래', '참숨', '참조은', '참조은머드', '참존', '참코스메틱', '찹스', '채울', '채윤614', '챕스틱', '챕아이스', '챠밍키스', '챠코트', '처음온', '천년동안애', '천랑', '천비누솝', '천사연구소', '천호엔케어', '청기정', '청담29', '청담마녀', '청담소녀', '청담유', '청미정', '청정', '청정미인', '청춘샵', '청춘예찬', '청화팜', '체르엠', '체리모아', '체스더클래식', '체이싱래빗', '초공진', '초끄초끄', '초록공식', '초록마을', '초마루', '초이스엘', '초초스랩', '초코무코스메틱', '초피마', '촉촉젤스', '춤추는고래', '충북인삼농협', '취헤어', '츄니', '츄파춥스뷰티', '츠루리아', '츠바키', '치노시오야', '치유미', '치유비', '치카이치코', '치코', '치후레', '칙칙', '친구랑', '칠링힐링', '칠페이스', '칠하라', '칭찬', '카고', '카나토', '카네스케어', '카니지아', '카다리스', '카디뷰', '카라', '카라디움', '카라완', '카라코사', '카라헨', '카렌머렐', '카리원RG', '카말돌리', '카메디스', '카멕스', '카멜리아힐', '카미안느', '카미타쿠미', '카밀', '카밀렌60', '카바랩스', '카베엘라', '카비스', '카세오사', '카소', '카스마라', '카스텔벨', '카엘28', '카오', '카오라', '카오리온', '카오코 탈라이푸', '카우', '카우쉐드', '카우프만', '카이', '카일라스', '카일리코스메틱', '카임화장품', '카자', '카카오프렌즈', '카트린', '카푸스', '카피캣', '카히나 기빙 뷰티', '칵테일샤워', '칸투칸', '칼', '칼 라거펠트', '칼라뉴스', '칼라미', '칼라스', '칼라타스', '칼로바이', '칼로커트', '칼리', '칼리아', '칼리즈메이', '칼미아', '칼밋', '칼슨랩스', '캄모멘트리', '캄포즈', '캐나디안포뮬러', '캐너스', '캐럿티카', '캐롤리나 헤레라', '캐롤프랑크', '캐롤프리스트', '캐리비안 브리즈', '캐비오', '캐비올', '캐스키드슨', '캐시캣', '캐츠몽', '캐치미패치', '캐치웰', '캐트리스', '캐트릭스', '캔들라이트', '캔디걸 코스메틱', '캔디돌', '캔디랩', '캔디오레이디', '캔메이크', '캔서카운슬', '캘리포니아 골드 뉴트리션', '캘리포니아베이비', '캘리포니아퓨어내추럴', '캘빈클라인', '캡스테이', '캣 루미엘', '캣 매코니', '캣츠왁스', '캣치바이손유나', '캣티시', '커리쉴', '커리쉴하프', '커먼데이', '커먼랩스', '커버걸', '커버나인', '커버라인', '커버린', '커버마크', '커버메드', '커버에프엑스', '커버퀸', '커버플러스', '커클랜드', '컨셉투', '컨시크', '컨텐트리', '컨퓸', '컬러그램', '컬러그램톡', '컬러니어', '컬러니크', '컬러딥', '컬러랩', '컬러랩스', '컬러레스트', '컬러마켓', '컬러메이트', '컬러버킷', '컬러본', '컬러쉐이크', '컬러테일러', '컬러팝', '컬리스튜디오', '컬처렐', '컴인사이드미', '컴퍼니브이', '컴포트존', '케나시', '케네스콜', '케드마', '케라셀네일', '케라스타즈', '케라스틴', '케라시스', '케라큐어', '케라킹', '케라티온', '케몬', '케빈어코인', '케어놀로지', '케어러스', '케어마일', '케어셀라', '케어온', '케어이즈', '케어존', '케어팜', '케어포라이프', '케어퓨', '케어프린', '케어플', '케이누리', '케이뉴트라', '케이랑', '케이맘', '케이벨르', '케이브로스', '케이비 코스메틱', '케이스킨', '케이에프마스크', '케이엔살롱', '케이엔에이치', '케이엠 에이시스', '케이엠제약', '케이투 세이프티', '케이트', '케이트 스페이드 뉴욕', '케이트서머빌', '케이팔레트', '케이팜', '케이푸드', '케이피트레이딩', '케이홀스튜디오', '케일린', '케파', '케피', '켄트', '켈라파오가닉스', '켈리먼츠', '켈리스초이스', '코겐', '코겐도', '코나드', '코니샤', '코덕', '코덱시알', '코드글로컬러', '코드네이처', '코디', '코라오가닉스', '코랑스', '코랩', '코레스', '코레존', '코르셀', '코르테', '코리미', '코리아 바이오메드', '코리아나', '코리아에어텍주식회사', '코리아테크', '코링코', '코마스', '코맥스코', '코메이토', '코멧', '코모드', '코미스킨', '코바코', '코비글로우', '코비엔', '코빈브러쉬', '코슈', '코스넬', '코스노리', '코스더블유', '코스리스', '코스마루', '코스메리트', '코스메쉐프', '코스메트리', '코스메티', '코스메티켓', '코스메틱27', '코스메틱스킨솔루션', '코스모빈', '코스모코스', '코스모폴리탄', '코스믹모먼트', '코스밸리', '코스알엑스', '코스타그램', '코스탈센츠', '코스테일러', '코스톡', '코스트로', '코스티에', '코스틱스', '코스파우치', '코스포유', '코슬로우', '코시롱', '코썸', '코쓱모쓱', '코아코스', '코어인터네셔널', '코에나', '코에삼', '코에티카', '코엔보', '코엘시아', '코엘코스메틱', '코엘프', '코이', '코이바나', '코제트', '코젠더스', '코즈니', '코지', '코지앤', '코츠비', '코치', '코코', '코코닉스', '코코도르', '코코리제주', '코코미라클', '코코베리', '코코벨라', '코코뷰', '코코스타', '코코아일랜드', '코코앤코', '코코앤코코', '코코엘', '코코케어', '코트노아', '코트덤', '코튼데이', '코튼리퍼블릭', '코튼클라우드나인', '코튼플러스', '코티', '코티스트', '코티지', '코페르', '콘디코리아', '콘바텍', '콜게이트', '콜라닉', '콜레트', '콜만오가닉', '콤리프', '콤마나인', '콤보나인', '콩당세', '콩크', '콰티', '콴디', '콸코스', '쿄쿄', '쿠니', '쿠라코마에', '쿠모', '쿠셀제이', '쿠스', '쿠스나', '쿠스티에', '쿠아르토 에스파시오', '쿠오카', '쿠타팀', '쿠퍼비전', '쿠피', '쿡웨이브펌', '쿤달', '쿤달더마', '쿨린', '쿨풋', '퀸메이드', '퀸브이', '퀸스', '퀸즈클리프', '퀸헬렌', '큐', '큐라덴', '큐리', '큐릿', '큐브미', '큐브이', '큐비', '큐비스킨랩', '큐시스', '큐앤고', '큐어31', '큐어랑', '큐어레스트', '큐어릿', '큐어베이비', '큐어세라', '큐어시스', '큐어실드', '큐어코드', '큐어티스', '큐오디', '큐인스', '큐타니아', '크나이프', '크라시에', '크라프트 코데즈', '크란츠', '크램에센시아31도', '크랩트리앤에블린', '크레도', '크레모랩', '크레아비트', '크레이브뷰티', '크레이지루머스', '크레이지몽키', '크로스킨', '크로아티카', '크로키', '크룬', '크리넥스', '크리니크', '크리드', '크리미스', '크리미코스메틱', '크리센', '크리셀', '크리스마', '크리스앤릴리', '크리스찬딘', '크리스찬루부탱', '크리스찬지오', '크리스탈', '크리스탈린', '크리스탈뷰티', '크리스티나', '크리스티앙 레나르', '크리스티앙 브르통', '크리스틴 발미', '크리스틴 에스', '크리스파렐', '크리에이트스킨', '크리엘프', '크리오', '크리오란', '크리템', '크린가드', '크린숨', '크린앤사이언스', '크린에어블루', '크린웰', '크린조이', '크린키퍼', '크린테크', '크릴리오', '크림21', '크림메이트', '크림실크', '클라라힐스', '클라랑스', '클라랩', '클라렌', '클라리소닉', '클라벨', '클라뷰', '클라비안', '클라시보', '클라우드9', '클라우드엑스', '클라우디아 엘레인', '클라우스', '클라우스 포르토', '클랍', '클래시걸', '클래시스', '클랜디', '클럽맨피노드', '클럽뷰티', '클럽코스메틱', '클레더마', '클레롤', '클레릿', '클레마티스', '클레멘스', '클레보스', '클레아닉', '클레어테라피', '클레오미', '클레오시스', '클렌슈어', '클로니', '클로란', '클로레', '클로이이클레어', '클로저', '클로즈업', '클루시브', '클리나멘', '클리너스', '클리덤', '클리베라', '클리앳', '클리어', '클리어랩', '클리오', '클리프', '클린', '클린 투 클린', '클린아일랜드', '클린앤클리어', '클린온', '클린웰', '클린케어', '클린팝', '클린펌', '클린하라', '키너레이즈', '키네틱스', '키네프', '키노닉스', '키덤스', '키들', '키라니아', '키렌', '키로코스', '키르시블렌딩', '키르케', '키메라제이', '키메리', '키보', '키비오', '키세라', '키셔', '키스뉴욕', '키스마이스킨', '키스마이페이스', '키스마일', '키스미', '키스바이우', '키스킨', '키스필', '키아라 암브라', '키엘', '키오스킨', '키위스', '키유', '키처스 18', '키초', '키츄', '키코', '키토코', '키톡스', '키핀터치', '킨', '킨다', '킨더퍼페츠', '킨코우', '킬라니', '킬리안', '킴앤추', '킵고잉', '킵쿨', '타다뷰티', '타라', '타르트', '타미리스', '타미힐피거', '타비아노', '타우트로픈', '타이거밤', '타임 웍스 원더스', '타임인네이처', '타임코스메틱', '타임투블라썸', '타임트리', '타즈', '타프', '탄', '탈라', '탈모닷컴', '탈스', '탐니크', '탐라레', '탐사', '탐팩스', '탑룩', '탑셰프', '태그미', '태극제약', '태미', '태미스', '태양 드 클리닉', '태양솝', '태후사랑', '탬버린즈', '탱글엔젤', '탱글티저', '탱탱', '터치랜드', '터치미', '터치바이이경민', '터치인솔', '텅브러시', '테라다이아', '테라로직', '테라브레스', '테라비코스', '테라스킨', '테라톡스', '테라트리', '테라피션', '테라피토에이벨', '테라픽', '테르마스마린', '테소리도리엔테', '테안', '테이크어필', '테일러블랙', '테일러스위프트', '테팔', '테퍼', '텐드스킨', '텐블리', '텐사이언스', '텐시', '텐제로', '템테이션', '템포', '토니가드', '토니모리', '토니슈어', '토니앤가이', '토드라팡', '토레야', '토루토루', '토리든', '토리버치', '토모라이프', '토모토끼', '토브', '토소웅', '토스', '토시도', '토아스', '토카', '토트써티파이브', '토피크렘', '톡', '톡스앤필', '톡시블룸', '톡톡버디', '톡톡스킨', '톡투허', '톤28', '톤더베이직', '톰빌리', '톰슨', '톰포드 뷰티', '통라이프', '투디포', '투마루', '투비건', '투비어레이디', '투뿌니코', '투스노트', '투시스터즈', '투에이엔', '투엔티', '투웨니락', '투쿨포스쿨', '투티스푼', '투페이스드', '투프루트', '투피쉬', '투핸즈', '툴라', '툴리프', '튠에이지', '트랑쎄', '트러스 프로페셔널', '트렁크 쇼 제트', '트레제메', '트로이아르케', '트로피칼 뷰티', '트로피칼아일랜드', '트루노트', '트루동', '트루릴리젼', '트루베', '트루비', '트루사르디', '트루알엑스', '트루엘', '트루자임', '트루하트', '트룰리랩', '트리더마', '트리마이', '트리베리티', '트리아', '트리아밀리아', '트리앙', '트리앤씨', '트리콜로지스트리', '트리클문', '트리트룸', '트리티스', '트리플에스', '트리헛', '트릴로지', '트웬티 스킨', '트위저맨', '트윈더마', '트윈스켈프', '트윙클', '트윙클팝', '튼튼닷컴', '티 시리즈', '티나롤플러스', '티니티나', '티르티르', '티마', '티멜트', '티브', '티블랑', '티비코스메틱', '티센', '티스', '티스킨', '티썸', '티씨원', '티아스토리', '티암', '티앤씨스토리', '티에레스', '티에스트', '티엔', '티엘스', '티원콜라겐', '티읕', '티젠', '티지', '티지씨', '티케', '티쿤', '티큐라', '티타니아', '티타드', '티트리 앤 위치하젤', '티트리컴퍼니', '티파니앤코', '티퍼런스', '티피', '티피앤코', '티핏클래스', '티히히', '틴츄', '틴크러쉬', '틴클리어', '틴톤', '틴프레디', '팁시', '파나마잭', '파나소닉', '파넬', '파놀라', '파니', '파더랩', '파라다이스 허브', '파라라피엘', '파라제주', '파라팜', '파란코스메틱', '파레타', '파로돈탁스', '파르사', '파리 베를린', '파리 블루', '파마세리스', '파마젠', '파머메이커', '파머스', '파머스 초이스', '파머스시그니처', '파머시', '파메코', '파모', '파모나', '파뮤', '파미셀', '파밀리아랩', '파빈디아', '파살리', '파셋', '파스시나', '파스퇴르', '파시', '파시랩', '파시오', '파시피카', '파에온', '파우', '파우더룸', '파워풀엑스', '파이314', '파이리스', '파이모아', '파이브데이즈', '파이브랭크', '파이브바이브', '파이브백', '파이브와이', '파이브홀리크', '파이스해빗', '파이진', '파이콜로지', '파이토뉴트리', '파이토코어', '파인프라', '파코라반', '파코메리', '파타고닉오일', '파테크', '파티온', '파티카', '파파레서피', '파파비오랩', '파파야트리', '파팔라', '파펨', '팍스런던', '팍팍', '판클', '판타스킨', '판테스틱', '판퓨리', '팔라디오', '팔레오', '팜모닝', '팜스', '팜스메틱', '팜스킨', '팜스테이', '팜앤코', '팜엔탑', '팜크로스', '팜텍', '팜트리', '팜파스', '팜파트라', '팜팩', '팝시노트', '팝코', '패리스힐튼', '패션캣', '패치엠디', '패치올로지', '패치홀릭', '패티플랜', '팩양이', '팩에이지', '팩토리노멀', '팬시랜스', '팬시유', '팬콧', '팬틴', '팸퍼', '팻맥그라스', '퍼레스', '퍼미덤', '퍼블릭화이트', '퍼스트 로즈', '퍼스트 에이드 뷰티', '퍼스트라이트', '퍼스트랩', '퍼스트빈', '퍼스트픽', '퍼시 앤 리드', '퍼시딜럭스', '퍼지브러쉬', '퍼펙타', '퍼펙트스킨', '퍼퓸디자인', '퍼퓸라이퍼', '퍼퓸홀릭', '퍼프리', '퍼플리쉬', '퍼플트리', '퍼핏', '펄세스', '페나텐', '페넌트', '페네그린', '페넬로페', '페노메', '페디베어', '페디슨', '페라리', '페라슈발', '페르난다', '페르더마', '페르미어파파', '페리샤', '페리스킨', '페리엔', '페리오', '페리콘엠디', '페리티', '페리페라', '페미사이클', '페보니아', '페브리즈', '페블린', '페슬로', '페어리드롭스', '페어셀', '페이드아웃', '페이브스킨', '페이스디', '페이스리퍼블릭', '페이스아라', '페이스온', '페이스인네이처', '페이스인페이스', '페이스진', '페이스캔랩', '페이스타', '페이스팩토리', '페이스플럭스', '페이스헤일로', '페이지그린', '페인토즈', '페인트글로우', '페카', '페코', '페탈프레쉬', '페페라페', '페페로니', '페페코코스', '펜세', '펜얄', '펜티뷰티', '펜할리곤스', '펠드아포테케', '펠리에르', '펠리체우모레', '펠시아', '펠체아주라', '펨프레쉬', '펭귄 라운지', '편강율', '포고니아', '포기노', '포뉴', '포니이펙트', '포덤', '포라뽀', '포라이프', '포레덤', '포레스트 로제', '포레스트 스토리', '포레스트 아토케어', '포레스트 에센셜', '포레스트엔', '포레스트코튼', '포레스트힐', '포레아', '포레오', '포레하우스', '포렌코즈', '포렌테라', '포리타치', '포린미', '포맨트', '포멀비', '포멜라토', '포뮬라 케이', '포미랩', '포미포미', '포미포유', '포바하', '포밤', '포베리', '포뷰트', '포브리에', '포블랑시', '포블링', '포셀', '포슐라', '포어랩', '포어스', '포에버 리빙 프로덕츠', '포에버21', '포에버스킨', '포에버앤제이랩', '포에틱무브먼트', '포엑스', '포엘리에', '포예', '포웰', '포을', '포이유이', '포인원뷰티', '포인트', '포인트드미르', '포인트앤', '포잇', '포지티브 호텔', '포카우팜', '포커페이스', '포켓페이퍼', '포클린', '포텐', '포티포', '포포유', '포피네', '포피엠테라피', '포헤베', '폭남', '폭스데이', '폭스밸리', '폭탄브러쉬', '폰즈', '폴라돌프', '폴라초이스', '폴라탐', '폴리니크', '폴리쉬드런던', '폴리스', '폴리테크', '폴메디슨', '폴미첼', '폴스미스', '폴앤제인', '폴앤조', '폴앤헤이나', '폴텐', '퐁', '퐁당', '푸드빌런', '푸드어홀릭', '푸드올로지', '푸디랩', '푸로루나', '푸른친구들', '푸른화장품', '푸리', '푸리프', '푸시', '푸유', '푸타완', '푸푸리', '풀무원로하스', '풀비채', '풀빛고운', '풋스토리', '풋케어랩', '풍년보감', '퓌', '퓨라도어', '퓨라엘', '퓨라움', '퓨레스트', '퓨레시', '퓨레시피', '퓨렌스킨', '퓨렐', '퓨로가닉', '퓨리벨라', '퓨리카뮤신', '퓨리타스', '퓨리토', '퓨어 띠어리', '퓨어365', '퓨어나인', '퓨어덤', '퓨어라벨', '퓨어라이프', '퓨어라이프케어', '퓨어레비', '퓨어로제', '퓨어리스', '퓨어리티 프로덕트', '퓨어림', '퓨어메이', '퓨어멜로우', '퓨어베스', '퓨어블루', '퓨어소마', '퓨어스마일', '퓨어시스', '퓨어아리아', '퓨어엘리먼츠', '퓨어엠', '퓨어웰', '퓨어위시', '퓨어체크', '퓨어케어', '퓨어케이', '퓨어클', '퓨어템', '퓨어파파야케어', '퓨어포레', '퓨어포포', '퓨어플러스', '퓨어피지', '퓨어홀릭', '퓨어힐스', '퓨엣스킨', '퓨오렐라', '퓨올', '퓨토', '퓨한메디', '퓰랙', '퓸스킨', '프라간시아', '프라고나르', '프라그라피', '프라다', '프라도어', '프라로마', '프라메시', '프라뷰', '프라브아', '프라셀', '프라엘', '프라우드메리', '프라이머리로우', '프라이멀엘리먼츠', '프라이빗21', '프라이웰', '프라이하우트', '프라임타임', '프라젠트라', '프라푸스', '프란츠', '프랑스와즈', '프랭크 올리비에', '프랭클리', '프럼네이처', '프레드릭엠', '프레미오21', '프레민트', '프레뽀', '프레센티아', '프레셔너', '프레쉬', '프레쉬가든', '프레쉬라이트', '프레쉬콘', '프레시샵', '프레시스', '프레시팝', '프레쥬', '프레카르', '프레티', '프렌비타', '프렌치파머시', '프렙', '프로덕트랩', '프로라소', '프로랑스', '프로레나타', '프로막실', '프로방스', '프로버블리', '프로소디 런던', '프로소스', '프로쉬', '프로스테믹스', '프로스트미', '프로스틴', '프로슬렉', '프로액티브', '프로에잇청담', '프로유', '프로이카', '프로젝트코랄', '프로캄', '프로틴스토리', '프로포뮬라', '프로폴린스', '프롬 더 네일', '프롬갓', '프롬노시베', '프롬바이오', '프롬소이', '프롬솝', '프롬에스티', '프롬조이', '프룻오브디얼스', '프리그리드', '프리랩', '프리마비스타', '프리맨', '프리메라', '프리메이', '프리모', '프리모팩토리', '프리본', '프리센트', '프리엔제', '프리즈마컬러', '프리티스킨', '프리티아', '프리플러스', '프린느', '프린세스 메이커', '프린스키스', '프린시크', '프릴리안', '프쉬케로스', '플라리아', '플라멜엠디', '플라베네', '플라샤', '플라센타 베제딸', '플라슈티카', '플라워가든', '플라이코', '플라잉애플', '플라코', '플란테', '플란테시스템', '플란투어', '플랑드비', '플랑플랑', '플랙커스', '플랜36.5', '플랜백', '플랜제로', '플랜토닉', '플랫헤드', '플러스템', '플런트비', '플레네', '플레니스트', '플레르모나코', '플레밍', '플레시아', '플레음', '플레이베이직', '플레이보이', '플레이업', '플레이텍스', '플레인비', '플레인씨', '플렉스파워', '플렉싱', '플렌느', '플로네이처', '플로랑', '플로랑스 네이쳐', '플로레나', '플로르', '플로르드망', '플로르마', '플로리드', '플로리스 런던', '플로바리스', '플로우앤플로우', '플뢰르즈', '플뢰르컵', '플루', '플르부아', '플리닉', '플리다', '플리세뜨', '플리프', '플린', '피넛', '피노', '피노키오', '피닉스', '피더블유솔루션', '피디렉션', '피몽쉐', '피버렛', '피부로가는한방', '피부미', '피부밥', '피부생각', '피부의정석', '피부피부', '피브', '피스비사라', '피앙세', '피어나셀', '피어나스킨', '피어라', '피에라', '피에르오제', '피에스바이오', '피에스비허브', '피에이치드롭', '피에이치하비', '피에프네이쳐', '피엘디크', '피엘라토', '피엘리즈', '피엘코스메틱', '피오덤', '피오디라이프', '피오라', '피움', '피원피', '피죤', '피지션스 포뮬러', '피지오겔', '피지오더미', '피츠', '피치베리', '피치씨', '피치앤드', '피치홀릭', '피카소', '피카소 꼴레지오니', '피카타', '피키스킨', '피터래빗', '피터스', '피터토마스로스', '피토더마', '피토레스코', '피토메딕', '피토메르', '피토메스', '피토스토리', '피토씨', '피토앤서', '피토트리', '피토틱스', '피토페시아', '피토힐', '피펄', '피피엔느', '피현정에디션', '픽메이크', '픽미스킨', '픽미업', '픽스앤루즈', '픽스앤톡스', '픽스컵', '픽시바이페트라', '픽시뷰티', '픽트', '핀덴스킨베베', '핀코', '필네이처', '필란', '필레리나', '필로르가', '필로소피', '필로스', '필로코스', '필루니크', '필리', '필리밀리', '필리브', '필리즈', '필립마틴스', '필립스', '필릿', '필링빈', '필보이드', '필스파', '필슨', '필슨엠', '필쏘', '핏유어스킨', '핏티', '핑거스푼', '핑크랩', '핑크에디션 바이 퓨어뷰티', '핑크원더', '핑크페이지', '핑크픽', '핑키어스', '하경네이처웰', '하나 필터', '하나마이', '하나모리', '하나지루시', '하나쭌', '하나플러', '하네스', '하늘마음', '하늘의신비한', '하늘호수', '하니술', '하다라보', '하다비세이', '하라문', '하라셀', '하라유키', '하라주쿠 러버스', '하라즈', '하루마다', '하루미', '하루온', '하루하루', '하모니헬스케어', '하바', '하성전자', '하수오', '하야시', '하얀연탄', '하얀하얀', '하연', '하예진', '하와이안 트로픽', '하우스닥터이글루', '하우스킨', '하우투메이크', '하우트보네', '하이 데이', '하이드로퓨갈', '하이드앤시크', '하이디어랩', '하이르와', '하이알3', '하이앙포레', '하이온', '하이큐코스메틱', '하이퍼바이오틱스', '하이포레스트', '하일라마이드', '하임', '하치카', '하쿠호도', '하큐', '하킴코스메틱', '하트맘', '하트시그널', '하트퍼센트', '하파크리스틴', '하퍼스바자 코스메틱', '하프문', '하프문아이즈', '하프이프', '하호니코', '한', '한경희뷰티', '한국동백연구소', '한국모발과학연구소', '한국야쿠르트', '한국화장품', '한나', '한동샘', '한미 헬스케어', '한미려', '한미약품', '한불화장품', '한살림', '한샘', '한솔', '한송', '한스랩', '한스오가닉', '한스웰', '한스카러', '한스킨', '한스텍', '한스파마', '한스펩타이드', '한아조', '한율', '한자플라스트', '한조컬렉션', '한천수', '한컴라이프케어', '한케이', '함소아', '해달초', '해든', '해리나', '해리메이슨', '해리치', '해밀리아', '해서린', '해서린 바이 엘리자베스', '해쉬볼드', '해피데이', '해피마스타', '해피문데이', '해피바스', '해피브리즈', '해피비건', '해피얼쓰', '핵틱', '햄파맥스', '햅소드', '햅스', '햇살케어', '햐로직 LLC', '향기의미술관', '향슈', '허그', '허그미', '허깅유', '허니바오밥', '허니블룸', '허니체', '허니트랩', '허로우', '허밍', '허밍스', '허바신', '허벌라이프', '허벌리스테', '허벌솔루션', '허벌에센스', '허벌페이스푸드', '허벌히스패니아', '허브노트', '허브누리', '허브올레', '허브타임', '허브팜', '허브포레', '허블룸', '허스텔러', '헉슬리', '험프리', '헤드랑', '헤드스파7', '헤드앤숄더', '헤라', '헤르겐', '헤르미에', '헤르미온느', '헤르바 라바토리즈', '헤르사', '헤르셀', '헤리아떼', '헤리에타', '헤리즈미', '헤리티지', '헤리티지 스토어', '헤리페리', '헤막', '헤머셀', '헤버', '헤베니케', '헤븐센스', '헤비 메이크업', '헤스크', '헤어 리추얼 바이 시슬리', '헤어다비스', '헤어레시피', '헤어리즘', '헤어유닉', '헤어캅', '헤어커투어', '헤어코스토리', '헤어플러스', '헤이', '헤이네이처', '헤이데이', '헤이랜드 앤 위틀', '헤이로', '헤이미쉬', '헤이브로', '헤이브릴랑', '헤이비비', '헤이씨스터', '헤이젠', '헤이톡', '헤플스킨', '헨느', '헬레나 루빈스타인', '헬레나 앤 크리스티', '헬렌박', '헬로가닉', '헬로셀', '헬로에브리바디', '헬로우보이', '헬로잇츠', '헬로케어', '헬로키티', '헬로톡', '헬로판다', '헬로헨리', '헬리녹스', '헬리오케어', '헬스빌', '헬스앤뷰티', '헬스헬퍼', '헬시케어', '헬시트리', '헬썸', '헬씨앤핏', '헬씨타임즈', '혁신개념', '현대약품', '혜미인', '혜인서', '호랭', '호르모센타', '호메이', '호메타', '호사', '호유', '호코스', '호텔도슨', '호텔유람', '호피걸', '호호에미', '호호청과', '혼뉴', '혼쇼', '홀랜드앤바렛', '홀리다코스메틱', '홀리데이즈', '홀리미코', '홀리스타', '홀리스터', '홀리앤코', '홀리추얼', '홀리카홀리카', '홈로즈', '홈메디케어', '홈즈', '홈클릭', '홈헬스', '홍샷', '홍익스킨', '홍콩시티팝', '화니핀코리아', '화미사', '화안애', '화애락', '화이미제약', '화이트', '화이트래빗', '화이트리', '화이트스캔들', '화이트캣', '화이트코스팜', '화진', '화해', '화홍엠', '화흥', '활명', '황금희', '황실황칠', '황지수화장품', '황칠', '황칠가', '황후연', '효소원', '효시아', '효움', '후다뷰티', '후레쉬가드', '후로후시', '후루후루', '후르디아', '후르츠앤패션', '후아', '후즈후코스메틱', '후후', '훼라모아', '휘게', '휘겔리다올리', '휘엔느', '휘욜라', '휘퓨어', '휠라코스메틱', '휴고내츄럴', '휴고보스', '휴그린', '휴럼', '휴맥스', '휴먼메디칼', '휴먼바이오', '휴먼앤카인드', '휴먼케어', '휴먼텍', '휴브론', '휴스톰', '휴시아', '휴안청', '휴안청플러스', '휴엔맘', '휴족시간', '휴캄', '휴피디알앤디엔에이', '흐롬앤조르', '히노비라', '히든랩', '히또그램', '히로나', '히말라야', '히솝', '히스테모', '히스토랩', '히스토어네츄어렌', '히알루론에이지', '히야', '히즈클린', '히카즈', '히프', '힌스', '힌팁', '힐덤', '힐라비', '힐리', '힐리어스', '힐리언스', '힐링', '힐링버드', '힐링스', '힐링큐브', '힐링팜스', '힐메이드', '힐시드', '힐조', '힐플렉스', 'A24', 'AHC', 'ATS', 'AVON', 'Bath & Body Works', 'BCL', 'Beauty Creations', 'BRTC', 'BT21', 'BYS', 'CHI', 'CJE+', 'CJ CHEILJEDANG', 'CKI', 'CL4', 'CLNC5', 'CMG 건강연구소', 'CND', 'CNP', 'CRÈME SIMON', 'CUSKIN', 'DK COSMETIC', 'DS LAB', 'EGFOLOGY', 'eos', 'fmgt', 'GABRIEL', 'GALCOLLECTION', 'GALENIC', 'GANDINI', 'GANIQUE', 'GAP', 'GC 녹십자', 'GC 녹십자웰빙', 'GH1933', 'GNC', 'GNM', 'Got2b', 'GR8', 'GRN', 'H201', 'IGK', 'JCK', 'JCOSHM', 'JHP Cosmetic', 'JMB', 'JMsolution', 'JNC', 'JNH', 'JY innocent', 'kai', 'KISSTIXX', 'KKW Beauty', 'KMC', 'KMS', 'KTW', 'KVD VEGAN BEAUTY', 'L.A. colors', 'L.A. Girl', 'LA RIVE', 'LALINE', 'Lashi', 'LC PROFESSIONAL', 'Lebel', 'LENA', 'LHM', 'LIFE4.0', 'Lime Crime', 'Love & toast', 'LOVE&PEACE', 'MCC', 'Meet Your Mate', 'Nail Tek', 'natural instinct', 'Natureine', 'Natures Beauty', 'nelsons', 'NEW9', 'NUBIAN HERITAGE', 'NYX', 'OBUIZI', 'OGX', 'OLAY', 'OOTU', 'POG', 'PRN', 'PRPL', 'Reveur', 'Rexena', 'REXSOL', 'RGIII', 'RGⅡ', 'RISING WAVE', 'RMK', 'ROC', 'rue21', 'SD HAIR', 'SNP', 'SPPC', 'SQ제약', 'SVR', 'SW19', 'T.P.O', 'TG 도미나스', 'TMR cosmetics', 'TMTR', 'TRUE LIFE', 'TNU', 'TS', 'TSS', 'TSW', 'TZ코스메틱', 'UUUUU', 'VDL', 'VT COSMETICS', 'W.SKIN LABORATORY', 'W7', 'WHY', 'XTM', 'YNM', 'YS solution', 'YSJ cosmetics', 'ZARA', 'ZWC', '0720', '1.618', '1028 VISUAL THERAPY', '10mgRx', '16BRAND', '1960NY', '1am', '2080', '21세기 센트리', '2202', '23 years old', '236:)', '44401', '24MIRACLE', '252코스메틱', '29데이즈', '2교시피클', '302화이트', '31도씨', '365더건강', '3CE', '3INA', '3M 넥스케어™', '3pages', '3W 크리닉', '3초', '4711', '5.2뉴트리션', '76N1', '87발렌타인', '9컴플렉스'])"
      ]
     },
     "execution_count": 136,
     "metadata": {},
     "output_type": "execute_result"
    }
   ],
   "source": [
    "dict_prd_name.keys()"
   ]
  },
  {
   "cell_type": "code",
   "execution_count": 1,
   "id": "dc10c4a6-61ab-4749-baca-9fb79dd3f621",
   "metadata": {},
   "outputs": [],
   "source": [
    "import ast"
   ]
  },
  {
   "cell_type": "code",
   "execution_count": 33,
   "id": "7614c888-694a-41fd-966b-f1fa575aa6f5",
   "metadata": {},
   "outputs": [
    {
     "data": {
      "text/plain": [
       "'/Users/kimjisoo/Desktop/preprocessing'"
      ]
     },
     "execution_count": 33,
     "metadata": {},
     "output_type": "execute_result"
    }
   ],
   "source": [
    "import pickle\n",
    "os.getcwd()"
   ]
  },
  {
   "cell_type": "code",
   "execution_count": 35,
   "id": "58f87b85-b67a-44ef-a26c-b0d005c0dfec",
   "metadata": {},
   "outputs": [],
   "source": [
    "with open('dict_prd_link.txt', 'wb') as fp:\n",
    "    pickle.dump(dict_prd_link, fp)"
   ]
  },
  {
   "cell_type": "code",
   "execution_count": 37,
   "id": "44388288-88ad-4a0c-a739-206e8ed663f2",
   "metadata": {
    "collapsed": true,
    "jupyter": {
     "outputs_hidden": true
    },
    "tags": []
   },
   "outputs": [
    {
     "data": {
      "text/plain": [
       "{'결고은사람들': ['어성초 크림', '[단종]  클렌징 오일'],\n",
       " '경남제약': ['결콜라겐',\n",
       "  '생유산균9C',\n",
       "  '생 유산균 알파',\n",
       "  '레모나 마스크 KF-AD',\n",
       "  '결콜라겐 플러스',\n",
       "  '결콜라겐&뮤신',\n",
       "  '스트레스 케어',\n",
       "  '생유산균7C',\n",
       "  '칼로 스탑',\n",
       "  '핸드 클린 손 소독제',\n",
       "  '면역 부스터',\n",
       "  '루테인 톡',\n",
       "  '칼로-뷰티 콜라겐 1000'],\n",
       " '경동제약': ['애니밴드(원형)'],\n",
       " '경인 플랙스': ['황사 방역용 마스크 KF94', '황사 방역용 마스크 KF80'],\n",
       " '고귀한아름다움채': ['어성초 황금비율 두피앰플', '지청 자양 샴푸액'],\n",
       " '고려생활건강': ['티엠씨 에스 바'],\n",
       " '고려은단': ['비타민C 1000',\n",
       "  '비타민C 골드 플러스',\n",
       "  '비타민C 1000 이지',\n",
       "  '메가도스B',\n",
       "  '메가도스 C3000',\n",
       "  '퓨어 알티지 오메가3',\n",
       "  '비타1000 마스크팩',\n",
       "  '신바이오틱스',\n",
       "  '다이어트 쉐이크',\n",
       "  '루테인 지아잔틴 아스타잔틴',\n",
       "  '비타미녀씨',\n",
       "  '퓨어 밀크씨슬',\n",
       "  '퓨어 루테인',\n",
       "  '프리바이오틱스',\n",
       "  '듀얼 플로라 프로바이오틱스',\n",
       "  '알티지 오메가3',\n",
       "  '퓨어 루테인 지아잔틴'],\n",
       " '고사리숲': ['[단종]  꼬미 주니어 클렌징 폼'],\n",
       " '고세': ['클리어턴 에센스 마스크팩 - 비타민 C',\n",
       "  '쓰리버터스 립 밤',\n",
       "  '에스프리끄 포밍 뷰티 리퀴드 UV 파운데이션 [SPF23/PA++]',\n",
       "  '프레디아 스파에메르 헤드 스파클링 에센스',\n",
       "  '모이스처 스킨 리페어 에센스',\n",
       "  '클리어턴 에센스 마스크팩 - 히알루론산',\n",
       "  '모이스처 스킨 리페어 아이 크림',\n",
       "  '프레디아 스파에메르 G 세럼',\n",
       "  '클리어턴 에센스 마스크팩 - 콜라겐',\n",
       "  '클리어턴 에센스 마스크팩 - 프라센타',\n",
       "  '클리어턴 에센스 마스크팩 - 코엔자임 Q10',\n",
       "  '클리어턴 에센스 마스크팩 - 트라네키 삼산',\n",
       "  '스펀지 크리너 EX',\n",
       "  '에스프리끄 루스 페이스 파우더',\n",
       "  '에스프리끄 뷰티플 스테이 팩트 UV [SPF22/PA++]',\n",
       "  '에스프리끄 멀티 커버링 메이크업 베이스 [SPF23/PA++]',\n",
       "  '에스프리끄 모이스트 메이크업 베이스 [SPF25/PA++]',\n",
       "  '모이스처 에센스 FF',\n",
       "  '쓰리버터스 페이스 앤 바디밤',\n",
       "  '쓰리버터스 핸드 앤 네일케어 밤',\n",
       "  '쓰리버터스 페이스 앤 바디로션',\n",
       "  '퓨어 화이트 밀키로션 Light',\n",
       "  '퓨어 화이트 크림',\n",
       "  '퓨어 에센스 C',\n",
       "  '퓨어 화이트 로션 Light',\n",
       "  '바이탈 퓨어리티 크림',\n",
       "  '바이탈 퓨어리티 밀키로션',\n",
       "  '바이탈 퓨어리티 로션',\n",
       "  '바이탈 퓨어리티 아이크림',\n",
       "  '쓰리버터스 립 에센스',\n",
       "  '백등 W 에센스',\n",
       "  '프레디아 바이탈 스피리츠 EX',\n",
       "  '프레디아 아이크림',\n",
       "  '프레디아 모이스처라이져',\n",
       "  '프레디아 시즈듀',\n",
       "  '프레디아 더블유아르 세럼 AX',\n",
       "  '프레디아 스파에메르 미네랄 로션 Ⅱ',\n",
       "  '프레디아 스파에메르 모이스처라이저 Ⅰ',\n",
       "  '프레디아 스파에메르 모이스처라이저 Ⅱ',\n",
       "  '프레디아 화이트 바이탈루션',\n",
       "  '모이스처 스킨 리페어 크림',\n",
       "  '[단종]  퍼팩트 메이크업 리무버',\n",
       "  '[단종]  마스카라 이지 리무버',\n",
       "  '[단종]  마스카라 리무버 EX',\n",
       "  '[단종]  코튼베일 미네랄 BB크림 [SPF22/PA++]',\n",
       "  '[단종]  프레디아 선 프로텍터 EX [SPF50+/PA++]',\n",
       "  '펑셔넬 세럼 에스까르고 세럼'],\n",
       " '갈랑트리': ['워터 클리닉 헤어앰플',\n",
       "  '스텝바이스텝 톤업 마스크팩',\n",
       "  '프리미엄 링클키트',\n",
       "  '인텐시브 샷 크림',\n",
       "  '스텝바이스텝 모이스춰라이징 마스크팩',\n",
       "  '[단종]  프리미엄 링클스팟 키트'],\n",
       " '갈리니': ['하이드레이팅 페이스 크림',\n",
       "  '페이스 비니거',\n",
       "  '유스풀 세럼',\n",
       "  '포밍 페이셜 클렌저',\n",
       "  '바디 밀크',\n",
       "  '케어 마스크',\n",
       "  '스칼프 앤드 헤어 세럼',\n",
       "  '수딩 클렌징 크림',\n",
       "  '페이스 마스크 앤 스크럽',\n",
       "  '핸드 크림',\n",
       "  '클렌징 바'],\n",
       " '갈리마드': ['보아 데 앙드 오 드 퍼퓸',\n",
       "  '에비 오 드 뚜왈렛',\n",
       "  '보아&통카 퍼퓸 스프레이',\n",
       "  '바니유 앙상세 오 드 퍼퓸',\n",
       "  '어벤처 오 드 뚜왈렛'],\n",
       " '감람나무': ['바디 워시'],\n",
       " '갓스킨': ['포무드 디어 아이즈 싱글 아이컬러',\n",
       "  '포무드 판도라 핑크 쿠션 [SPF37/PA++]',\n",
       "  '루크미 자몽 팩바디워시',\n",
       "  '포무드 갓츄밤',\n",
       "  '포무드 디어 아이즈 라스트픽스 아이라이너',\n",
       "  '포무드 판도라 쿠션 블랙 에디션',\n",
       "  '루크미 그린티듈라 진정 수분크림',\n",
       "  '포무드 디어 아이즈 라스트픽스 마스카라',\n",
       "  '루크미 영롱 부스팅 에센스',\n",
       "  '루크미 백옥 톤업 크림',\n",
       "  '포무드 갓츄 립벨벳',\n",
       "  '[단종]  루크미 그린티 스크럽 폼',\n",
       "  '[단종]  루크미 베리베리 천연수제비누',\n",
       "  '[단종]  루크미 코코넛 천연수제비누',\n",
       "  '[단종]  루크미 천연수제 자몽비누',\n",
       "  '[단종]  루크미 몽슈슈 크림'],\n",
       " '갓트': ['가루신이야', '[단종]  오 마이갓 트러블 브레이크 미스트'],\n",
       " '강남이스트': ['투엑스 아쿠아 카밍 크림',\n",
       "  '투엑스 아쿠아 카밍 세럼',\n",
       "  '투엑스 아쿠아 리프팅 마스크',\n",
       "  '투엑스 아쿠아 부스팅 토너',\n",
       "  '마이 핸디 클렌저',\n",
       "  '투엑스 아쿠아 인텐시브 크림'],\n",
       " '강블리': ['제주 녹차 생기 마스크',\n",
       "  '제주 콜라겐 탄탄 마스크',\n",
       "  '제주 유채꿀 에센셜 앰플 세럼',\n",
       "  '녹차 에센셜 클렌징 워터',\n",
       "  '동백 커버 컨실러 [SPF30/PA++]',\n",
       "  '플레인 화장솜',\n",
       "  '알로에 베라 모이스처 에멀전',\n",
       "  '알로에 90% 모이스처 토너'],\n",
       " '강서화학': ['나인바'],\n",
       " '갤럭시본': ['사틴쿠션 [SPF50+/PA+++]']}"
      ]
     },
     "execution_count": 37,
     "metadata": {},
     "output_type": "execute_result"
    }
   ],
   "source": [
    "dict_prd_name"
   ]
  },
  {
   "cell_type": "code",
   "execution_count": null,
   "id": "b3dc0f83-3efd-45c6-961e-6384aec561c7",
   "metadata": {},
   "outputs": [],
   "source": []
  }
 ],
 "metadata": {
  "kernelspec": {
   "display_name": "Python 3 (ipykernel)",
   "language": "python",
   "name": "python3"
  },
  "language_info": {
   "codemirror_mode": {
    "name": "ipython",
    "version": 3
   },
   "file_extension": ".py",
   "mimetype": "text/x-python",
   "name": "python",
   "nbconvert_exporter": "python",
   "pygments_lexer": "ipython3",
   "version": "3.9.7"
  }
 },
 "nbformat": 4,
 "nbformat_minor": 5
}
