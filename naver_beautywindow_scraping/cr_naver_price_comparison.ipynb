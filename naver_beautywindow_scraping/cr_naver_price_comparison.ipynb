{
 "cells": [
  {
   "cell_type": "markdown",
   "id": "9f4a2644-f967-48b9-ba19-a77fc817b74f",
   "metadata": {},
   "source": [
    "naver price comparison"
   ]
  },
  {
   "cell_type": "code",
   "execution_count": 1,
   "id": "8ddcdaa6-151c-4c84-b3fd-f956728f2fc4",
   "metadata": {},
   "outputs": [],
   "source": [
    "import os\n",
    "import re\n",
    "import pandas as pd\n",
    "import pickle\n",
    "import collections\n",
    "import numpy as np\n",
    "import math\n",
    "from ast import literal_eval\n",
    "from time import gmtime, strftime\n",
    "import re\n",
    "import time\n",
    "from bs4 import BeautifulSoup\n",
    "\n",
    "# Scrapping\n",
    "import selenium\n",
    "from selenium import webdriver\n",
    "from selenium.webdriver.common.keys import Keys\n",
    "from selenium.webdriver.support.ui import WebDriverWait\n",
    "from selenium.webdriver.support import expected_conditions as EC\n",
    "from webdriver_manager.chrome import ChromeDriverManager\n",
    "from selenium.webdriver.common.by import By\n",
    "from selenium.webdriver.chrome.options import Options\n",
    "from fake_useragent import UserAgent\n",
    "\n",
    "# Error Handling\n",
    "import socket\n",
    "import urllib3\n",
    "import urllib.request\n",
    "from urllib.request import urlopen\n",
    "from urllib.parse import quote_plus\n",
    "from urllib.request import urlretrieve\n",
    "from selenium.common.exceptions import NoSuchElementException, ElementNotInteractableException, ElementClickInterceptedException\n",
    "import warnings\n",
    "warnings.filterwarnings('ignore')"
   ]
  },
  {
   "cell_type": "code",
   "execution_count": 99,
   "id": "1ba4332d-fbb0-4c6b-927f-12d48219f949",
   "metadata": {
    "tags": []
   },
   "outputs": [
    {
     "name": "stderr",
     "output_type": "stream",
     "text": [
      "\n",
      "\n",
      "====== WebDriver manager ======\n",
      "Current google-chrome version is 94.0.4606\n",
      "Get LATEST driver version for 94.0.4606\n",
      "Driver [/Users/kimjisoo/.wdm/drivers/chromedriver/mac64/94.0.4606.61/chromedriver] found in cache\n"
     ]
    },
    {
     "ename": "AttributeError",
     "evalue": "'list' object has no attribute 'text'",
     "output_type": "error",
     "traceback": [
      "\u001b[0;31m---------------------------------------------------------------------------\u001b[0m",
      "\u001b[0;31mAttributeError\u001b[0m                            Traceback (most recent call last)",
      "\u001b[0;32m/var/folders/tv/sztrkqb546s2j8khvdnkrrnr0000gn/T/ipykernel_79209/206202954.py\u001b[0m in \u001b[0;36m<module>\u001b[0;34m\u001b[0m\n\u001b[1;32m     60\u001b[0m     \u001b[0mpage_cnt\u001b[0m \u001b[0;34m=\u001b[0m \u001b[0mwd\u001b[0m\u001b[0;34m.\u001b[0m\u001b[0mfind_elements_by_class_name\u001b[0m\u001b[0;34m(\u001b[0m\u001b[0;34m\"pagination_btn_page__FuJaU\"\u001b[0m\u001b[0;34m)\u001b[0m\u001b[0;34m\u001b[0m\u001b[0;34m\u001b[0m\u001b[0m\n\u001b[1;32m     61\u001b[0m \u001b[0;34m\u001b[0m\u001b[0m\n\u001b[0;32m---> 62\u001b[0;31m     \u001b[0mcurrent_page_num\u001b[0m \u001b[0;34m=\u001b[0m \u001b[0mint\u001b[0m\u001b[0;34m(\u001b[0m\u001b[0mwd\u001b[0m\u001b[0;34m.\u001b[0m\u001b[0mfind_elements_by_class_name\u001b[0m\u001b[0;34m(\u001b[0m\u001b[0;34m\"blind\"\u001b[0m\u001b[0;34m)\u001b[0m\u001b[0;34m.\u001b[0m\u001b[0mtext\u001b[0m\u001b[0;34m)\u001b[0m\u001b[0;34m\u001b[0m\u001b[0;34m\u001b[0m\u001b[0m\n\u001b[0m\u001b[1;32m     63\u001b[0m     \u001b[0mwd\u001b[0m\u001b[0;34m.\u001b[0m\u001b[0mfind_element_by_xpath\u001b[0m\u001b[0;34m(\u001b[0m\u001b[0;34m\"/html/body/div/div/div[2]/div[2]/div[4]/div[1]/div[3]/div/a[{}]\"\u001b[0m\u001b[0;34m.\u001b[0m\u001b[0mformat\u001b[0m\u001b[0;34m(\u001b[0m\u001b[0mcurrent_page_num\u001b[0m\u001b[0;34m)\u001b[0m\u001b[0;34m)\u001b[0m\u001b[0;34m.\u001b[0m\u001b[0mclick\u001b[0m\u001b[0;34m(\u001b[0m\u001b[0;34m)\u001b[0m\u001b[0;34m\u001b[0m\u001b[0;34m\u001b[0m\u001b[0m\n\u001b[1;32m     64\u001b[0m \u001b[0;34m\u001b[0m\u001b[0m\n",
      "\u001b[0;31mAttributeError\u001b[0m: 'list' object has no attribute 'text'"
     ]
    }
   ],
   "source": [
    "wd = webdriver.Chrome(ChromeDriverManager().install())\n",
    "\n",
    "wd.get(\"https://shopping.naver.com/home/p/index.naver\")\n",
    "time.sleep(3)\n",
    "wd.maximize_window()\n",
    "\n",
    "socket.setdefaulttimeout(30)\n",
    "\n",
    "brd_name_input = wd.find_element_by_xpath(\"/html/body/div[1]/div[1]/div/div[2]/div/div[2]/div/div[1]/form/fieldset/div[1]/input[1]\")\n",
    "brd_name_input.send_keys('달바')\n",
    "brd_name_input.send_keys(Keys.ENTER)\n",
    "time.sleep(3)\n",
    "\n",
    "wd.find_element_by_xpath(\"/html/body/div/div/div[2]/div[2]/div[3]/div/div[1]/div[1]/a\").click()\n",
    "time.sleep(2)\n",
    "wd.find_element_by_xpath(\"/html/body/div/div/div[2]/div[2]/div[3]/div/div[1]/div[2]/div/ul/li[1]/a\").click()\n",
    "time.sleep(2)\n",
    "\n",
    "\n",
    "#가격비교 탭 클릭\n",
    "wd.find_element_by_xpath(\"/html/body/div/div/div[2]/div[2]/div[4]/div[1]/div[2]/ul/li[2]/a\").click()\n",
    "time.sleep(3)\n",
    "\n",
    "html = wd.page_source\n",
    "soup = BeautifulSoup(html, 'html.parser')\n",
    "time.sleep(3)\n",
    "\n",
    "#스크롤 다운\n",
    "\n",
    "def parsing_html_with_class(parsing_info = 'div.basicList_title__3P9Q7'):\n",
    "    html = wd.page_source\n",
    "    soup = soup = BeautifulSoup(html, \"html.parser\")\n",
    "    interm_r = soup.select(parsing_info)\n",
    "    return interm_r\n",
    "\n",
    "prd_name = []\n",
    "prd_link = []\n",
    "\n",
    "try:\n",
    "    while True:\n",
    "\n",
    "        product_lst = parsing_html_with_class()\n",
    "        \n",
    "        element = wd.find_element_by_xpath('/html/body/div/div/div[2]/div[2]/div[4]/div[1]/ul/div/div[{}]'.format(len(product_lst) - 1))\n",
    "        \n",
    "        wd.execute_script(\"arguments[0].scrollIntoView(true);\", element)\n",
    "        time.sleep(2)\n",
    "\n",
    "        product_lst_2 = parsing_html_with_class()\n",
    "\n",
    "        if product_lst == product_lst_2:\n",
    "            html = wd.page_source\n",
    "            soup = soup = BeautifulSoup(html, \"html.parser\")\n",
    "            for i in range(len(product_lst)):\n",
    "                title = soup.select('div.basicList_title__3P9Q7')\n",
    "                prd_name.append(title[i].text)\n",
    "                prd_link.append(title[i].select_one('a').get('href'))\n",
    "            break\n",
    "            \n",
    "    page_cnt = wd.find_elements_by_class_name(\"pagination_btn_page__FuJaU\")\n",
    "\n",
    "    current_page_num = int(wd.find_elements_by_class_name(\"blind\").text)\n",
    "    wd.find_element_by_xpath(\"/html/body/div/div/div[2]/div[2]/div[4]/div[1]/div[3]/div/a[{}]\".format(current_page_num)).click()\n",
    "\n",
    "    wd.close()\n",
    "\n",
    "except NoSuchElementException:\n",
    "    pass"
   ]
  },
  {
   "cell_type": "code",
   "execution_count": 100,
   "id": "2298f486-d4f8-4a0c-a232-363d3ce2ce87",
   "metadata": {
    "tags": []
   },
   "outputs": [
    {
     "data": {
      "text/plain": [
       "[<selenium.webdriver.remote.webelement.WebElement (session=\"543cd7eef8c14ae6a8966393f22d0932\", element=\"d30fcbc6-545e-45d2-803d-ab84aa88410d\")>,\n",
       " <selenium.webdriver.remote.webelement.WebElement (session=\"543cd7eef8c14ae6a8966393f22d0932\", element=\"8c61a4b7-5ce5-4d82-99ce-3cea432431f4\")>,\n",
       " <selenium.webdriver.remote.webelement.WebElement (session=\"543cd7eef8c14ae6a8966393f22d0932\", element=\"c3848e8c-1740-45ae-9159-a28a44f8517a\")>,\n",
       " <selenium.webdriver.remote.webelement.WebElement (session=\"543cd7eef8c14ae6a8966393f22d0932\", element=\"a2e845f2-72d7-41e8-ae20-fb2474de0d33\")>,\n",
       " <selenium.webdriver.remote.webelement.WebElement (session=\"543cd7eef8c14ae6a8966393f22d0932\", element=\"e10b6cf1-78b2-45ed-bd3b-74a3d73ccff8\")>,\n",
       " <selenium.webdriver.remote.webelement.WebElement (session=\"543cd7eef8c14ae6a8966393f22d0932\", element=\"9a08b61e-c77d-4f7c-b8d5-140cf80e0e0b\")>,\n",
       " <selenium.webdriver.remote.webelement.WebElement (session=\"543cd7eef8c14ae6a8966393f22d0932\", element=\"faa2de45-efb4-4aea-bcdc-47157516f953\")>,\n",
       " <selenium.webdriver.remote.webelement.WebElement (session=\"543cd7eef8c14ae6a8966393f22d0932\", element=\"be70a8ba-21fb-4fee-96ca-842ae9f74b3a\")>,\n",
       " <selenium.webdriver.remote.webelement.WebElement (session=\"543cd7eef8c14ae6a8966393f22d0932\", element=\"99d8966d-4f19-421e-97d3-b19e93259de7\")>,\n",
       " <selenium.webdriver.remote.webelement.WebElement (session=\"543cd7eef8c14ae6a8966393f22d0932\", element=\"d864af3a-644c-423e-a657-3935fa18e0ed\")>,\n",
       " <selenium.webdriver.remote.webelement.WebElement (session=\"543cd7eef8c14ae6a8966393f22d0932\", element=\"e4f70ac4-76fd-4e23-9661-e0583fbc9cf9\")>,\n",
       " <selenium.webdriver.remote.webelement.WebElement (session=\"543cd7eef8c14ae6a8966393f22d0932\", element=\"ddaa9ed5-fd79-4f90-99e3-6bf16ae6829d\")>,\n",
       " <selenium.webdriver.remote.webelement.WebElement (session=\"543cd7eef8c14ae6a8966393f22d0932\", element=\"70323912-89ae-4483-af57-92ffbd0011fe\")>,\n",
       " <selenium.webdriver.remote.webelement.WebElement (session=\"543cd7eef8c14ae6a8966393f22d0932\", element=\"abc0c9bf-61c1-460c-8d27-522f694a4f3d\")>,\n",
       " <selenium.webdriver.remote.webelement.WebElement (session=\"543cd7eef8c14ae6a8966393f22d0932\", element=\"ca119b71-4417-45d7-a20b-27d2e8bbf649\")>,\n",
       " <selenium.webdriver.remote.webelement.WebElement (session=\"543cd7eef8c14ae6a8966393f22d0932\", element=\"4e143e25-1c52-478b-960c-efc2ea2a626b\")>,\n",
       " <selenium.webdriver.remote.webelement.WebElement (session=\"543cd7eef8c14ae6a8966393f22d0932\", element=\"d2ebcd03-f9cb-4812-b378-ef39187aa29a\")>,\n",
       " <selenium.webdriver.remote.webelement.WebElement (session=\"543cd7eef8c14ae6a8966393f22d0932\", element=\"8187e234-f322-45f9-b20e-b748e3ea2a3a\")>,\n",
       " <selenium.webdriver.remote.webelement.WebElement (session=\"543cd7eef8c14ae6a8966393f22d0932\", element=\"eb7161e7-c695-41f7-af04-ad9c16d0cd04\")>,\n",
       " <selenium.webdriver.remote.webelement.WebElement (session=\"543cd7eef8c14ae6a8966393f22d0932\", element=\"a7c5456e-c9a6-4f2d-a1c6-427aa51570e7\")>,\n",
       " <selenium.webdriver.remote.webelement.WebElement (session=\"543cd7eef8c14ae6a8966393f22d0932\", element=\"be87006e-b158-4641-b453-2d7b7bcc216c\")>,\n",
       " <selenium.webdriver.remote.webelement.WebElement (session=\"543cd7eef8c14ae6a8966393f22d0932\", element=\"7512ff2c-b5c3-413d-a5bf-aa2eac04995a\")>,\n",
       " <selenium.webdriver.remote.webelement.WebElement (session=\"543cd7eef8c14ae6a8966393f22d0932\", element=\"99e5484f-403b-41f2-a8ce-26b671ebd3ff\")>,\n",
       " <selenium.webdriver.remote.webelement.WebElement (session=\"543cd7eef8c14ae6a8966393f22d0932\", element=\"7ad48e1e-8a00-4505-8dd3-7f9a9e949d79\")>,\n",
       " <selenium.webdriver.remote.webelement.WebElement (session=\"543cd7eef8c14ae6a8966393f22d0932\", element=\"d0176852-993e-4226-a523-d76304e478a2\")>,\n",
       " <selenium.webdriver.remote.webelement.WebElement (session=\"543cd7eef8c14ae6a8966393f22d0932\", element=\"14e6715a-4c08-4568-bd44-852eb24b7375\")>,\n",
       " <selenium.webdriver.remote.webelement.WebElement (session=\"543cd7eef8c14ae6a8966393f22d0932\", element=\"d9a3c6a1-f399-400a-8826-da0efa29a894\")>,\n",
       " <selenium.webdriver.remote.webelement.WebElement (session=\"543cd7eef8c14ae6a8966393f22d0932\", element=\"2a69efff-185d-48c2-891c-329e8791b279\")>,\n",
       " <selenium.webdriver.remote.webelement.WebElement (session=\"543cd7eef8c14ae6a8966393f22d0932\", element=\"7bdb141c-7bea-45b1-a030-644753840769\")>,\n",
       " <selenium.webdriver.remote.webelement.WebElement (session=\"543cd7eef8c14ae6a8966393f22d0932\", element=\"230a75cf-22af-444c-835f-efe3553f538a\")>,\n",
       " <selenium.webdriver.remote.webelement.WebElement (session=\"543cd7eef8c14ae6a8966393f22d0932\", element=\"0aebe617-fb6a-430f-b9ec-22a2391de1bd\")>,\n",
       " <selenium.webdriver.remote.webelement.WebElement (session=\"543cd7eef8c14ae6a8966393f22d0932\", element=\"8e2173d0-204d-4443-a871-4bfd5531e058\")>,\n",
       " <selenium.webdriver.remote.webelement.WebElement (session=\"543cd7eef8c14ae6a8966393f22d0932\", element=\"4bc8d37d-0dc8-4318-bb03-9c11179d2417\")>,\n",
       " <selenium.webdriver.remote.webelement.WebElement (session=\"543cd7eef8c14ae6a8966393f22d0932\", element=\"6b5e0e9f-d16c-40b2-956b-9aaa62626d27\")>,\n",
       " <selenium.webdriver.remote.webelement.WebElement (session=\"543cd7eef8c14ae6a8966393f22d0932\", element=\"c8da1471-5599-4871-85eb-6608823935df\")>,\n",
       " <selenium.webdriver.remote.webelement.WebElement (session=\"543cd7eef8c14ae6a8966393f22d0932\", element=\"96605424-3ce0-4af5-92ab-35560c8a67cb\")>,\n",
       " <selenium.webdriver.remote.webelement.WebElement (session=\"543cd7eef8c14ae6a8966393f22d0932\", element=\"429dc2ba-53a4-4e61-a2af-f5137070d869\")>,\n",
       " <selenium.webdriver.remote.webelement.WebElement (session=\"543cd7eef8c14ae6a8966393f22d0932\", element=\"e32d36fe-501e-4a82-8539-a99a9b10313f\")>]"
      ]
     },
     "execution_count": 100,
     "metadata": {},
     "output_type": "execute_result"
    }
   ],
   "source": [
    "wd.find_elements_by_class_name(\"blind\")"
   ]
  },
  {
   "cell_type": "code",
   "execution_count": 66,
   "id": "495d5383-a425-4bea-9a1c-fb9decad5914",
   "metadata": {},
   "outputs": [
    {
     "ename": "TypeError",
     "evalue": "'NoneType' object is not callable",
     "output_type": "error",
     "traceback": [
      "\u001b[0;31m---------------------------------------------------------------------------\u001b[0m",
      "\u001b[0;31mTypeError\u001b[0m                                 Traceback (most recent call last)",
      "\u001b[0;32m/var/folders/tv/sztrkqb546s2j8khvdnkrrnr0000gn/T/ipykernel_79209/3367619561.py\u001b[0m in \u001b[0;36m<module>\u001b[0;34m\u001b[0m\n\u001b[0;32m----> 1\u001b[0;31m \u001b[0mtitle\u001b[0m\u001b[0;34m[\u001b[0m\u001b[0;36m0\u001b[0m\u001b[0;34m]\u001b[0m\u001b[0;34m.\u001b[0m\u001b[0mget_attribute\u001b[0m\u001b[0;34m(\u001b[0m\u001b[0;34m\"href\"\u001b[0m\u001b[0;34m)\u001b[0m\u001b[0;34m\u001b[0m\u001b[0;34m\u001b[0m\u001b[0m\n\u001b[0m",
      "\u001b[0;31mTypeError\u001b[0m: 'NoneType' object is not callable"
     ]
    }
   ],
   "source": [
    "title[0].get_attribute(\"href\")"
   ]
  },
  {
   "cell_type": "code",
   "execution_count": null,
   "id": "49c0e0ab-0443-4033-be75-1e9e22e2afee",
   "metadata": {},
   "outputs": [],
   "source": []
  }
 ],
 "metadata": {
  "kernelspec": {
   "display_name": "Python 3 (ipykernel)",
   "language": "python",
   "name": "python3"
  },
  "language_info": {
   "codemirror_mode": {
    "name": "ipython",
    "version": 3
   },
   "file_extension": ".py",
   "mimetype": "text/x-python",
   "name": "python",
   "nbconvert_exporter": "python",
   "pygments_lexer": "ipython3",
   "version": "3.8.11"
  }
 },
 "nbformat": 4,
 "nbformat_minor": 5
}
