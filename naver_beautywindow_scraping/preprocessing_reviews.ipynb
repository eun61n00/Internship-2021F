{
 "cells": [
  {
   "cell_type": "code",
   "execution_count": null,
   "id": "29a3f200-a7cf-474e-9afd-b64fa9a437b7",
   "metadata": {},
   "outputs": [],
   "source": [
    "import os\n",
    "import re\n",
    "import pandas as pd\n",
    "import numpy as np\n",
    "import pickle\n",
    "from tqdm.auto import tqdm\n",
    "from collections import defaultdict\n",
    "from ast import literal_eval\n",
    "from iteration_utilities import duplicates\n",
    "\n",
    "pd.options.display.max_columns = None"
   ]
  },
  {
   "cell_type": "code",
   "execution_count": null,
   "id": "d88d63a6-681e-407b-93a8-e64fd8a5cb8e",
   "metadata": {},
   "outputs": [],
   "source": [
    "nv_detail_w_price_tab_final_nv_cat_id = pd.read_csv('nv_detail_w_price_tab_final_nv_cat_id.csv')\n",
    "nvbw_prd_skincare_makeup_rv_complete_drop_duplicates = pd.read_csv('nvbw_prd_skincare_makeup_rv_complete_drop_duplicates_csv')"
   ]
  },
  {
   "cell_type": "code",
   "execution_count": null,
   "id": "cf78f888-3447-4b7d-ae77-bbc0f11200a2",
   "metadata": {},
   "outputs": [],
   "source": [
    "nvbw_prd_skincare_makeup_rv_complete_drop_duplicates.review_text = nvbw_prd_skincare_makeup_rv_complete_drop_duplicates.review_text.apply(lambda x : literal_eval(str(x)) if type(x)!=float else x)"
   ]
  },
  {
   "cell_type": "markdown",
   "id": "8d15ff31-9268-451f-ae20-37c6b1e85a07",
   "metadata": {
    "tags": []
   },
   "source": [
    "<br></br>\n",
    "---\n",
    "### ***Delete products of which review completely matches with other product***"
   ]
  },
  {
   "cell_type": "code",
   "execution_count": null,
   "id": "0755cc58-a40a-4a01-a475-07f2a4398e4c",
   "metadata": {},
   "outputs": [],
   "source": [
    "nvbw_prd_except_rv_all_complete = pd.read_csv('nvbw_prd_except_rv_all_complete.csv')\n",
    "nvbw_prd_except_rv_all_complete.review_text = nvbw_prd_except_rv_all_complete.review_text.apply(lambda x : literal_eval(str(x)) if type(x)!= float else x)"
   ]
  },
  {
   "cell_type": "code",
   "execution_count": null,
   "id": "3da30161-84c3-43e1-9c0d-301a5334a59b",
   "metadata": {},
   "outputs": [],
   "source": [
    "nvbw_prd_except_rv_all_complete.drop_duplicates(subset=['review_text']).to_csv('nvbw_prd_except_rv_all_complete_drop_duplicates.csv', index=False)"
   ]
  },
  {
   "cell_type": "markdown",
   "id": "154d9e72-1fec-41ec-800e-e2eef889777d",
   "metadata": {
    "tags": []
   },
   "source": [
    "<br></br>\n",
    "---\n",
    "### ***Delete products of which review is completely included in review of other product***"
   ]
  },
  {
   "cell_type": "markdown",
   "id": "0d283b71-b46b-4ed9-a9e9-f0abd687af87",
   "metadata": {},
   "source": [
    "*catalog id 기준으로 같은 제품 2개 이상 있는 경우에 id값 same_prd에 append*"
   ]
  },
  {
   "cell_type": "code",
   "execution_count": null,
   "id": "ba20b39f-7c0a-45fd-949c-9f5be6d70d71",
   "metadata": {},
   "outputs": [],
   "source": [
    "same_prd = []\n",
    "for cat_id in tqdm(list(set(nvbw_prd_skincare_makeup_rv_complete_drop_duplicates_except_nan.naver_catalog_id))):\n",
    "    if len(list(nvbw_prd_skincare_makeup_rv_complete_drop_duplicates_except_nan.loc[nvbw_prd_skincare_makeup_rv_complete_drop_duplicates_except_nan.naver_catalog_id == cat_id].id)) >1 :\n",
    "        same_prd.append((cat_id, list(nvbw_prd_skincare_makeup_rv_complete_drop_duplicates_except_nan.loc[nvbw_prd_skincare_makeup_rv_complete_drop_duplicates_except_nan.naver_catalog_id == cat_id].id)))"
   ]
  },
  {
   "cell_type": "markdown",
   "id": "0e29881a-f57d-45b0-889b-68685273acc3",
   "metadata": {},
   "source": [
    "*same_prd안에 있는 제품들을 1:1로 리뷰 비교 → 중복되는 lengh가 어느 한쪽의 전체 리뷰 개수와 같으면 그 제품을 제거*"
   ]
  },
  {
   "cell_type": "code",
   "execution_count": null,
   "id": "9d1e6bdb-5d35-42e7-8e5f-389f4362c247",
   "metadata": {
    "tags": []
   },
   "outputs": [],
   "source": [
    "drop_id_val_lst = []\n",
    "for idx in tqdm(range(len(same_prd))):\n",
    "    cat_id = same_prd[idx][0]\n",
    "    for id_val_1 in same_prd[idx][1][:-1]:\n",
    "        for id_val_2 in same_prd[idx][1][same_prd[idx][1].index(id_val_1) + 1:]:\n",
    "            rv_id_val_1 = nvbw_prd_skincare_makeup_rv_complete_drop_duplicates_except_nan.loc[nvbw_prd_skincare_makeup_rv_complete_drop_duplicates_except_nan.id_val == id_val_1, 'review_text'].values[0]\n",
    "            rv_id_val_2 = nvbw_prd_skincare_makeup_rv_complete_drop_duplicates_except_nan.loc[nvbw_prd_skincare_makeup_rv_complete_drop_duplicates_except_nan.id_val == id_val_2, 'review_text'].values[0]\n",
    "            dup_len = len(list(set(rv_id_val_1) & set(rv_id_val_2)))\n",
    "            if dup_len == len(set(rv_id_val_1)):\n",
    "                drop_id_val_lst.append((id_val_1, id_val_2))\n",
    "                print((id_val_1, id_val_2))\n",
    "            elif dup_len == len(set(rv_id_val_2)):\n",
    "                drop_id_val_lst.append((id_val_2, id_val_1))\n",
    "                print((id_val_2, id_val_1))"
   ]
  },
  {
   "cell_type": "markdown",
   "id": "e3b12e0e-704a-4389-8336-2e118b7a091a",
   "metadata": {
    "tags": []
   },
   "source": [
    "<br></br>\n",
    "---\n",
    "### ***Review Dataframe***"
   ]
  },
  {
   "cell_type": "code",
   "execution_count": null,
   "id": "d2756f11-4989-4d27-960b-5b758c32301f",
   "metadata": {},
   "outputs": [],
   "source": [
    "nvbw_prd_except_rv_all_complete_drop_duplicates = pd.read_csv('nvbw_prd_except_rv_all_complete_drop_duplicates.csv')"
   ]
  },
  {
   "cell_type": "code",
   "execution_count": null,
   "id": "6d4e2d4c-fec0-45ba-99c3-648f809ade4c",
   "metadata": {},
   "outputs": [],
   "source": [
    "def flatten_list(lst):\n",
    "    return [item for sublist in lst for item in sublist]"
   ]
  },
  {
   "cell_type": "code",
   "execution_count": null,
   "id": "3a37d0cd-fece-42e2-8022-83ac72c519d5",
   "metadata": {},
   "outputs": [],
   "source": [
    "def make_review_df(prd_rv):\n",
    "    id_val_all = []\n",
    "    rating_all = []\n",
    "    review_info_all = []\n",
    "    review_text_all = []\n",
    "    \n",
    "    for idx in list(prd_rv.index):\n",
    "        id_val == prd_rv.loc[idx, 'id_val']\n",
    "        if type(prd_rv.loc[idx, 'review_cnt']) != float:\n",
    "            id_val_all.append(id_val)\n",
    "            rating_all.append(prd_rv.loc[idx, 'rating'])\n",
    "            review_info_all.append(prd_rv.loc[idx, 'review_info'])\n",
    "            review_text.append(prd_rv.loc[idx, 'review_text'])\n",
    "            \n",
    "    rating_all = flatten_list(rating_all)\n",
    "    review_info_all = flatten_list(review_info_all)\n",
    "    review_text_all = flatten_list(review_text_all)\n",
    "    \n",
    "    review_df = pd.DataFrame(columns = ['id', 'product_rating', 'user_info', 'product_review'])\n",
    "    review_df.id = id_val_all\n",
    "    review_df.rating = rating_all\n",
    "    review_df.user_info = reivew_info_all\n",
    "    review_df.review = review_text_all\n",
    "        \n",
    "    mall = [m if m!='' else np.nan for m in [x[0] for x in review_df.user_info]]\n",
    "    user_id = [user if id!='' else np.nan for user in [x[1] for x in review_df.user_info]]\n",
    "    review_date = [date if date!='' else np.nan for date in [x[2] for x in review_df.user_info]]\n",
    "    option = [x[3] if len(x) == 4 else np.nan for x in review_df.option]\n",
    "    \n",
    "    review_df.mall = mall\n",
    "    review_df.user_id = user_id\n",
    "    review_df.review_date = review_date\n",
    "    review_df.option = option\n",
    "    \n",
    "    review_df.drop('user_info', axis='columns', inplace=True)\n",
    "    review_df.review_date = pd.to_datetime(review_df.review_date, yearfirst=True)\n",
    "    \n",
    "    return review_df"
   ]
  },
  {
   "cell_type": "code",
   "execution_count": null,
   "id": "d2d3f700-4496-4b50-899b-4b22841d2259",
   "metadata": {},
   "outputs": [],
   "source": [
    "rv_df_nvbw_prd_except_rv_all_complete_drop_duplicates = make_review_df(nvbw_prd_except_rv_all_complete_drop_duplicates)"
   ]
  },
  {
   "cell_type": "code",
   "execution_count": null,
   "id": "53060a0b-4c4a-4b4d-a4df-e8116ee83159",
   "metadata": {},
   "outputs": [],
   "source": [
    "rv_df_nvbw_prd_except_rv_all_complete_drop_duplicates = rv_df_nvbw_prd_except_rv_all_complete_drop_duplicates[['id', 'product_rating', 'mall',\n",
    "                                                                                                               'option', 'review_date', 'user_id', 'product_review']]"
   ]
  },
  {
   "cell_type": "code",
   "execution_count": null,
   "id": "5881d8ff-3298-4736-882b-1ff749abd590",
   "metadata": {},
   "outputs": [],
   "source": [
    "rv_df_nvbw_prd_except_rv_all_complete_drop_duplicates.to_csv('rv_df_nvbw_prd_except_rv_all_complete_drop_duplicates.csv')"
   ]
  },
  {
   "cell_type": "markdown",
   "id": "ca39b0bf-ba95-48db-89d1-3c577a007406",
   "metadata": {
    "tags": []
   },
   "source": [
    "<br></br>\n",
    "---\n",
    "### ***Create index to check duplicate reviews based on each reviews***\n",
    "상품 제거 후, 리뷰 기준 중복 리뷰 index 생성"
   ]
  },
  {
   "cell_type": "code",
   "execution_count": null,
   "id": "d10cd4a9-296d-4924-bdea-8d9218d4c44f",
   "metadata": {},
   "outputs": [],
   "source": [
    "rv_df_nvbw_prd_except_rv_all_complete_drop_duplicates = pd.read_csv('rv_df_nvbw_prd_except_rv_all_complete_drop_duplicates.csv')\n",
    "rv_df_nvbw_prd_except_rv_all_complete_drop_duplicates.review = rv_df_nvbw_prd_except_rv_all_complete_drop_duplicates.review.apply(lambda x : literal_eval(x) if type(x)!= float else x)"
   ]
  },
  {
   "cell_type": "code",
   "execution_count": null,
   "id": "9b2d0b07-f67c-49d3-b19f-4c9e6dfac903",
   "metadata": {},
   "outputs": [],
   "source": [
    "tot_rv_lst = list(rv_df_nvbw_prd_except_rv_all_complete_drop_duplicates.review_text)\n",
    "dup_rv_lst = list(duplicates(tot_rv_lst))\n",
    "dup_rv_lst = list(set(dup_rv_lst))"
   ]
  },
  {
   "cell_type": "code",
   "execution_count": null,
   "id": "5732ffa0-1ca1-467b-8df7-106b201221a6",
   "metadata": {},
   "outputs": [],
   "source": [
    "#dataframe to merge\n",
    "dup_rv_df = pd.DataFrame(columns='check_duplicate_reviews', 'review')\n",
    "dup_rv_df.review = dup_rv_lst\n",
    "dup_rv_df.check_duplicates_review_idx = list(range(len(dup_rv_df)))"
   ]
  },
  {
   "cell_type": "code",
   "execution_count": null,
   "id": "7cf585e2-aed6-4633-b1a0-2b02df577e22",
   "metadata": {},
   "outputs": [],
   "source": [
    "rv_df_nvbw_prd_except_rv_all_complete_drop_duplicates = pd.merge(rv_df_nvbw_prd_except_rv_all_complete_drop_duplicates, dup_rv_df, how='left', on='review')"
   ]
  },
  {
   "cell_type": "markdown",
   "id": "aa579aa6-0be4-47bd-8c28-f792172697d1",
   "metadata": {
    "tags": []
   },
   "source": [
    "\n",
    "<br></br>\n",
    "---\n",
    "### ***Create group index to check duplicate review based on products of which reviews partially match***\n",
    "상품 기준 부분적 중복 group index 생성"
   ]
  },
  {
   "cell_type": "markdown",
   "id": "3fda5db8-564a-4db3-ba53-bc2edc506467",
   "metadata": {},
   "source": [
    "*리뷰 중복이 80%이상인 경우, id값을 dup_id_lst에 append*"
   ]
  },
  {
   "cell_type": "code",
   "execution_count": null,
   "id": "eef58947-82cf-4a4d-a0a4-537050474f89",
   "metadata": {
    "tags": []
   },
   "outputs": [],
   "source": [
    "dup_id_lst = []\n",
    "#idx_val_lst = list(nvbw_prd_skincare_makeup_rv_complete_drop_duplicates.loc[pd.isnull(nvbw_prd_skincare_makeup_rv_complete_drop_duplicates.rating) == False].index)\n",
    "\n",
    "for cat_id in tqdm(nvbw_prd_skincare_makeup_rv_complete_drop_duplicates.naver_catalog_id):\n",
    "    idx_val_lst = list(nvbw_prd_skincare_makeup_rv_complete_drop_duplicates.loc[nvbw_prd_skincare_makeup_rv_complete_drop_duplicates.naver_catalog_id == cat_id].index)\n",
    "    \n",
    "    try:\n",
    "        for idx_1 in idx_val_lst[:-1]:\n",
    "            cnt_idx = 0\n",
    "            for idx_2 in idx_val_lst[cnt_idx+1:]:\n",
    "                cnt_idx += 1\n",
    "\n",
    "                rv_lst_1 = list(nvbw_prd_skincare_makeup_rv_complete_drop_duplicates.loc[idx_1, 'review_text'])\n",
    "                rv_lst_2 = list(nvbw_prd_skincare_makeup_rv_complete_drop_duplicates.loc[idx_2, 'review_text'])\n",
    "\n",
    "                dup_len = len(list(set(rv_lst_1) & set(rv_lst_2)))\n",
    "\n",
    "                id_1 = nvbw_prd_skincare_makeup_rv_complete_drop_duplicates.loc[idx_1, 'id_val']\n",
    "                id_2 = nvbw_prd_skincare_makeup_rv_complete_drop_duplicates.loc[idx_2, 'id_val']\n",
    "\n",
    "                if dup_len / len(rv_lst_1) > 0.8 and dup_len / len(rv_lst_2) > 0.8:\n",
    "                    dup_id_lst.append([id_1, id_2])\n",
    "                    \n",
    "            \n",
    "    except TypeError: #nan value\n",
    "        pass"
   ]
  },
  {
   "cell_type": "code",
   "execution_count": null,
   "id": "184ec32d-df55-4c2d-a530-9a1d309b3c7e",
   "metadata": {},
   "outputs": [],
   "source": [
    "dup_id_lst = [x for x in dup_id_lst if x[0] != x[1]]\n",
    "dup_id_lst = [tuple(sorted(list(x))) for x in dup_id_lst]\n",
    "dup_id_lst = list(set(dup_id_lst))"
   ]
  },
  {
   "cell_type": "code",
   "execution_count": null,
   "id": "a0ad6e03-6800-4b4b-9c3d-3c6359b8b9fd",
   "metadata": {},
   "outputs": [],
   "source": [
    "dup_id_lst[:10]"
   ]
  },
  {
   "cell_type": "code",
   "execution_count": null,
   "id": "0b069699-a817-4d8d-b0f2-814690ae1daf",
   "metadata": {},
   "outputs": [],
   "source": [
    "nvbw_prd_skincare_makeup_rv_complete_drop_duplicates.loc[nvbw_prd_skincare_makeup_rv_complete_drop_duplicates.id_val == dup_id_lst[0][0]].naver_catalog_id.values[0]"
   ]
  },
  {
   "cell_type": "markdown",
   "id": "c9c6a8b2-57f7-4f3b-8618-359868c39eea",
   "metadata": {},
   "source": [
    "*catalog_id값에 따라 dup_id 그룹* <br>\n",
    "dup_id_dict: {catalog_id, dup_id}"
   ]
  },
  {
   "cell_type": "code",
   "execution_count": null,
   "id": "10099bcf-1227-47fe-aaea-a6ab894ae0b8",
   "metadata": {},
   "outputs": [],
   "source": [
    "dup_id_dict = defaultdict(list)\n",
    "for i in range(len(dup_id_lst)):\n",
    "    cat_id = nvbw_prd_skincare_makeup_rv_complete_drop_duplicates.loc[nvbw_prd_skincare_makeup_rv_complete_drop_duplicates.id_val == dup_id_lst[i][0]].naver_catalog_id.values[0]\n",
    "    dup_id_dict[cat_id].append(dup_id_lst[i][0])\n",
    "    dup_id_dict[cat_id].append(dup_id_lst[i][1])\n",
    "    \n",
    "dup_id_lst_fnl = [list(set(x)) for x in [dup_id_dict[x] for x in dup_id_dict.keys()]]"
   ]
  },
  {
   "cell_type": "code",
   "execution_count": null,
   "id": "334a5b63-93c2-4c9e-857f-77d0f810268d",
   "metadata": {},
   "outputs": [],
   "source": [
    "check_part_duplicates_review = []\n",
    "for i in range(len(dup_id_lst_fnl)):\n",
    "    for j in range(len(dup_id_lst_fnl[i])):\n",
    "        check_part_duplicates_review.append(i)"
   ]
  },
  {
   "cell_type": "code",
   "execution_count": null,
   "id": "bcbe2f39-0cfd-47a9-a70f-2643becfcbbf",
   "metadata": {},
   "outputs": [],
   "source": [
    "check_part_dup_df = pd.DataFrame(columns=['check_duplicates_partion_review', 'id_val'])"
   ]
  },
  {
   "cell_type": "code",
   "execution_count": null,
   "id": "0c618dd3-47f8-41a9-98a7-46ac48f1a9d2",
   "metadata": {},
   "outputs": [],
   "source": [
    "check_part_dup_df.check_duplicates_partion_review = check_part_duplicates_review\n",
    "check_part_dup_df.id_val = [item for sublist in dup_id_lst_fnl for item in sublist]"
   ]
  },
  {
   "cell_type": "code",
   "execution_count": null,
   "id": "a1a72a2b-f3f3-4b79-93aa-aae5cb316617",
   "metadata": {},
   "outputs": [],
   "source": [
    "id_naver_beauty_product_info_extended_v1_mapping_df = pd.merge(id_naver_beauty_product_info_extended_v1_mapping_df, check_part_dup_df, how='left', left_on='id_nv_items_w_price_tab', right_on='id_val')"
   ]
  },
  {
   "cell_type": "code",
   "execution_count": null,
   "id": "2902d89f-8dca-4575-b18e-f214245c75a8",
   "metadata": {},
   "outputs": [],
   "source": [
    "id_naver_beauty_product_info_extended_v1_mapping_df.loc[pd.isnull(id_naver_beauty_product_info_extended_v1_mapping_df.check_duplicate_reviews_idx) == False]"
   ]
  },
  {
   "cell_type": "code",
   "execution_count": null,
   "id": "09c13656-a01a-4139-9bca-4663d26b4260",
   "metadata": {},
   "outputs": [],
   "source": [
    "id_naver_beauty_product_info_extended_v1_mapping_df.to_csv('id_naver_beauty_product_info_extended_v1_mapping_df.csv', index=False)"
   ]
  },
  {
   "cell_type": "code",
   "execution_count": null,
   "id": "ade5cc8e-2013-436c-a0f0-17343c1b1e37",
   "metadata": {},
   "outputs": [],
   "source": [
    "id_naver_beauty_product_info_extended_v1_mapping_df.rename({'check_duplicates_partion_review':'check_duplicate_reviews_idx'}, axis='columns', inplace=True)"
   ]
  },
  {
   "cell_type": "code",
   "execution_count": null,
   "id": "faa4e1a9-299c-48d4-a99d-a4c945ee0355",
   "metadata": {},
   "outputs": [],
   "source": [
    "id_naver_beauty_product_info_extended_v1_mapping_df.drop('id_val', axis='columns', inplace=True)"
   ]
  },
  {
   "cell_type": "code",
   "execution_count": null,
   "id": "8fda30ef-4166-41c1-96aa-53995abe1ae0",
   "metadata": {
    "tags": []
   },
   "outputs": [],
   "source": [
    "import pickle\n",
    "with open('drop_id_val_lst_part_dup.txt', 'wb') as f:\n",
    "    pickle.dump(drop_id_val_lst, f)"
   ]
  }
 ],
 "metadata": {
  "kernelspec": {
   "display_name": "Python 3",
   "language": "python",
   "name": "python3"
  },
  "language_info": {
   "codemirror_mode": {
    "name": "ipython",
    "version": 3
   },
   "file_extension": ".py",
   "mimetype": "text/x-python",
   "name": "python",
   "nbconvert_exporter": "python",
   "pygments_lexer": "ipython3",
   "version": "3.8.10"
  }
 },
 "nbformat": 4,
 "nbformat_minor": 5
}
