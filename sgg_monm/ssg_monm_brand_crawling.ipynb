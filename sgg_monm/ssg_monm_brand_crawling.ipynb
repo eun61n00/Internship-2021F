{
 "cells": [
  {
   "cell_type": "code",
   "execution_count": 1,
   "id": "3f51b952-f061-4f3c-b090-e46e7f018f43",
   "metadata": {},
   "outputs": [],
   "source": [
    "import os\n",
    "import re\n",
    "import pandas as pd\n",
    "import pickle\n",
    "import collections\n",
    "from collections import defaultdict\n",
    "import numpy as np\n",
    "import math\n",
    "from ast import literal_eval\n",
    "from time import gmtime, strftime\n",
    "import re\n",
    "import time\n",
    "from bs4 import BeautifulSoup\n",
    "from tqdm.auto import tqdm\n",
    "\n",
    "# Scrapping\n",
    "import selenium\n",
    "from selenium import webdriver\n",
    "from selenium.webdriver.common.keys import Keys\n",
    "from selenium.webdriver.support.ui import WebDriverWait\n",
    "from selenium.webdriver.support import expected_conditions as EC\n",
    "from webdriver_manager.chrome import ChromeDriverManager\n",
    "from selenium.webdriver.common.by import By\n",
    "from selenium.webdriver.chrome.options import Options\n",
    "from fake_useragent import UserAgent\n",
    "\n",
    "# Error Handling\n",
    "import socket\n",
    "import urllib3\n",
    "import urllib.request\n",
    "from urllib.request import urlopen\n",
    "from urllib.parse import quote_plus\n",
    "from urllib.request import urlretrieve\n",
    "from selenium.common.exceptions import NoSuchElementException, ElementNotInteractableException, ElementClickInterceptedException\n",
    "import warnings\n",
    "warnings.filterwarnings('ignore')"
   ]
  },
  {
   "cell_type": "code",
   "execution_count": 2,
   "id": "c48bbca0-e4de-46c8-9eaa-46369b730966",
   "metadata": {},
   "outputs": [
    {
     "name": "stderr",
     "output_type": "stream",
     "text": [
      "\n",
      "\n",
      "====== WebDriver manager ======\n",
      "Current google-chrome version is 94.0.4606\n",
      "Get LATEST driver version for 94.0.4606\n",
      "Driver [/Users/kimjisoo/.wdm/drivers/chromedriver/mac64/94.0.4606.61/chromedriver] found in cache\n"
     ]
    }
   ],
   "source": [
    "wd = webdriver.Chrome(ChromeDriverManager().install())\n",
    "\n",
    "wd.get('http://www.ssg.com/monm/brand.ssg')\n",
    "time.sleep(2)\n",
    "\n",
    "wd.maximize_window()\n",
    "\n",
    "wd.find_element_by_xpath(\"/html/body/div[4]/div[6]/div/div[2]/div[2]/div[2]/div[1]/button[2]/span[1]\").click()\n",
    "time.sleep(1)\n",
    "\n",
    "html = wd.page_source\n",
    "soup = BeautifulSoup(html, \"html.parser\")\n",
    "\n",
    "#soup.find_all(\"a\", {\"class\": \"brandSrch clickable\"})"
   ]
  },
  {
   "cell_type": "code",
   "execution_count": 3,
   "id": "fc8c88b0-8fa9-4bd7-92f3-32804c2eb50a",
   "metadata": {},
   "outputs": [],
   "source": [
    "#brand id set\n",
    "\n",
    "brd_lst = soup.find_all(\"a\", {\"class\": \"brandSrch clickable\"})\n",
    "\n",
    "brd_id_lst = []\n",
    "for brd in brd_lst:\n",
    "    brd_id_lst.append(re.findall('data-brand-id=\"(.*?)\"', str(brd))[0])\n",
    "    \n",
    "brd_id_lst = list(set(brd_id_lst))"
   ]
  },
  {
   "cell_type": "code",
   "execution_count": null,
   "id": "e1f05e22-bbac-46e8-a82b-c2ab0aebc697",
   "metadata": {},
   "outputs": [],
   "source": [
    "import pickle\n",
    "\n",
    "with open(\"ssg_brd_id_lst.txt\", 'wb') as f:\n",
    "    brd_id_lst = pickle.load(f)"
   ]
  },
  {
   "cell_type": "code",
   "execution_count": 8,
   "id": "adee6a19-dd99-4caf-9c4a-be024dd57b55",
   "metadata": {},
   "outputs": [],
   "source": [
    "all_brd_name = []\n",
    "all_brd_id = []\n",
    "all_prd_total_cnt = []\n",
    "exception = []"
   ]
  },
  {
   "cell_type": "code",
   "execution_count": 9,
   "id": "46e7e6a4-a129-4f96-90ff-8d0bb8459f8e",
   "metadata": {
    "tags": []
   },
   "outputs": [
    {
     "data": {
      "application/vnd.jupyter.widget-view+json": {
       "model_id": "0b3334af248c4aaa8d058b0fadf42199",
       "version_major": 2,
       "version_minor": 0
      },
      "text/plain": [
       "  0%|          | 0/3 [00:00<?, ?it/s]"
      ]
     },
     "metadata": {},
     "output_type": "display_data"
    },
    {
     "name": "stderr",
     "output_type": "stream",
     "text": [
      "\n",
      "\n",
      "====== WebDriver manager ======\n",
      "Current google-chrome version is 94.0.4606\n",
      "Get LATEST driver version for 94.0.4606\n",
      "Driver [/Users/kimjisoo/.wdm/drivers/chromedriver/mac64/94.0.4606.61/chromedriver] found in cache\n"
     ]
    },
    {
     "name": "stdout",
     "output_type": "stream",
     "text": [
      "Mozilla/5.0 (Macintosh; Intel Mac OS X 10_7_5) AppleWebKit/537.36 (KHTML, like Gecko) Chrome/27.0.1453.93 Safari/537.36\n"
     ]
    },
    {
     "name": "stderr",
     "output_type": "stream",
     "text": [
      "\n",
      "\n",
      "====== WebDriver manager ======\n",
      "Current google-chrome version is 94.0.4606\n",
      "Get LATEST driver version for 94.0.4606\n",
      "Driver [/Users/kimjisoo/.wdm/drivers/chromedriver/mac64/94.0.4606.61/chromedriver] found in cache\n"
     ]
    },
    {
     "name": "stdout",
     "output_type": "stream",
     "text": [
      "Mozilla/5.0 (Windows NT 10.0) AppleWebKit/537.36 (KHTML, like Gecko) Chrome/40.0.2214.93 Safari/537.36\n"
     ]
    },
    {
     "name": "stderr",
     "output_type": "stream",
     "text": [
      "\n",
      "\n",
      "====== WebDriver manager ======\n",
      "Current google-chrome version is 94.0.4606\n",
      "Get LATEST driver version for 94.0.4606\n"
     ]
    },
    {
     "name": "stdout",
     "output_type": "stream",
     "text": [
      "Mozilla/5.0 (Windows NT 6.2) AppleWebKit/537.36 (KHTML, like Gecko) Chrome/28.0.1467.0 Safari/537.36\n"
     ]
    },
    {
     "name": "stderr",
     "output_type": "stream",
     "text": [
      "Driver [/Users/kimjisoo/.wdm/drivers/chromedriver/mac64/94.0.4606.61/chromedriver] found in cache\n"
     ]
    }
   ],
   "source": [
    "#ssg_monm brand의 이름과 전체 상품 개수 수집\n",
    "\n",
    "for brd_id in tqdm(brd_id_lst[:3]):\n",
    "    \n",
    "    options = Options()\n",
    "    ua = UserAgent()\n",
    "    userAgent = ua.random\n",
    "    print(userAgent)\n",
    "\n",
    "    options.add_argument('headless')\n",
    "    options.add_argument('window-size=1920x1080')\n",
    "    options.add_argument(\"disable-gpu\")\n",
    "    options.add_argument(f'user-agent={userAgent}')\n",
    "    wd = webdriver.Chrome(ChromeDriverManager().install(), chrome_options=options)\n",
    "\n",
    "    socket.setdefaulttimeout(30)\n",
    "    \n",
    "    \n",
    "    try:\n",
    "        wd.get(\"http://www.ssg.com/disp/brandShop?brandId={}\".format(brd_id))\n",
    "        time.sleep(3)\n",
    "\n",
    "        html = wd.page_source\n",
    "        soup = BeautifulSoup(html, \"html.parser\")\n",
    "\n",
    "        brd_name = wd.find_element_by_xpath(\"/html/body/div[4]/div[6]/div[2]/div[1]/h2/a\").text\n",
    "\n",
    "        prd_total_cnt = soup.find(\"em\", {\"id\": \"area_item_total_count\"}).text.replace('\\t', '')\n",
    "        prd_total_cnt = prd_total_cnt.replace('\\n', '')\n",
    "        prd_total_cnt = int(prd_total_cnt.replace(',', ''))\n",
    "\n",
    "\n",
    "    except:\n",
    "        brd_name = None\n",
    "        brd_id = brd_id\n",
    "        prd_total_cnt = None\n",
    "        print(\"에러가 발생했습니다.\")\n",
    "\n",
    "    wd.close()\n",
    "    \n",
    "    all_brd_name.append(brd_name)\n",
    "    all_brd_id.append(brd_id)\n",
    "    all_prd_total_cnt.append(prd_total_cnt)"
   ]
  },
  {
   "cell_type": "code",
   "execution_count": 10,
   "id": "4863bc25-8cbd-4678-80b8-b3ed76396428",
   "metadata": {},
   "outputs": [],
   "source": [
    "#dataframe\n",
    "\n",
    "ssg_brd_df = pd.DataFrame(columns = ['brd_name', 'brd_id', 'prd_total_cnt'])\n",
    "\n",
    "ssg_brd_df['brd_name'] = all_brd_name\n",
    "ssg_brd_df['brd_id'] = all_brd_id\n",
    "ssg_brd_df['prd_total_cnt'] = all_prd_total_cnt"
   ]
  },
  {
   "cell_type": "code",
   "execution_count": 11,
   "id": "2eaac104-09ff-4bd2-a516-273d313d3c0e",
   "metadata": {},
   "outputs": [
    {
     "data": {
      "text/html": [
       "<div>\n",
       "<style scoped>\n",
       "    .dataframe tbody tr th:only-of-type {\n",
       "        vertical-align: middle;\n",
       "    }\n",
       "\n",
       "    .dataframe tbody tr th {\n",
       "        vertical-align: top;\n",
       "    }\n",
       "\n",
       "    .dataframe thead th {\n",
       "        text-align: right;\n",
       "    }\n",
       "</style>\n",
       "<table border=\"1\" class=\"dataframe\">\n",
       "  <thead>\n",
       "    <tr style=\"text-align: right;\">\n",
       "      <th></th>\n",
       "      <th>brd_name</th>\n",
       "      <th>brd_id</th>\n",
       "      <th>prd_total_cnt</th>\n",
       "    </tr>\n",
       "  </thead>\n",
       "  <tbody>\n",
       "    <tr>\n",
       "      <th>0</th>\n",
       "      <td>키스뉴욕</td>\n",
       "      <td>3000029429</td>\n",
       "      <td>187</td>\n",
       "    </tr>\n",
       "    <tr>\n",
       "      <th>1</th>\n",
       "      <td>LA VIGUEUR</td>\n",
       "      <td>1010770896</td>\n",
       "      <td>9</td>\n",
       "    </tr>\n",
       "    <tr>\n",
       "      <th>2</th>\n",
       "      <td>비페스타</td>\n",
       "      <td>3000010658</td>\n",
       "      <td>35</td>\n",
       "    </tr>\n",
       "  </tbody>\n",
       "</table>\n",
       "</div>"
      ],
      "text/plain": [
       "     brd_name      brd_id  prd_total_cnt\n",
       "0        키스뉴욕  3000029429            187\n",
       "1  LA VIGUEUR  1010770896              9\n",
       "2        비페스타  3000010658             35"
      ]
     },
     "execution_count": 11,
     "metadata": {},
     "output_type": "execute_result"
    }
   ],
   "source": [
    "ssg_brd_df"
   ]
  },
  {
   "cell_type": "code",
   "execution_count": null,
   "id": "47453bf5-3910-4b95-b233-03ccfb9369ca",
   "metadata": {},
   "outputs": [],
   "source": []
  }
 ],
 "metadata": {
  "kernelspec": {
   "display_name": "Python 3 (ipykernel)",
   "language": "python",
   "name": "python3"
  },
  "language_info": {
   "codemirror_mode": {
    "name": "ipython",
    "version": 3
   },
   "file_extension": ".py",
   "mimetype": "text/x-python",
   "name": "python",
   "nbconvert_exporter": "python",
   "pygments_lexer": "ipython3",
   "version": "3.8.11"
  }
 },
 "nbformat": 4,
 "nbformat_minor": 5
}
