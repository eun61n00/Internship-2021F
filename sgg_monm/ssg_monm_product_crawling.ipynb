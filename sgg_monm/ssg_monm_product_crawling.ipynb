{
 "cells": [
  {
   "cell_type": "code",
   "execution_count": 1,
   "id": "falling-surname",
   "metadata": {},
   "outputs": [
    {
     "name": "stderr",
     "output_type": "stream",
     "text": [
      "c:\\programdata\\miniconda3\\lib\\site-packages\\requests\\__init__.py:91: RequestsDependencyWarning: urllib3 (1.26.7) or chardet (3.0.4) doesn't match a supported version!\n",
      "  RequestsDependencyWarning)\n"
     ]
    }
   ],
   "source": [
    "import os\n",
    "import re\n",
    "import pandas as pd\n",
    "import pickle\n",
    "import collections\n",
    "from collections import defaultdict\n",
    "import numpy as np\n",
    "import math\n",
    "from ast import literal_eval\n",
    "from time import gmtime, strftime\n",
    "import re\n",
    "import time\n",
    "from bs4 import BeautifulSoup\n",
    "from tqdm.auto import tqdm\n",
    "\n",
    "# Scrapping\n",
    "import selenium\n",
    "from selenium import webdriver\n",
    "from selenium.webdriver.common.keys import Keys\n",
    "from selenium.webdriver.support.ui import WebDriverWait\n",
    "from selenium.webdriver.support import expected_conditions as EC\n",
    "from webdriver_manager.chrome import ChromeDriverManager\n",
    "from selenium.webdriver.common.by import By\n",
    "from selenium.webdriver.chrome.options import Options\n",
    "from fake_useragent import UserAgent\n",
    "\n",
    "# Error Handling\n",
    "import socket\n",
    "import urllib3\n",
    "import urllib.request\n",
    "from urllib.request import urlopen\n",
    "\n",
    "from urllib.parse import quote_plus\n",
    "from urllib.request import urlretrieve\n",
    "from selenium.common.exceptions import NoSuchElementException, ElementNotInteractableException, ElementClickInterceptedException\n",
    "import warnings\n",
    "warnings.filterwarnings('ignore')"
   ]
  },
  {
   "cell_type": "code",
   "execution_count": 2,
   "id": "proof-constitution",
   "metadata": {},
   "outputs": [],
   "source": [
    "brd_name_lst = ['플렌느',\n",
    " '플랙커스',\n",
    " '킨더퍼페츠',\n",
    " '큐비스킨랩',\n",
    " '코코도르',\n",
    " '코디',\n",
    " '위가드',\n",
    " '오스트레일리안 네이티브 보타니컬스',\n",
    " '아베크힐',\n",
    " '비오쿠라',\n",
    " '볼루스파',\n",
    " '바비쉬',\n",
    " '바바파파베이비',\n",
    " '미넴보떼',\n",
    " '르나르도',\n",
    " '라꾸베',\n",
    " '데코뷰',\n",
    " '니드인',\n",
    " '나스브']"
   ]
  },
  {
   "cell_type": "code",
   "execution_count": 3,
   "id": "experienced-bolivia",
   "metadata": {},
   "outputs": [],
   "source": [
    "ssg_brd_df = pd.read_csv(\"ssg_brd_df.csv\")"
   ]
  },
  {
   "cell_type": "code",
   "execution_count": 4,
   "id": "immediate-lindsay",
   "metadata": {},
   "outputs": [],
   "source": [
    "brd_id_lst = []\n",
    "for brd_name in brd_name_lst:\n",
    "    brd_id_lst.append(int(ssg_brd_df.loc[ssg_brd_df.brd_name == brd_name].brd_id))"
   ]
  },
  {
   "cell_type": "code",
   "execution_count": 5,
   "id": "impossible-superior",
   "metadata": {},
   "outputs": [
    {
     "data": {
      "text/plain": [
       "[3000032430,\n",
       " 3000021581,\n",
       " 3000023468,\n",
       " 3000043089,\n",
       " 3000034072,\n",
       " 2000021996,\n",
       " 3000053129,\n",
       " 3000037202,\n",
       " 3000056375,\n",
       " 1030770232,\n",
       " 2011011573,\n",
       " 1010000417,\n",
       " 3000026369,\n",
       " 3000045236,\n",
       " 3000027667,\n",
       " 2000011655,\n",
       " 2000011062,\n",
       " 3000049866,\n",
       " 3000036863]"
      ]
     },
     "execution_count": 5,
     "metadata": {},
     "output_type": "execute_result"
    }
   ],
   "source": [
    "brd_id_lst"
   ]
  },
  {
   "cell_type": "code",
   "execution_count": 6,
   "id": "loving-namibia",
   "metadata": {},
   "outputs": [],
   "source": [
    "exception = []\n",
    "brd_w_prd = {}"
   ]
  },
  {
   "cell_type": "code",
   "execution_count": 9,
   "id": "final-suicide",
   "metadata": {
    "jupyter": {
     "outputs_hidden": true
    },
    "scrolled": true,
    "tags": []
   },
   "outputs": [
    {
     "data": {
      "application/vnd.jupyter.widget-view+json": {
       "model_id": "a2b655002e5642589f227b1e8db46283",
       "version_major": 2,
       "version_minor": 0
      },
      "text/plain": [
       "HBox(children=(IntProgress(value=0, max=19), HTML(value='')))"
      ]
     },
     "metadata": {},
     "output_type": "display_data"
    },
    {
     "name": "stderr",
     "output_type": "stream",
     "text": [
      "Error occurred during loading data. Trying to use cache server https://fake-useragent.herokuapp.com/browsers/0.1.11\n",
      "Traceback (most recent call last):\n",
      "  File \"c:\\programdata\\miniconda3\\lib\\site-packages\\fake_useragent\\utils.py\", line 154, in load\n",
      "    for item in get_browsers(verify_ssl=verify_ssl):\n",
      "  File \"c:\\programdata\\miniconda3\\lib\\site-packages\\fake_useragent\\utils.py\", line 99, in get_browsers\n",
      "    html = html.split('<table class=\"w3-table-all notranslate\">')[1]\n",
      "IndexError: list index out of range\n"
     ]
    },
    {
     "name": "stdout",
     "output_type": "stream",
     "text": [
      "Mozilla/5.0 (X11; CrOS i686 3912.101.0) AppleWebKit/537.36 (KHTML, like Gecko) Chrome/27.0.1453.116 Safari/537.36\n"
     ]
    },
    {
     "name": "stderr",
     "output_type": "stream",
     "text": [
      "\n",
      "\n",
      "====== WebDriver manager ======\n",
      "Current google-chrome version is 95.0.4638\n",
      "Get LATEST driver version for 95.0.4638\n",
      "There is no [win32] chromedriver for browser 95.0.4638 in cache\n",
      "Get LATEST driver version for 95.0.4638\n",
      "Trying to download new driver from https://chromedriver.storage.googleapis.com/95.0.4638.17/chromedriver_win32.zip\n",
      "Driver has been saved in cache [C:\\Users\\keunb\\.wdm\\drivers\\chromedriver\\win32\\95.0.4638.17]\n"
     ]
    },
    {
     "name": "stdout",
     "output_type": "stream",
     "text": [
      "Mozilla/5.0 (Windows NT 6.3; WOW64) AppleWebKit/537.36 (KHTML, like Gecko) Chrome/41.0.2226.0 Safari/537.36\n"
     ]
    },
    {
     "name": "stderr",
     "output_type": "stream",
     "text": [
      "\n",
      "\n",
      "====== WebDriver manager ======\n",
      "Current google-chrome version is 95.0.4638\n",
      "Get LATEST driver version for 95.0.4638\n",
      "Driver [C:\\Users\\keunb\\.wdm\\drivers\\chromedriver\\win32\\95.0.4638.17\\chromedriver.exe] found in cache\n"
     ]
    },
    {
     "name": "stdout",
     "output_type": "stream",
     "text": [
      "Mozilla/5.0 (Windows NT 6.2) AppleWebKit/537.36 (KHTML, like Gecko) Chrome/28.0.1464.0 Safari/537.36\n"
     ]
    },
    {
     "name": "stderr",
     "output_type": "stream",
     "text": [
      "\n",
      "\n",
      "====== WebDriver manager ======\n",
      "Current google-chrome version is 95.0.4638\n",
      "Get LATEST driver version for 95.0.4638\n",
      "Driver [C:\\Users\\keunb\\.wdm\\drivers\\chromedriver\\win32\\95.0.4638.17\\chromedriver.exe] found in cache\n"
     ]
    },
    {
     "name": "stdout",
     "output_type": "stream",
     "text": [
      "Mozilla/5.0 (Windows; U; Windows NT 6.0; fr-FR) AppleWebKit/533.18.1 (KHTML, like Gecko) Version/5.0.2 Safari/533.18.5\n"
     ]
    },
    {
     "name": "stderr",
     "output_type": "stream",
     "text": [
      "\n",
      "\n",
      "====== WebDriver manager ======\n",
      "Current google-chrome version is 95.0.4638\n",
      "Get LATEST driver version for 95.0.4638\n",
      "Driver [C:\\Users\\keunb\\.wdm\\drivers\\chromedriver\\win32\\95.0.4638.17\\chromedriver.exe] found in cache\n"
     ]
    },
    {
     "name": "stdout",
     "output_type": "stream",
     "text": [
      "Mozilla/5.0 (X11; NetBSD) AppleWebKit/537.36 (KHTML, like Gecko) Chrome/27.0.1453.116 Safari/537.36\n"
     ]
    },
    {
     "name": "stderr",
     "output_type": "stream",
     "text": [
      "\n",
      "\n",
      "====== WebDriver manager ======\n",
      "Current google-chrome version is 95.0.4638\n",
      "Get LATEST driver version for 95.0.4638\n",
      "Driver [C:\\Users\\keunb\\.wdm\\drivers\\chromedriver\\win32\\95.0.4638.17\\chromedriver.exe] found in cache\n"
     ]
    },
    {
     "name": "stdout",
     "output_type": "stream",
     "text": [
      "Mozilla/5.0 (Windows NT 6.1; WOW64; rv:21.0) Gecko/20100101 Firefox/21.0\n"
     ]
    },
    {
     "name": "stderr",
     "output_type": "stream",
     "text": [
      "\n",
      "\n",
      "====== WebDriver manager ======\n",
      "Current google-chrome version is 95.0.4638\n",
      "Get LATEST driver version for 95.0.4638\n",
      "Driver [C:\\Users\\keunb\\.wdm\\drivers\\chromedriver\\win32\\95.0.4638.17\\chromedriver.exe] found in cache\n"
     ]
    },
    {
     "name": "stdout",
     "output_type": "stream",
     "text": [
      "Mozilla/5.0 (Macintosh; Intel Mac OS X 10_9_3) AppleWebKit/537.36 (KHTML, like Gecko) Chrome/35.0.1916.47 Safari/537.36\n"
     ]
    },
    {
     "name": "stderr",
     "output_type": "stream",
     "text": [
      "\n",
      "\n",
      "====== WebDriver manager ======\n",
      "Current google-chrome version is 95.0.4638\n",
      "Get LATEST driver version for 95.0.4638\n",
      "Driver [C:\\Users\\keunb\\.wdm\\drivers\\chromedriver\\win32\\95.0.4638.17\\chromedriver.exe] found in cache\n"
     ]
    },
    {
     "name": "stdout",
     "output_type": "stream",
     "text": [
      "Mozilla/5.0 (Windows NT 6.4; WOW64) AppleWebKit/537.36 (KHTML, like Gecko) Chrome/41.0.2225.0 Safari/537.36\n"
     ]
    },
    {
     "name": "stderr",
     "output_type": "stream",
     "text": [
      "\n",
      "\n",
      "====== WebDriver manager ======\n",
      "Current google-chrome version is 95.0.4638\n",
      "Get LATEST driver version for 95.0.4638\n",
      "Driver [C:\\Users\\keunb\\.wdm\\drivers\\chromedriver\\win32\\95.0.4638.17\\chromedriver.exe] found in cache\n"
     ]
    },
    {
     "name": "stdout",
     "output_type": "stream",
     "text": [
      "Mozilla/5.0 (Windows NT 6.2; WOW64) AppleWebKit/537.14 (KHTML, like Gecko) Chrome/24.0.1292.0 Safari/537.14\n"
     ]
    },
    {
     "name": "stderr",
     "output_type": "stream",
     "text": [
      "\n",
      "\n",
      "====== WebDriver manager ======\n",
      "Current google-chrome version is 95.0.4638\n",
      "Get LATEST driver version for 95.0.4638\n",
      "Driver [C:\\Users\\keunb\\.wdm\\drivers\\chromedriver\\win32\\95.0.4638.17\\chromedriver.exe] found in cache\n"
     ]
    },
    {
     "name": "stdout",
     "output_type": "stream",
     "text": [
      "Mozilla/5.0 (Windows NT 4.0; WOW64) AppleWebKit/537.36 (KHTML, like Gecko) Chrome/37.0.2049.0 Safari/537.36\n"
     ]
    },
    {
     "name": "stderr",
     "output_type": "stream",
     "text": [
      "\n",
      "\n",
      "====== WebDriver manager ======\n",
      "Current google-chrome version is 95.0.4638\n",
      "Get LATEST driver version for 95.0.4638\n",
      "Driver [C:\\Users\\keunb\\.wdm\\drivers\\chromedriver\\win32\\95.0.4638.17\\chromedriver.exe] found in cache\n"
     ]
    },
    {
     "name": "stdout",
     "output_type": "stream",
     "text": [
      "Mozilla/5.0 (Windows NT 6.1) AppleWebKit/537.36 (KHTML, like Gecko) Chrome/27.0.1453.93 Safari/537.36\n"
     ]
    },
    {
     "name": "stderr",
     "output_type": "stream",
     "text": [
      "\n",
      "\n",
      "====== WebDriver manager ======\n",
      "Current google-chrome version is 95.0.4638\n",
      "Get LATEST driver version for 95.0.4638\n",
      "Driver [C:\\Users\\keunb\\.wdm\\drivers\\chromedriver\\win32\\95.0.4638.17\\chromedriver.exe] found in cache\n"
     ]
    },
    {
     "name": "stdout",
     "output_type": "stream",
     "text": [
      "Mozilla/5.0 (Macintosh; Intel Mac OS X 10_9_3) AppleWebKit/537.36 (KHTML, like Gecko) Chrome/35.0.1916.47 Safari/537.36\n"
     ]
    },
    {
     "name": "stderr",
     "output_type": "stream",
     "text": [
      "\n",
      "\n",
      "====== WebDriver manager ======\n",
      "Current google-chrome version is 95.0.4638\n",
      "Get LATEST driver version for 95.0.4638\n",
      "Driver [C:\\Users\\keunb\\.wdm\\drivers\\chromedriver\\win32\\95.0.4638.17\\chromedriver.exe] found in cache\n"
     ]
    },
    {
     "name": "stdout",
     "output_type": "stream",
     "text": [
      "Mozilla/5.0 (Windows NT 6.1; WOW64) AppleWebKit/537.36 (KHTML, like Gecko) Chrome/27.0.1453.93 Safari/537.36\n"
     ]
    },
    {
     "name": "stderr",
     "output_type": "stream",
     "text": [
      "\n",
      "\n",
      "====== WebDriver manager ======\n",
      "Current google-chrome version is 95.0.4638\n",
      "Get LATEST driver version for 95.0.4638\n",
      "Driver [C:\\Users\\keunb\\.wdm\\drivers\\chromedriver\\win32\\95.0.4638.17\\chromedriver.exe] found in cache\n"
     ]
    },
    {
     "name": "stdout",
     "output_type": "stream",
     "text": [
      "Mozilla/5.0 (Windows NT 6.4; WOW64) AppleWebKit/537.36 (KHTML, like Gecko) Chrome/41.0.2225.0 Safari/537.36\n"
     ]
    },
    {
     "name": "stderr",
     "output_type": "stream",
     "text": [
      "\n",
      "\n",
      "====== WebDriver manager ======\n",
      "Current google-chrome version is 95.0.4638\n",
      "Get LATEST driver version for 95.0.4638\n",
      "Driver [C:\\Users\\keunb\\.wdm\\drivers\\chromedriver\\win32\\95.0.4638.17\\chromedriver.exe] found in cache\n"
     ]
    },
    {
     "name": "stdout",
     "output_type": "stream",
     "text": [
      "Mozilla/5.0 (compatible; MSIE 10.0; Windows NT 6.1; Trident/5.0)\n"
     ]
    },
    {
     "name": "stderr",
     "output_type": "stream",
     "text": [
      "\n",
      "\n",
      "====== WebDriver manager ======\n",
      "Current google-chrome version is 95.0.4638\n",
      "Get LATEST driver version for 95.0.4638\n",
      "Driver [C:\\Users\\keunb\\.wdm\\drivers\\chromedriver\\win32\\95.0.4638.17\\chromedriver.exe] found in cache\n"
     ]
    },
    {
     "name": "stdout",
     "output_type": "stream",
     "text": [
      "Mozilla/5.0 (X11; CrOS i686 3912.101.0) AppleWebKit/537.36 (KHTML, like Gecko) Chrome/27.0.1453.116 Safari/537.36\n"
     ]
    },
    {
     "name": "stderr",
     "output_type": "stream",
     "text": [
      "\n",
      "\n",
      "====== WebDriver manager ======\n",
      "Current google-chrome version is 95.0.4638\n",
      "Get LATEST driver version for 95.0.4638\n",
      "Driver [C:\\Users\\keunb\\.wdm\\drivers\\chromedriver\\win32\\95.0.4638.17\\chromedriver.exe] found in cache\n"
     ]
    },
    {
     "name": "stdout",
     "output_type": "stream",
     "text": [
      "Mozilla/5.0 (Windows NT 6.1; WOW64) AppleWebKit/537.36 (KHTML, like Gecko) Chrome/36.0.1985.67 Safari/537.36\n"
     ]
    },
    {
     "name": "stderr",
     "output_type": "stream",
     "text": [
      "\n",
      "\n",
      "====== WebDriver manager ======\n",
      "Current google-chrome version is 95.0.4638\n",
      "Get LATEST driver version for 95.0.4638\n",
      "Driver [C:\\Users\\keunb\\.wdm\\drivers\\chromedriver\\win32\\95.0.4638.17\\chromedriver.exe] found in cache\n"
     ]
    },
    {
     "name": "stdout",
     "output_type": "stream",
     "text": [
      "Mozilla/5.0 (Windows NT 5.1) AppleWebKit/537.36 (KHTML, like Gecko) Chrome/35.0.2117.157 Safari/537.36\n"
     ]
    },
    {
     "name": "stderr",
     "output_type": "stream",
     "text": [
      "\n",
      "\n",
      "====== WebDriver manager ======\n",
      "Current google-chrome version is 95.0.4638\n",
      "Get LATEST driver version for 95.0.4638\n",
      "Driver [C:\\Users\\keunb\\.wdm\\drivers\\chromedriver\\win32\\95.0.4638.17\\chromedriver.exe] found in cache\n"
     ]
    },
    {
     "name": "stdout",
     "output_type": "stream",
     "text": [
      "Mozilla/5.0 (X11; Linux x86_64) AppleWebKit/537.36 (KHTML, like Gecko) Chrome/34.0.1847.137 Safari/4E423F\n"
     ]
    },
    {
     "name": "stderr",
     "output_type": "stream",
     "text": [
      "\n",
      "\n",
      "====== WebDriver manager ======\n",
      "Current google-chrome version is 95.0.4638\n",
      "Get LATEST driver version for 95.0.4638\n",
      "Driver [C:\\Users\\keunb\\.wdm\\drivers\\chromedriver\\win32\\95.0.4638.17\\chromedriver.exe] found in cache\n"
     ]
    },
    {
     "name": "stdout",
     "output_type": "stream",
     "text": [
      "\n"
     ]
    }
   ],
   "source": [
    "for brd_id in tqdm(brd_id_lst):\n",
    "\n",
    "    prd_id_lst = []\n",
    "    \n",
    "    options = Options()\n",
    "    ua = UserAgent()\n",
    "    userAgent = ua.random\n",
    "    print(userAgent)\n",
    "\n",
    "    options.add_argument('headless')\n",
    "    options.add_argument('window-size=1920x1080')\n",
    "    options.add_argument(\"disable-gpu\")\n",
    "    options.add_argument(f'user-agent={userAgent}')\n",
    "    wd = webdriver.Chrome(ChromeDriverManager().install(), chrome_options=options)\n",
    "\n",
    "    socket.setdefaulttimeout(30)\n",
    "\n",
    "    try:\n",
    "        wd.get('http://www.ssg.com/disp/brandShop.ssg?brandId={}'.format(brd_id))\n",
    "        time.sleep(3)\n",
    "\n",
    "        html = wd.page_source\n",
    "        soup = BeautifulSoup(html, \"html.parser\")\n",
    "\n",
    "        try:\n",
    "            last_page_num = int(re.findall('changePage\\((\\d*?)\\)', str(soup.find(\"a\", {\"class\": \"btn_last on\"})))[0])\n",
    "        except:\n",
    "            last_page_num = 1\n",
    "\n",
    "        for page in range(1, last_page_num+1):\n",
    "            wd.get('http://www.ssg.com/disp/brandShop.ssg?brandId={}&page={}'.format(brd_id, page))\n",
    "            time.sleep(3)\n",
    "            html = wd.page_source\n",
    "            soup = BeautifulSoup(html, \"html.parser\")\n",
    "            \n",
    "            cunit_t290 = soup.find_all(\"li\", {\"class\": \"cunit_t290\"})\n",
    "            \n",
    "            if cunit_t290 != []:\n",
    "                for i in cunit_t290:\n",
    "                    prd_clickable = i.find_all(\"div\", {\"class\": \"title\"})\n",
    "                    prd_id_lst.append(int(re.findall('data-info=\"(\\d*?)\"', str(prd_clickable))[0]))\n",
    "\n",
    "        brd_w_prd[brd_id] = prd_id_lst\n",
    "        \n",
    "    except Exception as e:\n",
    "        exception.append(brd_id)\n",
    "        print(\"에러가 발생했습니다.\")\n",
    "        print(brd_id, \": \", e)\n",
    "        pass"
   ]
  },
  {
   "cell_type": "code",
   "execution_count": 12,
   "id": "regional-jurisdiction",
   "metadata": {},
   "outputs": [],
   "source": [
    "def scrap_product_comments(soup):\n",
    "    try:\n",
    "        #comments\n",
    "        comment_list_area = BeautifulSoup(str(soup.find_all(\"div\", {\"id\": \"comment_list_area\"})), \"html.parser\")\n",
    "        comment_total_cnt = int(comment_list_area.find(\"em\", {\"id\": \"gCommentTotalCnt\"}).text.replace(',', ''))\n",
    "        \n",
    "\n",
    "        comment_table_area = BeautifulSoup(str(soup.find_all(\"table\", {\"summary\": \"전체 상품평 보여주는 표\"})), \"html.parser\")\n",
    "\n",
    "        ratings = BeautifulSoup(str(comment_table_area.find_all(\"span\", {\"class\": \"sp_cdtl cdtl_cmt_star\"})), \"html.parser\")\n",
    "        rating = [x.text for x in ratings.find_all(\"em\")]\n",
    "\n",
    "        users = BeautifulSoup(str(comment_table_area.find_all(\"td\", {\"class\": \"user\"})), \"html.parser\")\n",
    "        user = [x.text.strip() for x in users.find_all(\"div\", {\"class\":\"in\"})]\n",
    "\n",
    "        dates = BeautifulSoup(str(comment_table_area.find_all(\"td\", {\"class\": \"date\"})), \"html.parser\")\n",
    "        date = [x.text.strip() for x in dates.find_all(\"div\", {\"class\":\"in\"})]\n",
    "\n",
    "        comment_row = BeautifulSoup(str(comment_table_area.find_all(\"td\", {\"class\": \"desc_txt\"})), \"html.parser\")\n",
    "        review_typ_month = [x.find_all(\"span\", {\"class\": \"review_typ typ_month\"}) for x in comment_row.find_all(\"td\", {\"class\": \"desc_txt\"})]\n",
    "        for i in range(len(review_typ_month)):\n",
    "            if review_typ_month[i] != []:\n",
    "                review_typ_month[i] = '한달사용리뷰'\n",
    "            else:\n",
    "                review_typ_month[i] = None\n",
    "\n",
    "        cdtl_cmt_tx2 = BeautifulSoup(str(comment_row.find_all(\"div\", {\"class\": \"cdtl_cmt_tx2\"})), \"html.parser\")\n",
    "        purchase_option = [x.find_all(\"div\", {\"class\": \"cdtl_cmt_tx2\"}) for x in comment_row.find_all(\"td\", {\"class\": \"desc_txt\"})]\n",
    "\n",
    "        for i in range(len(purchase_option)):\n",
    "            if purchase_option[i] != []:\n",
    "                purchase_option[i] = cdtl_cmt_tx2.find_all(\"div\")[i].text\n",
    "            else:\n",
    "                purchase_option[i] = None\n",
    "\n",
    "        comment_view = BeautifulSoup(str(comment_table_area.find_all(\"tr\", {\"class\": \"cdtl_cmt_view\"})), \"html.parser\")\n",
    "\n",
    "        review_eval = BeautifulSoup(str(comment_view.find_all(\"ul\", {\"class\":\"review_eval\"})), \"html.parser\")\n",
    "        evaluation_item = []\n",
    "        evaluation = []\n",
    "\n",
    "        for i in range(len(review_eval.find_all(\"ul\"))):\n",
    "            evaluation_item.append([x.text for x in review_eval.find_all(\"ul\")[i].find_all(\"h5\")]) #고객평가항목\n",
    "            evaluation.append([x.text for x in review_eval.find_all(\"ul\")[i].find_all(\"span\")]) #고객평가항목평가\n",
    "\n",
    "        comment_desc = [x.text.replace('\\n', '') for x in comment_view.find_all(\"div\", {\"class\": \"desc\"})]\n",
    "\n",
    "        return rating, user, date, review_typ_month, evaluation_item, evaluation, comment_desc, purchase_option\n",
    "    \n",
    "    except:\n",
    "        rating = None\n",
    "        user = None\n",
    "        date = None\n",
    "        review_typ_month = None\n",
    "        evaluation_item = None\n",
    "        evaluation = None\n",
    "        comment_desc = None\n",
    "        purchase_option = None\n",
    "        \n",
    "        return rating, user, date, review_typ_month, evaluation_item, evaluation, comment_desc, purchase_option\n",
    "\n",
    "def current_comment_navi_area(soup):\n",
    "    return soup.find(\"div\", {\"id\": \"comment_navi_area\"})"
   ]
  },
  {
   "cell_type": "code",
   "execution_count": 13,
   "id": "coupled-divorce",
   "metadata": {
    "tags": []
   },
   "outputs": [],
   "source": [
    "def scrap_ssg_product_info(brand_id, product_id):\n",
    "    options = Options()\n",
    "    ua = UserAgent()\n",
    "    userAgent = ua.random\n",
    "    print(userAgent)\n",
    "\n",
    "    options.add_argument('headless')\n",
    "    options.add_argument('window-size=1920x1080')\n",
    "    options.add_argument(\"disable-gpu\")\n",
    "    options.add_argument(f'user-agent={userAgent}')\n",
    "    wd = webdriver.Chrome(ChromeDriverManager().install(), chrome_options=options)\n",
    "\n",
    "    socket.setdefaulttimeout(30)\n",
    "    \n",
    "    while True:\n",
    "        \n",
    "        try:\n",
    "            wd.get('http://www.ssg.com/item/itemView.ssg?itemId={}'.format(product_id))\n",
    "            wd.maximize_window()\n",
    "            time.sleep(2)\n",
    "\n",
    "            html = wd.page_source\n",
    "            soup = BeautifulSoup(html, \"html.parser\")\n",
    "\n",
    "\n",
    "            #product name\n",
    "            prd_name = soup.find(\"h2\", {\"class\": \"cdtl_info_tit\"}).text\n",
    "            prd_price = soup.find(\"em\", {\"class\": \"ssg_price\"}).text\n",
    "\n",
    "            try:\n",
    "                model_num = soup.find(\"p\", {\"class\": \"cdtl_model_num\"}).text.split(': ')[-1]\n",
    "            except:\n",
    "                model_num = None\n",
    "\n",
    "            #상품 필수 정보\n",
    "            cdtl_cont_info = BeautifulSoup(str(soup.find_all(\"table\", {\"summary\": \"상품 필수정보 보여주는 표\"})), \"html.parser\") \n",
    "            product__essential_info_items = [x.text for x in cdtl_cont_info.find_all(\"th\", {\"scope\": \"row\"})]\n",
    "            product__essential_info = [x.text for x in cdtl_cont_info.find_all(\"td\")]\n",
    "\n",
    "        #     prd_size = cdtl_cont_info.find_all(\"td\")[0].text\n",
    "        #     prd_specification = cdtl_cont_info.find_all(\"td\")[1].text\n",
    "        #     prd_date_of_use = cdtl_cont_info.find_all(\"td\")[2].text\n",
    "        #     prd_how_to_use = cdtl_cont_info.find_all(\"td\")[3].text\n",
    "        #     prd_manufacturer = cdtl_cont_info.find_all(\"td\")[4].text\n",
    "        #     prd_ingredients = cdtl_cont_info.find_all(\"td\")[5].text\n",
    "        #     prd_examination = cdtl_cont_info.find_all(\"td\")[6].text\n",
    "        #     prd_caution = cdtl_cont_info.find_all(\"td\")[7].text\n",
    "        #     prd_quality_assurance_standards = cdtl_cont_info.find_all(\"td\")[8].text\n",
    "        #     prd_consumer_consulting_number = cdtl_cont_info.find_all(\"td\")[9].text\n",
    "        #     prd_manufacture_country = cdtl_cont_info.find_all(\"td\")[10].text\n",
    "\n",
    "            #상품 옵션\n",
    "            try:\n",
    "                opt = BeautifulSoup(str(soup.find_all(\"div\", {\"id\": \"_ordOpt_area\"})), \"html.parser\")\n",
    "                opt_lst = BeautifulSoup(str(opt.find_all(\"ul\", {\"class\", \"cdtl_select_lst _drop_list\"})), \"html.parser\")\n",
    "                options = [x.text for x in opt_lst.find_all(\"span\", {\"class\": \"txt\"})]  \n",
    "            except:\n",
    "                options = None\n",
    "\n",
    "            #category\n",
    "            try:\n",
    "                location = BeautifulSoup(str(soup.find_all(\"div\", {\"id\": \"location\"})), \"html.parser\")\n",
    "                category = [x.text for x in location.find_all(\"a\", {\"class\": \"lo_arr\"})]\n",
    "            except:\n",
    "                category = None\n",
    "\n",
    "            comment_navi_area = current_comment_navi_area(soup)\n",
    "\n",
    "            try:\n",
    "                if comment_navi_area.find(\"a\", {\"class\": \"btn_last\"}):\n",
    "                    last_comment_page_num = int(re.findall(\"fn_GoCommentPage\\('(\\d*?)\\\\'\\).*?\", str(comment_navi_area.find(\"a\", {\"class\": \"btn_last\"})))[0])\n",
    "                else:\n",
    "                    last_comment_page_num = int(comment_navi_area.find_all(\"a\")[-1].text)\n",
    "            except:\n",
    "                last_comment_page_num = 1\n",
    "\n",
    "            #first comment page scraping\n",
    "            rating, user, review_date, review_typ_month, evaluation_item, evaluation, comment_desc, user_purchase_option = scrap_product_comments(soup)\n",
    "            #print(\"first page: \", number)\n",
    "\n",
    "\n",
    "            for i in range(last_comment_page_num-1):\n",
    "\n",
    "                prev_btn_cnt = len(re.findall('onclick=\"fn_GoCommentPage', str(comment_navi_area).split('<strong title=\"현재위치\"')[0]))\n",
    "                wd.find_element_by_xpath(\"/html/body/div[4]/div[6]/div/div[2]/div[6]/div[1]/div/div[2]/div[2]/div[2]/div[4]/div[3]/a[{}]\".format(prev_btn_cnt+1)).click()\n",
    "                time.sleep(5)\n",
    "\n",
    "                html = wd.page_source\n",
    "                time.sleep(3)\n",
    "                soup = BeautifulSoup(html, \"html.parser\")\n",
    "                comment_navi_area = BeautifulSoup(str(soup.find(\"div\", {\"id\": \"comment_navi_area\"})), \"html.parser\")\n",
    "\n",
    "                rating_add, user_add, review_date_add, review_typ_month_add, evaluation_item_add, evaluation_add, comment_desc_add, user_purchase_option_add = scrap_product_comments(soup)\n",
    "\n",
    "                rating = rating + rating_add\n",
    "                user = user + user_add\n",
    "                review_date = review_date + review_date_add\n",
    "                review_typ_month = review_typ_month + review_typ_month_add\n",
    "                evaluation_item = evaluation_item + evaluation_item_add\n",
    "                evaluation = evaluation + evaluation_add\n",
    "                comment_desc = comment_desc + comment_desc_add  \n",
    "                user_purchase_option = user_purchase_option + user_purchase_option_add\n",
    "\n",
    "            wd.close\n",
    "\n",
    "            prd_info = {\n",
    "                \"brand_id\": brand_id,\n",
    "                \"brand_name\": None,\n",
    "                \"product_id\": product_id,\n",
    "                \"product_name\": prd_name,\n",
    "                \"product_price\": prd_price,\n",
    "                \"model_number\": model_num,\n",
    "                \"product__essential_info_items\": product__essential_info_items,\n",
    "                \"product__essential_info\": product__essential_info,\n",
    "                \"option\": options,\n",
    "                \"category\": category,\n",
    "                'rating': rating,\n",
    "                'user': user,\n",
    "                'review_date': review_date,\n",
    "                'review_typ_month': review_typ_month,\n",
    "                'evaluation_item': evaluation_item,\n",
    "                'evaluation': evaluation,\n",
    "                'comment_desc': comment_desc,\n",
    "                'user_purchase_option': user_purchase_option\n",
    "            }\n",
    "\n",
    "            return prd_info\n",
    "\n",
    "        except urllib3.exceptions.ReadTimeoutError:\n",
    "            time.sleep(5)\n",
    "\n",
    "        except:\n",
    "            prd_info = {\n",
    "                \"brand_id\": brand_id,\n",
    "                \"brand_name\": None,\n",
    "                \"product_id\": product_id,\n",
    "                \"product_name\": None,\n",
    "                \"product_price\": None,\n",
    "                \"model_number\": None,\n",
    "                \"product__essential_info_items\": None,\n",
    "                \"product__essential_info\": None,\n",
    "                \"option\": None,\n",
    "                \"category\": category,\n",
    "                'rating': None,\n",
    "                'user': None,\n",
    "                'review_date': None,\n",
    "                'review_typ_month': None,\n",
    "                'evaluation_item': None,\n",
    "                'evaluation': None,\n",
    "                'comment_desc': None,\n",
    "                'user_purchase_option': None\n",
    "            }        \n",
    "            print(\"에러가 발생했습니다.\")\n",
    "            return prd_info"
   ]
  },
  {
   "cell_type": "code",
   "execution_count": 14,
   "id": "delayed-horizontal",
   "metadata": {},
   "outputs": [],
   "source": [
    "ssg_prd_info = pd.DataFrame(columns = ['brand_id',\n",
    "                                      'brand_name', \n",
    "                                      'product_id',\n",
    "                                      'product_name',\n",
    "                                      'product_price',\n",
    "                                      'model_number',\n",
    "                                        'product__essential_info_items',\n",
    "                                        'product__essential_info',\n",
    "                                       'option',\n",
    "                                       'category',\n",
    "                                      'rating',\n",
    "                                      'user',\n",
    "                                      'review_date',\n",
    "                                      'review_typ_month',\n",
    "                                      'evaluation_item',\n",
    "                                      'evaluation',\n",
    "                                      'comment_desc',\n",
    "                                      'user_purchase_option'])"
   ]
  },
  {
   "cell_type": "code",
   "execution_count": null,
   "id": "every-shock",
   "metadata": {
    "tags": []
   },
   "outputs": [
    {
     "data": {
      "application/vnd.jupyter.widget-view+json": {
       "model_id": "b8ee6d85b145436c8d59f3e1b08921bb",
       "version_major": 2,
       "version_minor": 0
      },
      "text/plain": [
       "HBox(children=(IntProgress(value=0, max=19), HTML(value='')))"
      ]
     },
     "metadata": {},
     "output_type": "display_data"
    },
    {
     "data": {
      "application/vnd.jupyter.widget-view+json": {
       "model_id": "6e9f868d18544771a2d70cc06fe90dbc",
       "version_major": 2,
       "version_minor": 0
      },
      "text/plain": [
       "HBox(children=(IntProgress(value=0, max=49), HTML(value='')))"
      ]
     },
     "metadata": {},
     "output_type": "display_data"
    },
    {
     "name": "stdout",
     "output_type": "stream",
     "text": [
      "Mozilla/5.0 (X11; CrOS i686 3912.101.0) AppleWebKit/537.36 (KHTML, like Gecko) Chrome/27.0.1453.116 Safari/537.36\n"
     ]
    },
    {
     "name": "stderr",
     "output_type": "stream",
     "text": [
      "\n",
      "\n",
      "====== WebDriver manager ======\n",
      "Current google-chrome version is 95.0.4638\n",
      "Get LATEST driver version for 95.0.4638\n",
      "Driver [C:\\Users\\keunb\\.wdm\\drivers\\chromedriver\\win32\\95.0.4638.17\\chromedriver.exe] found in cache\n"
     ]
    },
    {
     "name": "stdout",
     "output_type": "stream",
     "text": [
      "Mozilla/5.0 (Windows NT 6.2; WOW64) AppleWebKit/537.36 (KHTML, like Gecko) Chrome/29.0.1547.2 Safari/537.36\n"
     ]
    },
    {
     "name": "stderr",
     "output_type": "stream",
     "text": [
      "\n",
      "\n",
      "====== WebDriver manager ======\n",
      "Current google-chrome version is 95.0.4638\n",
      "Get LATEST driver version for 95.0.4638\n",
      "Driver [C:\\Users\\keunb\\.wdm\\drivers\\chromedriver\\win32\\95.0.4638.17\\chromedriver.exe] found in cache\n"
     ]
    },
    {
     "name": "stdout",
     "output_type": "stream",
     "text": [
      "Mozilla/5.0 (Windows NT 6.1; WOW64; rv:21.0) Gecko/20100101 Firefox/21.0\n"
     ]
    },
    {
     "name": "stderr",
     "output_type": "stream",
     "text": [
      "\n",
      "\n",
      "====== WebDriver manager ======\n",
      "Current google-chrome version is 95.0.4638\n",
      "Get LATEST driver version for 95.0.4638\n",
      "Driver [C:\\Users\\keunb\\.wdm\\drivers\\chromedriver\\win32\\95.0.4638.17\\chromedriver.exe] found in cache\n"
     ]
    }
   ],
   "source": [
    "idx = 0\n",
    "for brd_id in tqdm(brd_w_prd.keys()):\n",
    "    for prd_id in tqdm(brd_w_prd[brd_id]):\n",
    "        prd_info = scrap_ssg_product_info(brd_id, prd_id)\n",
    "        ssg_prd_info.loc[idx] = prd_info\n",
    "        idx += 1"
   ]
  }
 ],
 "metadata": {
  "kernelspec": {
   "display_name": "Python 3",
   "language": "python",
   "name": "python3"
  },
  "language_info": {
   "codemirror_mode": {
    "name": "ipython",
    "version": 3
   },
   "file_extension": ".py",
   "mimetype": "text/x-python",
   "name": "python",
   "nbconvert_exporter": "python",
   "pygments_lexer": "ipython3",
   "version": "3.7.3"
  }
 },
 "nbformat": 4,
 "nbformat_minor": 5
}
