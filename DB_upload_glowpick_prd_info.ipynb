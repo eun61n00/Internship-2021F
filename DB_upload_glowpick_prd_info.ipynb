{
 "cells": [
  {
   "cell_type": "code",
   "execution_count": null,
   "id": "d2364348-bdbe-453a-9eae-51acca8646c9",
   "metadata": {},
   "outputs": [],
   "source": [
    "import pandas as pd\n",
    "import eval\n",
    "from tqdm.auto import tqdm"
   ]
  },
  {
   "cell_type": "markdown",
   "id": "c69ec5eb-2f55-4c06-a739-15a335baa845",
   "metadata": {},
   "source": [
    "---\n",
    "csv 파일 불러오기"
   ]
  },
  {
   "cell_type": "code",
   "execution_count": null,
   "id": "312dfadf-cd7c-4c46-86fd-cc21a64fede3",
   "metadata": {},
   "outputs": [],
   "source": [
    "fnl_df_glowpick_prd_info = pd.read_csv(\"fnl_df_glowpick_prd_info_w_review.csv\")\n",
    "fnl_df_glowpick_prd_info = fnl_df_glowpick_prd_info.iloc[:, 1:]"
   ]
  },
  {
   "cell_type": "code",
   "execution_count": null,
   "id": "dc0e40ac-23d3-4b02-a20f-33dcafe2f983",
   "metadata": {},
   "outputs": [],
   "source": [
    "fnl_df_brd_w_prd = pd.read_csv(\"fnl_df_brd_w_prd.csv\")\n",
    "fnl_df_brd_w_prd = fnl_df_brd_w_prd.iloc[:, 1:]\n",
    "\n",
    "for i in fnl_df_brd_w_prd.index:\n",
    "    fnl_df_brd_w_prd.at[i, 'product_name'] = eval(fnl_df_brd_w_prd.loc[i, 'product_name'])\n",
    "    fnl_df_brd_w_prd.at[i, 'product_link'] = eval(fnl_df_brd_w_prd.loc[i, 'product_link'])"
   ]
  },
  {
   "cell_type": "code",
   "execution_count": null,
   "id": "18f73c13-6b72-42e5-8dca-d1e4e7215a45",
   "metadata": {},
   "outputs": [],
   "source": [
    "df_glowpick_prd = pd.read_csv(\"df_glowpick_prd.csv\")\n",
    "df_glowpick_prd = df_glowpick_prd.iloc[:, 1:]\n",
    "\n",
    "df_glowpick_prd.columns = ['브랜드명_fix', '제품 id', '제품명_fix'] #구분을 위해 컬럼명 변경"
   ]
  },
  {
   "cell_type": "markdown",
   "id": "6d8fab5e-0a97-4313-916c-6fce8e1ef2fe",
   "metadata": {},
   "source": [
    "---\n",
    "DB 업로드를 위한 전처리, 정렬"
   ]
  },
  {
   "cell_type": "code",
   "execution_count": null,
   "id": "e13db588-2b64-470f-983f-6b160897c02e",
   "metadata": {},
   "outputs": [],
   "source": [
    "#브랜드 id와 브랜드 link값 채우기\n",
    "\n",
    "for idx in tqdm(list(fnl_df_glowpick_prd_info.index)[:30000]):\n",
    "    brd_name = fnl_df_glowpick_prd_info.loc[idx, '브랜드명']\n",
    "    \n",
    "    try:\n",
    "        fnl_df_glowpick_prd_info.loc[idx, '브랜드 link'] = fnl_df_brd_w_prd.loc[fnl_df_brd_w_prd['brand_name'] == brd_name, 'brand_code']\n",
    "    \n",
    "    #브랜드명이 중복인 경우\n",
    "    except ValueError:\n",
    "        for i in list(fnl_df_brd_w_prd.index):\n",
    "            if fnl_df_glowpick_prd_info.loc[idx, '제품 link'] in fnl_df_brd_w_prd.loc[i, 'product_link']:\n",
    "                fnl_df_glowpick_prd_info.loc[idx, '브랜드 link'] = fnl_df_brd_w_prd.loc[i, 'brand_code']"
   ]
  },
  {
   "cell_type": "code",
   "execution_count": null,
   "id": "93cef696-e34b-4a44-a8d5-34863b660a86",
   "metadata": {},
   "outputs": [],
   "source": [
    "#bridge table의 제품 정렬 순서로 sorting\n",
    "df_glowpick_prd_sort = pd.merge(df_glowpick_prd, fnl_df_glowpick_prd_info, how='inner', on='제품 id')\n",
    "\n",
    "#브릿지 테이블에서 픽스된 정확한 브랜드명과 제품명을 사용하기 위해 재매핑\n",
    "df_glowpick_prd_sort = df_glowpick_prd_sort.drop(['브랜드명'], axis = 'columns') #크롤링한 브랜드명 삭제\n",
    "df_glowpick_prd_sort = df_glowpick_prd_sort.drop(['제품명'], axis = 'columns') #크롤링한 제품명 삭제\n",
    "\n",
    "df_glowpick_prd_sort = df_glowpick_prd_sort.rename({'브랜드명_fix': '브랜드명'}, axis = 'columns') #브릿지 테이블에서 픽스된 브랜드명 사용\n",
    "df_glowpick_prd_sort = df_glowpick_prd_sort.rename({'제품명_fix': '제품명'}, axis = 'columns') #브릿지 테이블에서 픽스된 제품명 사용"
   ]
  },
  {
   "cell_type": "code",
   "execution_count": null,
   "id": "83c17786-4fd1-49a9-83f0-6b91a53b9ab9",
   "metadata": {},
   "outputs": [],
   "source": [
    "df_glowpick_prd_sort = df_glowpick_prd_sort[columns] #컬럼 순서 변경"
   ]
  },
  {
   "cell_type": "code",
   "execution_count": null,
   "id": "4921c495-a6b9-4444-b144-9b840aaf98a6",
   "metadata": {},
   "outputs": [],
   "source": [
    "#db에 올릴 테이블은 이미지 src 삭제\n",
    "df_glowpick_prd_sort_drop_img_src = df_glowpick_prd_sort.drop('img_src')\n",
    "df_glowpick_prd_sort_drop_img_src = df_glowpick_prd_sort_drop_img_src.reset_index(drop=True)\n",
    "df_glowpick_prd_sort_drop_img_src.to_csv(\"fnl_df_glowpick_prd_info.csv\")\n",
    "\n",
    "df_glowpick_prd_sort = df_glowpick_prd_sort.reset_index(drop=True)\n",
    "df_glowpick_prd_sort.to_csv(\"fnl_df_glowpick_prd_info_w_img_src.csv\")"
   ]
  },
  {
   "cell_type": "markdown",
   "id": "a12916c5-9249-48f2-99c8-a665ac3b1da5",
   "metadata": {},
   "source": [
    "---\n",
    "create tabel"
   ]
  },
  {
   "cell_type": "raw",
   "id": "5b878974-b5b6-4972-9379-f3b8154c2f0a",
   "metadata": {},
   "source": [
    "CREATE TABLE `glowpick_product_info` (\n",
    "  `브랜드_link` text,\n",
    "  `브랜드명` text,\n",
    "  `브랜드_id` int(50) DEFAULT NULL,\n",
    "  `제품_link` text,\n",
    "  `제품_id` int(50) DEFAULT NULL,\n",
    "  `제품명` text,\n",
    "  `제품 용량` text,\n",
    "  `제품 가격` text,\n",
    "  `유사 제품군 랭킹(int)` int(11) DEFAULT NULL,\n",
    "  `유사 제품군 랭킹(text)` text,\n",
    "  `브랜드 내 랭킹(int)` int(11) DEFAULT NULL,\n",
    "  `제품 수상명` text,\n",
    "  `제품 수상부분` text,\n",
    "  `제품 수상순위` int(11) DEFAULT NULL,\n",
    "  `제품 설명` text,\n",
    "  `제품 컬러/타입` text,\n",
    "  `제품 판매처` text,\n",
    "  `제품 성분 구성 : 위험도 미정(갯수)` int(11) DEFAULT NULL,\n",
    "  `제품 성분 구성 : 위험도 미정 (성분(한글))` text,\n",
    "  `제품 성분 구성 : 위험도 미정 (성분(영어))` text,\n",
    "  `제품 성분 구성 : 위험도 미정 (성분(설명))` text,\n",
    "  `제품 성분 구성 : 낮은 위험도(갯수)` int(11) DEFAULT NULL,\n",
    "  `제품 성분 구성 : 낮은 위험도 (성분(한글))` text,\n",
    "  `제품 성분 구성 : 낮은 위험도 (성분(영어))` text,\n",
    "  `제품 성분 구성 : 낮은 위험도 (성분(설명))` text,\n",
    "  `제품 성분 구성 : 중간 위험도(갯수)` int(11) DEFAULT NULL,\n",
    "  `제품 성분 구성 : 중간 위험도 (성분(한글))` text,\n",
    "  `제품 성분 구성 : 중간 위험도 (성분(영어))` text,\n",
    "  `제품 성분 구성 : 중간 위험도 (성분(설명))` text,\n",
    "  `제품 성분 구성 : 높은 위험도(갯수)` int(11) DEFAULT NULL,\n",
    "  `제품 성분 구성 : 높은 위험도 (성분(한글))` text,\n",
    "  `제품 성분 구성 : 높은 위험도 (성분(영어))` text,\n",
    "  `제품 성분 구성 : 높은 위험도 (성분(설명))` text,\n",
    "  `제품 카테고리` text,\n",
    "  `리뷰` text,\n",
    "  `별점` int,\n",
    "  `리뷰 일자` text,\n",
    "  `사용자 리뷰 개수` text,\n",
    "  `사용자 나이` int,\n",
    "  `사용자 성별` text,\n",
    "  `사용자 이름` text\n",
    ") ENGINE=InnoDB DEFAULT CHARSET=utf8;"
   ]
  },
  {
   "cell_type": "markdown",
   "id": "a74219be-14b9-4389-850c-a08a73b50be3",
   "metadata": {},
   "source": [
    "---\n",
    "DB upload"
   ]
  },
  {
   "cell_type": "code",
   "execution_count": null,
   "id": "7e470bb3-b2fb-49df-bf8c-ab9f7c9d230b",
   "metadata": {},
   "outputs": [],
   "source": [
    "import pymysql\n",
    "from sqlalchemy import create_engine"
   ]
  },
  {
   "cell_type": "code",
   "execution_count": null,
   "id": "491cc72f-3499-4e28-b27b-75660080842f",
   "metadata": {},
   "outputs": [],
   "source": [
    "def db_connection(host_name='host_name'):\n",
    "    host_url = \"host_url\"\n",
    "    user_nm = \"id # 아이디 입력\n",
    "    passwd = \"pw\" # 패스워드 입력\n",
    "    port_num = 0\n",
    "    db_name = \"db_name\"\n",
    "    conn = pymysql.connect(host=host_url, user=user_nm, passwd=passwd, port=port_num, charset='utf8', cursorclass=pymysql.cursors.DictCursor) # cursorclass=pymysql.cursors.DictCursor 추가     # db=db,\n",
    "    return conn\n",
    "\n",
    "\n",
    "def engine_upload(upload_df: object, host_name: object = 'ds', db_name: object = 'beauty_kr', table_name: object = 'ranking') -> object:\n",
    "    host_url = \"host_url\"\n",
    "    user_nm = \"id\" # 아이디 입력\n",
    "    passwd = \"pw\"  # 패스워드 입력\n",
    "    port_num = 0\n",
    "    db_name = \"db_name\"\n",
    "    engine = create_engine(f'mysql+pymysql://{user_nm}:{passwd}@{host_url}:{port_num}/{db_name}?charset=utf8mb4')\n",
    "    engine_conn = engine.connect()\n",
    "    upload_df.to_sql(table_name, engine_conn, if_exists='append', index=None)\n",
    "    engine_conn.close()\n",
    "    engine.dispose()"
   ]
  },
  {
   "cell_type": "code",
   "execution_count": null,
   "id": "aa9fad32-d849-4bed-9ef8-d62f694f7532",
   "metadata": {},
   "outputs": [],
   "source": [
    "engine_upload(host_name='ds', db_name='beauty_kr', table_name=f'glowpick_product_info', upload_df=fnl_df_glowpick_prd_info) \n",
    "# 필요한 스키마명, 테이블명만 변경해서 사용 "
   ]
  }
 ],
 "metadata": {
  "kernelspec": {
   "display_name": "Python 3 (ipykernel)",
   "language": "python",
   "name": "python3"
  },
  "language_info": {
   "codemirror_mode": {
    "name": "ipython",
    "version": 3
   },
   "file_extension": ".py",
   "mimetype": "text/x-python",
   "name": "python",
   "nbconvert_exporter": "python",
   "pygments_lexer": "ipython3",
   "version": "3.8.11"
  }
 },
 "nbformat": 4,
 "nbformat_minor": 5
}
